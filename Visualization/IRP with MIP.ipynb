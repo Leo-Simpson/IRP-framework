{
 "cells": [
  {
   "cell_type": "code",
   "execution_count": 14,
   "metadata": {},
   "outputs": [],
   "source": [
    "## only do it the first time (by removing the #)\n",
    "#import sys\n",
    "#!{sys.executable} -m pip install plotly\n",
    "#!{sys.executable} -m pip install cvxpy"
   ]
  },
  {
   "cell_type": "code",
   "execution_count": 15,
   "metadata": {},
   "outputs": [],
   "source": [
    "import plotly.graph_objects as go \n",
    "from plotly import offline\n",
    "import numpy as np\n",
    "import cvxpy as cp\n",
    "from time import time\n",
    "from copy import copy, deepcopy\n",
    "import pandas as pd\n",
    "COLORS = {\"school\" : \"green\", \"warehouse\": \"blue\", \"central\":\"red\",\"road\":\"grey\"}\n",
    "SIZES = {\"school\" : 30, \"warehouse\": 40,\"central\": 50}\n",
    "TITLE = 'WFP Inventory problem'"
   ]
  },
  {
   "cell_type": "markdown",
   "metadata": {},
   "source": [
    "# Defining framework "
   ]
  },
  {
   "cell_type": "markdown",
   "metadata": {},
   "source": [
    "Here we define the framework for visualization, then another function will solve the problem, and give us the decision variables $x_{mk}^t$ (how much food is delivered to school $m$ during tour $k$ at time $t$) and $y_k^t$ (boolean to know if the tour $k$ should be done at time $t$)"
   ]
  },
  {
   "cell_type": "code",
   "execution_count": 16,
   "metadata": {
    "code_folding": [
     0,
     14,
     28,
     31,
     48,
     49,
     54,
     57,
     66,
     69,
     79,
     91,
     108
    ]
   },
   "outputs": [],
   "source": [
    "class School :\n",
    "    def __init__(self, position, capacity,consumption,name):\n",
    "        self.name = name\n",
    "        self.pos = position\n",
    "        self.C = capacity\n",
    "        self.inventory = capacity\n",
    "        self.q = consumption\n",
    "\n",
    "    def eat(self):\n",
    "        self.inventory -= self.q\n",
    "        \n",
    "    def receive(self,x):\n",
    "        self.inventory += x\n",
    "        \n",
    "class Warehouse : \n",
    "    def __init__(self, position, capacity,name):\n",
    "        self.name = name\n",
    "        self.pos = position\n",
    "        self.C = capacity\n",
    "        self.inventory = capacity\n",
    "        self.pickup_cost = 0\n",
    "\n",
    "    def deliver(self, quantity):\n",
    "        self.inventory -= quantity\n",
    "        \n",
    "    def receive(self,quantity):\n",
    "        self.inventory += quantity\n",
    "        \n",
    "    def compute_pickup_cost(self,central):\n",
    "        self.pickup_cost = round( 2*np.sqrt( (self.pos[0]-central[0])**2 + (self.pos[1]-central[1])**2) )\n",
    "    \n",
    "    def make_arrow(self,central):\n",
    "        \n",
    "        x1 = central[0]\n",
    "        y1 = central[1]\n",
    "        x2 = self.pos[0]\n",
    "        y2 = self.pos[1]\n",
    "        \n",
    "        text = \"cost = \" + str(round(self.pickup_cost,2))\n",
    "\n",
    "        return go.Scatter(x=[(7*x1+x2)/8,(x1+7*x2)/8],\n",
    "                y=[(7*y1+y2)/8,(y1+7*y2)/8],\n",
    "                line= dict(color=COLORS[\"road\"]),\n",
    "                text = [text,text],\n",
    "                hoverinfo='text',\n",
    "                visible = False\n",
    "                    )\n",
    "\n",
    "class Route : \n",
    "    def __init__(self, warehouse, SCHOOLS):\n",
    "        self.w = warehouse\n",
    "        self.S = SCHOOLS\n",
    "        self.Mk = len(self.S)\n",
    "\n",
    "    def set_Q(self,Q):\n",
    "        self.Q = Q      \n",
    "\n",
    "    def compute_edges(self):\n",
    "        '''\n",
    "        Make a list of edges for the route, that is, for each edge, a couple of objects Warehouse or School\n",
    "        '''\n",
    "        self.edges = [(self.w,self.S[0])]\n",
    "        for i in range(self.Mk-1):\n",
    "            self.edges.append((self.S[i],self.S[i+1]))\n",
    "        self.edges.append((self.S[-1],self.w))\n",
    "\n",
    "    def cost(edge,D):\n",
    "        return D.loc[edge[0].name, edge[1].name]\n",
    "\n",
    "    def compute_costs(self,D,fixed_costs=0.):\n",
    "        '''\n",
    "        compute the cost of a tour with respect to the distances and the fixed cost\n",
    "        '''\n",
    "        self.costs = []\n",
    "        for e in self.edges :\n",
    "            self.costs.append(Route.cost(e,D))\n",
    "        \n",
    "        self.cost = sum(self.costs) + fixed_costs\n",
    "\n",
    "    def compute_C(self):\n",
    "        self.room_available = [s.C-s.inventory for s in self.S]\n",
    "        self.C = min(self.Q, sum(self.room_available))\n",
    "                \n",
    "    def do_tour(self):\n",
    "        '''\n",
    "        Change the inventory with respect to a tour and its X\n",
    "        '''\n",
    "        self.w.deliver(sum(self.X))\n",
    "        for i in range(len(self.X)):\n",
    "            self.S[i].receive(self.X[i])\n",
    "\n",
    "    def make_arrows(self) : \n",
    "        self.arrows= []\n",
    "        for e in range(self.Mk+1):\n",
    "            edge = self.edges[e]\n",
    "            x1, x2, y1, y2 = edge[0].pos[0], edge[1].pos[0], edge[0].pos[1], edge[1].pos[1]\n",
    "            text = \"cost = \"+ str(round(self.costs[e],1))\n",
    "\n",
    "            arrow = go.Scatter(x=[(7*x1+x2)/8,(x1+7*x2)/8],\n",
    "                    y=[(7*y1+y2)/8,(y1+7*y2)/8],\n",
    "                    line= dict(color=COLORS[\"road\"]),\n",
    "                    text = [text,text],\n",
    "                    hoverinfo='text',\n",
    "                    visible = False\n",
    "                    )\n",
    "\n",
    "            self.arrows.append(arrow)\n",
    "            \n",
    "    def set_no(self,indices):\n",
    "        names = [s.name for s in self.S]\n",
    "        self.numbers_RtoS = np.array([indices[name] for name in names  ])\n"
   ]
  },
  {
   "cell_type": "code",
   "execution_count": 17,
   "metadata": {
    "code_folding": [
     1,
     40,
     52,
     56,
     59,
     65,
     69,
     73,
     77,
     83,
     89,
     99,
     103,
     110,
     150,
     165,
     181,
     192,
     205,
     240
    ]
   },
   "outputs": [],
   "source": [
    "class Map :\n",
    "    def __init__(self, central, schools, warehouses, possible_routes = [], Q = 5., D=None, Q2 = 10.):\n",
    "        '''\n",
    "        This object represents the state of the problem at some time t \n",
    "        '''\n",
    "        \n",
    "        self.central = central\n",
    "        self.S = schools\n",
    "        self.W = warehouses\n",
    "        self.R_possible = possible_routes\n",
    "        self.Q = Q\n",
    "        self.Q2= Q2\n",
    "        self.D = D\n",
    "        self.M, self.N, self.K = len(schools),len(warehouses), len(possible_routes )\n",
    "        self.warehouse_to_deliver = []\n",
    "        self.compute_pickup_costs()\n",
    "        \n",
    "        \n",
    "        find_index_s =  {schools[i].name : i for i in range(self.M)}\n",
    "        for r in self.R_possible : \n",
    "            r.set_Q(Q)\n",
    "            r.set_no(find_index_s)\n",
    "            \n",
    "        if D is None :\n",
    "            positions = np.array([w.pos for w in warehouses] + [s.pos for s in schools]) \n",
    "            d = Map.compute_distances(positions)\n",
    "            names = [w.name for w in warehouses]+[s.name for s in schools]\n",
    "            self.D = pd.DataFrame(data=d, columns=names, index=names)\n",
    "            \n",
    "        else: \n",
    "            self.D = D\n",
    "\n",
    "        \n",
    "        self.t = 0.\n",
    "        self.total_cost = 0\n",
    "        self.cost = 0\n",
    "        \n",
    "        for k in range(self.K): \n",
    "            self.R_possible[k].number = k\n",
    "\n",
    "    def build_Rmat(self):\n",
    "        '''\n",
    "        Method that build the numpy array Rmat such that r[k,m] = 1 if & only if S[m] in R[k]\n",
    "        '''\n",
    "        self.Rmat = np.zeros((self.K,self.M),dtype = bool)\n",
    "        names = [s.name for s in self.S]\n",
    "        for k in range(self.K):\n",
    "            r = self.R_possible[k]\n",
    "            for stop in r.S : \n",
    "                m = names.index(stop.name)\n",
    "                self.Rmat[k,m] = True\n",
    "\n",
    "    def compute_pickup_costs(self):\n",
    "        for w in self.W :\n",
    "            w.compute_pickup_cost(self.central)\n",
    "    \n",
    "    def compute_distances(positions):\n",
    "        return np.sqrt(np.sum((positions-positions[:,np.newaxis])**2,axis=2))\n",
    "                            \n",
    "    def compute_central_deliveries(self):\n",
    "        for j in range(self.N):\n",
    "            if self.W[j].inventory < 0 : \n",
    "                self.warehouse_to_deliver.append(j)\n",
    "                self.W[j].receive(self.Q2)\n",
    "    \n",
    "    def compute_edges(self):\n",
    "        for r in self.R_possible : \n",
    "            r.compute_edges()\n",
    "\n",
    "    def compute_costs(self, fixed_costs=0.):\n",
    "        for r in self.R_possible : \n",
    "            r.compute_costs(self.D, fixed_costs=fixed_costs)\n",
    "\n",
    "    def select_tours(self,y):\n",
    "        # y should be a boolean vector of length K here that state if the tour k should be done\n",
    "        self.R = np.arange(self.K)[y]\n",
    "        \n",
    "    def compute_X(self,x):\n",
    "        # x is a matrix KxM that gives the quantity of food to be delivered to each school for each tour\n",
    "        for k in self.R : \n",
    "            r = self.R_possible[k]\n",
    "            r.X = x[k,r.numbers_RtoS]\n",
    "                        \n",
    "    def do_tours(self):\n",
    "        for k in self.R :\n",
    "            r = self.R_possible[k] \n",
    "            r.do_tour()\n",
    "            self.cost += r.cost\n",
    "        self.compute_central_deliveries()\n",
    "        for j in self.warehouse_to_deliver : \n",
    "            self.cost+=self.W[j].pickup_cost\n",
    "        \n",
    "        \n",
    "        self.total_cost += self.cost\n",
    "        self.title = TITLE + \"        Cost = %s          Total Cost = \" %str(round(self.cost)) + str(round(self.total_cost))\n",
    "        self.title = self.title + \"   Truck 1 capacity : \"+ str(self.Q) + \"   Truck 2 capacity : \"+ str(self.Q2)\n",
    "        \n",
    "        self.cost = 0\n",
    "\n",
    "    def eat(self):\n",
    "        for s in self.S:\n",
    "            s.eat()\n",
    "\n",
    "    def init_draw(self):\n",
    "\n",
    "        # create arrows\n",
    "        for k in range(self.K): \n",
    "            r = self.R_possible[k].make_arrows()\n",
    "\n",
    "        #plot the schools\n",
    "        plot_schools = go.Scatter(x=[school.pos[0] for school in self.S],\n",
    "                        y=[school.pos[1] for school in self.S],\n",
    "                        mode='markers',\n",
    "                        name='schools',\n",
    "                        marker=dict(symbol='circle-dot',\n",
    "                                        size=SIZES[\"school\"],\n",
    "                                        color=COLORS[\"school\"]\n",
    "                                        ),\n",
    "                        text=[s.name+\" C = \"+str(s.C)+\"  ;   q = \"+str(s.q) for s in self.S],\n",
    "                        hoverinfo='text',\n",
    "                        opacity=0.8\n",
    "                        )\n",
    "        #plot the warehouses\n",
    "        plot_warehouses = go.Scatter(x=[warehouse.pos[0] for warehouse in self.W],\n",
    "                            y=[warehouse.pos[1] for warehouse in self.W],\n",
    "                            mode='markers',\n",
    "                            name='warehouses',\n",
    "                            marker=dict(symbol='circle-dot',\n",
    "                                            size=SIZES[\"warehouse\"],\n",
    "                                            color=COLORS[\"warehouse\"]\n",
    "                                            ),\n",
    "                            text=[w.name+\" C = \"+str(w.C) for w in self.W],\n",
    "                            hoverinfo='text',\n",
    "                            opacity=0.8\n",
    "                            )\n",
    "        \n",
    "        plot_central = go.Scatter(x=[self.central[0]],\n",
    "                            y=[self.central[1]],\n",
    "                            mode='markers',\n",
    "                            name='central',\n",
    "                            marker=dict(symbol='circle-dot',\n",
    "                                            size=SIZES[\"central\"],\n",
    "                                            color=COLORS[\"central\"]\n",
    "                                            ),\n",
    "                            text=[\"Central warehouse\"],\n",
    "                            hoverinfo='text',\n",
    "                            opacity=0.8\n",
    "                            )\n",
    "\n",
    "        \n",
    "        axis = dict(showline=False, # hide axis line, grid, ticklabels and  title\n",
    "            zeroline=True,\n",
    "            showgrid=True,\n",
    "            showticklabels=True,\n",
    "            )\n",
    "\n",
    "        self.title = TITLE + \"        Cost = %s          Total Cost = \" %str(self.cost) + str(self.total_cost)\n",
    "        self.title = self.title + \"   Truck 1 capacity : \"+ str(self.Q) + \"   Truck 2 capacity : \"+ str(self.Q2)\n",
    "        \n",
    "        \n",
    "        tuples = [(school.pos, \"I = \"+str(school.inventory),'black') for school in self.S] \n",
    "        tuples = tuples + [(warehouse.pos, \"I = \"+str(warehouse.inventory),'yellow') for warehouse in self.W]\n",
    "        tuples.append((self.central,\"CENTRAL\", 'black') )\n",
    "        \n",
    "        \n",
    "        layout = dict(\n",
    "            title= self.title,\n",
    "              annotations= Map.make_annotations(tuples), \n",
    "              font_size=12,\n",
    "              showlegend=False,\n",
    "              xaxis=axis,\n",
    "              yaxis=axis,\n",
    "              margin=dict(l=40, r=40, b=85, t=100),\n",
    "              hovermode='closest',\n",
    "              plot_bgcolor='rgb(248,248,248)',\n",
    "              updatemenus= []\n",
    "        )\n",
    "\n",
    "        self.layout = layout\n",
    "        self.data = [plot_schools,plot_warehouses, plot_central]\n",
    "        self.arrows = [-1,-1,-1]\n",
    "        for r in self.R_possible : \n",
    "            number = r.number\n",
    "            for x in r.arrows : \n",
    "                self.data.append(x)\n",
    "                self.arrows.append(number)\n",
    "        \n",
    "        for w in self.W :\n",
    "            pick_up = w.make_arrow(self.central)\n",
    "            self.data.append(pick_up)\n",
    "            self.arrows.append(w.name)\n",
    "       \n",
    "    def make_annotations(tuples):\n",
    "        annotations = []\n",
    "        for (pos,txt,color) in tuples:\n",
    "            annotations.append(\n",
    "                dict(\n",
    "                    text=txt, # text within the circles\n",
    "                    x=pos[0], y=pos[1],\n",
    "                    xref='x1', yref='y1',\n",
    "                    font=dict(color=color, size=15),\n",
    "                    showarrow=False)\n",
    "            )\n",
    "        return annotations\n",
    "\n",
    "    def make_updatemenu(self):\n",
    "        tuples = [(school.pos, \"I = \"+str(round(school.inventory,2)),'black') for school in self.S] + [(warehouse.pos, \"I = \"+str(round(warehouse.inventory,2)),'yellow') for warehouse in self.W]\n",
    "        tuples.append( (self.central,\"CENTRAL\", 'black') )\n",
    "        \n",
    "        l = len(self.data)\n",
    "        visible = [True]*3 + [False]*(l-3)\n",
    "\n",
    "        if self.t.is_integer():\n",
    "            period = \" (before lunch)\"\n",
    "            for k in self.R : \n",
    "                # decide which arrows are visible, \n",
    "                r = self.R_possible[k]\n",
    "                for i in range(r.Mk):\n",
    "                    e = r.edges[i]\n",
    "                    x = (e[0].pos[0]+e[1].pos[0]) / 2 + 1.\n",
    "                    y = (e[0].pos[1]+e[1].pos[1]) / 2 + 1.\n",
    "                    tuples.append(([x,y], str(round(r.X[i],2))+ \"  \", COLORS[\"road\"]))\n",
    "\n",
    "                i = self.arrows.index(r.number)\n",
    "                a = len(r.arrows)\n",
    "                visible[i:i+a]=[True]*a\n",
    "                \n",
    "                \n",
    "            for j in self.warehouse_to_deliver : \n",
    "                visible[l-self.N+j ] = True\n",
    "        \n",
    "        else : \n",
    "            period = \"  (evening)\"\n",
    "            visible[3:] = [False]*(l-3)\n",
    "\n",
    "\n",
    "        annotations = Map.make_annotations(tuples)\n",
    "\n",
    "        return dict(label=\"t = \"+str(int(self.t))+ period, method = \"update\", args=[{\"visible\" : copy(visible)  },{\"annotations\": annotations, \"title\":self.title }])\n",
    "\n",
    "    def run(self,solver,T=10, H=4):\n",
    "        '''\n",
    "        final function that make the process continue for T days, and plot it into self.fig \n",
    "        Also have to put as an input a function f that will build X and Y\n",
    "        '''\n",
    "        self.build_Rmat()\n",
    "        self.compute_edges()\n",
    "        self.compute_costs()\n",
    "        \n",
    "        t0 = time()\n",
    "        X,Y = solver(cost=np.array([r.cost for r in self.R_possible]),\n",
    "                q      =np.array([s.q for s in self.S]),\n",
    "                C      =np.array([s.C for s in self.S]),\n",
    "                I_init = np.array([s.inventory for s in self.S]),\n",
    "                r      =self.Rmat,\n",
    "                Q=self.Q,T=T,H=H)\n",
    "        \n",
    "        print(\"Running time for solver is %f sec\" %(time()-t0))\n",
    "        self.init_draw()\n",
    "        L1,L2 = [],[]\n",
    "        for i in range(T):\n",
    "            #morning\n",
    "            self.select_tours(Y[i])\n",
    "            self.compute_X(X[i])\n",
    "            self.do_tours()\n",
    "            L1.append(self.make_updatemenu())\n",
    "            self.R = []\n",
    "            self.warehouse_to_deliver = []\n",
    "            self.t += 0.5\n",
    "            \n",
    "            # evening\n",
    "            self.eat()\n",
    "            L2.append(self.make_updatemenu())\n",
    "            self.t += 0.5\n",
    "\n",
    "\n",
    "\n",
    "        self.layout[\"updatemenus\"]    = [ dict(buttons = L1, direction = \"up\",x=0.,y=0.),dict(buttons = L2, direction = \"up\",x=0.3,y=0.) ]\n",
    "        \n",
    "\n",
    "        self.fig = dict(data=self.data, layout=self.layout)\n"
   ]
  },
  {
   "cell_type": "markdown",
   "metadata": {
    "heading_collapsed": true
   },
   "source": [
    "# Defining solver"
   ]
  },
  {
   "cell_type": "markdown",
   "metadata": {
    "hidden": true
   },
   "source": [
    "\\begin{eqnarray}\n",
    "&\\min& \\sum_t \\sum_k c_k y_k^t \\\\\n",
    "& & \\sum_m x_{km}^t \\leq Q y_k^t \\qquad \\forall t, k \\\\\n",
    "& & x_{km}^t \\leq Q r_{km} \\qquad \\forall t,m, k\\\\\n",
    "& & q_m  \\leq  I_m^0 + \\sum_{k} \\sum_{s\\leq t}  x_{km}^s - t q_m \\leq C_m \\qquad \\forall t,m \\\\\n",
    "\\end{eqnarray}"
   ]
  },
  {
   "cell_type": "code",
   "execution_count": 18,
   "metadata": {
    "code_folding": [],
    "hidden": true
   },
   "outputs": [],
   "source": [
    "def aux1(cost,q,C,r,I_init,Q,T,H=None):\n",
    "    M,K = len(q),len(cost)\n",
    "    \n",
    "    Y = cp.Variable((T,K),boolean=True)\n",
    "    \n",
    "    X = {}\n",
    "    constraints = []\n",
    "    I = I_init\n",
    "    for t in range(T):\n",
    "        X[t] = cp.Variable((K,M),nonneg=True)\n",
    "        \n",
    "        constraints.append(cp.sum(X[t],axis=1)<=Q*Y[t] )\n",
    "        constraints.append(X[t]<=Q*r)\n",
    "        \n",
    "        I = I + cp.sum(X[t],axis=0) - q\n",
    "        constraints.append( I <= C - q )\n",
    "        constraints.append( I >= 0 )\n",
    "        \n",
    "    \n",
    "    problem = cp.Problem(cp.Minimize(cp.sum(Y@cost)), constraints)\n",
    "    problem.solve()\n",
    "    \n",
    "    return np.array([X[t].value for t in range(T)]),np.array(Y.value,dtype=bool)\n",
    "\n",
    "def solver1(cost,q,C,r,I_init,Q,T,H=None):\n",
    "    if H is None : \n",
    "        return aux1(cost,q,C,r,I_init,Q,T,H=None)\n",
    "    \n",
    "    else : \n",
    "        X_weekly, Y_weekly = [],[]\n",
    "        K,M = len(cost),len(I_init)\n",
    "        R_quantity = np.ones(K)\n",
    "        R_nbr = K\n",
    "        R_selected = np.array([True]*K)\n",
    "        t = 0\n",
    "        I = I_init[:]\n",
    "        while t<T : \n",
    "            X,Y = np.zeros((H,K,M)), np.zeros((H,K),dtype=bool)\n",
    "            X[:,R_selected,:],Y[:,R_selected] = aux1(cost[R_selected],q,C,r[R_selected,:],I,Q,H)\n",
    "            X_weekly.append(X),Y_weekly.append(Y)\n",
    "            \n",
    "            t = t + H\n",
    "            I = I - H*q + X.sum(axis=0).sum(axis=0)\n",
    "            \n",
    "            R_done = Y.sum(axis=0)\n",
    "            R_quantity = R_quantity + R_done\n",
    "            R_nbr += R_done.sum()\n",
    "            R_selected = (sum(R_selected)*R_quantity >= R_nbr*0.1)\n",
    "            \n",
    "            \n",
    "            \n",
    "        return np.concatenate(X_weekly,axis=0), np.concatenate(Y_weekly,axis=0)\n",
    "              "
   ]
  },
  {
   "cell_type": "markdown",
   "metadata": {
    "hidden": true
   },
   "source": [
    "\n",
    "Which can also be writen as follow : with $L$ the lower triangular $T\\times T$ matrix with only ones and $u = 1_T$.\n",
    "\n",
    "$X_m$ some matrices of size $T\\times K$, $Y$ is a matrix of size $T \\times K$\n",
    "\n",
    "Notation : $\\circ$ when we repeat the vector $T$ time to change it to a matrix.\n",
    "\n",
    "Let $a$ be the vector $(1,2,3,....,T)$\n",
    "\n",
    "\\begin{eqnarray}\n",
    "&\\min&  sum( Y c) \\\\\n",
    "& & \\sum_m x_{m} \\leq Y \\\\\n",
    "& & x_m \\leq r_{:,m} \\circ \\qquad \\forall m\\\\\n",
    "& & \\frac{q_m}{Q}\\circ  \\leq  \\frac{I_m^0}{Q} \\circ + 1_{K}^t Lx_{m} - \\frac{q_m}{Q} \\circ * a \\leq \\frac{C_m}{Q} \\circ \\qquad \\forall m \\\\\n",
    "\\end{eqnarray}"
   ]
  },
  {
   "cell_type": "code",
   "execution_count": 19,
   "metadata": {
    "code_folding": [
     2,
     37,
     91,
     116,
     140
    ],
    "hidden": true
   },
   "outputs": [],
   "source": [
    "\n",
    "\n",
    "def aux2(cost,q_rep,qa_rep,C_rep,A,I_rep,T):\n",
    "    M,K = len(q_rep[0]),len(cost)\n",
    "    \n",
    "    \n",
    "    Y = cp.Variable((T,K),boolean=True)\n",
    "    X = {}\n",
    "    constraints = []\n",
    "    sum_X = np.zeros((T,K))\n",
    "    \n",
    "    for m in range(M):\n",
    "        Km=len(A[m])\n",
    "        \n",
    "        X[m] = cp.Variable((T,Km),nonneg=True)\n",
    "        sum_X = sum_X + X[m]@A[m]\n",
    "        \n",
    "        I = cp.cumsum(cp.sum(X[m],axis=1)) + I_rep[:,m] - qa_rep[:,m]\n",
    "\n",
    "        constraints.append(  I <= C_rep[:,m] )\n",
    "        constraints.append(  I >= q_rep[:,m])\n",
    "    constraints.append(sum_X <=Y )\n",
    "    \n",
    "   \n",
    "        \n",
    "    \n",
    "    \n",
    "    problem = cp.Problem(cp.Minimize(cp.sum(Y@cost)), constraints)\n",
    "    problem.solve()\n",
    "    \n",
    "    x = np.array(   [   X[m].value.dot(A[m]) for m in range(M)   ]  ) # dimension M x T x K\n",
    "    x = np.swapaxes(x,0,1)  # dimension T x M x K\n",
    "    x = np.swapaxes(x,1,2)  # dimension T x K x M \n",
    "    y = np.array(Y.value,dtype=bool)\n",
    "    \n",
    "    return x, y\n",
    "\n",
    "def solver2(cost,q,C,r,I_init,Q,T,H=None):\n",
    "    if H is None : h = T\n",
    "    else : h = H\n",
    "        \n",
    "    M,K = len(q),len(cost)\n",
    "    q_rep = np.repeat((q/Q)[np.newaxis,:],h,0)\n",
    "    I_rep = np.repeat((I_init/Q)[np.newaxis,:],h,0)\n",
    "    qa_rep= np.diag(np.arange(h)).dot(q_rep)\n",
    "    C_rep = np.repeat((C/Q)[np.newaxis,:],h,0)\n",
    "    A   = build_A(r)\n",
    "    \n",
    "    R_quantity = np.ones(K)\n",
    "    R_nbr = np.ones(K)*K\n",
    "    R_selected = np.array([True]*K)\n",
    "        \n",
    "    X_weekly, Y_weekly = [],[]\n",
    "    t = 0\n",
    "    I = I_rep + 0.\n",
    "    \n",
    "    clusters = build_clusters(r)\n",
    " \n",
    "    while t<T : \n",
    "        Xt,Yt = np.zeros((h,K,M)), np.zeros((h,K),dtype=bool)\n",
    "\n",
    "        for (cluster_1r,cluster_s) in clusters :\n",
    "            \n",
    "            cluster_r = R_selected & cluster_1r\n",
    "            \n",
    "            X1  =  np.zeros((h,K,sum(cluster_s)))\n",
    "            X1[:,cluster_r,:],Yt[:,cluster_r] = aux2(cost[cluster_r],\n",
    "                                               q_rep[:,cluster_s],\n",
    "                                               qa_rep[:,cluster_s],\n",
    "                                               C_rep[:,cluster_s],\n",
    "                                               [A[m][:,cluster_r] for m in range(M) if cluster_s[m]],\n",
    "                                               I[:,cluster_s],\n",
    "                                               h)\n",
    "\n",
    "            Xt[:,:,cluster_s] = X1\n",
    "\n",
    "        X_weekly.append(Xt),Y_weekly.append(Yt)\n",
    "        t = t + h\n",
    "        I = I - h*q_rep + Xt.sum(axis=0).sum(axis=0)\n",
    "        \n",
    "        R_done = Yt.sum(axis=0)\n",
    "        R_quantity = R_quantity + R_done\n",
    "        R_nbr[R_selected] = R_nbr[R_selected] + R_done.sum()\n",
    "        R_selected = (K*R_quantity >= R_nbr*0.2)\n",
    "        #print(R_selected)\n",
    "        \n",
    "\n",
    "\n",
    "    return Q*np.concatenate(X_weekly,axis=0), np.concatenate(Y_weekly,axis=0)\n",
    "                        \n",
    "    \n",
    "def build_cluster(r):\n",
    "    K,M = r.shape\n",
    "    total = 0\n",
    "    cluster_s = r[0,:]\n",
    "    cluster_r = np.array([False]*K)\n",
    "    cluster_r[0] = True\n",
    "\n",
    "    new_total = sum(cluster_s)+ sum(cluster_r)\n",
    "    \n",
    "    while (new_total > total) : \n",
    "        total = new_total\n",
    "        \n",
    "        for m in range(M):\n",
    "            if cluster_s[m] : cluster_r = cluster_r | r[:,m]\n",
    "                \n",
    "        for k in range(K):\n",
    "            if cluster_r[k] : cluster_s = cluster_s | r[k,:]\n",
    "        \n",
    "        new_total = sum(cluster_s)+ sum(cluster_r)\n",
    "        \n",
    "    \n",
    "    \n",
    "    return (cluster_r,cluster_s)\n",
    "    \n",
    "    \n",
    "def build_clusters(r):\n",
    "    K,M = r.shape\n",
    "    clusters= []\n",
    "    set_r, set_s = np.array([True]*K), np.array([True]*M)\n",
    "    \n",
    "    while sum(set_s) > 0 : \n",
    "        \n",
    "        cluster_little  = build_cluster(r[set_r,:][:,set_s])\n",
    "        \n",
    "        cluster = (np.array([False]*K),np.array([False]*M))\n",
    "        cluster[0][set_r]= cluster_little[0]\n",
    "        cluster[1][set_s]= cluster_little[1]\n",
    "        \n",
    "        clusters.append(cluster)\n",
    "                \n",
    "        set_r = set_r & ~cluster[0]\n",
    "        set_s = set_s & ~cluster[1]\n",
    "        \n",
    "        \n",
    "        \n",
    "    \n",
    "    return clusters\n",
    "    \n",
    "    \n",
    "def build_A(B):\n",
    "    # for each colomn b of B :\n",
    "    # auxiliary function to transform a boolean vector b to a boolean matrix A \n",
    "    # such that each colomn of A represent a True component of R.\n",
    "    n = len(B)\n",
    "    L2 = []\n",
    "    for j in range(len(B[0])):\n",
    "        b= B[:,j]\n",
    "        L = []\n",
    "        for i in range(n) : \n",
    "            if b[i] : \n",
    "                row = np.zeros(n,dtype=bool)\n",
    "                row[i]=True\n",
    "                L.append(row)\n",
    "\n",
    "        L2.append(np.array(L))\n",
    "    return L2\n",
    "        \n"
   ]
  },
  {
   "cell_type": "markdown",
   "metadata": {
    "heading_collapsed": true
   },
   "source": [
    "# Example 1 "
   ]
  },
  {
   "cell_type": "markdown",
   "metadata": {
    "heading_collapsed": true,
    "hidden": true
   },
   "source": [
    "## Set data"
   ]
  },
  {
   "cell_type": "code",
   "execution_count": 20,
   "metadata": {
    "hidden": true
   },
   "outputs": [],
   "source": [
    "w1 = Warehouse(position=[0.,0.],capacity = 100, name='w1')\n",
    "warehouses = [w1]\n",
    "\n",
    "positions = [\n",
    "    [0.,10.],\n",
    "    [3.,10.],\n",
    "    [10.,3.],\n",
    "    [10.,0.]\n",
    "]\n",
    "capacities   = [5.,3.,2.,4.]\n",
    "consumptions = [1.,3.,2.,1.5]\n",
    "tours = [\n",
    "    [0],[1],[2],[3],[0,1],[1,2],[2,3]\n",
    "] \n",
    "# distance matrix\n",
    "d = [\n",
    "    [  0,100,100,100,100],\n",
    "    [100,  0, 10,150,160],\n",
    "    [100, 10,  0,140,150],\n",
    "    [100,150,140,  0, 10],\n",
    "    [100,160,150, 10,  0]\n",
    "]\n",
    "\n"
   ]
  },
  {
   "cell_type": "code",
   "execution_count": 21,
   "metadata": {
    "hidden": true
   },
   "outputs": [],
   "source": [
    "schools = []\n",
    "for i in range(len(positions)):\n",
    "    schools.append(  School(positions[i], capacities[i], consumptions[i] , 's%i'%i )  )\n",
    "\n",
    "routes = [ Route(w1, [schools[m] for m in tour] )  for tour in tours ]\n",
    "\n",
    "# transform distances to a dataframe\n",
    "names = [w1.name]+[s.name for s in schools]\n",
    "D = pd.DataFrame(data=d, columns=names, index=names)\n",
    "\n",
    "\n",
    "MAP1 = Map(\n",
    "    schools=schools,\n",
    "    central = [0.,0.],\n",
    "    warehouses=warehouses,\n",
    "    possible_routes=routes,\n",
    "    Q = 5., D=D\n",
    "    )\n",
    "\n",
    "MAP2 = deepcopy(MAP1)"
   ]
  },
  {
   "cell_type": "markdown",
   "metadata": {
    "heading_collapsed": true,
    "hidden": true
   },
   "source": [
    "## Run"
   ]
  },
  {
   "cell_type": "markdown",
   "metadata": {
    "hidden": true
   },
   "source": [
    "solve the problem during 30 days, by computing every 5days the optimal solution for the next 5 days (H=5 is kind of the maximum here)"
   ]
  },
  {
   "cell_type": "code",
   "execution_count": 22,
   "metadata": {
    "hidden": true,
    "scrolled": false
   },
   "outputs": [],
   "source": [
    "#MAP1.run(solver1,T=5)\n",
    "#go.Figure(MAP1.fig).show()"
   ]
  },
  {
   "cell_type": "code",
   "execution_count": 23,
   "metadata": {
    "hidden": true,
    "scrolled": false
   },
   "outputs": [],
   "source": [
    "#MAP2.run(solver2,T=30,H=5)\n",
    "#fig = go.Figure(MAP2.fig)\n",
    "#fig.show()"
   ]
  },
  {
   "cell_type": "markdown",
   "metadata": {},
   "source": [
    "# Example 2"
   ]
  },
  {
   "cell_type": "markdown",
   "metadata": {},
   "source": [
    "## Set data"
   ]
  },
  {
   "cell_type": "code",
   "execution_count": 24,
   "metadata": {},
   "outputs": [],
   "source": [
    "w1 = Warehouse(position=[0.,0.],capacity = 10, name='w1')\n",
    "w2 = Warehouse(position=[-10.,-10.],capacity = 10, name='w2')\n",
    "warehouses = [w1,w2]\n",
    "\n",
    "positions = np.array([\n",
    "    [20.,20.],\n",
    "    [10.,40.],\n",
    "    [50.,6.],\n",
    "    [30.,14.],\n",
    "    [0.,-40.],\n",
    "    [-25.,-40.],\n",
    "    [-40.,-25.],\n",
    "    [-40.,0.],\n",
    "])\n",
    "\n",
    "capacities   = [5.,3.,2.,4.,\n",
    "               5.,3.,2.,4.,]\n",
    "consumptions = [1.,3.,2.,1.5,\n",
    "               1.,3.,2.,1.5,]\n",
    "\n",
    "n = 4\n",
    "tours1,tours2 = [],[]\n",
    "for i in range(n):\n",
    "    tours1.append([i])\n",
    "    tours2.append([i+4])\n",
    "    for j in range(i+1,n):\n",
    "        tours1.append([i,j])\n",
    "        tours2.append([i+n,j+n])\n",
    "\n"
   ]
  },
  {
   "cell_type": "code",
   "execution_count": 25,
   "metadata": {
    "code_folding": [
     8
    ]
   },
   "outputs": [],
   "source": [
    "schools = []\n",
    "for i in range(len(positions)):\n",
    "    schools.append(  School(positions[i], capacities[i], consumptions[i] , 's%i'%i )  )\n",
    "\n",
    "routes1 = [ Route(w1, [schools[m] for m in tour] )  for tour in tours1 ]\n",
    "routes2 = [ Route(w2, [schools[m] for m in tour] )  for tour in tours2 ]\n",
    "\n",
    "\n",
    "MAP1 = Map(\n",
    "    schools=schools,\n",
    "    central = [-20.,20.],\n",
    "    warehouses=warehouses,\n",
    "    possible_routes=routes1+routes2,\n",
    "    Q = 5., Q2 = 20\n",
    "    )\n",
    "MAP2 = deepcopy(MAP1)"
   ]
  },
  {
   "cell_type": "markdown",
   "metadata": {},
   "source": [
    "## Run"
   ]
  },
  {
   "cell_type": "markdown",
   "metadata": {},
   "source": [
    "solve the problem during 30 days, by computing every 5days the optimal solution for the next 5 days (H=5 is kind of the maximum here)"
   ]
  },
  {
   "cell_type": "code",
   "execution_count": 26,
   "metadata": {
    "scrolled": false
   },
   "outputs": [
    {
     "name": "stdout",
     "output_type": "stream",
     "text": [
      "Running time for solver is 56.905852 sec\n"
     ]
    },
    {
     "data": {
      "application/vnd.plotly.v1+json": {
       "config": {
        "plotlyServerURL": "https://plot.ly"
       },
       "data": [
        {
         "hoverinfo": "text",
         "marker": {
          "color": "green",
          "size": 30,
          "symbol": "circle-dot"
         },
         "mode": "markers",
         "name": "schools",
         "opacity": 0.8,
         "text": [
          "s0 C = 5.0  ;   q = 1.0",
          "s1 C = 3.0  ;   q = 3.0",
          "s2 C = 2.0  ;   q = 2.0",
          "s3 C = 4.0  ;   q = 1.5",
          "s4 C = 5.0  ;   q = 1.0",
          "s5 C = 3.0  ;   q = 3.0",
          "s6 C = 2.0  ;   q = 2.0",
          "s7 C = 4.0  ;   q = 1.5"
         ],
         "type": "scatter",
         "x": [
          20,
          10,
          50,
          30,
          0,
          -25,
          -40,
          -40
         ],
         "y": [
          20,
          40,
          6,
          14,
          -40,
          -40,
          -25,
          0
         ]
        },
        {
         "hoverinfo": "text",
         "marker": {
          "color": "blue",
          "size": 40,
          "symbol": "circle-dot"
         },
         "mode": "markers",
         "name": "warehouses",
         "opacity": 0.8,
         "text": [
          "w1 C = 10",
          "w2 C = 10"
         ],
         "type": "scatter",
         "x": [
          0,
          -10
         ],
         "y": [
          0,
          -10
         ]
        },
        {
         "hoverinfo": "text",
         "marker": {
          "color": "red",
          "size": 50,
          "symbol": "circle-dot"
         },
         "mode": "markers",
         "name": "central",
         "opacity": 0.8,
         "text": [
          "Central warehouse"
         ],
         "type": "scatter",
         "x": [
          -20
         ],
         "y": [
          20
         ]
        },
        {
         "hoverinfo": "text",
         "line": {
          "color": "grey"
         },
         "text": [
          "cost = 28.3",
          "cost = 28.3"
         ],
         "type": "scatter",
         "visible": false,
         "x": [
          2.5,
          17.5
         ],
         "y": [
          2.5,
          17.5
         ]
        },
        {
         "hoverinfo": "text",
         "line": {
          "color": "grey"
         },
         "text": [
          "cost = 28.3",
          "cost = 28.3"
         ],
         "type": "scatter",
         "visible": false,
         "x": [
          17.5,
          2.5
         ],
         "y": [
          17.5,
          2.5
         ]
        },
        {
         "hoverinfo": "text",
         "line": {
          "color": "grey"
         },
         "text": [
          "cost = 28.3",
          "cost = 28.3"
         ],
         "type": "scatter",
         "visible": false,
         "x": [
          2.5,
          17.5
         ],
         "y": [
          2.5,
          17.5
         ]
        },
        {
         "hoverinfo": "text",
         "line": {
          "color": "grey"
         },
         "text": [
          "cost = 22.4",
          "cost = 22.4"
         ],
         "type": "scatter",
         "visible": false,
         "x": [
          18.75,
          11.25
         ],
         "y": [
          22.5,
          37.5
         ]
        },
        {
         "hoverinfo": "text",
         "line": {
          "color": "grey"
         },
         "text": [
          "cost = 41.2",
          "cost = 41.2"
         ],
         "type": "scatter",
         "visible": false,
         "x": [
          8.75,
          1.25
         ],
         "y": [
          35,
          5
         ]
        },
        {
         "hoverinfo": "text",
         "line": {
          "color": "grey"
         },
         "text": [
          "cost = 28.3",
          "cost = 28.3"
         ],
         "type": "scatter",
         "visible": false,
         "x": [
          2.5,
          17.5
         ],
         "y": [
          2.5,
          17.5
         ]
        },
        {
         "hoverinfo": "text",
         "line": {
          "color": "grey"
         },
         "text": [
          "cost = 33.1",
          "cost = 33.1"
         ],
         "type": "scatter",
         "visible": false,
         "x": [
          23.75,
          46.25
         ],
         "y": [
          18.25,
          7.75
         ]
        },
        {
         "hoverinfo": "text",
         "line": {
          "color": "grey"
         },
         "text": [
          "cost = 50.4",
          "cost = 50.4"
         ],
         "type": "scatter",
         "visible": false,
         "x": [
          43.75,
          6.25
         ],
         "y": [
          5.25,
          0.75
         ]
        },
        {
         "hoverinfo": "text",
         "line": {
          "color": "grey"
         },
         "text": [
          "cost = 28.3",
          "cost = 28.3"
         ],
         "type": "scatter",
         "visible": false,
         "x": [
          2.5,
          17.5
         ],
         "y": [
          2.5,
          17.5
         ]
        },
        {
         "hoverinfo": "text",
         "line": {
          "color": "grey"
         },
         "text": [
          "cost = 11.7",
          "cost = 11.7"
         ],
         "type": "scatter",
         "visible": false,
         "x": [
          21.25,
          28.75
         ],
         "y": [
          19.25,
          14.75
         ]
        },
        {
         "hoverinfo": "text",
         "line": {
          "color": "grey"
         },
         "text": [
          "cost = 33.1",
          "cost = 33.1"
         ],
         "type": "scatter",
         "visible": false,
         "x": [
          26.25,
          3.75
         ],
         "y": [
          12.25,
          1.75
         ]
        },
        {
         "hoverinfo": "text",
         "line": {
          "color": "grey"
         },
         "text": [
          "cost = 41.2",
          "cost = 41.2"
         ],
         "type": "scatter",
         "visible": false,
         "x": [
          1.25,
          8.75
         ],
         "y": [
          5,
          35
         ]
        },
        {
         "hoverinfo": "text",
         "line": {
          "color": "grey"
         },
         "text": [
          "cost = 41.2",
          "cost = 41.2"
         ],
         "type": "scatter",
         "visible": false,
         "x": [
          8.75,
          1.25
         ],
         "y": [
          35,
          5
         ]
        },
        {
         "hoverinfo": "text",
         "line": {
          "color": "grey"
         },
         "text": [
          "cost = 41.2",
          "cost = 41.2"
         ],
         "type": "scatter",
         "visible": false,
         "x": [
          1.25,
          8.75
         ],
         "y": [
          5,
          35
         ]
        },
        {
         "hoverinfo": "text",
         "line": {
          "color": "grey"
         },
         "text": [
          "cost = 52.5",
          "cost = 52.5"
         ],
         "type": "scatter",
         "visible": false,
         "x": [
          15,
          45
         ],
         "y": [
          35.75,
          10.25
         ]
        },
        {
         "hoverinfo": "text",
         "line": {
          "color": "grey"
         },
         "text": [
          "cost = 50.4",
          "cost = 50.4"
         ],
         "type": "scatter",
         "visible": false,
         "x": [
          43.75,
          6.25
         ],
         "y": [
          5.25,
          0.75
         ]
        },
        {
         "hoverinfo": "text",
         "line": {
          "color": "grey"
         },
         "text": [
          "cost = 41.2",
          "cost = 41.2"
         ],
         "type": "scatter",
         "visible": false,
         "x": [
          1.25,
          8.75
         ],
         "y": [
          5,
          35
         ]
        },
        {
         "hoverinfo": "text",
         "line": {
          "color": "grey"
         },
         "text": [
          "cost = 32.8",
          "cost = 32.8"
         ],
         "type": "scatter",
         "visible": false,
         "x": [
          12.5,
          27.5
         ],
         "y": [
          36.75,
          17.25
         ]
        },
        {
         "hoverinfo": "text",
         "line": {
          "color": "grey"
         },
         "text": [
          "cost = 33.1",
          "cost = 33.1"
         ],
         "type": "scatter",
         "visible": false,
         "x": [
          26.25,
          3.75
         ],
         "y": [
          12.25,
          1.75
         ]
        },
        {
         "hoverinfo": "text",
         "line": {
          "color": "grey"
         },
         "text": [
          "cost = 50.4",
          "cost = 50.4"
         ],
         "type": "scatter",
         "visible": false,
         "x": [
          6.25,
          43.75
         ],
         "y": [
          0.75,
          5.25
         ]
        },
        {
         "hoverinfo": "text",
         "line": {
          "color": "grey"
         },
         "text": [
          "cost = 50.4",
          "cost = 50.4"
         ],
         "type": "scatter",
         "visible": false,
         "x": [
          43.75,
          6.25
         ],
         "y": [
          5.25,
          0.75
         ]
        },
        {
         "hoverinfo": "text",
         "line": {
          "color": "grey"
         },
         "text": [
          "cost = 50.4",
          "cost = 50.4"
         ],
         "type": "scatter",
         "visible": false,
         "x": [
          6.25,
          43.75
         ],
         "y": [
          0.75,
          5.25
         ]
        },
        {
         "hoverinfo": "text",
         "line": {
          "color": "grey"
         },
         "text": [
          "cost = 21.5",
          "cost = 21.5"
         ],
         "type": "scatter",
         "visible": false,
         "x": [
          47.5,
          32.5
         ],
         "y": [
          7,
          13
         ]
        },
        {
         "hoverinfo": "text",
         "line": {
          "color": "grey"
         },
         "text": [
          "cost = 33.1",
          "cost = 33.1"
         ],
         "type": "scatter",
         "visible": false,
         "x": [
          26.25,
          3.75
         ],
         "y": [
          12.25,
          1.75
         ]
        },
        {
         "hoverinfo": "text",
         "line": {
          "color": "grey"
         },
         "text": [
          "cost = 33.1",
          "cost = 33.1"
         ],
         "type": "scatter",
         "visible": false,
         "x": [
          3.75,
          26.25
         ],
         "y": [
          1.75,
          12.25
         ]
        },
        {
         "hoverinfo": "text",
         "line": {
          "color": "grey"
         },
         "text": [
          "cost = 33.1",
          "cost = 33.1"
         ],
         "type": "scatter",
         "visible": false,
         "x": [
          26.25,
          3.75
         ],
         "y": [
          12.25,
          1.75
         ]
        },
        {
         "hoverinfo": "text",
         "line": {
          "color": "grey"
         },
         "text": [
          "cost = 31.6",
          "cost = 31.6"
         ],
         "type": "scatter",
         "visible": false,
         "x": [
          -8.75,
          -1.25
         ],
         "y": [
          -13.75,
          -36.25
         ]
        },
        {
         "hoverinfo": "text",
         "line": {
          "color": "grey"
         },
         "text": [
          "cost = 31.6",
          "cost = 31.6"
         ],
         "type": "scatter",
         "visible": false,
         "x": [
          -1.25,
          -8.75
         ],
         "y": [
          -36.25,
          -13.75
         ]
        },
        {
         "hoverinfo": "text",
         "line": {
          "color": "grey"
         },
         "text": [
          "cost = 31.6",
          "cost = 31.6"
         ],
         "type": "scatter",
         "visible": false,
         "x": [
          -8.75,
          -1.25
         ],
         "y": [
          -13.75,
          -36.25
         ]
        },
        {
         "hoverinfo": "text",
         "line": {
          "color": "grey"
         },
         "text": [
          "cost = 25.0",
          "cost = 25.0"
         ],
         "type": "scatter",
         "visible": false,
         "x": [
          -3.125,
          -21.875
         ],
         "y": [
          -40,
          -40
         ]
        },
        {
         "hoverinfo": "text",
         "line": {
          "color": "grey"
         },
         "text": [
          "cost = 33.5",
          "cost = 33.5"
         ],
         "type": "scatter",
         "visible": false,
         "x": [
          -23.125,
          -11.875
         ],
         "y": [
          -36.25,
          -13.75
         ]
        },
        {
         "hoverinfo": "text",
         "line": {
          "color": "grey"
         },
         "text": [
          "cost = 31.6",
          "cost = 31.6"
         ],
         "type": "scatter",
         "visible": false,
         "x": [
          -8.75,
          -1.25
         ],
         "y": [
          -13.75,
          -36.25
         ]
        },
        {
         "hoverinfo": "text",
         "line": {
          "color": "grey"
         },
         "text": [
          "cost = 42.7",
          "cost = 42.7"
         ],
         "type": "scatter",
         "visible": false,
         "x": [
          -5,
          -35
         ],
         "y": [
          -38.125,
          -26.875
         ]
        },
        {
         "hoverinfo": "text",
         "line": {
          "color": "grey"
         },
         "text": [
          "cost = 33.5",
          "cost = 33.5"
         ],
         "type": "scatter",
         "visible": false,
         "x": [
          -36.25,
          -13.75
         ],
         "y": [
          -23.125,
          -11.875
         ]
        },
        {
         "hoverinfo": "text",
         "line": {
          "color": "grey"
         },
         "text": [
          "cost = 31.6",
          "cost = 31.6"
         ],
         "type": "scatter",
         "visible": false,
         "x": [
          -8.75,
          -1.25
         ],
         "y": [
          -13.75,
          -36.25
         ]
        },
        {
         "hoverinfo": "text",
         "line": {
          "color": "grey"
         },
         "text": [
          "cost = 56.6",
          "cost = 56.6"
         ],
         "type": "scatter",
         "visible": false,
         "x": [
          -5,
          -35
         ],
         "y": [
          -35,
          -5
         ]
        },
        {
         "hoverinfo": "text",
         "line": {
          "color": "grey"
         },
         "text": [
          "cost = 31.6",
          "cost = 31.6"
         ],
         "type": "scatter",
         "visible": false,
         "x": [
          -36.25,
          -13.75
         ],
         "y": [
          -1.25,
          -8.75
         ]
        },
        {
         "hoverinfo": "text",
         "line": {
          "color": "grey"
         },
         "text": [
          "cost = 33.5",
          "cost = 33.5"
         ],
         "type": "scatter",
         "visible": false,
         "x": [
          -11.875,
          -23.125
         ],
         "y": [
          -13.75,
          -36.25
         ]
        },
        {
         "hoverinfo": "text",
         "line": {
          "color": "grey"
         },
         "text": [
          "cost = 33.5",
          "cost = 33.5"
         ],
         "type": "scatter",
         "visible": false,
         "x": [
          -23.125,
          -11.875
         ],
         "y": [
          -36.25,
          -13.75
         ]
        },
        {
         "hoverinfo": "text",
         "line": {
          "color": "grey"
         },
         "text": [
          "cost = 33.5",
          "cost = 33.5"
         ],
         "type": "scatter",
         "visible": false,
         "x": [
          -11.875,
          -23.125
         ],
         "y": [
          -13.75,
          -36.25
         ]
        },
        {
         "hoverinfo": "text",
         "line": {
          "color": "grey"
         },
         "text": [
          "cost = 21.2",
          "cost = 21.2"
         ],
         "type": "scatter",
         "visible": false,
         "x": [
          -26.875,
          -38.125
         ],
         "y": [
          -38.125,
          -26.875
         ]
        },
        {
         "hoverinfo": "text",
         "line": {
          "color": "grey"
         },
         "text": [
          "cost = 33.5",
          "cost = 33.5"
         ],
         "type": "scatter",
         "visible": false,
         "x": [
          -36.25,
          -13.75
         ],
         "y": [
          -23.125,
          -11.875
         ]
        },
        {
         "hoverinfo": "text",
         "line": {
          "color": "grey"
         },
         "text": [
          "cost = 33.5",
          "cost = 33.5"
         ],
         "type": "scatter",
         "visible": false,
         "x": [
          -11.875,
          -23.125
         ],
         "y": [
          -13.75,
          -36.25
         ]
        },
        {
         "hoverinfo": "text",
         "line": {
          "color": "grey"
         },
         "text": [
          "cost = 42.7",
          "cost = 42.7"
         ],
         "type": "scatter",
         "visible": false,
         "x": [
          -26.875,
          -38.125
         ],
         "y": [
          -35,
          -5
         ]
        },
        {
         "hoverinfo": "text",
         "line": {
          "color": "grey"
         },
         "text": [
          "cost = 31.6",
          "cost = 31.6"
         ],
         "type": "scatter",
         "visible": false,
         "x": [
          -36.25,
          -13.75
         ],
         "y": [
          -1.25,
          -8.75
         ]
        },
        {
         "hoverinfo": "text",
         "line": {
          "color": "grey"
         },
         "text": [
          "cost = 33.5",
          "cost = 33.5"
         ],
         "type": "scatter",
         "visible": false,
         "x": [
          -13.75,
          -36.25
         ],
         "y": [
          -11.875,
          -23.125
         ]
        },
        {
         "hoverinfo": "text",
         "line": {
          "color": "grey"
         },
         "text": [
          "cost = 33.5",
          "cost = 33.5"
         ],
         "type": "scatter",
         "visible": false,
         "x": [
          -36.25,
          -13.75
         ],
         "y": [
          -23.125,
          -11.875
         ]
        },
        {
         "hoverinfo": "text",
         "line": {
          "color": "grey"
         },
         "text": [
          "cost = 33.5",
          "cost = 33.5"
         ],
         "type": "scatter",
         "visible": false,
         "x": [
          -13.75,
          -36.25
         ],
         "y": [
          -11.875,
          -23.125
         ]
        },
        {
         "hoverinfo": "text",
         "line": {
          "color": "grey"
         },
         "text": [
          "cost = 25.0",
          "cost = 25.0"
         ],
         "type": "scatter",
         "visible": false,
         "x": [
          -40,
          -40
         ],
         "y": [
          -21.875,
          -3.125
         ]
        },
        {
         "hoverinfo": "text",
         "line": {
          "color": "grey"
         },
         "text": [
          "cost = 31.6",
          "cost = 31.6"
         ],
         "type": "scatter",
         "visible": false,
         "x": [
          -36.25,
          -13.75
         ],
         "y": [
          -1.25,
          -8.75
         ]
        },
        {
         "hoverinfo": "text",
         "line": {
          "color": "grey"
         },
         "text": [
          "cost = 31.6",
          "cost = 31.6"
         ],
         "type": "scatter",
         "visible": false,
         "x": [
          -13.75,
          -36.25
         ],
         "y": [
          -8.75,
          -1.25
         ]
        },
        {
         "hoverinfo": "text",
         "line": {
          "color": "grey"
         },
         "text": [
          "cost = 31.6",
          "cost = 31.6"
         ],
         "type": "scatter",
         "visible": false,
         "x": [
          -36.25,
          -13.75
         ],
         "y": [
          -1.25,
          -8.75
         ]
        },
        {
         "hoverinfo": "text",
         "line": {
          "color": "grey"
         },
         "text": [
          "cost = 57.0",
          "cost = 57.0"
         ],
         "type": "scatter",
         "visible": false,
         "x": [
          -17.5,
          -2.5
         ],
         "y": [
          17.5,
          2.5
         ]
        },
        {
         "hoverinfo": "text",
         "line": {
          "color": "grey"
         },
         "text": [
          "cost = 63.0",
          "cost = 63.0"
         ],
         "type": "scatter",
         "visible": false,
         "x": [
          -18.75,
          -11.25
         ],
         "y": [
          16.25,
          -6.25
         ]
        }
       ],
       "layout": {
        "annotations": [
         {
          "font": {
           "color": "black",
           "size": 15
          },
          "showarrow": false,
          "text": "I = 5.0",
          "x": 20,
          "xref": "x",
          "y": 20,
          "yref": "y"
         },
         {
          "font": {
           "color": "black",
           "size": 15
          },
          "showarrow": false,
          "text": "I = 3.0",
          "x": 10,
          "xref": "x",
          "y": 40,
          "yref": "y"
         },
         {
          "font": {
           "color": "black",
           "size": 15
          },
          "showarrow": false,
          "text": "I = 2.0",
          "x": 50,
          "xref": "x",
          "y": 6,
          "yref": "y"
         },
         {
          "font": {
           "color": "black",
           "size": 15
          },
          "showarrow": false,
          "text": "I = 4.0",
          "x": 30,
          "xref": "x",
          "y": 14,
          "yref": "y"
         },
         {
          "font": {
           "color": "black",
           "size": 15
          },
          "showarrow": false,
          "text": "I = 5.0",
          "x": 0,
          "xref": "x",
          "y": -40,
          "yref": "y"
         },
         {
          "font": {
           "color": "black",
           "size": 15
          },
          "showarrow": false,
          "text": "I = 3.0",
          "x": -25,
          "xref": "x",
          "y": -40,
          "yref": "y"
         },
         {
          "font": {
           "color": "black",
           "size": 15
          },
          "showarrow": false,
          "text": "I = 2.0",
          "x": -40,
          "xref": "x",
          "y": -25,
          "yref": "y"
         },
         {
          "font": {
           "color": "black",
           "size": 15
          },
          "showarrow": false,
          "text": "I = 4.0",
          "x": -40,
          "xref": "x",
          "y": 0,
          "yref": "y"
         },
         {
          "font": {
           "color": "yellow",
           "size": 15
          },
          "showarrow": false,
          "text": "I = 10",
          "x": 0,
          "xref": "x",
          "y": 0,
          "yref": "y"
         },
         {
          "font": {
           "color": "yellow",
           "size": 15
          },
          "showarrow": false,
          "text": "I = 10",
          "x": -10,
          "xref": "x",
          "y": -10,
          "yref": "y"
         },
         {
          "font": {
           "color": "black",
           "size": 15
          },
          "showarrow": false,
          "text": "CENTRAL",
          "x": -20,
          "xref": "x",
          "y": 20,
          "yref": "y"
         }
        ],
        "font": {
         "size": 12
        },
        "hovermode": "closest",
        "margin": {
         "b": 85,
         "l": 40,
         "r": 40,
         "t": 100
        },
        "plot_bgcolor": "rgb(248,248,248)",
        "showlegend": false,
        "template": {
         "data": {
          "bar": [
           {
            "error_x": {
             "color": "#2a3f5f"
            },
            "error_y": {
             "color": "#2a3f5f"
            },
            "marker": {
             "line": {
              "color": "#E5ECF6",
              "width": 0.5
             }
            },
            "type": "bar"
           }
          ],
          "barpolar": [
           {
            "marker": {
             "line": {
              "color": "#E5ECF6",
              "width": 0.5
             }
            },
            "type": "barpolar"
           }
          ],
          "carpet": [
           {
            "aaxis": {
             "endlinecolor": "#2a3f5f",
             "gridcolor": "white",
             "linecolor": "white",
             "minorgridcolor": "white",
             "startlinecolor": "#2a3f5f"
            },
            "baxis": {
             "endlinecolor": "#2a3f5f",
             "gridcolor": "white",
             "linecolor": "white",
             "minorgridcolor": "white",
             "startlinecolor": "#2a3f5f"
            },
            "type": "carpet"
           }
          ],
          "choropleth": [
           {
            "colorbar": {
             "outlinewidth": 0,
             "ticks": ""
            },
            "type": "choropleth"
           }
          ],
          "contour": [
           {
            "colorbar": {
             "outlinewidth": 0,
             "ticks": ""
            },
            "colorscale": [
             [
              0,
              "#0d0887"
             ],
             [
              0.1111111111111111,
              "#46039f"
             ],
             [
              0.2222222222222222,
              "#7201a8"
             ],
             [
              0.3333333333333333,
              "#9c179e"
             ],
             [
              0.4444444444444444,
              "#bd3786"
             ],
             [
              0.5555555555555556,
              "#d8576b"
             ],
             [
              0.6666666666666666,
              "#ed7953"
             ],
             [
              0.7777777777777778,
              "#fb9f3a"
             ],
             [
              0.8888888888888888,
              "#fdca26"
             ],
             [
              1,
              "#f0f921"
             ]
            ],
            "type": "contour"
           }
          ],
          "contourcarpet": [
           {
            "colorbar": {
             "outlinewidth": 0,
             "ticks": ""
            },
            "type": "contourcarpet"
           }
          ],
          "heatmap": [
           {
            "colorbar": {
             "outlinewidth": 0,
             "ticks": ""
            },
            "colorscale": [
             [
              0,
              "#0d0887"
             ],
             [
              0.1111111111111111,
              "#46039f"
             ],
             [
              0.2222222222222222,
              "#7201a8"
             ],
             [
              0.3333333333333333,
              "#9c179e"
             ],
             [
              0.4444444444444444,
              "#bd3786"
             ],
             [
              0.5555555555555556,
              "#d8576b"
             ],
             [
              0.6666666666666666,
              "#ed7953"
             ],
             [
              0.7777777777777778,
              "#fb9f3a"
             ],
             [
              0.8888888888888888,
              "#fdca26"
             ],
             [
              1,
              "#f0f921"
             ]
            ],
            "type": "heatmap"
           }
          ],
          "heatmapgl": [
           {
            "colorbar": {
             "outlinewidth": 0,
             "ticks": ""
            },
            "colorscale": [
             [
              0,
              "#0d0887"
             ],
             [
              0.1111111111111111,
              "#46039f"
             ],
             [
              0.2222222222222222,
              "#7201a8"
             ],
             [
              0.3333333333333333,
              "#9c179e"
             ],
             [
              0.4444444444444444,
              "#bd3786"
             ],
             [
              0.5555555555555556,
              "#d8576b"
             ],
             [
              0.6666666666666666,
              "#ed7953"
             ],
             [
              0.7777777777777778,
              "#fb9f3a"
             ],
             [
              0.8888888888888888,
              "#fdca26"
             ],
             [
              1,
              "#f0f921"
             ]
            ],
            "type": "heatmapgl"
           }
          ],
          "histogram": [
           {
            "marker": {
             "colorbar": {
              "outlinewidth": 0,
              "ticks": ""
             }
            },
            "type": "histogram"
           }
          ],
          "histogram2d": [
           {
            "colorbar": {
             "outlinewidth": 0,
             "ticks": ""
            },
            "colorscale": [
             [
              0,
              "#0d0887"
             ],
             [
              0.1111111111111111,
              "#46039f"
             ],
             [
              0.2222222222222222,
              "#7201a8"
             ],
             [
              0.3333333333333333,
              "#9c179e"
             ],
             [
              0.4444444444444444,
              "#bd3786"
             ],
             [
              0.5555555555555556,
              "#d8576b"
             ],
             [
              0.6666666666666666,
              "#ed7953"
             ],
             [
              0.7777777777777778,
              "#fb9f3a"
             ],
             [
              0.8888888888888888,
              "#fdca26"
             ],
             [
              1,
              "#f0f921"
             ]
            ],
            "type": "histogram2d"
           }
          ],
          "histogram2dcontour": [
           {
            "colorbar": {
             "outlinewidth": 0,
             "ticks": ""
            },
            "colorscale": [
             [
              0,
              "#0d0887"
             ],
             [
              0.1111111111111111,
              "#46039f"
             ],
             [
              0.2222222222222222,
              "#7201a8"
             ],
             [
              0.3333333333333333,
              "#9c179e"
             ],
             [
              0.4444444444444444,
              "#bd3786"
             ],
             [
              0.5555555555555556,
              "#d8576b"
             ],
             [
              0.6666666666666666,
              "#ed7953"
             ],
             [
              0.7777777777777778,
              "#fb9f3a"
             ],
             [
              0.8888888888888888,
              "#fdca26"
             ],
             [
              1,
              "#f0f921"
             ]
            ],
            "type": "histogram2dcontour"
           }
          ],
          "mesh3d": [
           {
            "colorbar": {
             "outlinewidth": 0,
             "ticks": ""
            },
            "type": "mesh3d"
           }
          ],
          "parcoords": [
           {
            "line": {
             "colorbar": {
              "outlinewidth": 0,
              "ticks": ""
             }
            },
            "type": "parcoords"
           }
          ],
          "pie": [
           {
            "automargin": true,
            "type": "pie"
           }
          ],
          "scatter": [
           {
            "marker": {
             "colorbar": {
              "outlinewidth": 0,
              "ticks": ""
             }
            },
            "type": "scatter"
           }
          ],
          "scatter3d": [
           {
            "line": {
             "colorbar": {
              "outlinewidth": 0,
              "ticks": ""
             }
            },
            "marker": {
             "colorbar": {
              "outlinewidth": 0,
              "ticks": ""
             }
            },
            "type": "scatter3d"
           }
          ],
          "scattercarpet": [
           {
            "marker": {
             "colorbar": {
              "outlinewidth": 0,
              "ticks": ""
             }
            },
            "type": "scattercarpet"
           }
          ],
          "scattergeo": [
           {
            "marker": {
             "colorbar": {
              "outlinewidth": 0,
              "ticks": ""
             }
            },
            "type": "scattergeo"
           }
          ],
          "scattergl": [
           {
            "marker": {
             "colorbar": {
              "outlinewidth": 0,
              "ticks": ""
             }
            },
            "type": "scattergl"
           }
          ],
          "scattermapbox": [
           {
            "marker": {
             "colorbar": {
              "outlinewidth": 0,
              "ticks": ""
             }
            },
            "type": "scattermapbox"
           }
          ],
          "scatterpolar": [
           {
            "marker": {
             "colorbar": {
              "outlinewidth": 0,
              "ticks": ""
             }
            },
            "type": "scatterpolar"
           }
          ],
          "scatterpolargl": [
           {
            "marker": {
             "colorbar": {
              "outlinewidth": 0,
              "ticks": ""
             }
            },
            "type": "scatterpolargl"
           }
          ],
          "scatterternary": [
           {
            "marker": {
             "colorbar": {
              "outlinewidth": 0,
              "ticks": ""
             }
            },
            "type": "scatterternary"
           }
          ],
          "surface": [
           {
            "colorbar": {
             "outlinewidth": 0,
             "ticks": ""
            },
            "colorscale": [
             [
              0,
              "#0d0887"
             ],
             [
              0.1111111111111111,
              "#46039f"
             ],
             [
              0.2222222222222222,
              "#7201a8"
             ],
             [
              0.3333333333333333,
              "#9c179e"
             ],
             [
              0.4444444444444444,
              "#bd3786"
             ],
             [
              0.5555555555555556,
              "#d8576b"
             ],
             [
              0.6666666666666666,
              "#ed7953"
             ],
             [
              0.7777777777777778,
              "#fb9f3a"
             ],
             [
              0.8888888888888888,
              "#fdca26"
             ],
             [
              1,
              "#f0f921"
             ]
            ],
            "type": "surface"
           }
          ],
          "table": [
           {
            "cells": {
             "fill": {
              "color": "#EBF0F8"
             },
             "line": {
              "color": "white"
             }
            },
            "header": {
             "fill": {
              "color": "#C8D4E3"
             },
             "line": {
              "color": "white"
             }
            },
            "type": "table"
           }
          ]
         },
         "layout": {
          "annotationdefaults": {
           "arrowcolor": "#2a3f5f",
           "arrowhead": 0,
           "arrowwidth": 1
          },
          "coloraxis": {
           "colorbar": {
            "outlinewidth": 0,
            "ticks": ""
           }
          },
          "colorscale": {
           "diverging": [
            [
             0,
             "#8e0152"
            ],
            [
             0.1,
             "#c51b7d"
            ],
            [
             0.2,
             "#de77ae"
            ],
            [
             0.3,
             "#f1b6da"
            ],
            [
             0.4,
             "#fde0ef"
            ],
            [
             0.5,
             "#f7f7f7"
            ],
            [
             0.6,
             "#e6f5d0"
            ],
            [
             0.7,
             "#b8e186"
            ],
            [
             0.8,
             "#7fbc41"
            ],
            [
             0.9,
             "#4d9221"
            ],
            [
             1,
             "#276419"
            ]
           ],
           "sequential": [
            [
             0,
             "#0d0887"
            ],
            [
             0.1111111111111111,
             "#46039f"
            ],
            [
             0.2222222222222222,
             "#7201a8"
            ],
            [
             0.3333333333333333,
             "#9c179e"
            ],
            [
             0.4444444444444444,
             "#bd3786"
            ],
            [
             0.5555555555555556,
             "#d8576b"
            ],
            [
             0.6666666666666666,
             "#ed7953"
            ],
            [
             0.7777777777777778,
             "#fb9f3a"
            ],
            [
             0.8888888888888888,
             "#fdca26"
            ],
            [
             1,
             "#f0f921"
            ]
           ],
           "sequentialminus": [
            [
             0,
             "#0d0887"
            ],
            [
             0.1111111111111111,
             "#46039f"
            ],
            [
             0.2222222222222222,
             "#7201a8"
            ],
            [
             0.3333333333333333,
             "#9c179e"
            ],
            [
             0.4444444444444444,
             "#bd3786"
            ],
            [
             0.5555555555555556,
             "#d8576b"
            ],
            [
             0.6666666666666666,
             "#ed7953"
            ],
            [
             0.7777777777777778,
             "#fb9f3a"
            ],
            [
             0.8888888888888888,
             "#fdca26"
            ],
            [
             1,
             "#f0f921"
            ]
           ]
          },
          "colorway": [
           "#636efa",
           "#EF553B",
           "#00cc96",
           "#ab63fa",
           "#FFA15A",
           "#19d3f3",
           "#FF6692",
           "#B6E880",
           "#FF97FF",
           "#FECB52"
          ],
          "font": {
           "color": "#2a3f5f"
          },
          "geo": {
           "bgcolor": "white",
           "lakecolor": "white",
           "landcolor": "#E5ECF6",
           "showlakes": true,
           "showland": true,
           "subunitcolor": "white"
          },
          "hoverlabel": {
           "align": "left"
          },
          "hovermode": "closest",
          "mapbox": {
           "style": "light"
          },
          "paper_bgcolor": "white",
          "plot_bgcolor": "#E5ECF6",
          "polar": {
           "angularaxis": {
            "gridcolor": "white",
            "linecolor": "white",
            "ticks": ""
           },
           "bgcolor": "#E5ECF6",
           "radialaxis": {
            "gridcolor": "white",
            "linecolor": "white",
            "ticks": ""
           }
          },
          "scene": {
           "xaxis": {
            "backgroundcolor": "#E5ECF6",
            "gridcolor": "white",
            "gridwidth": 2,
            "linecolor": "white",
            "showbackground": true,
            "ticks": "",
            "zerolinecolor": "white"
           },
           "yaxis": {
            "backgroundcolor": "#E5ECF6",
            "gridcolor": "white",
            "gridwidth": 2,
            "linecolor": "white",
            "showbackground": true,
            "ticks": "",
            "zerolinecolor": "white"
           },
           "zaxis": {
            "backgroundcolor": "#E5ECF6",
            "gridcolor": "white",
            "gridwidth": 2,
            "linecolor": "white",
            "showbackground": true,
            "ticks": "",
            "zerolinecolor": "white"
           }
          },
          "shapedefaults": {
           "line": {
            "color": "#2a3f5f"
           }
          },
          "ternary": {
           "aaxis": {
            "gridcolor": "white",
            "linecolor": "white",
            "ticks": ""
           },
           "baxis": {
            "gridcolor": "white",
            "linecolor": "white",
            "ticks": ""
           },
           "bgcolor": "#E5ECF6",
           "caxis": {
            "gridcolor": "white",
            "linecolor": "white",
            "ticks": ""
           }
          },
          "title": {
           "x": 0.05
          },
          "xaxis": {
           "automargin": true,
           "gridcolor": "white",
           "linecolor": "white",
           "ticks": "",
           "title": {
            "standoff": 15
           },
           "zerolinecolor": "white",
           "zerolinewidth": 2
          },
          "yaxis": {
           "automargin": true,
           "gridcolor": "white",
           "linecolor": "white",
           "ticks": "",
           "title": {
            "standoff": 15
           },
           "zerolinecolor": "white",
           "zerolinewidth": 2
          }
         }
        },
        "title": {
         "text": "WFP Inventory problem        Cost = 0          Total Cost = 0   Truck 1 capacity : 5.0   Truck 2 capacity : 20"
        },
        "updatemenus": [
         {
          "buttons": [
           {
            "args": [
             {
              "visible": [
               true,
               true,
               true,
               false,
               false,
               false,
               false,
               false,
               false,
               false,
               false,
               false,
               false,
               false,
               false,
               false,
               false,
               false,
               false,
               false,
               false,
               false,
               false,
               false,
               false,
               false,
               false,
               false,
               false,
               false,
               false,
               false,
               false,
               false,
               false,
               false,
               false,
               false,
               false,
               false,
               false,
               false,
               false,
               false,
               false,
               false,
               false,
               false,
               false,
               false,
               false,
               false,
               false,
               false,
               false,
               false,
               false
              ]
             },
             {
              "annotations": [
               {
                "font": {
                 "color": "black",
                 "size": 15
                },
                "showarrow": false,
                "text": "I = 5.0",
                "x": 20,
                "xref": "x1",
                "y": 20,
                "yref": "y1"
               },
               {
                "font": {
                 "color": "black",
                 "size": 15
                },
                "showarrow": false,
                "text": "I = 3.0",
                "x": 10,
                "xref": "x1",
                "y": 40,
                "yref": "y1"
               },
               {
                "font": {
                 "color": "black",
                 "size": 15
                },
                "showarrow": false,
                "text": "I = 2.0",
                "x": 50,
                "xref": "x1",
                "y": 6,
                "yref": "y1"
               },
               {
                "font": {
                 "color": "black",
                 "size": 15
                },
                "showarrow": false,
                "text": "I = 4.0",
                "x": 30,
                "xref": "x1",
                "y": 14,
                "yref": "y1"
               },
               {
                "font": {
                 "color": "black",
                 "size": 15
                },
                "showarrow": false,
                "text": "I = 5.0",
                "x": 0,
                "xref": "x1",
                "y": -40,
                "yref": "y1"
               },
               {
                "font": {
                 "color": "black",
                 "size": 15
                },
                "showarrow": false,
                "text": "I = 3.0",
                "x": -25,
                "xref": "x1",
                "y": -40,
                "yref": "y1"
               },
               {
                "font": {
                 "color": "black",
                 "size": 15
                },
                "showarrow": false,
                "text": "I = 2.0",
                "x": -40,
                "xref": "x1",
                "y": -25,
                "yref": "y1"
               },
               {
                "font": {
                 "color": "black",
                 "size": 15
                },
                "showarrow": false,
                "text": "I = 4.0",
                "x": -40,
                "xref": "x1",
                "y": 0,
                "yref": "y1"
               },
               {
                "font": {
                 "color": "yellow",
                 "size": 15
                },
                "showarrow": false,
                "text": "I = 10",
                "x": 0,
                "xref": "x1",
                "y": 0,
                "yref": "y1"
               },
               {
                "font": {
                 "color": "yellow",
                 "size": 15
                },
                "showarrow": false,
                "text": "I = 10",
                "x": -10,
                "xref": "x1",
                "y": -10,
                "yref": "y1"
               },
               {
                "font": {
                 "color": "black",
                 "size": 15
                },
                "showarrow": false,
                "text": "CENTRAL",
                "x": -20,
                "xref": "x1",
                "y": 20,
                "yref": "y1"
               }
              ],
              "title": "WFP Inventory problem        Cost = 0          Total Cost = 0   Truck 1 capacity : 5.0   Truck 2 capacity : 20"
             }
            ],
            "label": "t = 0 (before lunch)",
            "method": "update"
           },
           {
            "args": [
             {
              "visible": [
               true,
               true,
               true,
               false,
               false,
               false,
               false,
               false,
               false,
               false,
               false,
               false,
               false,
               false,
               false,
               false,
               true,
               true,
               true,
               false,
               false,
               false,
               false,
               false,
               false,
               false,
               false,
               false,
               false,
               false,
               false,
               false,
               false,
               false,
               false,
               false,
               false,
               false,
               false,
               false,
               false,
               false,
               true,
               true,
               true,
               false,
               false,
               false,
               false,
               false,
               false,
               false,
               false,
               false,
               false,
               false,
               false
              ]
             },
             {
              "annotations": [
               {
                "font": {
                 "color": "black",
                 "size": 15
                },
                "showarrow": false,
                "text": "I = 4.0",
                "x": 20,
                "xref": "x1",
                "y": 20,
                "yref": "y1"
               },
               {
                "font": {
                 "color": "black",
                 "size": 15
                },
                "showarrow": false,
                "text": "I = 3.0",
                "x": 10,
                "xref": "x1",
                "y": 40,
                "yref": "y1"
               },
               {
                "font": {
                 "color": "black",
                 "size": 15
                },
                "showarrow": false,
                "text": "I = 2.0",
                "x": 50,
                "xref": "x1",
                "y": 6,
                "yref": "y1"
               },
               {
                "font": {
                 "color": "black",
                 "size": 15
                },
                "showarrow": false,
                "text": "I = 2.5",
                "x": 30,
                "xref": "x1",
                "y": 14,
                "yref": "y1"
               },
               {
                "font": {
                 "color": "black",
                 "size": 15
                },
                "showarrow": false,
                "text": "I = 4.0",
                "x": 0,
                "xref": "x1",
                "y": -40,
                "yref": "y1"
               },
               {
                "font": {
                 "color": "black",
                 "size": 15
                },
                "showarrow": false,
                "text": "I = 3.0",
                "x": -25,
                "xref": "x1",
                "y": -40,
                "yref": "y1"
               },
               {
                "font": {
                 "color": "black",
                 "size": 15
                },
                "showarrow": false,
                "text": "I = 2.0",
                "x": -40,
                "xref": "x1",
                "y": -25,
                "yref": "y1"
               },
               {
                "font": {
                 "color": "black",
                 "size": 15
                },
                "showarrow": false,
                "text": "I = 2.5",
                "x": -40,
                "xref": "x1",
                "y": 0,
                "yref": "y1"
               },
               {
                "font": {
                 "color": "yellow",
                 "size": 15
                },
                "showarrow": false,
                "text": "I = 5.0",
                "x": 0,
                "xref": "x1",
                "y": 0,
                "yref": "y1"
               },
               {
                "font": {
                 "color": "yellow",
                 "size": 15
                },
                "showarrow": false,
                "text": "I = 5.0",
                "x": -10,
                "xref": "x1",
                "y": -10,
                "yref": "y1"
               },
               {
                "font": {
                 "color": "black",
                 "size": 15
                },
                "showarrow": false,
                "text": "CENTRAL",
                "x": -20,
                "xref": "x1",
                "y": 20,
                "yref": "y1"
               },
               {
                "font": {
                 "color": "grey",
                 "size": 15
                },
                "showarrow": false,
                "text": "3.0  ",
                "x": 6,
                "xref": "x1",
                "y": 21,
                "yref": "y1"
               },
               {
                "font": {
                 "color": "grey",
                 "size": 15
                },
                "showarrow": false,
                "text": "2.0  ",
                "x": 31,
                "xref": "x1",
                "y": 24,
                "yref": "y1"
               },
               {
                "font": {
                 "color": "grey",
                 "size": 15
                },
                "showarrow": false,
                "text": "3.0  ",
                "x": -16.5,
                "xref": "x1",
                "y": -24,
                "yref": "y1"
               },
               {
                "font": {
                 "color": "grey",
                 "size": 15
                },
                "showarrow": false,
                "text": "2.0  ",
                "x": -31.5,
                "xref": "x1",
                "y": -31.5,
                "yref": "y1"
               }
              ],
              "title": "WFP Inventory problem        Cost = 232.0          Total Cost = 232.0   Truck 1 capacity : 5.0   Truck 2 capacity : 20"
             }
            ],
            "label": "t = 1 (before lunch)",
            "method": "update"
           },
           {
            "args": [
             {
              "visible": [
               true,
               true,
               true,
               false,
               false,
               false,
               false,
               false,
               false,
               false,
               false,
               false,
               false,
               false,
               true,
               true,
               false,
               false,
               false,
               false,
               false,
               false,
               false,
               false,
               true,
               true,
               true,
               false,
               false,
               false,
               false,
               false,
               false,
               false,
               false,
               false,
               false,
               false,
               false,
               false,
               false,
               false,
               true,
               true,
               true,
               false,
               false,
               false,
               false,
               false,
               false,
               false,
               false,
               true,
               true,
               true,
               true
              ]
             },
             {
              "annotations": [
               {
                "font": {
                 "color": "black",
                 "size": 15
                },
                "showarrow": false,
                "text": "I = 3.0",
                "x": 20,
                "xref": "x1",
                "y": 20,
                "yref": "y1"
               },
               {
                "font": {
                 "color": "black",
                 "size": 15
                },
                "showarrow": false,
                "text": "I = 3.0",
                "x": 10,
                "xref": "x1",
                "y": 40,
                "yref": "y1"
               },
               {
                "font": {
                 "color": "black",
                 "size": 15
                },
                "showarrow": false,
                "text": "I = 2.0",
                "x": 50,
                "xref": "x1",
                "y": 6,
                "yref": "y1"
               },
               {
                "font": {
                 "color": "black",
                 "size": 15
                },
                "showarrow": false,
                "text": "I = 4.0",
                "x": 30,
                "xref": "x1",
                "y": 14,
                "yref": "y1"
               },
               {
                "font": {
                 "color": "black",
                 "size": 15
                },
                "showarrow": false,
                "text": "I = 3.0",
                "x": 0,
                "xref": "x1",
                "y": -40,
                "yref": "y1"
               },
               {
                "font": {
                 "color": "black",
                 "size": 15
                },
                "showarrow": false,
                "text": "I = 3.0",
                "x": -25,
                "xref": "x1",
                "y": -40,
                "yref": "y1"
               },
               {
                "font": {
                 "color": "black",
                 "size": 15
                },
                "showarrow": false,
                "text": "I = 2.0",
                "x": -40,
                "xref": "x1",
                "y": -25,
                "yref": "y1"
               },
               {
                "font": {
                 "color": "black",
                 "size": 15
                },
                "showarrow": false,
                "text": "I = 3.0",
                "x": -40,
                "xref": "x1",
                "y": 0,
                "yref": "y1"
               },
               {
                "font": {
                 "color": "yellow",
                 "size": 15
                },
                "showarrow": false,
                "text": "I = 17.0",
                "x": 0,
                "xref": "x1",
                "y": 0,
                "yref": "y1"
               },
               {
                "font": {
                 "color": "yellow",
                 "size": 15
                },
                "showarrow": false,
                "text": "I = 18.0",
                "x": -10,
                "xref": "x1",
                "y": -10,
                "yref": "y1"
               },
               {
                "font": {
                 "color": "black",
                 "size": 15
                },
                "showarrow": false,
                "text": "CENTRAL",
                "x": -20,
                "xref": "x1",
                "y": 20,
                "yref": "y1"
               },
               {
                "font": {
                 "color": "grey",
                 "size": 15
                },
                "showarrow": false,
                "text": "3.0  ",
                "x": 6,
                "xref": "x1",
                "y": 21,
                "yref": "y1"
               },
               {
                "font": {
                 "color": "grey",
                 "size": 15
                },
                "showarrow": false,
                "text": "2.0  ",
                "x": 26,
                "xref": "x1",
                "y": 4,
                "yref": "y1"
               },
               {
                "font": {
                 "color": "grey",
                 "size": 15
                },
                "showarrow": false,
                "text": "3.0  ",
                "x": 41,
                "xref": "x1",
                "y": 11,
                "yref": "y1"
               },
               {
                "font": {
                 "color": "grey",
                 "size": 15
                },
                "showarrow": false,
                "text": "3.0  ",
                "x": -16.5,
                "xref": "x1",
                "y": -24,
                "yref": "y1"
               },
               {
                "font": {
                 "color": "grey",
                 "size": 15
                },
                "showarrow": false,
                "text": "2.0  ",
                "x": -31.5,
                "xref": "x1",
                "y": -31.5,
                "yref": "y1"
               },
               {
                "font": {
                 "color": "grey",
                 "size": 15
                },
                "showarrow": false,
                "text": "2.0  ",
                "x": -24,
                "xref": "x1",
                "y": -4,
                "yref": "y1"
               }
              ],
              "title": "WFP Inventory problem        Cost = 459.0          Total Cost = 691.0   Truck 1 capacity : 5.0   Truck 2 capacity : 20"
             }
            ],
            "label": "t = 2 (before lunch)",
            "method": "update"
           },
           {
            "args": [
             {
              "visible": [
               true,
               true,
               true,
               false,
               false,
               false,
               false,
               false,
               false,
               false,
               false,
               false,
               false,
               false,
               false,
               false,
               true,
               true,
               true,
               false,
               false,
               false,
               false,
               false,
               false,
               false,
               false,
               false,
               false,
               false,
               false,
               false,
               false,
               false,
               false,
               false,
               false,
               false,
               false,
               false,
               false,
               false,
               true,
               true,
               true,
               false,
               false,
               false,
               false,
               false,
               false,
               false,
               false,
               false,
               false,
               false,
               false
              ]
             },
             {
              "annotations": [
               {
                "font": {
                 "color": "black",
                 "size": 15
                },
                "showarrow": false,
                "text": "I = 2.0",
                "x": 20,
                "xref": "x1",
                "y": 20,
                "yref": "y1"
               },
               {
                "font": {
                 "color": "black",
                 "size": 15
                },
                "showarrow": false,
                "text": "I = 3.0",
                "x": 10,
                "xref": "x1",
                "y": 40,
                "yref": "y1"
               },
               {
                "font": {
                 "color": "black",
                 "size": 15
                },
                "showarrow": false,
                "text": "I = 2.0",
                "x": 50,
                "xref": "x1",
                "y": 6,
                "yref": "y1"
               },
               {
                "font": {
                 "color": "black",
                 "size": 15
                },
                "showarrow": false,
                "text": "I = 2.5",
                "x": 30,
                "xref": "x1",
                "y": 14,
                "yref": "y1"
               },
               {
                "font": {
                 "color": "black",
                 "size": 15
                },
                "showarrow": false,
                "text": "I = 2.0",
                "x": 0,
                "xref": "x1",
                "y": -40,
                "yref": "y1"
               },
               {
                "font": {
                 "color": "black",
                 "size": 15
                },
                "showarrow": false,
                "text": "I = 3.0",
                "x": -25,
                "xref": "x1",
                "y": -40,
                "yref": "y1"
               },
               {
                "font": {
                 "color": "black",
                 "size": 15
                },
                "showarrow": false,
                "text": "I = 2.0",
                "x": -40,
                "xref": "x1",
                "y": -25,
                "yref": "y1"
               },
               {
                "font": {
                 "color": "black",
                 "size": 15
                },
                "showarrow": false,
                "text": "I = 1.5",
                "x": -40,
                "xref": "x1",
                "y": 0,
                "yref": "y1"
               },
               {
                "font": {
                 "color": "yellow",
                 "size": 15
                },
                "showarrow": false,
                "text": "I = 12.0",
                "x": 0,
                "xref": "x1",
                "y": 0,
                "yref": "y1"
               },
               {
                "font": {
                 "color": "yellow",
                 "size": 15
                },
                "showarrow": false,
                "text": "I = 13.0",
                "x": -10,
                "xref": "x1",
                "y": -10,
                "yref": "y1"
               },
               {
                "font": {
                 "color": "black",
                 "size": 15
                },
                "showarrow": false,
                "text": "CENTRAL",
                "x": -20,
                "xref": "x1",
                "y": 20,
                "yref": "y1"
               },
               {
                "font": {
                 "color": "grey",
                 "size": 15
                },
                "showarrow": false,
                "text": "3.0  ",
                "x": 6,
                "xref": "x1",
                "y": 21,
                "yref": "y1"
               },
               {
                "font": {
                 "color": "grey",
                 "size": 15
                },
                "showarrow": false,
                "text": "2.0  ",
                "x": 31,
                "xref": "x1",
                "y": 24,
                "yref": "y1"
               },
               {
                "font": {
                 "color": "grey",
                 "size": 15
                },
                "showarrow": false,
                "text": "3.0  ",
                "x": -16.5,
                "xref": "x1",
                "y": -24,
                "yref": "y1"
               },
               {
                "font": {
                 "color": "grey",
                 "size": 15
                },
                "showarrow": false,
                "text": "2.0  ",
                "x": -31.5,
                "xref": "x1",
                "y": -31.5,
                "yref": "y1"
               }
              ],
              "title": "WFP Inventory problem        Cost = 232.0          Total Cost = 924.0   Truck 1 capacity : 5.0   Truck 2 capacity : 20"
             }
            ],
            "label": "t = 3 (before lunch)",
            "method": "update"
           },
           {
            "args": [
             {
              "visible": [
               true,
               true,
               true,
               false,
               false,
               true,
               true,
               true,
               false,
               false,
               false,
               false,
               false,
               false,
               false,
               false,
               false,
               false,
               false,
               false,
               false,
               false,
               false,
               false,
               true,
               true,
               true,
               false,
               false,
               false,
               false,
               true,
               true,
               true,
               false,
               false,
               false,
               false,
               false,
               false,
               false,
               false,
               false,
               false,
               false,
               false,
               false,
               false,
               false,
               false,
               true,
               true,
               true,
               false,
               false,
               false,
               false
              ]
             },
             {
              "annotations": [
               {
                "font": {
                 "color": "black",
                 "size": 15
                },
                "showarrow": false,
                "text": "I = 3.0",
                "x": 20,
                "xref": "x1",
                "y": 20,
                "yref": "y1"
               },
               {
                "font": {
                 "color": "black",
                 "size": 15
                },
                "showarrow": false,
                "text": "I = 3.0",
                "x": 10,
                "xref": "x1",
                "y": 40,
                "yref": "y1"
               },
               {
                "font": {
                 "color": "black",
                 "size": 15
                },
                "showarrow": false,
                "text": "I = 2.0",
                "x": 50,
                "xref": "x1",
                "y": 6,
                "yref": "y1"
               },
               {
                "font": {
                 "color": "black",
                 "size": 15
                },
                "showarrow": false,
                "text": "I = 3.0",
                "x": 30,
                "xref": "x1",
                "y": 14,
                "yref": "y1"
               },
               {
                "font": {
                 "color": "black",
                 "size": 15
                },
                "showarrow": false,
                "text": "I = 3.0",
                "x": 0,
                "xref": "x1",
                "y": -40,
                "yref": "y1"
               },
               {
                "font": {
                 "color": "black",
                 "size": 15
                },
                "showarrow": false,
                "text": "I = 3.0",
                "x": -25,
                "xref": "x1",
                "y": -40,
                "yref": "y1"
               },
               {
                "font": {
                 "color": "black",
                 "size": 15
                },
                "showarrow": false,
                "text": "I = 2.0",
                "x": -40,
                "xref": "x1",
                "y": -25,
                "yref": "y1"
               },
               {
                "font": {
                 "color": "black",
                 "size": 15
                },
                "showarrow": false,
                "text": "I = 3.0",
                "x": -40,
                "xref": "x1",
                "y": 0,
                "yref": "y1"
               },
               {
                "font": {
                 "color": "yellow",
                 "size": 15
                },
                "showarrow": false,
                "text": "I = 3.0",
                "x": 0,
                "xref": "x1",
                "y": 0,
                "yref": "y1"
               },
               {
                "font": {
                 "color": "yellow",
                 "size": 15
                },
                "showarrow": false,
                "text": "I = 3.0",
                "x": -10,
                "xref": "x1",
                "y": -10,
                "yref": "y1"
               },
               {
                "font": {
                 "color": "black",
                 "size": 15
                },
                "showarrow": false,
                "text": "CENTRAL",
                "x": -20,
                "xref": "x1",
                "y": 20,
                "yref": "y1"
               },
               {
                "font": {
                 "color": "grey",
                 "size": 15
                },
                "showarrow": false,
                "text": "2.0  ",
                "x": 11,
                "xref": "x1",
                "y": 11,
                "yref": "y1"
               },
               {
                "font": {
                 "color": "grey",
                 "size": 15
                },
                "showarrow": false,
                "text": "3.0  ",
                "x": 16,
                "xref": "x1",
                "y": 31,
                "yref": "y1"
               },
               {
                "font": {
                 "color": "grey",
                 "size": 15
                },
                "showarrow": false,
                "text": "2.0  ",
                "x": 26,
                "xref": "x1",
                "y": 4,
                "yref": "y1"
               },
               {
                "font": {
                 "color": "grey",
                 "size": 15
                },
                "showarrow": false,
                "text": "2.0  ",
                "x": 41,
                "xref": "x1",
                "y": 11,
                "yref": "y1"
               },
               {
                "font": {
                 "color": "grey",
                 "size": 15
                },
                "showarrow": false,
                "text": "2.0  ",
                "x": -4,
                "xref": "x1",
                "y": -24,
                "yref": "y1"
               },
               {
                "font": {
                 "color": "grey",
                 "size": 15
                },
                "showarrow": false,
                "text": "3.0  ",
                "x": -11.5,
                "xref": "x1",
                "y": -39,
                "yref": "y1"
               },
               {
                "font": {
                 "color": "grey",
                 "size": 15
                },
                "showarrow": false,
                "text": "2.0  ",
                "x": -24,
                "xref": "x1",
                "y": -16.5,
                "yref": "y1"
               },
               {
                "font": {
                 "color": "grey",
                 "size": 15
                },
                "showarrow": false,
                "text": "3.0  ",
                "x": -39,
                "xref": "x1",
                "y": -11.5,
                "yref": "y1"
               }
              ],
              "title": "WFP Inventory problem        Cost = 377.0          Total Cost = 1301.0   Truck 1 capacity : 5.0   Truck 2 capacity : 20"
             }
            ],
            "label": "t = 4 (before lunch)",
            "method": "update"
           },
           {
            "args": [
             {
              "visible": [
               true,
               true,
               true,
               false,
               false,
               false,
               false,
               false,
               false,
               false,
               false,
               false,
               false,
               false,
               false,
               false,
               true,
               true,
               true,
               false,
               false,
               false,
               false,
               false,
               false,
               false,
               false,
               false,
               false,
               false,
               false,
               false,
               false,
               false,
               false,
               false,
               false,
               false,
               false,
               false,
               false,
               false,
               true,
               true,
               true,
               false,
               false,
               false,
               false,
               false,
               false,
               false,
               false,
               false,
               false,
               true,
               true
              ]
             },
             {
              "annotations": [
               {
                "font": {
                 "color": "black",
                 "size": 15
                },
                "showarrow": false,
                "text": "I = 2.0",
                "x": 20,
                "xref": "x1",
                "y": 20,
                "yref": "y1"
               },
               {
                "font": {
                 "color": "black",
                 "size": 15
                },
                "showarrow": false,
                "text": "I = 3.0",
                "x": 10,
                "xref": "x1",
                "y": 40,
                "yref": "y1"
               },
               {
                "font": {
                 "color": "black",
                 "size": 15
                },
                "showarrow": false,
                "text": "I = 2.0",
                "x": 50,
                "xref": "x1",
                "y": 6,
                "yref": "y1"
               },
               {
                "font": {
                 "color": "black",
                 "size": 15
                },
                "showarrow": false,
                "text": "I = 1.5",
                "x": 30,
                "xref": "x1",
                "y": 14,
                "yref": "y1"
               },
               {
                "font": {
                 "color": "black",
                 "size": 15
                },
                "showarrow": false,
                "text": "I = 2.0",
                "x": 0,
                "xref": "x1",
                "y": -40,
                "yref": "y1"
               },
               {
                "font": {
                 "color": "black",
                 "size": 15
                },
                "showarrow": false,
                "text": "I = 3.0",
                "x": -25,
                "xref": "x1",
                "y": -40,
                "yref": "y1"
               },
               {
                "font": {
                 "color": "black",
                 "size": 15
                },
                "showarrow": false,
                "text": "I = 2.0",
                "x": -40,
                "xref": "x1",
                "y": -25,
                "yref": "y1"
               },
               {
                "font": {
                 "color": "black",
                 "size": 15
                },
                "showarrow": false,
                "text": "I = 1.5",
                "x": -40,
                "xref": "x1",
                "y": 0,
                "yref": "y1"
               },
               {
                "font": {
                 "color": "yellow",
                 "size": 15
                },
                "showarrow": false,
                "text": "I = 18.0",
                "x": 0,
                "xref": "x1",
                "y": 0,
                "yref": "y1"
               },
               {
                "font": {
                 "color": "yellow",
                 "size": 15
                },
                "showarrow": false,
                "text": "I = 18.0",
                "x": -10,
                "xref": "x1",
                "y": -10,
                "yref": "y1"
               },
               {
                "font": {
                 "color": "black",
                 "size": 15
                },
                "showarrow": false,
                "text": "CENTRAL",
                "x": -20,
                "xref": "x1",
                "y": 20,
                "yref": "y1"
               },
               {
                "font": {
                 "color": "grey",
                 "size": 15
                },
                "showarrow": false,
                "text": "3.0  ",
                "x": 6,
                "xref": "x1",
                "y": 21,
                "yref": "y1"
               },
               {
                "font": {
                 "color": "grey",
                 "size": 15
                },
                "showarrow": false,
                "text": "2.0  ",
                "x": 31,
                "xref": "x1",
                "y": 24,
                "yref": "y1"
               },
               {
                "font": {
                 "color": "grey",
                 "size": 15
                },
                "showarrow": false,
                "text": "3.0  ",
                "x": -16.5,
                "xref": "x1",
                "y": -24,
                "yref": "y1"
               },
               {
                "font": {
                 "color": "grey",
                 "size": 15
                },
                "showarrow": false,
                "text": "2.0  ",
                "x": -31.5,
                "xref": "x1",
                "y": -31.5,
                "yref": "y1"
               }
              ],
              "title": "WFP Inventory problem        Cost = 352.0          Total Cost = 1653.0   Truck 1 capacity : 5.0   Truck 2 capacity : 20"
             }
            ],
            "label": "t = 5 (before lunch)",
            "method": "update"
           },
           {
            "args": [
             {
              "visible": [
               true,
               true,
               true,
               false,
               false,
               true,
               true,
               true,
               false,
               false,
               false,
               false,
               false,
               false,
               false,
               false,
               false,
               false,
               false,
               false,
               false,
               false,
               false,
               false,
               true,
               true,
               true,
               false,
               false,
               false,
               false,
               true,
               true,
               true,
               false,
               false,
               false,
               false,
               false,
               false,
               false,
               false,
               false,
               false,
               false,
               false,
               false,
               false,
               false,
               false,
               true,
               true,
               true,
               false,
               false,
               false,
               false
              ]
             },
             {
              "annotations": [
               {
                "font": {
                 "color": "black",
                 "size": 15
                },
                "showarrow": false,
                "text": "I = 3.0",
                "x": 20,
                "xref": "x1",
                "y": 20,
                "yref": "y1"
               },
               {
                "font": {
                 "color": "black",
                 "size": 15
                },
                "showarrow": false,
                "text": "I = 3.0",
                "x": 10,
                "xref": "x1",
                "y": 40,
                "yref": "y1"
               },
               {
                "font": {
                 "color": "black",
                 "size": 15
                },
                "showarrow": false,
                "text": "I = 2.0",
                "x": 50,
                "xref": "x1",
                "y": 6,
                "yref": "y1"
               },
               {
                "font": {
                 "color": "black",
                 "size": 15
                },
                "showarrow": false,
                "text": "I = 3.0",
                "x": 30,
                "xref": "x1",
                "y": 14,
                "yref": "y1"
               },
               {
                "font": {
                 "color": "black",
                 "size": 15
                },
                "showarrow": false,
                "text": "I = 3.0",
                "x": 0,
                "xref": "x1",
                "y": -40,
                "yref": "y1"
               },
               {
                "font": {
                 "color": "black",
                 "size": 15
                },
                "showarrow": false,
                "text": "I = 3.0",
                "x": -25,
                "xref": "x1",
                "y": -40,
                "yref": "y1"
               },
               {
                "font": {
                 "color": "black",
                 "size": 15
                },
                "showarrow": false,
                "text": "I = 2.0",
                "x": -40,
                "xref": "x1",
                "y": -25,
                "yref": "y1"
               },
               {
                "font": {
                 "color": "black",
                 "size": 15
                },
                "showarrow": false,
                "text": "I = 3.0",
                "x": -40,
                "xref": "x1",
                "y": 0,
                "yref": "y1"
               },
               {
                "font": {
                 "color": "yellow",
                 "size": 15
                },
                "showarrow": false,
                "text": "I = 8.0",
                "x": 0,
                "xref": "x1",
                "y": 0,
                "yref": "y1"
               },
               {
                "font": {
                 "color": "yellow",
                 "size": 15
                },
                "showarrow": false,
                "text": "I = 8.0",
                "x": -10,
                "xref": "x1",
                "y": -10,
                "yref": "y1"
               },
               {
                "font": {
                 "color": "black",
                 "size": 15
                },
                "showarrow": false,
                "text": "CENTRAL",
                "x": -20,
                "xref": "x1",
                "y": 20,
                "yref": "y1"
               },
               {
                "font": {
                 "color": "grey",
                 "size": 15
                },
                "showarrow": false,
                "text": "2.0  ",
                "x": 11,
                "xref": "x1",
                "y": 11,
                "yref": "y1"
               },
               {
                "font": {
                 "color": "grey",
                 "size": 15
                },
                "showarrow": false,
                "text": "3.0  ",
                "x": 16,
                "xref": "x1",
                "y": 31,
                "yref": "y1"
               },
               {
                "font": {
                 "color": "grey",
                 "size": 15
                },
                "showarrow": false,
                "text": "2.0  ",
                "x": 26,
                "xref": "x1",
                "y": 4,
                "yref": "y1"
               },
               {
                "font": {
                 "color": "grey",
                 "size": 15
                },
                "showarrow": false,
                "text": "3.0  ",
                "x": 41,
                "xref": "x1",
                "y": 11,
                "yref": "y1"
               },
               {
                "font": {
                 "color": "grey",
                 "size": 15
                },
                "showarrow": false,
                "text": "2.0  ",
                "x": -4,
                "xref": "x1",
                "y": -24,
                "yref": "y1"
               },
               {
                "font": {
                 "color": "grey",
                 "size": 15
                },
                "showarrow": false,
                "text": "3.0  ",
                "x": -11.5,
                "xref": "x1",
                "y": -39,
                "yref": "y1"
               },
               {
                "font": {
                 "color": "grey",
                 "size": 15
                },
                "showarrow": false,
                "text": "2.0  ",
                "x": -24,
                "xref": "x1",
                "y": -16.5,
                "yref": "y1"
               },
               {
                "font": {
                 "color": "grey",
                 "size": 15
                },
                "showarrow": false,
                "text": "3.0  ",
                "x": -39,
                "xref": "x1",
                "y": -11.5,
                "yref": "y1"
               }
              ],
              "title": "WFP Inventory problem        Cost = 377.0          Total Cost = 2031.0   Truck 1 capacity : 5.0   Truck 2 capacity : 20"
             }
            ],
            "label": "t = 6 (before lunch)",
            "method": "update"
           },
           {
            "args": [
             {
              "visible": [
               true,
               true,
               true,
               false,
               false,
               false,
               false,
               false,
               false,
               false,
               false,
               false,
               false,
               false,
               false,
               false,
               true,
               true,
               true,
               false,
               false,
               false,
               false,
               false,
               false,
               false,
               false,
               false,
               false,
               false,
               false,
               false,
               false,
               false,
               false,
               false,
               false,
               false,
               false,
               false,
               false,
               false,
               true,
               true,
               true,
               false,
               false,
               false,
               false,
               false,
               false,
               false,
               false,
               false,
               false,
               false,
               false
              ]
             },
             {
              "annotations": [
               {
                "font": {
                 "color": "black",
                 "size": 15
                },
                "showarrow": false,
                "text": "I = 2.0",
                "x": 20,
                "xref": "x1",
                "y": 20,
                "yref": "y1"
               },
               {
                "font": {
                 "color": "black",
                 "size": 15
                },
                "showarrow": false,
                "text": "I = 3.0",
                "x": 10,
                "xref": "x1",
                "y": 40,
                "yref": "y1"
               },
               {
                "font": {
                 "color": "black",
                 "size": 15
                },
                "showarrow": false,
                "text": "I = 2.0",
                "x": 50,
                "xref": "x1",
                "y": 6,
                "yref": "y1"
               },
               {
                "font": {
                 "color": "black",
                 "size": 15
                },
                "showarrow": false,
                "text": "I = 1.5",
                "x": 30,
                "xref": "x1",
                "y": 14,
                "yref": "y1"
               },
               {
                "font": {
                 "color": "black",
                 "size": 15
                },
                "showarrow": false,
                "text": "I = 2.0",
                "x": 0,
                "xref": "x1",
                "y": -40,
                "yref": "y1"
               },
               {
                "font": {
                 "color": "black",
                 "size": 15
                },
                "showarrow": false,
                "text": "I = 3.0",
                "x": -25,
                "xref": "x1",
                "y": -40,
                "yref": "y1"
               },
               {
                "font": {
                 "color": "black",
                 "size": 15
                },
                "showarrow": false,
                "text": "I = 2.0",
                "x": -40,
                "xref": "x1",
                "y": -25,
                "yref": "y1"
               },
               {
                "font": {
                 "color": "black",
                 "size": 15
                },
                "showarrow": false,
                "text": "I = 1.5",
                "x": -40,
                "xref": "x1",
                "y": 0,
                "yref": "y1"
               },
               {
                "font": {
                 "color": "yellow",
                 "size": 15
                },
                "showarrow": false,
                "text": "I = 3.0",
                "x": 0,
                "xref": "x1",
                "y": 0,
                "yref": "y1"
               },
               {
                "font": {
                 "color": "yellow",
                 "size": 15
                },
                "showarrow": false,
                "text": "I = 3.0",
                "x": -10,
                "xref": "x1",
                "y": -10,
                "yref": "y1"
               },
               {
                "font": {
                 "color": "black",
                 "size": 15
                },
                "showarrow": false,
                "text": "CENTRAL",
                "x": -20,
                "xref": "x1",
                "y": 20,
                "yref": "y1"
               },
               {
                "font": {
                 "color": "grey",
                 "size": 15
                },
                "showarrow": false,
                "text": "3.0  ",
                "x": 6,
                "xref": "x1",
                "y": 21,
                "yref": "y1"
               },
               {
                "font": {
                 "color": "grey",
                 "size": 15
                },
                "showarrow": false,
                "text": "2.0  ",
                "x": 31,
                "xref": "x1",
                "y": 24,
                "yref": "y1"
               },
               {
                "font": {
                 "color": "grey",
                 "size": 15
                },
                "showarrow": false,
                "text": "3.0  ",
                "x": -16.5,
                "xref": "x1",
                "y": -24,
                "yref": "y1"
               },
               {
                "font": {
                 "color": "grey",
                 "size": 15
                },
                "showarrow": false,
                "text": "2.0  ",
                "x": -31.5,
                "xref": "x1",
                "y": -31.5,
                "yref": "y1"
               }
              ],
              "title": "WFP Inventory problem        Cost = 232.0          Total Cost = 2263.0   Truck 1 capacity : 5.0   Truck 2 capacity : 20"
             }
            ],
            "label": "t = 7 (before lunch)",
            "method": "update"
           },
           {
            "args": [
             {
              "visible": [
               true,
               true,
               true,
               false,
               false,
               true,
               true,
               true,
               false,
               false,
               false,
               false,
               false,
               false,
               false,
               false,
               false,
               false,
               false,
               false,
               false,
               false,
               false,
               false,
               true,
               true,
               true,
               false,
               false,
               false,
               false,
               true,
               true,
               true,
               false,
               false,
               false,
               false,
               false,
               false,
               false,
               false,
               false,
               false,
               false,
               false,
               false,
               false,
               false,
               false,
               true,
               true,
               true,
               false,
               false,
               true,
               true
              ]
             },
             {
              "annotations": [
               {
                "font": {
                 "color": "black",
                 "size": 15
                },
                "showarrow": false,
                "text": "I = 3.0",
                "x": 20,
                "xref": "x1",
                "y": 20,
                "yref": "y1"
               },
               {
                "font": {
                 "color": "black",
                 "size": 15
                },
                "showarrow": false,
                "text": "I = 3.0",
                "x": 10,
                "xref": "x1",
                "y": 40,
                "yref": "y1"
               },
               {
                "font": {
                 "color": "black",
                 "size": 15
                },
                "showarrow": false,
                "text": "I = 2.0",
                "x": 50,
                "xref": "x1",
                "y": 6,
                "yref": "y1"
               },
               {
                "font": {
                 "color": "black",
                 "size": 15
                },
                "showarrow": false,
                "text": "I = 3.0",
                "x": 30,
                "xref": "x1",
                "y": 14,
                "yref": "y1"
               },
               {
                "font": {
                 "color": "black",
                 "size": 15
                },
                "showarrow": false,
                "text": "I = 3.0",
                "x": 0,
                "xref": "x1",
                "y": -40,
                "yref": "y1"
               },
               {
                "font": {
                 "color": "black",
                 "size": 15
                },
                "showarrow": false,
                "text": "I = 3.0",
                "x": -25,
                "xref": "x1",
                "y": -40,
                "yref": "y1"
               },
               {
                "font": {
                 "color": "black",
                 "size": 15
                },
                "showarrow": false,
                "text": "I = 2.0",
                "x": -40,
                "xref": "x1",
                "y": -25,
                "yref": "y1"
               },
               {
                "font": {
                 "color": "black",
                 "size": 15
                },
                "showarrow": false,
                "text": "I = 3.0",
                "x": -40,
                "xref": "x1",
                "y": 0,
                "yref": "y1"
               },
               {
                "font": {
                 "color": "yellow",
                 "size": 15
                },
                "showarrow": false,
                "text": "I = 13.0",
                "x": 0,
                "xref": "x1",
                "y": 0,
                "yref": "y1"
               },
               {
                "font": {
                 "color": "yellow",
                 "size": 15
                },
                "showarrow": false,
                "text": "I = 13.0",
                "x": -10,
                "xref": "x1",
                "y": -10,
                "yref": "y1"
               },
               {
                "font": {
                 "color": "black",
                 "size": 15
                },
                "showarrow": false,
                "text": "CENTRAL",
                "x": -20,
                "xref": "x1",
                "y": 20,
                "yref": "y1"
               },
               {
                "font": {
                 "color": "grey",
                 "size": 15
                },
                "showarrow": false,
                "text": "2.0  ",
                "x": 11,
                "xref": "x1",
                "y": 11,
                "yref": "y1"
               },
               {
                "font": {
                 "color": "grey",
                 "size": 15
                },
                "showarrow": false,
                "text": "3.0  ",
                "x": 16,
                "xref": "x1",
                "y": 31,
                "yref": "y1"
               },
               {
                "font": {
                 "color": "grey",
                 "size": 15
                },
                "showarrow": false,
                "text": "2.0  ",
                "x": 26,
                "xref": "x1",
                "y": 4,
                "yref": "y1"
               },
               {
                "font": {
                 "color": "grey",
                 "size": 15
                },
                "showarrow": false,
                "text": "3.0  ",
                "x": 41,
                "xref": "x1",
                "y": 11,
                "yref": "y1"
               },
               {
                "font": {
                 "color": "grey",
                 "size": 15
                },
                "showarrow": false,
                "text": "2.0  ",
                "x": -4,
                "xref": "x1",
                "y": -24,
                "yref": "y1"
               },
               {
                "font": {
                 "color": "grey",
                 "size": 15
                },
                "showarrow": false,
                "text": "3.0  ",
                "x": -11.5,
                "xref": "x1",
                "y": -39,
                "yref": "y1"
               },
               {
                "font": {
                 "color": "grey",
                 "size": 15
                },
                "showarrow": false,
                "text": "2.0  ",
                "x": -24,
                "xref": "x1",
                "y": -16.5,
                "yref": "y1"
               },
               {
                "font": {
                 "color": "grey",
                 "size": 15
                },
                "showarrow": false,
                "text": "3.0  ",
                "x": -39,
                "xref": "x1",
                "y": -11.5,
                "yref": "y1"
               }
              ],
              "title": "WFP Inventory problem        Cost = 497.0          Total Cost = 2760.0   Truck 1 capacity : 5.0   Truck 2 capacity : 20"
             }
            ],
            "label": "t = 8 (before lunch)",
            "method": "update"
           },
           {
            "args": [
             {
              "visible": [
               true,
               true,
               true,
               false,
               false,
               false,
               false,
               false,
               false,
               false,
               false,
               false,
               false,
               false,
               false,
               false,
               true,
               true,
               true,
               false,
               false,
               false,
               false,
               false,
               false,
               false,
               false,
               false,
               false,
               false,
               false,
               false,
               false,
               false,
               false,
               false,
               false,
               false,
               false,
               false,
               false,
               false,
               true,
               true,
               true,
               false,
               false,
               false,
               false,
               false,
               false,
               false,
               false,
               false,
               false,
               false,
               false
              ]
             },
             {
              "annotations": [
               {
                "font": {
                 "color": "black",
                 "size": 15
                },
                "showarrow": false,
                "text": "I = 2.0",
                "x": 20,
                "xref": "x1",
                "y": 20,
                "yref": "y1"
               },
               {
                "font": {
                 "color": "black",
                 "size": 15
                },
                "showarrow": false,
                "text": "I = 3.0",
                "x": 10,
                "xref": "x1",
                "y": 40,
                "yref": "y1"
               },
               {
                "font": {
                 "color": "black",
                 "size": 15
                },
                "showarrow": false,
                "text": "I = 2.0",
                "x": 50,
                "xref": "x1",
                "y": 6,
                "yref": "y1"
               },
               {
                "font": {
                 "color": "black",
                 "size": 15
                },
                "showarrow": false,
                "text": "I = 1.5",
                "x": 30,
                "xref": "x1",
                "y": 14,
                "yref": "y1"
               },
               {
                "font": {
                 "color": "black",
                 "size": 15
                },
                "showarrow": false,
                "text": "I = 2.0",
                "x": 0,
                "xref": "x1",
                "y": -40,
                "yref": "y1"
               },
               {
                "font": {
                 "color": "black",
                 "size": 15
                },
                "showarrow": false,
                "text": "I = 3.0",
                "x": -25,
                "xref": "x1",
                "y": -40,
                "yref": "y1"
               },
               {
                "font": {
                 "color": "black",
                 "size": 15
                },
                "showarrow": false,
                "text": "I = 2.0",
                "x": -40,
                "xref": "x1",
                "y": -25,
                "yref": "y1"
               },
               {
                "font": {
                 "color": "black",
                 "size": 15
                },
                "showarrow": false,
                "text": "I = 1.5",
                "x": -40,
                "xref": "x1",
                "y": 0,
                "yref": "y1"
               },
               {
                "font": {
                 "color": "yellow",
                 "size": 15
                },
                "showarrow": false,
                "text": "I = 8.0",
                "x": 0,
                "xref": "x1",
                "y": 0,
                "yref": "y1"
               },
               {
                "font": {
                 "color": "yellow",
                 "size": 15
                },
                "showarrow": false,
                "text": "I = 8.0",
                "x": -10,
                "xref": "x1",
                "y": -10,
                "yref": "y1"
               },
               {
                "font": {
                 "color": "black",
                 "size": 15
                },
                "showarrow": false,
                "text": "CENTRAL",
                "x": -20,
                "xref": "x1",
                "y": 20,
                "yref": "y1"
               },
               {
                "font": {
                 "color": "grey",
                 "size": 15
                },
                "showarrow": false,
                "text": "3.0  ",
                "x": 6,
                "xref": "x1",
                "y": 21,
                "yref": "y1"
               },
               {
                "font": {
                 "color": "grey",
                 "size": 15
                },
                "showarrow": false,
                "text": "2.0  ",
                "x": 31,
                "xref": "x1",
                "y": 24,
                "yref": "y1"
               },
               {
                "font": {
                 "color": "grey",
                 "size": 15
                },
                "showarrow": false,
                "text": "3.0  ",
                "x": -16.5,
                "xref": "x1",
                "y": -24,
                "yref": "y1"
               },
               {
                "font": {
                 "color": "grey",
                 "size": 15
                },
                "showarrow": false,
                "text": "2.0  ",
                "x": -31.5,
                "xref": "x1",
                "y": -31.5,
                "yref": "y1"
               }
              ],
              "title": "WFP Inventory problem        Cost = 232.0          Total Cost = 2993.0   Truck 1 capacity : 5.0   Truck 2 capacity : 20"
             }
            ],
            "label": "t = 9 (before lunch)",
            "method": "update"
           },
           {
            "args": [
             {
              "visible": [
               true,
               true,
               true,
               false,
               false,
               true,
               true,
               true,
               false,
               false,
               false,
               false,
               false,
               false,
               false,
               false,
               false,
               false,
               false,
               false,
               false,
               false,
               false,
               false,
               true,
               true,
               true,
               false,
               false,
               false,
               false,
               true,
               true,
               true,
               false,
               false,
               false,
               false,
               false,
               false,
               false,
               false,
               false,
               false,
               false,
               false,
               false,
               false,
               false,
               false,
               true,
               true,
               true,
               false,
               false,
               true,
               true
              ]
             },
             {
              "annotations": [
               {
                "font": {
                 "color": "black",
                 "size": 15
                },
                "showarrow": false,
                "text": "I = 3.0",
                "x": 20,
                "xref": "x1",
                "y": 20,
                "yref": "y1"
               },
               {
                "font": {
                 "color": "black",
                 "size": 15
                },
                "showarrow": false,
                "text": "I = 3.0",
                "x": 10,
                "xref": "x1",
                "y": 40,
                "yref": "y1"
               },
               {
                "font": {
                 "color": "black",
                 "size": 15
                },
                "showarrow": false,
                "text": "I = 2.0",
                "x": 50,
                "xref": "x1",
                "y": 6,
                "yref": "y1"
               },
               {
                "font": {
                 "color": "black",
                 "size": 15
                },
                "showarrow": false,
                "text": "I = 3.0",
                "x": 30,
                "xref": "x1",
                "y": 14,
                "yref": "y1"
               },
               {
                "font": {
                 "color": "black",
                 "size": 15
                },
                "showarrow": false,
                "text": "I = 3.0",
                "x": 0,
                "xref": "x1",
                "y": -40,
                "yref": "y1"
               },
               {
                "font": {
                 "color": "black",
                 "size": 15
                },
                "showarrow": false,
                "text": "I = 3.0",
                "x": -25,
                "xref": "x1",
                "y": -40,
                "yref": "y1"
               },
               {
                "font": {
                 "color": "black",
                 "size": 15
                },
                "showarrow": false,
                "text": "I = 2.0",
                "x": -40,
                "xref": "x1",
                "y": -25,
                "yref": "y1"
               },
               {
                "font": {
                 "color": "black",
                 "size": 15
                },
                "showarrow": false,
                "text": "I = 3.0",
                "x": -40,
                "xref": "x1",
                "y": 0,
                "yref": "y1"
               },
               {
                "font": {
                 "color": "yellow",
                 "size": 15
                },
                "showarrow": false,
                "text": "I = 18.0",
                "x": 0,
                "xref": "x1",
                "y": 0,
                "yref": "y1"
               },
               {
                "font": {
                 "color": "yellow",
                 "size": 15
                },
                "showarrow": false,
                "text": "I = 18.0",
                "x": -10,
                "xref": "x1",
                "y": -10,
                "yref": "y1"
               },
               {
                "font": {
                 "color": "black",
                 "size": 15
                },
                "showarrow": false,
                "text": "CENTRAL",
                "x": -20,
                "xref": "x1",
                "y": 20,
                "yref": "y1"
               },
               {
                "font": {
                 "color": "grey",
                 "size": 15
                },
                "showarrow": false,
                "text": "2.0  ",
                "x": 11,
                "xref": "x1",
                "y": 11,
                "yref": "y1"
               },
               {
                "font": {
                 "color": "grey",
                 "size": 15
                },
                "showarrow": false,
                "text": "3.0  ",
                "x": 16,
                "xref": "x1",
                "y": 31,
                "yref": "y1"
               },
               {
                "font": {
                 "color": "grey",
                 "size": 15
                },
                "showarrow": false,
                "text": "2.0  ",
                "x": 26,
                "xref": "x1",
                "y": 4,
                "yref": "y1"
               },
               {
                "font": {
                 "color": "grey",
                 "size": 15
                },
                "showarrow": false,
                "text": "3.0  ",
                "x": 41,
                "xref": "x1",
                "y": 11,
                "yref": "y1"
               },
               {
                "font": {
                 "color": "grey",
                 "size": 15
                },
                "showarrow": false,
                "text": "2.0  ",
                "x": -4,
                "xref": "x1",
                "y": -24,
                "yref": "y1"
               },
               {
                "font": {
                 "color": "grey",
                 "size": 15
                },
                "showarrow": false,
                "text": "3.0  ",
                "x": -11.5,
                "xref": "x1",
                "y": -39,
                "yref": "y1"
               },
               {
                "font": {
                 "color": "grey",
                 "size": 15
                },
                "showarrow": false,
                "text": "2.0  ",
                "x": -24,
                "xref": "x1",
                "y": -16.5,
                "yref": "y1"
               },
               {
                "font": {
                 "color": "grey",
                 "size": 15
                },
                "showarrow": false,
                "text": "3.0  ",
                "x": -39,
                "xref": "x1",
                "y": -11.5,
                "yref": "y1"
               }
              ],
              "title": "WFP Inventory problem        Cost = 497.0          Total Cost = 3490.0   Truck 1 capacity : 5.0   Truck 2 capacity : 20"
             }
            ],
            "label": "t = 10 (before lunch)",
            "method": "update"
           },
           {
            "args": [
             {
              "visible": [
               true,
               true,
               true,
               false,
               false,
               false,
               false,
               false,
               false,
               false,
               false,
               false,
               false,
               false,
               false,
               false,
               true,
               true,
               true,
               false,
               false,
               false,
               false,
               false,
               false,
               false,
               false,
               false,
               false,
               false,
               false,
               false,
               false,
               false,
               false,
               false,
               false,
               false,
               false,
               false,
               false,
               false,
               true,
               true,
               true,
               false,
               false,
               false,
               false,
               false,
               false,
               false,
               false,
               false,
               false,
               false,
               false
              ]
             },
             {
              "annotations": [
               {
                "font": {
                 "color": "black",
                 "size": 15
                },
                "showarrow": false,
                "text": "I = 2.0",
                "x": 20,
                "xref": "x1",
                "y": 20,
                "yref": "y1"
               },
               {
                "font": {
                 "color": "black",
                 "size": 15
                },
                "showarrow": false,
                "text": "I = 3.0",
                "x": 10,
                "xref": "x1",
                "y": 40,
                "yref": "y1"
               },
               {
                "font": {
                 "color": "black",
                 "size": 15
                },
                "showarrow": false,
                "text": "I = 2.0",
                "x": 50,
                "xref": "x1",
                "y": 6,
                "yref": "y1"
               },
               {
                "font": {
                 "color": "black",
                 "size": 15
                },
                "showarrow": false,
                "text": "I = 1.5",
                "x": 30,
                "xref": "x1",
                "y": 14,
                "yref": "y1"
               },
               {
                "font": {
                 "color": "black",
                 "size": 15
                },
                "showarrow": false,
                "text": "I = 2.0",
                "x": 0,
                "xref": "x1",
                "y": -40,
                "yref": "y1"
               },
               {
                "font": {
                 "color": "black",
                 "size": 15
                },
                "showarrow": false,
                "text": "I = 3.0",
                "x": -25,
                "xref": "x1",
                "y": -40,
                "yref": "y1"
               },
               {
                "font": {
                 "color": "black",
                 "size": 15
                },
                "showarrow": false,
                "text": "I = 2.0",
                "x": -40,
                "xref": "x1",
                "y": -25,
                "yref": "y1"
               },
               {
                "font": {
                 "color": "black",
                 "size": 15
                },
                "showarrow": false,
                "text": "I = 1.5",
                "x": -40,
                "xref": "x1",
                "y": 0,
                "yref": "y1"
               },
               {
                "font": {
                 "color": "yellow",
                 "size": 15
                },
                "showarrow": false,
                "text": "I = 13.0",
                "x": 0,
                "xref": "x1",
                "y": 0,
                "yref": "y1"
               },
               {
                "font": {
                 "color": "yellow",
                 "size": 15
                },
                "showarrow": false,
                "text": "I = 13.0",
                "x": -10,
                "xref": "x1",
                "y": -10,
                "yref": "y1"
               },
               {
                "font": {
                 "color": "black",
                 "size": 15
                },
                "showarrow": false,
                "text": "CENTRAL",
                "x": -20,
                "xref": "x1",
                "y": 20,
                "yref": "y1"
               },
               {
                "font": {
                 "color": "grey",
                 "size": 15
                },
                "showarrow": false,
                "text": "3.0  ",
                "x": 6,
                "xref": "x1",
                "y": 21,
                "yref": "y1"
               },
               {
                "font": {
                 "color": "grey",
                 "size": 15
                },
                "showarrow": false,
                "text": "2.0  ",
                "x": 31,
                "xref": "x1",
                "y": 24,
                "yref": "y1"
               },
               {
                "font": {
                 "color": "grey",
                 "size": 15
                },
                "showarrow": false,
                "text": "3.0  ",
                "x": -16.5,
                "xref": "x1",
                "y": -24,
                "yref": "y1"
               },
               {
                "font": {
                 "color": "grey",
                 "size": 15
                },
                "showarrow": false,
                "text": "2.0  ",
                "x": -31.5,
                "xref": "x1",
                "y": -31.5,
                "yref": "y1"
               }
              ],
              "title": "WFP Inventory problem        Cost = 232.0          Total Cost = 3722.0   Truck 1 capacity : 5.0   Truck 2 capacity : 20"
             }
            ],
            "label": "t = 11 (before lunch)",
            "method": "update"
           },
           {
            "args": [
             {
              "visible": [
               true,
               true,
               true,
               false,
               false,
               true,
               true,
               true,
               false,
               false,
               false,
               false,
               false,
               false,
               false,
               false,
               false,
               false,
               false,
               false,
               false,
               false,
               false,
               false,
               true,
               true,
               true,
               false,
               false,
               false,
               false,
               true,
               true,
               true,
               false,
               false,
               false,
               false,
               false,
               false,
               false,
               false,
               false,
               false,
               false,
               false,
               false,
               false,
               false,
               false,
               true,
               true,
               true,
               false,
               false,
               false,
               false
              ]
             },
             {
              "annotations": [
               {
                "font": {
                 "color": "black",
                 "size": 15
                },
                "showarrow": false,
                "text": "I = 3.0",
                "x": 20,
                "xref": "x1",
                "y": 20,
                "yref": "y1"
               },
               {
                "font": {
                 "color": "black",
                 "size": 15
                },
                "showarrow": false,
                "text": "I = 3.0",
                "x": 10,
                "xref": "x1",
                "y": 40,
                "yref": "y1"
               },
               {
                "font": {
                 "color": "black",
                 "size": 15
                },
                "showarrow": false,
                "text": "I = 2.0",
                "x": 50,
                "xref": "x1",
                "y": 6,
                "yref": "y1"
               },
               {
                "font": {
                 "color": "black",
                 "size": 15
                },
                "showarrow": false,
                "text": "I = 3.0",
                "x": 30,
                "xref": "x1",
                "y": 14,
                "yref": "y1"
               },
               {
                "font": {
                 "color": "black",
                 "size": 15
                },
                "showarrow": false,
                "text": "I = 3.0",
                "x": 0,
                "xref": "x1",
                "y": -40,
                "yref": "y1"
               },
               {
                "font": {
                 "color": "black",
                 "size": 15
                },
                "showarrow": false,
                "text": "I = 3.0",
                "x": -25,
                "xref": "x1",
                "y": -40,
                "yref": "y1"
               },
               {
                "font": {
                 "color": "black",
                 "size": 15
                },
                "showarrow": false,
                "text": "I = 2.0",
                "x": -40,
                "xref": "x1",
                "y": -25,
                "yref": "y1"
               },
               {
                "font": {
                 "color": "black",
                 "size": 15
                },
                "showarrow": false,
                "text": "I = 3.0",
                "x": -40,
                "xref": "x1",
                "y": 0,
                "yref": "y1"
               },
               {
                "font": {
                 "color": "yellow",
                 "size": 15
                },
                "showarrow": false,
                "text": "I = 3.0",
                "x": 0,
                "xref": "x1",
                "y": 0,
                "yref": "y1"
               },
               {
                "font": {
                 "color": "yellow",
                 "size": 15
                },
                "showarrow": false,
                "text": "I = 3.0",
                "x": -10,
                "xref": "x1",
                "y": -10,
                "yref": "y1"
               },
               {
                "font": {
                 "color": "black",
                 "size": 15
                },
                "showarrow": false,
                "text": "CENTRAL",
                "x": -20,
                "xref": "x1",
                "y": 20,
                "yref": "y1"
               },
               {
                "font": {
                 "color": "grey",
                 "size": 15
                },
                "showarrow": false,
                "text": "2.0  ",
                "x": 11,
                "xref": "x1",
                "y": 11,
                "yref": "y1"
               },
               {
                "font": {
                 "color": "grey",
                 "size": 15
                },
                "showarrow": false,
                "text": "3.0  ",
                "x": 16,
                "xref": "x1",
                "y": 31,
                "yref": "y1"
               },
               {
                "font": {
                 "color": "grey",
                 "size": 15
                },
                "showarrow": false,
                "text": "2.0  ",
                "x": 26,
                "xref": "x1",
                "y": 4,
                "yref": "y1"
               },
               {
                "font": {
                 "color": "grey",
                 "size": 15
                },
                "showarrow": false,
                "text": "3.0  ",
                "x": 41,
                "xref": "x1",
                "y": 11,
                "yref": "y1"
               },
               {
                "font": {
                 "color": "grey",
                 "size": 15
                },
                "showarrow": false,
                "text": "2.0  ",
                "x": -4,
                "xref": "x1",
                "y": -24,
                "yref": "y1"
               },
               {
                "font": {
                 "color": "grey",
                 "size": 15
                },
                "showarrow": false,
                "text": "3.0  ",
                "x": -11.5,
                "xref": "x1",
                "y": -39,
                "yref": "y1"
               },
               {
                "font": {
                 "color": "grey",
                 "size": 15
                },
                "showarrow": false,
                "text": "2.0  ",
                "x": -24,
                "xref": "x1",
                "y": -16.5,
                "yref": "y1"
               },
               {
                "font": {
                 "color": "grey",
                 "size": 15
                },
                "showarrow": false,
                "text": "3.0  ",
                "x": -39,
                "xref": "x1",
                "y": -11.5,
                "yref": "y1"
               }
              ],
              "title": "WFP Inventory problem        Cost = 377.0          Total Cost = 4099.0   Truck 1 capacity : 5.0   Truck 2 capacity : 20"
             }
            ],
            "label": "t = 12 (before lunch)",
            "method": "update"
           },
           {
            "args": [
             {
              "visible": [
               true,
               true,
               true,
               false,
               false,
               false,
               false,
               false,
               false,
               false,
               false,
               false,
               false,
               false,
               false,
               false,
               true,
               true,
               true,
               false,
               false,
               false,
               false,
               false,
               false,
               false,
               false,
               false,
               false,
               false,
               false,
               false,
               false,
               false,
               false,
               false,
               false,
               false,
               false,
               false,
               false,
               false,
               true,
               true,
               true,
               false,
               false,
               false,
               false,
               false,
               false,
               false,
               false,
               false,
               false,
               true,
               true
              ]
             },
             {
              "annotations": [
               {
                "font": {
                 "color": "black",
                 "size": 15
                },
                "showarrow": false,
                "text": "I = 2.0",
                "x": 20,
                "xref": "x1",
                "y": 20,
                "yref": "y1"
               },
               {
                "font": {
                 "color": "black",
                 "size": 15
                },
                "showarrow": false,
                "text": "I = 3.0",
                "x": 10,
                "xref": "x1",
                "y": 40,
                "yref": "y1"
               },
               {
                "font": {
                 "color": "black",
                 "size": 15
                },
                "showarrow": false,
                "text": "I = 2.0",
                "x": 50,
                "xref": "x1",
                "y": 6,
                "yref": "y1"
               },
               {
                "font": {
                 "color": "black",
                 "size": 15
                },
                "showarrow": false,
                "text": "I = 1.5",
                "x": 30,
                "xref": "x1",
                "y": 14,
                "yref": "y1"
               },
               {
                "font": {
                 "color": "black",
                 "size": 15
                },
                "showarrow": false,
                "text": "I = 2.0",
                "x": 0,
                "xref": "x1",
                "y": -40,
                "yref": "y1"
               },
               {
                "font": {
                 "color": "black",
                 "size": 15
                },
                "showarrow": false,
                "text": "I = 3.0",
                "x": -25,
                "xref": "x1",
                "y": -40,
                "yref": "y1"
               },
               {
                "font": {
                 "color": "black",
                 "size": 15
                },
                "showarrow": false,
                "text": "I = 2.0",
                "x": -40,
                "xref": "x1",
                "y": -25,
                "yref": "y1"
               },
               {
                "font": {
                 "color": "black",
                 "size": 15
                },
                "showarrow": false,
                "text": "I = 1.5",
                "x": -40,
                "xref": "x1",
                "y": 0,
                "yref": "y1"
               },
               {
                "font": {
                 "color": "yellow",
                 "size": 15
                },
                "showarrow": false,
                "text": "I = 18.0",
                "x": 0,
                "xref": "x1",
                "y": 0,
                "yref": "y1"
               },
               {
                "font": {
                 "color": "yellow",
                 "size": 15
                },
                "showarrow": false,
                "text": "I = 18.0",
                "x": -10,
                "xref": "x1",
                "y": -10,
                "yref": "y1"
               },
               {
                "font": {
                 "color": "black",
                 "size": 15
                },
                "showarrow": false,
                "text": "CENTRAL",
                "x": -20,
                "xref": "x1",
                "y": 20,
                "yref": "y1"
               },
               {
                "font": {
                 "color": "grey",
                 "size": 15
                },
                "showarrow": false,
                "text": "3.0  ",
                "x": 6,
                "xref": "x1",
                "y": 21,
                "yref": "y1"
               },
               {
                "font": {
                 "color": "grey",
                 "size": 15
                },
                "showarrow": false,
                "text": "2.0  ",
                "x": 31,
                "xref": "x1",
                "y": 24,
                "yref": "y1"
               },
               {
                "font": {
                 "color": "grey",
                 "size": 15
                },
                "showarrow": false,
                "text": "3.0  ",
                "x": -16.5,
                "xref": "x1",
                "y": -24,
                "yref": "y1"
               },
               {
                "font": {
                 "color": "grey",
                 "size": 15
                },
                "showarrow": false,
                "text": "2.0  ",
                "x": -31.5,
                "xref": "x1",
                "y": -31.5,
                "yref": "y1"
               }
              ],
              "title": "WFP Inventory problem        Cost = 352.0          Total Cost = 4452.0   Truck 1 capacity : 5.0   Truck 2 capacity : 20"
             }
            ],
            "label": "t = 13 (before lunch)",
            "method": "update"
           },
           {
            "args": [
             {
              "visible": [
               true,
               true,
               true,
               false,
               false,
               true,
               true,
               true,
               false,
               false,
               false,
               false,
               false,
               false,
               false,
               false,
               false,
               false,
               false,
               false,
               false,
               false,
               false,
               false,
               true,
               true,
               true,
               false,
               false,
               false,
               false,
               true,
               true,
               true,
               false,
               false,
               false,
               false,
               false,
               false,
               false,
               false,
               false,
               false,
               false,
               false,
               false,
               false,
               false,
               false,
               true,
               true,
               true,
               false,
               false,
               false,
               false
              ]
             },
             {
              "annotations": [
               {
                "font": {
                 "color": "black",
                 "size": 15
                },
                "showarrow": false,
                "text": "I = 3.0",
                "x": 20,
                "xref": "x1",
                "y": 20,
                "yref": "y1"
               },
               {
                "font": {
                 "color": "black",
                 "size": 15
                },
                "showarrow": false,
                "text": "I = 3.0",
                "x": 10,
                "xref": "x1",
                "y": 40,
                "yref": "y1"
               },
               {
                "font": {
                 "color": "black",
                 "size": 15
                },
                "showarrow": false,
                "text": "I = 2.0",
                "x": 50,
                "xref": "x1",
                "y": 6,
                "yref": "y1"
               },
               {
                "font": {
                 "color": "black",
                 "size": 15
                },
                "showarrow": false,
                "text": "I = 3.0",
                "x": 30,
                "xref": "x1",
                "y": 14,
                "yref": "y1"
               },
               {
                "font": {
                 "color": "black",
                 "size": 15
                },
                "showarrow": false,
                "text": "I = 3.0",
                "x": 0,
                "xref": "x1",
                "y": -40,
                "yref": "y1"
               },
               {
                "font": {
                 "color": "black",
                 "size": 15
                },
                "showarrow": false,
                "text": "I = 3.0",
                "x": -25,
                "xref": "x1",
                "y": -40,
                "yref": "y1"
               },
               {
                "font": {
                 "color": "black",
                 "size": 15
                },
                "showarrow": false,
                "text": "I = 2.0",
                "x": -40,
                "xref": "x1",
                "y": -25,
                "yref": "y1"
               },
               {
                "font": {
                 "color": "black",
                 "size": 15
                },
                "showarrow": false,
                "text": "I = 3.0",
                "x": -40,
                "xref": "x1",
                "y": 0,
                "yref": "y1"
               },
               {
                "font": {
                 "color": "yellow",
                 "size": 15
                },
                "showarrow": false,
                "text": "I = 8.0",
                "x": 0,
                "xref": "x1",
                "y": 0,
                "yref": "y1"
               },
               {
                "font": {
                 "color": "yellow",
                 "size": 15
                },
                "showarrow": false,
                "text": "I = 8.0",
                "x": -10,
                "xref": "x1",
                "y": -10,
                "yref": "y1"
               },
               {
                "font": {
                 "color": "black",
                 "size": 15
                },
                "showarrow": false,
                "text": "CENTRAL",
                "x": -20,
                "xref": "x1",
                "y": 20,
                "yref": "y1"
               },
               {
                "font": {
                 "color": "grey",
                 "size": 15
                },
                "showarrow": false,
                "text": "2.0  ",
                "x": 11,
                "xref": "x1",
                "y": 11,
                "yref": "y1"
               },
               {
                "font": {
                 "color": "grey",
                 "size": 15
                },
                "showarrow": false,
                "text": "3.0  ",
                "x": 16,
                "xref": "x1",
                "y": 31,
                "yref": "y1"
               },
               {
                "font": {
                 "color": "grey",
                 "size": 15
                },
                "showarrow": false,
                "text": "2.0  ",
                "x": 26,
                "xref": "x1",
                "y": 4,
                "yref": "y1"
               },
               {
                "font": {
                 "color": "grey",
                 "size": 15
                },
                "showarrow": false,
                "text": "3.0  ",
                "x": 41,
                "xref": "x1",
                "y": 11,
                "yref": "y1"
               },
               {
                "font": {
                 "color": "grey",
                 "size": 15
                },
                "showarrow": false,
                "text": "2.0  ",
                "x": -4,
                "xref": "x1",
                "y": -24,
                "yref": "y1"
               },
               {
                "font": {
                 "color": "grey",
                 "size": 15
                },
                "showarrow": false,
                "text": "3.0  ",
                "x": -11.5,
                "xref": "x1",
                "y": -39,
                "yref": "y1"
               },
               {
                "font": {
                 "color": "grey",
                 "size": 15
                },
                "showarrow": false,
                "text": "2.0  ",
                "x": -24,
                "xref": "x1",
                "y": -16.5,
                "yref": "y1"
               },
               {
                "font": {
                 "color": "grey",
                 "size": 15
                },
                "showarrow": false,
                "text": "3.0  ",
                "x": -39,
                "xref": "x1",
                "y": -11.5,
                "yref": "y1"
               }
              ],
              "title": "WFP Inventory problem        Cost = 377.0          Total Cost = 4829.0   Truck 1 capacity : 5.0   Truck 2 capacity : 20"
             }
            ],
            "label": "t = 14 (before lunch)",
            "method": "update"
           },
           {
            "args": [
             {
              "visible": [
               true,
               true,
               true,
               false,
               false,
               false,
               false,
               false,
               false,
               false,
               false,
               false,
               false,
               false,
               false,
               false,
               true,
               true,
               true,
               false,
               false,
               false,
               false,
               false,
               false,
               false,
               false,
               false,
               false,
               false,
               false,
               false,
               false,
               false,
               false,
               false,
               false,
               false,
               false,
               false,
               false,
               false,
               true,
               true,
               true,
               false,
               false,
               false,
               false,
               false,
               false,
               false,
               false,
               false,
               false,
               false,
               false
              ]
             },
             {
              "annotations": [
               {
                "font": {
                 "color": "black",
                 "size": 15
                },
                "showarrow": false,
                "text": "I = 2.0",
                "x": 20,
                "xref": "x1",
                "y": 20,
                "yref": "y1"
               },
               {
                "font": {
                 "color": "black",
                 "size": 15
                },
                "showarrow": false,
                "text": "I = 3.0",
                "x": 10,
                "xref": "x1",
                "y": 40,
                "yref": "y1"
               },
               {
                "font": {
                 "color": "black",
                 "size": 15
                },
                "showarrow": false,
                "text": "I = 2.0",
                "x": 50,
                "xref": "x1",
                "y": 6,
                "yref": "y1"
               },
               {
                "font": {
                 "color": "black",
                 "size": 15
                },
                "showarrow": false,
                "text": "I = 1.5",
                "x": 30,
                "xref": "x1",
                "y": 14,
                "yref": "y1"
               },
               {
                "font": {
                 "color": "black",
                 "size": 15
                },
                "showarrow": false,
                "text": "I = 2.0",
                "x": 0,
                "xref": "x1",
                "y": -40,
                "yref": "y1"
               },
               {
                "font": {
                 "color": "black",
                 "size": 15
                },
                "showarrow": false,
                "text": "I = 3.0",
                "x": -25,
                "xref": "x1",
                "y": -40,
                "yref": "y1"
               },
               {
                "font": {
                 "color": "black",
                 "size": 15
                },
                "showarrow": false,
                "text": "I = 2.0",
                "x": -40,
                "xref": "x1",
                "y": -25,
                "yref": "y1"
               },
               {
                "font": {
                 "color": "black",
                 "size": 15
                },
                "showarrow": false,
                "text": "I = 1.5",
                "x": -40,
                "xref": "x1",
                "y": 0,
                "yref": "y1"
               },
               {
                "font": {
                 "color": "yellow",
                 "size": 15
                },
                "showarrow": false,
                "text": "I = 3.0",
                "x": 0,
                "xref": "x1",
                "y": 0,
                "yref": "y1"
               },
               {
                "font": {
                 "color": "yellow",
                 "size": 15
                },
                "showarrow": false,
                "text": "I = 3.0",
                "x": -10,
                "xref": "x1",
                "y": -10,
                "yref": "y1"
               },
               {
                "font": {
                 "color": "black",
                 "size": 15
                },
                "showarrow": false,
                "text": "CENTRAL",
                "x": -20,
                "xref": "x1",
                "y": 20,
                "yref": "y1"
               },
               {
                "font": {
                 "color": "grey",
                 "size": 15
                },
                "showarrow": false,
                "text": "3.0  ",
                "x": 6,
                "xref": "x1",
                "y": 21,
                "yref": "y1"
               },
               {
                "font": {
                 "color": "grey",
                 "size": 15
                },
                "showarrow": false,
                "text": "2.0  ",
                "x": 31,
                "xref": "x1",
                "y": 24,
                "yref": "y1"
               },
               {
                "font": {
                 "color": "grey",
                 "size": 15
                },
                "showarrow": false,
                "text": "3.0  ",
                "x": -16.5,
                "xref": "x1",
                "y": -24,
                "yref": "y1"
               },
               {
                "font": {
                 "color": "grey",
                 "size": 15
                },
                "showarrow": false,
                "text": "2.0  ",
                "x": -31.5,
                "xref": "x1",
                "y": -31.5,
                "yref": "y1"
               }
              ],
              "title": "WFP Inventory problem        Cost = 232.0          Total Cost = 5061.0   Truck 1 capacity : 5.0   Truck 2 capacity : 20"
             }
            ],
            "label": "t = 15 (before lunch)",
            "method": "update"
           },
           {
            "args": [
             {
              "visible": [
               true,
               true,
               true,
               false,
               false,
               true,
               true,
               true,
               false,
               false,
               false,
               false,
               false,
               false,
               false,
               false,
               false,
               false,
               false,
               false,
               false,
               false,
               false,
               false,
               true,
               true,
               true,
               false,
               false,
               false,
               false,
               true,
               true,
               true,
               false,
               false,
               false,
               false,
               false,
               false,
               false,
               false,
               false,
               false,
               false,
               false,
               false,
               false,
               false,
               false,
               true,
               true,
               true,
               false,
               false,
               true,
               true
              ]
             },
             {
              "annotations": [
               {
                "font": {
                 "color": "black",
                 "size": 15
                },
                "showarrow": false,
                "text": "I = 3.0",
                "x": 20,
                "xref": "x1",
                "y": 20,
                "yref": "y1"
               },
               {
                "font": {
                 "color": "black",
                 "size": 15
                },
                "showarrow": false,
                "text": "I = 3.0",
                "x": 10,
                "xref": "x1",
                "y": 40,
                "yref": "y1"
               },
               {
                "font": {
                 "color": "black",
                 "size": 15
                },
                "showarrow": false,
                "text": "I = 2.0",
                "x": 50,
                "xref": "x1",
                "y": 6,
                "yref": "y1"
               },
               {
                "font": {
                 "color": "black",
                 "size": 15
                },
                "showarrow": false,
                "text": "I = 3.0",
                "x": 30,
                "xref": "x1",
                "y": 14,
                "yref": "y1"
               },
               {
                "font": {
                 "color": "black",
                 "size": 15
                },
                "showarrow": false,
                "text": "I = 3.0",
                "x": 0,
                "xref": "x1",
                "y": -40,
                "yref": "y1"
               },
               {
                "font": {
                 "color": "black",
                 "size": 15
                },
                "showarrow": false,
                "text": "I = 3.0",
                "x": -25,
                "xref": "x1",
                "y": -40,
                "yref": "y1"
               },
               {
                "font": {
                 "color": "black",
                 "size": 15
                },
                "showarrow": false,
                "text": "I = 2.0",
                "x": -40,
                "xref": "x1",
                "y": -25,
                "yref": "y1"
               },
               {
                "font": {
                 "color": "black",
                 "size": 15
                },
                "showarrow": false,
                "text": "I = 3.0",
                "x": -40,
                "xref": "x1",
                "y": 0,
                "yref": "y1"
               },
               {
                "font": {
                 "color": "yellow",
                 "size": 15
                },
                "showarrow": false,
                "text": "I = 13.0",
                "x": 0,
                "xref": "x1",
                "y": 0,
                "yref": "y1"
               },
               {
                "font": {
                 "color": "yellow",
                 "size": 15
                },
                "showarrow": false,
                "text": "I = 13.0",
                "x": -10,
                "xref": "x1",
                "y": -10,
                "yref": "y1"
               },
               {
                "font": {
                 "color": "black",
                 "size": 15
                },
                "showarrow": false,
                "text": "CENTRAL",
                "x": -20,
                "xref": "x1",
                "y": 20,
                "yref": "y1"
               },
               {
                "font": {
                 "color": "grey",
                 "size": 15
                },
                "showarrow": false,
                "text": "2.0  ",
                "x": 11,
                "xref": "x1",
                "y": 11,
                "yref": "y1"
               },
               {
                "font": {
                 "color": "grey",
                 "size": 15
                },
                "showarrow": false,
                "text": "3.0  ",
                "x": 16,
                "xref": "x1",
                "y": 31,
                "yref": "y1"
               },
               {
                "font": {
                 "color": "grey",
                 "size": 15
                },
                "showarrow": false,
                "text": "2.0  ",
                "x": 26,
                "xref": "x1",
                "y": 4,
                "yref": "y1"
               },
               {
                "font": {
                 "color": "grey",
                 "size": 15
                },
                "showarrow": false,
                "text": "3.0  ",
                "x": 41,
                "xref": "x1",
                "y": 11,
                "yref": "y1"
               },
               {
                "font": {
                 "color": "grey",
                 "size": 15
                },
                "showarrow": false,
                "text": "2.0  ",
                "x": -4,
                "xref": "x1",
                "y": -24,
                "yref": "y1"
               },
               {
                "font": {
                 "color": "grey",
                 "size": 15
                },
                "showarrow": false,
                "text": "3.0  ",
                "x": -11.5,
                "xref": "x1",
                "y": -39,
                "yref": "y1"
               },
               {
                "font": {
                 "color": "grey",
                 "size": 15
                },
                "showarrow": false,
                "text": "2.0  ",
                "x": -24,
                "xref": "x1",
                "y": -16.5,
                "yref": "y1"
               },
               {
                "font": {
                 "color": "grey",
                 "size": 15
                },
                "showarrow": false,
                "text": "3.0  ",
                "x": -39,
                "xref": "x1",
                "y": -11.5,
                "yref": "y1"
               }
              ],
              "title": "WFP Inventory problem        Cost = 497.0          Total Cost = 5559.0   Truck 1 capacity : 5.0   Truck 2 capacity : 20"
             }
            ],
            "label": "t = 16 (before lunch)",
            "method": "update"
           },
           {
            "args": [
             {
              "visible": [
               true,
               true,
               true,
               false,
               false,
               false,
               false,
               false,
               false,
               false,
               false,
               false,
               false,
               false,
               false,
               false,
               true,
               true,
               true,
               false,
               false,
               false,
               false,
               false,
               false,
               false,
               false,
               false,
               false,
               false,
               false,
               false,
               false,
               false,
               false,
               false,
               false,
               false,
               false,
               false,
               false,
               false,
               true,
               true,
               true,
               false,
               false,
               false,
               false,
               false,
               false,
               false,
               false,
               false,
               false,
               false,
               false
              ]
             },
             {
              "annotations": [
               {
                "font": {
                 "color": "black",
                 "size": 15
                },
                "showarrow": false,
                "text": "I = 2.0",
                "x": 20,
                "xref": "x1",
                "y": 20,
                "yref": "y1"
               },
               {
                "font": {
                 "color": "black",
                 "size": 15
                },
                "showarrow": false,
                "text": "I = 3.0",
                "x": 10,
                "xref": "x1",
                "y": 40,
                "yref": "y1"
               },
               {
                "font": {
                 "color": "black",
                 "size": 15
                },
                "showarrow": false,
                "text": "I = 2.0",
                "x": 50,
                "xref": "x1",
                "y": 6,
                "yref": "y1"
               },
               {
                "font": {
                 "color": "black",
                 "size": 15
                },
                "showarrow": false,
                "text": "I = 1.5",
                "x": 30,
                "xref": "x1",
                "y": 14,
                "yref": "y1"
               },
               {
                "font": {
                 "color": "black",
                 "size": 15
                },
                "showarrow": false,
                "text": "I = 2.0",
                "x": 0,
                "xref": "x1",
                "y": -40,
                "yref": "y1"
               },
               {
                "font": {
                 "color": "black",
                 "size": 15
                },
                "showarrow": false,
                "text": "I = 3.0",
                "x": -25,
                "xref": "x1",
                "y": -40,
                "yref": "y1"
               },
               {
                "font": {
                 "color": "black",
                 "size": 15
                },
                "showarrow": false,
                "text": "I = 2.0",
                "x": -40,
                "xref": "x1",
                "y": -25,
                "yref": "y1"
               },
               {
                "font": {
                 "color": "black",
                 "size": 15
                },
                "showarrow": false,
                "text": "I = 1.5",
                "x": -40,
                "xref": "x1",
                "y": 0,
                "yref": "y1"
               },
               {
                "font": {
                 "color": "yellow",
                 "size": 15
                },
                "showarrow": false,
                "text": "I = 8.0",
                "x": 0,
                "xref": "x1",
                "y": 0,
                "yref": "y1"
               },
               {
                "font": {
                 "color": "yellow",
                 "size": 15
                },
                "showarrow": false,
                "text": "I = 8.0",
                "x": -10,
                "xref": "x1",
                "y": -10,
                "yref": "y1"
               },
               {
                "font": {
                 "color": "black",
                 "size": 15
                },
                "showarrow": false,
                "text": "CENTRAL",
                "x": -20,
                "xref": "x1",
                "y": 20,
                "yref": "y1"
               },
               {
                "font": {
                 "color": "grey",
                 "size": 15
                },
                "showarrow": false,
                "text": "3.0  ",
                "x": 6,
                "xref": "x1",
                "y": 21,
                "yref": "y1"
               },
               {
                "font": {
                 "color": "grey",
                 "size": 15
                },
                "showarrow": false,
                "text": "2.0  ",
                "x": 31,
                "xref": "x1",
                "y": 24,
                "yref": "y1"
               },
               {
                "font": {
                 "color": "grey",
                 "size": 15
                },
                "showarrow": false,
                "text": "3.0  ",
                "x": -16.5,
                "xref": "x1",
                "y": -24,
                "yref": "y1"
               },
               {
                "font": {
                 "color": "grey",
                 "size": 15
                },
                "showarrow": false,
                "text": "2.0  ",
                "x": -31.5,
                "xref": "x1",
                "y": -31.5,
                "yref": "y1"
               }
              ],
              "title": "WFP Inventory problem        Cost = 232.0          Total Cost = 5791.0   Truck 1 capacity : 5.0   Truck 2 capacity : 20"
             }
            ],
            "label": "t = 17 (before lunch)",
            "method": "update"
           },
           {
            "args": [
             {
              "visible": [
               true,
               true,
               true,
               false,
               false,
               true,
               true,
               true,
               false,
               false,
               false,
               false,
               false,
               false,
               false,
               false,
               false,
               false,
               false,
               false,
               false,
               false,
               false,
               false,
               true,
               true,
               true,
               false,
               false,
               false,
               false,
               true,
               true,
               true,
               false,
               false,
               false,
               false,
               false,
               false,
               false,
               false,
               false,
               false,
               false,
               false,
               false,
               false,
               false,
               false,
               true,
               true,
               true,
               false,
               false,
               true,
               true
              ]
             },
             {
              "annotations": [
               {
                "font": {
                 "color": "black",
                 "size": 15
                },
                "showarrow": false,
                "text": "I = 3.0",
                "x": 20,
                "xref": "x1",
                "y": 20,
                "yref": "y1"
               },
               {
                "font": {
                 "color": "black",
                 "size": 15
                },
                "showarrow": false,
                "text": "I = 3.0",
                "x": 10,
                "xref": "x1",
                "y": 40,
                "yref": "y1"
               },
               {
                "font": {
                 "color": "black",
                 "size": 15
                },
                "showarrow": false,
                "text": "I = 2.0",
                "x": 50,
                "xref": "x1",
                "y": 6,
                "yref": "y1"
               },
               {
                "font": {
                 "color": "black",
                 "size": 15
                },
                "showarrow": false,
                "text": "I = 3.0",
                "x": 30,
                "xref": "x1",
                "y": 14,
                "yref": "y1"
               },
               {
                "font": {
                 "color": "black",
                 "size": 15
                },
                "showarrow": false,
                "text": "I = 3.0",
                "x": 0,
                "xref": "x1",
                "y": -40,
                "yref": "y1"
               },
               {
                "font": {
                 "color": "black",
                 "size": 15
                },
                "showarrow": false,
                "text": "I = 3.0",
                "x": -25,
                "xref": "x1",
                "y": -40,
                "yref": "y1"
               },
               {
                "font": {
                 "color": "black",
                 "size": 15
                },
                "showarrow": false,
                "text": "I = 2.0",
                "x": -40,
                "xref": "x1",
                "y": -25,
                "yref": "y1"
               },
               {
                "font": {
                 "color": "black",
                 "size": 15
                },
                "showarrow": false,
                "text": "I = 3.0",
                "x": -40,
                "xref": "x1",
                "y": 0,
                "yref": "y1"
               },
               {
                "font": {
                 "color": "yellow",
                 "size": 15
                },
                "showarrow": false,
                "text": "I = 18.0",
                "x": 0,
                "xref": "x1",
                "y": 0,
                "yref": "y1"
               },
               {
                "font": {
                 "color": "yellow",
                 "size": 15
                },
                "showarrow": false,
                "text": "I = 18.0",
                "x": -10,
                "xref": "x1",
                "y": -10,
                "yref": "y1"
               },
               {
                "font": {
                 "color": "black",
                 "size": 15
                },
                "showarrow": false,
                "text": "CENTRAL",
                "x": -20,
                "xref": "x1",
                "y": 20,
                "yref": "y1"
               },
               {
                "font": {
                 "color": "grey",
                 "size": 15
                },
                "showarrow": false,
                "text": "2.0  ",
                "x": 11,
                "xref": "x1",
                "y": 11,
                "yref": "y1"
               },
               {
                "font": {
                 "color": "grey",
                 "size": 15
                },
                "showarrow": false,
                "text": "3.0  ",
                "x": 16,
                "xref": "x1",
                "y": 31,
                "yref": "y1"
               },
               {
                "font": {
                 "color": "grey",
                 "size": 15
                },
                "showarrow": false,
                "text": "2.0  ",
                "x": 26,
                "xref": "x1",
                "y": 4,
                "yref": "y1"
               },
               {
                "font": {
                 "color": "grey",
                 "size": 15
                },
                "showarrow": false,
                "text": "3.0  ",
                "x": 41,
                "xref": "x1",
                "y": 11,
                "yref": "y1"
               },
               {
                "font": {
                 "color": "grey",
                 "size": 15
                },
                "showarrow": false,
                "text": "2.0  ",
                "x": -4,
                "xref": "x1",
                "y": -24,
                "yref": "y1"
               },
               {
                "font": {
                 "color": "grey",
                 "size": 15
                },
                "showarrow": false,
                "text": "3.0  ",
                "x": -11.5,
                "xref": "x1",
                "y": -39,
                "yref": "y1"
               },
               {
                "font": {
                 "color": "grey",
                 "size": 15
                },
                "showarrow": false,
                "text": "2.0  ",
                "x": -24,
                "xref": "x1",
                "y": -16.5,
                "yref": "y1"
               },
               {
                "font": {
                 "color": "grey",
                 "size": 15
                },
                "showarrow": false,
                "text": "3.0  ",
                "x": -39,
                "xref": "x1",
                "y": -11.5,
                "yref": "y1"
               }
              ],
              "title": "WFP Inventory problem        Cost = 497.0          Total Cost = 6288.0   Truck 1 capacity : 5.0   Truck 2 capacity : 20"
             }
            ],
            "label": "t = 18 (before lunch)",
            "method": "update"
           },
           {
            "args": [
             {
              "visible": [
               true,
               true,
               true,
               false,
               false,
               false,
               false,
               false,
               false,
               false,
               false,
               false,
               false,
               false,
               false,
               false,
               true,
               true,
               true,
               false,
               false,
               false,
               false,
               false,
               false,
               false,
               false,
               false,
               false,
               false,
               false,
               false,
               false,
               false,
               false,
               false,
               false,
               false,
               false,
               false,
               false,
               false,
               true,
               true,
               true,
               false,
               false,
               false,
               false,
               false,
               false,
               false,
               false,
               false,
               false,
               false,
               false
              ]
             },
             {
              "annotations": [
               {
                "font": {
                 "color": "black",
                 "size": 15
                },
                "showarrow": false,
                "text": "I = 2.0",
                "x": 20,
                "xref": "x1",
                "y": 20,
                "yref": "y1"
               },
               {
                "font": {
                 "color": "black",
                 "size": 15
                },
                "showarrow": false,
                "text": "I = 3.0",
                "x": 10,
                "xref": "x1",
                "y": 40,
                "yref": "y1"
               },
               {
                "font": {
                 "color": "black",
                 "size": 15
                },
                "showarrow": false,
                "text": "I = 2.0",
                "x": 50,
                "xref": "x1",
                "y": 6,
                "yref": "y1"
               },
               {
                "font": {
                 "color": "black",
                 "size": 15
                },
                "showarrow": false,
                "text": "I = 1.5",
                "x": 30,
                "xref": "x1",
                "y": 14,
                "yref": "y1"
               },
               {
                "font": {
                 "color": "black",
                 "size": 15
                },
                "showarrow": false,
                "text": "I = 2.0",
                "x": 0,
                "xref": "x1",
                "y": -40,
                "yref": "y1"
               },
               {
                "font": {
                 "color": "black",
                 "size": 15
                },
                "showarrow": false,
                "text": "I = 3.0",
                "x": -25,
                "xref": "x1",
                "y": -40,
                "yref": "y1"
               },
               {
                "font": {
                 "color": "black",
                 "size": 15
                },
                "showarrow": false,
                "text": "I = 2.0",
                "x": -40,
                "xref": "x1",
                "y": -25,
                "yref": "y1"
               },
               {
                "font": {
                 "color": "black",
                 "size": 15
                },
                "showarrow": false,
                "text": "I = 1.5",
                "x": -40,
                "xref": "x1",
                "y": 0,
                "yref": "y1"
               },
               {
                "font": {
                 "color": "yellow",
                 "size": 15
                },
                "showarrow": false,
                "text": "I = 13.0",
                "x": 0,
                "xref": "x1",
                "y": 0,
                "yref": "y1"
               },
               {
                "font": {
                 "color": "yellow",
                 "size": 15
                },
                "showarrow": false,
                "text": "I = 13.0",
                "x": -10,
                "xref": "x1",
                "y": -10,
                "yref": "y1"
               },
               {
                "font": {
                 "color": "black",
                 "size": 15
                },
                "showarrow": false,
                "text": "CENTRAL",
                "x": -20,
                "xref": "x1",
                "y": 20,
                "yref": "y1"
               },
               {
                "font": {
                 "color": "grey",
                 "size": 15
                },
                "showarrow": false,
                "text": "3.0  ",
                "x": 6,
                "xref": "x1",
                "y": 21,
                "yref": "y1"
               },
               {
                "font": {
                 "color": "grey",
                 "size": 15
                },
                "showarrow": false,
                "text": "2.0  ",
                "x": 31,
                "xref": "x1",
                "y": 24,
                "yref": "y1"
               },
               {
                "font": {
                 "color": "grey",
                 "size": 15
                },
                "showarrow": false,
                "text": "3.0  ",
                "x": -16.5,
                "xref": "x1",
                "y": -24,
                "yref": "y1"
               },
               {
                "font": {
                 "color": "grey",
                 "size": 15
                },
                "showarrow": false,
                "text": "2.0  ",
                "x": -31.5,
                "xref": "x1",
                "y": -31.5,
                "yref": "y1"
               }
              ],
              "title": "WFP Inventory problem        Cost = 232.0          Total Cost = 6521.0   Truck 1 capacity : 5.0   Truck 2 capacity : 20"
             }
            ],
            "label": "t = 19 (before lunch)",
            "method": "update"
           },
           {
            "args": [
             {
              "visible": [
               true,
               true,
               true,
               false,
               false,
               true,
               true,
               true,
               false,
               false,
               false,
               false,
               false,
               false,
               false,
               false,
               false,
               false,
               false,
               false,
               false,
               false,
               false,
               false,
               true,
               true,
               true,
               false,
               false,
               false,
               false,
               true,
               true,
               true,
               false,
               false,
               false,
               false,
               false,
               false,
               false,
               false,
               false,
               false,
               false,
               false,
               false,
               false,
               false,
               false,
               true,
               true,
               true,
               false,
               false,
               false,
               false
              ]
             },
             {
              "annotations": [
               {
                "font": {
                 "color": "black",
                 "size": 15
                },
                "showarrow": false,
                "text": "I = 3.0",
                "x": 20,
                "xref": "x1",
                "y": 20,
                "yref": "y1"
               },
               {
                "font": {
                 "color": "black",
                 "size": 15
                },
                "showarrow": false,
                "text": "I = 3.0",
                "x": 10,
                "xref": "x1",
                "y": 40,
                "yref": "y1"
               },
               {
                "font": {
                 "color": "black",
                 "size": 15
                },
                "showarrow": false,
                "text": "I = 2.0",
                "x": 50,
                "xref": "x1",
                "y": 6,
                "yref": "y1"
               },
               {
                "font": {
                 "color": "black",
                 "size": 15
                },
                "showarrow": false,
                "text": "I = 3.0",
                "x": 30,
                "xref": "x1",
                "y": 14,
                "yref": "y1"
               },
               {
                "font": {
                 "color": "black",
                 "size": 15
                },
                "showarrow": false,
                "text": "I = 3.0",
                "x": 0,
                "xref": "x1",
                "y": -40,
                "yref": "y1"
               },
               {
                "font": {
                 "color": "black",
                 "size": 15
                },
                "showarrow": false,
                "text": "I = 3.0",
                "x": -25,
                "xref": "x1",
                "y": -40,
                "yref": "y1"
               },
               {
                "font": {
                 "color": "black",
                 "size": 15
                },
                "showarrow": false,
                "text": "I = 2.0",
                "x": -40,
                "xref": "x1",
                "y": -25,
                "yref": "y1"
               },
               {
                "font": {
                 "color": "black",
                 "size": 15
                },
                "showarrow": false,
                "text": "I = 3.0",
                "x": -40,
                "xref": "x1",
                "y": 0,
                "yref": "y1"
               },
               {
                "font": {
                 "color": "yellow",
                 "size": 15
                },
                "showarrow": false,
                "text": "I = 3.0",
                "x": 0,
                "xref": "x1",
                "y": 0,
                "yref": "y1"
               },
               {
                "font": {
                 "color": "yellow",
                 "size": 15
                },
                "showarrow": false,
                "text": "I = 3.0",
                "x": -10,
                "xref": "x1",
                "y": -10,
                "yref": "y1"
               },
               {
                "font": {
                 "color": "black",
                 "size": 15
                },
                "showarrow": false,
                "text": "CENTRAL",
                "x": -20,
                "xref": "x1",
                "y": 20,
                "yref": "y1"
               },
               {
                "font": {
                 "color": "grey",
                 "size": 15
                },
                "showarrow": false,
                "text": "2.0  ",
                "x": 11,
                "xref": "x1",
                "y": 11,
                "yref": "y1"
               },
               {
                "font": {
                 "color": "grey",
                 "size": 15
                },
                "showarrow": false,
                "text": "3.0  ",
                "x": 16,
                "xref": "x1",
                "y": 31,
                "yref": "y1"
               },
               {
                "font": {
                 "color": "grey",
                 "size": 15
                },
                "showarrow": false,
                "text": "2.0  ",
                "x": 26,
                "xref": "x1",
                "y": 4,
                "yref": "y1"
               },
               {
                "font": {
                 "color": "grey",
                 "size": 15
                },
                "showarrow": false,
                "text": "3.0  ",
                "x": 41,
                "xref": "x1",
                "y": 11,
                "yref": "y1"
               },
               {
                "font": {
                 "color": "grey",
                 "size": 15
                },
                "showarrow": false,
                "text": "2.0  ",
                "x": -4,
                "xref": "x1",
                "y": -24,
                "yref": "y1"
               },
               {
                "font": {
                 "color": "grey",
                 "size": 15
                },
                "showarrow": false,
                "text": "3.0  ",
                "x": -11.5,
                "xref": "x1",
                "y": -39,
                "yref": "y1"
               },
               {
                "font": {
                 "color": "grey",
                 "size": 15
                },
                "showarrow": false,
                "text": "2.0  ",
                "x": -24,
                "xref": "x1",
                "y": -16.5,
                "yref": "y1"
               },
               {
                "font": {
                 "color": "grey",
                 "size": 15
                },
                "showarrow": false,
                "text": "3.0  ",
                "x": -39,
                "xref": "x1",
                "y": -11.5,
                "yref": "y1"
               }
              ],
              "title": "WFP Inventory problem        Cost = 377.0          Total Cost = 6898.0   Truck 1 capacity : 5.0   Truck 2 capacity : 20"
             }
            ],
            "label": "t = 20 (before lunch)",
            "method": "update"
           },
           {
            "args": [
             {
              "visible": [
               true,
               true,
               true,
               false,
               false,
               false,
               false,
               false,
               false,
               false,
               false,
               false,
               false,
               false,
               false,
               false,
               true,
               true,
               true,
               false,
               false,
               false,
               false,
               false,
               false,
               false,
               false,
               false,
               false,
               false,
               false,
               false,
               false,
               false,
               false,
               false,
               false,
               false,
               false,
               false,
               false,
               false,
               true,
               true,
               true,
               false,
               false,
               false,
               false,
               false,
               false,
               false,
               false,
               false,
               false,
               true,
               true
              ]
             },
             {
              "annotations": [
               {
                "font": {
                 "color": "black",
                 "size": 15
                },
                "showarrow": false,
                "text": "I = 2.0",
                "x": 20,
                "xref": "x1",
                "y": 20,
                "yref": "y1"
               },
               {
                "font": {
                 "color": "black",
                 "size": 15
                },
                "showarrow": false,
                "text": "I = 3.0",
                "x": 10,
                "xref": "x1",
                "y": 40,
                "yref": "y1"
               },
               {
                "font": {
                 "color": "black",
                 "size": 15
                },
                "showarrow": false,
                "text": "I = 2.0",
                "x": 50,
                "xref": "x1",
                "y": 6,
                "yref": "y1"
               },
               {
                "font": {
                 "color": "black",
                 "size": 15
                },
                "showarrow": false,
                "text": "I = 1.5",
                "x": 30,
                "xref": "x1",
                "y": 14,
                "yref": "y1"
               },
               {
                "font": {
                 "color": "black",
                 "size": 15
                },
                "showarrow": false,
                "text": "I = 2.0",
                "x": 0,
                "xref": "x1",
                "y": -40,
                "yref": "y1"
               },
               {
                "font": {
                 "color": "black",
                 "size": 15
                },
                "showarrow": false,
                "text": "I = 3.0",
                "x": -25,
                "xref": "x1",
                "y": -40,
                "yref": "y1"
               },
               {
                "font": {
                 "color": "black",
                 "size": 15
                },
                "showarrow": false,
                "text": "I = 2.0",
                "x": -40,
                "xref": "x1",
                "y": -25,
                "yref": "y1"
               },
               {
                "font": {
                 "color": "black",
                 "size": 15
                },
                "showarrow": false,
                "text": "I = 1.5",
                "x": -40,
                "xref": "x1",
                "y": 0,
                "yref": "y1"
               },
               {
                "font": {
                 "color": "yellow",
                 "size": 15
                },
                "showarrow": false,
                "text": "I = 18.0",
                "x": 0,
                "xref": "x1",
                "y": 0,
                "yref": "y1"
               },
               {
                "font": {
                 "color": "yellow",
                 "size": 15
                },
                "showarrow": false,
                "text": "I = 18.0",
                "x": -10,
                "xref": "x1",
                "y": -10,
                "yref": "y1"
               },
               {
                "font": {
                 "color": "black",
                 "size": 15
                },
                "showarrow": false,
                "text": "CENTRAL",
                "x": -20,
                "xref": "x1",
                "y": 20,
                "yref": "y1"
               },
               {
                "font": {
                 "color": "grey",
                 "size": 15
                },
                "showarrow": false,
                "text": "3.0  ",
                "x": 6,
                "xref": "x1",
                "y": 21,
                "yref": "y1"
               },
               {
                "font": {
                 "color": "grey",
                 "size": 15
                },
                "showarrow": false,
                "text": "2.0  ",
                "x": 31,
                "xref": "x1",
                "y": 24,
                "yref": "y1"
               },
               {
                "font": {
                 "color": "grey",
                 "size": 15
                },
                "showarrow": false,
                "text": "3.0  ",
                "x": -16.5,
                "xref": "x1",
                "y": -24,
                "yref": "y1"
               },
               {
                "font": {
                 "color": "grey",
                 "size": 15
                },
                "showarrow": false,
                "text": "2.0  ",
                "x": -31.5,
                "xref": "x1",
                "y": -31.5,
                "yref": "y1"
               }
              ],
              "title": "WFP Inventory problem        Cost = 352.0          Total Cost = 7250.0   Truck 1 capacity : 5.0   Truck 2 capacity : 20"
             }
            ],
            "label": "t = 21 (before lunch)",
            "method": "update"
           },
           {
            "args": [
             {
              "visible": [
               true,
               true,
               true,
               false,
               false,
               true,
               true,
               true,
               false,
               false,
               false,
               false,
               false,
               false,
               false,
               false,
               false,
               false,
               false,
               false,
               false,
               false,
               false,
               false,
               true,
               true,
               true,
               false,
               false,
               false,
               false,
               true,
               true,
               true,
               false,
               false,
               false,
               false,
               false,
               false,
               false,
               false,
               false,
               false,
               false,
               false,
               false,
               false,
               false,
               false,
               true,
               true,
               true,
               false,
               false,
               false,
               false
              ]
             },
             {
              "annotations": [
               {
                "font": {
                 "color": "black",
                 "size": 15
                },
                "showarrow": false,
                "text": "I = 3.0",
                "x": 20,
                "xref": "x1",
                "y": 20,
                "yref": "y1"
               },
               {
                "font": {
                 "color": "black",
                 "size": 15
                },
                "showarrow": false,
                "text": "I = 3.0",
                "x": 10,
                "xref": "x1",
                "y": 40,
                "yref": "y1"
               },
               {
                "font": {
                 "color": "black",
                 "size": 15
                },
                "showarrow": false,
                "text": "I = 2.0",
                "x": 50,
                "xref": "x1",
                "y": 6,
                "yref": "y1"
               },
               {
                "font": {
                 "color": "black",
                 "size": 15
                },
                "showarrow": false,
                "text": "I = 3.0",
                "x": 30,
                "xref": "x1",
                "y": 14,
                "yref": "y1"
               },
               {
                "font": {
                 "color": "black",
                 "size": 15
                },
                "showarrow": false,
                "text": "I = 3.0",
                "x": 0,
                "xref": "x1",
                "y": -40,
                "yref": "y1"
               },
               {
                "font": {
                 "color": "black",
                 "size": 15
                },
                "showarrow": false,
                "text": "I = 3.0",
                "x": -25,
                "xref": "x1",
                "y": -40,
                "yref": "y1"
               },
               {
                "font": {
                 "color": "black",
                 "size": 15
                },
                "showarrow": false,
                "text": "I = 2.0",
                "x": -40,
                "xref": "x1",
                "y": -25,
                "yref": "y1"
               },
               {
                "font": {
                 "color": "black",
                 "size": 15
                },
                "showarrow": false,
                "text": "I = 3.0",
                "x": -40,
                "xref": "x1",
                "y": 0,
                "yref": "y1"
               },
               {
                "font": {
                 "color": "yellow",
                 "size": 15
                },
                "showarrow": false,
                "text": "I = 8.0",
                "x": 0,
                "xref": "x1",
                "y": 0,
                "yref": "y1"
               },
               {
                "font": {
                 "color": "yellow",
                 "size": 15
                },
                "showarrow": false,
                "text": "I = 8.0",
                "x": -10,
                "xref": "x1",
                "y": -10,
                "yref": "y1"
               },
               {
                "font": {
                 "color": "black",
                 "size": 15
                },
                "showarrow": false,
                "text": "CENTRAL",
                "x": -20,
                "xref": "x1",
                "y": 20,
                "yref": "y1"
               },
               {
                "font": {
                 "color": "grey",
                 "size": 15
                },
                "showarrow": false,
                "text": "2.0  ",
                "x": 11,
                "xref": "x1",
                "y": 11,
                "yref": "y1"
               },
               {
                "font": {
                 "color": "grey",
                 "size": 15
                },
                "showarrow": false,
                "text": "3.0  ",
                "x": 16,
                "xref": "x1",
                "y": 31,
                "yref": "y1"
               },
               {
                "font": {
                 "color": "grey",
                 "size": 15
                },
                "showarrow": false,
                "text": "2.0  ",
                "x": 26,
                "xref": "x1",
                "y": 4,
                "yref": "y1"
               },
               {
                "font": {
                 "color": "grey",
                 "size": 15
                },
                "showarrow": false,
                "text": "3.0  ",
                "x": 41,
                "xref": "x1",
                "y": 11,
                "yref": "y1"
               },
               {
                "font": {
                 "color": "grey",
                 "size": 15
                },
                "showarrow": false,
                "text": "2.0  ",
                "x": -4,
                "xref": "x1",
                "y": -24,
                "yref": "y1"
               },
               {
                "font": {
                 "color": "grey",
                 "size": 15
                },
                "showarrow": false,
                "text": "3.0  ",
                "x": -11.5,
                "xref": "x1",
                "y": -39,
                "yref": "y1"
               },
               {
                "font": {
                 "color": "grey",
                 "size": 15
                },
                "showarrow": false,
                "text": "2.0  ",
                "x": -24,
                "xref": "x1",
                "y": -16.5,
                "yref": "y1"
               },
               {
                "font": {
                 "color": "grey",
                 "size": 15
                },
                "showarrow": false,
                "text": "3.0  ",
                "x": -39,
                "xref": "x1",
                "y": -11.5,
                "yref": "y1"
               }
              ],
              "title": "WFP Inventory problem        Cost = 377.0          Total Cost = 7627.0   Truck 1 capacity : 5.0   Truck 2 capacity : 20"
             }
            ],
            "label": "t = 22 (before lunch)",
            "method": "update"
           },
           {
            "args": [
             {
              "visible": [
               true,
               true,
               true,
               false,
               false,
               false,
               false,
               false,
               false,
               false,
               false,
               false,
               false,
               false,
               false,
               false,
               true,
               true,
               true,
               false,
               false,
               false,
               false,
               false,
               false,
               false,
               false,
               false,
               false,
               false,
               false,
               false,
               false,
               false,
               false,
               false,
               false,
               false,
               false,
               false,
               false,
               false,
               true,
               true,
               true,
               false,
               false,
               false,
               false,
               false,
               false,
               false,
               false,
               false,
               false,
               false,
               false
              ]
             },
             {
              "annotations": [
               {
                "font": {
                 "color": "black",
                 "size": 15
                },
                "showarrow": false,
                "text": "I = 2.0",
                "x": 20,
                "xref": "x1",
                "y": 20,
                "yref": "y1"
               },
               {
                "font": {
                 "color": "black",
                 "size": 15
                },
                "showarrow": false,
                "text": "I = 3.0",
                "x": 10,
                "xref": "x1",
                "y": 40,
                "yref": "y1"
               },
               {
                "font": {
                 "color": "black",
                 "size": 15
                },
                "showarrow": false,
                "text": "I = 2.0",
                "x": 50,
                "xref": "x1",
                "y": 6,
                "yref": "y1"
               },
               {
                "font": {
                 "color": "black",
                 "size": 15
                },
                "showarrow": false,
                "text": "I = 1.5",
                "x": 30,
                "xref": "x1",
                "y": 14,
                "yref": "y1"
               },
               {
                "font": {
                 "color": "black",
                 "size": 15
                },
                "showarrow": false,
                "text": "I = 2.0",
                "x": 0,
                "xref": "x1",
                "y": -40,
                "yref": "y1"
               },
               {
                "font": {
                 "color": "black",
                 "size": 15
                },
                "showarrow": false,
                "text": "I = 3.0",
                "x": -25,
                "xref": "x1",
                "y": -40,
                "yref": "y1"
               },
               {
                "font": {
                 "color": "black",
                 "size": 15
                },
                "showarrow": false,
                "text": "I = 2.0",
                "x": -40,
                "xref": "x1",
                "y": -25,
                "yref": "y1"
               },
               {
                "font": {
                 "color": "black",
                 "size": 15
                },
                "showarrow": false,
                "text": "I = 1.5",
                "x": -40,
                "xref": "x1",
                "y": 0,
                "yref": "y1"
               },
               {
                "font": {
                 "color": "yellow",
                 "size": 15
                },
                "showarrow": false,
                "text": "I = 3.0",
                "x": 0,
                "xref": "x1",
                "y": 0,
                "yref": "y1"
               },
               {
                "font": {
                 "color": "yellow",
                 "size": 15
                },
                "showarrow": false,
                "text": "I = 3.0",
                "x": -10,
                "xref": "x1",
                "y": -10,
                "yref": "y1"
               },
               {
                "font": {
                 "color": "black",
                 "size": 15
                },
                "showarrow": false,
                "text": "CENTRAL",
                "x": -20,
                "xref": "x1",
                "y": 20,
                "yref": "y1"
               },
               {
                "font": {
                 "color": "grey",
                 "size": 15
                },
                "showarrow": false,
                "text": "3.0  ",
                "x": 6,
                "xref": "x1",
                "y": 21,
                "yref": "y1"
               },
               {
                "font": {
                 "color": "grey",
                 "size": 15
                },
                "showarrow": false,
                "text": "2.0  ",
                "x": 31,
                "xref": "x1",
                "y": 24,
                "yref": "y1"
               },
               {
                "font": {
                 "color": "grey",
                 "size": 15
                },
                "showarrow": false,
                "text": "3.0  ",
                "x": -16.5,
                "xref": "x1",
                "y": -24,
                "yref": "y1"
               },
               {
                "font": {
                 "color": "grey",
                 "size": 15
                },
                "showarrow": false,
                "text": "2.0  ",
                "x": -31.5,
                "xref": "x1",
                "y": -31.5,
                "yref": "y1"
               }
              ],
              "title": "WFP Inventory problem        Cost = 232.0          Total Cost = 7860.0   Truck 1 capacity : 5.0   Truck 2 capacity : 20"
             }
            ],
            "label": "t = 23 (before lunch)",
            "method": "update"
           },
           {
            "args": [
             {
              "visible": [
               true,
               true,
               true,
               false,
               false,
               true,
               true,
               true,
               false,
               false,
               false,
               false,
               false,
               false,
               false,
               false,
               false,
               false,
               false,
               false,
               false,
               false,
               false,
               false,
               true,
               true,
               true,
               false,
               false,
               false,
               false,
               true,
               true,
               true,
               false,
               false,
               false,
               false,
               false,
               false,
               false,
               false,
               false,
               false,
               false,
               false,
               false,
               false,
               false,
               false,
               true,
               true,
               true,
               false,
               false,
               true,
               true
              ]
             },
             {
              "annotations": [
               {
                "font": {
                 "color": "black",
                 "size": 15
                },
                "showarrow": false,
                "text": "I = 3.0",
                "x": 20,
                "xref": "x1",
                "y": 20,
                "yref": "y1"
               },
               {
                "font": {
                 "color": "black",
                 "size": 15
                },
                "showarrow": false,
                "text": "I = 3.0",
                "x": 10,
                "xref": "x1",
                "y": 40,
                "yref": "y1"
               },
               {
                "font": {
                 "color": "black",
                 "size": 15
                },
                "showarrow": false,
                "text": "I = 2.0",
                "x": 50,
                "xref": "x1",
                "y": 6,
                "yref": "y1"
               },
               {
                "font": {
                 "color": "black",
                 "size": 15
                },
                "showarrow": false,
                "text": "I = 3.0",
                "x": 30,
                "xref": "x1",
                "y": 14,
                "yref": "y1"
               },
               {
                "font": {
                 "color": "black",
                 "size": 15
                },
                "showarrow": false,
                "text": "I = 3.0",
                "x": 0,
                "xref": "x1",
                "y": -40,
                "yref": "y1"
               },
               {
                "font": {
                 "color": "black",
                 "size": 15
                },
                "showarrow": false,
                "text": "I = 3.0",
                "x": -25,
                "xref": "x1",
                "y": -40,
                "yref": "y1"
               },
               {
                "font": {
                 "color": "black",
                 "size": 15
                },
                "showarrow": false,
                "text": "I = 2.0",
                "x": -40,
                "xref": "x1",
                "y": -25,
                "yref": "y1"
               },
               {
                "font": {
                 "color": "black",
                 "size": 15
                },
                "showarrow": false,
                "text": "I = 3.0",
                "x": -40,
                "xref": "x1",
                "y": 0,
                "yref": "y1"
               },
               {
                "font": {
                 "color": "yellow",
                 "size": 15
                },
                "showarrow": false,
                "text": "I = 13.0",
                "x": 0,
                "xref": "x1",
                "y": 0,
                "yref": "y1"
               },
               {
                "font": {
                 "color": "yellow",
                 "size": 15
                },
                "showarrow": false,
                "text": "I = 13.0",
                "x": -10,
                "xref": "x1",
                "y": -10,
                "yref": "y1"
               },
               {
                "font": {
                 "color": "black",
                 "size": 15
                },
                "showarrow": false,
                "text": "CENTRAL",
                "x": -20,
                "xref": "x1",
                "y": 20,
                "yref": "y1"
               },
               {
                "font": {
                 "color": "grey",
                 "size": 15
                },
                "showarrow": false,
                "text": "2.0  ",
                "x": 11,
                "xref": "x1",
                "y": 11,
                "yref": "y1"
               },
               {
                "font": {
                 "color": "grey",
                 "size": 15
                },
                "showarrow": false,
                "text": "3.0  ",
                "x": 16,
                "xref": "x1",
                "y": 31,
                "yref": "y1"
               },
               {
                "font": {
                 "color": "grey",
                 "size": 15
                },
                "showarrow": false,
                "text": "2.0  ",
                "x": 26,
                "xref": "x1",
                "y": 4,
                "yref": "y1"
               },
               {
                "font": {
                 "color": "grey",
                 "size": 15
                },
                "showarrow": false,
                "text": "3.0  ",
                "x": 41,
                "xref": "x1",
                "y": 11,
                "yref": "y1"
               },
               {
                "font": {
                 "color": "grey",
                 "size": 15
                },
                "showarrow": false,
                "text": "2.0  ",
                "x": -4,
                "xref": "x1",
                "y": -24,
                "yref": "y1"
               },
               {
                "font": {
                 "color": "grey",
                 "size": 15
                },
                "showarrow": false,
                "text": "3.0  ",
                "x": -11.5,
                "xref": "x1",
                "y": -39,
                "yref": "y1"
               },
               {
                "font": {
                 "color": "grey",
                 "size": 15
                },
                "showarrow": false,
                "text": "2.0  ",
                "x": -24,
                "xref": "x1",
                "y": -16.5,
                "yref": "y1"
               },
               {
                "font": {
                 "color": "grey",
                 "size": 15
                },
                "showarrow": false,
                "text": "3.0  ",
                "x": -39,
                "xref": "x1",
                "y": -11.5,
                "yref": "y1"
               }
              ],
              "title": "WFP Inventory problem        Cost = 497.0          Total Cost = 8357.0   Truck 1 capacity : 5.0   Truck 2 capacity : 20"
             }
            ],
            "label": "t = 24 (before lunch)",
            "method": "update"
           },
           {
            "args": [
             {
              "visible": [
               true,
               true,
               true,
               false,
               false,
               false,
               false,
               false,
               false,
               false,
               false,
               false,
               false,
               false,
               false,
               false,
               true,
               true,
               true,
               false,
               false,
               false,
               false,
               false,
               false,
               false,
               false,
               false,
               false,
               false,
               false,
               false,
               false,
               false,
               false,
               false,
               false,
               false,
               false,
               false,
               false,
               false,
               true,
               true,
               true,
               false,
               false,
               false,
               false,
               false,
               false,
               false,
               false,
               false,
               false,
               false,
               false
              ]
             },
             {
              "annotations": [
               {
                "font": {
                 "color": "black",
                 "size": 15
                },
                "showarrow": false,
                "text": "I = 2.0",
                "x": 20,
                "xref": "x1",
                "y": 20,
                "yref": "y1"
               },
               {
                "font": {
                 "color": "black",
                 "size": 15
                },
                "showarrow": false,
                "text": "I = 3.0",
                "x": 10,
                "xref": "x1",
                "y": 40,
                "yref": "y1"
               },
               {
                "font": {
                 "color": "black",
                 "size": 15
                },
                "showarrow": false,
                "text": "I = 2.0",
                "x": 50,
                "xref": "x1",
                "y": 6,
                "yref": "y1"
               },
               {
                "font": {
                 "color": "black",
                 "size": 15
                },
                "showarrow": false,
                "text": "I = 1.5",
                "x": 30,
                "xref": "x1",
                "y": 14,
                "yref": "y1"
               },
               {
                "font": {
                 "color": "black",
                 "size": 15
                },
                "showarrow": false,
                "text": "I = 2.0",
                "x": 0,
                "xref": "x1",
                "y": -40,
                "yref": "y1"
               },
               {
                "font": {
                 "color": "black",
                 "size": 15
                },
                "showarrow": false,
                "text": "I = 3.0",
                "x": -25,
                "xref": "x1",
                "y": -40,
                "yref": "y1"
               },
               {
                "font": {
                 "color": "black",
                 "size": 15
                },
                "showarrow": false,
                "text": "I = 2.0",
                "x": -40,
                "xref": "x1",
                "y": -25,
                "yref": "y1"
               },
               {
                "font": {
                 "color": "black",
                 "size": 15
                },
                "showarrow": false,
                "text": "I = 1.5",
                "x": -40,
                "xref": "x1",
                "y": 0,
                "yref": "y1"
               },
               {
                "font": {
                 "color": "yellow",
                 "size": 15
                },
                "showarrow": false,
                "text": "I = 8.0",
                "x": 0,
                "xref": "x1",
                "y": 0,
                "yref": "y1"
               },
               {
                "font": {
                 "color": "yellow",
                 "size": 15
                },
                "showarrow": false,
                "text": "I = 8.0",
                "x": -10,
                "xref": "x1",
                "y": -10,
                "yref": "y1"
               },
               {
                "font": {
                 "color": "black",
                 "size": 15
                },
                "showarrow": false,
                "text": "CENTRAL",
                "x": -20,
                "xref": "x1",
                "y": 20,
                "yref": "y1"
               },
               {
                "font": {
                 "color": "grey",
                 "size": 15
                },
                "showarrow": false,
                "text": "3.0  ",
                "x": 6,
                "xref": "x1",
                "y": 21,
                "yref": "y1"
               },
               {
                "font": {
                 "color": "grey",
                 "size": 15
                },
                "showarrow": false,
                "text": "2.0  ",
                "x": 31,
                "xref": "x1",
                "y": 24,
                "yref": "y1"
               },
               {
                "font": {
                 "color": "grey",
                 "size": 15
                },
                "showarrow": false,
                "text": "3.0  ",
                "x": -16.5,
                "xref": "x1",
                "y": -24,
                "yref": "y1"
               },
               {
                "font": {
                 "color": "grey",
                 "size": 15
                },
                "showarrow": false,
                "text": "2.0  ",
                "x": -31.5,
                "xref": "x1",
                "y": -31.5,
                "yref": "y1"
               }
              ],
              "title": "WFP Inventory problem        Cost = 232.0          Total Cost = 8589.0   Truck 1 capacity : 5.0   Truck 2 capacity : 20"
             }
            ],
            "label": "t = 25 (before lunch)",
            "method": "update"
           },
           {
            "args": [
             {
              "visible": [
               true,
               true,
               true,
               false,
               false,
               true,
               true,
               true,
               false,
               false,
               false,
               false,
               false,
               false,
               false,
               false,
               false,
               false,
               false,
               false,
               false,
               false,
               false,
               false,
               true,
               true,
               true,
               false,
               false,
               false,
               false,
               true,
               true,
               true,
               false,
               false,
               false,
               false,
               false,
               false,
               false,
               false,
               false,
               false,
               false,
               false,
               false,
               false,
               false,
               false,
               true,
               true,
               true,
               false,
               false,
               true,
               true
              ]
             },
             {
              "annotations": [
               {
                "font": {
                 "color": "black",
                 "size": 15
                },
                "showarrow": false,
                "text": "I = 3.0",
                "x": 20,
                "xref": "x1",
                "y": 20,
                "yref": "y1"
               },
               {
                "font": {
                 "color": "black",
                 "size": 15
                },
                "showarrow": false,
                "text": "I = 3.0",
                "x": 10,
                "xref": "x1",
                "y": 40,
                "yref": "y1"
               },
               {
                "font": {
                 "color": "black",
                 "size": 15
                },
                "showarrow": false,
                "text": "I = 2.0",
                "x": 50,
                "xref": "x1",
                "y": 6,
                "yref": "y1"
               },
               {
                "font": {
                 "color": "black",
                 "size": 15
                },
                "showarrow": false,
                "text": "I = 3.0",
                "x": 30,
                "xref": "x1",
                "y": 14,
                "yref": "y1"
               },
               {
                "font": {
                 "color": "black",
                 "size": 15
                },
                "showarrow": false,
                "text": "I = 3.0",
                "x": 0,
                "xref": "x1",
                "y": -40,
                "yref": "y1"
               },
               {
                "font": {
                 "color": "black",
                 "size": 15
                },
                "showarrow": false,
                "text": "I = 3.0",
                "x": -25,
                "xref": "x1",
                "y": -40,
                "yref": "y1"
               },
               {
                "font": {
                 "color": "black",
                 "size": 15
                },
                "showarrow": false,
                "text": "I = 2.0",
                "x": -40,
                "xref": "x1",
                "y": -25,
                "yref": "y1"
               },
               {
                "font": {
                 "color": "black",
                 "size": 15
                },
                "showarrow": false,
                "text": "I = 3.0",
                "x": -40,
                "xref": "x1",
                "y": 0,
                "yref": "y1"
               },
               {
                "font": {
                 "color": "yellow",
                 "size": 15
                },
                "showarrow": false,
                "text": "I = 18.0",
                "x": 0,
                "xref": "x1",
                "y": 0,
                "yref": "y1"
               },
               {
                "font": {
                 "color": "yellow",
                 "size": 15
                },
                "showarrow": false,
                "text": "I = 18.0",
                "x": -10,
                "xref": "x1",
                "y": -10,
                "yref": "y1"
               },
               {
                "font": {
                 "color": "black",
                 "size": 15
                },
                "showarrow": false,
                "text": "CENTRAL",
                "x": -20,
                "xref": "x1",
                "y": 20,
                "yref": "y1"
               },
               {
                "font": {
                 "color": "grey",
                 "size": 15
                },
                "showarrow": false,
                "text": "2.0  ",
                "x": 11,
                "xref": "x1",
                "y": 11,
                "yref": "y1"
               },
               {
                "font": {
                 "color": "grey",
                 "size": 15
                },
                "showarrow": false,
                "text": "3.0  ",
                "x": 16,
                "xref": "x1",
                "y": 31,
                "yref": "y1"
               },
               {
                "font": {
                 "color": "grey",
                 "size": 15
                },
                "showarrow": false,
                "text": "2.0  ",
                "x": 26,
                "xref": "x1",
                "y": 4,
                "yref": "y1"
               },
               {
                "font": {
                 "color": "grey",
                 "size": 15
                },
                "showarrow": false,
                "text": "3.0  ",
                "x": 41,
                "xref": "x1",
                "y": 11,
                "yref": "y1"
               },
               {
                "font": {
                 "color": "grey",
                 "size": 15
                },
                "showarrow": false,
                "text": "2.0  ",
                "x": -4,
                "xref": "x1",
                "y": -24,
                "yref": "y1"
               },
               {
                "font": {
                 "color": "grey",
                 "size": 15
                },
                "showarrow": false,
                "text": "3.0  ",
                "x": -11.5,
                "xref": "x1",
                "y": -39,
                "yref": "y1"
               },
               {
                "font": {
                 "color": "grey",
                 "size": 15
                },
                "showarrow": false,
                "text": "2.0  ",
                "x": -24,
                "xref": "x1",
                "y": -16.5,
                "yref": "y1"
               },
               {
                "font": {
                 "color": "grey",
                 "size": 15
                },
                "showarrow": false,
                "text": "3.0  ",
                "x": -39,
                "xref": "x1",
                "y": -11.5,
                "yref": "y1"
               }
              ],
              "title": "WFP Inventory problem        Cost = 497.0          Total Cost = 9086.0   Truck 1 capacity : 5.0   Truck 2 capacity : 20"
             }
            ],
            "label": "t = 26 (before lunch)",
            "method": "update"
           },
           {
            "args": [
             {
              "visible": [
               true,
               true,
               true,
               false,
               false,
               false,
               false,
               false,
               false,
               false,
               false,
               false,
               false,
               false,
               false,
               false,
               true,
               true,
               true,
               false,
               false,
               false,
               false,
               false,
               false,
               false,
               false,
               false,
               false,
               false,
               false,
               false,
               false,
               false,
               false,
               false,
               false,
               false,
               false,
               false,
               false,
               false,
               true,
               true,
               true,
               false,
               false,
               false,
               false,
               false,
               false,
               false,
               false,
               false,
               false,
               false,
               false
              ]
             },
             {
              "annotations": [
               {
                "font": {
                 "color": "black",
                 "size": 15
                },
                "showarrow": false,
                "text": "I = 2.0",
                "x": 20,
                "xref": "x1",
                "y": 20,
                "yref": "y1"
               },
               {
                "font": {
                 "color": "black",
                 "size": 15
                },
                "showarrow": false,
                "text": "I = 3.0",
                "x": 10,
                "xref": "x1",
                "y": 40,
                "yref": "y1"
               },
               {
                "font": {
                 "color": "black",
                 "size": 15
                },
                "showarrow": false,
                "text": "I = 2.0",
                "x": 50,
                "xref": "x1",
                "y": 6,
                "yref": "y1"
               },
               {
                "font": {
                 "color": "black",
                 "size": 15
                },
                "showarrow": false,
                "text": "I = 1.5",
                "x": 30,
                "xref": "x1",
                "y": 14,
                "yref": "y1"
               },
               {
                "font": {
                 "color": "black",
                 "size": 15
                },
                "showarrow": false,
                "text": "I = 2.0",
                "x": 0,
                "xref": "x1",
                "y": -40,
                "yref": "y1"
               },
               {
                "font": {
                 "color": "black",
                 "size": 15
                },
                "showarrow": false,
                "text": "I = 3.0",
                "x": -25,
                "xref": "x1",
                "y": -40,
                "yref": "y1"
               },
               {
                "font": {
                 "color": "black",
                 "size": 15
                },
                "showarrow": false,
                "text": "I = 2.0",
                "x": -40,
                "xref": "x1",
                "y": -25,
                "yref": "y1"
               },
               {
                "font": {
                 "color": "black",
                 "size": 15
                },
                "showarrow": false,
                "text": "I = 1.5",
                "x": -40,
                "xref": "x1",
                "y": 0,
                "yref": "y1"
               },
               {
                "font": {
                 "color": "yellow",
                 "size": 15
                },
                "showarrow": false,
                "text": "I = 13.0",
                "x": 0,
                "xref": "x1",
                "y": 0,
                "yref": "y1"
               },
               {
                "font": {
                 "color": "yellow",
                 "size": 15
                },
                "showarrow": false,
                "text": "I = 13.0",
                "x": -10,
                "xref": "x1",
                "y": -10,
                "yref": "y1"
               },
               {
                "font": {
                 "color": "black",
                 "size": 15
                },
                "showarrow": false,
                "text": "CENTRAL",
                "x": -20,
                "xref": "x1",
                "y": 20,
                "yref": "y1"
               },
               {
                "font": {
                 "color": "grey",
                 "size": 15
                },
                "showarrow": false,
                "text": "3.0  ",
                "x": 6,
                "xref": "x1",
                "y": 21,
                "yref": "y1"
               },
               {
                "font": {
                 "color": "grey",
                 "size": 15
                },
                "showarrow": false,
                "text": "2.0  ",
                "x": 31,
                "xref": "x1",
                "y": 24,
                "yref": "y1"
               },
               {
                "font": {
                 "color": "grey",
                 "size": 15
                },
                "showarrow": false,
                "text": "3.0  ",
                "x": -16.5,
                "xref": "x1",
                "y": -24,
                "yref": "y1"
               },
               {
                "font": {
                 "color": "grey",
                 "size": 15
                },
                "showarrow": false,
                "text": "2.0  ",
                "x": -31.5,
                "xref": "x1",
                "y": -31.5,
                "yref": "y1"
               }
              ],
              "title": "WFP Inventory problem        Cost = 232.0          Total Cost = 9319.0   Truck 1 capacity : 5.0   Truck 2 capacity : 20"
             }
            ],
            "label": "t = 27 (before lunch)",
            "method": "update"
           },
           {
            "args": [
             {
              "visible": [
               true,
               true,
               true,
               false,
               false,
               true,
               true,
               true,
               false,
               false,
               false,
               false,
               false,
               false,
               false,
               false,
               false,
               false,
               false,
               false,
               false,
               false,
               false,
               false,
               true,
               true,
               true,
               false,
               false,
               false,
               false,
               true,
               true,
               true,
               false,
               false,
               false,
               false,
               false,
               false,
               false,
               false,
               false,
               false,
               false,
               false,
               false,
               false,
               false,
               false,
               true,
               true,
               true,
               false,
               false,
               false,
               false
              ]
             },
             {
              "annotations": [
               {
                "font": {
                 "color": "black",
                 "size": 15
                },
                "showarrow": false,
                "text": "I = 3.0",
                "x": 20,
                "xref": "x1",
                "y": 20,
                "yref": "y1"
               },
               {
                "font": {
                 "color": "black",
                 "size": 15
                },
                "showarrow": false,
                "text": "I = 3.0",
                "x": 10,
                "xref": "x1",
                "y": 40,
                "yref": "y1"
               },
               {
                "font": {
                 "color": "black",
                 "size": 15
                },
                "showarrow": false,
                "text": "I = 2.0",
                "x": 50,
                "xref": "x1",
                "y": 6,
                "yref": "y1"
               },
               {
                "font": {
                 "color": "black",
                 "size": 15
                },
                "showarrow": false,
                "text": "I = 3.0",
                "x": 30,
                "xref": "x1",
                "y": 14,
                "yref": "y1"
               },
               {
                "font": {
                 "color": "black",
                 "size": 15
                },
                "showarrow": false,
                "text": "I = 3.0",
                "x": 0,
                "xref": "x1",
                "y": -40,
                "yref": "y1"
               },
               {
                "font": {
                 "color": "black",
                 "size": 15
                },
                "showarrow": false,
                "text": "I = 3.0",
                "x": -25,
                "xref": "x1",
                "y": -40,
                "yref": "y1"
               },
               {
                "font": {
                 "color": "black",
                 "size": 15
                },
                "showarrow": false,
                "text": "I = 2.0",
                "x": -40,
                "xref": "x1",
                "y": -25,
                "yref": "y1"
               },
               {
                "font": {
                 "color": "black",
                 "size": 15
                },
                "showarrow": false,
                "text": "I = 3.0",
                "x": -40,
                "xref": "x1",
                "y": 0,
                "yref": "y1"
               },
               {
                "font": {
                 "color": "yellow",
                 "size": 15
                },
                "showarrow": false,
                "text": "I = 3.0",
                "x": 0,
                "xref": "x1",
                "y": 0,
                "yref": "y1"
               },
               {
                "font": {
                 "color": "yellow",
                 "size": 15
                },
                "showarrow": false,
                "text": "I = 3.0",
                "x": -10,
                "xref": "x1",
                "y": -10,
                "yref": "y1"
               },
               {
                "font": {
                 "color": "black",
                 "size": 15
                },
                "showarrow": false,
                "text": "CENTRAL",
                "x": -20,
                "xref": "x1",
                "y": 20,
                "yref": "y1"
               },
               {
                "font": {
                 "color": "grey",
                 "size": 15
                },
                "showarrow": false,
                "text": "2.0  ",
                "x": 11,
                "xref": "x1",
                "y": 11,
                "yref": "y1"
               },
               {
                "font": {
                 "color": "grey",
                 "size": 15
                },
                "showarrow": false,
                "text": "3.0  ",
                "x": 16,
                "xref": "x1",
                "y": 31,
                "yref": "y1"
               },
               {
                "font": {
                 "color": "grey",
                 "size": 15
                },
                "showarrow": false,
                "text": "2.0  ",
                "x": 26,
                "xref": "x1",
                "y": 4,
                "yref": "y1"
               },
               {
                "font": {
                 "color": "grey",
                 "size": 15
                },
                "showarrow": false,
                "text": "3.0  ",
                "x": 41,
                "xref": "x1",
                "y": 11,
                "yref": "y1"
               },
               {
                "font": {
                 "color": "grey",
                 "size": 15
                },
                "showarrow": false,
                "text": "2.0  ",
                "x": -4,
                "xref": "x1",
                "y": -24,
                "yref": "y1"
               },
               {
                "font": {
                 "color": "grey",
                 "size": 15
                },
                "showarrow": false,
                "text": "3.0  ",
                "x": -11.5,
                "xref": "x1",
                "y": -39,
                "yref": "y1"
               },
               {
                "font": {
                 "color": "grey",
                 "size": 15
                },
                "showarrow": false,
                "text": "2.0  ",
                "x": -24,
                "xref": "x1",
                "y": -16.5,
                "yref": "y1"
               },
               {
                "font": {
                 "color": "grey",
                 "size": 15
                },
                "showarrow": false,
                "text": "3.0  ",
                "x": -39,
                "xref": "x1",
                "y": -11.5,
                "yref": "y1"
               }
              ],
              "title": "WFP Inventory problem        Cost = 377.0          Total Cost = 9696.0   Truck 1 capacity : 5.0   Truck 2 capacity : 20"
             }
            ],
            "label": "t = 28 (before lunch)",
            "method": "update"
           },
           {
            "args": [
             {
              "visible": [
               true,
               true,
               true,
               false,
               false,
               false,
               false,
               false,
               false,
               false,
               false,
               false,
               false,
               false,
               false,
               false,
               true,
               true,
               true,
               false,
               false,
               false,
               false,
               false,
               false,
               false,
               false,
               false,
               false,
               false,
               false,
               false,
               false,
               false,
               false,
               false,
               false,
               false,
               false,
               false,
               false,
               false,
               true,
               true,
               true,
               false,
               false,
               false,
               false,
               false,
               false,
               false,
               false,
               false,
               false,
               true,
               true
              ]
             },
             {
              "annotations": [
               {
                "font": {
                 "color": "black",
                 "size": 15
                },
                "showarrow": false,
                "text": "I = 2.0",
                "x": 20,
                "xref": "x1",
                "y": 20,
                "yref": "y1"
               },
               {
                "font": {
                 "color": "black",
                 "size": 15
                },
                "showarrow": false,
                "text": "I = 3.0",
                "x": 10,
                "xref": "x1",
                "y": 40,
                "yref": "y1"
               },
               {
                "font": {
                 "color": "black",
                 "size": 15
                },
                "showarrow": false,
                "text": "I = 2.0",
                "x": 50,
                "xref": "x1",
                "y": 6,
                "yref": "y1"
               },
               {
                "font": {
                 "color": "black",
                 "size": 15
                },
                "showarrow": false,
                "text": "I = 1.5",
                "x": 30,
                "xref": "x1",
                "y": 14,
                "yref": "y1"
               },
               {
                "font": {
                 "color": "black",
                 "size": 15
                },
                "showarrow": false,
                "text": "I = 2.0",
                "x": 0,
                "xref": "x1",
                "y": -40,
                "yref": "y1"
               },
               {
                "font": {
                 "color": "black",
                 "size": 15
                },
                "showarrow": false,
                "text": "I = 3.0",
                "x": -25,
                "xref": "x1",
                "y": -40,
                "yref": "y1"
               },
               {
                "font": {
                 "color": "black",
                 "size": 15
                },
                "showarrow": false,
                "text": "I = 2.0",
                "x": -40,
                "xref": "x1",
                "y": -25,
                "yref": "y1"
               },
               {
                "font": {
                 "color": "black",
                 "size": 15
                },
                "showarrow": false,
                "text": "I = 1.5",
                "x": -40,
                "xref": "x1",
                "y": 0,
                "yref": "y1"
               },
               {
                "font": {
                 "color": "yellow",
                 "size": 15
                },
                "showarrow": false,
                "text": "I = 18.0",
                "x": 0,
                "xref": "x1",
                "y": 0,
                "yref": "y1"
               },
               {
                "font": {
                 "color": "yellow",
                 "size": 15
                },
                "showarrow": false,
                "text": "I = 18.0",
                "x": -10,
                "xref": "x1",
                "y": -10,
                "yref": "y1"
               },
               {
                "font": {
                 "color": "black",
                 "size": 15
                },
                "showarrow": false,
                "text": "CENTRAL",
                "x": -20,
                "xref": "x1",
                "y": 20,
                "yref": "y1"
               },
               {
                "font": {
                 "color": "grey",
                 "size": 15
                },
                "showarrow": false,
                "text": "3.0  ",
                "x": 6,
                "xref": "x1",
                "y": 21,
                "yref": "y1"
               },
               {
                "font": {
                 "color": "grey",
                 "size": 15
                },
                "showarrow": false,
                "text": "2.0  ",
                "x": 31,
                "xref": "x1",
                "y": 24,
                "yref": "y1"
               },
               {
                "font": {
                 "color": "grey",
                 "size": 15
                },
                "showarrow": false,
                "text": "3.0  ",
                "x": -16.5,
                "xref": "x1",
                "y": -24,
                "yref": "y1"
               },
               {
                "font": {
                 "color": "grey",
                 "size": 15
                },
                "showarrow": false,
                "text": "2.0  ",
                "x": -31.5,
                "xref": "x1",
                "y": -31.5,
                "yref": "y1"
               }
              ],
              "title": "WFP Inventory problem        Cost = 352.0          Total Cost = 10048.0   Truck 1 capacity : 5.0   Truck 2 capacity : 20"
             }
            ],
            "label": "t = 29 (before lunch)",
            "method": "update"
           }
          ],
          "direction": "up",
          "x": 0,
          "y": 0
         },
         {
          "buttons": [
           {
            "args": [
             {
              "visible": [
               true,
               true,
               true,
               false,
               false,
               false,
               false,
               false,
               false,
               false,
               false,
               false,
               false,
               false,
               false,
               false,
               false,
               false,
               false,
               false,
               false,
               false,
               false,
               false,
               false,
               false,
               false,
               false,
               false,
               false,
               false,
               false,
               false,
               false,
               false,
               false,
               false,
               false,
               false,
               false,
               false,
               false,
               false,
               false,
               false,
               false,
               false,
               false,
               false,
               false,
               false,
               false,
               false,
               false,
               false,
               false,
               false
              ]
             },
             {
              "annotations": [
               {
                "font": {
                 "color": "black",
                 "size": 15
                },
                "showarrow": false,
                "text": "I = 4.0",
                "x": 20,
                "xref": "x1",
                "y": 20,
                "yref": "y1"
               },
               {
                "font": {
                 "color": "black",
                 "size": 15
                },
                "showarrow": false,
                "text": "I = 0.0",
                "x": 10,
                "xref": "x1",
                "y": 40,
                "yref": "y1"
               },
               {
                "font": {
                 "color": "black",
                 "size": 15
                },
                "showarrow": false,
                "text": "I = 0.0",
                "x": 50,
                "xref": "x1",
                "y": 6,
                "yref": "y1"
               },
               {
                "font": {
                 "color": "black",
                 "size": 15
                },
                "showarrow": false,
                "text": "I = 2.5",
                "x": 30,
                "xref": "x1",
                "y": 14,
                "yref": "y1"
               },
               {
                "font": {
                 "color": "black",
                 "size": 15
                },
                "showarrow": false,
                "text": "I = 4.0",
                "x": 0,
                "xref": "x1",
                "y": -40,
                "yref": "y1"
               },
               {
                "font": {
                 "color": "black",
                 "size": 15
                },
                "showarrow": false,
                "text": "I = 0.0",
                "x": -25,
                "xref": "x1",
                "y": -40,
                "yref": "y1"
               },
               {
                "font": {
                 "color": "black",
                 "size": 15
                },
                "showarrow": false,
                "text": "I = 0.0",
                "x": -40,
                "xref": "x1",
                "y": -25,
                "yref": "y1"
               },
               {
                "font": {
                 "color": "black",
                 "size": 15
                },
                "showarrow": false,
                "text": "I = 2.5",
                "x": -40,
                "xref": "x1",
                "y": 0,
                "yref": "y1"
               },
               {
                "font": {
                 "color": "yellow",
                 "size": 15
                },
                "showarrow": false,
                "text": "I = 10",
                "x": 0,
                "xref": "x1",
                "y": 0,
                "yref": "y1"
               },
               {
                "font": {
                 "color": "yellow",
                 "size": 15
                },
                "showarrow": false,
                "text": "I = 10",
                "x": -10,
                "xref": "x1",
                "y": -10,
                "yref": "y1"
               },
               {
                "font": {
                 "color": "black",
                 "size": 15
                },
                "showarrow": false,
                "text": "CENTRAL",
                "x": -20,
                "xref": "x1",
                "y": 20,
                "yref": "y1"
               }
              ],
              "title": "WFP Inventory problem        Cost = 0          Total Cost = 0   Truck 1 capacity : 5.0   Truck 2 capacity : 20"
             }
            ],
            "label": "t = 0  (evening)",
            "method": "update"
           },
           {
            "args": [
             {
              "visible": [
               true,
               true,
               true,
               false,
               false,
               false,
               false,
               false,
               false,
               false,
               false,
               false,
               false,
               false,
               false,
               false,
               false,
               false,
               false,
               false,
               false,
               false,
               false,
               false,
               false,
               false,
               false,
               false,
               false,
               false,
               false,
               false,
               false,
               false,
               false,
               false,
               false,
               false,
               false,
               false,
               false,
               false,
               false,
               false,
               false,
               false,
               false,
               false,
               false,
               false,
               false,
               false,
               false,
               false,
               false,
               false,
               false
              ]
             },
             {
              "annotations": [
               {
                "font": {
                 "color": "black",
                 "size": 15
                },
                "showarrow": false,
                "text": "I = 3.0",
                "x": 20,
                "xref": "x1",
                "y": 20,
                "yref": "y1"
               },
               {
                "font": {
                 "color": "black",
                 "size": 15
                },
                "showarrow": false,
                "text": "I = 0.0",
                "x": 10,
                "xref": "x1",
                "y": 40,
                "yref": "y1"
               },
               {
                "font": {
                 "color": "black",
                 "size": 15
                },
                "showarrow": false,
                "text": "I = 0.0",
                "x": 50,
                "xref": "x1",
                "y": 6,
                "yref": "y1"
               },
               {
                "font": {
                 "color": "black",
                 "size": 15
                },
                "showarrow": false,
                "text": "I = 1.0",
                "x": 30,
                "xref": "x1",
                "y": 14,
                "yref": "y1"
               },
               {
                "font": {
                 "color": "black",
                 "size": 15
                },
                "showarrow": false,
                "text": "I = 3.0",
                "x": 0,
                "xref": "x1",
                "y": -40,
                "yref": "y1"
               },
               {
                "font": {
                 "color": "black",
                 "size": 15
                },
                "showarrow": false,
                "text": "I = 0.0",
                "x": -25,
                "xref": "x1",
                "y": -40,
                "yref": "y1"
               },
               {
                "font": {
                 "color": "black",
                 "size": 15
                },
                "showarrow": false,
                "text": "I = 0.0",
                "x": -40,
                "xref": "x1",
                "y": -25,
                "yref": "y1"
               },
               {
                "font": {
                 "color": "black",
                 "size": 15
                },
                "showarrow": false,
                "text": "I = 1.0",
                "x": -40,
                "xref": "x1",
                "y": 0,
                "yref": "y1"
               },
               {
                "font": {
                 "color": "yellow",
                 "size": 15
                },
                "showarrow": false,
                "text": "I = 5.0",
                "x": 0,
                "xref": "x1",
                "y": 0,
                "yref": "y1"
               },
               {
                "font": {
                 "color": "yellow",
                 "size": 15
                },
                "showarrow": false,
                "text": "I = 5.0",
                "x": -10,
                "xref": "x1",
                "y": -10,
                "yref": "y1"
               },
               {
                "font": {
                 "color": "black",
                 "size": 15
                },
                "showarrow": false,
                "text": "CENTRAL",
                "x": -20,
                "xref": "x1",
                "y": 20,
                "yref": "y1"
               }
              ],
              "title": "WFP Inventory problem        Cost = 232.0          Total Cost = 232.0   Truck 1 capacity : 5.0   Truck 2 capacity : 20"
             }
            ],
            "label": "t = 1  (evening)",
            "method": "update"
           },
           {
            "args": [
             {
              "visible": [
               true,
               true,
               true,
               false,
               false,
               false,
               false,
               false,
               false,
               false,
               false,
               false,
               false,
               false,
               false,
               false,
               false,
               false,
               false,
               false,
               false,
               false,
               false,
               false,
               false,
               false,
               false,
               false,
               false,
               false,
               false,
               false,
               false,
               false,
               false,
               false,
               false,
               false,
               false,
               false,
               false,
               false,
               false,
               false,
               false,
               false,
               false,
               false,
               false,
               false,
               false,
               false,
               false,
               false,
               false,
               false,
               false
              ]
             },
             {
              "annotations": [
               {
                "font": {
                 "color": "black",
                 "size": 15
                },
                "showarrow": false,
                "text": "I = 2.0",
                "x": 20,
                "xref": "x1",
                "y": 20,
                "yref": "y1"
               },
               {
                "font": {
                 "color": "black",
                 "size": 15
                },
                "showarrow": false,
                "text": "I = 0.0",
                "x": 10,
                "xref": "x1",
                "y": 40,
                "yref": "y1"
               },
               {
                "font": {
                 "color": "black",
                 "size": 15
                },
                "showarrow": false,
                "text": "I = 0.0",
                "x": 50,
                "xref": "x1",
                "y": 6,
                "yref": "y1"
               },
               {
                "font": {
                 "color": "black",
                 "size": 15
                },
                "showarrow": false,
                "text": "I = 2.5",
                "x": 30,
                "xref": "x1",
                "y": 14,
                "yref": "y1"
               },
               {
                "font": {
                 "color": "black",
                 "size": 15
                },
                "showarrow": false,
                "text": "I = 2.0",
                "x": 0,
                "xref": "x1",
                "y": -40,
                "yref": "y1"
               },
               {
                "font": {
                 "color": "black",
                 "size": 15
                },
                "showarrow": false,
                "text": "I = 0.0",
                "x": -25,
                "xref": "x1",
                "y": -40,
                "yref": "y1"
               },
               {
                "font": {
                 "color": "black",
                 "size": 15
                },
                "showarrow": false,
                "text": "I = 0.0",
                "x": -40,
                "xref": "x1",
                "y": -25,
                "yref": "y1"
               },
               {
                "font": {
                 "color": "black",
                 "size": 15
                },
                "showarrow": false,
                "text": "I = 1.5",
                "x": -40,
                "xref": "x1",
                "y": 0,
                "yref": "y1"
               },
               {
                "font": {
                 "color": "yellow",
                 "size": 15
                },
                "showarrow": false,
                "text": "I = 17.0",
                "x": 0,
                "xref": "x1",
                "y": 0,
                "yref": "y1"
               },
               {
                "font": {
                 "color": "yellow",
                 "size": 15
                },
                "showarrow": false,
                "text": "I = 18.0",
                "x": -10,
                "xref": "x1",
                "y": -10,
                "yref": "y1"
               },
               {
                "font": {
                 "color": "black",
                 "size": 15
                },
                "showarrow": false,
                "text": "CENTRAL",
                "x": -20,
                "xref": "x1",
                "y": 20,
                "yref": "y1"
               }
              ],
              "title": "WFP Inventory problem        Cost = 459.0          Total Cost = 691.0   Truck 1 capacity : 5.0   Truck 2 capacity : 20"
             }
            ],
            "label": "t = 2  (evening)",
            "method": "update"
           },
           {
            "args": [
             {
              "visible": [
               true,
               true,
               true,
               false,
               false,
               false,
               false,
               false,
               false,
               false,
               false,
               false,
               false,
               false,
               false,
               false,
               false,
               false,
               false,
               false,
               false,
               false,
               false,
               false,
               false,
               false,
               false,
               false,
               false,
               false,
               false,
               false,
               false,
               false,
               false,
               false,
               false,
               false,
               false,
               false,
               false,
               false,
               false,
               false,
               false,
               false,
               false,
               false,
               false,
               false,
               false,
               false,
               false,
               false,
               false,
               false,
               false
              ]
             },
             {
              "annotations": [
               {
                "font": {
                 "color": "black",
                 "size": 15
                },
                "showarrow": false,
                "text": "I = 1.0",
                "x": 20,
                "xref": "x1",
                "y": 20,
                "yref": "y1"
               },
               {
                "font": {
                 "color": "black",
                 "size": 15
                },
                "showarrow": false,
                "text": "I = -0.0",
                "x": 10,
                "xref": "x1",
                "y": 40,
                "yref": "y1"
               },
               {
                "font": {
                 "color": "black",
                 "size": 15
                },
                "showarrow": false,
                "text": "I = 0.0",
                "x": 50,
                "xref": "x1",
                "y": 6,
                "yref": "y1"
               },
               {
                "font": {
                 "color": "black",
                 "size": 15
                },
                "showarrow": false,
                "text": "I = 1.0",
                "x": 30,
                "xref": "x1",
                "y": 14,
                "yref": "y1"
               },
               {
                "font": {
                 "color": "black",
                 "size": 15
                },
                "showarrow": false,
                "text": "I = 1.0",
                "x": 0,
                "xref": "x1",
                "y": -40,
                "yref": "y1"
               },
               {
                "font": {
                 "color": "black",
                 "size": 15
                },
                "showarrow": false,
                "text": "I = -0.0",
                "x": -25,
                "xref": "x1",
                "y": -40,
                "yref": "y1"
               },
               {
                "font": {
                 "color": "black",
                 "size": 15
                },
                "showarrow": false,
                "text": "I = 0.0",
                "x": -40,
                "xref": "x1",
                "y": -25,
                "yref": "y1"
               },
               {
                "font": {
                 "color": "black",
                 "size": 15
                },
                "showarrow": false,
                "text": "I = -0.0",
                "x": -40,
                "xref": "x1",
                "y": 0,
                "yref": "y1"
               },
               {
                "font": {
                 "color": "yellow",
                 "size": 15
                },
                "showarrow": false,
                "text": "I = 12.0",
                "x": 0,
                "xref": "x1",
                "y": 0,
                "yref": "y1"
               },
               {
                "font": {
                 "color": "yellow",
                 "size": 15
                },
                "showarrow": false,
                "text": "I = 13.0",
                "x": -10,
                "xref": "x1",
                "y": -10,
                "yref": "y1"
               },
               {
                "font": {
                 "color": "black",
                 "size": 15
                },
                "showarrow": false,
                "text": "CENTRAL",
                "x": -20,
                "xref": "x1",
                "y": 20,
                "yref": "y1"
               }
              ],
              "title": "WFP Inventory problem        Cost = 232.0          Total Cost = 924.0   Truck 1 capacity : 5.0   Truck 2 capacity : 20"
             }
            ],
            "label": "t = 3  (evening)",
            "method": "update"
           },
           {
            "args": [
             {
              "visible": [
               true,
               true,
               true,
               false,
               false,
               false,
               false,
               false,
               false,
               false,
               false,
               false,
               false,
               false,
               false,
               false,
               false,
               false,
               false,
               false,
               false,
               false,
               false,
               false,
               false,
               false,
               false,
               false,
               false,
               false,
               false,
               false,
               false,
               false,
               false,
               false,
               false,
               false,
               false,
               false,
               false,
               false,
               false,
               false,
               false,
               false,
               false,
               false,
               false,
               false,
               false,
               false,
               false,
               false,
               false,
               false,
               false
              ]
             },
             {
              "annotations": [
               {
                "font": {
                 "color": "black",
                 "size": 15
                },
                "showarrow": false,
                "text": "I = 2.0",
                "x": 20,
                "xref": "x1",
                "y": 20,
                "yref": "y1"
               },
               {
                "font": {
                 "color": "black",
                 "size": 15
                },
                "showarrow": false,
                "text": "I = -0.0",
                "x": 10,
                "xref": "x1",
                "y": 40,
                "yref": "y1"
               },
               {
                "font": {
                 "color": "black",
                 "size": 15
                },
                "showarrow": false,
                "text": "I = 0.0",
                "x": 50,
                "xref": "x1",
                "y": 6,
                "yref": "y1"
               },
               {
                "font": {
                 "color": "black",
                 "size": 15
                },
                "showarrow": false,
                "text": "I = 1.5",
                "x": 30,
                "xref": "x1",
                "y": 14,
                "yref": "y1"
               },
               {
                "font": {
                 "color": "black",
                 "size": 15
                },
                "showarrow": false,
                "text": "I = 2.0",
                "x": 0,
                "xref": "x1",
                "y": -40,
                "yref": "y1"
               },
               {
                "font": {
                 "color": "black",
                 "size": 15
                },
                "showarrow": false,
                "text": "I = -0.0",
                "x": -25,
                "xref": "x1",
                "y": -40,
                "yref": "y1"
               },
               {
                "font": {
                 "color": "black",
                 "size": 15
                },
                "showarrow": false,
                "text": "I = 0.0",
                "x": -40,
                "xref": "x1",
                "y": -25,
                "yref": "y1"
               },
               {
                "font": {
                 "color": "black",
                 "size": 15
                },
                "showarrow": false,
                "text": "I = 1.5",
                "x": -40,
                "xref": "x1",
                "y": 0,
                "yref": "y1"
               },
               {
                "font": {
                 "color": "yellow",
                 "size": 15
                },
                "showarrow": false,
                "text": "I = 3.0",
                "x": 0,
                "xref": "x1",
                "y": 0,
                "yref": "y1"
               },
               {
                "font": {
                 "color": "yellow",
                 "size": 15
                },
                "showarrow": false,
                "text": "I = 3.0",
                "x": -10,
                "xref": "x1",
                "y": -10,
                "yref": "y1"
               },
               {
                "font": {
                 "color": "black",
                 "size": 15
                },
                "showarrow": false,
                "text": "CENTRAL",
                "x": -20,
                "xref": "x1",
                "y": 20,
                "yref": "y1"
               }
              ],
              "title": "WFP Inventory problem        Cost = 377.0          Total Cost = 1301.0   Truck 1 capacity : 5.0   Truck 2 capacity : 20"
             }
            ],
            "label": "t = 4  (evening)",
            "method": "update"
           },
           {
            "args": [
             {
              "visible": [
               true,
               true,
               true,
               false,
               false,
               false,
               false,
               false,
               false,
               false,
               false,
               false,
               false,
               false,
               false,
               false,
               false,
               false,
               false,
               false,
               false,
               false,
               false,
               false,
               false,
               false,
               false,
               false,
               false,
               false,
               false,
               false,
               false,
               false,
               false,
               false,
               false,
               false,
               false,
               false,
               false,
               false,
               false,
               false,
               false,
               false,
               false,
               false,
               false,
               false,
               false,
               false,
               false,
               false,
               false,
               false,
               false
              ]
             },
             {
              "annotations": [
               {
                "font": {
                 "color": "black",
                 "size": 15
                },
                "showarrow": false,
                "text": "I = 1.0",
                "x": 20,
                "xref": "x1",
                "y": 20,
                "yref": "y1"
               },
               {
                "font": {
                 "color": "black",
                 "size": 15
                },
                "showarrow": false,
                "text": "I = -0.0",
                "x": 10,
                "xref": "x1",
                "y": 40,
                "yref": "y1"
               },
               {
                "font": {
                 "color": "black",
                 "size": 15
                },
                "showarrow": false,
                "text": "I = 0.0",
                "x": 50,
                "xref": "x1",
                "y": 6,
                "yref": "y1"
               },
               {
                "font": {
                 "color": "black",
                 "size": 15
                },
                "showarrow": false,
                "text": "I = -0.0",
                "x": 30,
                "xref": "x1",
                "y": 14,
                "yref": "y1"
               },
               {
                "font": {
                 "color": "black",
                 "size": 15
                },
                "showarrow": false,
                "text": "I = 1.0",
                "x": 0,
                "xref": "x1",
                "y": -40,
                "yref": "y1"
               },
               {
                "font": {
                 "color": "black",
                 "size": 15
                },
                "showarrow": false,
                "text": "I = -0.0",
                "x": -25,
                "xref": "x1",
                "y": -40,
                "yref": "y1"
               },
               {
                "font": {
                 "color": "black",
                 "size": 15
                },
                "showarrow": false,
                "text": "I = 0.0",
                "x": -40,
                "xref": "x1",
                "y": -25,
                "yref": "y1"
               },
               {
                "font": {
                 "color": "black",
                 "size": 15
                },
                "showarrow": false,
                "text": "I = -0.0",
                "x": -40,
                "xref": "x1",
                "y": 0,
                "yref": "y1"
               },
               {
                "font": {
                 "color": "yellow",
                 "size": 15
                },
                "showarrow": false,
                "text": "I = 18.0",
                "x": 0,
                "xref": "x1",
                "y": 0,
                "yref": "y1"
               },
               {
                "font": {
                 "color": "yellow",
                 "size": 15
                },
                "showarrow": false,
                "text": "I = 18.0",
                "x": -10,
                "xref": "x1",
                "y": -10,
                "yref": "y1"
               },
               {
                "font": {
                 "color": "black",
                 "size": 15
                },
                "showarrow": false,
                "text": "CENTRAL",
                "x": -20,
                "xref": "x1",
                "y": 20,
                "yref": "y1"
               }
              ],
              "title": "WFP Inventory problem        Cost = 352.0          Total Cost = 1653.0   Truck 1 capacity : 5.0   Truck 2 capacity : 20"
             }
            ],
            "label": "t = 5  (evening)",
            "method": "update"
           },
           {
            "args": [
             {
              "visible": [
               true,
               true,
               true,
               false,
               false,
               false,
               false,
               false,
               false,
               false,
               false,
               false,
               false,
               false,
               false,
               false,
               false,
               false,
               false,
               false,
               false,
               false,
               false,
               false,
               false,
               false,
               false,
               false,
               false,
               false,
               false,
               false,
               false,
               false,
               false,
               false,
               false,
               false,
               false,
               false,
               false,
               false,
               false,
               false,
               false,
               false,
               false,
               false,
               false,
               false,
               false,
               false,
               false,
               false,
               false,
               false,
               false
              ]
             },
             {
              "annotations": [
               {
                "font": {
                 "color": "black",
                 "size": 15
                },
                "showarrow": false,
                "text": "I = 2.0",
                "x": 20,
                "xref": "x1",
                "y": 20,
                "yref": "y1"
               },
               {
                "font": {
                 "color": "black",
                 "size": 15
                },
                "showarrow": false,
                "text": "I = -0.0",
                "x": 10,
                "xref": "x1",
                "y": 40,
                "yref": "y1"
               },
               {
                "font": {
                 "color": "black",
                 "size": 15
                },
                "showarrow": false,
                "text": "I = 0.0",
                "x": 50,
                "xref": "x1",
                "y": 6,
                "yref": "y1"
               },
               {
                "font": {
                 "color": "black",
                 "size": 15
                },
                "showarrow": false,
                "text": "I = 1.5",
                "x": 30,
                "xref": "x1",
                "y": 14,
                "yref": "y1"
               },
               {
                "font": {
                 "color": "black",
                 "size": 15
                },
                "showarrow": false,
                "text": "I = 2.0",
                "x": 0,
                "xref": "x1",
                "y": -40,
                "yref": "y1"
               },
               {
                "font": {
                 "color": "black",
                 "size": 15
                },
                "showarrow": false,
                "text": "I = -0.0",
                "x": -25,
                "xref": "x1",
                "y": -40,
                "yref": "y1"
               },
               {
                "font": {
                 "color": "black",
                 "size": 15
                },
                "showarrow": false,
                "text": "I = 0.0",
                "x": -40,
                "xref": "x1",
                "y": -25,
                "yref": "y1"
               },
               {
                "font": {
                 "color": "black",
                 "size": 15
                },
                "showarrow": false,
                "text": "I = 1.5",
                "x": -40,
                "xref": "x1",
                "y": 0,
                "yref": "y1"
               },
               {
                "font": {
                 "color": "yellow",
                 "size": 15
                },
                "showarrow": false,
                "text": "I = 8.0",
                "x": 0,
                "xref": "x1",
                "y": 0,
                "yref": "y1"
               },
               {
                "font": {
                 "color": "yellow",
                 "size": 15
                },
                "showarrow": false,
                "text": "I = 8.0",
                "x": -10,
                "xref": "x1",
                "y": -10,
                "yref": "y1"
               },
               {
                "font": {
                 "color": "black",
                 "size": 15
                },
                "showarrow": false,
                "text": "CENTRAL",
                "x": -20,
                "xref": "x1",
                "y": 20,
                "yref": "y1"
               }
              ],
              "title": "WFP Inventory problem        Cost = 377.0          Total Cost = 2031.0   Truck 1 capacity : 5.0   Truck 2 capacity : 20"
             }
            ],
            "label": "t = 6  (evening)",
            "method": "update"
           },
           {
            "args": [
             {
              "visible": [
               true,
               true,
               true,
               false,
               false,
               false,
               false,
               false,
               false,
               false,
               false,
               false,
               false,
               false,
               false,
               false,
               false,
               false,
               false,
               false,
               false,
               false,
               false,
               false,
               false,
               false,
               false,
               false,
               false,
               false,
               false,
               false,
               false,
               false,
               false,
               false,
               false,
               false,
               false,
               false,
               false,
               false,
               false,
               false,
               false,
               false,
               false,
               false,
               false,
               false,
               false,
               false,
               false,
               false,
               false,
               false,
               false
              ]
             },
             {
              "annotations": [
               {
                "font": {
                 "color": "black",
                 "size": 15
                },
                "showarrow": false,
                "text": "I = 1.0",
                "x": 20,
                "xref": "x1",
                "y": 20,
                "yref": "y1"
               },
               {
                "font": {
                 "color": "black",
                 "size": 15
                },
                "showarrow": false,
                "text": "I = -0.0",
                "x": 10,
                "xref": "x1",
                "y": 40,
                "yref": "y1"
               },
               {
                "font": {
                 "color": "black",
                 "size": 15
                },
                "showarrow": false,
                "text": "I = 0.0",
                "x": 50,
                "xref": "x1",
                "y": 6,
                "yref": "y1"
               },
               {
                "font": {
                 "color": "black",
                 "size": 15
                },
                "showarrow": false,
                "text": "I = -0.0",
                "x": 30,
                "xref": "x1",
                "y": 14,
                "yref": "y1"
               },
               {
                "font": {
                 "color": "black",
                 "size": 15
                },
                "showarrow": false,
                "text": "I = 1.0",
                "x": 0,
                "xref": "x1",
                "y": -40,
                "yref": "y1"
               },
               {
                "font": {
                 "color": "black",
                 "size": 15
                },
                "showarrow": false,
                "text": "I = -0.0",
                "x": -25,
                "xref": "x1",
                "y": -40,
                "yref": "y1"
               },
               {
                "font": {
                 "color": "black",
                 "size": 15
                },
                "showarrow": false,
                "text": "I = 0.0",
                "x": -40,
                "xref": "x1",
                "y": -25,
                "yref": "y1"
               },
               {
                "font": {
                 "color": "black",
                 "size": 15
                },
                "showarrow": false,
                "text": "I = -0.0",
                "x": -40,
                "xref": "x1",
                "y": 0,
                "yref": "y1"
               },
               {
                "font": {
                 "color": "yellow",
                 "size": 15
                },
                "showarrow": false,
                "text": "I = 3.0",
                "x": 0,
                "xref": "x1",
                "y": 0,
                "yref": "y1"
               },
               {
                "font": {
                 "color": "yellow",
                 "size": 15
                },
                "showarrow": false,
                "text": "I = 3.0",
                "x": -10,
                "xref": "x1",
                "y": -10,
                "yref": "y1"
               },
               {
                "font": {
                 "color": "black",
                 "size": 15
                },
                "showarrow": false,
                "text": "CENTRAL",
                "x": -20,
                "xref": "x1",
                "y": 20,
                "yref": "y1"
               }
              ],
              "title": "WFP Inventory problem        Cost = 232.0          Total Cost = 2263.0   Truck 1 capacity : 5.0   Truck 2 capacity : 20"
             }
            ],
            "label": "t = 7  (evening)",
            "method": "update"
           },
           {
            "args": [
             {
              "visible": [
               true,
               true,
               true,
               false,
               false,
               false,
               false,
               false,
               false,
               false,
               false,
               false,
               false,
               false,
               false,
               false,
               false,
               false,
               false,
               false,
               false,
               false,
               false,
               false,
               false,
               false,
               false,
               false,
               false,
               false,
               false,
               false,
               false,
               false,
               false,
               false,
               false,
               false,
               false,
               false,
               false,
               false,
               false,
               false,
               false,
               false,
               false,
               false,
               false,
               false,
               false,
               false,
               false,
               false,
               false,
               false,
               false
              ]
             },
             {
              "annotations": [
               {
                "font": {
                 "color": "black",
                 "size": 15
                },
                "showarrow": false,
                "text": "I = 2.0",
                "x": 20,
                "xref": "x1",
                "y": 20,
                "yref": "y1"
               },
               {
                "font": {
                 "color": "black",
                 "size": 15
                },
                "showarrow": false,
                "text": "I = -0.0",
                "x": 10,
                "xref": "x1",
                "y": 40,
                "yref": "y1"
               },
               {
                "font": {
                 "color": "black",
                 "size": 15
                },
                "showarrow": false,
                "text": "I = 0.0",
                "x": 50,
                "xref": "x1",
                "y": 6,
                "yref": "y1"
               },
               {
                "font": {
                 "color": "black",
                 "size": 15
                },
                "showarrow": false,
                "text": "I = 1.5",
                "x": 30,
                "xref": "x1",
                "y": 14,
                "yref": "y1"
               },
               {
                "font": {
                 "color": "black",
                 "size": 15
                },
                "showarrow": false,
                "text": "I = 2.0",
                "x": 0,
                "xref": "x1",
                "y": -40,
                "yref": "y1"
               },
               {
                "font": {
                 "color": "black",
                 "size": 15
                },
                "showarrow": false,
                "text": "I = -0.0",
                "x": -25,
                "xref": "x1",
                "y": -40,
                "yref": "y1"
               },
               {
                "font": {
                 "color": "black",
                 "size": 15
                },
                "showarrow": false,
                "text": "I = 0.0",
                "x": -40,
                "xref": "x1",
                "y": -25,
                "yref": "y1"
               },
               {
                "font": {
                 "color": "black",
                 "size": 15
                },
                "showarrow": false,
                "text": "I = 1.5",
                "x": -40,
                "xref": "x1",
                "y": 0,
                "yref": "y1"
               },
               {
                "font": {
                 "color": "yellow",
                 "size": 15
                },
                "showarrow": false,
                "text": "I = 13.0",
                "x": 0,
                "xref": "x1",
                "y": 0,
                "yref": "y1"
               },
               {
                "font": {
                 "color": "yellow",
                 "size": 15
                },
                "showarrow": false,
                "text": "I = 13.0",
                "x": -10,
                "xref": "x1",
                "y": -10,
                "yref": "y1"
               },
               {
                "font": {
                 "color": "black",
                 "size": 15
                },
                "showarrow": false,
                "text": "CENTRAL",
                "x": -20,
                "xref": "x1",
                "y": 20,
                "yref": "y1"
               }
              ],
              "title": "WFP Inventory problem        Cost = 497.0          Total Cost = 2760.0   Truck 1 capacity : 5.0   Truck 2 capacity : 20"
             }
            ],
            "label": "t = 8  (evening)",
            "method": "update"
           },
           {
            "args": [
             {
              "visible": [
               true,
               true,
               true,
               false,
               false,
               false,
               false,
               false,
               false,
               false,
               false,
               false,
               false,
               false,
               false,
               false,
               false,
               false,
               false,
               false,
               false,
               false,
               false,
               false,
               false,
               false,
               false,
               false,
               false,
               false,
               false,
               false,
               false,
               false,
               false,
               false,
               false,
               false,
               false,
               false,
               false,
               false,
               false,
               false,
               false,
               false,
               false,
               false,
               false,
               false,
               false,
               false,
               false,
               false,
               false,
               false,
               false
              ]
             },
             {
              "annotations": [
               {
                "font": {
                 "color": "black",
                 "size": 15
                },
                "showarrow": false,
                "text": "I = 1.0",
                "x": 20,
                "xref": "x1",
                "y": 20,
                "yref": "y1"
               },
               {
                "font": {
                 "color": "black",
                 "size": 15
                },
                "showarrow": false,
                "text": "I = -0.0",
                "x": 10,
                "xref": "x1",
                "y": 40,
                "yref": "y1"
               },
               {
                "font": {
                 "color": "black",
                 "size": 15
                },
                "showarrow": false,
                "text": "I = 0.0",
                "x": 50,
                "xref": "x1",
                "y": 6,
                "yref": "y1"
               },
               {
                "font": {
                 "color": "black",
                 "size": 15
                },
                "showarrow": false,
                "text": "I = -0.0",
                "x": 30,
                "xref": "x1",
                "y": 14,
                "yref": "y1"
               },
               {
                "font": {
                 "color": "black",
                 "size": 15
                },
                "showarrow": false,
                "text": "I = 1.0",
                "x": 0,
                "xref": "x1",
                "y": -40,
                "yref": "y1"
               },
               {
                "font": {
                 "color": "black",
                 "size": 15
                },
                "showarrow": false,
                "text": "I = -0.0",
                "x": -25,
                "xref": "x1",
                "y": -40,
                "yref": "y1"
               },
               {
                "font": {
                 "color": "black",
                 "size": 15
                },
                "showarrow": false,
                "text": "I = 0.0",
                "x": -40,
                "xref": "x1",
                "y": -25,
                "yref": "y1"
               },
               {
                "font": {
                 "color": "black",
                 "size": 15
                },
                "showarrow": false,
                "text": "I = -0.0",
                "x": -40,
                "xref": "x1",
                "y": 0,
                "yref": "y1"
               },
               {
                "font": {
                 "color": "yellow",
                 "size": 15
                },
                "showarrow": false,
                "text": "I = 8.0",
                "x": 0,
                "xref": "x1",
                "y": 0,
                "yref": "y1"
               },
               {
                "font": {
                 "color": "yellow",
                 "size": 15
                },
                "showarrow": false,
                "text": "I = 8.0",
                "x": -10,
                "xref": "x1",
                "y": -10,
                "yref": "y1"
               },
               {
                "font": {
                 "color": "black",
                 "size": 15
                },
                "showarrow": false,
                "text": "CENTRAL",
                "x": -20,
                "xref": "x1",
                "y": 20,
                "yref": "y1"
               }
              ],
              "title": "WFP Inventory problem        Cost = 232.0          Total Cost = 2993.0   Truck 1 capacity : 5.0   Truck 2 capacity : 20"
             }
            ],
            "label": "t = 9  (evening)",
            "method": "update"
           },
           {
            "args": [
             {
              "visible": [
               true,
               true,
               true,
               false,
               false,
               false,
               false,
               false,
               false,
               false,
               false,
               false,
               false,
               false,
               false,
               false,
               false,
               false,
               false,
               false,
               false,
               false,
               false,
               false,
               false,
               false,
               false,
               false,
               false,
               false,
               false,
               false,
               false,
               false,
               false,
               false,
               false,
               false,
               false,
               false,
               false,
               false,
               false,
               false,
               false,
               false,
               false,
               false,
               false,
               false,
               false,
               false,
               false,
               false,
               false,
               false,
               false
              ]
             },
             {
              "annotations": [
               {
                "font": {
                 "color": "black",
                 "size": 15
                },
                "showarrow": false,
                "text": "I = 2.0",
                "x": 20,
                "xref": "x1",
                "y": 20,
                "yref": "y1"
               },
               {
                "font": {
                 "color": "black",
                 "size": 15
                },
                "showarrow": false,
                "text": "I = -0.0",
                "x": 10,
                "xref": "x1",
                "y": 40,
                "yref": "y1"
               },
               {
                "font": {
                 "color": "black",
                 "size": 15
                },
                "showarrow": false,
                "text": "I = 0.0",
                "x": 50,
                "xref": "x1",
                "y": 6,
                "yref": "y1"
               },
               {
                "font": {
                 "color": "black",
                 "size": 15
                },
                "showarrow": false,
                "text": "I = 1.5",
                "x": 30,
                "xref": "x1",
                "y": 14,
                "yref": "y1"
               },
               {
                "font": {
                 "color": "black",
                 "size": 15
                },
                "showarrow": false,
                "text": "I = 2.0",
                "x": 0,
                "xref": "x1",
                "y": -40,
                "yref": "y1"
               },
               {
                "font": {
                 "color": "black",
                 "size": 15
                },
                "showarrow": false,
                "text": "I = -0.0",
                "x": -25,
                "xref": "x1",
                "y": -40,
                "yref": "y1"
               },
               {
                "font": {
                 "color": "black",
                 "size": 15
                },
                "showarrow": false,
                "text": "I = 0.0",
                "x": -40,
                "xref": "x1",
                "y": -25,
                "yref": "y1"
               },
               {
                "font": {
                 "color": "black",
                 "size": 15
                },
                "showarrow": false,
                "text": "I = 1.5",
                "x": -40,
                "xref": "x1",
                "y": 0,
                "yref": "y1"
               },
               {
                "font": {
                 "color": "yellow",
                 "size": 15
                },
                "showarrow": false,
                "text": "I = 18.0",
                "x": 0,
                "xref": "x1",
                "y": 0,
                "yref": "y1"
               },
               {
                "font": {
                 "color": "yellow",
                 "size": 15
                },
                "showarrow": false,
                "text": "I = 18.0",
                "x": -10,
                "xref": "x1",
                "y": -10,
                "yref": "y1"
               },
               {
                "font": {
                 "color": "black",
                 "size": 15
                },
                "showarrow": false,
                "text": "CENTRAL",
                "x": -20,
                "xref": "x1",
                "y": 20,
                "yref": "y1"
               }
              ],
              "title": "WFP Inventory problem        Cost = 497.0          Total Cost = 3490.0   Truck 1 capacity : 5.0   Truck 2 capacity : 20"
             }
            ],
            "label": "t = 10  (evening)",
            "method": "update"
           },
           {
            "args": [
             {
              "visible": [
               true,
               true,
               true,
               false,
               false,
               false,
               false,
               false,
               false,
               false,
               false,
               false,
               false,
               false,
               false,
               false,
               false,
               false,
               false,
               false,
               false,
               false,
               false,
               false,
               false,
               false,
               false,
               false,
               false,
               false,
               false,
               false,
               false,
               false,
               false,
               false,
               false,
               false,
               false,
               false,
               false,
               false,
               false,
               false,
               false,
               false,
               false,
               false,
               false,
               false,
               false,
               false,
               false,
               false,
               false,
               false,
               false
              ]
             },
             {
              "annotations": [
               {
                "font": {
                 "color": "black",
                 "size": 15
                },
                "showarrow": false,
                "text": "I = 1.0",
                "x": 20,
                "xref": "x1",
                "y": 20,
                "yref": "y1"
               },
               {
                "font": {
                 "color": "black",
                 "size": 15
                },
                "showarrow": false,
                "text": "I = -0.0",
                "x": 10,
                "xref": "x1",
                "y": 40,
                "yref": "y1"
               },
               {
                "font": {
                 "color": "black",
                 "size": 15
                },
                "showarrow": false,
                "text": "I = 0.0",
                "x": 50,
                "xref": "x1",
                "y": 6,
                "yref": "y1"
               },
               {
                "font": {
                 "color": "black",
                 "size": 15
                },
                "showarrow": false,
                "text": "I = -0.0",
                "x": 30,
                "xref": "x1",
                "y": 14,
                "yref": "y1"
               },
               {
                "font": {
                 "color": "black",
                 "size": 15
                },
                "showarrow": false,
                "text": "I = 1.0",
                "x": 0,
                "xref": "x1",
                "y": -40,
                "yref": "y1"
               },
               {
                "font": {
                 "color": "black",
                 "size": 15
                },
                "showarrow": false,
                "text": "I = -0.0",
                "x": -25,
                "xref": "x1",
                "y": -40,
                "yref": "y1"
               },
               {
                "font": {
                 "color": "black",
                 "size": 15
                },
                "showarrow": false,
                "text": "I = 0.0",
                "x": -40,
                "xref": "x1",
                "y": -25,
                "yref": "y1"
               },
               {
                "font": {
                 "color": "black",
                 "size": 15
                },
                "showarrow": false,
                "text": "I = -0.0",
                "x": -40,
                "xref": "x1",
                "y": 0,
                "yref": "y1"
               },
               {
                "font": {
                 "color": "yellow",
                 "size": 15
                },
                "showarrow": false,
                "text": "I = 13.0",
                "x": 0,
                "xref": "x1",
                "y": 0,
                "yref": "y1"
               },
               {
                "font": {
                 "color": "yellow",
                 "size": 15
                },
                "showarrow": false,
                "text": "I = 13.0",
                "x": -10,
                "xref": "x1",
                "y": -10,
                "yref": "y1"
               },
               {
                "font": {
                 "color": "black",
                 "size": 15
                },
                "showarrow": false,
                "text": "CENTRAL",
                "x": -20,
                "xref": "x1",
                "y": 20,
                "yref": "y1"
               }
              ],
              "title": "WFP Inventory problem        Cost = 232.0          Total Cost = 3722.0   Truck 1 capacity : 5.0   Truck 2 capacity : 20"
             }
            ],
            "label": "t = 11  (evening)",
            "method": "update"
           },
           {
            "args": [
             {
              "visible": [
               true,
               true,
               true,
               false,
               false,
               false,
               false,
               false,
               false,
               false,
               false,
               false,
               false,
               false,
               false,
               false,
               false,
               false,
               false,
               false,
               false,
               false,
               false,
               false,
               false,
               false,
               false,
               false,
               false,
               false,
               false,
               false,
               false,
               false,
               false,
               false,
               false,
               false,
               false,
               false,
               false,
               false,
               false,
               false,
               false,
               false,
               false,
               false,
               false,
               false,
               false,
               false,
               false,
               false,
               false,
               false,
               false
              ]
             },
             {
              "annotations": [
               {
                "font": {
                 "color": "black",
                 "size": 15
                },
                "showarrow": false,
                "text": "I = 2.0",
                "x": 20,
                "xref": "x1",
                "y": 20,
                "yref": "y1"
               },
               {
                "font": {
                 "color": "black",
                 "size": 15
                },
                "showarrow": false,
                "text": "I = -0.0",
                "x": 10,
                "xref": "x1",
                "y": 40,
                "yref": "y1"
               },
               {
                "font": {
                 "color": "black",
                 "size": 15
                },
                "showarrow": false,
                "text": "I = 0.0",
                "x": 50,
                "xref": "x1",
                "y": 6,
                "yref": "y1"
               },
               {
                "font": {
                 "color": "black",
                 "size": 15
                },
                "showarrow": false,
                "text": "I = 1.5",
                "x": 30,
                "xref": "x1",
                "y": 14,
                "yref": "y1"
               },
               {
                "font": {
                 "color": "black",
                 "size": 15
                },
                "showarrow": false,
                "text": "I = 2.0",
                "x": 0,
                "xref": "x1",
                "y": -40,
                "yref": "y1"
               },
               {
                "font": {
                 "color": "black",
                 "size": 15
                },
                "showarrow": false,
                "text": "I = -0.0",
                "x": -25,
                "xref": "x1",
                "y": -40,
                "yref": "y1"
               },
               {
                "font": {
                 "color": "black",
                 "size": 15
                },
                "showarrow": false,
                "text": "I = 0.0",
                "x": -40,
                "xref": "x1",
                "y": -25,
                "yref": "y1"
               },
               {
                "font": {
                 "color": "black",
                 "size": 15
                },
                "showarrow": false,
                "text": "I = 1.5",
                "x": -40,
                "xref": "x1",
                "y": 0,
                "yref": "y1"
               },
               {
                "font": {
                 "color": "yellow",
                 "size": 15
                },
                "showarrow": false,
                "text": "I = 3.0",
                "x": 0,
                "xref": "x1",
                "y": 0,
                "yref": "y1"
               },
               {
                "font": {
                 "color": "yellow",
                 "size": 15
                },
                "showarrow": false,
                "text": "I = 3.0",
                "x": -10,
                "xref": "x1",
                "y": -10,
                "yref": "y1"
               },
               {
                "font": {
                 "color": "black",
                 "size": 15
                },
                "showarrow": false,
                "text": "CENTRAL",
                "x": -20,
                "xref": "x1",
                "y": 20,
                "yref": "y1"
               }
              ],
              "title": "WFP Inventory problem        Cost = 377.0          Total Cost = 4099.0   Truck 1 capacity : 5.0   Truck 2 capacity : 20"
             }
            ],
            "label": "t = 12  (evening)",
            "method": "update"
           },
           {
            "args": [
             {
              "visible": [
               true,
               true,
               true,
               false,
               false,
               false,
               false,
               false,
               false,
               false,
               false,
               false,
               false,
               false,
               false,
               false,
               false,
               false,
               false,
               false,
               false,
               false,
               false,
               false,
               false,
               false,
               false,
               false,
               false,
               false,
               false,
               false,
               false,
               false,
               false,
               false,
               false,
               false,
               false,
               false,
               false,
               false,
               false,
               false,
               false,
               false,
               false,
               false,
               false,
               false,
               false,
               false,
               false,
               false,
               false,
               false,
               false
              ]
             },
             {
              "annotations": [
               {
                "font": {
                 "color": "black",
                 "size": 15
                },
                "showarrow": false,
                "text": "I = 1.0",
                "x": 20,
                "xref": "x1",
                "y": 20,
                "yref": "y1"
               },
               {
                "font": {
                 "color": "black",
                 "size": 15
                },
                "showarrow": false,
                "text": "I = -0.0",
                "x": 10,
                "xref": "x1",
                "y": 40,
                "yref": "y1"
               },
               {
                "font": {
                 "color": "black",
                 "size": 15
                },
                "showarrow": false,
                "text": "I = 0.0",
                "x": 50,
                "xref": "x1",
                "y": 6,
                "yref": "y1"
               },
               {
                "font": {
                 "color": "black",
                 "size": 15
                },
                "showarrow": false,
                "text": "I = -0.0",
                "x": 30,
                "xref": "x1",
                "y": 14,
                "yref": "y1"
               },
               {
                "font": {
                 "color": "black",
                 "size": 15
                },
                "showarrow": false,
                "text": "I = 1.0",
                "x": 0,
                "xref": "x1",
                "y": -40,
                "yref": "y1"
               },
               {
                "font": {
                 "color": "black",
                 "size": 15
                },
                "showarrow": false,
                "text": "I = 0.0",
                "x": -25,
                "xref": "x1",
                "y": -40,
                "yref": "y1"
               },
               {
                "font": {
                 "color": "black",
                 "size": 15
                },
                "showarrow": false,
                "text": "I = -0.0",
                "x": -40,
                "xref": "x1",
                "y": -25,
                "yref": "y1"
               },
               {
                "font": {
                 "color": "black",
                 "size": 15
                },
                "showarrow": false,
                "text": "I = -0.0",
                "x": -40,
                "xref": "x1",
                "y": 0,
                "yref": "y1"
               },
               {
                "font": {
                 "color": "yellow",
                 "size": 15
                },
                "showarrow": false,
                "text": "I = 18.0",
                "x": 0,
                "xref": "x1",
                "y": 0,
                "yref": "y1"
               },
               {
                "font": {
                 "color": "yellow",
                 "size": 15
                },
                "showarrow": false,
                "text": "I = 18.0",
                "x": -10,
                "xref": "x1",
                "y": -10,
                "yref": "y1"
               },
               {
                "font": {
                 "color": "black",
                 "size": 15
                },
                "showarrow": false,
                "text": "CENTRAL",
                "x": -20,
                "xref": "x1",
                "y": 20,
                "yref": "y1"
               }
              ],
              "title": "WFP Inventory problem        Cost = 352.0          Total Cost = 4452.0   Truck 1 capacity : 5.0   Truck 2 capacity : 20"
             }
            ],
            "label": "t = 13  (evening)",
            "method": "update"
           },
           {
            "args": [
             {
              "visible": [
               true,
               true,
               true,
               false,
               false,
               false,
               false,
               false,
               false,
               false,
               false,
               false,
               false,
               false,
               false,
               false,
               false,
               false,
               false,
               false,
               false,
               false,
               false,
               false,
               false,
               false,
               false,
               false,
               false,
               false,
               false,
               false,
               false,
               false,
               false,
               false,
               false,
               false,
               false,
               false,
               false,
               false,
               false,
               false,
               false,
               false,
               false,
               false,
               false,
               false,
               false,
               false,
               false,
               false,
               false,
               false,
               false
              ]
             },
             {
              "annotations": [
               {
                "font": {
                 "color": "black",
                 "size": 15
                },
                "showarrow": false,
                "text": "I = 2.0",
                "x": 20,
                "xref": "x1",
                "y": 20,
                "yref": "y1"
               },
               {
                "font": {
                 "color": "black",
                 "size": 15
                },
                "showarrow": false,
                "text": "I = -0.0",
                "x": 10,
                "xref": "x1",
                "y": 40,
                "yref": "y1"
               },
               {
                "font": {
                 "color": "black",
                 "size": 15
                },
                "showarrow": false,
                "text": "I = 0.0",
                "x": 50,
                "xref": "x1",
                "y": 6,
                "yref": "y1"
               },
               {
                "font": {
                 "color": "black",
                 "size": 15
                },
                "showarrow": false,
                "text": "I = 1.5",
                "x": 30,
                "xref": "x1",
                "y": 14,
                "yref": "y1"
               },
               {
                "font": {
                 "color": "black",
                 "size": 15
                },
                "showarrow": false,
                "text": "I = 2.0",
                "x": 0,
                "xref": "x1",
                "y": -40,
                "yref": "y1"
               },
               {
                "font": {
                 "color": "black",
                 "size": 15
                },
                "showarrow": false,
                "text": "I = -0.0",
                "x": -25,
                "xref": "x1",
                "y": -40,
                "yref": "y1"
               },
               {
                "font": {
                 "color": "black",
                 "size": 15
                },
                "showarrow": false,
                "text": "I = 0.0",
                "x": -40,
                "xref": "x1",
                "y": -25,
                "yref": "y1"
               },
               {
                "font": {
                 "color": "black",
                 "size": 15
                },
                "showarrow": false,
                "text": "I = 1.5",
                "x": -40,
                "xref": "x1",
                "y": 0,
                "yref": "y1"
               },
               {
                "font": {
                 "color": "yellow",
                 "size": 15
                },
                "showarrow": false,
                "text": "I = 8.0",
                "x": 0,
                "xref": "x1",
                "y": 0,
                "yref": "y1"
               },
               {
                "font": {
                 "color": "yellow",
                 "size": 15
                },
                "showarrow": false,
                "text": "I = 8.0",
                "x": -10,
                "xref": "x1",
                "y": -10,
                "yref": "y1"
               },
               {
                "font": {
                 "color": "black",
                 "size": 15
                },
                "showarrow": false,
                "text": "CENTRAL",
                "x": -20,
                "xref": "x1",
                "y": 20,
                "yref": "y1"
               }
              ],
              "title": "WFP Inventory problem        Cost = 377.0          Total Cost = 4829.0   Truck 1 capacity : 5.0   Truck 2 capacity : 20"
             }
            ],
            "label": "t = 14  (evening)",
            "method": "update"
           },
           {
            "args": [
             {
              "visible": [
               true,
               true,
               true,
               false,
               false,
               false,
               false,
               false,
               false,
               false,
               false,
               false,
               false,
               false,
               false,
               false,
               false,
               false,
               false,
               false,
               false,
               false,
               false,
               false,
               false,
               false,
               false,
               false,
               false,
               false,
               false,
               false,
               false,
               false,
               false,
               false,
               false,
               false,
               false,
               false,
               false,
               false,
               false,
               false,
               false,
               false,
               false,
               false,
               false,
               false,
               false,
               false,
               false,
               false,
               false,
               false,
               false
              ]
             },
             {
              "annotations": [
               {
                "font": {
                 "color": "black",
                 "size": 15
                },
                "showarrow": false,
                "text": "I = 1.0",
                "x": 20,
                "xref": "x1",
                "y": 20,
                "yref": "y1"
               },
               {
                "font": {
                 "color": "black",
                 "size": 15
                },
                "showarrow": false,
                "text": "I = -0.0",
                "x": 10,
                "xref": "x1",
                "y": 40,
                "yref": "y1"
               },
               {
                "font": {
                 "color": "black",
                 "size": 15
                },
                "showarrow": false,
                "text": "I = 0.0",
                "x": 50,
                "xref": "x1",
                "y": 6,
                "yref": "y1"
               },
               {
                "font": {
                 "color": "black",
                 "size": 15
                },
                "showarrow": false,
                "text": "I = -0.0",
                "x": 30,
                "xref": "x1",
                "y": 14,
                "yref": "y1"
               },
               {
                "font": {
                 "color": "black",
                 "size": 15
                },
                "showarrow": false,
                "text": "I = 1.0",
                "x": 0,
                "xref": "x1",
                "y": -40,
                "yref": "y1"
               },
               {
                "font": {
                 "color": "black",
                 "size": 15
                },
                "showarrow": false,
                "text": "I = -0.0",
                "x": -25,
                "xref": "x1",
                "y": -40,
                "yref": "y1"
               },
               {
                "font": {
                 "color": "black",
                 "size": 15
                },
                "showarrow": false,
                "text": "I = 0.0",
                "x": -40,
                "xref": "x1",
                "y": -25,
                "yref": "y1"
               },
               {
                "font": {
                 "color": "black",
                 "size": 15
                },
                "showarrow": false,
                "text": "I = -0.0",
                "x": -40,
                "xref": "x1",
                "y": 0,
                "yref": "y1"
               },
               {
                "font": {
                 "color": "yellow",
                 "size": 15
                },
                "showarrow": false,
                "text": "I = 3.0",
                "x": 0,
                "xref": "x1",
                "y": 0,
                "yref": "y1"
               },
               {
                "font": {
                 "color": "yellow",
                 "size": 15
                },
                "showarrow": false,
                "text": "I = 3.0",
                "x": -10,
                "xref": "x1",
                "y": -10,
                "yref": "y1"
               },
               {
                "font": {
                 "color": "black",
                 "size": 15
                },
                "showarrow": false,
                "text": "CENTRAL",
                "x": -20,
                "xref": "x1",
                "y": 20,
                "yref": "y1"
               }
              ],
              "title": "WFP Inventory problem        Cost = 232.0          Total Cost = 5061.0   Truck 1 capacity : 5.0   Truck 2 capacity : 20"
             }
            ],
            "label": "t = 15  (evening)",
            "method": "update"
           },
           {
            "args": [
             {
              "visible": [
               true,
               true,
               true,
               false,
               false,
               false,
               false,
               false,
               false,
               false,
               false,
               false,
               false,
               false,
               false,
               false,
               false,
               false,
               false,
               false,
               false,
               false,
               false,
               false,
               false,
               false,
               false,
               false,
               false,
               false,
               false,
               false,
               false,
               false,
               false,
               false,
               false,
               false,
               false,
               false,
               false,
               false,
               false,
               false,
               false,
               false,
               false,
               false,
               false,
               false,
               false,
               false,
               false,
               false,
               false,
               false,
               false
              ]
             },
             {
              "annotations": [
               {
                "font": {
                 "color": "black",
                 "size": 15
                },
                "showarrow": false,
                "text": "I = 2.0",
                "x": 20,
                "xref": "x1",
                "y": 20,
                "yref": "y1"
               },
               {
                "font": {
                 "color": "black",
                 "size": 15
                },
                "showarrow": false,
                "text": "I = -0.0",
                "x": 10,
                "xref": "x1",
                "y": 40,
                "yref": "y1"
               },
               {
                "font": {
                 "color": "black",
                 "size": 15
                },
                "showarrow": false,
                "text": "I = 0.0",
                "x": 50,
                "xref": "x1",
                "y": 6,
                "yref": "y1"
               },
               {
                "font": {
                 "color": "black",
                 "size": 15
                },
                "showarrow": false,
                "text": "I = 1.5",
                "x": 30,
                "xref": "x1",
                "y": 14,
                "yref": "y1"
               },
               {
                "font": {
                 "color": "black",
                 "size": 15
                },
                "showarrow": false,
                "text": "I = 2.0",
                "x": 0,
                "xref": "x1",
                "y": -40,
                "yref": "y1"
               },
               {
                "font": {
                 "color": "black",
                 "size": 15
                },
                "showarrow": false,
                "text": "I = -0.0",
                "x": -25,
                "xref": "x1",
                "y": -40,
                "yref": "y1"
               },
               {
                "font": {
                 "color": "black",
                 "size": 15
                },
                "showarrow": false,
                "text": "I = 0.0",
                "x": -40,
                "xref": "x1",
                "y": -25,
                "yref": "y1"
               },
               {
                "font": {
                 "color": "black",
                 "size": 15
                },
                "showarrow": false,
                "text": "I = 1.5",
                "x": -40,
                "xref": "x1",
                "y": 0,
                "yref": "y1"
               },
               {
                "font": {
                 "color": "yellow",
                 "size": 15
                },
                "showarrow": false,
                "text": "I = 13.0",
                "x": 0,
                "xref": "x1",
                "y": 0,
                "yref": "y1"
               },
               {
                "font": {
                 "color": "yellow",
                 "size": 15
                },
                "showarrow": false,
                "text": "I = 13.0",
                "x": -10,
                "xref": "x1",
                "y": -10,
                "yref": "y1"
               },
               {
                "font": {
                 "color": "black",
                 "size": 15
                },
                "showarrow": false,
                "text": "CENTRAL",
                "x": -20,
                "xref": "x1",
                "y": 20,
                "yref": "y1"
               }
              ],
              "title": "WFP Inventory problem        Cost = 497.0          Total Cost = 5559.0   Truck 1 capacity : 5.0   Truck 2 capacity : 20"
             }
            ],
            "label": "t = 16  (evening)",
            "method": "update"
           },
           {
            "args": [
             {
              "visible": [
               true,
               true,
               true,
               false,
               false,
               false,
               false,
               false,
               false,
               false,
               false,
               false,
               false,
               false,
               false,
               false,
               false,
               false,
               false,
               false,
               false,
               false,
               false,
               false,
               false,
               false,
               false,
               false,
               false,
               false,
               false,
               false,
               false,
               false,
               false,
               false,
               false,
               false,
               false,
               false,
               false,
               false,
               false,
               false,
               false,
               false,
               false,
               false,
               false,
               false,
               false,
               false,
               false,
               false,
               false,
               false,
               false
              ]
             },
             {
              "annotations": [
               {
                "font": {
                 "color": "black",
                 "size": 15
                },
                "showarrow": false,
                "text": "I = 1.0",
                "x": 20,
                "xref": "x1",
                "y": 20,
                "yref": "y1"
               },
               {
                "font": {
                 "color": "black",
                 "size": 15
                },
                "showarrow": false,
                "text": "I = -0.0",
                "x": 10,
                "xref": "x1",
                "y": 40,
                "yref": "y1"
               },
               {
                "font": {
                 "color": "black",
                 "size": 15
                },
                "showarrow": false,
                "text": "I = 0.0",
                "x": 50,
                "xref": "x1",
                "y": 6,
                "yref": "y1"
               },
               {
                "font": {
                 "color": "black",
                 "size": 15
                },
                "showarrow": false,
                "text": "I = -0.0",
                "x": 30,
                "xref": "x1",
                "y": 14,
                "yref": "y1"
               },
               {
                "font": {
                 "color": "black",
                 "size": 15
                },
                "showarrow": false,
                "text": "I = 1.0",
                "x": 0,
                "xref": "x1",
                "y": -40,
                "yref": "y1"
               },
               {
                "font": {
                 "color": "black",
                 "size": 15
                },
                "showarrow": false,
                "text": "I = 0.0",
                "x": -25,
                "xref": "x1",
                "y": -40,
                "yref": "y1"
               },
               {
                "font": {
                 "color": "black",
                 "size": 15
                },
                "showarrow": false,
                "text": "I = 0.0",
                "x": -40,
                "xref": "x1",
                "y": -25,
                "yref": "y1"
               },
               {
                "font": {
                 "color": "black",
                 "size": 15
                },
                "showarrow": false,
                "text": "I = -0.0",
                "x": -40,
                "xref": "x1",
                "y": 0,
                "yref": "y1"
               },
               {
                "font": {
                 "color": "yellow",
                 "size": 15
                },
                "showarrow": false,
                "text": "I = 8.0",
                "x": 0,
                "xref": "x1",
                "y": 0,
                "yref": "y1"
               },
               {
                "font": {
                 "color": "yellow",
                 "size": 15
                },
                "showarrow": false,
                "text": "I = 8.0",
                "x": -10,
                "xref": "x1",
                "y": -10,
                "yref": "y1"
               },
               {
                "font": {
                 "color": "black",
                 "size": 15
                },
                "showarrow": false,
                "text": "CENTRAL",
                "x": -20,
                "xref": "x1",
                "y": 20,
                "yref": "y1"
               }
              ],
              "title": "WFP Inventory problem        Cost = 232.0          Total Cost = 5791.0   Truck 1 capacity : 5.0   Truck 2 capacity : 20"
             }
            ],
            "label": "t = 17  (evening)",
            "method": "update"
           },
           {
            "args": [
             {
              "visible": [
               true,
               true,
               true,
               false,
               false,
               false,
               false,
               false,
               false,
               false,
               false,
               false,
               false,
               false,
               false,
               false,
               false,
               false,
               false,
               false,
               false,
               false,
               false,
               false,
               false,
               false,
               false,
               false,
               false,
               false,
               false,
               false,
               false,
               false,
               false,
               false,
               false,
               false,
               false,
               false,
               false,
               false,
               false,
               false,
               false,
               false,
               false,
               false,
               false,
               false,
               false,
               false,
               false,
               false,
               false,
               false,
               false
              ]
             },
             {
              "annotations": [
               {
                "font": {
                 "color": "black",
                 "size": 15
                },
                "showarrow": false,
                "text": "I = 2.0",
                "x": 20,
                "xref": "x1",
                "y": 20,
                "yref": "y1"
               },
               {
                "font": {
                 "color": "black",
                 "size": 15
                },
                "showarrow": false,
                "text": "I = -0.0",
                "x": 10,
                "xref": "x1",
                "y": 40,
                "yref": "y1"
               },
               {
                "font": {
                 "color": "black",
                 "size": 15
                },
                "showarrow": false,
                "text": "I = 0.0",
                "x": 50,
                "xref": "x1",
                "y": 6,
                "yref": "y1"
               },
               {
                "font": {
                 "color": "black",
                 "size": 15
                },
                "showarrow": false,
                "text": "I = 1.5",
                "x": 30,
                "xref": "x1",
                "y": 14,
                "yref": "y1"
               },
               {
                "font": {
                 "color": "black",
                 "size": 15
                },
                "showarrow": false,
                "text": "I = 2.0",
                "x": 0,
                "xref": "x1",
                "y": -40,
                "yref": "y1"
               },
               {
                "font": {
                 "color": "black",
                 "size": 15
                },
                "showarrow": false,
                "text": "I = -0.0",
                "x": -25,
                "xref": "x1",
                "y": -40,
                "yref": "y1"
               },
               {
                "font": {
                 "color": "black",
                 "size": 15
                },
                "showarrow": false,
                "text": "I = 0.0",
                "x": -40,
                "xref": "x1",
                "y": -25,
                "yref": "y1"
               },
               {
                "font": {
                 "color": "black",
                 "size": 15
                },
                "showarrow": false,
                "text": "I = 1.5",
                "x": -40,
                "xref": "x1",
                "y": 0,
                "yref": "y1"
               },
               {
                "font": {
                 "color": "yellow",
                 "size": 15
                },
                "showarrow": false,
                "text": "I = 18.0",
                "x": 0,
                "xref": "x1",
                "y": 0,
                "yref": "y1"
               },
               {
                "font": {
                 "color": "yellow",
                 "size": 15
                },
                "showarrow": false,
                "text": "I = 18.0",
                "x": -10,
                "xref": "x1",
                "y": -10,
                "yref": "y1"
               },
               {
                "font": {
                 "color": "black",
                 "size": 15
                },
                "showarrow": false,
                "text": "CENTRAL",
                "x": -20,
                "xref": "x1",
                "y": 20,
                "yref": "y1"
               }
              ],
              "title": "WFP Inventory problem        Cost = 497.0          Total Cost = 6288.0   Truck 1 capacity : 5.0   Truck 2 capacity : 20"
             }
            ],
            "label": "t = 18  (evening)",
            "method": "update"
           },
           {
            "args": [
             {
              "visible": [
               true,
               true,
               true,
               false,
               false,
               false,
               false,
               false,
               false,
               false,
               false,
               false,
               false,
               false,
               false,
               false,
               false,
               false,
               false,
               false,
               false,
               false,
               false,
               false,
               false,
               false,
               false,
               false,
               false,
               false,
               false,
               false,
               false,
               false,
               false,
               false,
               false,
               false,
               false,
               false,
               false,
               false,
               false,
               false,
               false,
               false,
               false,
               false,
               false,
               false,
               false,
               false,
               false,
               false,
               false,
               false,
               false
              ]
             },
             {
              "annotations": [
               {
                "font": {
                 "color": "black",
                 "size": 15
                },
                "showarrow": false,
                "text": "I = 1.0",
                "x": 20,
                "xref": "x1",
                "y": 20,
                "yref": "y1"
               },
               {
                "font": {
                 "color": "black",
                 "size": 15
                },
                "showarrow": false,
                "text": "I = -0.0",
                "x": 10,
                "xref": "x1",
                "y": 40,
                "yref": "y1"
               },
               {
                "font": {
                 "color": "black",
                 "size": 15
                },
                "showarrow": false,
                "text": "I = 0.0",
                "x": 50,
                "xref": "x1",
                "y": 6,
                "yref": "y1"
               },
               {
                "font": {
                 "color": "black",
                 "size": 15
                },
                "showarrow": false,
                "text": "I = -0.0",
                "x": 30,
                "xref": "x1",
                "y": 14,
                "yref": "y1"
               },
               {
                "font": {
                 "color": "black",
                 "size": 15
                },
                "showarrow": false,
                "text": "I = 1.0",
                "x": 0,
                "xref": "x1",
                "y": -40,
                "yref": "y1"
               },
               {
                "font": {
                 "color": "black",
                 "size": 15
                },
                "showarrow": false,
                "text": "I = -0.0",
                "x": -25,
                "xref": "x1",
                "y": -40,
                "yref": "y1"
               },
               {
                "font": {
                 "color": "black",
                 "size": 15
                },
                "showarrow": false,
                "text": "I = 0.0",
                "x": -40,
                "xref": "x1",
                "y": -25,
                "yref": "y1"
               },
               {
                "font": {
                 "color": "black",
                 "size": 15
                },
                "showarrow": false,
                "text": "I = -0.0",
                "x": -40,
                "xref": "x1",
                "y": 0,
                "yref": "y1"
               },
               {
                "font": {
                 "color": "yellow",
                 "size": 15
                },
                "showarrow": false,
                "text": "I = 13.0",
                "x": 0,
                "xref": "x1",
                "y": 0,
                "yref": "y1"
               },
               {
                "font": {
                 "color": "yellow",
                 "size": 15
                },
                "showarrow": false,
                "text": "I = 13.0",
                "x": -10,
                "xref": "x1",
                "y": -10,
                "yref": "y1"
               },
               {
                "font": {
                 "color": "black",
                 "size": 15
                },
                "showarrow": false,
                "text": "CENTRAL",
                "x": -20,
                "xref": "x1",
                "y": 20,
                "yref": "y1"
               }
              ],
              "title": "WFP Inventory problem        Cost = 232.0          Total Cost = 6521.0   Truck 1 capacity : 5.0   Truck 2 capacity : 20"
             }
            ],
            "label": "t = 19  (evening)",
            "method": "update"
           },
           {
            "args": [
             {
              "visible": [
               true,
               true,
               true,
               false,
               false,
               false,
               false,
               false,
               false,
               false,
               false,
               false,
               false,
               false,
               false,
               false,
               false,
               false,
               false,
               false,
               false,
               false,
               false,
               false,
               false,
               false,
               false,
               false,
               false,
               false,
               false,
               false,
               false,
               false,
               false,
               false,
               false,
               false,
               false,
               false,
               false,
               false,
               false,
               false,
               false,
               false,
               false,
               false,
               false,
               false,
               false,
               false,
               false,
               false,
               false,
               false,
               false
              ]
             },
             {
              "annotations": [
               {
                "font": {
                 "color": "black",
                 "size": 15
                },
                "showarrow": false,
                "text": "I = 2.0",
                "x": 20,
                "xref": "x1",
                "y": 20,
                "yref": "y1"
               },
               {
                "font": {
                 "color": "black",
                 "size": 15
                },
                "showarrow": false,
                "text": "I = -0.0",
                "x": 10,
                "xref": "x1",
                "y": 40,
                "yref": "y1"
               },
               {
                "font": {
                 "color": "black",
                 "size": 15
                },
                "showarrow": false,
                "text": "I = 0.0",
                "x": 50,
                "xref": "x1",
                "y": 6,
                "yref": "y1"
               },
               {
                "font": {
                 "color": "black",
                 "size": 15
                },
                "showarrow": false,
                "text": "I = 1.5",
                "x": 30,
                "xref": "x1",
                "y": 14,
                "yref": "y1"
               },
               {
                "font": {
                 "color": "black",
                 "size": 15
                },
                "showarrow": false,
                "text": "I = 2.0",
                "x": 0,
                "xref": "x1",
                "y": -40,
                "yref": "y1"
               },
               {
                "font": {
                 "color": "black",
                 "size": 15
                },
                "showarrow": false,
                "text": "I = -0.0",
                "x": -25,
                "xref": "x1",
                "y": -40,
                "yref": "y1"
               },
               {
                "font": {
                 "color": "black",
                 "size": 15
                },
                "showarrow": false,
                "text": "I = 0.0",
                "x": -40,
                "xref": "x1",
                "y": -25,
                "yref": "y1"
               },
               {
                "font": {
                 "color": "black",
                 "size": 15
                },
                "showarrow": false,
                "text": "I = 1.5",
                "x": -40,
                "xref": "x1",
                "y": 0,
                "yref": "y1"
               },
               {
                "font": {
                 "color": "yellow",
                 "size": 15
                },
                "showarrow": false,
                "text": "I = 3.0",
                "x": 0,
                "xref": "x1",
                "y": 0,
                "yref": "y1"
               },
               {
                "font": {
                 "color": "yellow",
                 "size": 15
                },
                "showarrow": false,
                "text": "I = 3.0",
                "x": -10,
                "xref": "x1",
                "y": -10,
                "yref": "y1"
               },
               {
                "font": {
                 "color": "black",
                 "size": 15
                },
                "showarrow": false,
                "text": "CENTRAL",
                "x": -20,
                "xref": "x1",
                "y": 20,
                "yref": "y1"
               }
              ],
              "title": "WFP Inventory problem        Cost = 377.0          Total Cost = 6898.0   Truck 1 capacity : 5.0   Truck 2 capacity : 20"
             }
            ],
            "label": "t = 20  (evening)",
            "method": "update"
           },
           {
            "args": [
             {
              "visible": [
               true,
               true,
               true,
               false,
               false,
               false,
               false,
               false,
               false,
               false,
               false,
               false,
               false,
               false,
               false,
               false,
               false,
               false,
               false,
               false,
               false,
               false,
               false,
               false,
               false,
               false,
               false,
               false,
               false,
               false,
               false,
               false,
               false,
               false,
               false,
               false,
               false,
               false,
               false,
               false,
               false,
               false,
               false,
               false,
               false,
               false,
               false,
               false,
               false,
               false,
               false,
               false,
               false,
               false,
               false,
               false,
               false
              ]
             },
             {
              "annotations": [
               {
                "font": {
                 "color": "black",
                 "size": 15
                },
                "showarrow": false,
                "text": "I = 1.0",
                "x": 20,
                "xref": "x1",
                "y": 20,
                "yref": "y1"
               },
               {
                "font": {
                 "color": "black",
                 "size": 15
                },
                "showarrow": false,
                "text": "I = -0.0",
                "x": 10,
                "xref": "x1",
                "y": 40,
                "yref": "y1"
               },
               {
                "font": {
                 "color": "black",
                 "size": 15
                },
                "showarrow": false,
                "text": "I = 0.0",
                "x": 50,
                "xref": "x1",
                "y": 6,
                "yref": "y1"
               },
               {
                "font": {
                 "color": "black",
                 "size": 15
                },
                "showarrow": false,
                "text": "I = -0.0",
                "x": 30,
                "xref": "x1",
                "y": 14,
                "yref": "y1"
               },
               {
                "font": {
                 "color": "black",
                 "size": 15
                },
                "showarrow": false,
                "text": "I = 1.0",
                "x": 0,
                "xref": "x1",
                "y": -40,
                "yref": "y1"
               },
               {
                "font": {
                 "color": "black",
                 "size": 15
                },
                "showarrow": false,
                "text": "I = 0.0",
                "x": -25,
                "xref": "x1",
                "y": -40,
                "yref": "y1"
               },
               {
                "font": {
                 "color": "black",
                 "size": 15
                },
                "showarrow": false,
                "text": "I = 0.0",
                "x": -40,
                "xref": "x1",
                "y": -25,
                "yref": "y1"
               },
               {
                "font": {
                 "color": "black",
                 "size": 15
                },
                "showarrow": false,
                "text": "I = -0.0",
                "x": -40,
                "xref": "x1",
                "y": 0,
                "yref": "y1"
               },
               {
                "font": {
                 "color": "yellow",
                 "size": 15
                },
                "showarrow": false,
                "text": "I = 18.0",
                "x": 0,
                "xref": "x1",
                "y": 0,
                "yref": "y1"
               },
               {
                "font": {
                 "color": "yellow",
                 "size": 15
                },
                "showarrow": false,
                "text": "I = 18.0",
                "x": -10,
                "xref": "x1",
                "y": -10,
                "yref": "y1"
               },
               {
                "font": {
                 "color": "black",
                 "size": 15
                },
                "showarrow": false,
                "text": "CENTRAL",
                "x": -20,
                "xref": "x1",
                "y": 20,
                "yref": "y1"
               }
              ],
              "title": "WFP Inventory problem        Cost = 352.0          Total Cost = 7250.0   Truck 1 capacity : 5.0   Truck 2 capacity : 20"
             }
            ],
            "label": "t = 21  (evening)",
            "method": "update"
           },
           {
            "args": [
             {
              "visible": [
               true,
               true,
               true,
               false,
               false,
               false,
               false,
               false,
               false,
               false,
               false,
               false,
               false,
               false,
               false,
               false,
               false,
               false,
               false,
               false,
               false,
               false,
               false,
               false,
               false,
               false,
               false,
               false,
               false,
               false,
               false,
               false,
               false,
               false,
               false,
               false,
               false,
               false,
               false,
               false,
               false,
               false,
               false,
               false,
               false,
               false,
               false,
               false,
               false,
               false,
               false,
               false,
               false,
               false,
               false,
               false,
               false
              ]
             },
             {
              "annotations": [
               {
                "font": {
                 "color": "black",
                 "size": 15
                },
                "showarrow": false,
                "text": "I = 2.0",
                "x": 20,
                "xref": "x1",
                "y": 20,
                "yref": "y1"
               },
               {
                "font": {
                 "color": "black",
                 "size": 15
                },
                "showarrow": false,
                "text": "I = -0.0",
                "x": 10,
                "xref": "x1",
                "y": 40,
                "yref": "y1"
               },
               {
                "font": {
                 "color": "black",
                 "size": 15
                },
                "showarrow": false,
                "text": "I = 0.0",
                "x": 50,
                "xref": "x1",
                "y": 6,
                "yref": "y1"
               },
               {
                "font": {
                 "color": "black",
                 "size": 15
                },
                "showarrow": false,
                "text": "I = 1.5",
                "x": 30,
                "xref": "x1",
                "y": 14,
                "yref": "y1"
               },
               {
                "font": {
                 "color": "black",
                 "size": 15
                },
                "showarrow": false,
                "text": "I = 2.0",
                "x": 0,
                "xref": "x1",
                "y": -40,
                "yref": "y1"
               },
               {
                "font": {
                 "color": "black",
                 "size": 15
                },
                "showarrow": false,
                "text": "I = -0.0",
                "x": -25,
                "xref": "x1",
                "y": -40,
                "yref": "y1"
               },
               {
                "font": {
                 "color": "black",
                 "size": 15
                },
                "showarrow": false,
                "text": "I = 0.0",
                "x": -40,
                "xref": "x1",
                "y": -25,
                "yref": "y1"
               },
               {
                "font": {
                 "color": "black",
                 "size": 15
                },
                "showarrow": false,
                "text": "I = 1.5",
                "x": -40,
                "xref": "x1",
                "y": 0,
                "yref": "y1"
               },
               {
                "font": {
                 "color": "yellow",
                 "size": 15
                },
                "showarrow": false,
                "text": "I = 8.0",
                "x": 0,
                "xref": "x1",
                "y": 0,
                "yref": "y1"
               },
               {
                "font": {
                 "color": "yellow",
                 "size": 15
                },
                "showarrow": false,
                "text": "I = 8.0",
                "x": -10,
                "xref": "x1",
                "y": -10,
                "yref": "y1"
               },
               {
                "font": {
                 "color": "black",
                 "size": 15
                },
                "showarrow": false,
                "text": "CENTRAL",
                "x": -20,
                "xref": "x1",
                "y": 20,
                "yref": "y1"
               }
              ],
              "title": "WFP Inventory problem        Cost = 377.0          Total Cost = 7627.0   Truck 1 capacity : 5.0   Truck 2 capacity : 20"
             }
            ],
            "label": "t = 22  (evening)",
            "method": "update"
           },
           {
            "args": [
             {
              "visible": [
               true,
               true,
               true,
               false,
               false,
               false,
               false,
               false,
               false,
               false,
               false,
               false,
               false,
               false,
               false,
               false,
               false,
               false,
               false,
               false,
               false,
               false,
               false,
               false,
               false,
               false,
               false,
               false,
               false,
               false,
               false,
               false,
               false,
               false,
               false,
               false,
               false,
               false,
               false,
               false,
               false,
               false,
               false,
               false,
               false,
               false,
               false,
               false,
               false,
               false,
               false,
               false,
               false,
               false,
               false,
               false,
               false
              ]
             },
             {
              "annotations": [
               {
                "font": {
                 "color": "black",
                 "size": 15
                },
                "showarrow": false,
                "text": "I = 1.0",
                "x": 20,
                "xref": "x1",
                "y": 20,
                "yref": "y1"
               },
               {
                "font": {
                 "color": "black",
                 "size": 15
                },
                "showarrow": false,
                "text": "I = -0.0",
                "x": 10,
                "xref": "x1",
                "y": 40,
                "yref": "y1"
               },
               {
                "font": {
                 "color": "black",
                 "size": 15
                },
                "showarrow": false,
                "text": "I = 0.0",
                "x": 50,
                "xref": "x1",
                "y": 6,
                "yref": "y1"
               },
               {
                "font": {
                 "color": "black",
                 "size": 15
                },
                "showarrow": false,
                "text": "I = -0.0",
                "x": 30,
                "xref": "x1",
                "y": 14,
                "yref": "y1"
               },
               {
                "font": {
                 "color": "black",
                 "size": 15
                },
                "showarrow": false,
                "text": "I = 1.0",
                "x": 0,
                "xref": "x1",
                "y": -40,
                "yref": "y1"
               },
               {
                "font": {
                 "color": "black",
                 "size": 15
                },
                "showarrow": false,
                "text": "I = -0.0",
                "x": -25,
                "xref": "x1",
                "y": -40,
                "yref": "y1"
               },
               {
                "font": {
                 "color": "black",
                 "size": 15
                },
                "showarrow": false,
                "text": "I = 0.0",
                "x": -40,
                "xref": "x1",
                "y": -25,
                "yref": "y1"
               },
               {
                "font": {
                 "color": "black",
                 "size": 15
                },
                "showarrow": false,
                "text": "I = -0.0",
                "x": -40,
                "xref": "x1",
                "y": 0,
                "yref": "y1"
               },
               {
                "font": {
                 "color": "yellow",
                 "size": 15
                },
                "showarrow": false,
                "text": "I = 3.0",
                "x": 0,
                "xref": "x1",
                "y": 0,
                "yref": "y1"
               },
               {
                "font": {
                 "color": "yellow",
                 "size": 15
                },
                "showarrow": false,
                "text": "I = 3.0",
                "x": -10,
                "xref": "x1",
                "y": -10,
                "yref": "y1"
               },
               {
                "font": {
                 "color": "black",
                 "size": 15
                },
                "showarrow": false,
                "text": "CENTRAL",
                "x": -20,
                "xref": "x1",
                "y": 20,
                "yref": "y1"
               }
              ],
              "title": "WFP Inventory problem        Cost = 232.0          Total Cost = 7860.0   Truck 1 capacity : 5.0   Truck 2 capacity : 20"
             }
            ],
            "label": "t = 23  (evening)",
            "method": "update"
           },
           {
            "args": [
             {
              "visible": [
               true,
               true,
               true,
               false,
               false,
               false,
               false,
               false,
               false,
               false,
               false,
               false,
               false,
               false,
               false,
               false,
               false,
               false,
               false,
               false,
               false,
               false,
               false,
               false,
               false,
               false,
               false,
               false,
               false,
               false,
               false,
               false,
               false,
               false,
               false,
               false,
               false,
               false,
               false,
               false,
               false,
               false,
               false,
               false,
               false,
               false,
               false,
               false,
               false,
               false,
               false,
               false,
               false,
               false,
               false,
               false,
               false
              ]
             },
             {
              "annotations": [
               {
                "font": {
                 "color": "black",
                 "size": 15
                },
                "showarrow": false,
                "text": "I = 2.0",
                "x": 20,
                "xref": "x1",
                "y": 20,
                "yref": "y1"
               },
               {
                "font": {
                 "color": "black",
                 "size": 15
                },
                "showarrow": false,
                "text": "I = -0.0",
                "x": 10,
                "xref": "x1",
                "y": 40,
                "yref": "y1"
               },
               {
                "font": {
                 "color": "black",
                 "size": 15
                },
                "showarrow": false,
                "text": "I = 0.0",
                "x": 50,
                "xref": "x1",
                "y": 6,
                "yref": "y1"
               },
               {
                "font": {
                 "color": "black",
                 "size": 15
                },
                "showarrow": false,
                "text": "I = 1.5",
                "x": 30,
                "xref": "x1",
                "y": 14,
                "yref": "y1"
               },
               {
                "font": {
                 "color": "black",
                 "size": 15
                },
                "showarrow": false,
                "text": "I = 2.0",
                "x": 0,
                "xref": "x1",
                "y": -40,
                "yref": "y1"
               },
               {
                "font": {
                 "color": "black",
                 "size": 15
                },
                "showarrow": false,
                "text": "I = -0.0",
                "x": -25,
                "xref": "x1",
                "y": -40,
                "yref": "y1"
               },
               {
                "font": {
                 "color": "black",
                 "size": 15
                },
                "showarrow": false,
                "text": "I = 0.0",
                "x": -40,
                "xref": "x1",
                "y": -25,
                "yref": "y1"
               },
               {
                "font": {
                 "color": "black",
                 "size": 15
                },
                "showarrow": false,
                "text": "I = 1.5",
                "x": -40,
                "xref": "x1",
                "y": 0,
                "yref": "y1"
               },
               {
                "font": {
                 "color": "yellow",
                 "size": 15
                },
                "showarrow": false,
                "text": "I = 13.0",
                "x": 0,
                "xref": "x1",
                "y": 0,
                "yref": "y1"
               },
               {
                "font": {
                 "color": "yellow",
                 "size": 15
                },
                "showarrow": false,
                "text": "I = 13.0",
                "x": -10,
                "xref": "x1",
                "y": -10,
                "yref": "y1"
               },
               {
                "font": {
                 "color": "black",
                 "size": 15
                },
                "showarrow": false,
                "text": "CENTRAL",
                "x": -20,
                "xref": "x1",
                "y": 20,
                "yref": "y1"
               }
              ],
              "title": "WFP Inventory problem        Cost = 497.0          Total Cost = 8357.0   Truck 1 capacity : 5.0   Truck 2 capacity : 20"
             }
            ],
            "label": "t = 24  (evening)",
            "method": "update"
           },
           {
            "args": [
             {
              "visible": [
               true,
               true,
               true,
               false,
               false,
               false,
               false,
               false,
               false,
               false,
               false,
               false,
               false,
               false,
               false,
               false,
               false,
               false,
               false,
               false,
               false,
               false,
               false,
               false,
               false,
               false,
               false,
               false,
               false,
               false,
               false,
               false,
               false,
               false,
               false,
               false,
               false,
               false,
               false,
               false,
               false,
               false,
               false,
               false,
               false,
               false,
               false,
               false,
               false,
               false,
               false,
               false,
               false,
               false,
               false,
               false,
               false
              ]
             },
             {
              "annotations": [
               {
                "font": {
                 "color": "black",
                 "size": 15
                },
                "showarrow": false,
                "text": "I = 1.0",
                "x": 20,
                "xref": "x1",
                "y": 20,
                "yref": "y1"
               },
               {
                "font": {
                 "color": "black",
                 "size": 15
                },
                "showarrow": false,
                "text": "I = -0.0",
                "x": 10,
                "xref": "x1",
                "y": 40,
                "yref": "y1"
               },
               {
                "font": {
                 "color": "black",
                 "size": 15
                },
                "showarrow": false,
                "text": "I = 0.0",
                "x": 50,
                "xref": "x1",
                "y": 6,
                "yref": "y1"
               },
               {
                "font": {
                 "color": "black",
                 "size": 15
                },
                "showarrow": false,
                "text": "I = -0.0",
                "x": 30,
                "xref": "x1",
                "y": 14,
                "yref": "y1"
               },
               {
                "font": {
                 "color": "black",
                 "size": 15
                },
                "showarrow": false,
                "text": "I = 1.0",
                "x": 0,
                "xref": "x1",
                "y": -40,
                "yref": "y1"
               },
               {
                "font": {
                 "color": "black",
                 "size": 15
                },
                "showarrow": false,
                "text": "I = 0.0",
                "x": -25,
                "xref": "x1",
                "y": -40,
                "yref": "y1"
               },
               {
                "font": {
                 "color": "black",
                 "size": 15
                },
                "showarrow": false,
                "text": "I = 0.0",
                "x": -40,
                "xref": "x1",
                "y": -25,
                "yref": "y1"
               },
               {
                "font": {
                 "color": "black",
                 "size": 15
                },
                "showarrow": false,
                "text": "I = -0.0",
                "x": -40,
                "xref": "x1",
                "y": 0,
                "yref": "y1"
               },
               {
                "font": {
                 "color": "yellow",
                 "size": 15
                },
                "showarrow": false,
                "text": "I = 8.0",
                "x": 0,
                "xref": "x1",
                "y": 0,
                "yref": "y1"
               },
               {
                "font": {
                 "color": "yellow",
                 "size": 15
                },
                "showarrow": false,
                "text": "I = 8.0",
                "x": -10,
                "xref": "x1",
                "y": -10,
                "yref": "y1"
               },
               {
                "font": {
                 "color": "black",
                 "size": 15
                },
                "showarrow": false,
                "text": "CENTRAL",
                "x": -20,
                "xref": "x1",
                "y": 20,
                "yref": "y1"
               }
              ],
              "title": "WFP Inventory problem        Cost = 232.0          Total Cost = 8589.0   Truck 1 capacity : 5.0   Truck 2 capacity : 20"
             }
            ],
            "label": "t = 25  (evening)",
            "method": "update"
           },
           {
            "args": [
             {
              "visible": [
               true,
               true,
               true,
               false,
               false,
               false,
               false,
               false,
               false,
               false,
               false,
               false,
               false,
               false,
               false,
               false,
               false,
               false,
               false,
               false,
               false,
               false,
               false,
               false,
               false,
               false,
               false,
               false,
               false,
               false,
               false,
               false,
               false,
               false,
               false,
               false,
               false,
               false,
               false,
               false,
               false,
               false,
               false,
               false,
               false,
               false,
               false,
               false,
               false,
               false,
               false,
               false,
               false,
               false,
               false,
               false,
               false
              ]
             },
             {
              "annotations": [
               {
                "font": {
                 "color": "black",
                 "size": 15
                },
                "showarrow": false,
                "text": "I = 2.0",
                "x": 20,
                "xref": "x1",
                "y": 20,
                "yref": "y1"
               },
               {
                "font": {
                 "color": "black",
                 "size": 15
                },
                "showarrow": false,
                "text": "I = -0.0",
                "x": 10,
                "xref": "x1",
                "y": 40,
                "yref": "y1"
               },
               {
                "font": {
                 "color": "black",
                 "size": 15
                },
                "showarrow": false,
                "text": "I = 0.0",
                "x": 50,
                "xref": "x1",
                "y": 6,
                "yref": "y1"
               },
               {
                "font": {
                 "color": "black",
                 "size": 15
                },
                "showarrow": false,
                "text": "I = 1.5",
                "x": 30,
                "xref": "x1",
                "y": 14,
                "yref": "y1"
               },
               {
                "font": {
                 "color": "black",
                 "size": 15
                },
                "showarrow": false,
                "text": "I = 2.0",
                "x": 0,
                "xref": "x1",
                "y": -40,
                "yref": "y1"
               },
               {
                "font": {
                 "color": "black",
                 "size": 15
                },
                "showarrow": false,
                "text": "I = -0.0",
                "x": -25,
                "xref": "x1",
                "y": -40,
                "yref": "y1"
               },
               {
                "font": {
                 "color": "black",
                 "size": 15
                },
                "showarrow": false,
                "text": "I = 0.0",
                "x": -40,
                "xref": "x1",
                "y": -25,
                "yref": "y1"
               },
               {
                "font": {
                 "color": "black",
                 "size": 15
                },
                "showarrow": false,
                "text": "I = 1.5",
                "x": -40,
                "xref": "x1",
                "y": 0,
                "yref": "y1"
               },
               {
                "font": {
                 "color": "yellow",
                 "size": 15
                },
                "showarrow": false,
                "text": "I = 18.0",
                "x": 0,
                "xref": "x1",
                "y": 0,
                "yref": "y1"
               },
               {
                "font": {
                 "color": "yellow",
                 "size": 15
                },
                "showarrow": false,
                "text": "I = 18.0",
                "x": -10,
                "xref": "x1",
                "y": -10,
                "yref": "y1"
               },
               {
                "font": {
                 "color": "black",
                 "size": 15
                },
                "showarrow": false,
                "text": "CENTRAL",
                "x": -20,
                "xref": "x1",
                "y": 20,
                "yref": "y1"
               }
              ],
              "title": "WFP Inventory problem        Cost = 497.0          Total Cost = 9086.0   Truck 1 capacity : 5.0   Truck 2 capacity : 20"
             }
            ],
            "label": "t = 26  (evening)",
            "method": "update"
           },
           {
            "args": [
             {
              "visible": [
               true,
               true,
               true,
               false,
               false,
               false,
               false,
               false,
               false,
               false,
               false,
               false,
               false,
               false,
               false,
               false,
               false,
               false,
               false,
               false,
               false,
               false,
               false,
               false,
               false,
               false,
               false,
               false,
               false,
               false,
               false,
               false,
               false,
               false,
               false,
               false,
               false,
               false,
               false,
               false,
               false,
               false,
               false,
               false,
               false,
               false,
               false,
               false,
               false,
               false,
               false,
               false,
               false,
               false,
               false,
               false,
               false
              ]
             },
             {
              "annotations": [
               {
                "font": {
                 "color": "black",
                 "size": 15
                },
                "showarrow": false,
                "text": "I = 1.0",
                "x": 20,
                "xref": "x1",
                "y": 20,
                "yref": "y1"
               },
               {
                "font": {
                 "color": "black",
                 "size": 15
                },
                "showarrow": false,
                "text": "I = -0.0",
                "x": 10,
                "xref": "x1",
                "y": 40,
                "yref": "y1"
               },
               {
                "font": {
                 "color": "black",
                 "size": 15
                },
                "showarrow": false,
                "text": "I = 0.0",
                "x": 50,
                "xref": "x1",
                "y": 6,
                "yref": "y1"
               },
               {
                "font": {
                 "color": "black",
                 "size": 15
                },
                "showarrow": false,
                "text": "I = -0.0",
                "x": 30,
                "xref": "x1",
                "y": 14,
                "yref": "y1"
               },
               {
                "font": {
                 "color": "black",
                 "size": 15
                },
                "showarrow": false,
                "text": "I = 1.0",
                "x": 0,
                "xref": "x1",
                "y": -40,
                "yref": "y1"
               },
               {
                "font": {
                 "color": "black",
                 "size": 15
                },
                "showarrow": false,
                "text": "I = -0.0",
                "x": -25,
                "xref": "x1",
                "y": -40,
                "yref": "y1"
               },
               {
                "font": {
                 "color": "black",
                 "size": 15
                },
                "showarrow": false,
                "text": "I = 0.0",
                "x": -40,
                "xref": "x1",
                "y": -25,
                "yref": "y1"
               },
               {
                "font": {
                 "color": "black",
                 "size": 15
                },
                "showarrow": false,
                "text": "I = -0.0",
                "x": -40,
                "xref": "x1",
                "y": 0,
                "yref": "y1"
               },
               {
                "font": {
                 "color": "yellow",
                 "size": 15
                },
                "showarrow": false,
                "text": "I = 13.0",
                "x": 0,
                "xref": "x1",
                "y": 0,
                "yref": "y1"
               },
               {
                "font": {
                 "color": "yellow",
                 "size": 15
                },
                "showarrow": false,
                "text": "I = 13.0",
                "x": -10,
                "xref": "x1",
                "y": -10,
                "yref": "y1"
               },
               {
                "font": {
                 "color": "black",
                 "size": 15
                },
                "showarrow": false,
                "text": "CENTRAL",
                "x": -20,
                "xref": "x1",
                "y": 20,
                "yref": "y1"
               }
              ],
              "title": "WFP Inventory problem        Cost = 232.0          Total Cost = 9319.0   Truck 1 capacity : 5.0   Truck 2 capacity : 20"
             }
            ],
            "label": "t = 27  (evening)",
            "method": "update"
           },
           {
            "args": [
             {
              "visible": [
               true,
               true,
               true,
               false,
               false,
               false,
               false,
               false,
               false,
               false,
               false,
               false,
               false,
               false,
               false,
               false,
               false,
               false,
               false,
               false,
               false,
               false,
               false,
               false,
               false,
               false,
               false,
               false,
               false,
               false,
               false,
               false,
               false,
               false,
               false,
               false,
               false,
               false,
               false,
               false,
               false,
               false,
               false,
               false,
               false,
               false,
               false,
               false,
               false,
               false,
               false,
               false,
               false,
               false,
               false,
               false,
               false
              ]
             },
             {
              "annotations": [
               {
                "font": {
                 "color": "black",
                 "size": 15
                },
                "showarrow": false,
                "text": "I = 2.0",
                "x": 20,
                "xref": "x1",
                "y": 20,
                "yref": "y1"
               },
               {
                "font": {
                 "color": "black",
                 "size": 15
                },
                "showarrow": false,
                "text": "I = -0.0",
                "x": 10,
                "xref": "x1",
                "y": 40,
                "yref": "y1"
               },
               {
                "font": {
                 "color": "black",
                 "size": 15
                },
                "showarrow": false,
                "text": "I = 0.0",
                "x": 50,
                "xref": "x1",
                "y": 6,
                "yref": "y1"
               },
               {
                "font": {
                 "color": "black",
                 "size": 15
                },
                "showarrow": false,
                "text": "I = 1.5",
                "x": 30,
                "xref": "x1",
                "y": 14,
                "yref": "y1"
               },
               {
                "font": {
                 "color": "black",
                 "size": 15
                },
                "showarrow": false,
                "text": "I = 2.0",
                "x": 0,
                "xref": "x1",
                "y": -40,
                "yref": "y1"
               },
               {
                "font": {
                 "color": "black",
                 "size": 15
                },
                "showarrow": false,
                "text": "I = -0.0",
                "x": -25,
                "xref": "x1",
                "y": -40,
                "yref": "y1"
               },
               {
                "font": {
                 "color": "black",
                 "size": 15
                },
                "showarrow": false,
                "text": "I = 0.0",
                "x": -40,
                "xref": "x1",
                "y": -25,
                "yref": "y1"
               },
               {
                "font": {
                 "color": "black",
                 "size": 15
                },
                "showarrow": false,
                "text": "I = 1.5",
                "x": -40,
                "xref": "x1",
                "y": 0,
                "yref": "y1"
               },
               {
                "font": {
                 "color": "yellow",
                 "size": 15
                },
                "showarrow": false,
                "text": "I = 3.0",
                "x": 0,
                "xref": "x1",
                "y": 0,
                "yref": "y1"
               },
               {
                "font": {
                 "color": "yellow",
                 "size": 15
                },
                "showarrow": false,
                "text": "I = 3.0",
                "x": -10,
                "xref": "x1",
                "y": -10,
                "yref": "y1"
               },
               {
                "font": {
                 "color": "black",
                 "size": 15
                },
                "showarrow": false,
                "text": "CENTRAL",
                "x": -20,
                "xref": "x1",
                "y": 20,
                "yref": "y1"
               }
              ],
              "title": "WFP Inventory problem        Cost = 377.0          Total Cost = 9696.0   Truck 1 capacity : 5.0   Truck 2 capacity : 20"
             }
            ],
            "label": "t = 28  (evening)",
            "method": "update"
           },
           {
            "args": [
             {
              "visible": [
               true,
               true,
               true,
               false,
               false,
               false,
               false,
               false,
               false,
               false,
               false,
               false,
               false,
               false,
               false,
               false,
               false,
               false,
               false,
               false,
               false,
               false,
               false,
               false,
               false,
               false,
               false,
               false,
               false,
               false,
               false,
               false,
               false,
               false,
               false,
               false,
               false,
               false,
               false,
               false,
               false,
               false,
               false,
               false,
               false,
               false,
               false,
               false,
               false,
               false,
               false,
               false,
               false,
               false,
               false,
               false,
               false
              ]
             },
             {
              "annotations": [
               {
                "font": {
                 "color": "black",
                 "size": 15
                },
                "showarrow": false,
                "text": "I = 1.0",
                "x": 20,
                "xref": "x1",
                "y": 20,
                "yref": "y1"
               },
               {
                "font": {
                 "color": "black",
                 "size": 15
                },
                "showarrow": false,
                "text": "I = -0.0",
                "x": 10,
                "xref": "x1",
                "y": 40,
                "yref": "y1"
               },
               {
                "font": {
                 "color": "black",
                 "size": 15
                },
                "showarrow": false,
                "text": "I = 0.0",
                "x": 50,
                "xref": "x1",
                "y": 6,
                "yref": "y1"
               },
               {
                "font": {
                 "color": "black",
                 "size": 15
                },
                "showarrow": false,
                "text": "I = -0.0",
                "x": 30,
                "xref": "x1",
                "y": 14,
                "yref": "y1"
               },
               {
                "font": {
                 "color": "black",
                 "size": 15
                },
                "showarrow": false,
                "text": "I = 1.0",
                "x": 0,
                "xref": "x1",
                "y": -40,
                "yref": "y1"
               },
               {
                "font": {
                 "color": "black",
                 "size": 15
                },
                "showarrow": false,
                "text": "I = 0.0",
                "x": -25,
                "xref": "x1",
                "y": -40,
                "yref": "y1"
               },
               {
                "font": {
                 "color": "black",
                 "size": 15
                },
                "showarrow": false,
                "text": "I = 0.0",
                "x": -40,
                "xref": "x1",
                "y": -25,
                "yref": "y1"
               },
               {
                "font": {
                 "color": "black",
                 "size": 15
                },
                "showarrow": false,
                "text": "I = -0.0",
                "x": -40,
                "xref": "x1",
                "y": 0,
                "yref": "y1"
               },
               {
                "font": {
                 "color": "yellow",
                 "size": 15
                },
                "showarrow": false,
                "text": "I = 18.0",
                "x": 0,
                "xref": "x1",
                "y": 0,
                "yref": "y1"
               },
               {
                "font": {
                 "color": "yellow",
                 "size": 15
                },
                "showarrow": false,
                "text": "I = 18.0",
                "x": -10,
                "xref": "x1",
                "y": -10,
                "yref": "y1"
               },
               {
                "font": {
                 "color": "black",
                 "size": 15
                },
                "showarrow": false,
                "text": "CENTRAL",
                "x": -20,
                "xref": "x1",
                "y": 20,
                "yref": "y1"
               }
              ],
              "title": "WFP Inventory problem        Cost = 352.0          Total Cost = 10048.0   Truck 1 capacity : 5.0   Truck 2 capacity : 20"
             }
            ],
            "label": "t = 29  (evening)",
            "method": "update"
           }
          ],
          "direction": "up",
          "x": 0.3,
          "y": 0
         }
        ],
        "xaxis": {
         "showgrid": true,
         "showline": false,
         "showticklabels": true,
         "zeroline": true
        },
        "yaxis": {
         "showgrid": true,
         "showline": false,
         "showticklabels": true,
         "zeroline": true
        }
       }
      },
      "text/html": [
       "<div>\n",
       "        \n",
       "        \n",
       "            <div id=\"77f39402-7f61-42b9-a479-c0fd4d5ad784\" class=\"plotly-graph-div\" style=\"height:525px; width:100%;\"></div>\n",
       "            <script type=\"text/javascript\">\n",
       "                require([\"plotly\"], function(Plotly) {\n",
       "                    window.PLOTLYENV=window.PLOTLYENV || {};\n",
       "                    \n",
       "                if (document.getElementById(\"77f39402-7f61-42b9-a479-c0fd4d5ad784\")) {\n",
       "                    Plotly.newPlot(\n",
       "                        '77f39402-7f61-42b9-a479-c0fd4d5ad784',\n",
       "                        [{\"hoverinfo\": \"text\", \"marker\": {\"color\": \"green\", \"size\": 30, \"symbol\": \"circle-dot\"}, \"mode\": \"markers\", \"name\": \"schools\", \"opacity\": 0.8, \"text\": [\"s0 C = 5.0  ;   q = 1.0\", \"s1 C = 3.0  ;   q = 3.0\", \"s2 C = 2.0  ;   q = 2.0\", \"s3 C = 4.0  ;   q = 1.5\", \"s4 C = 5.0  ;   q = 1.0\", \"s5 C = 3.0  ;   q = 3.0\", \"s6 C = 2.0  ;   q = 2.0\", \"s7 C = 4.0  ;   q = 1.5\"], \"type\": \"scatter\", \"x\": [20.0, 10.0, 50.0, 30.0, 0.0, -25.0, -40.0, -40.0], \"y\": [20.0, 40.0, 6.0, 14.0, -40.0, -40.0, -25.0, 0.0]}, {\"hoverinfo\": \"text\", \"marker\": {\"color\": \"blue\", \"size\": 40, \"symbol\": \"circle-dot\"}, \"mode\": \"markers\", \"name\": \"warehouses\", \"opacity\": 0.8, \"text\": [\"w1 C = 10\", \"w2 C = 10\"], \"type\": \"scatter\", \"x\": [0.0, -10.0], \"y\": [0.0, -10.0]}, {\"hoverinfo\": \"text\", \"marker\": {\"color\": \"red\", \"size\": 50, \"symbol\": \"circle-dot\"}, \"mode\": \"markers\", \"name\": \"central\", \"opacity\": 0.8, \"text\": [\"Central warehouse\"], \"type\": \"scatter\", \"x\": [-20.0], \"y\": [20.0]}, {\"hoverinfo\": \"text\", \"line\": {\"color\": \"grey\"}, \"text\": [\"cost = 28.3\", \"cost = 28.3\"], \"type\": \"scatter\", \"visible\": false, \"x\": [2.5, 17.5], \"y\": [2.5, 17.5]}, {\"hoverinfo\": \"text\", \"line\": {\"color\": \"grey\"}, \"text\": [\"cost = 28.3\", \"cost = 28.3\"], \"type\": \"scatter\", \"visible\": false, \"x\": [17.5, 2.5], \"y\": [17.5, 2.5]}, {\"hoverinfo\": \"text\", \"line\": {\"color\": \"grey\"}, \"text\": [\"cost = 28.3\", \"cost = 28.3\"], \"type\": \"scatter\", \"visible\": false, \"x\": [2.5, 17.5], \"y\": [2.5, 17.5]}, {\"hoverinfo\": \"text\", \"line\": {\"color\": \"grey\"}, \"text\": [\"cost = 22.4\", \"cost = 22.4\"], \"type\": \"scatter\", \"visible\": false, \"x\": [18.75, 11.25], \"y\": [22.5, 37.5]}, {\"hoverinfo\": \"text\", \"line\": {\"color\": \"grey\"}, \"text\": [\"cost = 41.2\", \"cost = 41.2\"], \"type\": \"scatter\", \"visible\": false, \"x\": [8.75, 1.25], \"y\": [35.0, 5.0]}, {\"hoverinfo\": \"text\", \"line\": {\"color\": \"grey\"}, \"text\": [\"cost = 28.3\", \"cost = 28.3\"], \"type\": \"scatter\", \"visible\": false, \"x\": [2.5, 17.5], \"y\": [2.5, 17.5]}, {\"hoverinfo\": \"text\", \"line\": {\"color\": \"grey\"}, \"text\": [\"cost = 33.1\", \"cost = 33.1\"], \"type\": \"scatter\", \"visible\": false, \"x\": [23.75, 46.25], \"y\": [18.25, 7.75]}, {\"hoverinfo\": \"text\", \"line\": {\"color\": \"grey\"}, \"text\": [\"cost = 50.4\", \"cost = 50.4\"], \"type\": \"scatter\", \"visible\": false, \"x\": [43.75, 6.25], \"y\": [5.25, 0.75]}, {\"hoverinfo\": \"text\", \"line\": {\"color\": \"grey\"}, \"text\": [\"cost = 28.3\", \"cost = 28.3\"], \"type\": \"scatter\", \"visible\": false, \"x\": [2.5, 17.5], \"y\": [2.5, 17.5]}, {\"hoverinfo\": \"text\", \"line\": {\"color\": \"grey\"}, \"text\": [\"cost = 11.7\", \"cost = 11.7\"], \"type\": \"scatter\", \"visible\": false, \"x\": [21.25, 28.75], \"y\": [19.25, 14.75]}, {\"hoverinfo\": \"text\", \"line\": {\"color\": \"grey\"}, \"text\": [\"cost = 33.1\", \"cost = 33.1\"], \"type\": \"scatter\", \"visible\": false, \"x\": [26.25, 3.75], \"y\": [12.25, 1.75]}, {\"hoverinfo\": \"text\", \"line\": {\"color\": \"grey\"}, \"text\": [\"cost = 41.2\", \"cost = 41.2\"], \"type\": \"scatter\", \"visible\": false, \"x\": [1.25, 8.75], \"y\": [5.0, 35.0]}, {\"hoverinfo\": \"text\", \"line\": {\"color\": \"grey\"}, \"text\": [\"cost = 41.2\", \"cost = 41.2\"], \"type\": \"scatter\", \"visible\": false, \"x\": [8.75, 1.25], \"y\": [35.0, 5.0]}, {\"hoverinfo\": \"text\", \"line\": {\"color\": \"grey\"}, \"text\": [\"cost = 41.2\", \"cost = 41.2\"], \"type\": \"scatter\", \"visible\": false, \"x\": [1.25, 8.75], \"y\": [5.0, 35.0]}, {\"hoverinfo\": \"text\", \"line\": {\"color\": \"grey\"}, \"text\": [\"cost = 52.5\", \"cost = 52.5\"], \"type\": \"scatter\", \"visible\": false, \"x\": [15.0, 45.0], \"y\": [35.75, 10.25]}, {\"hoverinfo\": \"text\", \"line\": {\"color\": \"grey\"}, \"text\": [\"cost = 50.4\", \"cost = 50.4\"], \"type\": \"scatter\", \"visible\": false, \"x\": [43.75, 6.25], \"y\": [5.25, 0.75]}, {\"hoverinfo\": \"text\", \"line\": {\"color\": \"grey\"}, \"text\": [\"cost = 41.2\", \"cost = 41.2\"], \"type\": \"scatter\", \"visible\": false, \"x\": [1.25, 8.75], \"y\": [5.0, 35.0]}, {\"hoverinfo\": \"text\", \"line\": {\"color\": \"grey\"}, \"text\": [\"cost = 32.8\", \"cost = 32.8\"], \"type\": \"scatter\", \"visible\": false, \"x\": [12.5, 27.5], \"y\": [36.75, 17.25]}, {\"hoverinfo\": \"text\", \"line\": {\"color\": \"grey\"}, \"text\": [\"cost = 33.1\", \"cost = 33.1\"], \"type\": \"scatter\", \"visible\": false, \"x\": [26.25, 3.75], \"y\": [12.25, 1.75]}, {\"hoverinfo\": \"text\", \"line\": {\"color\": \"grey\"}, \"text\": [\"cost = 50.4\", \"cost = 50.4\"], \"type\": \"scatter\", \"visible\": false, \"x\": [6.25, 43.75], \"y\": [0.75, 5.25]}, {\"hoverinfo\": \"text\", \"line\": {\"color\": \"grey\"}, \"text\": [\"cost = 50.4\", \"cost = 50.4\"], \"type\": \"scatter\", \"visible\": false, \"x\": [43.75, 6.25], \"y\": [5.25, 0.75]}, {\"hoverinfo\": \"text\", \"line\": {\"color\": \"grey\"}, \"text\": [\"cost = 50.4\", \"cost = 50.4\"], \"type\": \"scatter\", \"visible\": false, \"x\": [6.25, 43.75], \"y\": [0.75, 5.25]}, {\"hoverinfo\": \"text\", \"line\": {\"color\": \"grey\"}, \"text\": [\"cost = 21.5\", \"cost = 21.5\"], \"type\": \"scatter\", \"visible\": false, \"x\": [47.5, 32.5], \"y\": [7.0, 13.0]}, {\"hoverinfo\": \"text\", \"line\": {\"color\": \"grey\"}, \"text\": [\"cost = 33.1\", \"cost = 33.1\"], \"type\": \"scatter\", \"visible\": false, \"x\": [26.25, 3.75], \"y\": [12.25, 1.75]}, {\"hoverinfo\": \"text\", \"line\": {\"color\": \"grey\"}, \"text\": [\"cost = 33.1\", \"cost = 33.1\"], \"type\": \"scatter\", \"visible\": false, \"x\": [3.75, 26.25], \"y\": [1.75, 12.25]}, {\"hoverinfo\": \"text\", \"line\": {\"color\": \"grey\"}, \"text\": [\"cost = 33.1\", \"cost = 33.1\"], \"type\": \"scatter\", \"visible\": false, \"x\": [26.25, 3.75], \"y\": [12.25, 1.75]}, {\"hoverinfo\": \"text\", \"line\": {\"color\": \"grey\"}, \"text\": [\"cost = 31.6\", \"cost = 31.6\"], \"type\": \"scatter\", \"visible\": false, \"x\": [-8.75, -1.25], \"y\": [-13.75, -36.25]}, {\"hoverinfo\": \"text\", \"line\": {\"color\": \"grey\"}, \"text\": [\"cost = 31.6\", \"cost = 31.6\"], \"type\": \"scatter\", \"visible\": false, \"x\": [-1.25, -8.75], \"y\": [-36.25, -13.75]}, {\"hoverinfo\": \"text\", \"line\": {\"color\": \"grey\"}, \"text\": [\"cost = 31.6\", \"cost = 31.6\"], \"type\": \"scatter\", \"visible\": false, \"x\": [-8.75, -1.25], \"y\": [-13.75, -36.25]}, {\"hoverinfo\": \"text\", \"line\": {\"color\": \"grey\"}, \"text\": [\"cost = 25.0\", \"cost = 25.0\"], \"type\": \"scatter\", \"visible\": false, \"x\": [-3.125, -21.875], \"y\": [-40.0, -40.0]}, {\"hoverinfo\": \"text\", \"line\": {\"color\": \"grey\"}, \"text\": [\"cost = 33.5\", \"cost = 33.5\"], \"type\": \"scatter\", \"visible\": false, \"x\": [-23.125, -11.875], \"y\": [-36.25, -13.75]}, {\"hoverinfo\": \"text\", \"line\": {\"color\": \"grey\"}, \"text\": [\"cost = 31.6\", \"cost = 31.6\"], \"type\": \"scatter\", \"visible\": false, \"x\": [-8.75, -1.25], \"y\": [-13.75, -36.25]}, {\"hoverinfo\": \"text\", \"line\": {\"color\": \"grey\"}, \"text\": [\"cost = 42.7\", \"cost = 42.7\"], \"type\": \"scatter\", \"visible\": false, \"x\": [-5.0, -35.0], \"y\": [-38.125, -26.875]}, {\"hoverinfo\": \"text\", \"line\": {\"color\": \"grey\"}, \"text\": [\"cost = 33.5\", \"cost = 33.5\"], \"type\": \"scatter\", \"visible\": false, \"x\": [-36.25, -13.75], \"y\": [-23.125, -11.875]}, {\"hoverinfo\": \"text\", \"line\": {\"color\": \"grey\"}, \"text\": [\"cost = 31.6\", \"cost = 31.6\"], \"type\": \"scatter\", \"visible\": false, \"x\": [-8.75, -1.25], \"y\": [-13.75, -36.25]}, {\"hoverinfo\": \"text\", \"line\": {\"color\": \"grey\"}, \"text\": [\"cost = 56.6\", \"cost = 56.6\"], \"type\": \"scatter\", \"visible\": false, \"x\": [-5.0, -35.0], \"y\": [-35.0, -5.0]}, {\"hoverinfo\": \"text\", \"line\": {\"color\": \"grey\"}, \"text\": [\"cost = 31.6\", \"cost = 31.6\"], \"type\": \"scatter\", \"visible\": false, \"x\": [-36.25, -13.75], \"y\": [-1.25, -8.75]}, {\"hoverinfo\": \"text\", \"line\": {\"color\": \"grey\"}, \"text\": [\"cost = 33.5\", \"cost = 33.5\"], \"type\": \"scatter\", \"visible\": false, \"x\": [-11.875, -23.125], \"y\": [-13.75, -36.25]}, {\"hoverinfo\": \"text\", \"line\": {\"color\": \"grey\"}, \"text\": [\"cost = 33.5\", \"cost = 33.5\"], \"type\": \"scatter\", \"visible\": false, \"x\": [-23.125, -11.875], \"y\": [-36.25, -13.75]}, {\"hoverinfo\": \"text\", \"line\": {\"color\": \"grey\"}, \"text\": [\"cost = 33.5\", \"cost = 33.5\"], \"type\": \"scatter\", \"visible\": false, \"x\": [-11.875, -23.125], \"y\": [-13.75, -36.25]}, {\"hoverinfo\": \"text\", \"line\": {\"color\": \"grey\"}, \"text\": [\"cost = 21.2\", \"cost = 21.2\"], \"type\": \"scatter\", \"visible\": false, \"x\": [-26.875, -38.125], \"y\": [-38.125, -26.875]}, {\"hoverinfo\": \"text\", \"line\": {\"color\": \"grey\"}, \"text\": [\"cost = 33.5\", \"cost = 33.5\"], \"type\": \"scatter\", \"visible\": false, \"x\": [-36.25, -13.75], \"y\": [-23.125, -11.875]}, {\"hoverinfo\": \"text\", \"line\": {\"color\": \"grey\"}, \"text\": [\"cost = 33.5\", \"cost = 33.5\"], \"type\": \"scatter\", \"visible\": false, \"x\": [-11.875, -23.125], \"y\": [-13.75, -36.25]}, {\"hoverinfo\": \"text\", \"line\": {\"color\": \"grey\"}, \"text\": [\"cost = 42.7\", \"cost = 42.7\"], \"type\": \"scatter\", \"visible\": false, \"x\": [-26.875, -38.125], \"y\": [-35.0, -5.0]}, {\"hoverinfo\": \"text\", \"line\": {\"color\": \"grey\"}, \"text\": [\"cost = 31.6\", \"cost = 31.6\"], \"type\": \"scatter\", \"visible\": false, \"x\": [-36.25, -13.75], \"y\": [-1.25, -8.75]}, {\"hoverinfo\": \"text\", \"line\": {\"color\": \"grey\"}, \"text\": [\"cost = 33.5\", \"cost = 33.5\"], \"type\": \"scatter\", \"visible\": false, \"x\": [-13.75, -36.25], \"y\": [-11.875, -23.125]}, {\"hoverinfo\": \"text\", \"line\": {\"color\": \"grey\"}, \"text\": [\"cost = 33.5\", \"cost = 33.5\"], \"type\": \"scatter\", \"visible\": false, \"x\": [-36.25, -13.75], \"y\": [-23.125, -11.875]}, {\"hoverinfo\": \"text\", \"line\": {\"color\": \"grey\"}, \"text\": [\"cost = 33.5\", \"cost = 33.5\"], \"type\": \"scatter\", \"visible\": false, \"x\": [-13.75, -36.25], \"y\": [-11.875, -23.125]}, {\"hoverinfo\": \"text\", \"line\": {\"color\": \"grey\"}, \"text\": [\"cost = 25.0\", \"cost = 25.0\"], \"type\": \"scatter\", \"visible\": false, \"x\": [-40.0, -40.0], \"y\": [-21.875, -3.125]}, {\"hoverinfo\": \"text\", \"line\": {\"color\": \"grey\"}, \"text\": [\"cost = 31.6\", \"cost = 31.6\"], \"type\": \"scatter\", \"visible\": false, \"x\": [-36.25, -13.75], \"y\": [-1.25, -8.75]}, {\"hoverinfo\": \"text\", \"line\": {\"color\": \"grey\"}, \"text\": [\"cost = 31.6\", \"cost = 31.6\"], \"type\": \"scatter\", \"visible\": false, \"x\": [-13.75, -36.25], \"y\": [-8.75, -1.25]}, {\"hoverinfo\": \"text\", \"line\": {\"color\": \"grey\"}, \"text\": [\"cost = 31.6\", \"cost = 31.6\"], \"type\": \"scatter\", \"visible\": false, \"x\": [-36.25, -13.75], \"y\": [-1.25, -8.75]}, {\"hoverinfo\": \"text\", \"line\": {\"color\": \"grey\"}, \"text\": [\"cost = 57.0\", \"cost = 57.0\"], \"type\": \"scatter\", \"visible\": false, \"x\": [-17.5, -2.5], \"y\": [17.5, 2.5]}, {\"hoverinfo\": \"text\", \"line\": {\"color\": \"grey\"}, \"text\": [\"cost = 63.0\", \"cost = 63.0\"], \"type\": \"scatter\", \"visible\": false, \"x\": [-18.75, -11.25], \"y\": [16.25, -6.25]}],\n",
       "                        {\"annotations\": [{\"font\": {\"color\": \"black\", \"size\": 15}, \"showarrow\": false, \"text\": \"I = 5.0\", \"x\": 20.0, \"xref\": \"x\", \"y\": 20.0, \"yref\": \"y\"}, {\"font\": {\"color\": \"black\", \"size\": 15}, \"showarrow\": false, \"text\": \"I = 3.0\", \"x\": 10.0, \"xref\": \"x\", \"y\": 40.0, \"yref\": \"y\"}, {\"font\": {\"color\": \"black\", \"size\": 15}, \"showarrow\": false, \"text\": \"I = 2.0\", \"x\": 50.0, \"xref\": \"x\", \"y\": 6.0, \"yref\": \"y\"}, {\"font\": {\"color\": \"black\", \"size\": 15}, \"showarrow\": false, \"text\": \"I = 4.0\", \"x\": 30.0, \"xref\": \"x\", \"y\": 14.0, \"yref\": \"y\"}, {\"font\": {\"color\": \"black\", \"size\": 15}, \"showarrow\": false, \"text\": \"I = 5.0\", \"x\": 0.0, \"xref\": \"x\", \"y\": -40.0, \"yref\": \"y\"}, {\"font\": {\"color\": \"black\", \"size\": 15}, \"showarrow\": false, \"text\": \"I = 3.0\", \"x\": -25.0, \"xref\": \"x\", \"y\": -40.0, \"yref\": \"y\"}, {\"font\": {\"color\": \"black\", \"size\": 15}, \"showarrow\": false, \"text\": \"I = 2.0\", \"x\": -40.0, \"xref\": \"x\", \"y\": -25.0, \"yref\": \"y\"}, {\"font\": {\"color\": \"black\", \"size\": 15}, \"showarrow\": false, \"text\": \"I = 4.0\", \"x\": -40.0, \"xref\": \"x\", \"y\": 0.0, \"yref\": \"y\"}, {\"font\": {\"color\": \"yellow\", \"size\": 15}, \"showarrow\": false, \"text\": \"I = 10\", \"x\": 0.0, \"xref\": \"x\", \"y\": 0.0, \"yref\": \"y\"}, {\"font\": {\"color\": \"yellow\", \"size\": 15}, \"showarrow\": false, \"text\": \"I = 10\", \"x\": -10.0, \"xref\": \"x\", \"y\": -10.0, \"yref\": \"y\"}, {\"font\": {\"color\": \"black\", \"size\": 15}, \"showarrow\": false, \"text\": \"CENTRAL\", \"x\": -20.0, \"xref\": \"x\", \"y\": 20.0, \"yref\": \"y\"}], \"font\": {\"size\": 12}, \"hovermode\": \"closest\", \"margin\": {\"b\": 85, \"l\": 40, \"r\": 40, \"t\": 100}, \"plot_bgcolor\": \"rgb(248,248,248)\", \"showlegend\": false, \"template\": {\"data\": {\"bar\": [{\"error_x\": {\"color\": \"#2a3f5f\"}, \"error_y\": {\"color\": \"#2a3f5f\"}, \"marker\": {\"line\": {\"color\": \"#E5ECF6\", \"width\": 0.5}}, \"type\": \"bar\"}], \"barpolar\": [{\"marker\": {\"line\": {\"color\": \"#E5ECF6\", \"width\": 0.5}}, \"type\": \"barpolar\"}], \"carpet\": [{\"aaxis\": {\"endlinecolor\": \"#2a3f5f\", \"gridcolor\": \"white\", \"linecolor\": \"white\", \"minorgridcolor\": \"white\", \"startlinecolor\": \"#2a3f5f\"}, \"baxis\": {\"endlinecolor\": \"#2a3f5f\", \"gridcolor\": \"white\", \"linecolor\": \"white\", \"minorgridcolor\": \"white\", \"startlinecolor\": \"#2a3f5f\"}, \"type\": \"carpet\"}], \"choropleth\": [{\"colorbar\": {\"outlinewidth\": 0, \"ticks\": \"\"}, \"type\": \"choropleth\"}], \"contour\": [{\"colorbar\": {\"outlinewidth\": 0, \"ticks\": \"\"}, \"colorscale\": [[0.0, \"#0d0887\"], [0.1111111111111111, \"#46039f\"], [0.2222222222222222, \"#7201a8\"], [0.3333333333333333, \"#9c179e\"], [0.4444444444444444, \"#bd3786\"], [0.5555555555555556, \"#d8576b\"], [0.6666666666666666, \"#ed7953\"], [0.7777777777777778, \"#fb9f3a\"], [0.8888888888888888, \"#fdca26\"], [1.0, \"#f0f921\"]], \"type\": \"contour\"}], \"contourcarpet\": [{\"colorbar\": {\"outlinewidth\": 0, \"ticks\": \"\"}, \"type\": \"contourcarpet\"}], \"heatmap\": [{\"colorbar\": {\"outlinewidth\": 0, \"ticks\": \"\"}, \"colorscale\": [[0.0, \"#0d0887\"], [0.1111111111111111, \"#46039f\"], [0.2222222222222222, \"#7201a8\"], [0.3333333333333333, \"#9c179e\"], [0.4444444444444444, \"#bd3786\"], [0.5555555555555556, \"#d8576b\"], [0.6666666666666666, \"#ed7953\"], [0.7777777777777778, \"#fb9f3a\"], [0.8888888888888888, \"#fdca26\"], [1.0, \"#f0f921\"]], \"type\": \"heatmap\"}], \"heatmapgl\": [{\"colorbar\": {\"outlinewidth\": 0, \"ticks\": \"\"}, \"colorscale\": [[0.0, \"#0d0887\"], [0.1111111111111111, \"#46039f\"], [0.2222222222222222, \"#7201a8\"], [0.3333333333333333, \"#9c179e\"], [0.4444444444444444, \"#bd3786\"], [0.5555555555555556, \"#d8576b\"], [0.6666666666666666, \"#ed7953\"], [0.7777777777777778, \"#fb9f3a\"], [0.8888888888888888, \"#fdca26\"], [1.0, \"#f0f921\"]], \"type\": \"heatmapgl\"}], \"histogram\": [{\"marker\": {\"colorbar\": {\"outlinewidth\": 0, \"ticks\": \"\"}}, \"type\": \"histogram\"}], \"histogram2d\": [{\"colorbar\": {\"outlinewidth\": 0, \"ticks\": \"\"}, \"colorscale\": [[0.0, \"#0d0887\"], [0.1111111111111111, \"#46039f\"], [0.2222222222222222, \"#7201a8\"], [0.3333333333333333, \"#9c179e\"], [0.4444444444444444, \"#bd3786\"], [0.5555555555555556, \"#d8576b\"], [0.6666666666666666, \"#ed7953\"], [0.7777777777777778, \"#fb9f3a\"], [0.8888888888888888, \"#fdca26\"], [1.0, \"#f0f921\"]], \"type\": \"histogram2d\"}], \"histogram2dcontour\": [{\"colorbar\": {\"outlinewidth\": 0, \"ticks\": \"\"}, \"colorscale\": [[0.0, \"#0d0887\"], [0.1111111111111111, \"#46039f\"], [0.2222222222222222, \"#7201a8\"], [0.3333333333333333, \"#9c179e\"], [0.4444444444444444, \"#bd3786\"], [0.5555555555555556, \"#d8576b\"], [0.6666666666666666, \"#ed7953\"], [0.7777777777777778, \"#fb9f3a\"], [0.8888888888888888, \"#fdca26\"], [1.0, \"#f0f921\"]], \"type\": \"histogram2dcontour\"}], \"mesh3d\": [{\"colorbar\": {\"outlinewidth\": 0, \"ticks\": \"\"}, \"type\": \"mesh3d\"}], \"parcoords\": [{\"line\": {\"colorbar\": {\"outlinewidth\": 0, \"ticks\": \"\"}}, \"type\": \"parcoords\"}], \"pie\": [{\"automargin\": true, \"type\": \"pie\"}], \"scatter\": [{\"marker\": {\"colorbar\": {\"outlinewidth\": 0, \"ticks\": \"\"}}, \"type\": \"scatter\"}], \"scatter3d\": [{\"line\": {\"colorbar\": {\"outlinewidth\": 0, \"ticks\": \"\"}}, \"marker\": {\"colorbar\": {\"outlinewidth\": 0, \"ticks\": \"\"}}, \"type\": \"scatter3d\"}], \"scattercarpet\": [{\"marker\": {\"colorbar\": {\"outlinewidth\": 0, \"ticks\": \"\"}}, \"type\": \"scattercarpet\"}], \"scattergeo\": [{\"marker\": {\"colorbar\": {\"outlinewidth\": 0, \"ticks\": \"\"}}, \"type\": \"scattergeo\"}], \"scattergl\": [{\"marker\": {\"colorbar\": {\"outlinewidth\": 0, \"ticks\": \"\"}}, \"type\": \"scattergl\"}], \"scattermapbox\": [{\"marker\": {\"colorbar\": {\"outlinewidth\": 0, \"ticks\": \"\"}}, \"type\": \"scattermapbox\"}], \"scatterpolar\": [{\"marker\": {\"colorbar\": {\"outlinewidth\": 0, \"ticks\": \"\"}}, \"type\": \"scatterpolar\"}], \"scatterpolargl\": [{\"marker\": {\"colorbar\": {\"outlinewidth\": 0, \"ticks\": \"\"}}, \"type\": \"scatterpolargl\"}], \"scatterternary\": [{\"marker\": {\"colorbar\": {\"outlinewidth\": 0, \"ticks\": \"\"}}, \"type\": \"scatterternary\"}], \"surface\": [{\"colorbar\": {\"outlinewidth\": 0, \"ticks\": \"\"}, \"colorscale\": [[0.0, \"#0d0887\"], [0.1111111111111111, \"#46039f\"], [0.2222222222222222, \"#7201a8\"], [0.3333333333333333, \"#9c179e\"], [0.4444444444444444, \"#bd3786\"], [0.5555555555555556, \"#d8576b\"], [0.6666666666666666, \"#ed7953\"], [0.7777777777777778, \"#fb9f3a\"], [0.8888888888888888, \"#fdca26\"], [1.0, \"#f0f921\"]], \"type\": \"surface\"}], \"table\": [{\"cells\": {\"fill\": {\"color\": \"#EBF0F8\"}, \"line\": {\"color\": \"white\"}}, \"header\": {\"fill\": {\"color\": \"#C8D4E3\"}, \"line\": {\"color\": \"white\"}}, \"type\": \"table\"}]}, \"layout\": {\"annotationdefaults\": {\"arrowcolor\": \"#2a3f5f\", \"arrowhead\": 0, \"arrowwidth\": 1}, \"coloraxis\": {\"colorbar\": {\"outlinewidth\": 0, \"ticks\": \"\"}}, \"colorscale\": {\"diverging\": [[0, \"#8e0152\"], [0.1, \"#c51b7d\"], [0.2, \"#de77ae\"], [0.3, \"#f1b6da\"], [0.4, \"#fde0ef\"], [0.5, \"#f7f7f7\"], [0.6, \"#e6f5d0\"], [0.7, \"#b8e186\"], [0.8, \"#7fbc41\"], [0.9, \"#4d9221\"], [1, \"#276419\"]], \"sequential\": [[0.0, \"#0d0887\"], [0.1111111111111111, \"#46039f\"], [0.2222222222222222, \"#7201a8\"], [0.3333333333333333, \"#9c179e\"], [0.4444444444444444, \"#bd3786\"], [0.5555555555555556, \"#d8576b\"], [0.6666666666666666, \"#ed7953\"], [0.7777777777777778, \"#fb9f3a\"], [0.8888888888888888, \"#fdca26\"], [1.0, \"#f0f921\"]], \"sequentialminus\": [[0.0, \"#0d0887\"], [0.1111111111111111, \"#46039f\"], [0.2222222222222222, \"#7201a8\"], [0.3333333333333333, \"#9c179e\"], [0.4444444444444444, \"#bd3786\"], [0.5555555555555556, \"#d8576b\"], [0.6666666666666666, \"#ed7953\"], [0.7777777777777778, \"#fb9f3a\"], [0.8888888888888888, \"#fdca26\"], [1.0, \"#f0f921\"]]}, \"colorway\": [\"#636efa\", \"#EF553B\", \"#00cc96\", \"#ab63fa\", \"#FFA15A\", \"#19d3f3\", \"#FF6692\", \"#B6E880\", \"#FF97FF\", \"#FECB52\"], \"font\": {\"color\": \"#2a3f5f\"}, \"geo\": {\"bgcolor\": \"white\", \"lakecolor\": \"white\", \"landcolor\": \"#E5ECF6\", \"showlakes\": true, \"showland\": true, \"subunitcolor\": \"white\"}, \"hoverlabel\": {\"align\": \"left\"}, \"hovermode\": \"closest\", \"mapbox\": {\"style\": \"light\"}, \"paper_bgcolor\": \"white\", \"plot_bgcolor\": \"#E5ECF6\", \"polar\": {\"angularaxis\": {\"gridcolor\": \"white\", \"linecolor\": \"white\", \"ticks\": \"\"}, \"bgcolor\": \"#E5ECF6\", \"radialaxis\": {\"gridcolor\": \"white\", \"linecolor\": \"white\", \"ticks\": \"\"}}, \"scene\": {\"xaxis\": {\"backgroundcolor\": \"#E5ECF6\", \"gridcolor\": \"white\", \"gridwidth\": 2, \"linecolor\": \"white\", \"showbackground\": true, \"ticks\": \"\", \"zerolinecolor\": \"white\"}, \"yaxis\": {\"backgroundcolor\": \"#E5ECF6\", \"gridcolor\": \"white\", \"gridwidth\": 2, \"linecolor\": \"white\", \"showbackground\": true, \"ticks\": \"\", \"zerolinecolor\": \"white\"}, \"zaxis\": {\"backgroundcolor\": \"#E5ECF6\", \"gridcolor\": \"white\", \"gridwidth\": 2, \"linecolor\": \"white\", \"showbackground\": true, \"ticks\": \"\", \"zerolinecolor\": \"white\"}}, \"shapedefaults\": {\"line\": {\"color\": \"#2a3f5f\"}}, \"ternary\": {\"aaxis\": {\"gridcolor\": \"white\", \"linecolor\": \"white\", \"ticks\": \"\"}, \"baxis\": {\"gridcolor\": \"white\", \"linecolor\": \"white\", \"ticks\": \"\"}, \"bgcolor\": \"#E5ECF6\", \"caxis\": {\"gridcolor\": \"white\", \"linecolor\": \"white\", \"ticks\": \"\"}}, \"title\": {\"x\": 0.05}, \"xaxis\": {\"automargin\": true, \"gridcolor\": \"white\", \"linecolor\": \"white\", \"ticks\": \"\", \"title\": {\"standoff\": 15}, \"zerolinecolor\": \"white\", \"zerolinewidth\": 2}, \"yaxis\": {\"automargin\": true, \"gridcolor\": \"white\", \"linecolor\": \"white\", \"ticks\": \"\", \"title\": {\"standoff\": 15}, \"zerolinecolor\": \"white\", \"zerolinewidth\": 2}}}, \"title\": {\"text\": \"WFP Inventory problem        Cost = 0          Total Cost = 0   Truck 1 capacity : 5.0   Truck 2 capacity : 20\"}, \"updatemenus\": [{\"buttons\": [{\"args\": [{\"visible\": [true, true, true, false, false, false, false, false, false, false, false, false, false, false, false, false, false, false, false, false, false, false, false, false, false, false, false, false, false, false, false, false, false, false, false, false, false, false, false, false, false, false, false, false, false, false, false, false, false, false, false, false, false, false, false, false, false]}, {\"annotations\": [{\"font\": {\"color\": \"black\", \"size\": 15}, \"showarrow\": false, \"text\": \"I = 5.0\", \"x\": 20.0, \"xref\": \"x1\", \"y\": 20.0, \"yref\": \"y1\"}, {\"font\": {\"color\": \"black\", \"size\": 15}, \"showarrow\": false, \"text\": \"I = 3.0\", \"x\": 10.0, \"xref\": \"x1\", \"y\": 40.0, \"yref\": \"y1\"}, {\"font\": {\"color\": \"black\", \"size\": 15}, \"showarrow\": false, \"text\": \"I = 2.0\", \"x\": 50.0, \"xref\": \"x1\", \"y\": 6.0, \"yref\": \"y1\"}, {\"font\": {\"color\": \"black\", \"size\": 15}, \"showarrow\": false, \"text\": \"I = 4.0\", \"x\": 30.0, \"xref\": \"x1\", \"y\": 14.0, \"yref\": \"y1\"}, {\"font\": {\"color\": \"black\", \"size\": 15}, \"showarrow\": false, \"text\": \"I = 5.0\", \"x\": 0.0, \"xref\": \"x1\", \"y\": -40.0, \"yref\": \"y1\"}, {\"font\": {\"color\": \"black\", \"size\": 15}, \"showarrow\": false, \"text\": \"I = 3.0\", \"x\": -25.0, \"xref\": \"x1\", \"y\": -40.0, \"yref\": \"y1\"}, {\"font\": {\"color\": \"black\", \"size\": 15}, \"showarrow\": false, \"text\": \"I = 2.0\", \"x\": -40.0, \"xref\": \"x1\", \"y\": -25.0, \"yref\": \"y1\"}, {\"font\": {\"color\": \"black\", \"size\": 15}, \"showarrow\": false, \"text\": \"I = 4.0\", \"x\": -40.0, \"xref\": \"x1\", \"y\": 0.0, \"yref\": \"y1\"}, {\"font\": {\"color\": \"yellow\", \"size\": 15}, \"showarrow\": false, \"text\": \"I = 10\", \"x\": 0.0, \"xref\": \"x1\", \"y\": 0.0, \"yref\": \"y1\"}, {\"font\": {\"color\": \"yellow\", \"size\": 15}, \"showarrow\": false, \"text\": \"I = 10\", \"x\": -10.0, \"xref\": \"x1\", \"y\": -10.0, \"yref\": \"y1\"}, {\"font\": {\"color\": \"black\", \"size\": 15}, \"showarrow\": false, \"text\": \"CENTRAL\", \"x\": -20.0, \"xref\": \"x1\", \"y\": 20.0, \"yref\": \"y1\"}], \"title\": \"WFP Inventory problem        Cost = 0          Total Cost = 0   Truck 1 capacity : 5.0   Truck 2 capacity : 20\"}], \"label\": \"t = 0 (before lunch)\", \"method\": \"update\"}, {\"args\": [{\"visible\": [true, true, true, false, false, false, false, false, false, false, false, false, false, false, false, false, true, true, true, false, false, false, false, false, false, false, false, false, false, false, false, false, false, false, false, false, false, false, false, false, false, false, true, true, true, false, false, false, false, false, false, false, false, false, false, false, false]}, {\"annotations\": [{\"font\": {\"color\": \"black\", \"size\": 15}, \"showarrow\": false, \"text\": \"I = 4.0\", \"x\": 20.0, \"xref\": \"x1\", \"y\": 20.0, \"yref\": \"y1\"}, {\"font\": {\"color\": \"black\", \"size\": 15}, \"showarrow\": false, \"text\": \"I = 3.0\", \"x\": 10.0, \"xref\": \"x1\", \"y\": 40.0, \"yref\": \"y1\"}, {\"font\": {\"color\": \"black\", \"size\": 15}, \"showarrow\": false, \"text\": \"I = 2.0\", \"x\": 50.0, \"xref\": \"x1\", \"y\": 6.0, \"yref\": \"y1\"}, {\"font\": {\"color\": \"black\", \"size\": 15}, \"showarrow\": false, \"text\": \"I = 2.5\", \"x\": 30.0, \"xref\": \"x1\", \"y\": 14.0, \"yref\": \"y1\"}, {\"font\": {\"color\": \"black\", \"size\": 15}, \"showarrow\": false, \"text\": \"I = 4.0\", \"x\": 0.0, \"xref\": \"x1\", \"y\": -40.0, \"yref\": \"y1\"}, {\"font\": {\"color\": \"black\", \"size\": 15}, \"showarrow\": false, \"text\": \"I = 3.0\", \"x\": -25.0, \"xref\": \"x1\", \"y\": -40.0, \"yref\": \"y1\"}, {\"font\": {\"color\": \"black\", \"size\": 15}, \"showarrow\": false, \"text\": \"I = 2.0\", \"x\": -40.0, \"xref\": \"x1\", \"y\": -25.0, \"yref\": \"y1\"}, {\"font\": {\"color\": \"black\", \"size\": 15}, \"showarrow\": false, \"text\": \"I = 2.5\", \"x\": -40.0, \"xref\": \"x1\", \"y\": 0.0, \"yref\": \"y1\"}, {\"font\": {\"color\": \"yellow\", \"size\": 15}, \"showarrow\": false, \"text\": \"I = 5.0\", \"x\": 0.0, \"xref\": \"x1\", \"y\": 0.0, \"yref\": \"y1\"}, {\"font\": {\"color\": \"yellow\", \"size\": 15}, \"showarrow\": false, \"text\": \"I = 5.0\", \"x\": -10.0, \"xref\": \"x1\", \"y\": -10.0, \"yref\": \"y1\"}, {\"font\": {\"color\": \"black\", \"size\": 15}, \"showarrow\": false, \"text\": \"CENTRAL\", \"x\": -20.0, \"xref\": \"x1\", \"y\": 20.0, \"yref\": \"y1\"}, {\"font\": {\"color\": \"grey\", \"size\": 15}, \"showarrow\": false, \"text\": \"3.0  \", \"x\": 6.0, \"xref\": \"x1\", \"y\": 21.0, \"yref\": \"y1\"}, {\"font\": {\"color\": \"grey\", \"size\": 15}, \"showarrow\": false, \"text\": \"2.0  \", \"x\": 31.0, \"xref\": \"x1\", \"y\": 24.0, \"yref\": \"y1\"}, {\"font\": {\"color\": \"grey\", \"size\": 15}, \"showarrow\": false, \"text\": \"3.0  \", \"x\": -16.5, \"xref\": \"x1\", \"y\": -24.0, \"yref\": \"y1\"}, {\"font\": {\"color\": \"grey\", \"size\": 15}, \"showarrow\": false, \"text\": \"2.0  \", \"x\": -31.5, \"xref\": \"x1\", \"y\": -31.5, \"yref\": \"y1\"}], \"title\": \"WFP Inventory problem        Cost = 232.0          Total Cost = 232.0   Truck 1 capacity : 5.0   Truck 2 capacity : 20\"}], \"label\": \"t = 1 (before lunch)\", \"method\": \"update\"}, {\"args\": [{\"visible\": [true, true, true, false, false, false, false, false, false, false, false, false, false, false, true, true, false, false, false, false, false, false, false, false, true, true, true, false, false, false, false, false, false, false, false, false, false, false, false, false, false, false, true, true, true, false, false, false, false, false, false, false, false, true, true, true, true]}, {\"annotations\": [{\"font\": {\"color\": \"black\", \"size\": 15}, \"showarrow\": false, \"text\": \"I = 3.0\", \"x\": 20.0, \"xref\": \"x1\", \"y\": 20.0, \"yref\": \"y1\"}, {\"font\": {\"color\": \"black\", \"size\": 15}, \"showarrow\": false, \"text\": \"I = 3.0\", \"x\": 10.0, \"xref\": \"x1\", \"y\": 40.0, \"yref\": \"y1\"}, {\"font\": {\"color\": \"black\", \"size\": 15}, \"showarrow\": false, \"text\": \"I = 2.0\", \"x\": 50.0, \"xref\": \"x1\", \"y\": 6.0, \"yref\": \"y1\"}, {\"font\": {\"color\": \"black\", \"size\": 15}, \"showarrow\": false, \"text\": \"I = 4.0\", \"x\": 30.0, \"xref\": \"x1\", \"y\": 14.0, \"yref\": \"y1\"}, {\"font\": {\"color\": \"black\", \"size\": 15}, \"showarrow\": false, \"text\": \"I = 3.0\", \"x\": 0.0, \"xref\": \"x1\", \"y\": -40.0, \"yref\": \"y1\"}, {\"font\": {\"color\": \"black\", \"size\": 15}, \"showarrow\": false, \"text\": \"I = 3.0\", \"x\": -25.0, \"xref\": \"x1\", \"y\": -40.0, \"yref\": \"y1\"}, {\"font\": {\"color\": \"black\", \"size\": 15}, \"showarrow\": false, \"text\": \"I = 2.0\", \"x\": -40.0, \"xref\": \"x1\", \"y\": -25.0, \"yref\": \"y1\"}, {\"font\": {\"color\": \"black\", \"size\": 15}, \"showarrow\": false, \"text\": \"I = 3.0\", \"x\": -40.0, \"xref\": \"x1\", \"y\": 0.0, \"yref\": \"y1\"}, {\"font\": {\"color\": \"yellow\", \"size\": 15}, \"showarrow\": false, \"text\": \"I = 17.0\", \"x\": 0.0, \"xref\": \"x1\", \"y\": 0.0, \"yref\": \"y1\"}, {\"font\": {\"color\": \"yellow\", \"size\": 15}, \"showarrow\": false, \"text\": \"I = 18.0\", \"x\": -10.0, \"xref\": \"x1\", \"y\": -10.0, \"yref\": \"y1\"}, {\"font\": {\"color\": \"black\", \"size\": 15}, \"showarrow\": false, \"text\": \"CENTRAL\", \"x\": -20.0, \"xref\": \"x1\", \"y\": 20.0, \"yref\": \"y1\"}, {\"font\": {\"color\": \"grey\", \"size\": 15}, \"showarrow\": false, \"text\": \"3.0  \", \"x\": 6.0, \"xref\": \"x1\", \"y\": 21.0, \"yref\": \"y1\"}, {\"font\": {\"color\": \"grey\", \"size\": 15}, \"showarrow\": false, \"text\": \"2.0  \", \"x\": 26.0, \"xref\": \"x1\", \"y\": 4.0, \"yref\": \"y1\"}, {\"font\": {\"color\": \"grey\", \"size\": 15}, \"showarrow\": false, \"text\": \"3.0  \", \"x\": 41.0, \"xref\": \"x1\", \"y\": 11.0, \"yref\": \"y1\"}, {\"font\": {\"color\": \"grey\", \"size\": 15}, \"showarrow\": false, \"text\": \"3.0  \", \"x\": -16.5, \"xref\": \"x1\", \"y\": -24.0, \"yref\": \"y1\"}, {\"font\": {\"color\": \"grey\", \"size\": 15}, \"showarrow\": false, \"text\": \"2.0  \", \"x\": -31.5, \"xref\": \"x1\", \"y\": -31.5, \"yref\": \"y1\"}, {\"font\": {\"color\": \"grey\", \"size\": 15}, \"showarrow\": false, \"text\": \"2.0  \", \"x\": -24.0, \"xref\": \"x1\", \"y\": -4.0, \"yref\": \"y1\"}], \"title\": \"WFP Inventory problem        Cost = 459.0          Total Cost = 691.0   Truck 1 capacity : 5.0   Truck 2 capacity : 20\"}], \"label\": \"t = 2 (before lunch)\", \"method\": \"update\"}, {\"args\": [{\"visible\": [true, true, true, false, false, false, false, false, false, false, false, false, false, false, false, false, true, true, true, false, false, false, false, false, false, false, false, false, false, false, false, false, false, false, false, false, false, false, false, false, false, false, true, true, true, false, false, false, false, false, false, false, false, false, false, false, false]}, {\"annotations\": [{\"font\": {\"color\": \"black\", \"size\": 15}, \"showarrow\": false, \"text\": \"I = 2.0\", \"x\": 20.0, \"xref\": \"x1\", \"y\": 20.0, \"yref\": \"y1\"}, {\"font\": {\"color\": \"black\", \"size\": 15}, \"showarrow\": false, \"text\": \"I = 3.0\", \"x\": 10.0, \"xref\": \"x1\", \"y\": 40.0, \"yref\": \"y1\"}, {\"font\": {\"color\": \"black\", \"size\": 15}, \"showarrow\": false, \"text\": \"I = 2.0\", \"x\": 50.0, \"xref\": \"x1\", \"y\": 6.0, \"yref\": \"y1\"}, {\"font\": {\"color\": \"black\", \"size\": 15}, \"showarrow\": false, \"text\": \"I = 2.5\", \"x\": 30.0, \"xref\": \"x1\", \"y\": 14.0, \"yref\": \"y1\"}, {\"font\": {\"color\": \"black\", \"size\": 15}, \"showarrow\": false, \"text\": \"I = 2.0\", \"x\": 0.0, \"xref\": \"x1\", \"y\": -40.0, \"yref\": \"y1\"}, {\"font\": {\"color\": \"black\", \"size\": 15}, \"showarrow\": false, \"text\": \"I = 3.0\", \"x\": -25.0, \"xref\": \"x1\", \"y\": -40.0, \"yref\": \"y1\"}, {\"font\": {\"color\": \"black\", \"size\": 15}, \"showarrow\": false, \"text\": \"I = 2.0\", \"x\": -40.0, \"xref\": \"x1\", \"y\": -25.0, \"yref\": \"y1\"}, {\"font\": {\"color\": \"black\", \"size\": 15}, \"showarrow\": false, \"text\": \"I = 1.5\", \"x\": -40.0, \"xref\": \"x1\", \"y\": 0.0, \"yref\": \"y1\"}, {\"font\": {\"color\": \"yellow\", \"size\": 15}, \"showarrow\": false, \"text\": \"I = 12.0\", \"x\": 0.0, \"xref\": \"x1\", \"y\": 0.0, \"yref\": \"y1\"}, {\"font\": {\"color\": \"yellow\", \"size\": 15}, \"showarrow\": false, \"text\": \"I = 13.0\", \"x\": -10.0, \"xref\": \"x1\", \"y\": -10.0, \"yref\": \"y1\"}, {\"font\": {\"color\": \"black\", \"size\": 15}, \"showarrow\": false, \"text\": \"CENTRAL\", \"x\": -20.0, \"xref\": \"x1\", \"y\": 20.0, \"yref\": \"y1\"}, {\"font\": {\"color\": \"grey\", \"size\": 15}, \"showarrow\": false, \"text\": \"3.0  \", \"x\": 6.0, \"xref\": \"x1\", \"y\": 21.0, \"yref\": \"y1\"}, {\"font\": {\"color\": \"grey\", \"size\": 15}, \"showarrow\": false, \"text\": \"2.0  \", \"x\": 31.0, \"xref\": \"x1\", \"y\": 24.0, \"yref\": \"y1\"}, {\"font\": {\"color\": \"grey\", \"size\": 15}, \"showarrow\": false, \"text\": \"3.0  \", \"x\": -16.5, \"xref\": \"x1\", \"y\": -24.0, \"yref\": \"y1\"}, {\"font\": {\"color\": \"grey\", \"size\": 15}, \"showarrow\": false, \"text\": \"2.0  \", \"x\": -31.5, \"xref\": \"x1\", \"y\": -31.5, \"yref\": \"y1\"}], \"title\": \"WFP Inventory problem        Cost = 232.0          Total Cost = 924.0   Truck 1 capacity : 5.0   Truck 2 capacity : 20\"}], \"label\": \"t = 3 (before lunch)\", \"method\": \"update\"}, {\"args\": [{\"visible\": [true, true, true, false, false, true, true, true, false, false, false, false, false, false, false, false, false, false, false, false, false, false, false, false, true, true, true, false, false, false, false, true, true, true, false, false, false, false, false, false, false, false, false, false, false, false, false, false, false, false, true, true, true, false, false, false, false]}, {\"annotations\": [{\"font\": {\"color\": \"black\", \"size\": 15}, \"showarrow\": false, \"text\": \"I = 3.0\", \"x\": 20.0, \"xref\": \"x1\", \"y\": 20.0, \"yref\": \"y1\"}, {\"font\": {\"color\": \"black\", \"size\": 15}, \"showarrow\": false, \"text\": \"I = 3.0\", \"x\": 10.0, \"xref\": \"x1\", \"y\": 40.0, \"yref\": \"y1\"}, {\"font\": {\"color\": \"black\", \"size\": 15}, \"showarrow\": false, \"text\": \"I = 2.0\", \"x\": 50.0, \"xref\": \"x1\", \"y\": 6.0, \"yref\": \"y1\"}, {\"font\": {\"color\": \"black\", \"size\": 15}, \"showarrow\": false, \"text\": \"I = 3.0\", \"x\": 30.0, \"xref\": \"x1\", \"y\": 14.0, \"yref\": \"y1\"}, {\"font\": {\"color\": \"black\", \"size\": 15}, \"showarrow\": false, \"text\": \"I = 3.0\", \"x\": 0.0, \"xref\": \"x1\", \"y\": -40.0, \"yref\": \"y1\"}, {\"font\": {\"color\": \"black\", \"size\": 15}, \"showarrow\": false, \"text\": \"I = 3.0\", \"x\": -25.0, \"xref\": \"x1\", \"y\": -40.0, \"yref\": \"y1\"}, {\"font\": {\"color\": \"black\", \"size\": 15}, \"showarrow\": false, \"text\": \"I = 2.0\", \"x\": -40.0, \"xref\": \"x1\", \"y\": -25.0, \"yref\": \"y1\"}, {\"font\": {\"color\": \"black\", \"size\": 15}, \"showarrow\": false, \"text\": \"I = 3.0\", \"x\": -40.0, \"xref\": \"x1\", \"y\": 0.0, \"yref\": \"y1\"}, {\"font\": {\"color\": \"yellow\", \"size\": 15}, \"showarrow\": false, \"text\": \"I = 3.0\", \"x\": 0.0, \"xref\": \"x1\", \"y\": 0.0, \"yref\": \"y1\"}, {\"font\": {\"color\": \"yellow\", \"size\": 15}, \"showarrow\": false, \"text\": \"I = 3.0\", \"x\": -10.0, \"xref\": \"x1\", \"y\": -10.0, \"yref\": \"y1\"}, {\"font\": {\"color\": \"black\", \"size\": 15}, \"showarrow\": false, \"text\": \"CENTRAL\", \"x\": -20.0, \"xref\": \"x1\", \"y\": 20.0, \"yref\": \"y1\"}, {\"font\": {\"color\": \"grey\", \"size\": 15}, \"showarrow\": false, \"text\": \"2.0  \", \"x\": 11.0, \"xref\": \"x1\", \"y\": 11.0, \"yref\": \"y1\"}, {\"font\": {\"color\": \"grey\", \"size\": 15}, \"showarrow\": false, \"text\": \"3.0  \", \"x\": 16.0, \"xref\": \"x1\", \"y\": 31.0, \"yref\": \"y1\"}, {\"font\": {\"color\": \"grey\", \"size\": 15}, \"showarrow\": false, \"text\": \"2.0  \", \"x\": 26.0, \"xref\": \"x1\", \"y\": 4.0, \"yref\": \"y1\"}, {\"font\": {\"color\": \"grey\", \"size\": 15}, \"showarrow\": false, \"text\": \"2.0  \", \"x\": 41.0, \"xref\": \"x1\", \"y\": 11.0, \"yref\": \"y1\"}, {\"font\": {\"color\": \"grey\", \"size\": 15}, \"showarrow\": false, \"text\": \"2.0  \", \"x\": -4.0, \"xref\": \"x1\", \"y\": -24.0, \"yref\": \"y1\"}, {\"font\": {\"color\": \"grey\", \"size\": 15}, \"showarrow\": false, \"text\": \"3.0  \", \"x\": -11.5, \"xref\": \"x1\", \"y\": -39.0, \"yref\": \"y1\"}, {\"font\": {\"color\": \"grey\", \"size\": 15}, \"showarrow\": false, \"text\": \"2.0  \", \"x\": -24.0, \"xref\": \"x1\", \"y\": -16.5, \"yref\": \"y1\"}, {\"font\": {\"color\": \"grey\", \"size\": 15}, \"showarrow\": false, \"text\": \"3.0  \", \"x\": -39.0, \"xref\": \"x1\", \"y\": -11.5, \"yref\": \"y1\"}], \"title\": \"WFP Inventory problem        Cost = 377.0          Total Cost = 1301.0   Truck 1 capacity : 5.0   Truck 2 capacity : 20\"}], \"label\": \"t = 4 (before lunch)\", \"method\": \"update\"}, {\"args\": [{\"visible\": [true, true, true, false, false, false, false, false, false, false, false, false, false, false, false, false, true, true, true, false, false, false, false, false, false, false, false, false, false, false, false, false, false, false, false, false, false, false, false, false, false, false, true, true, true, false, false, false, false, false, false, false, false, false, false, true, true]}, {\"annotations\": [{\"font\": {\"color\": \"black\", \"size\": 15}, \"showarrow\": false, \"text\": \"I = 2.0\", \"x\": 20.0, \"xref\": \"x1\", \"y\": 20.0, \"yref\": \"y1\"}, {\"font\": {\"color\": \"black\", \"size\": 15}, \"showarrow\": false, \"text\": \"I = 3.0\", \"x\": 10.0, \"xref\": \"x1\", \"y\": 40.0, \"yref\": \"y1\"}, {\"font\": {\"color\": \"black\", \"size\": 15}, \"showarrow\": false, \"text\": \"I = 2.0\", \"x\": 50.0, \"xref\": \"x1\", \"y\": 6.0, \"yref\": \"y1\"}, {\"font\": {\"color\": \"black\", \"size\": 15}, \"showarrow\": false, \"text\": \"I = 1.5\", \"x\": 30.0, \"xref\": \"x1\", \"y\": 14.0, \"yref\": \"y1\"}, {\"font\": {\"color\": \"black\", \"size\": 15}, \"showarrow\": false, \"text\": \"I = 2.0\", \"x\": 0.0, \"xref\": \"x1\", \"y\": -40.0, \"yref\": \"y1\"}, {\"font\": {\"color\": \"black\", \"size\": 15}, \"showarrow\": false, \"text\": \"I = 3.0\", \"x\": -25.0, \"xref\": \"x1\", \"y\": -40.0, \"yref\": \"y1\"}, {\"font\": {\"color\": \"black\", \"size\": 15}, \"showarrow\": false, \"text\": \"I = 2.0\", \"x\": -40.0, \"xref\": \"x1\", \"y\": -25.0, \"yref\": \"y1\"}, {\"font\": {\"color\": \"black\", \"size\": 15}, \"showarrow\": false, \"text\": \"I = 1.5\", \"x\": -40.0, \"xref\": \"x1\", \"y\": 0.0, \"yref\": \"y1\"}, {\"font\": {\"color\": \"yellow\", \"size\": 15}, \"showarrow\": false, \"text\": \"I = 18.0\", \"x\": 0.0, \"xref\": \"x1\", \"y\": 0.0, \"yref\": \"y1\"}, {\"font\": {\"color\": \"yellow\", \"size\": 15}, \"showarrow\": false, \"text\": \"I = 18.0\", \"x\": -10.0, \"xref\": \"x1\", \"y\": -10.0, \"yref\": \"y1\"}, {\"font\": {\"color\": \"black\", \"size\": 15}, \"showarrow\": false, \"text\": \"CENTRAL\", \"x\": -20.0, \"xref\": \"x1\", \"y\": 20.0, \"yref\": \"y1\"}, {\"font\": {\"color\": \"grey\", \"size\": 15}, \"showarrow\": false, \"text\": \"3.0  \", \"x\": 6.0, \"xref\": \"x1\", \"y\": 21.0, \"yref\": \"y1\"}, {\"font\": {\"color\": \"grey\", \"size\": 15}, \"showarrow\": false, \"text\": \"2.0  \", \"x\": 31.0, \"xref\": \"x1\", \"y\": 24.0, \"yref\": \"y1\"}, {\"font\": {\"color\": \"grey\", \"size\": 15}, \"showarrow\": false, \"text\": \"3.0  \", \"x\": -16.5, \"xref\": \"x1\", \"y\": -24.0, \"yref\": \"y1\"}, {\"font\": {\"color\": \"grey\", \"size\": 15}, \"showarrow\": false, \"text\": \"2.0  \", \"x\": -31.5, \"xref\": \"x1\", \"y\": -31.5, \"yref\": \"y1\"}], \"title\": \"WFP Inventory problem        Cost = 352.0          Total Cost = 1653.0   Truck 1 capacity : 5.0   Truck 2 capacity : 20\"}], \"label\": \"t = 5 (before lunch)\", \"method\": \"update\"}, {\"args\": [{\"visible\": [true, true, true, false, false, true, true, true, false, false, false, false, false, false, false, false, false, false, false, false, false, false, false, false, true, true, true, false, false, false, false, true, true, true, false, false, false, false, false, false, false, false, false, false, false, false, false, false, false, false, true, true, true, false, false, false, false]}, {\"annotations\": [{\"font\": {\"color\": \"black\", \"size\": 15}, \"showarrow\": false, \"text\": \"I = 3.0\", \"x\": 20.0, \"xref\": \"x1\", \"y\": 20.0, \"yref\": \"y1\"}, {\"font\": {\"color\": \"black\", \"size\": 15}, \"showarrow\": false, \"text\": \"I = 3.0\", \"x\": 10.0, \"xref\": \"x1\", \"y\": 40.0, \"yref\": \"y1\"}, {\"font\": {\"color\": \"black\", \"size\": 15}, \"showarrow\": false, \"text\": \"I = 2.0\", \"x\": 50.0, \"xref\": \"x1\", \"y\": 6.0, \"yref\": \"y1\"}, {\"font\": {\"color\": \"black\", \"size\": 15}, \"showarrow\": false, \"text\": \"I = 3.0\", \"x\": 30.0, \"xref\": \"x1\", \"y\": 14.0, \"yref\": \"y1\"}, {\"font\": {\"color\": \"black\", \"size\": 15}, \"showarrow\": false, \"text\": \"I = 3.0\", \"x\": 0.0, \"xref\": \"x1\", \"y\": -40.0, \"yref\": \"y1\"}, {\"font\": {\"color\": \"black\", \"size\": 15}, \"showarrow\": false, \"text\": \"I = 3.0\", \"x\": -25.0, \"xref\": \"x1\", \"y\": -40.0, \"yref\": \"y1\"}, {\"font\": {\"color\": \"black\", \"size\": 15}, \"showarrow\": false, \"text\": \"I = 2.0\", \"x\": -40.0, \"xref\": \"x1\", \"y\": -25.0, \"yref\": \"y1\"}, {\"font\": {\"color\": \"black\", \"size\": 15}, \"showarrow\": false, \"text\": \"I = 3.0\", \"x\": -40.0, \"xref\": \"x1\", \"y\": 0.0, \"yref\": \"y1\"}, {\"font\": {\"color\": \"yellow\", \"size\": 15}, \"showarrow\": false, \"text\": \"I = 8.0\", \"x\": 0.0, \"xref\": \"x1\", \"y\": 0.0, \"yref\": \"y1\"}, {\"font\": {\"color\": \"yellow\", \"size\": 15}, \"showarrow\": false, \"text\": \"I = 8.0\", \"x\": -10.0, \"xref\": \"x1\", \"y\": -10.0, \"yref\": \"y1\"}, {\"font\": {\"color\": \"black\", \"size\": 15}, \"showarrow\": false, \"text\": \"CENTRAL\", \"x\": -20.0, \"xref\": \"x1\", \"y\": 20.0, \"yref\": \"y1\"}, {\"font\": {\"color\": \"grey\", \"size\": 15}, \"showarrow\": false, \"text\": \"2.0  \", \"x\": 11.0, \"xref\": \"x1\", \"y\": 11.0, \"yref\": \"y1\"}, {\"font\": {\"color\": \"grey\", \"size\": 15}, \"showarrow\": false, \"text\": \"3.0  \", \"x\": 16.0, \"xref\": \"x1\", \"y\": 31.0, \"yref\": \"y1\"}, {\"font\": {\"color\": \"grey\", \"size\": 15}, \"showarrow\": false, \"text\": \"2.0  \", \"x\": 26.0, \"xref\": \"x1\", \"y\": 4.0, \"yref\": \"y1\"}, {\"font\": {\"color\": \"grey\", \"size\": 15}, \"showarrow\": false, \"text\": \"3.0  \", \"x\": 41.0, \"xref\": \"x1\", \"y\": 11.0, \"yref\": \"y1\"}, {\"font\": {\"color\": \"grey\", \"size\": 15}, \"showarrow\": false, \"text\": \"2.0  \", \"x\": -4.0, \"xref\": \"x1\", \"y\": -24.0, \"yref\": \"y1\"}, {\"font\": {\"color\": \"grey\", \"size\": 15}, \"showarrow\": false, \"text\": \"3.0  \", \"x\": -11.5, \"xref\": \"x1\", \"y\": -39.0, \"yref\": \"y1\"}, {\"font\": {\"color\": \"grey\", \"size\": 15}, \"showarrow\": false, \"text\": \"2.0  \", \"x\": -24.0, \"xref\": \"x1\", \"y\": -16.5, \"yref\": \"y1\"}, {\"font\": {\"color\": \"grey\", \"size\": 15}, \"showarrow\": false, \"text\": \"3.0  \", \"x\": -39.0, \"xref\": \"x1\", \"y\": -11.5, \"yref\": \"y1\"}], \"title\": \"WFP Inventory problem        Cost = 377.0          Total Cost = 2031.0   Truck 1 capacity : 5.0   Truck 2 capacity : 20\"}], \"label\": \"t = 6 (before lunch)\", \"method\": \"update\"}, {\"args\": [{\"visible\": [true, true, true, false, false, false, false, false, false, false, false, false, false, false, false, false, true, true, true, false, false, false, false, false, false, false, false, false, false, false, false, false, false, false, false, false, false, false, false, false, false, false, true, true, true, false, false, false, false, false, false, false, false, false, false, false, false]}, {\"annotations\": [{\"font\": {\"color\": \"black\", \"size\": 15}, \"showarrow\": false, \"text\": \"I = 2.0\", \"x\": 20.0, \"xref\": \"x1\", \"y\": 20.0, \"yref\": \"y1\"}, {\"font\": {\"color\": \"black\", \"size\": 15}, \"showarrow\": false, \"text\": \"I = 3.0\", \"x\": 10.0, \"xref\": \"x1\", \"y\": 40.0, \"yref\": \"y1\"}, {\"font\": {\"color\": \"black\", \"size\": 15}, \"showarrow\": false, \"text\": \"I = 2.0\", \"x\": 50.0, \"xref\": \"x1\", \"y\": 6.0, \"yref\": \"y1\"}, {\"font\": {\"color\": \"black\", \"size\": 15}, \"showarrow\": false, \"text\": \"I = 1.5\", \"x\": 30.0, \"xref\": \"x1\", \"y\": 14.0, \"yref\": \"y1\"}, {\"font\": {\"color\": \"black\", \"size\": 15}, \"showarrow\": false, \"text\": \"I = 2.0\", \"x\": 0.0, \"xref\": \"x1\", \"y\": -40.0, \"yref\": \"y1\"}, {\"font\": {\"color\": \"black\", \"size\": 15}, \"showarrow\": false, \"text\": \"I = 3.0\", \"x\": -25.0, \"xref\": \"x1\", \"y\": -40.0, \"yref\": \"y1\"}, {\"font\": {\"color\": \"black\", \"size\": 15}, \"showarrow\": false, \"text\": \"I = 2.0\", \"x\": -40.0, \"xref\": \"x1\", \"y\": -25.0, \"yref\": \"y1\"}, {\"font\": {\"color\": \"black\", \"size\": 15}, \"showarrow\": false, \"text\": \"I = 1.5\", \"x\": -40.0, \"xref\": \"x1\", \"y\": 0.0, \"yref\": \"y1\"}, {\"font\": {\"color\": \"yellow\", \"size\": 15}, \"showarrow\": false, \"text\": \"I = 3.0\", \"x\": 0.0, \"xref\": \"x1\", \"y\": 0.0, \"yref\": \"y1\"}, {\"font\": {\"color\": \"yellow\", \"size\": 15}, \"showarrow\": false, \"text\": \"I = 3.0\", \"x\": -10.0, \"xref\": \"x1\", \"y\": -10.0, \"yref\": \"y1\"}, {\"font\": {\"color\": \"black\", \"size\": 15}, \"showarrow\": false, \"text\": \"CENTRAL\", \"x\": -20.0, \"xref\": \"x1\", \"y\": 20.0, \"yref\": \"y1\"}, {\"font\": {\"color\": \"grey\", \"size\": 15}, \"showarrow\": false, \"text\": \"3.0  \", \"x\": 6.0, \"xref\": \"x1\", \"y\": 21.0, \"yref\": \"y1\"}, {\"font\": {\"color\": \"grey\", \"size\": 15}, \"showarrow\": false, \"text\": \"2.0  \", \"x\": 31.0, \"xref\": \"x1\", \"y\": 24.0, \"yref\": \"y1\"}, {\"font\": {\"color\": \"grey\", \"size\": 15}, \"showarrow\": false, \"text\": \"3.0  \", \"x\": -16.5, \"xref\": \"x1\", \"y\": -24.0, \"yref\": \"y1\"}, {\"font\": {\"color\": \"grey\", \"size\": 15}, \"showarrow\": false, \"text\": \"2.0  \", \"x\": -31.5, \"xref\": \"x1\", \"y\": -31.5, \"yref\": \"y1\"}], \"title\": \"WFP Inventory problem        Cost = 232.0          Total Cost = 2263.0   Truck 1 capacity : 5.0   Truck 2 capacity : 20\"}], \"label\": \"t = 7 (before lunch)\", \"method\": \"update\"}, {\"args\": [{\"visible\": [true, true, true, false, false, true, true, true, false, false, false, false, false, false, false, false, false, false, false, false, false, false, false, false, true, true, true, false, false, false, false, true, true, true, false, false, false, false, false, false, false, false, false, false, false, false, false, false, false, false, true, true, true, false, false, true, true]}, {\"annotations\": [{\"font\": {\"color\": \"black\", \"size\": 15}, \"showarrow\": false, \"text\": \"I = 3.0\", \"x\": 20.0, \"xref\": \"x1\", \"y\": 20.0, \"yref\": \"y1\"}, {\"font\": {\"color\": \"black\", \"size\": 15}, \"showarrow\": false, \"text\": \"I = 3.0\", \"x\": 10.0, \"xref\": \"x1\", \"y\": 40.0, \"yref\": \"y1\"}, {\"font\": {\"color\": \"black\", \"size\": 15}, \"showarrow\": false, \"text\": \"I = 2.0\", \"x\": 50.0, \"xref\": \"x1\", \"y\": 6.0, \"yref\": \"y1\"}, {\"font\": {\"color\": \"black\", \"size\": 15}, \"showarrow\": false, \"text\": \"I = 3.0\", \"x\": 30.0, \"xref\": \"x1\", \"y\": 14.0, \"yref\": \"y1\"}, {\"font\": {\"color\": \"black\", \"size\": 15}, \"showarrow\": false, \"text\": \"I = 3.0\", \"x\": 0.0, \"xref\": \"x1\", \"y\": -40.0, \"yref\": \"y1\"}, {\"font\": {\"color\": \"black\", \"size\": 15}, \"showarrow\": false, \"text\": \"I = 3.0\", \"x\": -25.0, \"xref\": \"x1\", \"y\": -40.0, \"yref\": \"y1\"}, {\"font\": {\"color\": \"black\", \"size\": 15}, \"showarrow\": false, \"text\": \"I = 2.0\", \"x\": -40.0, \"xref\": \"x1\", \"y\": -25.0, \"yref\": \"y1\"}, {\"font\": {\"color\": \"black\", \"size\": 15}, \"showarrow\": false, \"text\": \"I = 3.0\", \"x\": -40.0, \"xref\": \"x1\", \"y\": 0.0, \"yref\": \"y1\"}, {\"font\": {\"color\": \"yellow\", \"size\": 15}, \"showarrow\": false, \"text\": \"I = 13.0\", \"x\": 0.0, \"xref\": \"x1\", \"y\": 0.0, \"yref\": \"y1\"}, {\"font\": {\"color\": \"yellow\", \"size\": 15}, \"showarrow\": false, \"text\": \"I = 13.0\", \"x\": -10.0, \"xref\": \"x1\", \"y\": -10.0, \"yref\": \"y1\"}, {\"font\": {\"color\": \"black\", \"size\": 15}, \"showarrow\": false, \"text\": \"CENTRAL\", \"x\": -20.0, \"xref\": \"x1\", \"y\": 20.0, \"yref\": \"y1\"}, {\"font\": {\"color\": \"grey\", \"size\": 15}, \"showarrow\": false, \"text\": \"2.0  \", \"x\": 11.0, \"xref\": \"x1\", \"y\": 11.0, \"yref\": \"y1\"}, {\"font\": {\"color\": \"grey\", \"size\": 15}, \"showarrow\": false, \"text\": \"3.0  \", \"x\": 16.0, \"xref\": \"x1\", \"y\": 31.0, \"yref\": \"y1\"}, {\"font\": {\"color\": \"grey\", \"size\": 15}, \"showarrow\": false, \"text\": \"2.0  \", \"x\": 26.0, \"xref\": \"x1\", \"y\": 4.0, \"yref\": \"y1\"}, {\"font\": {\"color\": \"grey\", \"size\": 15}, \"showarrow\": false, \"text\": \"3.0  \", \"x\": 41.0, \"xref\": \"x1\", \"y\": 11.0, \"yref\": \"y1\"}, {\"font\": {\"color\": \"grey\", \"size\": 15}, \"showarrow\": false, \"text\": \"2.0  \", \"x\": -4.0, \"xref\": \"x1\", \"y\": -24.0, \"yref\": \"y1\"}, {\"font\": {\"color\": \"grey\", \"size\": 15}, \"showarrow\": false, \"text\": \"3.0  \", \"x\": -11.5, \"xref\": \"x1\", \"y\": -39.0, \"yref\": \"y1\"}, {\"font\": {\"color\": \"grey\", \"size\": 15}, \"showarrow\": false, \"text\": \"2.0  \", \"x\": -24.0, \"xref\": \"x1\", \"y\": -16.5, \"yref\": \"y1\"}, {\"font\": {\"color\": \"grey\", \"size\": 15}, \"showarrow\": false, \"text\": \"3.0  \", \"x\": -39.0, \"xref\": \"x1\", \"y\": -11.5, \"yref\": \"y1\"}], \"title\": \"WFP Inventory problem        Cost = 497.0          Total Cost = 2760.0   Truck 1 capacity : 5.0   Truck 2 capacity : 20\"}], \"label\": \"t = 8 (before lunch)\", \"method\": \"update\"}, {\"args\": [{\"visible\": [true, true, true, false, false, false, false, false, false, false, false, false, false, false, false, false, true, true, true, false, false, false, false, false, false, false, false, false, false, false, false, false, false, false, false, false, false, false, false, false, false, false, true, true, true, false, false, false, false, false, false, false, false, false, false, false, false]}, {\"annotations\": [{\"font\": {\"color\": \"black\", \"size\": 15}, \"showarrow\": false, \"text\": \"I = 2.0\", \"x\": 20.0, \"xref\": \"x1\", \"y\": 20.0, \"yref\": \"y1\"}, {\"font\": {\"color\": \"black\", \"size\": 15}, \"showarrow\": false, \"text\": \"I = 3.0\", \"x\": 10.0, \"xref\": \"x1\", \"y\": 40.0, \"yref\": \"y1\"}, {\"font\": {\"color\": \"black\", \"size\": 15}, \"showarrow\": false, \"text\": \"I = 2.0\", \"x\": 50.0, \"xref\": \"x1\", \"y\": 6.0, \"yref\": \"y1\"}, {\"font\": {\"color\": \"black\", \"size\": 15}, \"showarrow\": false, \"text\": \"I = 1.5\", \"x\": 30.0, \"xref\": \"x1\", \"y\": 14.0, \"yref\": \"y1\"}, {\"font\": {\"color\": \"black\", \"size\": 15}, \"showarrow\": false, \"text\": \"I = 2.0\", \"x\": 0.0, \"xref\": \"x1\", \"y\": -40.0, \"yref\": \"y1\"}, {\"font\": {\"color\": \"black\", \"size\": 15}, \"showarrow\": false, \"text\": \"I = 3.0\", \"x\": -25.0, \"xref\": \"x1\", \"y\": -40.0, \"yref\": \"y1\"}, {\"font\": {\"color\": \"black\", \"size\": 15}, \"showarrow\": false, \"text\": \"I = 2.0\", \"x\": -40.0, \"xref\": \"x1\", \"y\": -25.0, \"yref\": \"y1\"}, {\"font\": {\"color\": \"black\", \"size\": 15}, \"showarrow\": false, \"text\": \"I = 1.5\", \"x\": -40.0, \"xref\": \"x1\", \"y\": 0.0, \"yref\": \"y1\"}, {\"font\": {\"color\": \"yellow\", \"size\": 15}, \"showarrow\": false, \"text\": \"I = 8.0\", \"x\": 0.0, \"xref\": \"x1\", \"y\": 0.0, \"yref\": \"y1\"}, {\"font\": {\"color\": \"yellow\", \"size\": 15}, \"showarrow\": false, \"text\": \"I = 8.0\", \"x\": -10.0, \"xref\": \"x1\", \"y\": -10.0, \"yref\": \"y1\"}, {\"font\": {\"color\": \"black\", \"size\": 15}, \"showarrow\": false, \"text\": \"CENTRAL\", \"x\": -20.0, \"xref\": \"x1\", \"y\": 20.0, \"yref\": \"y1\"}, {\"font\": {\"color\": \"grey\", \"size\": 15}, \"showarrow\": false, \"text\": \"3.0  \", \"x\": 6.0, \"xref\": \"x1\", \"y\": 21.0, \"yref\": \"y1\"}, {\"font\": {\"color\": \"grey\", \"size\": 15}, \"showarrow\": false, \"text\": \"2.0  \", \"x\": 31.0, \"xref\": \"x1\", \"y\": 24.0, \"yref\": \"y1\"}, {\"font\": {\"color\": \"grey\", \"size\": 15}, \"showarrow\": false, \"text\": \"3.0  \", \"x\": -16.5, \"xref\": \"x1\", \"y\": -24.0, \"yref\": \"y1\"}, {\"font\": {\"color\": \"grey\", \"size\": 15}, \"showarrow\": false, \"text\": \"2.0  \", \"x\": -31.5, \"xref\": \"x1\", \"y\": -31.5, \"yref\": \"y1\"}], \"title\": \"WFP Inventory problem        Cost = 232.0          Total Cost = 2993.0   Truck 1 capacity : 5.0   Truck 2 capacity : 20\"}], \"label\": \"t = 9 (before lunch)\", \"method\": \"update\"}, {\"args\": [{\"visible\": [true, true, true, false, false, true, true, true, false, false, false, false, false, false, false, false, false, false, false, false, false, false, false, false, true, true, true, false, false, false, false, true, true, true, false, false, false, false, false, false, false, false, false, false, false, false, false, false, false, false, true, true, true, false, false, true, true]}, {\"annotations\": [{\"font\": {\"color\": \"black\", \"size\": 15}, \"showarrow\": false, \"text\": \"I = 3.0\", \"x\": 20.0, \"xref\": \"x1\", \"y\": 20.0, \"yref\": \"y1\"}, {\"font\": {\"color\": \"black\", \"size\": 15}, \"showarrow\": false, \"text\": \"I = 3.0\", \"x\": 10.0, \"xref\": \"x1\", \"y\": 40.0, \"yref\": \"y1\"}, {\"font\": {\"color\": \"black\", \"size\": 15}, \"showarrow\": false, \"text\": \"I = 2.0\", \"x\": 50.0, \"xref\": \"x1\", \"y\": 6.0, \"yref\": \"y1\"}, {\"font\": {\"color\": \"black\", \"size\": 15}, \"showarrow\": false, \"text\": \"I = 3.0\", \"x\": 30.0, \"xref\": \"x1\", \"y\": 14.0, \"yref\": \"y1\"}, {\"font\": {\"color\": \"black\", \"size\": 15}, \"showarrow\": false, \"text\": \"I = 3.0\", \"x\": 0.0, \"xref\": \"x1\", \"y\": -40.0, \"yref\": \"y1\"}, {\"font\": {\"color\": \"black\", \"size\": 15}, \"showarrow\": false, \"text\": \"I = 3.0\", \"x\": -25.0, \"xref\": \"x1\", \"y\": -40.0, \"yref\": \"y1\"}, {\"font\": {\"color\": \"black\", \"size\": 15}, \"showarrow\": false, \"text\": \"I = 2.0\", \"x\": -40.0, \"xref\": \"x1\", \"y\": -25.0, \"yref\": \"y1\"}, {\"font\": {\"color\": \"black\", \"size\": 15}, \"showarrow\": false, \"text\": \"I = 3.0\", \"x\": -40.0, \"xref\": \"x1\", \"y\": 0.0, \"yref\": \"y1\"}, {\"font\": {\"color\": \"yellow\", \"size\": 15}, \"showarrow\": false, \"text\": \"I = 18.0\", \"x\": 0.0, \"xref\": \"x1\", \"y\": 0.0, \"yref\": \"y1\"}, {\"font\": {\"color\": \"yellow\", \"size\": 15}, \"showarrow\": false, \"text\": \"I = 18.0\", \"x\": -10.0, \"xref\": \"x1\", \"y\": -10.0, \"yref\": \"y1\"}, {\"font\": {\"color\": \"black\", \"size\": 15}, \"showarrow\": false, \"text\": \"CENTRAL\", \"x\": -20.0, \"xref\": \"x1\", \"y\": 20.0, \"yref\": \"y1\"}, {\"font\": {\"color\": \"grey\", \"size\": 15}, \"showarrow\": false, \"text\": \"2.0  \", \"x\": 11.0, \"xref\": \"x1\", \"y\": 11.0, \"yref\": \"y1\"}, {\"font\": {\"color\": \"grey\", \"size\": 15}, \"showarrow\": false, \"text\": \"3.0  \", \"x\": 16.0, \"xref\": \"x1\", \"y\": 31.0, \"yref\": \"y1\"}, {\"font\": {\"color\": \"grey\", \"size\": 15}, \"showarrow\": false, \"text\": \"2.0  \", \"x\": 26.0, \"xref\": \"x1\", \"y\": 4.0, \"yref\": \"y1\"}, {\"font\": {\"color\": \"grey\", \"size\": 15}, \"showarrow\": false, \"text\": \"3.0  \", \"x\": 41.0, \"xref\": \"x1\", \"y\": 11.0, \"yref\": \"y1\"}, {\"font\": {\"color\": \"grey\", \"size\": 15}, \"showarrow\": false, \"text\": \"2.0  \", \"x\": -4.0, \"xref\": \"x1\", \"y\": -24.0, \"yref\": \"y1\"}, {\"font\": {\"color\": \"grey\", \"size\": 15}, \"showarrow\": false, \"text\": \"3.0  \", \"x\": -11.5, \"xref\": \"x1\", \"y\": -39.0, \"yref\": \"y1\"}, {\"font\": {\"color\": \"grey\", \"size\": 15}, \"showarrow\": false, \"text\": \"2.0  \", \"x\": -24.0, \"xref\": \"x1\", \"y\": -16.5, \"yref\": \"y1\"}, {\"font\": {\"color\": \"grey\", \"size\": 15}, \"showarrow\": false, \"text\": \"3.0  \", \"x\": -39.0, \"xref\": \"x1\", \"y\": -11.5, \"yref\": \"y1\"}], \"title\": \"WFP Inventory problem        Cost = 497.0          Total Cost = 3490.0   Truck 1 capacity : 5.0   Truck 2 capacity : 20\"}], \"label\": \"t = 10 (before lunch)\", \"method\": \"update\"}, {\"args\": [{\"visible\": [true, true, true, false, false, false, false, false, false, false, false, false, false, false, false, false, true, true, true, false, false, false, false, false, false, false, false, false, false, false, false, false, false, false, false, false, false, false, false, false, false, false, true, true, true, false, false, false, false, false, false, false, false, false, false, false, false]}, {\"annotations\": [{\"font\": {\"color\": \"black\", \"size\": 15}, \"showarrow\": false, \"text\": \"I = 2.0\", \"x\": 20.0, \"xref\": \"x1\", \"y\": 20.0, \"yref\": \"y1\"}, {\"font\": {\"color\": \"black\", \"size\": 15}, \"showarrow\": false, \"text\": \"I = 3.0\", \"x\": 10.0, \"xref\": \"x1\", \"y\": 40.0, \"yref\": \"y1\"}, {\"font\": {\"color\": \"black\", \"size\": 15}, \"showarrow\": false, \"text\": \"I = 2.0\", \"x\": 50.0, \"xref\": \"x1\", \"y\": 6.0, \"yref\": \"y1\"}, {\"font\": {\"color\": \"black\", \"size\": 15}, \"showarrow\": false, \"text\": \"I = 1.5\", \"x\": 30.0, \"xref\": \"x1\", \"y\": 14.0, \"yref\": \"y1\"}, {\"font\": {\"color\": \"black\", \"size\": 15}, \"showarrow\": false, \"text\": \"I = 2.0\", \"x\": 0.0, \"xref\": \"x1\", \"y\": -40.0, \"yref\": \"y1\"}, {\"font\": {\"color\": \"black\", \"size\": 15}, \"showarrow\": false, \"text\": \"I = 3.0\", \"x\": -25.0, \"xref\": \"x1\", \"y\": -40.0, \"yref\": \"y1\"}, {\"font\": {\"color\": \"black\", \"size\": 15}, \"showarrow\": false, \"text\": \"I = 2.0\", \"x\": -40.0, \"xref\": \"x1\", \"y\": -25.0, \"yref\": \"y1\"}, {\"font\": {\"color\": \"black\", \"size\": 15}, \"showarrow\": false, \"text\": \"I = 1.5\", \"x\": -40.0, \"xref\": \"x1\", \"y\": 0.0, \"yref\": \"y1\"}, {\"font\": {\"color\": \"yellow\", \"size\": 15}, \"showarrow\": false, \"text\": \"I = 13.0\", \"x\": 0.0, \"xref\": \"x1\", \"y\": 0.0, \"yref\": \"y1\"}, {\"font\": {\"color\": \"yellow\", \"size\": 15}, \"showarrow\": false, \"text\": \"I = 13.0\", \"x\": -10.0, \"xref\": \"x1\", \"y\": -10.0, \"yref\": \"y1\"}, {\"font\": {\"color\": \"black\", \"size\": 15}, \"showarrow\": false, \"text\": \"CENTRAL\", \"x\": -20.0, \"xref\": \"x1\", \"y\": 20.0, \"yref\": \"y1\"}, {\"font\": {\"color\": \"grey\", \"size\": 15}, \"showarrow\": false, \"text\": \"3.0  \", \"x\": 6.0, \"xref\": \"x1\", \"y\": 21.0, \"yref\": \"y1\"}, {\"font\": {\"color\": \"grey\", \"size\": 15}, \"showarrow\": false, \"text\": \"2.0  \", \"x\": 31.0, \"xref\": \"x1\", \"y\": 24.0, \"yref\": \"y1\"}, {\"font\": {\"color\": \"grey\", \"size\": 15}, \"showarrow\": false, \"text\": \"3.0  \", \"x\": -16.5, \"xref\": \"x1\", \"y\": -24.0, \"yref\": \"y1\"}, {\"font\": {\"color\": \"grey\", \"size\": 15}, \"showarrow\": false, \"text\": \"2.0  \", \"x\": -31.5, \"xref\": \"x1\", \"y\": -31.5, \"yref\": \"y1\"}], \"title\": \"WFP Inventory problem        Cost = 232.0          Total Cost = 3722.0   Truck 1 capacity : 5.0   Truck 2 capacity : 20\"}], \"label\": \"t = 11 (before lunch)\", \"method\": \"update\"}, {\"args\": [{\"visible\": [true, true, true, false, false, true, true, true, false, false, false, false, false, false, false, false, false, false, false, false, false, false, false, false, true, true, true, false, false, false, false, true, true, true, false, false, false, false, false, false, false, false, false, false, false, false, false, false, false, false, true, true, true, false, false, false, false]}, {\"annotations\": [{\"font\": {\"color\": \"black\", \"size\": 15}, \"showarrow\": false, \"text\": \"I = 3.0\", \"x\": 20.0, \"xref\": \"x1\", \"y\": 20.0, \"yref\": \"y1\"}, {\"font\": {\"color\": \"black\", \"size\": 15}, \"showarrow\": false, \"text\": \"I = 3.0\", \"x\": 10.0, \"xref\": \"x1\", \"y\": 40.0, \"yref\": \"y1\"}, {\"font\": {\"color\": \"black\", \"size\": 15}, \"showarrow\": false, \"text\": \"I = 2.0\", \"x\": 50.0, \"xref\": \"x1\", \"y\": 6.0, \"yref\": \"y1\"}, {\"font\": {\"color\": \"black\", \"size\": 15}, \"showarrow\": false, \"text\": \"I = 3.0\", \"x\": 30.0, \"xref\": \"x1\", \"y\": 14.0, \"yref\": \"y1\"}, {\"font\": {\"color\": \"black\", \"size\": 15}, \"showarrow\": false, \"text\": \"I = 3.0\", \"x\": 0.0, \"xref\": \"x1\", \"y\": -40.0, \"yref\": \"y1\"}, {\"font\": {\"color\": \"black\", \"size\": 15}, \"showarrow\": false, \"text\": \"I = 3.0\", \"x\": -25.0, \"xref\": \"x1\", \"y\": -40.0, \"yref\": \"y1\"}, {\"font\": {\"color\": \"black\", \"size\": 15}, \"showarrow\": false, \"text\": \"I = 2.0\", \"x\": -40.0, \"xref\": \"x1\", \"y\": -25.0, \"yref\": \"y1\"}, {\"font\": {\"color\": \"black\", \"size\": 15}, \"showarrow\": false, \"text\": \"I = 3.0\", \"x\": -40.0, \"xref\": \"x1\", \"y\": 0.0, \"yref\": \"y1\"}, {\"font\": {\"color\": \"yellow\", \"size\": 15}, \"showarrow\": false, \"text\": \"I = 3.0\", \"x\": 0.0, \"xref\": \"x1\", \"y\": 0.0, \"yref\": \"y1\"}, {\"font\": {\"color\": \"yellow\", \"size\": 15}, \"showarrow\": false, \"text\": \"I = 3.0\", \"x\": -10.0, \"xref\": \"x1\", \"y\": -10.0, \"yref\": \"y1\"}, {\"font\": {\"color\": \"black\", \"size\": 15}, \"showarrow\": false, \"text\": \"CENTRAL\", \"x\": -20.0, \"xref\": \"x1\", \"y\": 20.0, \"yref\": \"y1\"}, {\"font\": {\"color\": \"grey\", \"size\": 15}, \"showarrow\": false, \"text\": \"2.0  \", \"x\": 11.0, \"xref\": \"x1\", \"y\": 11.0, \"yref\": \"y1\"}, {\"font\": {\"color\": \"grey\", \"size\": 15}, \"showarrow\": false, \"text\": \"3.0  \", \"x\": 16.0, \"xref\": \"x1\", \"y\": 31.0, \"yref\": \"y1\"}, {\"font\": {\"color\": \"grey\", \"size\": 15}, \"showarrow\": false, \"text\": \"2.0  \", \"x\": 26.0, \"xref\": \"x1\", \"y\": 4.0, \"yref\": \"y1\"}, {\"font\": {\"color\": \"grey\", \"size\": 15}, \"showarrow\": false, \"text\": \"3.0  \", \"x\": 41.0, \"xref\": \"x1\", \"y\": 11.0, \"yref\": \"y1\"}, {\"font\": {\"color\": \"grey\", \"size\": 15}, \"showarrow\": false, \"text\": \"2.0  \", \"x\": -4.0, \"xref\": \"x1\", \"y\": -24.0, \"yref\": \"y1\"}, {\"font\": {\"color\": \"grey\", \"size\": 15}, \"showarrow\": false, \"text\": \"3.0  \", \"x\": -11.5, \"xref\": \"x1\", \"y\": -39.0, \"yref\": \"y1\"}, {\"font\": {\"color\": \"grey\", \"size\": 15}, \"showarrow\": false, \"text\": \"2.0  \", \"x\": -24.0, \"xref\": \"x1\", \"y\": -16.5, \"yref\": \"y1\"}, {\"font\": {\"color\": \"grey\", \"size\": 15}, \"showarrow\": false, \"text\": \"3.0  \", \"x\": -39.0, \"xref\": \"x1\", \"y\": -11.5, \"yref\": \"y1\"}], \"title\": \"WFP Inventory problem        Cost = 377.0          Total Cost = 4099.0   Truck 1 capacity : 5.0   Truck 2 capacity : 20\"}], \"label\": \"t = 12 (before lunch)\", \"method\": \"update\"}, {\"args\": [{\"visible\": [true, true, true, false, false, false, false, false, false, false, false, false, false, false, false, false, true, true, true, false, false, false, false, false, false, false, false, false, false, false, false, false, false, false, false, false, false, false, false, false, false, false, true, true, true, false, false, false, false, false, false, false, false, false, false, true, true]}, {\"annotations\": [{\"font\": {\"color\": \"black\", \"size\": 15}, \"showarrow\": false, \"text\": \"I = 2.0\", \"x\": 20.0, \"xref\": \"x1\", \"y\": 20.0, \"yref\": \"y1\"}, {\"font\": {\"color\": \"black\", \"size\": 15}, \"showarrow\": false, \"text\": \"I = 3.0\", \"x\": 10.0, \"xref\": \"x1\", \"y\": 40.0, \"yref\": \"y1\"}, {\"font\": {\"color\": \"black\", \"size\": 15}, \"showarrow\": false, \"text\": \"I = 2.0\", \"x\": 50.0, \"xref\": \"x1\", \"y\": 6.0, \"yref\": \"y1\"}, {\"font\": {\"color\": \"black\", \"size\": 15}, \"showarrow\": false, \"text\": \"I = 1.5\", \"x\": 30.0, \"xref\": \"x1\", \"y\": 14.0, \"yref\": \"y1\"}, {\"font\": {\"color\": \"black\", \"size\": 15}, \"showarrow\": false, \"text\": \"I = 2.0\", \"x\": 0.0, \"xref\": \"x1\", \"y\": -40.0, \"yref\": \"y1\"}, {\"font\": {\"color\": \"black\", \"size\": 15}, \"showarrow\": false, \"text\": \"I = 3.0\", \"x\": -25.0, \"xref\": \"x1\", \"y\": -40.0, \"yref\": \"y1\"}, {\"font\": {\"color\": \"black\", \"size\": 15}, \"showarrow\": false, \"text\": \"I = 2.0\", \"x\": -40.0, \"xref\": \"x1\", \"y\": -25.0, \"yref\": \"y1\"}, {\"font\": {\"color\": \"black\", \"size\": 15}, \"showarrow\": false, \"text\": \"I = 1.5\", \"x\": -40.0, \"xref\": \"x1\", \"y\": 0.0, \"yref\": \"y1\"}, {\"font\": {\"color\": \"yellow\", \"size\": 15}, \"showarrow\": false, \"text\": \"I = 18.0\", \"x\": 0.0, \"xref\": \"x1\", \"y\": 0.0, \"yref\": \"y1\"}, {\"font\": {\"color\": \"yellow\", \"size\": 15}, \"showarrow\": false, \"text\": \"I = 18.0\", \"x\": -10.0, \"xref\": \"x1\", \"y\": -10.0, \"yref\": \"y1\"}, {\"font\": {\"color\": \"black\", \"size\": 15}, \"showarrow\": false, \"text\": \"CENTRAL\", \"x\": -20.0, \"xref\": \"x1\", \"y\": 20.0, \"yref\": \"y1\"}, {\"font\": {\"color\": \"grey\", \"size\": 15}, \"showarrow\": false, \"text\": \"3.0  \", \"x\": 6.0, \"xref\": \"x1\", \"y\": 21.0, \"yref\": \"y1\"}, {\"font\": {\"color\": \"grey\", \"size\": 15}, \"showarrow\": false, \"text\": \"2.0  \", \"x\": 31.0, \"xref\": \"x1\", \"y\": 24.0, \"yref\": \"y1\"}, {\"font\": {\"color\": \"grey\", \"size\": 15}, \"showarrow\": false, \"text\": \"3.0  \", \"x\": -16.5, \"xref\": \"x1\", \"y\": -24.0, \"yref\": \"y1\"}, {\"font\": {\"color\": \"grey\", \"size\": 15}, \"showarrow\": false, \"text\": \"2.0  \", \"x\": -31.5, \"xref\": \"x1\", \"y\": -31.5, \"yref\": \"y1\"}], \"title\": \"WFP Inventory problem        Cost = 352.0          Total Cost = 4452.0   Truck 1 capacity : 5.0   Truck 2 capacity : 20\"}], \"label\": \"t = 13 (before lunch)\", \"method\": \"update\"}, {\"args\": [{\"visible\": [true, true, true, false, false, true, true, true, false, false, false, false, false, false, false, false, false, false, false, false, false, false, false, false, true, true, true, false, false, false, false, true, true, true, false, false, false, false, false, false, false, false, false, false, false, false, false, false, false, false, true, true, true, false, false, false, false]}, {\"annotations\": [{\"font\": {\"color\": \"black\", \"size\": 15}, \"showarrow\": false, \"text\": \"I = 3.0\", \"x\": 20.0, \"xref\": \"x1\", \"y\": 20.0, \"yref\": \"y1\"}, {\"font\": {\"color\": \"black\", \"size\": 15}, \"showarrow\": false, \"text\": \"I = 3.0\", \"x\": 10.0, \"xref\": \"x1\", \"y\": 40.0, \"yref\": \"y1\"}, {\"font\": {\"color\": \"black\", \"size\": 15}, \"showarrow\": false, \"text\": \"I = 2.0\", \"x\": 50.0, \"xref\": \"x1\", \"y\": 6.0, \"yref\": \"y1\"}, {\"font\": {\"color\": \"black\", \"size\": 15}, \"showarrow\": false, \"text\": \"I = 3.0\", \"x\": 30.0, \"xref\": \"x1\", \"y\": 14.0, \"yref\": \"y1\"}, {\"font\": {\"color\": \"black\", \"size\": 15}, \"showarrow\": false, \"text\": \"I = 3.0\", \"x\": 0.0, \"xref\": \"x1\", \"y\": -40.0, \"yref\": \"y1\"}, {\"font\": {\"color\": \"black\", \"size\": 15}, \"showarrow\": false, \"text\": \"I = 3.0\", \"x\": -25.0, \"xref\": \"x1\", \"y\": -40.0, \"yref\": \"y1\"}, {\"font\": {\"color\": \"black\", \"size\": 15}, \"showarrow\": false, \"text\": \"I = 2.0\", \"x\": -40.0, \"xref\": \"x1\", \"y\": -25.0, \"yref\": \"y1\"}, {\"font\": {\"color\": \"black\", \"size\": 15}, \"showarrow\": false, \"text\": \"I = 3.0\", \"x\": -40.0, \"xref\": \"x1\", \"y\": 0.0, \"yref\": \"y1\"}, {\"font\": {\"color\": \"yellow\", \"size\": 15}, \"showarrow\": false, \"text\": \"I = 8.0\", \"x\": 0.0, \"xref\": \"x1\", \"y\": 0.0, \"yref\": \"y1\"}, {\"font\": {\"color\": \"yellow\", \"size\": 15}, \"showarrow\": false, \"text\": \"I = 8.0\", \"x\": -10.0, \"xref\": \"x1\", \"y\": -10.0, \"yref\": \"y1\"}, {\"font\": {\"color\": \"black\", \"size\": 15}, \"showarrow\": false, \"text\": \"CENTRAL\", \"x\": -20.0, \"xref\": \"x1\", \"y\": 20.0, \"yref\": \"y1\"}, {\"font\": {\"color\": \"grey\", \"size\": 15}, \"showarrow\": false, \"text\": \"2.0  \", \"x\": 11.0, \"xref\": \"x1\", \"y\": 11.0, \"yref\": \"y1\"}, {\"font\": {\"color\": \"grey\", \"size\": 15}, \"showarrow\": false, \"text\": \"3.0  \", \"x\": 16.0, \"xref\": \"x1\", \"y\": 31.0, \"yref\": \"y1\"}, {\"font\": {\"color\": \"grey\", \"size\": 15}, \"showarrow\": false, \"text\": \"2.0  \", \"x\": 26.0, \"xref\": \"x1\", \"y\": 4.0, \"yref\": \"y1\"}, {\"font\": {\"color\": \"grey\", \"size\": 15}, \"showarrow\": false, \"text\": \"3.0  \", \"x\": 41.0, \"xref\": \"x1\", \"y\": 11.0, \"yref\": \"y1\"}, {\"font\": {\"color\": \"grey\", \"size\": 15}, \"showarrow\": false, \"text\": \"2.0  \", \"x\": -4.0, \"xref\": \"x1\", \"y\": -24.0, \"yref\": \"y1\"}, {\"font\": {\"color\": \"grey\", \"size\": 15}, \"showarrow\": false, \"text\": \"3.0  \", \"x\": -11.5, \"xref\": \"x1\", \"y\": -39.0, \"yref\": \"y1\"}, {\"font\": {\"color\": \"grey\", \"size\": 15}, \"showarrow\": false, \"text\": \"2.0  \", \"x\": -24.0, \"xref\": \"x1\", \"y\": -16.5, \"yref\": \"y1\"}, {\"font\": {\"color\": \"grey\", \"size\": 15}, \"showarrow\": false, \"text\": \"3.0  \", \"x\": -39.0, \"xref\": \"x1\", \"y\": -11.5, \"yref\": \"y1\"}], \"title\": \"WFP Inventory problem        Cost = 377.0          Total Cost = 4829.0   Truck 1 capacity : 5.0   Truck 2 capacity : 20\"}], \"label\": \"t = 14 (before lunch)\", \"method\": \"update\"}, {\"args\": [{\"visible\": [true, true, true, false, false, false, false, false, false, false, false, false, false, false, false, false, true, true, true, false, false, false, false, false, false, false, false, false, false, false, false, false, false, false, false, false, false, false, false, false, false, false, true, true, true, false, false, false, false, false, false, false, false, false, false, false, false]}, {\"annotations\": [{\"font\": {\"color\": \"black\", \"size\": 15}, \"showarrow\": false, \"text\": \"I = 2.0\", \"x\": 20.0, \"xref\": \"x1\", \"y\": 20.0, \"yref\": \"y1\"}, {\"font\": {\"color\": \"black\", \"size\": 15}, \"showarrow\": false, \"text\": \"I = 3.0\", \"x\": 10.0, \"xref\": \"x1\", \"y\": 40.0, \"yref\": \"y1\"}, {\"font\": {\"color\": \"black\", \"size\": 15}, \"showarrow\": false, \"text\": \"I = 2.0\", \"x\": 50.0, \"xref\": \"x1\", \"y\": 6.0, \"yref\": \"y1\"}, {\"font\": {\"color\": \"black\", \"size\": 15}, \"showarrow\": false, \"text\": \"I = 1.5\", \"x\": 30.0, \"xref\": \"x1\", \"y\": 14.0, \"yref\": \"y1\"}, {\"font\": {\"color\": \"black\", \"size\": 15}, \"showarrow\": false, \"text\": \"I = 2.0\", \"x\": 0.0, \"xref\": \"x1\", \"y\": -40.0, \"yref\": \"y1\"}, {\"font\": {\"color\": \"black\", \"size\": 15}, \"showarrow\": false, \"text\": \"I = 3.0\", \"x\": -25.0, \"xref\": \"x1\", \"y\": -40.0, \"yref\": \"y1\"}, {\"font\": {\"color\": \"black\", \"size\": 15}, \"showarrow\": false, \"text\": \"I = 2.0\", \"x\": -40.0, \"xref\": \"x1\", \"y\": -25.0, \"yref\": \"y1\"}, {\"font\": {\"color\": \"black\", \"size\": 15}, \"showarrow\": false, \"text\": \"I = 1.5\", \"x\": -40.0, \"xref\": \"x1\", \"y\": 0.0, \"yref\": \"y1\"}, {\"font\": {\"color\": \"yellow\", \"size\": 15}, \"showarrow\": false, \"text\": \"I = 3.0\", \"x\": 0.0, \"xref\": \"x1\", \"y\": 0.0, \"yref\": \"y1\"}, {\"font\": {\"color\": \"yellow\", \"size\": 15}, \"showarrow\": false, \"text\": \"I = 3.0\", \"x\": -10.0, \"xref\": \"x1\", \"y\": -10.0, \"yref\": \"y1\"}, {\"font\": {\"color\": \"black\", \"size\": 15}, \"showarrow\": false, \"text\": \"CENTRAL\", \"x\": -20.0, \"xref\": \"x1\", \"y\": 20.0, \"yref\": \"y1\"}, {\"font\": {\"color\": \"grey\", \"size\": 15}, \"showarrow\": false, \"text\": \"3.0  \", \"x\": 6.0, \"xref\": \"x1\", \"y\": 21.0, \"yref\": \"y1\"}, {\"font\": {\"color\": \"grey\", \"size\": 15}, \"showarrow\": false, \"text\": \"2.0  \", \"x\": 31.0, \"xref\": \"x1\", \"y\": 24.0, \"yref\": \"y1\"}, {\"font\": {\"color\": \"grey\", \"size\": 15}, \"showarrow\": false, \"text\": \"3.0  \", \"x\": -16.5, \"xref\": \"x1\", \"y\": -24.0, \"yref\": \"y1\"}, {\"font\": {\"color\": \"grey\", \"size\": 15}, \"showarrow\": false, \"text\": \"2.0  \", \"x\": -31.5, \"xref\": \"x1\", \"y\": -31.5, \"yref\": \"y1\"}], \"title\": \"WFP Inventory problem        Cost = 232.0          Total Cost = 5061.0   Truck 1 capacity : 5.0   Truck 2 capacity : 20\"}], \"label\": \"t = 15 (before lunch)\", \"method\": \"update\"}, {\"args\": [{\"visible\": [true, true, true, false, false, true, true, true, false, false, false, false, false, false, false, false, false, false, false, false, false, false, false, false, true, true, true, false, false, false, false, true, true, true, false, false, false, false, false, false, false, false, false, false, false, false, false, false, false, false, true, true, true, false, false, true, true]}, {\"annotations\": [{\"font\": {\"color\": \"black\", \"size\": 15}, \"showarrow\": false, \"text\": \"I = 3.0\", \"x\": 20.0, \"xref\": \"x1\", \"y\": 20.0, \"yref\": \"y1\"}, {\"font\": {\"color\": \"black\", \"size\": 15}, \"showarrow\": false, \"text\": \"I = 3.0\", \"x\": 10.0, \"xref\": \"x1\", \"y\": 40.0, \"yref\": \"y1\"}, {\"font\": {\"color\": \"black\", \"size\": 15}, \"showarrow\": false, \"text\": \"I = 2.0\", \"x\": 50.0, \"xref\": \"x1\", \"y\": 6.0, \"yref\": \"y1\"}, {\"font\": {\"color\": \"black\", \"size\": 15}, \"showarrow\": false, \"text\": \"I = 3.0\", \"x\": 30.0, \"xref\": \"x1\", \"y\": 14.0, \"yref\": \"y1\"}, {\"font\": {\"color\": \"black\", \"size\": 15}, \"showarrow\": false, \"text\": \"I = 3.0\", \"x\": 0.0, \"xref\": \"x1\", \"y\": -40.0, \"yref\": \"y1\"}, {\"font\": {\"color\": \"black\", \"size\": 15}, \"showarrow\": false, \"text\": \"I = 3.0\", \"x\": -25.0, \"xref\": \"x1\", \"y\": -40.0, \"yref\": \"y1\"}, {\"font\": {\"color\": \"black\", \"size\": 15}, \"showarrow\": false, \"text\": \"I = 2.0\", \"x\": -40.0, \"xref\": \"x1\", \"y\": -25.0, \"yref\": \"y1\"}, {\"font\": {\"color\": \"black\", \"size\": 15}, \"showarrow\": false, \"text\": \"I = 3.0\", \"x\": -40.0, \"xref\": \"x1\", \"y\": 0.0, \"yref\": \"y1\"}, {\"font\": {\"color\": \"yellow\", \"size\": 15}, \"showarrow\": false, \"text\": \"I = 13.0\", \"x\": 0.0, \"xref\": \"x1\", \"y\": 0.0, \"yref\": \"y1\"}, {\"font\": {\"color\": \"yellow\", \"size\": 15}, \"showarrow\": false, \"text\": \"I = 13.0\", \"x\": -10.0, \"xref\": \"x1\", \"y\": -10.0, \"yref\": \"y1\"}, {\"font\": {\"color\": \"black\", \"size\": 15}, \"showarrow\": false, \"text\": \"CENTRAL\", \"x\": -20.0, \"xref\": \"x1\", \"y\": 20.0, \"yref\": \"y1\"}, {\"font\": {\"color\": \"grey\", \"size\": 15}, \"showarrow\": false, \"text\": \"2.0  \", \"x\": 11.0, \"xref\": \"x1\", \"y\": 11.0, \"yref\": \"y1\"}, {\"font\": {\"color\": \"grey\", \"size\": 15}, \"showarrow\": false, \"text\": \"3.0  \", \"x\": 16.0, \"xref\": \"x1\", \"y\": 31.0, \"yref\": \"y1\"}, {\"font\": {\"color\": \"grey\", \"size\": 15}, \"showarrow\": false, \"text\": \"2.0  \", \"x\": 26.0, \"xref\": \"x1\", \"y\": 4.0, \"yref\": \"y1\"}, {\"font\": {\"color\": \"grey\", \"size\": 15}, \"showarrow\": false, \"text\": \"3.0  \", \"x\": 41.0, \"xref\": \"x1\", \"y\": 11.0, \"yref\": \"y1\"}, {\"font\": {\"color\": \"grey\", \"size\": 15}, \"showarrow\": false, \"text\": \"2.0  \", \"x\": -4.0, \"xref\": \"x1\", \"y\": -24.0, \"yref\": \"y1\"}, {\"font\": {\"color\": \"grey\", \"size\": 15}, \"showarrow\": false, \"text\": \"3.0  \", \"x\": -11.5, \"xref\": \"x1\", \"y\": -39.0, \"yref\": \"y1\"}, {\"font\": {\"color\": \"grey\", \"size\": 15}, \"showarrow\": false, \"text\": \"2.0  \", \"x\": -24.0, \"xref\": \"x1\", \"y\": -16.5, \"yref\": \"y1\"}, {\"font\": {\"color\": \"grey\", \"size\": 15}, \"showarrow\": false, \"text\": \"3.0  \", \"x\": -39.0, \"xref\": \"x1\", \"y\": -11.5, \"yref\": \"y1\"}], \"title\": \"WFP Inventory problem        Cost = 497.0          Total Cost = 5559.0   Truck 1 capacity : 5.0   Truck 2 capacity : 20\"}], \"label\": \"t = 16 (before lunch)\", \"method\": \"update\"}, {\"args\": [{\"visible\": [true, true, true, false, false, false, false, false, false, false, false, false, false, false, false, false, true, true, true, false, false, false, false, false, false, false, false, false, false, false, false, false, false, false, false, false, false, false, false, false, false, false, true, true, true, false, false, false, false, false, false, false, false, false, false, false, false]}, {\"annotations\": [{\"font\": {\"color\": \"black\", \"size\": 15}, \"showarrow\": false, \"text\": \"I = 2.0\", \"x\": 20.0, \"xref\": \"x1\", \"y\": 20.0, \"yref\": \"y1\"}, {\"font\": {\"color\": \"black\", \"size\": 15}, \"showarrow\": false, \"text\": \"I = 3.0\", \"x\": 10.0, \"xref\": \"x1\", \"y\": 40.0, \"yref\": \"y1\"}, {\"font\": {\"color\": \"black\", \"size\": 15}, \"showarrow\": false, \"text\": \"I = 2.0\", \"x\": 50.0, \"xref\": \"x1\", \"y\": 6.0, \"yref\": \"y1\"}, {\"font\": {\"color\": \"black\", \"size\": 15}, \"showarrow\": false, \"text\": \"I = 1.5\", \"x\": 30.0, \"xref\": \"x1\", \"y\": 14.0, \"yref\": \"y1\"}, {\"font\": {\"color\": \"black\", \"size\": 15}, \"showarrow\": false, \"text\": \"I = 2.0\", \"x\": 0.0, \"xref\": \"x1\", \"y\": -40.0, \"yref\": \"y1\"}, {\"font\": {\"color\": \"black\", \"size\": 15}, \"showarrow\": false, \"text\": \"I = 3.0\", \"x\": -25.0, \"xref\": \"x1\", \"y\": -40.0, \"yref\": \"y1\"}, {\"font\": {\"color\": \"black\", \"size\": 15}, \"showarrow\": false, \"text\": \"I = 2.0\", \"x\": -40.0, \"xref\": \"x1\", \"y\": -25.0, \"yref\": \"y1\"}, {\"font\": {\"color\": \"black\", \"size\": 15}, \"showarrow\": false, \"text\": \"I = 1.5\", \"x\": -40.0, \"xref\": \"x1\", \"y\": 0.0, \"yref\": \"y1\"}, {\"font\": {\"color\": \"yellow\", \"size\": 15}, \"showarrow\": false, \"text\": \"I = 8.0\", \"x\": 0.0, \"xref\": \"x1\", \"y\": 0.0, \"yref\": \"y1\"}, {\"font\": {\"color\": \"yellow\", \"size\": 15}, \"showarrow\": false, \"text\": \"I = 8.0\", \"x\": -10.0, \"xref\": \"x1\", \"y\": -10.0, \"yref\": \"y1\"}, {\"font\": {\"color\": \"black\", \"size\": 15}, \"showarrow\": false, \"text\": \"CENTRAL\", \"x\": -20.0, \"xref\": \"x1\", \"y\": 20.0, \"yref\": \"y1\"}, {\"font\": {\"color\": \"grey\", \"size\": 15}, \"showarrow\": false, \"text\": \"3.0  \", \"x\": 6.0, \"xref\": \"x1\", \"y\": 21.0, \"yref\": \"y1\"}, {\"font\": {\"color\": \"grey\", \"size\": 15}, \"showarrow\": false, \"text\": \"2.0  \", \"x\": 31.0, \"xref\": \"x1\", \"y\": 24.0, \"yref\": \"y1\"}, {\"font\": {\"color\": \"grey\", \"size\": 15}, \"showarrow\": false, \"text\": \"3.0  \", \"x\": -16.5, \"xref\": \"x1\", \"y\": -24.0, \"yref\": \"y1\"}, {\"font\": {\"color\": \"grey\", \"size\": 15}, \"showarrow\": false, \"text\": \"2.0  \", \"x\": -31.5, \"xref\": \"x1\", \"y\": -31.5, \"yref\": \"y1\"}], \"title\": \"WFP Inventory problem        Cost = 232.0          Total Cost = 5791.0   Truck 1 capacity : 5.0   Truck 2 capacity : 20\"}], \"label\": \"t = 17 (before lunch)\", \"method\": \"update\"}, {\"args\": [{\"visible\": [true, true, true, false, false, true, true, true, false, false, false, false, false, false, false, false, false, false, false, false, false, false, false, false, true, true, true, false, false, false, false, true, true, true, false, false, false, false, false, false, false, false, false, false, false, false, false, false, false, false, true, true, true, false, false, true, true]}, {\"annotations\": [{\"font\": {\"color\": \"black\", \"size\": 15}, \"showarrow\": false, \"text\": \"I = 3.0\", \"x\": 20.0, \"xref\": \"x1\", \"y\": 20.0, \"yref\": \"y1\"}, {\"font\": {\"color\": \"black\", \"size\": 15}, \"showarrow\": false, \"text\": \"I = 3.0\", \"x\": 10.0, \"xref\": \"x1\", \"y\": 40.0, \"yref\": \"y1\"}, {\"font\": {\"color\": \"black\", \"size\": 15}, \"showarrow\": false, \"text\": \"I = 2.0\", \"x\": 50.0, \"xref\": \"x1\", \"y\": 6.0, \"yref\": \"y1\"}, {\"font\": {\"color\": \"black\", \"size\": 15}, \"showarrow\": false, \"text\": \"I = 3.0\", \"x\": 30.0, \"xref\": \"x1\", \"y\": 14.0, \"yref\": \"y1\"}, {\"font\": {\"color\": \"black\", \"size\": 15}, \"showarrow\": false, \"text\": \"I = 3.0\", \"x\": 0.0, \"xref\": \"x1\", \"y\": -40.0, \"yref\": \"y1\"}, {\"font\": {\"color\": \"black\", \"size\": 15}, \"showarrow\": false, \"text\": \"I = 3.0\", \"x\": -25.0, \"xref\": \"x1\", \"y\": -40.0, \"yref\": \"y1\"}, {\"font\": {\"color\": \"black\", \"size\": 15}, \"showarrow\": false, \"text\": \"I = 2.0\", \"x\": -40.0, \"xref\": \"x1\", \"y\": -25.0, \"yref\": \"y1\"}, {\"font\": {\"color\": \"black\", \"size\": 15}, \"showarrow\": false, \"text\": \"I = 3.0\", \"x\": -40.0, \"xref\": \"x1\", \"y\": 0.0, \"yref\": \"y1\"}, {\"font\": {\"color\": \"yellow\", \"size\": 15}, \"showarrow\": false, \"text\": \"I = 18.0\", \"x\": 0.0, \"xref\": \"x1\", \"y\": 0.0, \"yref\": \"y1\"}, {\"font\": {\"color\": \"yellow\", \"size\": 15}, \"showarrow\": false, \"text\": \"I = 18.0\", \"x\": -10.0, \"xref\": \"x1\", \"y\": -10.0, \"yref\": \"y1\"}, {\"font\": {\"color\": \"black\", \"size\": 15}, \"showarrow\": false, \"text\": \"CENTRAL\", \"x\": -20.0, \"xref\": \"x1\", \"y\": 20.0, \"yref\": \"y1\"}, {\"font\": {\"color\": \"grey\", \"size\": 15}, \"showarrow\": false, \"text\": \"2.0  \", \"x\": 11.0, \"xref\": \"x1\", \"y\": 11.0, \"yref\": \"y1\"}, {\"font\": {\"color\": \"grey\", \"size\": 15}, \"showarrow\": false, \"text\": \"3.0  \", \"x\": 16.0, \"xref\": \"x1\", \"y\": 31.0, \"yref\": \"y1\"}, {\"font\": {\"color\": \"grey\", \"size\": 15}, \"showarrow\": false, \"text\": \"2.0  \", \"x\": 26.0, \"xref\": \"x1\", \"y\": 4.0, \"yref\": \"y1\"}, {\"font\": {\"color\": \"grey\", \"size\": 15}, \"showarrow\": false, \"text\": \"3.0  \", \"x\": 41.0, \"xref\": \"x1\", \"y\": 11.0, \"yref\": \"y1\"}, {\"font\": {\"color\": \"grey\", \"size\": 15}, \"showarrow\": false, \"text\": \"2.0  \", \"x\": -4.0, \"xref\": \"x1\", \"y\": -24.0, \"yref\": \"y1\"}, {\"font\": {\"color\": \"grey\", \"size\": 15}, \"showarrow\": false, \"text\": \"3.0  \", \"x\": -11.5, \"xref\": \"x1\", \"y\": -39.0, \"yref\": \"y1\"}, {\"font\": {\"color\": \"grey\", \"size\": 15}, \"showarrow\": false, \"text\": \"2.0  \", \"x\": -24.0, \"xref\": \"x1\", \"y\": -16.5, \"yref\": \"y1\"}, {\"font\": {\"color\": \"grey\", \"size\": 15}, \"showarrow\": false, \"text\": \"3.0  \", \"x\": -39.0, \"xref\": \"x1\", \"y\": -11.5, \"yref\": \"y1\"}], \"title\": \"WFP Inventory problem        Cost = 497.0          Total Cost = 6288.0   Truck 1 capacity : 5.0   Truck 2 capacity : 20\"}], \"label\": \"t = 18 (before lunch)\", \"method\": \"update\"}, {\"args\": [{\"visible\": [true, true, true, false, false, false, false, false, false, false, false, false, false, false, false, false, true, true, true, false, false, false, false, false, false, false, false, false, false, false, false, false, false, false, false, false, false, false, false, false, false, false, true, true, true, false, false, false, false, false, false, false, false, false, false, false, false]}, {\"annotations\": [{\"font\": {\"color\": \"black\", \"size\": 15}, \"showarrow\": false, \"text\": \"I = 2.0\", \"x\": 20.0, \"xref\": \"x1\", \"y\": 20.0, \"yref\": \"y1\"}, {\"font\": {\"color\": \"black\", \"size\": 15}, \"showarrow\": false, \"text\": \"I = 3.0\", \"x\": 10.0, \"xref\": \"x1\", \"y\": 40.0, \"yref\": \"y1\"}, {\"font\": {\"color\": \"black\", \"size\": 15}, \"showarrow\": false, \"text\": \"I = 2.0\", \"x\": 50.0, \"xref\": \"x1\", \"y\": 6.0, \"yref\": \"y1\"}, {\"font\": {\"color\": \"black\", \"size\": 15}, \"showarrow\": false, \"text\": \"I = 1.5\", \"x\": 30.0, \"xref\": \"x1\", \"y\": 14.0, \"yref\": \"y1\"}, {\"font\": {\"color\": \"black\", \"size\": 15}, \"showarrow\": false, \"text\": \"I = 2.0\", \"x\": 0.0, \"xref\": \"x1\", \"y\": -40.0, \"yref\": \"y1\"}, {\"font\": {\"color\": \"black\", \"size\": 15}, \"showarrow\": false, \"text\": \"I = 3.0\", \"x\": -25.0, \"xref\": \"x1\", \"y\": -40.0, \"yref\": \"y1\"}, {\"font\": {\"color\": \"black\", \"size\": 15}, \"showarrow\": false, \"text\": \"I = 2.0\", \"x\": -40.0, \"xref\": \"x1\", \"y\": -25.0, \"yref\": \"y1\"}, {\"font\": {\"color\": \"black\", \"size\": 15}, \"showarrow\": false, \"text\": \"I = 1.5\", \"x\": -40.0, \"xref\": \"x1\", \"y\": 0.0, \"yref\": \"y1\"}, {\"font\": {\"color\": \"yellow\", \"size\": 15}, \"showarrow\": false, \"text\": \"I = 13.0\", \"x\": 0.0, \"xref\": \"x1\", \"y\": 0.0, \"yref\": \"y1\"}, {\"font\": {\"color\": \"yellow\", \"size\": 15}, \"showarrow\": false, \"text\": \"I = 13.0\", \"x\": -10.0, \"xref\": \"x1\", \"y\": -10.0, \"yref\": \"y1\"}, {\"font\": {\"color\": \"black\", \"size\": 15}, \"showarrow\": false, \"text\": \"CENTRAL\", \"x\": -20.0, \"xref\": \"x1\", \"y\": 20.0, \"yref\": \"y1\"}, {\"font\": {\"color\": \"grey\", \"size\": 15}, \"showarrow\": false, \"text\": \"3.0  \", \"x\": 6.0, \"xref\": \"x1\", \"y\": 21.0, \"yref\": \"y1\"}, {\"font\": {\"color\": \"grey\", \"size\": 15}, \"showarrow\": false, \"text\": \"2.0  \", \"x\": 31.0, \"xref\": \"x1\", \"y\": 24.0, \"yref\": \"y1\"}, {\"font\": {\"color\": \"grey\", \"size\": 15}, \"showarrow\": false, \"text\": \"3.0  \", \"x\": -16.5, \"xref\": \"x1\", \"y\": -24.0, \"yref\": \"y1\"}, {\"font\": {\"color\": \"grey\", \"size\": 15}, \"showarrow\": false, \"text\": \"2.0  \", \"x\": -31.5, \"xref\": \"x1\", \"y\": -31.5, \"yref\": \"y1\"}], \"title\": \"WFP Inventory problem        Cost = 232.0          Total Cost = 6521.0   Truck 1 capacity : 5.0   Truck 2 capacity : 20\"}], \"label\": \"t = 19 (before lunch)\", \"method\": \"update\"}, {\"args\": [{\"visible\": [true, true, true, false, false, true, true, true, false, false, false, false, false, false, false, false, false, false, false, false, false, false, false, false, true, true, true, false, false, false, false, true, true, true, false, false, false, false, false, false, false, false, false, false, false, false, false, false, false, false, true, true, true, false, false, false, false]}, {\"annotations\": [{\"font\": {\"color\": \"black\", \"size\": 15}, \"showarrow\": false, \"text\": \"I = 3.0\", \"x\": 20.0, \"xref\": \"x1\", \"y\": 20.0, \"yref\": \"y1\"}, {\"font\": {\"color\": \"black\", \"size\": 15}, \"showarrow\": false, \"text\": \"I = 3.0\", \"x\": 10.0, \"xref\": \"x1\", \"y\": 40.0, \"yref\": \"y1\"}, {\"font\": {\"color\": \"black\", \"size\": 15}, \"showarrow\": false, \"text\": \"I = 2.0\", \"x\": 50.0, \"xref\": \"x1\", \"y\": 6.0, \"yref\": \"y1\"}, {\"font\": {\"color\": \"black\", \"size\": 15}, \"showarrow\": false, \"text\": \"I = 3.0\", \"x\": 30.0, \"xref\": \"x1\", \"y\": 14.0, \"yref\": \"y1\"}, {\"font\": {\"color\": \"black\", \"size\": 15}, \"showarrow\": false, \"text\": \"I = 3.0\", \"x\": 0.0, \"xref\": \"x1\", \"y\": -40.0, \"yref\": \"y1\"}, {\"font\": {\"color\": \"black\", \"size\": 15}, \"showarrow\": false, \"text\": \"I = 3.0\", \"x\": -25.0, \"xref\": \"x1\", \"y\": -40.0, \"yref\": \"y1\"}, {\"font\": {\"color\": \"black\", \"size\": 15}, \"showarrow\": false, \"text\": \"I = 2.0\", \"x\": -40.0, \"xref\": \"x1\", \"y\": -25.0, \"yref\": \"y1\"}, {\"font\": {\"color\": \"black\", \"size\": 15}, \"showarrow\": false, \"text\": \"I = 3.0\", \"x\": -40.0, \"xref\": \"x1\", \"y\": 0.0, \"yref\": \"y1\"}, {\"font\": {\"color\": \"yellow\", \"size\": 15}, \"showarrow\": false, \"text\": \"I = 3.0\", \"x\": 0.0, \"xref\": \"x1\", \"y\": 0.0, \"yref\": \"y1\"}, {\"font\": {\"color\": \"yellow\", \"size\": 15}, \"showarrow\": false, \"text\": \"I = 3.0\", \"x\": -10.0, \"xref\": \"x1\", \"y\": -10.0, \"yref\": \"y1\"}, {\"font\": {\"color\": \"black\", \"size\": 15}, \"showarrow\": false, \"text\": \"CENTRAL\", \"x\": -20.0, \"xref\": \"x1\", \"y\": 20.0, \"yref\": \"y1\"}, {\"font\": {\"color\": \"grey\", \"size\": 15}, \"showarrow\": false, \"text\": \"2.0  \", \"x\": 11.0, \"xref\": \"x1\", \"y\": 11.0, \"yref\": \"y1\"}, {\"font\": {\"color\": \"grey\", \"size\": 15}, \"showarrow\": false, \"text\": \"3.0  \", \"x\": 16.0, \"xref\": \"x1\", \"y\": 31.0, \"yref\": \"y1\"}, {\"font\": {\"color\": \"grey\", \"size\": 15}, \"showarrow\": false, \"text\": \"2.0  \", \"x\": 26.0, \"xref\": \"x1\", \"y\": 4.0, \"yref\": \"y1\"}, {\"font\": {\"color\": \"grey\", \"size\": 15}, \"showarrow\": false, \"text\": \"3.0  \", \"x\": 41.0, \"xref\": \"x1\", \"y\": 11.0, \"yref\": \"y1\"}, {\"font\": {\"color\": \"grey\", \"size\": 15}, \"showarrow\": false, \"text\": \"2.0  \", \"x\": -4.0, \"xref\": \"x1\", \"y\": -24.0, \"yref\": \"y1\"}, {\"font\": {\"color\": \"grey\", \"size\": 15}, \"showarrow\": false, \"text\": \"3.0  \", \"x\": -11.5, \"xref\": \"x1\", \"y\": -39.0, \"yref\": \"y1\"}, {\"font\": {\"color\": \"grey\", \"size\": 15}, \"showarrow\": false, \"text\": \"2.0  \", \"x\": -24.0, \"xref\": \"x1\", \"y\": -16.5, \"yref\": \"y1\"}, {\"font\": {\"color\": \"grey\", \"size\": 15}, \"showarrow\": false, \"text\": \"3.0  \", \"x\": -39.0, \"xref\": \"x1\", \"y\": -11.5, \"yref\": \"y1\"}], \"title\": \"WFP Inventory problem        Cost = 377.0          Total Cost = 6898.0   Truck 1 capacity : 5.0   Truck 2 capacity : 20\"}], \"label\": \"t = 20 (before lunch)\", \"method\": \"update\"}, {\"args\": [{\"visible\": [true, true, true, false, false, false, false, false, false, false, false, false, false, false, false, false, true, true, true, false, false, false, false, false, false, false, false, false, false, false, false, false, false, false, false, false, false, false, false, false, false, false, true, true, true, false, false, false, false, false, false, false, false, false, false, true, true]}, {\"annotations\": [{\"font\": {\"color\": \"black\", \"size\": 15}, \"showarrow\": false, \"text\": \"I = 2.0\", \"x\": 20.0, \"xref\": \"x1\", \"y\": 20.0, \"yref\": \"y1\"}, {\"font\": {\"color\": \"black\", \"size\": 15}, \"showarrow\": false, \"text\": \"I = 3.0\", \"x\": 10.0, \"xref\": \"x1\", \"y\": 40.0, \"yref\": \"y1\"}, {\"font\": {\"color\": \"black\", \"size\": 15}, \"showarrow\": false, \"text\": \"I = 2.0\", \"x\": 50.0, \"xref\": \"x1\", \"y\": 6.0, \"yref\": \"y1\"}, {\"font\": {\"color\": \"black\", \"size\": 15}, \"showarrow\": false, \"text\": \"I = 1.5\", \"x\": 30.0, \"xref\": \"x1\", \"y\": 14.0, \"yref\": \"y1\"}, {\"font\": {\"color\": \"black\", \"size\": 15}, \"showarrow\": false, \"text\": \"I = 2.0\", \"x\": 0.0, \"xref\": \"x1\", \"y\": -40.0, \"yref\": \"y1\"}, {\"font\": {\"color\": \"black\", \"size\": 15}, \"showarrow\": false, \"text\": \"I = 3.0\", \"x\": -25.0, \"xref\": \"x1\", \"y\": -40.0, \"yref\": \"y1\"}, {\"font\": {\"color\": \"black\", \"size\": 15}, \"showarrow\": false, \"text\": \"I = 2.0\", \"x\": -40.0, \"xref\": \"x1\", \"y\": -25.0, \"yref\": \"y1\"}, {\"font\": {\"color\": \"black\", \"size\": 15}, \"showarrow\": false, \"text\": \"I = 1.5\", \"x\": -40.0, \"xref\": \"x1\", \"y\": 0.0, \"yref\": \"y1\"}, {\"font\": {\"color\": \"yellow\", \"size\": 15}, \"showarrow\": false, \"text\": \"I = 18.0\", \"x\": 0.0, \"xref\": \"x1\", \"y\": 0.0, \"yref\": \"y1\"}, {\"font\": {\"color\": \"yellow\", \"size\": 15}, \"showarrow\": false, \"text\": \"I = 18.0\", \"x\": -10.0, \"xref\": \"x1\", \"y\": -10.0, \"yref\": \"y1\"}, {\"font\": {\"color\": \"black\", \"size\": 15}, \"showarrow\": false, \"text\": \"CENTRAL\", \"x\": -20.0, \"xref\": \"x1\", \"y\": 20.0, \"yref\": \"y1\"}, {\"font\": {\"color\": \"grey\", \"size\": 15}, \"showarrow\": false, \"text\": \"3.0  \", \"x\": 6.0, \"xref\": \"x1\", \"y\": 21.0, \"yref\": \"y1\"}, {\"font\": {\"color\": \"grey\", \"size\": 15}, \"showarrow\": false, \"text\": \"2.0  \", \"x\": 31.0, \"xref\": \"x1\", \"y\": 24.0, \"yref\": \"y1\"}, {\"font\": {\"color\": \"grey\", \"size\": 15}, \"showarrow\": false, \"text\": \"3.0  \", \"x\": -16.5, \"xref\": \"x1\", \"y\": -24.0, \"yref\": \"y1\"}, {\"font\": {\"color\": \"grey\", \"size\": 15}, \"showarrow\": false, \"text\": \"2.0  \", \"x\": -31.5, \"xref\": \"x1\", \"y\": -31.5, \"yref\": \"y1\"}], \"title\": \"WFP Inventory problem        Cost = 352.0          Total Cost = 7250.0   Truck 1 capacity : 5.0   Truck 2 capacity : 20\"}], \"label\": \"t = 21 (before lunch)\", \"method\": \"update\"}, {\"args\": [{\"visible\": [true, true, true, false, false, true, true, true, false, false, false, false, false, false, false, false, false, false, false, false, false, false, false, false, true, true, true, false, false, false, false, true, true, true, false, false, false, false, false, false, false, false, false, false, false, false, false, false, false, false, true, true, true, false, false, false, false]}, {\"annotations\": [{\"font\": {\"color\": \"black\", \"size\": 15}, \"showarrow\": false, \"text\": \"I = 3.0\", \"x\": 20.0, \"xref\": \"x1\", \"y\": 20.0, \"yref\": \"y1\"}, {\"font\": {\"color\": \"black\", \"size\": 15}, \"showarrow\": false, \"text\": \"I = 3.0\", \"x\": 10.0, \"xref\": \"x1\", \"y\": 40.0, \"yref\": \"y1\"}, {\"font\": {\"color\": \"black\", \"size\": 15}, \"showarrow\": false, \"text\": \"I = 2.0\", \"x\": 50.0, \"xref\": \"x1\", \"y\": 6.0, \"yref\": \"y1\"}, {\"font\": {\"color\": \"black\", \"size\": 15}, \"showarrow\": false, \"text\": \"I = 3.0\", \"x\": 30.0, \"xref\": \"x1\", \"y\": 14.0, \"yref\": \"y1\"}, {\"font\": {\"color\": \"black\", \"size\": 15}, \"showarrow\": false, \"text\": \"I = 3.0\", \"x\": 0.0, \"xref\": \"x1\", \"y\": -40.0, \"yref\": \"y1\"}, {\"font\": {\"color\": \"black\", \"size\": 15}, \"showarrow\": false, \"text\": \"I = 3.0\", \"x\": -25.0, \"xref\": \"x1\", \"y\": -40.0, \"yref\": \"y1\"}, {\"font\": {\"color\": \"black\", \"size\": 15}, \"showarrow\": false, \"text\": \"I = 2.0\", \"x\": -40.0, \"xref\": \"x1\", \"y\": -25.0, \"yref\": \"y1\"}, {\"font\": {\"color\": \"black\", \"size\": 15}, \"showarrow\": false, \"text\": \"I = 3.0\", \"x\": -40.0, \"xref\": \"x1\", \"y\": 0.0, \"yref\": \"y1\"}, {\"font\": {\"color\": \"yellow\", \"size\": 15}, \"showarrow\": false, \"text\": \"I = 8.0\", \"x\": 0.0, \"xref\": \"x1\", \"y\": 0.0, \"yref\": \"y1\"}, {\"font\": {\"color\": \"yellow\", \"size\": 15}, \"showarrow\": false, \"text\": \"I = 8.0\", \"x\": -10.0, \"xref\": \"x1\", \"y\": -10.0, \"yref\": \"y1\"}, {\"font\": {\"color\": \"black\", \"size\": 15}, \"showarrow\": false, \"text\": \"CENTRAL\", \"x\": -20.0, \"xref\": \"x1\", \"y\": 20.0, \"yref\": \"y1\"}, {\"font\": {\"color\": \"grey\", \"size\": 15}, \"showarrow\": false, \"text\": \"2.0  \", \"x\": 11.0, \"xref\": \"x1\", \"y\": 11.0, \"yref\": \"y1\"}, {\"font\": {\"color\": \"grey\", \"size\": 15}, \"showarrow\": false, \"text\": \"3.0  \", \"x\": 16.0, \"xref\": \"x1\", \"y\": 31.0, \"yref\": \"y1\"}, {\"font\": {\"color\": \"grey\", \"size\": 15}, \"showarrow\": false, \"text\": \"2.0  \", \"x\": 26.0, \"xref\": \"x1\", \"y\": 4.0, \"yref\": \"y1\"}, {\"font\": {\"color\": \"grey\", \"size\": 15}, \"showarrow\": false, \"text\": \"3.0  \", \"x\": 41.0, \"xref\": \"x1\", \"y\": 11.0, \"yref\": \"y1\"}, {\"font\": {\"color\": \"grey\", \"size\": 15}, \"showarrow\": false, \"text\": \"2.0  \", \"x\": -4.0, \"xref\": \"x1\", \"y\": -24.0, \"yref\": \"y1\"}, {\"font\": {\"color\": \"grey\", \"size\": 15}, \"showarrow\": false, \"text\": \"3.0  \", \"x\": -11.5, \"xref\": \"x1\", \"y\": -39.0, \"yref\": \"y1\"}, {\"font\": {\"color\": \"grey\", \"size\": 15}, \"showarrow\": false, \"text\": \"2.0  \", \"x\": -24.0, \"xref\": \"x1\", \"y\": -16.5, \"yref\": \"y1\"}, {\"font\": {\"color\": \"grey\", \"size\": 15}, \"showarrow\": false, \"text\": \"3.0  \", \"x\": -39.0, \"xref\": \"x1\", \"y\": -11.5, \"yref\": \"y1\"}], \"title\": \"WFP Inventory problem        Cost = 377.0          Total Cost = 7627.0   Truck 1 capacity : 5.0   Truck 2 capacity : 20\"}], \"label\": \"t = 22 (before lunch)\", \"method\": \"update\"}, {\"args\": [{\"visible\": [true, true, true, false, false, false, false, false, false, false, false, false, false, false, false, false, true, true, true, false, false, false, false, false, false, false, false, false, false, false, false, false, false, false, false, false, false, false, false, false, false, false, true, true, true, false, false, false, false, false, false, false, false, false, false, false, false]}, {\"annotations\": [{\"font\": {\"color\": \"black\", \"size\": 15}, \"showarrow\": false, \"text\": \"I = 2.0\", \"x\": 20.0, \"xref\": \"x1\", \"y\": 20.0, \"yref\": \"y1\"}, {\"font\": {\"color\": \"black\", \"size\": 15}, \"showarrow\": false, \"text\": \"I = 3.0\", \"x\": 10.0, \"xref\": \"x1\", \"y\": 40.0, \"yref\": \"y1\"}, {\"font\": {\"color\": \"black\", \"size\": 15}, \"showarrow\": false, \"text\": \"I = 2.0\", \"x\": 50.0, \"xref\": \"x1\", \"y\": 6.0, \"yref\": \"y1\"}, {\"font\": {\"color\": \"black\", \"size\": 15}, \"showarrow\": false, \"text\": \"I = 1.5\", \"x\": 30.0, \"xref\": \"x1\", \"y\": 14.0, \"yref\": \"y1\"}, {\"font\": {\"color\": \"black\", \"size\": 15}, \"showarrow\": false, \"text\": \"I = 2.0\", \"x\": 0.0, \"xref\": \"x1\", \"y\": -40.0, \"yref\": \"y1\"}, {\"font\": {\"color\": \"black\", \"size\": 15}, \"showarrow\": false, \"text\": \"I = 3.0\", \"x\": -25.0, \"xref\": \"x1\", \"y\": -40.0, \"yref\": \"y1\"}, {\"font\": {\"color\": \"black\", \"size\": 15}, \"showarrow\": false, \"text\": \"I = 2.0\", \"x\": -40.0, \"xref\": \"x1\", \"y\": -25.0, \"yref\": \"y1\"}, {\"font\": {\"color\": \"black\", \"size\": 15}, \"showarrow\": false, \"text\": \"I = 1.5\", \"x\": -40.0, \"xref\": \"x1\", \"y\": 0.0, \"yref\": \"y1\"}, {\"font\": {\"color\": \"yellow\", \"size\": 15}, \"showarrow\": false, \"text\": \"I = 3.0\", \"x\": 0.0, \"xref\": \"x1\", \"y\": 0.0, \"yref\": \"y1\"}, {\"font\": {\"color\": \"yellow\", \"size\": 15}, \"showarrow\": false, \"text\": \"I = 3.0\", \"x\": -10.0, \"xref\": \"x1\", \"y\": -10.0, \"yref\": \"y1\"}, {\"font\": {\"color\": \"black\", \"size\": 15}, \"showarrow\": false, \"text\": \"CENTRAL\", \"x\": -20.0, \"xref\": \"x1\", \"y\": 20.0, \"yref\": \"y1\"}, {\"font\": {\"color\": \"grey\", \"size\": 15}, \"showarrow\": false, \"text\": \"3.0  \", \"x\": 6.0, \"xref\": \"x1\", \"y\": 21.0, \"yref\": \"y1\"}, {\"font\": {\"color\": \"grey\", \"size\": 15}, \"showarrow\": false, \"text\": \"2.0  \", \"x\": 31.0, \"xref\": \"x1\", \"y\": 24.0, \"yref\": \"y1\"}, {\"font\": {\"color\": \"grey\", \"size\": 15}, \"showarrow\": false, \"text\": \"3.0  \", \"x\": -16.5, \"xref\": \"x1\", \"y\": -24.0, \"yref\": \"y1\"}, {\"font\": {\"color\": \"grey\", \"size\": 15}, \"showarrow\": false, \"text\": \"2.0  \", \"x\": -31.5, \"xref\": \"x1\", \"y\": -31.5, \"yref\": \"y1\"}], \"title\": \"WFP Inventory problem        Cost = 232.0          Total Cost = 7860.0   Truck 1 capacity : 5.0   Truck 2 capacity : 20\"}], \"label\": \"t = 23 (before lunch)\", \"method\": \"update\"}, {\"args\": [{\"visible\": [true, true, true, false, false, true, true, true, false, false, false, false, false, false, false, false, false, false, false, false, false, false, false, false, true, true, true, false, false, false, false, true, true, true, false, false, false, false, false, false, false, false, false, false, false, false, false, false, false, false, true, true, true, false, false, true, true]}, {\"annotations\": [{\"font\": {\"color\": \"black\", \"size\": 15}, \"showarrow\": false, \"text\": \"I = 3.0\", \"x\": 20.0, \"xref\": \"x1\", \"y\": 20.0, \"yref\": \"y1\"}, {\"font\": {\"color\": \"black\", \"size\": 15}, \"showarrow\": false, \"text\": \"I = 3.0\", \"x\": 10.0, \"xref\": \"x1\", \"y\": 40.0, \"yref\": \"y1\"}, {\"font\": {\"color\": \"black\", \"size\": 15}, \"showarrow\": false, \"text\": \"I = 2.0\", \"x\": 50.0, \"xref\": \"x1\", \"y\": 6.0, \"yref\": \"y1\"}, {\"font\": {\"color\": \"black\", \"size\": 15}, \"showarrow\": false, \"text\": \"I = 3.0\", \"x\": 30.0, \"xref\": \"x1\", \"y\": 14.0, \"yref\": \"y1\"}, {\"font\": {\"color\": \"black\", \"size\": 15}, \"showarrow\": false, \"text\": \"I = 3.0\", \"x\": 0.0, \"xref\": \"x1\", \"y\": -40.0, \"yref\": \"y1\"}, {\"font\": {\"color\": \"black\", \"size\": 15}, \"showarrow\": false, \"text\": \"I = 3.0\", \"x\": -25.0, \"xref\": \"x1\", \"y\": -40.0, \"yref\": \"y1\"}, {\"font\": {\"color\": \"black\", \"size\": 15}, \"showarrow\": false, \"text\": \"I = 2.0\", \"x\": -40.0, \"xref\": \"x1\", \"y\": -25.0, \"yref\": \"y1\"}, {\"font\": {\"color\": \"black\", \"size\": 15}, \"showarrow\": false, \"text\": \"I = 3.0\", \"x\": -40.0, \"xref\": \"x1\", \"y\": 0.0, \"yref\": \"y1\"}, {\"font\": {\"color\": \"yellow\", \"size\": 15}, \"showarrow\": false, \"text\": \"I = 13.0\", \"x\": 0.0, \"xref\": \"x1\", \"y\": 0.0, \"yref\": \"y1\"}, {\"font\": {\"color\": \"yellow\", \"size\": 15}, \"showarrow\": false, \"text\": \"I = 13.0\", \"x\": -10.0, \"xref\": \"x1\", \"y\": -10.0, \"yref\": \"y1\"}, {\"font\": {\"color\": \"black\", \"size\": 15}, \"showarrow\": false, \"text\": \"CENTRAL\", \"x\": -20.0, \"xref\": \"x1\", \"y\": 20.0, \"yref\": \"y1\"}, {\"font\": {\"color\": \"grey\", \"size\": 15}, \"showarrow\": false, \"text\": \"2.0  \", \"x\": 11.0, \"xref\": \"x1\", \"y\": 11.0, \"yref\": \"y1\"}, {\"font\": {\"color\": \"grey\", \"size\": 15}, \"showarrow\": false, \"text\": \"3.0  \", \"x\": 16.0, \"xref\": \"x1\", \"y\": 31.0, \"yref\": \"y1\"}, {\"font\": {\"color\": \"grey\", \"size\": 15}, \"showarrow\": false, \"text\": \"2.0  \", \"x\": 26.0, \"xref\": \"x1\", \"y\": 4.0, \"yref\": \"y1\"}, {\"font\": {\"color\": \"grey\", \"size\": 15}, \"showarrow\": false, \"text\": \"3.0  \", \"x\": 41.0, \"xref\": \"x1\", \"y\": 11.0, \"yref\": \"y1\"}, {\"font\": {\"color\": \"grey\", \"size\": 15}, \"showarrow\": false, \"text\": \"2.0  \", \"x\": -4.0, \"xref\": \"x1\", \"y\": -24.0, \"yref\": \"y1\"}, {\"font\": {\"color\": \"grey\", \"size\": 15}, \"showarrow\": false, \"text\": \"3.0  \", \"x\": -11.5, \"xref\": \"x1\", \"y\": -39.0, \"yref\": \"y1\"}, {\"font\": {\"color\": \"grey\", \"size\": 15}, \"showarrow\": false, \"text\": \"2.0  \", \"x\": -24.0, \"xref\": \"x1\", \"y\": -16.5, \"yref\": \"y1\"}, {\"font\": {\"color\": \"grey\", \"size\": 15}, \"showarrow\": false, \"text\": \"3.0  \", \"x\": -39.0, \"xref\": \"x1\", \"y\": -11.5, \"yref\": \"y1\"}], \"title\": \"WFP Inventory problem        Cost = 497.0          Total Cost = 8357.0   Truck 1 capacity : 5.0   Truck 2 capacity : 20\"}], \"label\": \"t = 24 (before lunch)\", \"method\": \"update\"}, {\"args\": [{\"visible\": [true, true, true, false, false, false, false, false, false, false, false, false, false, false, false, false, true, true, true, false, false, false, false, false, false, false, false, false, false, false, false, false, false, false, false, false, false, false, false, false, false, false, true, true, true, false, false, false, false, false, false, false, false, false, false, false, false]}, {\"annotations\": [{\"font\": {\"color\": \"black\", \"size\": 15}, \"showarrow\": false, \"text\": \"I = 2.0\", \"x\": 20.0, \"xref\": \"x1\", \"y\": 20.0, \"yref\": \"y1\"}, {\"font\": {\"color\": \"black\", \"size\": 15}, \"showarrow\": false, \"text\": \"I = 3.0\", \"x\": 10.0, \"xref\": \"x1\", \"y\": 40.0, \"yref\": \"y1\"}, {\"font\": {\"color\": \"black\", \"size\": 15}, \"showarrow\": false, \"text\": \"I = 2.0\", \"x\": 50.0, \"xref\": \"x1\", \"y\": 6.0, \"yref\": \"y1\"}, {\"font\": {\"color\": \"black\", \"size\": 15}, \"showarrow\": false, \"text\": \"I = 1.5\", \"x\": 30.0, \"xref\": \"x1\", \"y\": 14.0, \"yref\": \"y1\"}, {\"font\": {\"color\": \"black\", \"size\": 15}, \"showarrow\": false, \"text\": \"I = 2.0\", \"x\": 0.0, \"xref\": \"x1\", \"y\": -40.0, \"yref\": \"y1\"}, {\"font\": {\"color\": \"black\", \"size\": 15}, \"showarrow\": false, \"text\": \"I = 3.0\", \"x\": -25.0, \"xref\": \"x1\", \"y\": -40.0, \"yref\": \"y1\"}, {\"font\": {\"color\": \"black\", \"size\": 15}, \"showarrow\": false, \"text\": \"I = 2.0\", \"x\": -40.0, \"xref\": \"x1\", \"y\": -25.0, \"yref\": \"y1\"}, {\"font\": {\"color\": \"black\", \"size\": 15}, \"showarrow\": false, \"text\": \"I = 1.5\", \"x\": -40.0, \"xref\": \"x1\", \"y\": 0.0, \"yref\": \"y1\"}, {\"font\": {\"color\": \"yellow\", \"size\": 15}, \"showarrow\": false, \"text\": \"I = 8.0\", \"x\": 0.0, \"xref\": \"x1\", \"y\": 0.0, \"yref\": \"y1\"}, {\"font\": {\"color\": \"yellow\", \"size\": 15}, \"showarrow\": false, \"text\": \"I = 8.0\", \"x\": -10.0, \"xref\": \"x1\", \"y\": -10.0, \"yref\": \"y1\"}, {\"font\": {\"color\": \"black\", \"size\": 15}, \"showarrow\": false, \"text\": \"CENTRAL\", \"x\": -20.0, \"xref\": \"x1\", \"y\": 20.0, \"yref\": \"y1\"}, {\"font\": {\"color\": \"grey\", \"size\": 15}, \"showarrow\": false, \"text\": \"3.0  \", \"x\": 6.0, \"xref\": \"x1\", \"y\": 21.0, \"yref\": \"y1\"}, {\"font\": {\"color\": \"grey\", \"size\": 15}, \"showarrow\": false, \"text\": \"2.0  \", \"x\": 31.0, \"xref\": \"x1\", \"y\": 24.0, \"yref\": \"y1\"}, {\"font\": {\"color\": \"grey\", \"size\": 15}, \"showarrow\": false, \"text\": \"3.0  \", \"x\": -16.5, \"xref\": \"x1\", \"y\": -24.0, \"yref\": \"y1\"}, {\"font\": {\"color\": \"grey\", \"size\": 15}, \"showarrow\": false, \"text\": \"2.0  \", \"x\": -31.5, \"xref\": \"x1\", \"y\": -31.5, \"yref\": \"y1\"}], \"title\": \"WFP Inventory problem        Cost = 232.0          Total Cost = 8589.0   Truck 1 capacity : 5.0   Truck 2 capacity : 20\"}], \"label\": \"t = 25 (before lunch)\", \"method\": \"update\"}, {\"args\": [{\"visible\": [true, true, true, false, false, true, true, true, false, false, false, false, false, false, false, false, false, false, false, false, false, false, false, false, true, true, true, false, false, false, false, true, true, true, false, false, false, false, false, false, false, false, false, false, false, false, false, false, false, false, true, true, true, false, false, true, true]}, {\"annotations\": [{\"font\": {\"color\": \"black\", \"size\": 15}, \"showarrow\": false, \"text\": \"I = 3.0\", \"x\": 20.0, \"xref\": \"x1\", \"y\": 20.0, \"yref\": \"y1\"}, {\"font\": {\"color\": \"black\", \"size\": 15}, \"showarrow\": false, \"text\": \"I = 3.0\", \"x\": 10.0, \"xref\": \"x1\", \"y\": 40.0, \"yref\": \"y1\"}, {\"font\": {\"color\": \"black\", \"size\": 15}, \"showarrow\": false, \"text\": \"I = 2.0\", \"x\": 50.0, \"xref\": \"x1\", \"y\": 6.0, \"yref\": \"y1\"}, {\"font\": {\"color\": \"black\", \"size\": 15}, \"showarrow\": false, \"text\": \"I = 3.0\", \"x\": 30.0, \"xref\": \"x1\", \"y\": 14.0, \"yref\": \"y1\"}, {\"font\": {\"color\": \"black\", \"size\": 15}, \"showarrow\": false, \"text\": \"I = 3.0\", \"x\": 0.0, \"xref\": \"x1\", \"y\": -40.0, \"yref\": \"y1\"}, {\"font\": {\"color\": \"black\", \"size\": 15}, \"showarrow\": false, \"text\": \"I = 3.0\", \"x\": -25.0, \"xref\": \"x1\", \"y\": -40.0, \"yref\": \"y1\"}, {\"font\": {\"color\": \"black\", \"size\": 15}, \"showarrow\": false, \"text\": \"I = 2.0\", \"x\": -40.0, \"xref\": \"x1\", \"y\": -25.0, \"yref\": \"y1\"}, {\"font\": {\"color\": \"black\", \"size\": 15}, \"showarrow\": false, \"text\": \"I = 3.0\", \"x\": -40.0, \"xref\": \"x1\", \"y\": 0.0, \"yref\": \"y1\"}, {\"font\": {\"color\": \"yellow\", \"size\": 15}, \"showarrow\": false, \"text\": \"I = 18.0\", \"x\": 0.0, \"xref\": \"x1\", \"y\": 0.0, \"yref\": \"y1\"}, {\"font\": {\"color\": \"yellow\", \"size\": 15}, \"showarrow\": false, \"text\": \"I = 18.0\", \"x\": -10.0, \"xref\": \"x1\", \"y\": -10.0, \"yref\": \"y1\"}, {\"font\": {\"color\": \"black\", \"size\": 15}, \"showarrow\": false, \"text\": \"CENTRAL\", \"x\": -20.0, \"xref\": \"x1\", \"y\": 20.0, \"yref\": \"y1\"}, {\"font\": {\"color\": \"grey\", \"size\": 15}, \"showarrow\": false, \"text\": \"2.0  \", \"x\": 11.0, \"xref\": \"x1\", \"y\": 11.0, \"yref\": \"y1\"}, {\"font\": {\"color\": \"grey\", \"size\": 15}, \"showarrow\": false, \"text\": \"3.0  \", \"x\": 16.0, \"xref\": \"x1\", \"y\": 31.0, \"yref\": \"y1\"}, {\"font\": {\"color\": \"grey\", \"size\": 15}, \"showarrow\": false, \"text\": \"2.0  \", \"x\": 26.0, \"xref\": \"x1\", \"y\": 4.0, \"yref\": \"y1\"}, {\"font\": {\"color\": \"grey\", \"size\": 15}, \"showarrow\": false, \"text\": \"3.0  \", \"x\": 41.0, \"xref\": \"x1\", \"y\": 11.0, \"yref\": \"y1\"}, {\"font\": {\"color\": \"grey\", \"size\": 15}, \"showarrow\": false, \"text\": \"2.0  \", \"x\": -4.0, \"xref\": \"x1\", \"y\": -24.0, \"yref\": \"y1\"}, {\"font\": {\"color\": \"grey\", \"size\": 15}, \"showarrow\": false, \"text\": \"3.0  \", \"x\": -11.5, \"xref\": \"x1\", \"y\": -39.0, \"yref\": \"y1\"}, {\"font\": {\"color\": \"grey\", \"size\": 15}, \"showarrow\": false, \"text\": \"2.0  \", \"x\": -24.0, \"xref\": \"x1\", \"y\": -16.5, \"yref\": \"y1\"}, {\"font\": {\"color\": \"grey\", \"size\": 15}, \"showarrow\": false, \"text\": \"3.0  \", \"x\": -39.0, \"xref\": \"x1\", \"y\": -11.5, \"yref\": \"y1\"}], \"title\": \"WFP Inventory problem        Cost = 497.0          Total Cost = 9086.0   Truck 1 capacity : 5.0   Truck 2 capacity : 20\"}], \"label\": \"t = 26 (before lunch)\", \"method\": \"update\"}, {\"args\": [{\"visible\": [true, true, true, false, false, false, false, false, false, false, false, false, false, false, false, false, true, true, true, false, false, false, false, false, false, false, false, false, false, false, false, false, false, false, false, false, false, false, false, false, false, false, true, true, true, false, false, false, false, false, false, false, false, false, false, false, false]}, {\"annotations\": [{\"font\": {\"color\": \"black\", \"size\": 15}, \"showarrow\": false, \"text\": \"I = 2.0\", \"x\": 20.0, \"xref\": \"x1\", \"y\": 20.0, \"yref\": \"y1\"}, {\"font\": {\"color\": \"black\", \"size\": 15}, \"showarrow\": false, \"text\": \"I = 3.0\", \"x\": 10.0, \"xref\": \"x1\", \"y\": 40.0, \"yref\": \"y1\"}, {\"font\": {\"color\": \"black\", \"size\": 15}, \"showarrow\": false, \"text\": \"I = 2.0\", \"x\": 50.0, \"xref\": \"x1\", \"y\": 6.0, \"yref\": \"y1\"}, {\"font\": {\"color\": \"black\", \"size\": 15}, \"showarrow\": false, \"text\": \"I = 1.5\", \"x\": 30.0, \"xref\": \"x1\", \"y\": 14.0, \"yref\": \"y1\"}, {\"font\": {\"color\": \"black\", \"size\": 15}, \"showarrow\": false, \"text\": \"I = 2.0\", \"x\": 0.0, \"xref\": \"x1\", \"y\": -40.0, \"yref\": \"y1\"}, {\"font\": {\"color\": \"black\", \"size\": 15}, \"showarrow\": false, \"text\": \"I = 3.0\", \"x\": -25.0, \"xref\": \"x1\", \"y\": -40.0, \"yref\": \"y1\"}, {\"font\": {\"color\": \"black\", \"size\": 15}, \"showarrow\": false, \"text\": \"I = 2.0\", \"x\": -40.0, \"xref\": \"x1\", \"y\": -25.0, \"yref\": \"y1\"}, {\"font\": {\"color\": \"black\", \"size\": 15}, \"showarrow\": false, \"text\": \"I = 1.5\", \"x\": -40.0, \"xref\": \"x1\", \"y\": 0.0, \"yref\": \"y1\"}, {\"font\": {\"color\": \"yellow\", \"size\": 15}, \"showarrow\": false, \"text\": \"I = 13.0\", \"x\": 0.0, \"xref\": \"x1\", \"y\": 0.0, \"yref\": \"y1\"}, {\"font\": {\"color\": \"yellow\", \"size\": 15}, \"showarrow\": false, \"text\": \"I = 13.0\", \"x\": -10.0, \"xref\": \"x1\", \"y\": -10.0, \"yref\": \"y1\"}, {\"font\": {\"color\": \"black\", \"size\": 15}, \"showarrow\": false, \"text\": \"CENTRAL\", \"x\": -20.0, \"xref\": \"x1\", \"y\": 20.0, \"yref\": \"y1\"}, {\"font\": {\"color\": \"grey\", \"size\": 15}, \"showarrow\": false, \"text\": \"3.0  \", \"x\": 6.0, \"xref\": \"x1\", \"y\": 21.0, \"yref\": \"y1\"}, {\"font\": {\"color\": \"grey\", \"size\": 15}, \"showarrow\": false, \"text\": \"2.0  \", \"x\": 31.0, \"xref\": \"x1\", \"y\": 24.0, \"yref\": \"y1\"}, {\"font\": {\"color\": \"grey\", \"size\": 15}, \"showarrow\": false, \"text\": \"3.0  \", \"x\": -16.5, \"xref\": \"x1\", \"y\": -24.0, \"yref\": \"y1\"}, {\"font\": {\"color\": \"grey\", \"size\": 15}, \"showarrow\": false, \"text\": \"2.0  \", \"x\": -31.5, \"xref\": \"x1\", \"y\": -31.5, \"yref\": \"y1\"}], \"title\": \"WFP Inventory problem        Cost = 232.0          Total Cost = 9319.0   Truck 1 capacity : 5.0   Truck 2 capacity : 20\"}], \"label\": \"t = 27 (before lunch)\", \"method\": \"update\"}, {\"args\": [{\"visible\": [true, true, true, false, false, true, true, true, false, false, false, false, false, false, false, false, false, false, false, false, false, false, false, false, true, true, true, false, false, false, false, true, true, true, false, false, false, false, false, false, false, false, false, false, false, false, false, false, false, false, true, true, true, false, false, false, false]}, {\"annotations\": [{\"font\": {\"color\": \"black\", \"size\": 15}, \"showarrow\": false, \"text\": \"I = 3.0\", \"x\": 20.0, \"xref\": \"x1\", \"y\": 20.0, \"yref\": \"y1\"}, {\"font\": {\"color\": \"black\", \"size\": 15}, \"showarrow\": false, \"text\": \"I = 3.0\", \"x\": 10.0, \"xref\": \"x1\", \"y\": 40.0, \"yref\": \"y1\"}, {\"font\": {\"color\": \"black\", \"size\": 15}, \"showarrow\": false, \"text\": \"I = 2.0\", \"x\": 50.0, \"xref\": \"x1\", \"y\": 6.0, \"yref\": \"y1\"}, {\"font\": {\"color\": \"black\", \"size\": 15}, \"showarrow\": false, \"text\": \"I = 3.0\", \"x\": 30.0, \"xref\": \"x1\", \"y\": 14.0, \"yref\": \"y1\"}, {\"font\": {\"color\": \"black\", \"size\": 15}, \"showarrow\": false, \"text\": \"I = 3.0\", \"x\": 0.0, \"xref\": \"x1\", \"y\": -40.0, \"yref\": \"y1\"}, {\"font\": {\"color\": \"black\", \"size\": 15}, \"showarrow\": false, \"text\": \"I = 3.0\", \"x\": -25.0, \"xref\": \"x1\", \"y\": -40.0, \"yref\": \"y1\"}, {\"font\": {\"color\": \"black\", \"size\": 15}, \"showarrow\": false, \"text\": \"I = 2.0\", \"x\": -40.0, \"xref\": \"x1\", \"y\": -25.0, \"yref\": \"y1\"}, {\"font\": {\"color\": \"black\", \"size\": 15}, \"showarrow\": false, \"text\": \"I = 3.0\", \"x\": -40.0, \"xref\": \"x1\", \"y\": 0.0, \"yref\": \"y1\"}, {\"font\": {\"color\": \"yellow\", \"size\": 15}, \"showarrow\": false, \"text\": \"I = 3.0\", \"x\": 0.0, \"xref\": \"x1\", \"y\": 0.0, \"yref\": \"y1\"}, {\"font\": {\"color\": \"yellow\", \"size\": 15}, \"showarrow\": false, \"text\": \"I = 3.0\", \"x\": -10.0, \"xref\": \"x1\", \"y\": -10.0, \"yref\": \"y1\"}, {\"font\": {\"color\": \"black\", \"size\": 15}, \"showarrow\": false, \"text\": \"CENTRAL\", \"x\": -20.0, \"xref\": \"x1\", \"y\": 20.0, \"yref\": \"y1\"}, {\"font\": {\"color\": \"grey\", \"size\": 15}, \"showarrow\": false, \"text\": \"2.0  \", \"x\": 11.0, \"xref\": \"x1\", \"y\": 11.0, \"yref\": \"y1\"}, {\"font\": {\"color\": \"grey\", \"size\": 15}, \"showarrow\": false, \"text\": \"3.0  \", \"x\": 16.0, \"xref\": \"x1\", \"y\": 31.0, \"yref\": \"y1\"}, {\"font\": {\"color\": \"grey\", \"size\": 15}, \"showarrow\": false, \"text\": \"2.0  \", \"x\": 26.0, \"xref\": \"x1\", \"y\": 4.0, \"yref\": \"y1\"}, {\"font\": {\"color\": \"grey\", \"size\": 15}, \"showarrow\": false, \"text\": \"3.0  \", \"x\": 41.0, \"xref\": \"x1\", \"y\": 11.0, \"yref\": \"y1\"}, {\"font\": {\"color\": \"grey\", \"size\": 15}, \"showarrow\": false, \"text\": \"2.0  \", \"x\": -4.0, \"xref\": \"x1\", \"y\": -24.0, \"yref\": \"y1\"}, {\"font\": {\"color\": \"grey\", \"size\": 15}, \"showarrow\": false, \"text\": \"3.0  \", \"x\": -11.5, \"xref\": \"x1\", \"y\": -39.0, \"yref\": \"y1\"}, {\"font\": {\"color\": \"grey\", \"size\": 15}, \"showarrow\": false, \"text\": \"2.0  \", \"x\": -24.0, \"xref\": \"x1\", \"y\": -16.5, \"yref\": \"y1\"}, {\"font\": {\"color\": \"grey\", \"size\": 15}, \"showarrow\": false, \"text\": \"3.0  \", \"x\": -39.0, \"xref\": \"x1\", \"y\": -11.5, \"yref\": \"y1\"}], \"title\": \"WFP Inventory problem        Cost = 377.0          Total Cost = 9696.0   Truck 1 capacity : 5.0   Truck 2 capacity : 20\"}], \"label\": \"t = 28 (before lunch)\", \"method\": \"update\"}, {\"args\": [{\"visible\": [true, true, true, false, false, false, false, false, false, false, false, false, false, false, false, false, true, true, true, false, false, false, false, false, false, false, false, false, false, false, false, false, false, false, false, false, false, false, false, false, false, false, true, true, true, false, false, false, false, false, false, false, false, false, false, true, true]}, {\"annotations\": [{\"font\": {\"color\": \"black\", \"size\": 15}, \"showarrow\": false, \"text\": \"I = 2.0\", \"x\": 20.0, \"xref\": \"x1\", \"y\": 20.0, \"yref\": \"y1\"}, {\"font\": {\"color\": \"black\", \"size\": 15}, \"showarrow\": false, \"text\": \"I = 3.0\", \"x\": 10.0, \"xref\": \"x1\", \"y\": 40.0, \"yref\": \"y1\"}, {\"font\": {\"color\": \"black\", \"size\": 15}, \"showarrow\": false, \"text\": \"I = 2.0\", \"x\": 50.0, \"xref\": \"x1\", \"y\": 6.0, \"yref\": \"y1\"}, {\"font\": {\"color\": \"black\", \"size\": 15}, \"showarrow\": false, \"text\": \"I = 1.5\", \"x\": 30.0, \"xref\": \"x1\", \"y\": 14.0, \"yref\": \"y1\"}, {\"font\": {\"color\": \"black\", \"size\": 15}, \"showarrow\": false, \"text\": \"I = 2.0\", \"x\": 0.0, \"xref\": \"x1\", \"y\": -40.0, \"yref\": \"y1\"}, {\"font\": {\"color\": \"black\", \"size\": 15}, \"showarrow\": false, \"text\": \"I = 3.0\", \"x\": -25.0, \"xref\": \"x1\", \"y\": -40.0, \"yref\": \"y1\"}, {\"font\": {\"color\": \"black\", \"size\": 15}, \"showarrow\": false, \"text\": \"I = 2.0\", \"x\": -40.0, \"xref\": \"x1\", \"y\": -25.0, \"yref\": \"y1\"}, {\"font\": {\"color\": \"black\", \"size\": 15}, \"showarrow\": false, \"text\": \"I = 1.5\", \"x\": -40.0, \"xref\": \"x1\", \"y\": 0.0, \"yref\": \"y1\"}, {\"font\": {\"color\": \"yellow\", \"size\": 15}, \"showarrow\": false, \"text\": \"I = 18.0\", \"x\": 0.0, \"xref\": \"x1\", \"y\": 0.0, \"yref\": \"y1\"}, {\"font\": {\"color\": \"yellow\", \"size\": 15}, \"showarrow\": false, \"text\": \"I = 18.0\", \"x\": -10.0, \"xref\": \"x1\", \"y\": -10.0, \"yref\": \"y1\"}, {\"font\": {\"color\": \"black\", \"size\": 15}, \"showarrow\": false, \"text\": \"CENTRAL\", \"x\": -20.0, \"xref\": \"x1\", \"y\": 20.0, \"yref\": \"y1\"}, {\"font\": {\"color\": \"grey\", \"size\": 15}, \"showarrow\": false, \"text\": \"3.0  \", \"x\": 6.0, \"xref\": \"x1\", \"y\": 21.0, \"yref\": \"y1\"}, {\"font\": {\"color\": \"grey\", \"size\": 15}, \"showarrow\": false, \"text\": \"2.0  \", \"x\": 31.0, \"xref\": \"x1\", \"y\": 24.0, \"yref\": \"y1\"}, {\"font\": {\"color\": \"grey\", \"size\": 15}, \"showarrow\": false, \"text\": \"3.0  \", \"x\": -16.5, \"xref\": \"x1\", \"y\": -24.0, \"yref\": \"y1\"}, {\"font\": {\"color\": \"grey\", \"size\": 15}, \"showarrow\": false, \"text\": \"2.0  \", \"x\": -31.5, \"xref\": \"x1\", \"y\": -31.5, \"yref\": \"y1\"}], \"title\": \"WFP Inventory problem        Cost = 352.0          Total Cost = 10048.0   Truck 1 capacity : 5.0   Truck 2 capacity : 20\"}], \"label\": \"t = 29 (before lunch)\", \"method\": \"update\"}], \"direction\": \"up\", \"x\": 0.0, \"y\": 0.0}, {\"buttons\": [{\"args\": [{\"visible\": [true, true, true, false, false, false, false, false, false, false, false, false, false, false, false, false, false, false, false, false, false, false, false, false, false, false, false, false, false, false, false, false, false, false, false, false, false, false, false, false, false, false, false, false, false, false, false, false, false, false, false, false, false, false, false, false, false]}, {\"annotations\": [{\"font\": {\"color\": \"black\", \"size\": 15}, \"showarrow\": false, \"text\": \"I = 4.0\", \"x\": 20.0, \"xref\": \"x1\", \"y\": 20.0, \"yref\": \"y1\"}, {\"font\": {\"color\": \"black\", \"size\": 15}, \"showarrow\": false, \"text\": \"I = 0.0\", \"x\": 10.0, \"xref\": \"x1\", \"y\": 40.0, \"yref\": \"y1\"}, {\"font\": {\"color\": \"black\", \"size\": 15}, \"showarrow\": false, \"text\": \"I = 0.0\", \"x\": 50.0, \"xref\": \"x1\", \"y\": 6.0, \"yref\": \"y1\"}, {\"font\": {\"color\": \"black\", \"size\": 15}, \"showarrow\": false, \"text\": \"I = 2.5\", \"x\": 30.0, \"xref\": \"x1\", \"y\": 14.0, \"yref\": \"y1\"}, {\"font\": {\"color\": \"black\", \"size\": 15}, \"showarrow\": false, \"text\": \"I = 4.0\", \"x\": 0.0, \"xref\": \"x1\", \"y\": -40.0, \"yref\": \"y1\"}, {\"font\": {\"color\": \"black\", \"size\": 15}, \"showarrow\": false, \"text\": \"I = 0.0\", \"x\": -25.0, \"xref\": \"x1\", \"y\": -40.0, \"yref\": \"y1\"}, {\"font\": {\"color\": \"black\", \"size\": 15}, \"showarrow\": false, \"text\": \"I = 0.0\", \"x\": -40.0, \"xref\": \"x1\", \"y\": -25.0, \"yref\": \"y1\"}, {\"font\": {\"color\": \"black\", \"size\": 15}, \"showarrow\": false, \"text\": \"I = 2.5\", \"x\": -40.0, \"xref\": \"x1\", \"y\": 0.0, \"yref\": \"y1\"}, {\"font\": {\"color\": \"yellow\", \"size\": 15}, \"showarrow\": false, \"text\": \"I = 10\", \"x\": 0.0, \"xref\": \"x1\", \"y\": 0.0, \"yref\": \"y1\"}, {\"font\": {\"color\": \"yellow\", \"size\": 15}, \"showarrow\": false, \"text\": \"I = 10\", \"x\": -10.0, \"xref\": \"x1\", \"y\": -10.0, \"yref\": \"y1\"}, {\"font\": {\"color\": \"black\", \"size\": 15}, \"showarrow\": false, \"text\": \"CENTRAL\", \"x\": -20.0, \"xref\": \"x1\", \"y\": 20.0, \"yref\": \"y1\"}], \"title\": \"WFP Inventory problem        Cost = 0          Total Cost = 0   Truck 1 capacity : 5.0   Truck 2 capacity : 20\"}], \"label\": \"t = 0  (evening)\", \"method\": \"update\"}, {\"args\": [{\"visible\": [true, true, true, false, false, false, false, false, false, false, false, false, false, false, false, false, false, false, false, false, false, false, false, false, false, false, false, false, false, false, false, false, false, false, false, false, false, false, false, false, false, false, false, false, false, false, false, false, false, false, false, false, false, false, false, false, false]}, {\"annotations\": [{\"font\": {\"color\": \"black\", \"size\": 15}, \"showarrow\": false, \"text\": \"I = 3.0\", \"x\": 20.0, \"xref\": \"x1\", \"y\": 20.0, \"yref\": \"y1\"}, {\"font\": {\"color\": \"black\", \"size\": 15}, \"showarrow\": false, \"text\": \"I = 0.0\", \"x\": 10.0, \"xref\": \"x1\", \"y\": 40.0, \"yref\": \"y1\"}, {\"font\": {\"color\": \"black\", \"size\": 15}, \"showarrow\": false, \"text\": \"I = 0.0\", \"x\": 50.0, \"xref\": \"x1\", \"y\": 6.0, \"yref\": \"y1\"}, {\"font\": {\"color\": \"black\", \"size\": 15}, \"showarrow\": false, \"text\": \"I = 1.0\", \"x\": 30.0, \"xref\": \"x1\", \"y\": 14.0, \"yref\": \"y1\"}, {\"font\": {\"color\": \"black\", \"size\": 15}, \"showarrow\": false, \"text\": \"I = 3.0\", \"x\": 0.0, \"xref\": \"x1\", \"y\": -40.0, \"yref\": \"y1\"}, {\"font\": {\"color\": \"black\", \"size\": 15}, \"showarrow\": false, \"text\": \"I = 0.0\", \"x\": -25.0, \"xref\": \"x1\", \"y\": -40.0, \"yref\": \"y1\"}, {\"font\": {\"color\": \"black\", \"size\": 15}, \"showarrow\": false, \"text\": \"I = 0.0\", \"x\": -40.0, \"xref\": \"x1\", \"y\": -25.0, \"yref\": \"y1\"}, {\"font\": {\"color\": \"black\", \"size\": 15}, \"showarrow\": false, \"text\": \"I = 1.0\", \"x\": -40.0, \"xref\": \"x1\", \"y\": 0.0, \"yref\": \"y1\"}, {\"font\": {\"color\": \"yellow\", \"size\": 15}, \"showarrow\": false, \"text\": \"I = 5.0\", \"x\": 0.0, \"xref\": \"x1\", \"y\": 0.0, \"yref\": \"y1\"}, {\"font\": {\"color\": \"yellow\", \"size\": 15}, \"showarrow\": false, \"text\": \"I = 5.0\", \"x\": -10.0, \"xref\": \"x1\", \"y\": -10.0, \"yref\": \"y1\"}, {\"font\": {\"color\": \"black\", \"size\": 15}, \"showarrow\": false, \"text\": \"CENTRAL\", \"x\": -20.0, \"xref\": \"x1\", \"y\": 20.0, \"yref\": \"y1\"}], \"title\": \"WFP Inventory problem        Cost = 232.0          Total Cost = 232.0   Truck 1 capacity : 5.0   Truck 2 capacity : 20\"}], \"label\": \"t = 1  (evening)\", \"method\": \"update\"}, {\"args\": [{\"visible\": [true, true, true, false, false, false, false, false, false, false, false, false, false, false, false, false, false, false, false, false, false, false, false, false, false, false, false, false, false, false, false, false, false, false, false, false, false, false, false, false, false, false, false, false, false, false, false, false, false, false, false, false, false, false, false, false, false]}, {\"annotations\": [{\"font\": {\"color\": \"black\", \"size\": 15}, \"showarrow\": false, \"text\": \"I = 2.0\", \"x\": 20.0, \"xref\": \"x1\", \"y\": 20.0, \"yref\": \"y1\"}, {\"font\": {\"color\": \"black\", \"size\": 15}, \"showarrow\": false, \"text\": \"I = 0.0\", \"x\": 10.0, \"xref\": \"x1\", \"y\": 40.0, \"yref\": \"y1\"}, {\"font\": {\"color\": \"black\", \"size\": 15}, \"showarrow\": false, \"text\": \"I = 0.0\", \"x\": 50.0, \"xref\": \"x1\", \"y\": 6.0, \"yref\": \"y1\"}, {\"font\": {\"color\": \"black\", \"size\": 15}, \"showarrow\": false, \"text\": \"I = 2.5\", \"x\": 30.0, \"xref\": \"x1\", \"y\": 14.0, \"yref\": \"y1\"}, {\"font\": {\"color\": \"black\", \"size\": 15}, \"showarrow\": false, \"text\": \"I = 2.0\", \"x\": 0.0, \"xref\": \"x1\", \"y\": -40.0, \"yref\": \"y1\"}, {\"font\": {\"color\": \"black\", \"size\": 15}, \"showarrow\": false, \"text\": \"I = 0.0\", \"x\": -25.0, \"xref\": \"x1\", \"y\": -40.0, \"yref\": \"y1\"}, {\"font\": {\"color\": \"black\", \"size\": 15}, \"showarrow\": false, \"text\": \"I = 0.0\", \"x\": -40.0, \"xref\": \"x1\", \"y\": -25.0, \"yref\": \"y1\"}, {\"font\": {\"color\": \"black\", \"size\": 15}, \"showarrow\": false, \"text\": \"I = 1.5\", \"x\": -40.0, \"xref\": \"x1\", \"y\": 0.0, \"yref\": \"y1\"}, {\"font\": {\"color\": \"yellow\", \"size\": 15}, \"showarrow\": false, \"text\": \"I = 17.0\", \"x\": 0.0, \"xref\": \"x1\", \"y\": 0.0, \"yref\": \"y1\"}, {\"font\": {\"color\": \"yellow\", \"size\": 15}, \"showarrow\": false, \"text\": \"I = 18.0\", \"x\": -10.0, \"xref\": \"x1\", \"y\": -10.0, \"yref\": \"y1\"}, {\"font\": {\"color\": \"black\", \"size\": 15}, \"showarrow\": false, \"text\": \"CENTRAL\", \"x\": -20.0, \"xref\": \"x1\", \"y\": 20.0, \"yref\": \"y1\"}], \"title\": \"WFP Inventory problem        Cost = 459.0          Total Cost = 691.0   Truck 1 capacity : 5.0   Truck 2 capacity : 20\"}], \"label\": \"t = 2  (evening)\", \"method\": \"update\"}, {\"args\": [{\"visible\": [true, true, true, false, false, false, false, false, false, false, false, false, false, false, false, false, false, false, false, false, false, false, false, false, false, false, false, false, false, false, false, false, false, false, false, false, false, false, false, false, false, false, false, false, false, false, false, false, false, false, false, false, false, false, false, false, false]}, {\"annotations\": [{\"font\": {\"color\": \"black\", \"size\": 15}, \"showarrow\": false, \"text\": \"I = 1.0\", \"x\": 20.0, \"xref\": \"x1\", \"y\": 20.0, \"yref\": \"y1\"}, {\"font\": {\"color\": \"black\", \"size\": 15}, \"showarrow\": false, \"text\": \"I = -0.0\", \"x\": 10.0, \"xref\": \"x1\", \"y\": 40.0, \"yref\": \"y1\"}, {\"font\": {\"color\": \"black\", \"size\": 15}, \"showarrow\": false, \"text\": \"I = 0.0\", \"x\": 50.0, \"xref\": \"x1\", \"y\": 6.0, \"yref\": \"y1\"}, {\"font\": {\"color\": \"black\", \"size\": 15}, \"showarrow\": false, \"text\": \"I = 1.0\", \"x\": 30.0, \"xref\": \"x1\", \"y\": 14.0, \"yref\": \"y1\"}, {\"font\": {\"color\": \"black\", \"size\": 15}, \"showarrow\": false, \"text\": \"I = 1.0\", \"x\": 0.0, \"xref\": \"x1\", \"y\": -40.0, \"yref\": \"y1\"}, {\"font\": {\"color\": \"black\", \"size\": 15}, \"showarrow\": false, \"text\": \"I = -0.0\", \"x\": -25.0, \"xref\": \"x1\", \"y\": -40.0, \"yref\": \"y1\"}, {\"font\": {\"color\": \"black\", \"size\": 15}, \"showarrow\": false, \"text\": \"I = 0.0\", \"x\": -40.0, \"xref\": \"x1\", \"y\": -25.0, \"yref\": \"y1\"}, {\"font\": {\"color\": \"black\", \"size\": 15}, \"showarrow\": false, \"text\": \"I = -0.0\", \"x\": -40.0, \"xref\": \"x1\", \"y\": 0.0, \"yref\": \"y1\"}, {\"font\": {\"color\": \"yellow\", \"size\": 15}, \"showarrow\": false, \"text\": \"I = 12.0\", \"x\": 0.0, \"xref\": \"x1\", \"y\": 0.0, \"yref\": \"y1\"}, {\"font\": {\"color\": \"yellow\", \"size\": 15}, \"showarrow\": false, \"text\": \"I = 13.0\", \"x\": -10.0, \"xref\": \"x1\", \"y\": -10.0, \"yref\": \"y1\"}, {\"font\": {\"color\": \"black\", \"size\": 15}, \"showarrow\": false, \"text\": \"CENTRAL\", \"x\": -20.0, \"xref\": \"x1\", \"y\": 20.0, \"yref\": \"y1\"}], \"title\": \"WFP Inventory problem        Cost = 232.0          Total Cost = 924.0   Truck 1 capacity : 5.0   Truck 2 capacity : 20\"}], \"label\": \"t = 3  (evening)\", \"method\": \"update\"}, {\"args\": [{\"visible\": [true, true, true, false, false, false, false, false, false, false, false, false, false, false, false, false, false, false, false, false, false, false, false, false, false, false, false, false, false, false, false, false, false, false, false, false, false, false, false, false, false, false, false, false, false, false, false, false, false, false, false, false, false, false, false, false, false]}, {\"annotations\": [{\"font\": {\"color\": \"black\", \"size\": 15}, \"showarrow\": false, \"text\": \"I = 2.0\", \"x\": 20.0, \"xref\": \"x1\", \"y\": 20.0, \"yref\": \"y1\"}, {\"font\": {\"color\": \"black\", \"size\": 15}, \"showarrow\": false, \"text\": \"I = -0.0\", \"x\": 10.0, \"xref\": \"x1\", \"y\": 40.0, \"yref\": \"y1\"}, {\"font\": {\"color\": \"black\", \"size\": 15}, \"showarrow\": false, \"text\": \"I = 0.0\", \"x\": 50.0, \"xref\": \"x1\", \"y\": 6.0, \"yref\": \"y1\"}, {\"font\": {\"color\": \"black\", \"size\": 15}, \"showarrow\": false, \"text\": \"I = 1.5\", \"x\": 30.0, \"xref\": \"x1\", \"y\": 14.0, \"yref\": \"y1\"}, {\"font\": {\"color\": \"black\", \"size\": 15}, \"showarrow\": false, \"text\": \"I = 2.0\", \"x\": 0.0, \"xref\": \"x1\", \"y\": -40.0, \"yref\": \"y1\"}, {\"font\": {\"color\": \"black\", \"size\": 15}, \"showarrow\": false, \"text\": \"I = -0.0\", \"x\": -25.0, \"xref\": \"x1\", \"y\": -40.0, \"yref\": \"y1\"}, {\"font\": {\"color\": \"black\", \"size\": 15}, \"showarrow\": false, \"text\": \"I = 0.0\", \"x\": -40.0, \"xref\": \"x1\", \"y\": -25.0, \"yref\": \"y1\"}, {\"font\": {\"color\": \"black\", \"size\": 15}, \"showarrow\": false, \"text\": \"I = 1.5\", \"x\": -40.0, \"xref\": \"x1\", \"y\": 0.0, \"yref\": \"y1\"}, {\"font\": {\"color\": \"yellow\", \"size\": 15}, \"showarrow\": false, \"text\": \"I = 3.0\", \"x\": 0.0, \"xref\": \"x1\", \"y\": 0.0, \"yref\": \"y1\"}, {\"font\": {\"color\": \"yellow\", \"size\": 15}, \"showarrow\": false, \"text\": \"I = 3.0\", \"x\": -10.0, \"xref\": \"x1\", \"y\": -10.0, \"yref\": \"y1\"}, {\"font\": {\"color\": \"black\", \"size\": 15}, \"showarrow\": false, \"text\": \"CENTRAL\", \"x\": -20.0, \"xref\": \"x1\", \"y\": 20.0, \"yref\": \"y1\"}], \"title\": \"WFP Inventory problem        Cost = 377.0          Total Cost = 1301.0   Truck 1 capacity : 5.0   Truck 2 capacity : 20\"}], \"label\": \"t = 4  (evening)\", \"method\": \"update\"}, {\"args\": [{\"visible\": [true, true, true, false, false, false, false, false, false, false, false, false, false, false, false, false, false, false, false, false, false, false, false, false, false, false, false, false, false, false, false, false, false, false, false, false, false, false, false, false, false, false, false, false, false, false, false, false, false, false, false, false, false, false, false, false, false]}, {\"annotations\": [{\"font\": {\"color\": \"black\", \"size\": 15}, \"showarrow\": false, \"text\": \"I = 1.0\", \"x\": 20.0, \"xref\": \"x1\", \"y\": 20.0, \"yref\": \"y1\"}, {\"font\": {\"color\": \"black\", \"size\": 15}, \"showarrow\": false, \"text\": \"I = -0.0\", \"x\": 10.0, \"xref\": \"x1\", \"y\": 40.0, \"yref\": \"y1\"}, {\"font\": {\"color\": \"black\", \"size\": 15}, \"showarrow\": false, \"text\": \"I = 0.0\", \"x\": 50.0, \"xref\": \"x1\", \"y\": 6.0, \"yref\": \"y1\"}, {\"font\": {\"color\": \"black\", \"size\": 15}, \"showarrow\": false, \"text\": \"I = -0.0\", \"x\": 30.0, \"xref\": \"x1\", \"y\": 14.0, \"yref\": \"y1\"}, {\"font\": {\"color\": \"black\", \"size\": 15}, \"showarrow\": false, \"text\": \"I = 1.0\", \"x\": 0.0, \"xref\": \"x1\", \"y\": -40.0, \"yref\": \"y1\"}, {\"font\": {\"color\": \"black\", \"size\": 15}, \"showarrow\": false, \"text\": \"I = -0.0\", \"x\": -25.0, \"xref\": \"x1\", \"y\": -40.0, \"yref\": \"y1\"}, {\"font\": {\"color\": \"black\", \"size\": 15}, \"showarrow\": false, \"text\": \"I = 0.0\", \"x\": -40.0, \"xref\": \"x1\", \"y\": -25.0, \"yref\": \"y1\"}, {\"font\": {\"color\": \"black\", \"size\": 15}, \"showarrow\": false, \"text\": \"I = -0.0\", \"x\": -40.0, \"xref\": \"x1\", \"y\": 0.0, \"yref\": \"y1\"}, {\"font\": {\"color\": \"yellow\", \"size\": 15}, \"showarrow\": false, \"text\": \"I = 18.0\", \"x\": 0.0, \"xref\": \"x1\", \"y\": 0.0, \"yref\": \"y1\"}, {\"font\": {\"color\": \"yellow\", \"size\": 15}, \"showarrow\": false, \"text\": \"I = 18.0\", \"x\": -10.0, \"xref\": \"x1\", \"y\": -10.0, \"yref\": \"y1\"}, {\"font\": {\"color\": \"black\", \"size\": 15}, \"showarrow\": false, \"text\": \"CENTRAL\", \"x\": -20.0, \"xref\": \"x1\", \"y\": 20.0, \"yref\": \"y1\"}], \"title\": \"WFP Inventory problem        Cost = 352.0          Total Cost = 1653.0   Truck 1 capacity : 5.0   Truck 2 capacity : 20\"}], \"label\": \"t = 5  (evening)\", \"method\": \"update\"}, {\"args\": [{\"visible\": [true, true, true, false, false, false, false, false, false, false, false, false, false, false, false, false, false, false, false, false, false, false, false, false, false, false, false, false, false, false, false, false, false, false, false, false, false, false, false, false, false, false, false, false, false, false, false, false, false, false, false, false, false, false, false, false, false]}, {\"annotations\": [{\"font\": {\"color\": \"black\", \"size\": 15}, \"showarrow\": false, \"text\": \"I = 2.0\", \"x\": 20.0, \"xref\": \"x1\", \"y\": 20.0, \"yref\": \"y1\"}, {\"font\": {\"color\": \"black\", \"size\": 15}, \"showarrow\": false, \"text\": \"I = -0.0\", \"x\": 10.0, \"xref\": \"x1\", \"y\": 40.0, \"yref\": \"y1\"}, {\"font\": {\"color\": \"black\", \"size\": 15}, \"showarrow\": false, \"text\": \"I = 0.0\", \"x\": 50.0, \"xref\": \"x1\", \"y\": 6.0, \"yref\": \"y1\"}, {\"font\": {\"color\": \"black\", \"size\": 15}, \"showarrow\": false, \"text\": \"I = 1.5\", \"x\": 30.0, \"xref\": \"x1\", \"y\": 14.0, \"yref\": \"y1\"}, {\"font\": {\"color\": \"black\", \"size\": 15}, \"showarrow\": false, \"text\": \"I = 2.0\", \"x\": 0.0, \"xref\": \"x1\", \"y\": -40.0, \"yref\": \"y1\"}, {\"font\": {\"color\": \"black\", \"size\": 15}, \"showarrow\": false, \"text\": \"I = -0.0\", \"x\": -25.0, \"xref\": \"x1\", \"y\": -40.0, \"yref\": \"y1\"}, {\"font\": {\"color\": \"black\", \"size\": 15}, \"showarrow\": false, \"text\": \"I = 0.0\", \"x\": -40.0, \"xref\": \"x1\", \"y\": -25.0, \"yref\": \"y1\"}, {\"font\": {\"color\": \"black\", \"size\": 15}, \"showarrow\": false, \"text\": \"I = 1.5\", \"x\": -40.0, \"xref\": \"x1\", \"y\": 0.0, \"yref\": \"y1\"}, {\"font\": {\"color\": \"yellow\", \"size\": 15}, \"showarrow\": false, \"text\": \"I = 8.0\", \"x\": 0.0, \"xref\": \"x1\", \"y\": 0.0, \"yref\": \"y1\"}, {\"font\": {\"color\": \"yellow\", \"size\": 15}, \"showarrow\": false, \"text\": \"I = 8.0\", \"x\": -10.0, \"xref\": \"x1\", \"y\": -10.0, \"yref\": \"y1\"}, {\"font\": {\"color\": \"black\", \"size\": 15}, \"showarrow\": false, \"text\": \"CENTRAL\", \"x\": -20.0, \"xref\": \"x1\", \"y\": 20.0, \"yref\": \"y1\"}], \"title\": \"WFP Inventory problem        Cost = 377.0          Total Cost = 2031.0   Truck 1 capacity : 5.0   Truck 2 capacity : 20\"}], \"label\": \"t = 6  (evening)\", \"method\": \"update\"}, {\"args\": [{\"visible\": [true, true, true, false, false, false, false, false, false, false, false, false, false, false, false, false, false, false, false, false, false, false, false, false, false, false, false, false, false, false, false, false, false, false, false, false, false, false, false, false, false, false, false, false, false, false, false, false, false, false, false, false, false, false, false, false, false]}, {\"annotations\": [{\"font\": {\"color\": \"black\", \"size\": 15}, \"showarrow\": false, \"text\": \"I = 1.0\", \"x\": 20.0, \"xref\": \"x1\", \"y\": 20.0, \"yref\": \"y1\"}, {\"font\": {\"color\": \"black\", \"size\": 15}, \"showarrow\": false, \"text\": \"I = -0.0\", \"x\": 10.0, \"xref\": \"x1\", \"y\": 40.0, \"yref\": \"y1\"}, {\"font\": {\"color\": \"black\", \"size\": 15}, \"showarrow\": false, \"text\": \"I = 0.0\", \"x\": 50.0, \"xref\": \"x1\", \"y\": 6.0, \"yref\": \"y1\"}, {\"font\": {\"color\": \"black\", \"size\": 15}, \"showarrow\": false, \"text\": \"I = -0.0\", \"x\": 30.0, \"xref\": \"x1\", \"y\": 14.0, \"yref\": \"y1\"}, {\"font\": {\"color\": \"black\", \"size\": 15}, \"showarrow\": false, \"text\": \"I = 1.0\", \"x\": 0.0, \"xref\": \"x1\", \"y\": -40.0, \"yref\": \"y1\"}, {\"font\": {\"color\": \"black\", \"size\": 15}, \"showarrow\": false, \"text\": \"I = -0.0\", \"x\": -25.0, \"xref\": \"x1\", \"y\": -40.0, \"yref\": \"y1\"}, {\"font\": {\"color\": \"black\", \"size\": 15}, \"showarrow\": false, \"text\": \"I = 0.0\", \"x\": -40.0, \"xref\": \"x1\", \"y\": -25.0, \"yref\": \"y1\"}, {\"font\": {\"color\": \"black\", \"size\": 15}, \"showarrow\": false, \"text\": \"I = -0.0\", \"x\": -40.0, \"xref\": \"x1\", \"y\": 0.0, \"yref\": \"y1\"}, {\"font\": {\"color\": \"yellow\", \"size\": 15}, \"showarrow\": false, \"text\": \"I = 3.0\", \"x\": 0.0, \"xref\": \"x1\", \"y\": 0.0, \"yref\": \"y1\"}, {\"font\": {\"color\": \"yellow\", \"size\": 15}, \"showarrow\": false, \"text\": \"I = 3.0\", \"x\": -10.0, \"xref\": \"x1\", \"y\": -10.0, \"yref\": \"y1\"}, {\"font\": {\"color\": \"black\", \"size\": 15}, \"showarrow\": false, \"text\": \"CENTRAL\", \"x\": -20.0, \"xref\": \"x1\", \"y\": 20.0, \"yref\": \"y1\"}], \"title\": \"WFP Inventory problem        Cost = 232.0          Total Cost = 2263.0   Truck 1 capacity : 5.0   Truck 2 capacity : 20\"}], \"label\": \"t = 7  (evening)\", \"method\": \"update\"}, {\"args\": [{\"visible\": [true, true, true, false, false, false, false, false, false, false, false, false, false, false, false, false, false, false, false, false, false, false, false, false, false, false, false, false, false, false, false, false, false, false, false, false, false, false, false, false, false, false, false, false, false, false, false, false, false, false, false, false, false, false, false, false, false]}, {\"annotations\": [{\"font\": {\"color\": \"black\", \"size\": 15}, \"showarrow\": false, \"text\": \"I = 2.0\", \"x\": 20.0, \"xref\": \"x1\", \"y\": 20.0, \"yref\": \"y1\"}, {\"font\": {\"color\": \"black\", \"size\": 15}, \"showarrow\": false, \"text\": \"I = -0.0\", \"x\": 10.0, \"xref\": \"x1\", \"y\": 40.0, \"yref\": \"y1\"}, {\"font\": {\"color\": \"black\", \"size\": 15}, \"showarrow\": false, \"text\": \"I = 0.0\", \"x\": 50.0, \"xref\": \"x1\", \"y\": 6.0, \"yref\": \"y1\"}, {\"font\": {\"color\": \"black\", \"size\": 15}, \"showarrow\": false, \"text\": \"I = 1.5\", \"x\": 30.0, \"xref\": \"x1\", \"y\": 14.0, \"yref\": \"y1\"}, {\"font\": {\"color\": \"black\", \"size\": 15}, \"showarrow\": false, \"text\": \"I = 2.0\", \"x\": 0.0, \"xref\": \"x1\", \"y\": -40.0, \"yref\": \"y1\"}, {\"font\": {\"color\": \"black\", \"size\": 15}, \"showarrow\": false, \"text\": \"I = -0.0\", \"x\": -25.0, \"xref\": \"x1\", \"y\": -40.0, \"yref\": \"y1\"}, {\"font\": {\"color\": \"black\", \"size\": 15}, \"showarrow\": false, \"text\": \"I = 0.0\", \"x\": -40.0, \"xref\": \"x1\", \"y\": -25.0, \"yref\": \"y1\"}, {\"font\": {\"color\": \"black\", \"size\": 15}, \"showarrow\": false, \"text\": \"I = 1.5\", \"x\": -40.0, \"xref\": \"x1\", \"y\": 0.0, \"yref\": \"y1\"}, {\"font\": {\"color\": \"yellow\", \"size\": 15}, \"showarrow\": false, \"text\": \"I = 13.0\", \"x\": 0.0, \"xref\": \"x1\", \"y\": 0.0, \"yref\": \"y1\"}, {\"font\": {\"color\": \"yellow\", \"size\": 15}, \"showarrow\": false, \"text\": \"I = 13.0\", \"x\": -10.0, \"xref\": \"x1\", \"y\": -10.0, \"yref\": \"y1\"}, {\"font\": {\"color\": \"black\", \"size\": 15}, \"showarrow\": false, \"text\": \"CENTRAL\", \"x\": -20.0, \"xref\": \"x1\", \"y\": 20.0, \"yref\": \"y1\"}], \"title\": \"WFP Inventory problem        Cost = 497.0          Total Cost = 2760.0   Truck 1 capacity : 5.0   Truck 2 capacity : 20\"}], \"label\": \"t = 8  (evening)\", \"method\": \"update\"}, {\"args\": [{\"visible\": [true, true, true, false, false, false, false, false, false, false, false, false, false, false, false, false, false, false, false, false, false, false, false, false, false, false, false, false, false, false, false, false, false, false, false, false, false, false, false, false, false, false, false, false, false, false, false, false, false, false, false, false, false, false, false, false, false]}, {\"annotations\": [{\"font\": {\"color\": \"black\", \"size\": 15}, \"showarrow\": false, \"text\": \"I = 1.0\", \"x\": 20.0, \"xref\": \"x1\", \"y\": 20.0, \"yref\": \"y1\"}, {\"font\": {\"color\": \"black\", \"size\": 15}, \"showarrow\": false, \"text\": \"I = -0.0\", \"x\": 10.0, \"xref\": \"x1\", \"y\": 40.0, \"yref\": \"y1\"}, {\"font\": {\"color\": \"black\", \"size\": 15}, \"showarrow\": false, \"text\": \"I = 0.0\", \"x\": 50.0, \"xref\": \"x1\", \"y\": 6.0, \"yref\": \"y1\"}, {\"font\": {\"color\": \"black\", \"size\": 15}, \"showarrow\": false, \"text\": \"I = -0.0\", \"x\": 30.0, \"xref\": \"x1\", \"y\": 14.0, \"yref\": \"y1\"}, {\"font\": {\"color\": \"black\", \"size\": 15}, \"showarrow\": false, \"text\": \"I = 1.0\", \"x\": 0.0, \"xref\": \"x1\", \"y\": -40.0, \"yref\": \"y1\"}, {\"font\": {\"color\": \"black\", \"size\": 15}, \"showarrow\": false, \"text\": \"I = -0.0\", \"x\": -25.0, \"xref\": \"x1\", \"y\": -40.0, \"yref\": \"y1\"}, {\"font\": {\"color\": \"black\", \"size\": 15}, \"showarrow\": false, \"text\": \"I = 0.0\", \"x\": -40.0, \"xref\": \"x1\", \"y\": -25.0, \"yref\": \"y1\"}, {\"font\": {\"color\": \"black\", \"size\": 15}, \"showarrow\": false, \"text\": \"I = -0.0\", \"x\": -40.0, \"xref\": \"x1\", \"y\": 0.0, \"yref\": \"y1\"}, {\"font\": {\"color\": \"yellow\", \"size\": 15}, \"showarrow\": false, \"text\": \"I = 8.0\", \"x\": 0.0, \"xref\": \"x1\", \"y\": 0.0, \"yref\": \"y1\"}, {\"font\": {\"color\": \"yellow\", \"size\": 15}, \"showarrow\": false, \"text\": \"I = 8.0\", \"x\": -10.0, \"xref\": \"x1\", \"y\": -10.0, \"yref\": \"y1\"}, {\"font\": {\"color\": \"black\", \"size\": 15}, \"showarrow\": false, \"text\": \"CENTRAL\", \"x\": -20.0, \"xref\": \"x1\", \"y\": 20.0, \"yref\": \"y1\"}], \"title\": \"WFP Inventory problem        Cost = 232.0          Total Cost = 2993.0   Truck 1 capacity : 5.0   Truck 2 capacity : 20\"}], \"label\": \"t = 9  (evening)\", \"method\": \"update\"}, {\"args\": [{\"visible\": [true, true, true, false, false, false, false, false, false, false, false, false, false, false, false, false, false, false, false, false, false, false, false, false, false, false, false, false, false, false, false, false, false, false, false, false, false, false, false, false, false, false, false, false, false, false, false, false, false, false, false, false, false, false, false, false, false]}, {\"annotations\": [{\"font\": {\"color\": \"black\", \"size\": 15}, \"showarrow\": false, \"text\": \"I = 2.0\", \"x\": 20.0, \"xref\": \"x1\", \"y\": 20.0, \"yref\": \"y1\"}, {\"font\": {\"color\": \"black\", \"size\": 15}, \"showarrow\": false, \"text\": \"I = -0.0\", \"x\": 10.0, \"xref\": \"x1\", \"y\": 40.0, \"yref\": \"y1\"}, {\"font\": {\"color\": \"black\", \"size\": 15}, \"showarrow\": false, \"text\": \"I = 0.0\", \"x\": 50.0, \"xref\": \"x1\", \"y\": 6.0, \"yref\": \"y1\"}, {\"font\": {\"color\": \"black\", \"size\": 15}, \"showarrow\": false, \"text\": \"I = 1.5\", \"x\": 30.0, \"xref\": \"x1\", \"y\": 14.0, \"yref\": \"y1\"}, {\"font\": {\"color\": \"black\", \"size\": 15}, \"showarrow\": false, \"text\": \"I = 2.0\", \"x\": 0.0, \"xref\": \"x1\", \"y\": -40.0, \"yref\": \"y1\"}, {\"font\": {\"color\": \"black\", \"size\": 15}, \"showarrow\": false, \"text\": \"I = -0.0\", \"x\": -25.0, \"xref\": \"x1\", \"y\": -40.0, \"yref\": \"y1\"}, {\"font\": {\"color\": \"black\", \"size\": 15}, \"showarrow\": false, \"text\": \"I = 0.0\", \"x\": -40.0, \"xref\": \"x1\", \"y\": -25.0, \"yref\": \"y1\"}, {\"font\": {\"color\": \"black\", \"size\": 15}, \"showarrow\": false, \"text\": \"I = 1.5\", \"x\": -40.0, \"xref\": \"x1\", \"y\": 0.0, \"yref\": \"y1\"}, {\"font\": {\"color\": \"yellow\", \"size\": 15}, \"showarrow\": false, \"text\": \"I = 18.0\", \"x\": 0.0, \"xref\": \"x1\", \"y\": 0.0, \"yref\": \"y1\"}, {\"font\": {\"color\": \"yellow\", \"size\": 15}, \"showarrow\": false, \"text\": \"I = 18.0\", \"x\": -10.0, \"xref\": \"x1\", \"y\": -10.0, \"yref\": \"y1\"}, {\"font\": {\"color\": \"black\", \"size\": 15}, \"showarrow\": false, \"text\": \"CENTRAL\", \"x\": -20.0, \"xref\": \"x1\", \"y\": 20.0, \"yref\": \"y1\"}], \"title\": \"WFP Inventory problem        Cost = 497.0          Total Cost = 3490.0   Truck 1 capacity : 5.0   Truck 2 capacity : 20\"}], \"label\": \"t = 10  (evening)\", \"method\": \"update\"}, {\"args\": [{\"visible\": [true, true, true, false, false, false, false, false, false, false, false, false, false, false, false, false, false, false, false, false, false, false, false, false, false, false, false, false, false, false, false, false, false, false, false, false, false, false, false, false, false, false, false, false, false, false, false, false, false, false, false, false, false, false, false, false, false]}, {\"annotations\": [{\"font\": {\"color\": \"black\", \"size\": 15}, \"showarrow\": false, \"text\": \"I = 1.0\", \"x\": 20.0, \"xref\": \"x1\", \"y\": 20.0, \"yref\": \"y1\"}, {\"font\": {\"color\": \"black\", \"size\": 15}, \"showarrow\": false, \"text\": \"I = -0.0\", \"x\": 10.0, \"xref\": \"x1\", \"y\": 40.0, \"yref\": \"y1\"}, {\"font\": {\"color\": \"black\", \"size\": 15}, \"showarrow\": false, \"text\": \"I = 0.0\", \"x\": 50.0, \"xref\": \"x1\", \"y\": 6.0, \"yref\": \"y1\"}, {\"font\": {\"color\": \"black\", \"size\": 15}, \"showarrow\": false, \"text\": \"I = -0.0\", \"x\": 30.0, \"xref\": \"x1\", \"y\": 14.0, \"yref\": \"y1\"}, {\"font\": {\"color\": \"black\", \"size\": 15}, \"showarrow\": false, \"text\": \"I = 1.0\", \"x\": 0.0, \"xref\": \"x1\", \"y\": -40.0, \"yref\": \"y1\"}, {\"font\": {\"color\": \"black\", \"size\": 15}, \"showarrow\": false, \"text\": \"I = -0.0\", \"x\": -25.0, \"xref\": \"x1\", \"y\": -40.0, \"yref\": \"y1\"}, {\"font\": {\"color\": \"black\", \"size\": 15}, \"showarrow\": false, \"text\": \"I = 0.0\", \"x\": -40.0, \"xref\": \"x1\", \"y\": -25.0, \"yref\": \"y1\"}, {\"font\": {\"color\": \"black\", \"size\": 15}, \"showarrow\": false, \"text\": \"I = -0.0\", \"x\": -40.0, \"xref\": \"x1\", \"y\": 0.0, \"yref\": \"y1\"}, {\"font\": {\"color\": \"yellow\", \"size\": 15}, \"showarrow\": false, \"text\": \"I = 13.0\", \"x\": 0.0, \"xref\": \"x1\", \"y\": 0.0, \"yref\": \"y1\"}, {\"font\": {\"color\": \"yellow\", \"size\": 15}, \"showarrow\": false, \"text\": \"I = 13.0\", \"x\": -10.0, \"xref\": \"x1\", \"y\": -10.0, \"yref\": \"y1\"}, {\"font\": {\"color\": \"black\", \"size\": 15}, \"showarrow\": false, \"text\": \"CENTRAL\", \"x\": -20.0, \"xref\": \"x1\", \"y\": 20.0, \"yref\": \"y1\"}], \"title\": \"WFP Inventory problem        Cost = 232.0          Total Cost = 3722.0   Truck 1 capacity : 5.0   Truck 2 capacity : 20\"}], \"label\": \"t = 11  (evening)\", \"method\": \"update\"}, {\"args\": [{\"visible\": [true, true, true, false, false, false, false, false, false, false, false, false, false, false, false, false, false, false, false, false, false, false, false, false, false, false, false, false, false, false, false, false, false, false, false, false, false, false, false, false, false, false, false, false, false, false, false, false, false, false, false, false, false, false, false, false, false]}, {\"annotations\": [{\"font\": {\"color\": \"black\", \"size\": 15}, \"showarrow\": false, \"text\": \"I = 2.0\", \"x\": 20.0, \"xref\": \"x1\", \"y\": 20.0, \"yref\": \"y1\"}, {\"font\": {\"color\": \"black\", \"size\": 15}, \"showarrow\": false, \"text\": \"I = -0.0\", \"x\": 10.0, \"xref\": \"x1\", \"y\": 40.0, \"yref\": \"y1\"}, {\"font\": {\"color\": \"black\", \"size\": 15}, \"showarrow\": false, \"text\": \"I = 0.0\", \"x\": 50.0, \"xref\": \"x1\", \"y\": 6.0, \"yref\": \"y1\"}, {\"font\": {\"color\": \"black\", \"size\": 15}, \"showarrow\": false, \"text\": \"I = 1.5\", \"x\": 30.0, \"xref\": \"x1\", \"y\": 14.0, \"yref\": \"y1\"}, {\"font\": {\"color\": \"black\", \"size\": 15}, \"showarrow\": false, \"text\": \"I = 2.0\", \"x\": 0.0, \"xref\": \"x1\", \"y\": -40.0, \"yref\": \"y1\"}, {\"font\": {\"color\": \"black\", \"size\": 15}, \"showarrow\": false, \"text\": \"I = -0.0\", \"x\": -25.0, \"xref\": \"x1\", \"y\": -40.0, \"yref\": \"y1\"}, {\"font\": {\"color\": \"black\", \"size\": 15}, \"showarrow\": false, \"text\": \"I = 0.0\", \"x\": -40.0, \"xref\": \"x1\", \"y\": -25.0, \"yref\": \"y1\"}, {\"font\": {\"color\": \"black\", \"size\": 15}, \"showarrow\": false, \"text\": \"I = 1.5\", \"x\": -40.0, \"xref\": \"x1\", \"y\": 0.0, \"yref\": \"y1\"}, {\"font\": {\"color\": \"yellow\", \"size\": 15}, \"showarrow\": false, \"text\": \"I = 3.0\", \"x\": 0.0, \"xref\": \"x1\", \"y\": 0.0, \"yref\": \"y1\"}, {\"font\": {\"color\": \"yellow\", \"size\": 15}, \"showarrow\": false, \"text\": \"I = 3.0\", \"x\": -10.0, \"xref\": \"x1\", \"y\": -10.0, \"yref\": \"y1\"}, {\"font\": {\"color\": \"black\", \"size\": 15}, \"showarrow\": false, \"text\": \"CENTRAL\", \"x\": -20.0, \"xref\": \"x1\", \"y\": 20.0, \"yref\": \"y1\"}], \"title\": \"WFP Inventory problem        Cost = 377.0          Total Cost = 4099.0   Truck 1 capacity : 5.0   Truck 2 capacity : 20\"}], \"label\": \"t = 12  (evening)\", \"method\": \"update\"}, {\"args\": [{\"visible\": [true, true, true, false, false, false, false, false, false, false, false, false, false, false, false, false, false, false, false, false, false, false, false, false, false, false, false, false, false, false, false, false, false, false, false, false, false, false, false, false, false, false, false, false, false, false, false, false, false, false, false, false, false, false, false, false, false]}, {\"annotations\": [{\"font\": {\"color\": \"black\", \"size\": 15}, \"showarrow\": false, \"text\": \"I = 1.0\", \"x\": 20.0, \"xref\": \"x1\", \"y\": 20.0, \"yref\": \"y1\"}, {\"font\": {\"color\": \"black\", \"size\": 15}, \"showarrow\": false, \"text\": \"I = -0.0\", \"x\": 10.0, \"xref\": \"x1\", \"y\": 40.0, \"yref\": \"y1\"}, {\"font\": {\"color\": \"black\", \"size\": 15}, \"showarrow\": false, \"text\": \"I = 0.0\", \"x\": 50.0, \"xref\": \"x1\", \"y\": 6.0, \"yref\": \"y1\"}, {\"font\": {\"color\": \"black\", \"size\": 15}, \"showarrow\": false, \"text\": \"I = -0.0\", \"x\": 30.0, \"xref\": \"x1\", \"y\": 14.0, \"yref\": \"y1\"}, {\"font\": {\"color\": \"black\", \"size\": 15}, \"showarrow\": false, \"text\": \"I = 1.0\", \"x\": 0.0, \"xref\": \"x1\", \"y\": -40.0, \"yref\": \"y1\"}, {\"font\": {\"color\": \"black\", \"size\": 15}, \"showarrow\": false, \"text\": \"I = 0.0\", \"x\": -25.0, \"xref\": \"x1\", \"y\": -40.0, \"yref\": \"y1\"}, {\"font\": {\"color\": \"black\", \"size\": 15}, \"showarrow\": false, \"text\": \"I = -0.0\", \"x\": -40.0, \"xref\": \"x1\", \"y\": -25.0, \"yref\": \"y1\"}, {\"font\": {\"color\": \"black\", \"size\": 15}, \"showarrow\": false, \"text\": \"I = -0.0\", \"x\": -40.0, \"xref\": \"x1\", \"y\": 0.0, \"yref\": \"y1\"}, {\"font\": {\"color\": \"yellow\", \"size\": 15}, \"showarrow\": false, \"text\": \"I = 18.0\", \"x\": 0.0, \"xref\": \"x1\", \"y\": 0.0, \"yref\": \"y1\"}, {\"font\": {\"color\": \"yellow\", \"size\": 15}, \"showarrow\": false, \"text\": \"I = 18.0\", \"x\": -10.0, \"xref\": \"x1\", \"y\": -10.0, \"yref\": \"y1\"}, {\"font\": {\"color\": \"black\", \"size\": 15}, \"showarrow\": false, \"text\": \"CENTRAL\", \"x\": -20.0, \"xref\": \"x1\", \"y\": 20.0, \"yref\": \"y1\"}], \"title\": \"WFP Inventory problem        Cost = 352.0          Total Cost = 4452.0   Truck 1 capacity : 5.0   Truck 2 capacity : 20\"}], \"label\": \"t = 13  (evening)\", \"method\": \"update\"}, {\"args\": [{\"visible\": [true, true, true, false, false, false, false, false, false, false, false, false, false, false, false, false, false, false, false, false, false, false, false, false, false, false, false, false, false, false, false, false, false, false, false, false, false, false, false, false, false, false, false, false, false, false, false, false, false, false, false, false, false, false, false, false, false]}, {\"annotations\": [{\"font\": {\"color\": \"black\", \"size\": 15}, \"showarrow\": false, \"text\": \"I = 2.0\", \"x\": 20.0, \"xref\": \"x1\", \"y\": 20.0, \"yref\": \"y1\"}, {\"font\": {\"color\": \"black\", \"size\": 15}, \"showarrow\": false, \"text\": \"I = -0.0\", \"x\": 10.0, \"xref\": \"x1\", \"y\": 40.0, \"yref\": \"y1\"}, {\"font\": {\"color\": \"black\", \"size\": 15}, \"showarrow\": false, \"text\": \"I = 0.0\", \"x\": 50.0, \"xref\": \"x1\", \"y\": 6.0, \"yref\": \"y1\"}, {\"font\": {\"color\": \"black\", \"size\": 15}, \"showarrow\": false, \"text\": \"I = 1.5\", \"x\": 30.0, \"xref\": \"x1\", \"y\": 14.0, \"yref\": \"y1\"}, {\"font\": {\"color\": \"black\", \"size\": 15}, \"showarrow\": false, \"text\": \"I = 2.0\", \"x\": 0.0, \"xref\": \"x1\", \"y\": -40.0, \"yref\": \"y1\"}, {\"font\": {\"color\": \"black\", \"size\": 15}, \"showarrow\": false, \"text\": \"I = -0.0\", \"x\": -25.0, \"xref\": \"x1\", \"y\": -40.0, \"yref\": \"y1\"}, {\"font\": {\"color\": \"black\", \"size\": 15}, \"showarrow\": false, \"text\": \"I = 0.0\", \"x\": -40.0, \"xref\": \"x1\", \"y\": -25.0, \"yref\": \"y1\"}, {\"font\": {\"color\": \"black\", \"size\": 15}, \"showarrow\": false, \"text\": \"I = 1.5\", \"x\": -40.0, \"xref\": \"x1\", \"y\": 0.0, \"yref\": \"y1\"}, {\"font\": {\"color\": \"yellow\", \"size\": 15}, \"showarrow\": false, \"text\": \"I = 8.0\", \"x\": 0.0, \"xref\": \"x1\", \"y\": 0.0, \"yref\": \"y1\"}, {\"font\": {\"color\": \"yellow\", \"size\": 15}, \"showarrow\": false, \"text\": \"I = 8.0\", \"x\": -10.0, \"xref\": \"x1\", \"y\": -10.0, \"yref\": \"y1\"}, {\"font\": {\"color\": \"black\", \"size\": 15}, \"showarrow\": false, \"text\": \"CENTRAL\", \"x\": -20.0, \"xref\": \"x1\", \"y\": 20.0, \"yref\": \"y1\"}], \"title\": \"WFP Inventory problem        Cost = 377.0          Total Cost = 4829.0   Truck 1 capacity : 5.0   Truck 2 capacity : 20\"}], \"label\": \"t = 14  (evening)\", \"method\": \"update\"}, {\"args\": [{\"visible\": [true, true, true, false, false, false, false, false, false, false, false, false, false, false, false, false, false, false, false, false, false, false, false, false, false, false, false, false, false, false, false, false, false, false, false, false, false, false, false, false, false, false, false, false, false, false, false, false, false, false, false, false, false, false, false, false, false]}, {\"annotations\": [{\"font\": {\"color\": \"black\", \"size\": 15}, \"showarrow\": false, \"text\": \"I = 1.0\", \"x\": 20.0, \"xref\": \"x1\", \"y\": 20.0, \"yref\": \"y1\"}, {\"font\": {\"color\": \"black\", \"size\": 15}, \"showarrow\": false, \"text\": \"I = -0.0\", \"x\": 10.0, \"xref\": \"x1\", \"y\": 40.0, \"yref\": \"y1\"}, {\"font\": {\"color\": \"black\", \"size\": 15}, \"showarrow\": false, \"text\": \"I = 0.0\", \"x\": 50.0, \"xref\": \"x1\", \"y\": 6.0, \"yref\": \"y1\"}, {\"font\": {\"color\": \"black\", \"size\": 15}, \"showarrow\": false, \"text\": \"I = -0.0\", \"x\": 30.0, \"xref\": \"x1\", \"y\": 14.0, \"yref\": \"y1\"}, {\"font\": {\"color\": \"black\", \"size\": 15}, \"showarrow\": false, \"text\": \"I = 1.0\", \"x\": 0.0, \"xref\": \"x1\", \"y\": -40.0, \"yref\": \"y1\"}, {\"font\": {\"color\": \"black\", \"size\": 15}, \"showarrow\": false, \"text\": \"I = -0.0\", \"x\": -25.0, \"xref\": \"x1\", \"y\": -40.0, \"yref\": \"y1\"}, {\"font\": {\"color\": \"black\", \"size\": 15}, \"showarrow\": false, \"text\": \"I = 0.0\", \"x\": -40.0, \"xref\": \"x1\", \"y\": -25.0, \"yref\": \"y1\"}, {\"font\": {\"color\": \"black\", \"size\": 15}, \"showarrow\": false, \"text\": \"I = -0.0\", \"x\": -40.0, \"xref\": \"x1\", \"y\": 0.0, \"yref\": \"y1\"}, {\"font\": {\"color\": \"yellow\", \"size\": 15}, \"showarrow\": false, \"text\": \"I = 3.0\", \"x\": 0.0, \"xref\": \"x1\", \"y\": 0.0, \"yref\": \"y1\"}, {\"font\": {\"color\": \"yellow\", \"size\": 15}, \"showarrow\": false, \"text\": \"I = 3.0\", \"x\": -10.0, \"xref\": \"x1\", \"y\": -10.0, \"yref\": \"y1\"}, {\"font\": {\"color\": \"black\", \"size\": 15}, \"showarrow\": false, \"text\": \"CENTRAL\", \"x\": -20.0, \"xref\": \"x1\", \"y\": 20.0, \"yref\": \"y1\"}], \"title\": \"WFP Inventory problem        Cost = 232.0          Total Cost = 5061.0   Truck 1 capacity : 5.0   Truck 2 capacity : 20\"}], \"label\": \"t = 15  (evening)\", \"method\": \"update\"}, {\"args\": [{\"visible\": [true, true, true, false, false, false, false, false, false, false, false, false, false, false, false, false, false, false, false, false, false, false, false, false, false, false, false, false, false, false, false, false, false, false, false, false, false, false, false, false, false, false, false, false, false, false, false, false, false, false, false, false, false, false, false, false, false]}, {\"annotations\": [{\"font\": {\"color\": \"black\", \"size\": 15}, \"showarrow\": false, \"text\": \"I = 2.0\", \"x\": 20.0, \"xref\": \"x1\", \"y\": 20.0, \"yref\": \"y1\"}, {\"font\": {\"color\": \"black\", \"size\": 15}, \"showarrow\": false, \"text\": \"I = -0.0\", \"x\": 10.0, \"xref\": \"x1\", \"y\": 40.0, \"yref\": \"y1\"}, {\"font\": {\"color\": \"black\", \"size\": 15}, \"showarrow\": false, \"text\": \"I = 0.0\", \"x\": 50.0, \"xref\": \"x1\", \"y\": 6.0, \"yref\": \"y1\"}, {\"font\": {\"color\": \"black\", \"size\": 15}, \"showarrow\": false, \"text\": \"I = 1.5\", \"x\": 30.0, \"xref\": \"x1\", \"y\": 14.0, \"yref\": \"y1\"}, {\"font\": {\"color\": \"black\", \"size\": 15}, \"showarrow\": false, \"text\": \"I = 2.0\", \"x\": 0.0, \"xref\": \"x1\", \"y\": -40.0, \"yref\": \"y1\"}, {\"font\": {\"color\": \"black\", \"size\": 15}, \"showarrow\": false, \"text\": \"I = -0.0\", \"x\": -25.0, \"xref\": \"x1\", \"y\": -40.0, \"yref\": \"y1\"}, {\"font\": {\"color\": \"black\", \"size\": 15}, \"showarrow\": false, \"text\": \"I = 0.0\", \"x\": -40.0, \"xref\": \"x1\", \"y\": -25.0, \"yref\": \"y1\"}, {\"font\": {\"color\": \"black\", \"size\": 15}, \"showarrow\": false, \"text\": \"I = 1.5\", \"x\": -40.0, \"xref\": \"x1\", \"y\": 0.0, \"yref\": \"y1\"}, {\"font\": {\"color\": \"yellow\", \"size\": 15}, \"showarrow\": false, \"text\": \"I = 13.0\", \"x\": 0.0, \"xref\": \"x1\", \"y\": 0.0, \"yref\": \"y1\"}, {\"font\": {\"color\": \"yellow\", \"size\": 15}, \"showarrow\": false, \"text\": \"I = 13.0\", \"x\": -10.0, \"xref\": \"x1\", \"y\": -10.0, \"yref\": \"y1\"}, {\"font\": {\"color\": \"black\", \"size\": 15}, \"showarrow\": false, \"text\": \"CENTRAL\", \"x\": -20.0, \"xref\": \"x1\", \"y\": 20.0, \"yref\": \"y1\"}], \"title\": \"WFP Inventory problem        Cost = 497.0          Total Cost = 5559.0   Truck 1 capacity : 5.0   Truck 2 capacity : 20\"}], \"label\": \"t = 16  (evening)\", \"method\": \"update\"}, {\"args\": [{\"visible\": [true, true, true, false, false, false, false, false, false, false, false, false, false, false, false, false, false, false, false, false, false, false, false, false, false, false, false, false, false, false, false, false, false, false, false, false, false, false, false, false, false, false, false, false, false, false, false, false, false, false, false, false, false, false, false, false, false]}, {\"annotations\": [{\"font\": {\"color\": \"black\", \"size\": 15}, \"showarrow\": false, \"text\": \"I = 1.0\", \"x\": 20.0, \"xref\": \"x1\", \"y\": 20.0, \"yref\": \"y1\"}, {\"font\": {\"color\": \"black\", \"size\": 15}, \"showarrow\": false, \"text\": \"I = -0.0\", \"x\": 10.0, \"xref\": \"x1\", \"y\": 40.0, \"yref\": \"y1\"}, {\"font\": {\"color\": \"black\", \"size\": 15}, \"showarrow\": false, \"text\": \"I = 0.0\", \"x\": 50.0, \"xref\": \"x1\", \"y\": 6.0, \"yref\": \"y1\"}, {\"font\": {\"color\": \"black\", \"size\": 15}, \"showarrow\": false, \"text\": \"I = -0.0\", \"x\": 30.0, \"xref\": \"x1\", \"y\": 14.0, \"yref\": \"y1\"}, {\"font\": {\"color\": \"black\", \"size\": 15}, \"showarrow\": false, \"text\": \"I = 1.0\", \"x\": 0.0, \"xref\": \"x1\", \"y\": -40.0, \"yref\": \"y1\"}, {\"font\": {\"color\": \"black\", \"size\": 15}, \"showarrow\": false, \"text\": \"I = 0.0\", \"x\": -25.0, \"xref\": \"x1\", \"y\": -40.0, \"yref\": \"y1\"}, {\"font\": {\"color\": \"black\", \"size\": 15}, \"showarrow\": false, \"text\": \"I = 0.0\", \"x\": -40.0, \"xref\": \"x1\", \"y\": -25.0, \"yref\": \"y1\"}, {\"font\": {\"color\": \"black\", \"size\": 15}, \"showarrow\": false, \"text\": \"I = -0.0\", \"x\": -40.0, \"xref\": \"x1\", \"y\": 0.0, \"yref\": \"y1\"}, {\"font\": {\"color\": \"yellow\", \"size\": 15}, \"showarrow\": false, \"text\": \"I = 8.0\", \"x\": 0.0, \"xref\": \"x1\", \"y\": 0.0, \"yref\": \"y1\"}, {\"font\": {\"color\": \"yellow\", \"size\": 15}, \"showarrow\": false, \"text\": \"I = 8.0\", \"x\": -10.0, \"xref\": \"x1\", \"y\": -10.0, \"yref\": \"y1\"}, {\"font\": {\"color\": \"black\", \"size\": 15}, \"showarrow\": false, \"text\": \"CENTRAL\", \"x\": -20.0, \"xref\": \"x1\", \"y\": 20.0, \"yref\": \"y1\"}], \"title\": \"WFP Inventory problem        Cost = 232.0          Total Cost = 5791.0   Truck 1 capacity : 5.0   Truck 2 capacity : 20\"}], \"label\": \"t = 17  (evening)\", \"method\": \"update\"}, {\"args\": [{\"visible\": [true, true, true, false, false, false, false, false, false, false, false, false, false, false, false, false, false, false, false, false, false, false, false, false, false, false, false, false, false, false, false, false, false, false, false, false, false, false, false, false, false, false, false, false, false, false, false, false, false, false, false, false, false, false, false, false, false]}, {\"annotations\": [{\"font\": {\"color\": \"black\", \"size\": 15}, \"showarrow\": false, \"text\": \"I = 2.0\", \"x\": 20.0, \"xref\": \"x1\", \"y\": 20.0, \"yref\": \"y1\"}, {\"font\": {\"color\": \"black\", \"size\": 15}, \"showarrow\": false, \"text\": \"I = -0.0\", \"x\": 10.0, \"xref\": \"x1\", \"y\": 40.0, \"yref\": \"y1\"}, {\"font\": {\"color\": \"black\", \"size\": 15}, \"showarrow\": false, \"text\": \"I = 0.0\", \"x\": 50.0, \"xref\": \"x1\", \"y\": 6.0, \"yref\": \"y1\"}, {\"font\": {\"color\": \"black\", \"size\": 15}, \"showarrow\": false, \"text\": \"I = 1.5\", \"x\": 30.0, \"xref\": \"x1\", \"y\": 14.0, \"yref\": \"y1\"}, {\"font\": {\"color\": \"black\", \"size\": 15}, \"showarrow\": false, \"text\": \"I = 2.0\", \"x\": 0.0, \"xref\": \"x1\", \"y\": -40.0, \"yref\": \"y1\"}, {\"font\": {\"color\": \"black\", \"size\": 15}, \"showarrow\": false, \"text\": \"I = -0.0\", \"x\": -25.0, \"xref\": \"x1\", \"y\": -40.0, \"yref\": \"y1\"}, {\"font\": {\"color\": \"black\", \"size\": 15}, \"showarrow\": false, \"text\": \"I = 0.0\", \"x\": -40.0, \"xref\": \"x1\", \"y\": -25.0, \"yref\": \"y1\"}, {\"font\": {\"color\": \"black\", \"size\": 15}, \"showarrow\": false, \"text\": \"I = 1.5\", \"x\": -40.0, \"xref\": \"x1\", \"y\": 0.0, \"yref\": \"y1\"}, {\"font\": {\"color\": \"yellow\", \"size\": 15}, \"showarrow\": false, \"text\": \"I = 18.0\", \"x\": 0.0, \"xref\": \"x1\", \"y\": 0.0, \"yref\": \"y1\"}, {\"font\": {\"color\": \"yellow\", \"size\": 15}, \"showarrow\": false, \"text\": \"I = 18.0\", \"x\": -10.0, \"xref\": \"x1\", \"y\": -10.0, \"yref\": \"y1\"}, {\"font\": {\"color\": \"black\", \"size\": 15}, \"showarrow\": false, \"text\": \"CENTRAL\", \"x\": -20.0, \"xref\": \"x1\", \"y\": 20.0, \"yref\": \"y1\"}], \"title\": \"WFP Inventory problem        Cost = 497.0          Total Cost = 6288.0   Truck 1 capacity : 5.0   Truck 2 capacity : 20\"}], \"label\": \"t = 18  (evening)\", \"method\": \"update\"}, {\"args\": [{\"visible\": [true, true, true, false, false, false, false, false, false, false, false, false, false, false, false, false, false, false, false, false, false, false, false, false, false, false, false, false, false, false, false, false, false, false, false, false, false, false, false, false, false, false, false, false, false, false, false, false, false, false, false, false, false, false, false, false, false]}, {\"annotations\": [{\"font\": {\"color\": \"black\", \"size\": 15}, \"showarrow\": false, \"text\": \"I = 1.0\", \"x\": 20.0, \"xref\": \"x1\", \"y\": 20.0, \"yref\": \"y1\"}, {\"font\": {\"color\": \"black\", \"size\": 15}, \"showarrow\": false, \"text\": \"I = -0.0\", \"x\": 10.0, \"xref\": \"x1\", \"y\": 40.0, \"yref\": \"y1\"}, {\"font\": {\"color\": \"black\", \"size\": 15}, \"showarrow\": false, \"text\": \"I = 0.0\", \"x\": 50.0, \"xref\": \"x1\", \"y\": 6.0, \"yref\": \"y1\"}, {\"font\": {\"color\": \"black\", \"size\": 15}, \"showarrow\": false, \"text\": \"I = -0.0\", \"x\": 30.0, \"xref\": \"x1\", \"y\": 14.0, \"yref\": \"y1\"}, {\"font\": {\"color\": \"black\", \"size\": 15}, \"showarrow\": false, \"text\": \"I = 1.0\", \"x\": 0.0, \"xref\": \"x1\", \"y\": -40.0, \"yref\": \"y1\"}, {\"font\": {\"color\": \"black\", \"size\": 15}, \"showarrow\": false, \"text\": \"I = -0.0\", \"x\": -25.0, \"xref\": \"x1\", \"y\": -40.0, \"yref\": \"y1\"}, {\"font\": {\"color\": \"black\", \"size\": 15}, \"showarrow\": false, \"text\": \"I = 0.0\", \"x\": -40.0, \"xref\": \"x1\", \"y\": -25.0, \"yref\": \"y1\"}, {\"font\": {\"color\": \"black\", \"size\": 15}, \"showarrow\": false, \"text\": \"I = -0.0\", \"x\": -40.0, \"xref\": \"x1\", \"y\": 0.0, \"yref\": \"y1\"}, {\"font\": {\"color\": \"yellow\", \"size\": 15}, \"showarrow\": false, \"text\": \"I = 13.0\", \"x\": 0.0, \"xref\": \"x1\", \"y\": 0.0, \"yref\": \"y1\"}, {\"font\": {\"color\": \"yellow\", \"size\": 15}, \"showarrow\": false, \"text\": \"I = 13.0\", \"x\": -10.0, \"xref\": \"x1\", \"y\": -10.0, \"yref\": \"y1\"}, {\"font\": {\"color\": \"black\", \"size\": 15}, \"showarrow\": false, \"text\": \"CENTRAL\", \"x\": -20.0, \"xref\": \"x1\", \"y\": 20.0, \"yref\": \"y1\"}], \"title\": \"WFP Inventory problem        Cost = 232.0          Total Cost = 6521.0   Truck 1 capacity : 5.0   Truck 2 capacity : 20\"}], \"label\": \"t = 19  (evening)\", \"method\": \"update\"}, {\"args\": [{\"visible\": [true, true, true, false, false, false, false, false, false, false, false, false, false, false, false, false, false, false, false, false, false, false, false, false, false, false, false, false, false, false, false, false, false, false, false, false, false, false, false, false, false, false, false, false, false, false, false, false, false, false, false, false, false, false, false, false, false]}, {\"annotations\": [{\"font\": {\"color\": \"black\", \"size\": 15}, \"showarrow\": false, \"text\": \"I = 2.0\", \"x\": 20.0, \"xref\": \"x1\", \"y\": 20.0, \"yref\": \"y1\"}, {\"font\": {\"color\": \"black\", \"size\": 15}, \"showarrow\": false, \"text\": \"I = -0.0\", \"x\": 10.0, \"xref\": \"x1\", \"y\": 40.0, \"yref\": \"y1\"}, {\"font\": {\"color\": \"black\", \"size\": 15}, \"showarrow\": false, \"text\": \"I = 0.0\", \"x\": 50.0, \"xref\": \"x1\", \"y\": 6.0, \"yref\": \"y1\"}, {\"font\": {\"color\": \"black\", \"size\": 15}, \"showarrow\": false, \"text\": \"I = 1.5\", \"x\": 30.0, \"xref\": \"x1\", \"y\": 14.0, \"yref\": \"y1\"}, {\"font\": {\"color\": \"black\", \"size\": 15}, \"showarrow\": false, \"text\": \"I = 2.0\", \"x\": 0.0, \"xref\": \"x1\", \"y\": -40.0, \"yref\": \"y1\"}, {\"font\": {\"color\": \"black\", \"size\": 15}, \"showarrow\": false, \"text\": \"I = -0.0\", \"x\": -25.0, \"xref\": \"x1\", \"y\": -40.0, \"yref\": \"y1\"}, {\"font\": {\"color\": \"black\", \"size\": 15}, \"showarrow\": false, \"text\": \"I = 0.0\", \"x\": -40.0, \"xref\": \"x1\", \"y\": -25.0, \"yref\": \"y1\"}, {\"font\": {\"color\": \"black\", \"size\": 15}, \"showarrow\": false, \"text\": \"I = 1.5\", \"x\": -40.0, \"xref\": \"x1\", \"y\": 0.0, \"yref\": \"y1\"}, {\"font\": {\"color\": \"yellow\", \"size\": 15}, \"showarrow\": false, \"text\": \"I = 3.0\", \"x\": 0.0, \"xref\": \"x1\", \"y\": 0.0, \"yref\": \"y1\"}, {\"font\": {\"color\": \"yellow\", \"size\": 15}, \"showarrow\": false, \"text\": \"I = 3.0\", \"x\": -10.0, \"xref\": \"x1\", \"y\": -10.0, \"yref\": \"y1\"}, {\"font\": {\"color\": \"black\", \"size\": 15}, \"showarrow\": false, \"text\": \"CENTRAL\", \"x\": -20.0, \"xref\": \"x1\", \"y\": 20.0, \"yref\": \"y1\"}], \"title\": \"WFP Inventory problem        Cost = 377.0          Total Cost = 6898.0   Truck 1 capacity : 5.0   Truck 2 capacity : 20\"}], \"label\": \"t = 20  (evening)\", \"method\": \"update\"}, {\"args\": [{\"visible\": [true, true, true, false, false, false, false, false, false, false, false, false, false, false, false, false, false, false, false, false, false, false, false, false, false, false, false, false, false, false, false, false, false, false, false, false, false, false, false, false, false, false, false, false, false, false, false, false, false, false, false, false, false, false, false, false, false]}, {\"annotations\": [{\"font\": {\"color\": \"black\", \"size\": 15}, \"showarrow\": false, \"text\": \"I = 1.0\", \"x\": 20.0, \"xref\": \"x1\", \"y\": 20.0, \"yref\": \"y1\"}, {\"font\": {\"color\": \"black\", \"size\": 15}, \"showarrow\": false, \"text\": \"I = -0.0\", \"x\": 10.0, \"xref\": \"x1\", \"y\": 40.0, \"yref\": \"y1\"}, {\"font\": {\"color\": \"black\", \"size\": 15}, \"showarrow\": false, \"text\": \"I = 0.0\", \"x\": 50.0, \"xref\": \"x1\", \"y\": 6.0, \"yref\": \"y1\"}, {\"font\": {\"color\": \"black\", \"size\": 15}, \"showarrow\": false, \"text\": \"I = -0.0\", \"x\": 30.0, \"xref\": \"x1\", \"y\": 14.0, \"yref\": \"y1\"}, {\"font\": {\"color\": \"black\", \"size\": 15}, \"showarrow\": false, \"text\": \"I = 1.0\", \"x\": 0.0, \"xref\": \"x1\", \"y\": -40.0, \"yref\": \"y1\"}, {\"font\": {\"color\": \"black\", \"size\": 15}, \"showarrow\": false, \"text\": \"I = 0.0\", \"x\": -25.0, \"xref\": \"x1\", \"y\": -40.0, \"yref\": \"y1\"}, {\"font\": {\"color\": \"black\", \"size\": 15}, \"showarrow\": false, \"text\": \"I = 0.0\", \"x\": -40.0, \"xref\": \"x1\", \"y\": -25.0, \"yref\": \"y1\"}, {\"font\": {\"color\": \"black\", \"size\": 15}, \"showarrow\": false, \"text\": \"I = -0.0\", \"x\": -40.0, \"xref\": \"x1\", \"y\": 0.0, \"yref\": \"y1\"}, {\"font\": {\"color\": \"yellow\", \"size\": 15}, \"showarrow\": false, \"text\": \"I = 18.0\", \"x\": 0.0, \"xref\": \"x1\", \"y\": 0.0, \"yref\": \"y1\"}, {\"font\": {\"color\": \"yellow\", \"size\": 15}, \"showarrow\": false, \"text\": \"I = 18.0\", \"x\": -10.0, \"xref\": \"x1\", \"y\": -10.0, \"yref\": \"y1\"}, {\"font\": {\"color\": \"black\", \"size\": 15}, \"showarrow\": false, \"text\": \"CENTRAL\", \"x\": -20.0, \"xref\": \"x1\", \"y\": 20.0, \"yref\": \"y1\"}], \"title\": \"WFP Inventory problem        Cost = 352.0          Total Cost = 7250.0   Truck 1 capacity : 5.0   Truck 2 capacity : 20\"}], \"label\": \"t = 21  (evening)\", \"method\": \"update\"}, {\"args\": [{\"visible\": [true, true, true, false, false, false, false, false, false, false, false, false, false, false, false, false, false, false, false, false, false, false, false, false, false, false, false, false, false, false, false, false, false, false, false, false, false, false, false, false, false, false, false, false, false, false, false, false, false, false, false, false, false, false, false, false, false]}, {\"annotations\": [{\"font\": {\"color\": \"black\", \"size\": 15}, \"showarrow\": false, \"text\": \"I = 2.0\", \"x\": 20.0, \"xref\": \"x1\", \"y\": 20.0, \"yref\": \"y1\"}, {\"font\": {\"color\": \"black\", \"size\": 15}, \"showarrow\": false, \"text\": \"I = -0.0\", \"x\": 10.0, \"xref\": \"x1\", \"y\": 40.0, \"yref\": \"y1\"}, {\"font\": {\"color\": \"black\", \"size\": 15}, \"showarrow\": false, \"text\": \"I = 0.0\", \"x\": 50.0, \"xref\": \"x1\", \"y\": 6.0, \"yref\": \"y1\"}, {\"font\": {\"color\": \"black\", \"size\": 15}, \"showarrow\": false, \"text\": \"I = 1.5\", \"x\": 30.0, \"xref\": \"x1\", \"y\": 14.0, \"yref\": \"y1\"}, {\"font\": {\"color\": \"black\", \"size\": 15}, \"showarrow\": false, \"text\": \"I = 2.0\", \"x\": 0.0, \"xref\": \"x1\", \"y\": -40.0, \"yref\": \"y1\"}, {\"font\": {\"color\": \"black\", \"size\": 15}, \"showarrow\": false, \"text\": \"I = -0.0\", \"x\": -25.0, \"xref\": \"x1\", \"y\": -40.0, \"yref\": \"y1\"}, {\"font\": {\"color\": \"black\", \"size\": 15}, \"showarrow\": false, \"text\": \"I = 0.0\", \"x\": -40.0, \"xref\": \"x1\", \"y\": -25.0, \"yref\": \"y1\"}, {\"font\": {\"color\": \"black\", \"size\": 15}, \"showarrow\": false, \"text\": \"I = 1.5\", \"x\": -40.0, \"xref\": \"x1\", \"y\": 0.0, \"yref\": \"y1\"}, {\"font\": {\"color\": \"yellow\", \"size\": 15}, \"showarrow\": false, \"text\": \"I = 8.0\", \"x\": 0.0, \"xref\": \"x1\", \"y\": 0.0, \"yref\": \"y1\"}, {\"font\": {\"color\": \"yellow\", \"size\": 15}, \"showarrow\": false, \"text\": \"I = 8.0\", \"x\": -10.0, \"xref\": \"x1\", \"y\": -10.0, \"yref\": \"y1\"}, {\"font\": {\"color\": \"black\", \"size\": 15}, \"showarrow\": false, \"text\": \"CENTRAL\", \"x\": -20.0, \"xref\": \"x1\", \"y\": 20.0, \"yref\": \"y1\"}], \"title\": \"WFP Inventory problem        Cost = 377.0          Total Cost = 7627.0   Truck 1 capacity : 5.0   Truck 2 capacity : 20\"}], \"label\": \"t = 22  (evening)\", \"method\": \"update\"}, {\"args\": [{\"visible\": [true, true, true, false, false, false, false, false, false, false, false, false, false, false, false, false, false, false, false, false, false, false, false, false, false, false, false, false, false, false, false, false, false, false, false, false, false, false, false, false, false, false, false, false, false, false, false, false, false, false, false, false, false, false, false, false, false]}, {\"annotations\": [{\"font\": {\"color\": \"black\", \"size\": 15}, \"showarrow\": false, \"text\": \"I = 1.0\", \"x\": 20.0, \"xref\": \"x1\", \"y\": 20.0, \"yref\": \"y1\"}, {\"font\": {\"color\": \"black\", \"size\": 15}, \"showarrow\": false, \"text\": \"I = -0.0\", \"x\": 10.0, \"xref\": \"x1\", \"y\": 40.0, \"yref\": \"y1\"}, {\"font\": {\"color\": \"black\", \"size\": 15}, \"showarrow\": false, \"text\": \"I = 0.0\", \"x\": 50.0, \"xref\": \"x1\", \"y\": 6.0, \"yref\": \"y1\"}, {\"font\": {\"color\": \"black\", \"size\": 15}, \"showarrow\": false, \"text\": \"I = -0.0\", \"x\": 30.0, \"xref\": \"x1\", \"y\": 14.0, \"yref\": \"y1\"}, {\"font\": {\"color\": \"black\", \"size\": 15}, \"showarrow\": false, \"text\": \"I = 1.0\", \"x\": 0.0, \"xref\": \"x1\", \"y\": -40.0, \"yref\": \"y1\"}, {\"font\": {\"color\": \"black\", \"size\": 15}, \"showarrow\": false, \"text\": \"I = -0.0\", \"x\": -25.0, \"xref\": \"x1\", \"y\": -40.0, \"yref\": \"y1\"}, {\"font\": {\"color\": \"black\", \"size\": 15}, \"showarrow\": false, \"text\": \"I = 0.0\", \"x\": -40.0, \"xref\": \"x1\", \"y\": -25.0, \"yref\": \"y1\"}, {\"font\": {\"color\": \"black\", \"size\": 15}, \"showarrow\": false, \"text\": \"I = -0.0\", \"x\": -40.0, \"xref\": \"x1\", \"y\": 0.0, \"yref\": \"y1\"}, {\"font\": {\"color\": \"yellow\", \"size\": 15}, \"showarrow\": false, \"text\": \"I = 3.0\", \"x\": 0.0, \"xref\": \"x1\", \"y\": 0.0, \"yref\": \"y1\"}, {\"font\": {\"color\": \"yellow\", \"size\": 15}, \"showarrow\": false, \"text\": \"I = 3.0\", \"x\": -10.0, \"xref\": \"x1\", \"y\": -10.0, \"yref\": \"y1\"}, {\"font\": {\"color\": \"black\", \"size\": 15}, \"showarrow\": false, \"text\": \"CENTRAL\", \"x\": -20.0, \"xref\": \"x1\", \"y\": 20.0, \"yref\": \"y1\"}], \"title\": \"WFP Inventory problem        Cost = 232.0          Total Cost = 7860.0   Truck 1 capacity : 5.0   Truck 2 capacity : 20\"}], \"label\": \"t = 23  (evening)\", \"method\": \"update\"}, {\"args\": [{\"visible\": [true, true, true, false, false, false, false, false, false, false, false, false, false, false, false, false, false, false, false, false, false, false, false, false, false, false, false, false, false, false, false, false, false, false, false, false, false, false, false, false, false, false, false, false, false, false, false, false, false, false, false, false, false, false, false, false, false]}, {\"annotations\": [{\"font\": {\"color\": \"black\", \"size\": 15}, \"showarrow\": false, \"text\": \"I = 2.0\", \"x\": 20.0, \"xref\": \"x1\", \"y\": 20.0, \"yref\": \"y1\"}, {\"font\": {\"color\": \"black\", \"size\": 15}, \"showarrow\": false, \"text\": \"I = -0.0\", \"x\": 10.0, \"xref\": \"x1\", \"y\": 40.0, \"yref\": \"y1\"}, {\"font\": {\"color\": \"black\", \"size\": 15}, \"showarrow\": false, \"text\": \"I = 0.0\", \"x\": 50.0, \"xref\": \"x1\", \"y\": 6.0, \"yref\": \"y1\"}, {\"font\": {\"color\": \"black\", \"size\": 15}, \"showarrow\": false, \"text\": \"I = 1.5\", \"x\": 30.0, \"xref\": \"x1\", \"y\": 14.0, \"yref\": \"y1\"}, {\"font\": {\"color\": \"black\", \"size\": 15}, \"showarrow\": false, \"text\": \"I = 2.0\", \"x\": 0.0, \"xref\": \"x1\", \"y\": -40.0, \"yref\": \"y1\"}, {\"font\": {\"color\": \"black\", \"size\": 15}, \"showarrow\": false, \"text\": \"I = -0.0\", \"x\": -25.0, \"xref\": \"x1\", \"y\": -40.0, \"yref\": \"y1\"}, {\"font\": {\"color\": \"black\", \"size\": 15}, \"showarrow\": false, \"text\": \"I = 0.0\", \"x\": -40.0, \"xref\": \"x1\", \"y\": -25.0, \"yref\": \"y1\"}, {\"font\": {\"color\": \"black\", \"size\": 15}, \"showarrow\": false, \"text\": \"I = 1.5\", \"x\": -40.0, \"xref\": \"x1\", \"y\": 0.0, \"yref\": \"y1\"}, {\"font\": {\"color\": \"yellow\", \"size\": 15}, \"showarrow\": false, \"text\": \"I = 13.0\", \"x\": 0.0, \"xref\": \"x1\", \"y\": 0.0, \"yref\": \"y1\"}, {\"font\": {\"color\": \"yellow\", \"size\": 15}, \"showarrow\": false, \"text\": \"I = 13.0\", \"x\": -10.0, \"xref\": \"x1\", \"y\": -10.0, \"yref\": \"y1\"}, {\"font\": {\"color\": \"black\", \"size\": 15}, \"showarrow\": false, \"text\": \"CENTRAL\", \"x\": -20.0, \"xref\": \"x1\", \"y\": 20.0, \"yref\": \"y1\"}], \"title\": \"WFP Inventory problem        Cost = 497.0          Total Cost = 8357.0   Truck 1 capacity : 5.0   Truck 2 capacity : 20\"}], \"label\": \"t = 24  (evening)\", \"method\": \"update\"}, {\"args\": [{\"visible\": [true, true, true, false, false, false, false, false, false, false, false, false, false, false, false, false, false, false, false, false, false, false, false, false, false, false, false, false, false, false, false, false, false, false, false, false, false, false, false, false, false, false, false, false, false, false, false, false, false, false, false, false, false, false, false, false, false]}, {\"annotations\": [{\"font\": {\"color\": \"black\", \"size\": 15}, \"showarrow\": false, \"text\": \"I = 1.0\", \"x\": 20.0, \"xref\": \"x1\", \"y\": 20.0, \"yref\": \"y1\"}, {\"font\": {\"color\": \"black\", \"size\": 15}, \"showarrow\": false, \"text\": \"I = -0.0\", \"x\": 10.0, \"xref\": \"x1\", \"y\": 40.0, \"yref\": \"y1\"}, {\"font\": {\"color\": \"black\", \"size\": 15}, \"showarrow\": false, \"text\": \"I = 0.0\", \"x\": 50.0, \"xref\": \"x1\", \"y\": 6.0, \"yref\": \"y1\"}, {\"font\": {\"color\": \"black\", \"size\": 15}, \"showarrow\": false, \"text\": \"I = -0.0\", \"x\": 30.0, \"xref\": \"x1\", \"y\": 14.0, \"yref\": \"y1\"}, {\"font\": {\"color\": \"black\", \"size\": 15}, \"showarrow\": false, \"text\": \"I = 1.0\", \"x\": 0.0, \"xref\": \"x1\", \"y\": -40.0, \"yref\": \"y1\"}, {\"font\": {\"color\": \"black\", \"size\": 15}, \"showarrow\": false, \"text\": \"I = 0.0\", \"x\": -25.0, \"xref\": \"x1\", \"y\": -40.0, \"yref\": \"y1\"}, {\"font\": {\"color\": \"black\", \"size\": 15}, \"showarrow\": false, \"text\": \"I = 0.0\", \"x\": -40.0, \"xref\": \"x1\", \"y\": -25.0, \"yref\": \"y1\"}, {\"font\": {\"color\": \"black\", \"size\": 15}, \"showarrow\": false, \"text\": \"I = -0.0\", \"x\": -40.0, \"xref\": \"x1\", \"y\": 0.0, \"yref\": \"y1\"}, {\"font\": {\"color\": \"yellow\", \"size\": 15}, \"showarrow\": false, \"text\": \"I = 8.0\", \"x\": 0.0, \"xref\": \"x1\", \"y\": 0.0, \"yref\": \"y1\"}, {\"font\": {\"color\": \"yellow\", \"size\": 15}, \"showarrow\": false, \"text\": \"I = 8.0\", \"x\": -10.0, \"xref\": \"x1\", \"y\": -10.0, \"yref\": \"y1\"}, {\"font\": {\"color\": \"black\", \"size\": 15}, \"showarrow\": false, \"text\": \"CENTRAL\", \"x\": -20.0, \"xref\": \"x1\", \"y\": 20.0, \"yref\": \"y1\"}], \"title\": \"WFP Inventory problem        Cost = 232.0          Total Cost = 8589.0   Truck 1 capacity : 5.0   Truck 2 capacity : 20\"}], \"label\": \"t = 25  (evening)\", \"method\": \"update\"}, {\"args\": [{\"visible\": [true, true, true, false, false, false, false, false, false, false, false, false, false, false, false, false, false, false, false, false, false, false, false, false, false, false, false, false, false, false, false, false, false, false, false, false, false, false, false, false, false, false, false, false, false, false, false, false, false, false, false, false, false, false, false, false, false]}, {\"annotations\": [{\"font\": {\"color\": \"black\", \"size\": 15}, \"showarrow\": false, \"text\": \"I = 2.0\", \"x\": 20.0, \"xref\": \"x1\", \"y\": 20.0, \"yref\": \"y1\"}, {\"font\": {\"color\": \"black\", \"size\": 15}, \"showarrow\": false, \"text\": \"I = -0.0\", \"x\": 10.0, \"xref\": \"x1\", \"y\": 40.0, \"yref\": \"y1\"}, {\"font\": {\"color\": \"black\", \"size\": 15}, \"showarrow\": false, \"text\": \"I = 0.0\", \"x\": 50.0, \"xref\": \"x1\", \"y\": 6.0, \"yref\": \"y1\"}, {\"font\": {\"color\": \"black\", \"size\": 15}, \"showarrow\": false, \"text\": \"I = 1.5\", \"x\": 30.0, \"xref\": \"x1\", \"y\": 14.0, \"yref\": \"y1\"}, {\"font\": {\"color\": \"black\", \"size\": 15}, \"showarrow\": false, \"text\": \"I = 2.0\", \"x\": 0.0, \"xref\": \"x1\", \"y\": -40.0, \"yref\": \"y1\"}, {\"font\": {\"color\": \"black\", \"size\": 15}, \"showarrow\": false, \"text\": \"I = -0.0\", \"x\": -25.0, \"xref\": \"x1\", \"y\": -40.0, \"yref\": \"y1\"}, {\"font\": {\"color\": \"black\", \"size\": 15}, \"showarrow\": false, \"text\": \"I = 0.0\", \"x\": -40.0, \"xref\": \"x1\", \"y\": -25.0, \"yref\": \"y1\"}, {\"font\": {\"color\": \"black\", \"size\": 15}, \"showarrow\": false, \"text\": \"I = 1.5\", \"x\": -40.0, \"xref\": \"x1\", \"y\": 0.0, \"yref\": \"y1\"}, {\"font\": {\"color\": \"yellow\", \"size\": 15}, \"showarrow\": false, \"text\": \"I = 18.0\", \"x\": 0.0, \"xref\": \"x1\", \"y\": 0.0, \"yref\": \"y1\"}, {\"font\": {\"color\": \"yellow\", \"size\": 15}, \"showarrow\": false, \"text\": \"I = 18.0\", \"x\": -10.0, \"xref\": \"x1\", \"y\": -10.0, \"yref\": \"y1\"}, {\"font\": {\"color\": \"black\", \"size\": 15}, \"showarrow\": false, \"text\": \"CENTRAL\", \"x\": -20.0, \"xref\": \"x1\", \"y\": 20.0, \"yref\": \"y1\"}], \"title\": \"WFP Inventory problem        Cost = 497.0          Total Cost = 9086.0   Truck 1 capacity : 5.0   Truck 2 capacity : 20\"}], \"label\": \"t = 26  (evening)\", \"method\": \"update\"}, {\"args\": [{\"visible\": [true, true, true, false, false, false, false, false, false, false, false, false, false, false, false, false, false, false, false, false, false, false, false, false, false, false, false, false, false, false, false, false, false, false, false, false, false, false, false, false, false, false, false, false, false, false, false, false, false, false, false, false, false, false, false, false, false]}, {\"annotations\": [{\"font\": {\"color\": \"black\", \"size\": 15}, \"showarrow\": false, \"text\": \"I = 1.0\", \"x\": 20.0, \"xref\": \"x1\", \"y\": 20.0, \"yref\": \"y1\"}, {\"font\": {\"color\": \"black\", \"size\": 15}, \"showarrow\": false, \"text\": \"I = -0.0\", \"x\": 10.0, \"xref\": \"x1\", \"y\": 40.0, \"yref\": \"y1\"}, {\"font\": {\"color\": \"black\", \"size\": 15}, \"showarrow\": false, \"text\": \"I = 0.0\", \"x\": 50.0, \"xref\": \"x1\", \"y\": 6.0, \"yref\": \"y1\"}, {\"font\": {\"color\": \"black\", \"size\": 15}, \"showarrow\": false, \"text\": \"I = -0.0\", \"x\": 30.0, \"xref\": \"x1\", \"y\": 14.0, \"yref\": \"y1\"}, {\"font\": {\"color\": \"black\", \"size\": 15}, \"showarrow\": false, \"text\": \"I = 1.0\", \"x\": 0.0, \"xref\": \"x1\", \"y\": -40.0, \"yref\": \"y1\"}, {\"font\": {\"color\": \"black\", \"size\": 15}, \"showarrow\": false, \"text\": \"I = -0.0\", \"x\": -25.0, \"xref\": \"x1\", \"y\": -40.0, \"yref\": \"y1\"}, {\"font\": {\"color\": \"black\", \"size\": 15}, \"showarrow\": false, \"text\": \"I = 0.0\", \"x\": -40.0, \"xref\": \"x1\", \"y\": -25.0, \"yref\": \"y1\"}, {\"font\": {\"color\": \"black\", \"size\": 15}, \"showarrow\": false, \"text\": \"I = -0.0\", \"x\": -40.0, \"xref\": \"x1\", \"y\": 0.0, \"yref\": \"y1\"}, {\"font\": {\"color\": \"yellow\", \"size\": 15}, \"showarrow\": false, \"text\": \"I = 13.0\", \"x\": 0.0, \"xref\": \"x1\", \"y\": 0.0, \"yref\": \"y1\"}, {\"font\": {\"color\": \"yellow\", \"size\": 15}, \"showarrow\": false, \"text\": \"I = 13.0\", \"x\": -10.0, \"xref\": \"x1\", \"y\": -10.0, \"yref\": \"y1\"}, {\"font\": {\"color\": \"black\", \"size\": 15}, \"showarrow\": false, \"text\": \"CENTRAL\", \"x\": -20.0, \"xref\": \"x1\", \"y\": 20.0, \"yref\": \"y1\"}], \"title\": \"WFP Inventory problem        Cost = 232.0          Total Cost = 9319.0   Truck 1 capacity : 5.0   Truck 2 capacity : 20\"}], \"label\": \"t = 27  (evening)\", \"method\": \"update\"}, {\"args\": [{\"visible\": [true, true, true, false, false, false, false, false, false, false, false, false, false, false, false, false, false, false, false, false, false, false, false, false, false, false, false, false, false, false, false, false, false, false, false, false, false, false, false, false, false, false, false, false, false, false, false, false, false, false, false, false, false, false, false, false, false]}, {\"annotations\": [{\"font\": {\"color\": \"black\", \"size\": 15}, \"showarrow\": false, \"text\": \"I = 2.0\", \"x\": 20.0, \"xref\": \"x1\", \"y\": 20.0, \"yref\": \"y1\"}, {\"font\": {\"color\": \"black\", \"size\": 15}, \"showarrow\": false, \"text\": \"I = -0.0\", \"x\": 10.0, \"xref\": \"x1\", \"y\": 40.0, \"yref\": \"y1\"}, {\"font\": {\"color\": \"black\", \"size\": 15}, \"showarrow\": false, \"text\": \"I = 0.0\", \"x\": 50.0, \"xref\": \"x1\", \"y\": 6.0, \"yref\": \"y1\"}, {\"font\": {\"color\": \"black\", \"size\": 15}, \"showarrow\": false, \"text\": \"I = 1.5\", \"x\": 30.0, \"xref\": \"x1\", \"y\": 14.0, \"yref\": \"y1\"}, {\"font\": {\"color\": \"black\", \"size\": 15}, \"showarrow\": false, \"text\": \"I = 2.0\", \"x\": 0.0, \"xref\": \"x1\", \"y\": -40.0, \"yref\": \"y1\"}, {\"font\": {\"color\": \"black\", \"size\": 15}, \"showarrow\": false, \"text\": \"I = -0.0\", \"x\": -25.0, \"xref\": \"x1\", \"y\": -40.0, \"yref\": \"y1\"}, {\"font\": {\"color\": \"black\", \"size\": 15}, \"showarrow\": false, \"text\": \"I = 0.0\", \"x\": -40.0, \"xref\": \"x1\", \"y\": -25.0, \"yref\": \"y1\"}, {\"font\": {\"color\": \"black\", \"size\": 15}, \"showarrow\": false, \"text\": \"I = 1.5\", \"x\": -40.0, \"xref\": \"x1\", \"y\": 0.0, \"yref\": \"y1\"}, {\"font\": {\"color\": \"yellow\", \"size\": 15}, \"showarrow\": false, \"text\": \"I = 3.0\", \"x\": 0.0, \"xref\": \"x1\", \"y\": 0.0, \"yref\": \"y1\"}, {\"font\": {\"color\": \"yellow\", \"size\": 15}, \"showarrow\": false, \"text\": \"I = 3.0\", \"x\": -10.0, \"xref\": \"x1\", \"y\": -10.0, \"yref\": \"y1\"}, {\"font\": {\"color\": \"black\", \"size\": 15}, \"showarrow\": false, \"text\": \"CENTRAL\", \"x\": -20.0, \"xref\": \"x1\", \"y\": 20.0, \"yref\": \"y1\"}], \"title\": \"WFP Inventory problem        Cost = 377.0          Total Cost = 9696.0   Truck 1 capacity : 5.0   Truck 2 capacity : 20\"}], \"label\": \"t = 28  (evening)\", \"method\": \"update\"}, {\"args\": [{\"visible\": [true, true, true, false, false, false, false, false, false, false, false, false, false, false, false, false, false, false, false, false, false, false, false, false, false, false, false, false, false, false, false, false, false, false, false, false, false, false, false, false, false, false, false, false, false, false, false, false, false, false, false, false, false, false, false, false, false]}, {\"annotations\": [{\"font\": {\"color\": \"black\", \"size\": 15}, \"showarrow\": false, \"text\": \"I = 1.0\", \"x\": 20.0, \"xref\": \"x1\", \"y\": 20.0, \"yref\": \"y1\"}, {\"font\": {\"color\": \"black\", \"size\": 15}, \"showarrow\": false, \"text\": \"I = -0.0\", \"x\": 10.0, \"xref\": \"x1\", \"y\": 40.0, \"yref\": \"y1\"}, {\"font\": {\"color\": \"black\", \"size\": 15}, \"showarrow\": false, \"text\": \"I = 0.0\", \"x\": 50.0, \"xref\": \"x1\", \"y\": 6.0, \"yref\": \"y1\"}, {\"font\": {\"color\": \"black\", \"size\": 15}, \"showarrow\": false, \"text\": \"I = -0.0\", \"x\": 30.0, \"xref\": \"x1\", \"y\": 14.0, \"yref\": \"y1\"}, {\"font\": {\"color\": \"black\", \"size\": 15}, \"showarrow\": false, \"text\": \"I = 1.0\", \"x\": 0.0, \"xref\": \"x1\", \"y\": -40.0, \"yref\": \"y1\"}, {\"font\": {\"color\": \"black\", \"size\": 15}, \"showarrow\": false, \"text\": \"I = 0.0\", \"x\": -25.0, \"xref\": \"x1\", \"y\": -40.0, \"yref\": \"y1\"}, {\"font\": {\"color\": \"black\", \"size\": 15}, \"showarrow\": false, \"text\": \"I = 0.0\", \"x\": -40.0, \"xref\": \"x1\", \"y\": -25.0, \"yref\": \"y1\"}, {\"font\": {\"color\": \"black\", \"size\": 15}, \"showarrow\": false, \"text\": \"I = -0.0\", \"x\": -40.0, \"xref\": \"x1\", \"y\": 0.0, \"yref\": \"y1\"}, {\"font\": {\"color\": \"yellow\", \"size\": 15}, \"showarrow\": false, \"text\": \"I = 18.0\", \"x\": 0.0, \"xref\": \"x1\", \"y\": 0.0, \"yref\": \"y1\"}, {\"font\": {\"color\": \"yellow\", \"size\": 15}, \"showarrow\": false, \"text\": \"I = 18.0\", \"x\": -10.0, \"xref\": \"x1\", \"y\": -10.0, \"yref\": \"y1\"}, {\"font\": {\"color\": \"black\", \"size\": 15}, \"showarrow\": false, \"text\": \"CENTRAL\", \"x\": -20.0, \"xref\": \"x1\", \"y\": 20.0, \"yref\": \"y1\"}], \"title\": \"WFP Inventory problem        Cost = 352.0          Total Cost = 10048.0   Truck 1 capacity : 5.0   Truck 2 capacity : 20\"}], \"label\": \"t = 29  (evening)\", \"method\": \"update\"}], \"direction\": \"up\", \"x\": 0.3, \"y\": 0.0}], \"xaxis\": {\"showgrid\": true, \"showline\": false, \"showticklabels\": true, \"zeroline\": true}, \"yaxis\": {\"showgrid\": true, \"showline\": false, \"showticklabels\": true, \"zeroline\": true}},\n",
       "                        {\"responsive\": true}\n",
       "                    ).then(function(){\n",
       "                            \n",
       "var gd = document.getElementById('77f39402-7f61-42b9-a479-c0fd4d5ad784');\n",
       "var x = new MutationObserver(function (mutations, observer) {{\n",
       "        var display = window.getComputedStyle(gd).display;\n",
       "        if (!display || display === 'none') {{\n",
       "            console.log([gd, 'removed!']);\n",
       "            Plotly.purge(gd);\n",
       "            observer.disconnect();\n",
       "        }}\n",
       "}});\n",
       "\n",
       "// Listen for the removal of the full notebook cells\n",
       "var notebookContainer = gd.closest('#notebook-container');\n",
       "if (notebookContainer) {{\n",
       "    x.observe(notebookContainer, {childList: true});\n",
       "}}\n",
       "\n",
       "// Listen for the clearing of the current output cell\n",
       "var outputEl = gd.closest('.output');\n",
       "if (outputEl) {{\n",
       "    x.observe(outputEl, {childList: true});\n",
       "}}\n",
       "\n",
       "                        })\n",
       "                };\n",
       "                });\n",
       "            </script>\n",
       "        </div>"
      ]
     },
     "metadata": {},
     "output_type": "display_data"
    }
   ],
   "source": [
    "MAP1.run(solver2,T=30,H=4)\n",
    "fig = go.Figure(MAP1.fig)\n",
    "offline.plot(fig, filename=\"example2.html\", auto_open = False)\n",
    "fig.show()"
   ]
  }
 ],
 "metadata": {
  "kernelspec": {
   "display_name": "Python 3",
   "language": "python",
   "name": "python3"
  },
  "language_info": {
   "codemirror_mode": {
    "name": "ipython",
    "version": 3
   },
   "file_extension": ".py",
   "mimetype": "text/x-python",
   "name": "python",
   "nbconvert_exporter": "python",
   "pygments_lexer": "ipython3",
   "version": "3.6.8"
  },
  "toc": {
   "base_numbering": 1,
   "nav_menu": {},
   "number_sections": true,
   "sideBar": true,
   "skip_h1_title": false,
   "title_cell": "Table of Contents",
   "title_sidebar": "Contents",
   "toc_cell": false,
   "toc_position": {},
   "toc_section_display": true,
   "toc_window_display": false
  }
 },
 "nbformat": 4,
 "nbformat_minor": 2
}