{
 "cells": [
  {
   "cell_type": "code",
   "execution_count": null,
   "metadata": {},
   "outputs": [],
   "source": [
    "## only do it the first time (by removing the #)\n",
    "#import sys\n",
    "#!{sys.executable} -m pip install plotly\n",
    "#!{sys.executable} -m pip install cvxpy"
   ]
  },
  {
   "cell_type": "code",
   "execution_count": 18,
   "metadata": {},
   "outputs": [],
   "source": [
    "import plotly.graph_objects as go \n",
    "import numpy as np\n",
    "import cvxpy as cp\n",
    "from time import time\n",
    "from copy import copy, deepcopy\n",
    "import pandas as pd\n",
    "COLORS = {\"school\" : \"green\", \"warehouse\": \"blue\"}\n",
    "TITLE = 'WFP Inventory problem'"
   ]
  },
  {
   "cell_type": "markdown",
   "metadata": {},
   "source": [
    "# Defining framework "
   ]
  },
  {
   "cell_type": "markdown",
   "metadata": {},
   "source": [
    "Here we define the framework for visualization, then another function will solve the problem, and give us the decision variables $x_{mk}^t$ (how much food is delivered to school $m$ during tour $k$ at time $t$) and $y_k^t$ (boolean to know if the tour $k$ should be done at time $t$)"
   ]
  },
  {
   "cell_type": "code",
   "execution_count": 19,
   "metadata": {
    "code_folding": [
     0,
     14,
     24,
     25,
     30,
     33,
     45,
     55,
     59,
     67,
     84
    ]
   },
   "outputs": [],
   "source": [
    "class School :\n",
    "    def __init__(self, position, capacity,consumption,name):\n",
    "        self.name = name\n",
    "        self.pos = position\n",
    "        self.C = capacity\n",
    "        self.inventory = capacity\n",
    "        self.q = consumption\n",
    "\n",
    "    def eat(self):\n",
    "        self.inventory -= self.q\n",
    "        \n",
    "    def receive(self,x):\n",
    "        self.inventory += x\n",
    "        \n",
    "class Warehouse : \n",
    "    def __init__(self, position, capacity,name):\n",
    "        self.name = name\n",
    "        self.pos = position\n",
    "        self.C = capacity\n",
    "        self.inventory = capacity\n",
    "\n",
    "    def deliver(self, quantity):\n",
    "        self.inventory -= quantity\n",
    "\n",
    "class Route : \n",
    "    def __init__(self, warehouse, SCHOOLS):\n",
    "        self.w = warehouse\n",
    "        self.S = SCHOOLS\n",
    "        self.Mk = len(self.S)\n",
    "\n",
    "    def set_Q(self,Q):\n",
    "        self.Q = Q      \n",
    "\n",
    "    def compute_edges(self):\n",
    "        '''\n",
    "        Make a list of edges for the route, that is, for each edge, a couple of objects Warehouse or School\n",
    "        '''\n",
    "        self.edges = [(self.w,self.S[0])]\n",
    "        for i in range(self.Mk-1):\n",
    "            self.edges.append((self.S[i],self.S[i+1]))\n",
    "        self.edges.append((self.S[-1],self.w))\n",
    "\n",
    "    def cost(edge,D):\n",
    "        return D.loc[edge[0].name, edge[1].name]\n",
    "\n",
    "    def compute_costs(self,D,fixed_costs=0.):\n",
    "        '''\n",
    "        compute the cost of a tour with respect to the distances and the fixed cost\n",
    "        '''\n",
    "        self.costs = []\n",
    "        for e in self.edges :\n",
    "            self.costs.append(Route.cost(e,D))\n",
    "        \n",
    "        self.cost = sum(self.costs) + fixed_costs\n",
    "\n",
    "    def compute_C(self):\n",
    "        self.room_available = [s.C-s.inventory for s in self.S]\n",
    "        self.C = min(self.Q, sum(self.room_available))\n",
    "                \n",
    "    def do_tour(self):\n",
    "        '''\n",
    "        Change the inventory with respect to a tour and its X\n",
    "        '''\n",
    "        self.w.deliver(sum(self.X))\n",
    "        for i in range(len(self.X)):\n",
    "            self.S[i].receive(self.X[i])\n",
    "\n",
    "    def make_arrows(self) : \n",
    "        self.arrows= []\n",
    "        for e in range(self.Mk+1):\n",
    "            edge = self.edges[e]\n",
    "            x1, x2, y1, y2 = edge[0].pos[0], edge[1].pos[0], edge[0].pos[1], edge[1].pos[1]\n",
    "            text = \"cost = \"+ str(self.costs[e])\n",
    "\n",
    "            arrow = go.Scatter(x=[(7*x1+x2)/8,(x1+7*x2)/8],\n",
    "                    y=[(7*y1+y2)/8,(y1+7*y2)/8],\n",
    "                    line= dict(color=\"red\"),\n",
    "                    text = [text,text],\n",
    "                    hoverinfo='text',\n",
    "                    visible = False\n",
    "                    )\n",
    "\n",
    "            self.arrows.append(arrow)\n",
    "            \n",
    "    def set_no(self,indices):\n",
    "        names = [s.name for s in self.S]\n",
    "        self.numbers_RtoS = np.array([indices[name] for name in names  ])\n"
   ]
  },
  {
   "cell_type": "code",
   "execution_count": 20,
   "metadata": {
    "code_folding": [
     1,
     23,
     35,
     39,
     43,
     53,
     63,
     67,
     131,
     144,
     172
    ]
   },
   "outputs": [],
   "source": [
    "class Map :\n",
    "    def __init__(self, schools, warehouses, possible_routes = [], Q = 5.):\n",
    "        '''\n",
    "        This object represents the state of the problem at some time t \n",
    "        '''\n",
    "        self.S = schools\n",
    "        self.W = warehouses\n",
    "        self.R_possible = possible_routes\n",
    "        self.Q = Q\n",
    "        self.M, self.N, self.K = len(schools),len(warehouses), len(possible_routes )\n",
    "        find_index_s =  {schools[i].name : i for i in range(self.M)}\n",
    "        for r in self.R_possible : \n",
    "            r.set_Q(Q)\n",
    "            r.set_no(find_index_s)\n",
    "\n",
    "        \n",
    "        self.t = 0.\n",
    "        self.total_cost = 0\n",
    "        self.cost = 0\n",
    "        \n",
    "        for k in range(self.K): \n",
    "            self.R_possible[k].number = k\n",
    "\n",
    "    def build_Rmat(self):\n",
    "        '''\n",
    "        Method that build the numpy array Rmat such that r[k,m] = 1 if & only if S[m] in R[k]\n",
    "        '''\n",
    "        self.Rmat = np.zeros((self.K,self.M),dtype = bool)\n",
    "        names = [s.name for s in self.S]\n",
    "        for k in range(self.K):\n",
    "            r = self.R_possible[k]\n",
    "            for stop in r.S : \n",
    "                m = names.index(stop.name)\n",
    "                self.Rmat[k,m] = True\n",
    "\n",
    "    def compute_edges(self):\n",
    "        for r in self.R_possible : \n",
    "            r.compute_edges()\n",
    "\n",
    "    def compute_costs(self,D, fixed_costs=0.):\n",
    "        for r in self.R_possible : \n",
    "            r.compute_costs(D, fixed_costs=fixed_costs)\n",
    "\n",
    "    def select_tours(self,y):\n",
    "        # y should be a boolean vector of length K here that state if the tour k should be done\n",
    "        self.R = np.arange(self.K)[y]\n",
    "        \n",
    "    def compute_X(self,x):\n",
    "        # x is a matrix MxK that gives the quantity of food to be delivered to each school for each tour\n",
    "        for k in self.R : \n",
    "            r = self.R_possible[k]\n",
    "            r.X = x[k,r.numbers_RtoS]\n",
    "                        \n",
    "    def do_tours(self):\n",
    "        for k in self.R :\n",
    "            r = self.R_possible[k] \n",
    "            r.do_tour()\n",
    "            self.cost += r.cost\n",
    "\n",
    "        self.total_cost += self.cost\n",
    "        self.title = TITLE + \"        Cost = %s          Total Cost = \" %str(self.cost) + str(self.total_cost)\n",
    "        self.cost = 0\n",
    "\n",
    "    def eat(self):\n",
    "        for s in self.S:\n",
    "            s.eat()\n",
    "\n",
    "    def init_draw(self):\n",
    "\n",
    "        # create arrows\n",
    "        for k in range(self.K): \n",
    "            r = self.R_possible[k].make_arrows()\n",
    "\n",
    "        #plot the schools\n",
    "        plot_schools = go.Scatter(x=[school.pos[0] for school in self.S],\n",
    "                        y=[school.pos[1] for school in self.S],\n",
    "                        mode='markers',\n",
    "                        name='schools',\n",
    "                        marker=dict(symbol='circle-dot',\n",
    "                                        size=50,\n",
    "                                        color=COLORS[\"school\"]\n",
    "                                        ),\n",
    "                        text=[s.name+\" C = \"+str(s.C)+\"  ;   q = \"+str(s.q) for s in self.S],\n",
    "                        hoverinfo='text',\n",
    "                        opacity=0.8\n",
    "                        )\n",
    "        #plot the warehouses\n",
    "        plot_warehouses = go.Scatter(x=[warehouse.pos[0] for warehouse in self.W],\n",
    "                            y=[warehouse.pos[1] for warehouse in self.W],\n",
    "                            mode='markers',\n",
    "                            name='warehouses',\n",
    "                            marker=dict(symbol='circle-dot',\n",
    "                                            size=70,\n",
    "                                            color=COLORS[\"warehouse\"]\n",
    "                                            ),\n",
    "                            text=[w.name+\" C = \"+str(w.C) for w in self.W],\n",
    "                            hoverinfo='text',\n",
    "                            opacity=0.8\n",
    "                            )\n",
    "\n",
    "        axis = dict(showline=False, # hide axis line, grid, ticklabels and  title\n",
    "            zeroline=True,\n",
    "            showgrid=True,\n",
    "            showticklabels=True,\n",
    "            )\n",
    "\n",
    "        self.title = TITLE + \"        Cost = %s          Total Cost = \" %str(self.cost) + str(self.total_cost)\n",
    "\n",
    "        couples = [(school.pos, \"I = \"+str(school.inventory),'black') for school in self.S] + [(warehouse.pos, \"I = \"+str(warehouse.inventory),'yellow') for warehouse in self.W]\n",
    "        layout = dict(\n",
    "            title= self.title,\n",
    "              annotations= Map.make_annotations(couples), \n",
    "              font_size=12,\n",
    "              showlegend=False,\n",
    "              xaxis=axis,\n",
    "              yaxis=axis,\n",
    "              margin=dict(l=40, r=40, b=85, t=100),\n",
    "              hovermode='closest',\n",
    "              plot_bgcolor='rgb(248,248,248)',\n",
    "              updatemenus= []\n",
    "        )\n",
    "\n",
    "        self.layout = layout\n",
    "        self.data = [plot_schools,plot_warehouses]\n",
    "        self.arrows = [-1,-1]\n",
    "        for r in self.R_possible : \n",
    "            number = r.number\n",
    "            for x in r.arrows : \n",
    "                self.data.append(x)\n",
    "                self.arrows.append(number)\n",
    "       \n",
    "    def make_annotations(couples):\n",
    "        annotations = []\n",
    "        for (pos,txt,color) in couples:\n",
    "            annotations.append(\n",
    "                dict(\n",
    "                    text=txt, # text within the circles\n",
    "                    x=pos[0], y=pos[1],\n",
    "                    xref='x1', yref='y1',\n",
    "                    font=dict(color=color, size=15),\n",
    "                    showarrow=False)\n",
    "            )\n",
    "        return annotations\n",
    "\n",
    "    def make_updatemenu(self):\n",
    "        couples = [(school.pos, \"I = \"+str(round(school.inventory,2)),'black') for school in self.S] + [(warehouse.pos, \"I = \"+str(warehouse.inventory),'yellow') for warehouse in self.W]\n",
    "        l = len(self.data)\n",
    "        visible = [True]*2 + [False]*(l-2)\n",
    "\n",
    "        if self.t.is_integer():\n",
    "            period = \" (before lunch)\"\n",
    "            for k in self.R : \n",
    "                r = self.R_possible[k]\n",
    "                for i in range(r.Mk):\n",
    "                    e = r.edges[i]\n",
    "                    x = (e[0].pos[0]+e[1].pos[0]) / 2 + .5\n",
    "                    y = (e[0].pos[1]+e[1].pos[1]) / 2 + .5\n",
    "                    couples.append(([x,y], str(round(r.X[i],2))+ \"  \",'red'))\n",
    "\n",
    "                i = self.arrows.index(r.number)\n",
    "                a = len(r.arrows)\n",
    "                visible[i:i+a]=[True]*a\n",
    "        \n",
    "        else : \n",
    "            period = \"  (evening)\"\n",
    "            visible[2:] = [False]*(l-2)\n",
    "\n",
    "\n",
    "        annotations = Map.make_annotations(couples)\n",
    "\n",
    "        return dict(label=\"t = \"+str(int(self.t))+ period, method = \"update\", args=[{\"visible\" : copy(visible)  },{\"annotations\": annotations, \"title\":self.title }])\n",
    "\n",
    "    def run(self,D,solver,T=10, H=4):\n",
    "        '''\n",
    "        final function that make the process continue for T days, and plot it into self.fig \n",
    "        Also have to put as an input a function f that will build X and Y\n",
    "        '''\n",
    "        self.build_Rmat()\n",
    "        self.compute_edges()\n",
    "        self.compute_costs(D)\n",
    "        \n",
    "        t0 = time()\n",
    "        X,Y = solver(cost=np.array([r.cost for r in self.R_possible]),\n",
    "                q      =np.array([s.q for s in self.S]),\n",
    "                C      =np.array([s.C for s in self.S]),\n",
    "                I_init = np.array([s.inventory for s in self.S]),\n",
    "                r      =self.Rmat,\n",
    "                Q=self.Q,T=T,H=H)\n",
    "        \n",
    "        print(\"Running time for solver is %f sec\" %(time()-t0))\n",
    "        self.init_draw()\n",
    "        L1,L2 = [],[]\n",
    "        for i in range(T):\n",
    "            #morning\n",
    "            self.select_tours(Y[i])\n",
    "            self.compute_X(X[i])\n",
    "            self.do_tours()\n",
    "            L1.append(self.make_updatemenu())\n",
    "            self.R = []\n",
    "            self.t += 0.5\n",
    "            \n",
    "            # evening\n",
    "            self.eat()\n",
    "            L2.append(self.make_updatemenu())\n",
    "            self.t += 0.5\n",
    "\n",
    "\n",
    "\n",
    "        self.layout[\"updatemenus\"]    = [ dict(buttons = L1, direction = \"up\",x=0.,y=0.),dict(buttons = L2, direction = \"up\",x=0.3,y=0.) ]\n",
    "        \n",
    "\n",
    "        self.fig = dict(data=self.data, layout=self.layout)\n"
   ]
  },
  {
   "cell_type": "markdown",
   "metadata": {
    "heading_collapsed": true
   },
   "source": [
    "# Defining solver"
   ]
  },
  {
   "cell_type": "markdown",
   "metadata": {
    "hidden": true
   },
   "source": [
    "\\begin{eqnarray}\n",
    "&\\min& \\sum_t \\sum_k c_k y_k^t \\\\\n",
    "& & \\sum_m x_{km}^t \\leq Q y_k^t \\qquad \\forall t, k \\\\\n",
    "& & x_{km}^t \\leq Q r_{km} \\qquad \\forall t,m, k\\\\\n",
    "& & q_m  \\leq  I_m^0 + \\sum_{k} \\sum_{s\\leq t}  x_{km}^s - t q_m \\leq C_m \\qquad \\forall t,m \\\\\n",
    "\\end{eqnarray}"
   ]
  },
  {
   "cell_type": "code",
   "execution_count": 21,
   "metadata": {
    "code_folding": [],
    "hidden": true
   },
   "outputs": [],
   "source": [
    "def solver1(cost,q,C,r,I_init,Q,T,H=None):\n",
    "    M,K = len(q),len(cost)\n",
    "    \n",
    "    Y = cp.Variable((T,K),boolean=True)\n",
    "    \n",
    "    X = {}\n",
    "    constraints = []\n",
    "    dI = 0\n",
    "    for t in range(T):\n",
    "        X[t] = cp.Variable((K,M),nonneg=True)\n",
    "        \n",
    "        constraints.append(cp.sum(X[t],axis=1)<=Q*Y[t] )\n",
    "        constraints.append(X[t]<=Q*r)\n",
    "        \n",
    "        dI = dI + cp.sum(X[t],axis=0) \n",
    "        constraints.append( dI <= C+t*q-I_init )\n",
    "        constraints.append( dI >= (t+1)*q-I_init )\n",
    "        \n",
    "    \n",
    "    M = np.array([cost for t in range(T)]).T\n",
    "    problem = cp.Problem(cp.Minimize(cp.trace(M @ Y)), constraints)\n",
    "    problem.solve()\n",
    "    \n",
    "    return np.array([X[t].value for t in range(T)]),np.array(Y.value,dtype=bool)"
   ]
  },
  {
   "cell_type": "code",
   "execution_count": 22,
   "metadata": {
    "code_folding": [],
    "hidden": true
   },
   "outputs": [],
   "source": [
    "def solver2(cost,q,C,r,I_init,Q,T,H=None):\n",
    "    if H is None : \n",
    "        return solver1(cost,q,C,r,I_init,Q,T,H=None)\n",
    "    \n",
    "    else : \n",
    "        X_weekly, Y_weekly = [],[]\n",
    "        t = 0\n",
    "        I = I_init[:]\n",
    "        while t<T : \n",
    "            X,Y = solver1(cost,q,C,r,I,Q,H)\n",
    "            X_weekly.append(X),Y_weekly.append(Y)\n",
    "            t = t + H\n",
    "            I = I - H*q + X.sum(axis=0).sum(axis=0)\n",
    "            \n",
    "        return np.concatenate(X_weekly,axis=0), np.concatenate(Y_weekly,axis=0)\n",
    "            \n",
    "            \n",
    "            \n",
    "            "
   ]
  },
  {
   "cell_type": "markdown",
   "metadata": {},
   "source": [
    "# Example 1 "
   ]
  },
  {
   "cell_type": "markdown",
   "metadata": {
    "heading_collapsed": true
   },
   "source": [
    "## Set data"
   ]
  },
  {
   "cell_type": "code",
   "execution_count": 23,
   "metadata": {
    "hidden": true
   },
   "outputs": [],
   "source": [
    "w1 = Warehouse(position=[0.,0.],capacity = 100, name='w1')\n",
    "\n",
    "positions = [\n",
    "    [0.,10.],\n",
    "    [3.,10.],\n",
    "    [10.,3.],\n",
    "    [10.,0.]\n",
    "]\n",
    "capacities   = [5.,3.,2.,4.]\n",
    "consumptions = [1.,3.,2.,1.5]\n",
    "tours = [\n",
    "    [0],[1],[2],[3],[0,1],[1,2],[2,3]\n",
    "] \n",
    "# distance matrix\n",
    "d = [\n",
    "    [  0,100,100,100,100],\n",
    "    [100,  0, 10,150,160],\n",
    "    [100, 10,  0,140,150],\n",
    "    [100,150,140,  0, 10],\n",
    "    [100,160,150, 10,  0]\n",
    "]"
   ]
  },
  {
   "cell_type": "code",
   "execution_count": 24,
   "metadata": {
    "hidden": true
   },
   "outputs": [],
   "source": [
    "schools = []\n",
    "for i in range(len(positions)):\n",
    "    schools.append(  School(positions[i], capacities[i], consumptions[i] , 's%i'%i )  )\n",
    "\n",
    "routes = [ Route(w1, [schools[m] for m in tour] )  for tour in tours ]\n",
    "\n",
    "\n",
    "\n",
    "# transform it to a dataframe\n",
    "names = [w1.name]+[s.name for s in schools]\n",
    "D = pd.DataFrame(data=d, columns=names, index=names)\n",
    "\n",
    "MAP1 = Map(\n",
    "    schools=schools,\n",
    "    warehouses=[w1],\n",
    "    possible_routes=routes,\n",
    "    Q = 5.\n",
    "    )"
   ]
  },
  {
   "cell_type": "markdown",
   "metadata": {},
   "source": [
    "## Run"
   ]
  },
  {
   "cell_type": "markdown",
   "metadata": {},
   "source": [
    "solve the problem during 30 days, by computing every 5days the optimal solution for the next 5 days (H=5 is kind of the maximum here)"
   ]
  },
  {
   "cell_type": "code",
   "execution_count": 25,
   "metadata": {
    "scrolled": false
   },
   "outputs": [
    {
     "name": "stdout",
     "output_type": "stream",
     "text": [
      "Running time for solver is 2.020858 sec\n"
     ]
    },
    {
     "data": {
      "application/vnd.plotly.v1+json": {
       "config": {
        "plotlyServerURL": "https://plot.ly"
       },
       "data": [
        {
         "hoverinfo": "text",
         "marker": {
          "color": "green",
          "size": 50,
          "symbol": "circle-dot"
         },
         "mode": "markers",
         "name": "schools",
         "opacity": 0.8,
         "text": [
          "s0 C = 5.0  ;   q = 1.0",
          "s1 C = 3.0  ;   q = 3.0",
          "s2 C = 2.0  ;   q = 2.0",
          "s3 C = 4.0  ;   q = 1.5"
         ],
         "type": "scatter",
         "x": [
          0,
          3,
          10,
          10
         ],
         "y": [
          10,
          10,
          3,
          0
         ]
        },
        {
         "hoverinfo": "text",
         "marker": {
          "color": "blue",
          "size": 70,
          "symbol": "circle-dot"
         },
         "mode": "markers",
         "name": "warehouses",
         "opacity": 0.8,
         "text": [
          "w1 C = 100"
         ],
         "type": "scatter",
         "x": [
          0
         ],
         "y": [
          0
         ]
        },
        {
         "hoverinfo": "text",
         "line": {
          "color": "red"
         },
         "text": [
          "cost = 100",
          "cost = 100"
         ],
         "type": "scatter",
         "visible": false,
         "x": [
          0,
          0
         ],
         "y": [
          1.25,
          8.75
         ]
        },
        {
         "hoverinfo": "text",
         "line": {
          "color": "red"
         },
         "text": [
          "cost = 100",
          "cost = 100"
         ],
         "type": "scatter",
         "visible": false,
         "x": [
          0,
          0
         ],
         "y": [
          8.75,
          1.25
         ]
        },
        {
         "hoverinfo": "text",
         "line": {
          "color": "red"
         },
         "text": [
          "cost = 100",
          "cost = 100"
         ],
         "type": "scatter",
         "visible": false,
         "x": [
          0.375,
          2.625
         ],
         "y": [
          1.25,
          8.75
         ]
        },
        {
         "hoverinfo": "text",
         "line": {
          "color": "red"
         },
         "text": [
          "cost = 100",
          "cost = 100"
         ],
         "type": "scatter",
         "visible": false,
         "x": [
          2.625,
          0.375
         ],
         "y": [
          8.75,
          1.25
         ]
        },
        {
         "hoverinfo": "text",
         "line": {
          "color": "red"
         },
         "text": [
          "cost = 100",
          "cost = 100"
         ],
         "type": "scatter",
         "visible": false,
         "x": [
          1.25,
          8.75
         ],
         "y": [
          0.375,
          2.625
         ]
        },
        {
         "hoverinfo": "text",
         "line": {
          "color": "red"
         },
         "text": [
          "cost = 100",
          "cost = 100"
         ],
         "type": "scatter",
         "visible": false,
         "x": [
          8.75,
          1.25
         ],
         "y": [
          2.625,
          0.375
         ]
        },
        {
         "hoverinfo": "text",
         "line": {
          "color": "red"
         },
         "text": [
          "cost = 100",
          "cost = 100"
         ],
         "type": "scatter",
         "visible": false,
         "x": [
          1.25,
          8.75
         ],
         "y": [
          0,
          0
         ]
        },
        {
         "hoverinfo": "text",
         "line": {
          "color": "red"
         },
         "text": [
          "cost = 100",
          "cost = 100"
         ],
         "type": "scatter",
         "visible": false,
         "x": [
          8.75,
          1.25
         ],
         "y": [
          0,
          0
         ]
        },
        {
         "hoverinfo": "text",
         "line": {
          "color": "red"
         },
         "text": [
          "cost = 100",
          "cost = 100"
         ],
         "type": "scatter",
         "visible": false,
         "x": [
          0,
          0
         ],
         "y": [
          1.25,
          8.75
         ]
        },
        {
         "hoverinfo": "text",
         "line": {
          "color": "red"
         },
         "text": [
          "cost = 10",
          "cost = 10"
         ],
         "type": "scatter",
         "visible": false,
         "x": [
          0.375,
          2.625
         ],
         "y": [
          10,
          10
         ]
        },
        {
         "hoverinfo": "text",
         "line": {
          "color": "red"
         },
         "text": [
          "cost = 100",
          "cost = 100"
         ],
         "type": "scatter",
         "visible": false,
         "x": [
          2.625,
          0.375
         ],
         "y": [
          8.75,
          1.25
         ]
        },
        {
         "hoverinfo": "text",
         "line": {
          "color": "red"
         },
         "text": [
          "cost = 100",
          "cost = 100"
         ],
         "type": "scatter",
         "visible": false,
         "x": [
          0.375,
          2.625
         ],
         "y": [
          1.25,
          8.75
         ]
        },
        {
         "hoverinfo": "text",
         "line": {
          "color": "red"
         },
         "text": [
          "cost = 140",
          "cost = 140"
         ],
         "type": "scatter",
         "visible": false,
         "x": [
          3.875,
          9.125
         ],
         "y": [
          9.125,
          3.875
         ]
        },
        {
         "hoverinfo": "text",
         "line": {
          "color": "red"
         },
         "text": [
          "cost = 100",
          "cost = 100"
         ],
         "type": "scatter",
         "visible": false,
         "x": [
          8.75,
          1.25
         ],
         "y": [
          2.625,
          0.375
         ]
        },
        {
         "hoverinfo": "text",
         "line": {
          "color": "red"
         },
         "text": [
          "cost = 100",
          "cost = 100"
         ],
         "type": "scatter",
         "visible": false,
         "x": [
          1.25,
          8.75
         ],
         "y": [
          0.375,
          2.625
         ]
        },
        {
         "hoverinfo": "text",
         "line": {
          "color": "red"
         },
         "text": [
          "cost = 10",
          "cost = 10"
         ],
         "type": "scatter",
         "visible": false,
         "x": [
          10,
          10
         ],
         "y": [
          2.625,
          0.375
         ]
        },
        {
         "hoverinfo": "text",
         "line": {
          "color": "red"
         },
         "text": [
          "cost = 100",
          "cost = 100"
         ],
         "type": "scatter",
         "visible": false,
         "x": [
          8.75,
          1.25
         ],
         "y": [
          0,
          0
         ]
        }
       ],
       "layout": {
        "annotations": [
         {
          "font": {
           "color": "black",
           "size": 15
          },
          "showarrow": false,
          "text": "I = 5.0",
          "x": 0,
          "xref": "x",
          "y": 10,
          "yref": "y"
         },
         {
          "font": {
           "color": "black",
           "size": 15
          },
          "showarrow": false,
          "text": "I = 3.0",
          "x": 3,
          "xref": "x",
          "y": 10,
          "yref": "y"
         },
         {
          "font": {
           "color": "black",
           "size": 15
          },
          "showarrow": false,
          "text": "I = 2.0",
          "x": 10,
          "xref": "x",
          "y": 3,
          "yref": "y"
         },
         {
          "font": {
           "color": "black",
           "size": 15
          },
          "showarrow": false,
          "text": "I = 4.0",
          "x": 10,
          "xref": "x",
          "y": 0,
          "yref": "y"
         },
         {
          "font": {
           "color": "yellow",
           "size": 15
          },
          "showarrow": false,
          "text": "I = 100",
          "x": 0,
          "xref": "x",
          "y": 0,
          "yref": "y"
         }
        ],
        "font": {
         "size": 12
        },
        "hovermode": "closest",
        "margin": {
         "b": 85,
         "l": 40,
         "r": 40,
         "t": 100
        },
        "plot_bgcolor": "rgb(248,248,248)",
        "showlegend": false,
        "template": {
         "data": {
          "bar": [
           {
            "error_x": {
             "color": "#2a3f5f"
            },
            "error_y": {
             "color": "#2a3f5f"
            },
            "marker": {
             "line": {
              "color": "#E5ECF6",
              "width": 0.5
             }
            },
            "type": "bar"
           }
          ],
          "barpolar": [
           {
            "marker": {
             "line": {
              "color": "#E5ECF6",
              "width": 0.5
             }
            },
            "type": "barpolar"
           }
          ],
          "carpet": [
           {
            "aaxis": {
             "endlinecolor": "#2a3f5f",
             "gridcolor": "white",
             "linecolor": "white",
             "minorgridcolor": "white",
             "startlinecolor": "#2a3f5f"
            },
            "baxis": {
             "endlinecolor": "#2a3f5f",
             "gridcolor": "white",
             "linecolor": "white",
             "minorgridcolor": "white",
             "startlinecolor": "#2a3f5f"
            },
            "type": "carpet"
           }
          ],
          "choropleth": [
           {
            "colorbar": {
             "outlinewidth": 0,
             "ticks": ""
            },
            "type": "choropleth"
           }
          ],
          "contour": [
           {
            "colorbar": {
             "outlinewidth": 0,
             "ticks": ""
            },
            "colorscale": [
             [
              0,
              "#0d0887"
             ],
             [
              0.1111111111111111,
              "#46039f"
             ],
             [
              0.2222222222222222,
              "#7201a8"
             ],
             [
              0.3333333333333333,
              "#9c179e"
             ],
             [
              0.4444444444444444,
              "#bd3786"
             ],
             [
              0.5555555555555556,
              "#d8576b"
             ],
             [
              0.6666666666666666,
              "#ed7953"
             ],
             [
              0.7777777777777778,
              "#fb9f3a"
             ],
             [
              0.8888888888888888,
              "#fdca26"
             ],
             [
              1,
              "#f0f921"
             ]
            ],
            "type": "contour"
           }
          ],
          "contourcarpet": [
           {
            "colorbar": {
             "outlinewidth": 0,
             "ticks": ""
            },
            "type": "contourcarpet"
           }
          ],
          "heatmap": [
           {
            "colorbar": {
             "outlinewidth": 0,
             "ticks": ""
            },
            "colorscale": [
             [
              0,
              "#0d0887"
             ],
             [
              0.1111111111111111,
              "#46039f"
             ],
             [
              0.2222222222222222,
              "#7201a8"
             ],
             [
              0.3333333333333333,
              "#9c179e"
             ],
             [
              0.4444444444444444,
              "#bd3786"
             ],
             [
              0.5555555555555556,
              "#d8576b"
             ],
             [
              0.6666666666666666,
              "#ed7953"
             ],
             [
              0.7777777777777778,
              "#fb9f3a"
             ],
             [
              0.8888888888888888,
              "#fdca26"
             ],
             [
              1,
              "#f0f921"
             ]
            ],
            "type": "heatmap"
           }
          ],
          "heatmapgl": [
           {
            "colorbar": {
             "outlinewidth": 0,
             "ticks": ""
            },
            "colorscale": [
             [
              0,
              "#0d0887"
             ],
             [
              0.1111111111111111,
              "#46039f"
             ],
             [
              0.2222222222222222,
              "#7201a8"
             ],
             [
              0.3333333333333333,
              "#9c179e"
             ],
             [
              0.4444444444444444,
              "#bd3786"
             ],
             [
              0.5555555555555556,
              "#d8576b"
             ],
             [
              0.6666666666666666,
              "#ed7953"
             ],
             [
              0.7777777777777778,
              "#fb9f3a"
             ],
             [
              0.8888888888888888,
              "#fdca26"
             ],
             [
              1,
              "#f0f921"
             ]
            ],
            "type": "heatmapgl"
           }
          ],
          "histogram": [
           {
            "marker": {
             "colorbar": {
              "outlinewidth": 0,
              "ticks": ""
             }
            },
            "type": "histogram"
           }
          ],
          "histogram2d": [
           {
            "colorbar": {
             "outlinewidth": 0,
             "ticks": ""
            },
            "colorscale": [
             [
              0,
              "#0d0887"
             ],
             [
              0.1111111111111111,
              "#46039f"
             ],
             [
              0.2222222222222222,
              "#7201a8"
             ],
             [
              0.3333333333333333,
              "#9c179e"
             ],
             [
              0.4444444444444444,
              "#bd3786"
             ],
             [
              0.5555555555555556,
              "#d8576b"
             ],
             [
              0.6666666666666666,
              "#ed7953"
             ],
             [
              0.7777777777777778,
              "#fb9f3a"
             ],
             [
              0.8888888888888888,
              "#fdca26"
             ],
             [
              1,
              "#f0f921"
             ]
            ],
            "type": "histogram2d"
           }
          ],
          "histogram2dcontour": [
           {
            "colorbar": {
             "outlinewidth": 0,
             "ticks": ""
            },
            "colorscale": [
             [
              0,
              "#0d0887"
             ],
             [
              0.1111111111111111,
              "#46039f"
             ],
             [
              0.2222222222222222,
              "#7201a8"
             ],
             [
              0.3333333333333333,
              "#9c179e"
             ],
             [
              0.4444444444444444,
              "#bd3786"
             ],
             [
              0.5555555555555556,
              "#d8576b"
             ],
             [
              0.6666666666666666,
              "#ed7953"
             ],
             [
              0.7777777777777778,
              "#fb9f3a"
             ],
             [
              0.8888888888888888,
              "#fdca26"
             ],
             [
              1,
              "#f0f921"
             ]
            ],
            "type": "histogram2dcontour"
           }
          ],
          "mesh3d": [
           {
            "colorbar": {
             "outlinewidth": 0,
             "ticks": ""
            },
            "type": "mesh3d"
           }
          ],
          "parcoords": [
           {
            "line": {
             "colorbar": {
              "outlinewidth": 0,
              "ticks": ""
             }
            },
            "type": "parcoords"
           }
          ],
          "pie": [
           {
            "automargin": true,
            "type": "pie"
           }
          ],
          "scatter": [
           {
            "marker": {
             "colorbar": {
              "outlinewidth": 0,
              "ticks": ""
             }
            },
            "type": "scatter"
           }
          ],
          "scatter3d": [
           {
            "line": {
             "colorbar": {
              "outlinewidth": 0,
              "ticks": ""
             }
            },
            "marker": {
             "colorbar": {
              "outlinewidth": 0,
              "ticks": ""
             }
            },
            "type": "scatter3d"
           }
          ],
          "scattercarpet": [
           {
            "marker": {
             "colorbar": {
              "outlinewidth": 0,
              "ticks": ""
             }
            },
            "type": "scattercarpet"
           }
          ],
          "scattergeo": [
           {
            "marker": {
             "colorbar": {
              "outlinewidth": 0,
              "ticks": ""
             }
            },
            "type": "scattergeo"
           }
          ],
          "scattergl": [
           {
            "marker": {
             "colorbar": {
              "outlinewidth": 0,
              "ticks": ""
             }
            },
            "type": "scattergl"
           }
          ],
          "scattermapbox": [
           {
            "marker": {
             "colorbar": {
              "outlinewidth": 0,
              "ticks": ""
             }
            },
            "type": "scattermapbox"
           }
          ],
          "scatterpolar": [
           {
            "marker": {
             "colorbar": {
              "outlinewidth": 0,
              "ticks": ""
             }
            },
            "type": "scatterpolar"
           }
          ],
          "scatterpolargl": [
           {
            "marker": {
             "colorbar": {
              "outlinewidth": 0,
              "ticks": ""
             }
            },
            "type": "scatterpolargl"
           }
          ],
          "scatterternary": [
           {
            "marker": {
             "colorbar": {
              "outlinewidth": 0,
              "ticks": ""
             }
            },
            "type": "scatterternary"
           }
          ],
          "surface": [
           {
            "colorbar": {
             "outlinewidth": 0,
             "ticks": ""
            },
            "colorscale": [
             [
              0,
              "#0d0887"
             ],
             [
              0.1111111111111111,
              "#46039f"
             ],
             [
              0.2222222222222222,
              "#7201a8"
             ],
             [
              0.3333333333333333,
              "#9c179e"
             ],
             [
              0.4444444444444444,
              "#bd3786"
             ],
             [
              0.5555555555555556,
              "#d8576b"
             ],
             [
              0.6666666666666666,
              "#ed7953"
             ],
             [
              0.7777777777777778,
              "#fb9f3a"
             ],
             [
              0.8888888888888888,
              "#fdca26"
             ],
             [
              1,
              "#f0f921"
             ]
            ],
            "type": "surface"
           }
          ],
          "table": [
           {
            "cells": {
             "fill": {
              "color": "#EBF0F8"
             },
             "line": {
              "color": "white"
             }
            },
            "header": {
             "fill": {
              "color": "#C8D4E3"
             },
             "line": {
              "color": "white"
             }
            },
            "type": "table"
           }
          ]
         },
         "layout": {
          "annotationdefaults": {
           "arrowcolor": "#2a3f5f",
           "arrowhead": 0,
           "arrowwidth": 1
          },
          "coloraxis": {
           "colorbar": {
            "outlinewidth": 0,
            "ticks": ""
           }
          },
          "colorscale": {
           "diverging": [
            [
             0,
             "#8e0152"
            ],
            [
             0.1,
             "#c51b7d"
            ],
            [
             0.2,
             "#de77ae"
            ],
            [
             0.3,
             "#f1b6da"
            ],
            [
             0.4,
             "#fde0ef"
            ],
            [
             0.5,
             "#f7f7f7"
            ],
            [
             0.6,
             "#e6f5d0"
            ],
            [
             0.7,
             "#b8e186"
            ],
            [
             0.8,
             "#7fbc41"
            ],
            [
             0.9,
             "#4d9221"
            ],
            [
             1,
             "#276419"
            ]
           ],
           "sequential": [
            [
             0,
             "#0d0887"
            ],
            [
             0.1111111111111111,
             "#46039f"
            ],
            [
             0.2222222222222222,
             "#7201a8"
            ],
            [
             0.3333333333333333,
             "#9c179e"
            ],
            [
             0.4444444444444444,
             "#bd3786"
            ],
            [
             0.5555555555555556,
             "#d8576b"
            ],
            [
             0.6666666666666666,
             "#ed7953"
            ],
            [
             0.7777777777777778,
             "#fb9f3a"
            ],
            [
             0.8888888888888888,
             "#fdca26"
            ],
            [
             1,
             "#f0f921"
            ]
           ],
           "sequentialminus": [
            [
             0,
             "#0d0887"
            ],
            [
             0.1111111111111111,
             "#46039f"
            ],
            [
             0.2222222222222222,
             "#7201a8"
            ],
            [
             0.3333333333333333,
             "#9c179e"
            ],
            [
             0.4444444444444444,
             "#bd3786"
            ],
            [
             0.5555555555555556,
             "#d8576b"
            ],
            [
             0.6666666666666666,
             "#ed7953"
            ],
            [
             0.7777777777777778,
             "#fb9f3a"
            ],
            [
             0.8888888888888888,
             "#fdca26"
            ],
            [
             1,
             "#f0f921"
            ]
           ]
          },
          "colorway": [
           "#636efa",
           "#EF553B",
           "#00cc96",
           "#ab63fa",
           "#FFA15A",
           "#19d3f3",
           "#FF6692",
           "#B6E880",
           "#FF97FF",
           "#FECB52"
          ],
          "font": {
           "color": "#2a3f5f"
          },
          "geo": {
           "bgcolor": "white",
           "lakecolor": "white",
           "landcolor": "#E5ECF6",
           "showlakes": true,
           "showland": true,
           "subunitcolor": "white"
          },
          "hoverlabel": {
           "align": "left"
          },
          "hovermode": "closest",
          "mapbox": {
           "style": "light"
          },
          "paper_bgcolor": "white",
          "plot_bgcolor": "#E5ECF6",
          "polar": {
           "angularaxis": {
            "gridcolor": "white",
            "linecolor": "white",
            "ticks": ""
           },
           "bgcolor": "#E5ECF6",
           "radialaxis": {
            "gridcolor": "white",
            "linecolor": "white",
            "ticks": ""
           }
          },
          "scene": {
           "xaxis": {
            "backgroundcolor": "#E5ECF6",
            "gridcolor": "white",
            "gridwidth": 2,
            "linecolor": "white",
            "showbackground": true,
            "ticks": "",
            "zerolinecolor": "white"
           },
           "yaxis": {
            "backgroundcolor": "#E5ECF6",
            "gridcolor": "white",
            "gridwidth": 2,
            "linecolor": "white",
            "showbackground": true,
            "ticks": "",
            "zerolinecolor": "white"
           },
           "zaxis": {
            "backgroundcolor": "#E5ECF6",
            "gridcolor": "white",
            "gridwidth": 2,
            "linecolor": "white",
            "showbackground": true,
            "ticks": "",
            "zerolinecolor": "white"
           }
          },
          "shapedefaults": {
           "line": {
            "color": "#2a3f5f"
           }
          },
          "ternary": {
           "aaxis": {
            "gridcolor": "white",
            "linecolor": "white",
            "ticks": ""
           },
           "baxis": {
            "gridcolor": "white",
            "linecolor": "white",
            "ticks": ""
           },
           "bgcolor": "#E5ECF6",
           "caxis": {
            "gridcolor": "white",
            "linecolor": "white",
            "ticks": ""
           }
          },
          "title": {
           "x": 0.05
          },
          "xaxis": {
           "automargin": true,
           "gridcolor": "white",
           "linecolor": "white",
           "ticks": "",
           "title": {
            "standoff": 15
           },
           "zerolinecolor": "white",
           "zerolinewidth": 2
          },
          "yaxis": {
           "automargin": true,
           "gridcolor": "white",
           "linecolor": "white",
           "ticks": "",
           "title": {
            "standoff": 15
           },
           "zerolinecolor": "white",
           "zerolinewidth": 2
          }
         }
        },
        "title": {
         "text": "WFP Inventory problem        Cost = 0          Total Cost = 0"
        },
        "updatemenus": [
         {
          "buttons": [
           {
            "args": [
             {
              "visible": [
               true,
               true,
               false,
               false,
               false,
               false,
               false,
               false,
               false,
               false,
               false,
               false,
               false,
               false,
               false,
               false,
               false,
               false,
               false
              ]
             },
             {
              "annotations": [
               {
                "font": {
                 "color": "black",
                 "size": 15
                },
                "showarrow": false,
                "text": "I = 5.0",
                "x": 0,
                "xref": "x1",
                "y": 10,
                "yref": "y1"
               },
               {
                "font": {
                 "color": "black",
                 "size": 15
                },
                "showarrow": false,
                "text": "I = 3.0",
                "x": 3,
                "xref": "x1",
                "y": 10,
                "yref": "y1"
               },
               {
                "font": {
                 "color": "black",
                 "size": 15
                },
                "showarrow": false,
                "text": "I = 2.0",
                "x": 10,
                "xref": "x1",
                "y": 3,
                "yref": "y1"
               },
               {
                "font": {
                 "color": "black",
                 "size": 15
                },
                "showarrow": false,
                "text": "I = 4.0",
                "x": 10,
                "xref": "x1",
                "y": 0,
                "yref": "y1"
               },
               {
                "font": {
                 "color": "yellow",
                 "size": 15
                },
                "showarrow": false,
                "text": "I = 100",
                "x": 0,
                "xref": "x1",
                "y": 0,
                "yref": "y1"
               }
              ],
              "title": "WFP Inventory problem        Cost = 0          Total Cost = 0"
             }
            ],
            "label": "t = 0 (before lunch)",
            "method": "update"
           },
           {
            "args": [
             {
              "visible": [
               true,
               true,
               false,
               false,
               false,
               false,
               false,
               false,
               false,
               false,
               false,
               false,
               false,
               true,
               true,
               true,
               false,
               false,
               false
              ]
             },
             {
              "annotations": [
               {
                "font": {
                 "color": "black",
                 "size": 15
                },
                "showarrow": false,
                "text": "I = 4.0",
                "x": 0,
                "xref": "x1",
                "y": 10,
                "yref": "y1"
               },
               {
                "font": {
                 "color": "black",
                 "size": 15
                },
                "showarrow": false,
                "text": "I = 3.0",
                "x": 3,
                "xref": "x1",
                "y": 10,
                "yref": "y1"
               },
               {
                "font": {
                 "color": "black",
                 "size": 15
                },
                "showarrow": false,
                "text": "I = 2.0",
                "x": 10,
                "xref": "x1",
                "y": 3,
                "yref": "y1"
               },
               {
                "font": {
                 "color": "black",
                 "size": 15
                },
                "showarrow": false,
                "text": "I = 2.5",
                "x": 10,
                "xref": "x1",
                "y": 0,
                "yref": "y1"
               },
               {
                "font": {
                 "color": "yellow",
                 "size": 15
                },
                "showarrow": false,
                "text": "I = 95.0",
                "x": 0,
                "xref": "x1",
                "y": 0,
                "yref": "y1"
               },
               {
                "font": {
                 "color": "red",
                 "size": 15
                },
                "showarrow": false,
                "text": "3.0  ",
                "x": 2,
                "xref": "x1",
                "y": 5.5,
                "yref": "y1"
               },
               {
                "font": {
                 "color": "red",
                 "size": 15
                },
                "showarrow": false,
                "text": "2.0  ",
                "x": 7,
                "xref": "x1",
                "y": 7,
                "yref": "y1"
               }
              ],
              "title": "WFP Inventory problem        Cost = 340.0          Total Cost = 340.0"
             }
            ],
            "label": "t = 1 (before lunch)",
            "method": "update"
           },
           {
            "args": [
             {
              "visible": [
               true,
               true,
               false,
               false,
               true,
               true,
               false,
               false,
               false,
               false,
               false,
               false,
               false,
               false,
               false,
               false,
               true,
               true,
               true
              ]
             },
             {
              "annotations": [
               {
                "font": {
                 "color": "black",
                 "size": 15
                },
                "showarrow": false,
                "text": "I = 3.0",
                "x": 0,
                "xref": "x1",
                "y": 10,
                "yref": "y1"
               },
               {
                "font": {
                 "color": "black",
                 "size": 15
                },
                "showarrow": false,
                "text": "I = 3.0",
                "x": 3,
                "xref": "x1",
                "y": 10,
                "yref": "y1"
               },
               {
                "font": {
                 "color": "black",
                 "size": 15
                },
                "showarrow": false,
                "text": "I = 2.0",
                "x": 10,
                "xref": "x1",
                "y": 3,
                "yref": "y1"
               },
               {
                "font": {
                 "color": "black",
                 "size": 15
                },
                "showarrow": false,
                "text": "I = 3.0",
                "x": 10,
                "xref": "x1",
                "y": 0,
                "yref": "y1"
               },
               {
                "font": {
                 "color": "yellow",
                 "size": 15
                },
                "showarrow": false,
                "text": "I = 88.0",
                "x": 0,
                "xref": "x1",
                "y": 0,
                "yref": "y1"
               },
               {
                "font": {
                 "color": "red",
                 "size": 15
                },
                "showarrow": false,
                "text": "3.0  ",
                "x": 2,
                "xref": "x1",
                "y": 5.5,
                "yref": "y1"
               },
               {
                "font": {
                 "color": "red",
                 "size": 15
                },
                "showarrow": false,
                "text": "2.0  ",
                "x": 5.5,
                "xref": "x1",
                "y": 2,
                "yref": "y1"
               },
               {
                "font": {
                 "color": "red",
                 "size": 15
                },
                "showarrow": false,
                "text": "2.0  ",
                "x": 10.5,
                "xref": "x1",
                "y": 2,
                "yref": "y1"
               }
              ],
              "title": "WFP Inventory problem        Cost = 410.0          Total Cost = 750.0"
             }
            ],
            "label": "t = 2 (before lunch)",
            "method": "update"
           },
           {
            "args": [
             {
              "visible": [
               true,
               true,
               false,
               false,
               false,
               false,
               false,
               false,
               false,
               false,
               false,
               false,
               false,
               true,
               true,
               true,
               false,
               false,
               false
              ]
             },
             {
              "annotations": [
               {
                "font": {
                 "color": "black",
                 "size": 15
                },
                "showarrow": false,
                "text": "I = 2.0",
                "x": 0,
                "xref": "x1",
                "y": 10,
                "yref": "y1"
               },
               {
                "font": {
                 "color": "black",
                 "size": 15
                },
                "showarrow": false,
                "text": "I = 3.0",
                "x": 3,
                "xref": "x1",
                "y": 10,
                "yref": "y1"
               },
               {
                "font": {
                 "color": "black",
                 "size": 15
                },
                "showarrow": false,
                "text": "I = 2.0",
                "x": 10,
                "xref": "x1",
                "y": 3,
                "yref": "y1"
               },
               {
                "font": {
                 "color": "black",
                 "size": 15
                },
                "showarrow": false,
                "text": "I = 1.5",
                "x": 10,
                "xref": "x1",
                "y": 0,
                "yref": "y1"
               },
               {
                "font": {
                 "color": "yellow",
                 "size": 15
                },
                "showarrow": false,
                "text": "I = 83.0",
                "x": 0,
                "xref": "x1",
                "y": 0,
                "yref": "y1"
               },
               {
                "font": {
                 "color": "red",
                 "size": 15
                },
                "showarrow": false,
                "text": "3.0  ",
                "x": 2,
                "xref": "x1",
                "y": 5.5,
                "yref": "y1"
               },
               {
                "font": {
                 "color": "red",
                 "size": 15
                },
                "showarrow": false,
                "text": "2.0  ",
                "x": 7,
                "xref": "x1",
                "y": 7,
                "yref": "y1"
               }
              ],
              "title": "WFP Inventory problem        Cost = 340.0          Total Cost = 1090.0"
             }
            ],
            "label": "t = 3 (before lunch)",
            "method": "update"
           },
           {
            "args": [
             {
              "visible": [
               true,
               true,
               false,
               false,
               true,
               true,
               false,
               false,
               false,
               false,
               false,
               false,
               false,
               false,
               false,
               false,
               true,
               true,
               true
              ]
             },
             {
              "annotations": [
               {
                "font": {
                 "color": "black",
                 "size": 15
                },
                "showarrow": false,
                "text": "I = 1.0",
                "x": 0,
                "xref": "x1",
                "y": 10,
                "yref": "y1"
               },
               {
                "font": {
                 "color": "black",
                 "size": 15
                },
                "showarrow": false,
                "text": "I = 3.0",
                "x": 3,
                "xref": "x1",
                "y": 10,
                "yref": "y1"
               },
               {
                "font": {
                 "color": "black",
                 "size": 15
                },
                "showarrow": false,
                "text": "I = 2.0",
                "x": 10,
                "xref": "x1",
                "y": 3,
                "yref": "y1"
               },
               {
                "font": {
                 "color": "black",
                 "size": 15
                },
                "showarrow": false,
                "text": "I = 1.5",
                "x": 10,
                "xref": "x1",
                "y": 0,
                "yref": "y1"
               },
               {
                "font": {
                 "color": "yellow",
                 "size": 15
                },
                "showarrow": false,
                "text": "I = 76.5",
                "x": 0,
                "xref": "x1",
                "y": 0,
                "yref": "y1"
               },
               {
                "font": {
                 "color": "red",
                 "size": 15
                },
                "showarrow": false,
                "text": "3.0  ",
                "x": 2,
                "xref": "x1",
                "y": 5.5,
                "yref": "y1"
               },
               {
                "font": {
                 "color": "red",
                 "size": 15
                },
                "showarrow": false,
                "text": "2.0  ",
                "x": 5.5,
                "xref": "x1",
                "y": 2,
                "yref": "y1"
               },
               {
                "font": {
                 "color": "red",
                 "size": 15
                },
                "showarrow": false,
                "text": "1.5  ",
                "x": 10.5,
                "xref": "x1",
                "y": 2,
                "yref": "y1"
               }
              ],
              "title": "WFP Inventory problem        Cost = 410.0          Total Cost = 1500.0"
             }
            ],
            "label": "t = 4 (before lunch)",
            "method": "update"
           },
           {
            "args": [
             {
              "visible": [
               true,
               true,
               false,
               false,
               false,
               false,
               false,
               false,
               false,
               false,
               true,
               true,
               true,
               false,
               false,
               false,
               true,
               true,
               true
              ]
             },
             {
              "annotations": [
               {
                "font": {
                 "color": "black",
                 "size": 15
                },
                "showarrow": false,
                "text": "I = 1.0",
                "x": 0,
                "xref": "x1",
                "y": 10,
                "yref": "y1"
               },
               {
                "font": {
                 "color": "black",
                 "size": 15
                },
                "showarrow": false,
                "text": "I = 3.0",
                "x": 3,
                "xref": "x1",
                "y": 10,
                "yref": "y1"
               },
               {
                "font": {
                 "color": "black",
                 "size": 15
                },
                "showarrow": false,
                "text": "I = 2.0",
                "x": 10,
                "xref": "x1",
                "y": 3,
                "yref": "y1"
               },
               {
                "font": {
                 "color": "black",
                 "size": 15
                },
                "showarrow": false,
                "text": "I = 2.5",
                "x": 10,
                "xref": "x1",
                "y": 0,
                "yref": "y1"
               },
               {
                "font": {
                 "color": "yellow",
                 "size": 15
                },
                "showarrow": false,
                "text": "I = 68.0",
                "x": 0,
                "xref": "x1",
                "y": 0,
                "yref": "y1"
               },
               {
                "font": {
                 "color": "red",
                 "size": 15
                },
                "showarrow": false,
                "text": "1.0  ",
                "x": 0.5,
                "xref": "x1",
                "y": 5.5,
                "yref": "y1"
               },
               {
                "font": {
                 "color": "red",
                 "size": 15
                },
                "showarrow": false,
                "text": "3.0  ",
                "x": 2,
                "xref": "x1",
                "y": 10.5,
                "yref": "y1"
               },
               {
                "font": {
                 "color": "red",
                 "size": 15
                },
                "showarrow": false,
                "text": "2.0  ",
                "x": 5.5,
                "xref": "x1",
                "y": 2,
                "yref": "y1"
               },
               {
                "font": {
                 "color": "red",
                 "size": 15
                },
                "showarrow": false,
                "text": "2.5  ",
                "x": 10.5,
                "xref": "x1",
                "y": 2,
                "yref": "y1"
               }
              ],
              "title": "WFP Inventory problem        Cost = 420.0          Total Cost = 1920.0"
             }
            ],
            "label": "t = 5 (before lunch)",
            "method": "update"
           },
           {
            "args": [
             {
              "visible": [
               true,
               true,
               false,
               false,
               false,
               false,
               false,
               false,
               false,
               false,
               true,
               true,
               true,
               false,
               false,
               false,
               true,
               true,
               true
              ]
             },
             {
              "annotations": [
               {
                "font": {
                 "color": "black",
                 "size": 15
                },
                "showarrow": false,
                "text": "I = 2.0",
                "x": 0,
                "xref": "x1",
                "y": 10,
                "yref": "y1"
               },
               {
                "font": {
                 "color": "black",
                 "size": 15
                },
                "showarrow": false,
                "text": "I = 3.0",
                "x": 3,
                "xref": "x1",
                "y": 10,
                "yref": "y1"
               },
               {
                "font": {
                 "color": "black",
                 "size": 15
                },
                "showarrow": false,
                "text": "I = 2.0",
                "x": 10,
                "xref": "x1",
                "y": 3,
                "yref": "y1"
               },
               {
                "font": {
                 "color": "black",
                 "size": 15
                },
                "showarrow": false,
                "text": "I = 4.0",
                "x": 10,
                "xref": "x1",
                "y": 0,
                "yref": "y1"
               },
               {
                "font": {
                 "color": "yellow",
                 "size": 15
                },
                "showarrow": false,
                "text": "I = 58.0",
                "x": 0,
                "xref": "x1",
                "y": 0,
                "yref": "y1"
               },
               {
                "font": {
                 "color": "red",
                 "size": 15
                },
                "showarrow": false,
                "text": "2.0  ",
                "x": 0.5,
                "xref": "x1",
                "y": 5.5,
                "yref": "y1"
               },
               {
                "font": {
                 "color": "red",
                 "size": 15
                },
                "showarrow": false,
                "text": "3.0  ",
                "x": 2,
                "xref": "x1",
                "y": 10.5,
                "yref": "y1"
               },
               {
                "font": {
                 "color": "red",
                 "size": 15
                },
                "showarrow": false,
                "text": "2.0  ",
                "x": 5.5,
                "xref": "x1",
                "y": 2,
                "yref": "y1"
               },
               {
                "font": {
                 "color": "red",
                 "size": 15
                },
                "showarrow": false,
                "text": "3.0  ",
                "x": 10.5,
                "xref": "x1",
                "y": 2,
                "yref": "y1"
               }
              ],
              "title": "WFP Inventory problem        Cost = 420.0          Total Cost = 2340.0"
             }
            ],
            "label": "t = 6 (before lunch)",
            "method": "update"
           },
           {
            "args": [
             {
              "visible": [
               true,
               true,
               false,
               false,
               false,
               false,
               false,
               false,
               false,
               false,
               false,
               false,
               false,
               true,
               true,
               true,
               false,
               false,
               false
              ]
             },
             {
              "annotations": [
               {
                "font": {
                 "color": "black",
                 "size": 15
                },
                "showarrow": false,
                "text": "I = 1.0",
                "x": 0,
                "xref": "x1",
                "y": 10,
                "yref": "y1"
               },
               {
                "font": {
                 "color": "black",
                 "size": 15
                },
                "showarrow": false,
                "text": "I = 3.0",
                "x": 3,
                "xref": "x1",
                "y": 10,
                "yref": "y1"
               },
               {
                "font": {
                 "color": "black",
                 "size": 15
                },
                "showarrow": false,
                "text": "I = 2.0",
                "x": 10,
                "xref": "x1",
                "y": 3,
                "yref": "y1"
               },
               {
                "font": {
                 "color": "black",
                 "size": 15
                },
                "showarrow": false,
                "text": "I = 2.5",
                "x": 10,
                "xref": "x1",
                "y": 0,
                "yref": "y1"
               },
               {
                "font": {
                 "color": "yellow",
                 "size": 15
                },
                "showarrow": false,
                "text": "I = 53.0",
                "x": 0,
                "xref": "x1",
                "y": 0,
                "yref": "y1"
               },
               {
                "font": {
                 "color": "red",
                 "size": 15
                },
                "showarrow": false,
                "text": "3.0  ",
                "x": 2,
                "xref": "x1",
                "y": 5.5,
                "yref": "y1"
               },
               {
                "font": {
                 "color": "red",
                 "size": 15
                },
                "showarrow": false,
                "text": "2.0  ",
                "x": 7,
                "xref": "x1",
                "y": 7,
                "yref": "y1"
               }
              ],
              "title": "WFP Inventory problem        Cost = 340.0          Total Cost = 2680.0"
             }
            ],
            "label": "t = 7 (before lunch)",
            "method": "update"
           },
           {
            "args": [
             {
              "visible": [
               true,
               true,
               false,
               false,
               false,
               false,
               false,
               false,
               false,
               false,
               true,
               true,
               true,
               false,
               false,
               false,
               true,
               true,
               true
              ]
             },
             {
              "annotations": [
               {
                "font": {
                 "color": "black",
                 "size": 15
                },
                "showarrow": false,
                "text": "I = 2.0",
                "x": 0,
                "xref": "x1",
                "y": 10,
                "yref": "y1"
               },
               {
                "font": {
                 "color": "black",
                 "size": 15
                },
                "showarrow": false,
                "text": "I = 3.0",
                "x": 3,
                "xref": "x1",
                "y": 10,
                "yref": "y1"
               },
               {
                "font": {
                 "color": "black",
                 "size": 15
                },
                "showarrow": false,
                "text": "I = 2.0",
                "x": 10,
                "xref": "x1",
                "y": 3,
                "yref": "y1"
               },
               {
                "font": {
                 "color": "black",
                 "size": 15
                },
                "showarrow": false,
                "text": "I = 4.0",
                "x": 10,
                "xref": "x1",
                "y": 0,
                "yref": "y1"
               },
               {
                "font": {
                 "color": "yellow",
                 "size": 15
                },
                "showarrow": false,
                "text": "I = 43.0",
                "x": 0,
                "xref": "x1",
                "y": 0,
                "yref": "y1"
               },
               {
                "font": {
                 "color": "red",
                 "size": 15
                },
                "showarrow": false,
                "text": "2.0  ",
                "x": 0.5,
                "xref": "x1",
                "y": 5.5,
                "yref": "y1"
               },
               {
                "font": {
                 "color": "red",
                 "size": 15
                },
                "showarrow": false,
                "text": "3.0  ",
                "x": 2,
                "xref": "x1",
                "y": 10.5,
                "yref": "y1"
               },
               {
                "font": {
                 "color": "red",
                 "size": 15
                },
                "showarrow": false,
                "text": "2.0  ",
                "x": 5.5,
                "xref": "x1",
                "y": 2,
                "yref": "y1"
               },
               {
                "font": {
                 "color": "red",
                 "size": 15
                },
                "showarrow": false,
                "text": "3.0  ",
                "x": 10.5,
                "xref": "x1",
                "y": 2,
                "yref": "y1"
               }
              ],
              "title": "WFP Inventory problem        Cost = 420.0          Total Cost = 3100.0"
             }
            ],
            "label": "t = 8 (before lunch)",
            "method": "update"
           },
           {
            "args": [
             {
              "visible": [
               true,
               true,
               false,
               false,
               false,
               false,
               false,
               false,
               false,
               false,
               false,
               false,
               false,
               true,
               true,
               true,
               false,
               false,
               false
              ]
             },
             {
              "annotations": [
               {
                "font": {
                 "color": "black",
                 "size": 15
                },
                "showarrow": false,
                "text": "I = 1.0",
                "x": 0,
                "xref": "x1",
                "y": 10,
                "yref": "y1"
               },
               {
                "font": {
                 "color": "black",
                 "size": 15
                },
                "showarrow": false,
                "text": "I = 3.0",
                "x": 3,
                "xref": "x1",
                "y": 10,
                "yref": "y1"
               },
               {
                "font": {
                 "color": "black",
                 "size": 15
                },
                "showarrow": false,
                "text": "I = 2.0",
                "x": 10,
                "xref": "x1",
                "y": 3,
                "yref": "y1"
               },
               {
                "font": {
                 "color": "black",
                 "size": 15
                },
                "showarrow": false,
                "text": "I = 2.5",
                "x": 10,
                "xref": "x1",
                "y": 0,
                "yref": "y1"
               },
               {
                "font": {
                 "color": "yellow",
                 "size": 15
                },
                "showarrow": false,
                "text": "I = 38.0",
                "x": 0,
                "xref": "x1",
                "y": 0,
                "yref": "y1"
               },
               {
                "font": {
                 "color": "red",
                 "size": 15
                },
                "showarrow": false,
                "text": "3.0  ",
                "x": 2,
                "xref": "x1",
                "y": 5.5,
                "yref": "y1"
               },
               {
                "font": {
                 "color": "red",
                 "size": 15
                },
                "showarrow": false,
                "text": "2.0  ",
                "x": 7,
                "xref": "x1",
                "y": 7,
                "yref": "y1"
               }
              ],
              "title": "WFP Inventory problem        Cost = 340.0          Total Cost = 3440.0"
             }
            ],
            "label": "t = 9 (before lunch)",
            "method": "update"
           },
           {
            "args": [
             {
              "visible": [
               true,
               true,
               false,
               false,
               false,
               false,
               false,
               false,
               false,
               false,
               true,
               true,
               true,
               false,
               false,
               false,
               true,
               true,
               true
              ]
             },
             {
              "annotations": [
               {
                "font": {
                 "color": "black",
                 "size": 15
                },
                "showarrow": false,
                "text": "I = 1.0",
                "x": 0,
                "xref": "x1",
                "y": 10,
                "yref": "y1"
               },
               {
                "font": {
                 "color": "black",
                 "size": 15
                },
                "showarrow": false,
                "text": "I = 3.0",
                "x": 3,
                "xref": "x1",
                "y": 10,
                "yref": "y1"
               },
               {
                "font": {
                 "color": "black",
                 "size": 15
                },
                "showarrow": false,
                "text": "I = 2.0",
                "x": 10,
                "xref": "x1",
                "y": 3,
                "yref": "y1"
               },
               {
                "font": {
                 "color": "black",
                 "size": 15
                },
                "showarrow": false,
                "text": "I = 2.5",
                "x": 10,
                "xref": "x1",
                "y": 0,
                "yref": "y1"
               },
               {
                "font": {
                 "color": "yellow",
                 "size": 15
                },
                "showarrow": false,
                "text": "I = 30.5",
                "x": 0,
                "xref": "x1",
                "y": 0,
                "yref": "y1"
               },
               {
                "font": {
                 "color": "red",
                 "size": 15
                },
                "showarrow": false,
                "text": "1.0  ",
                "x": 0.5,
                "xref": "x1",
                "y": 5.5,
                "yref": "y1"
               },
               {
                "font": {
                 "color": "red",
                 "size": 15
                },
                "showarrow": false,
                "text": "3.0  ",
                "x": 2,
                "xref": "x1",
                "y": 10.5,
                "yref": "y1"
               },
               {
                "font": {
                 "color": "red",
                 "size": 15
                },
                "showarrow": false,
                "text": "2.0  ",
                "x": 5.5,
                "xref": "x1",
                "y": 2,
                "yref": "y1"
               },
               {
                "font": {
                 "color": "red",
                 "size": 15
                },
                "showarrow": false,
                "text": "1.5  ",
                "x": 10.5,
                "xref": "x1",
                "y": 2,
                "yref": "y1"
               }
              ],
              "title": "WFP Inventory problem        Cost = 420.0          Total Cost = 3860.0"
             }
            ],
            "label": "t = 10 (before lunch)",
            "method": "update"
           },
           {
            "args": [
             {
              "visible": [
               true,
               true,
               false,
               false,
               false,
               false,
               false,
               false,
               false,
               false,
               true,
               true,
               true,
               false,
               false,
               false,
               true,
               true,
               true
              ]
             },
             {
              "annotations": [
               {
                "font": {
                 "color": "black",
                 "size": 15
                },
                "showarrow": false,
                "text": "I = 2.0",
                "x": 0,
                "xref": "x1",
                "y": 10,
                "yref": "y1"
               },
               {
                "font": {
                 "color": "black",
                 "size": 15
                },
                "showarrow": false,
                "text": "I = 3.0",
                "x": 3,
                "xref": "x1",
                "y": 10,
                "yref": "y1"
               },
               {
                "font": {
                 "color": "black",
                 "size": 15
                },
                "showarrow": false,
                "text": "I = 2.0",
                "x": 10,
                "xref": "x1",
                "y": 3,
                "yref": "y1"
               },
               {
                "font": {
                 "color": "black",
                 "size": 15
                },
                "showarrow": false,
                "text": "I = 4.0",
                "x": 10,
                "xref": "x1",
                "y": 0,
                "yref": "y1"
               },
               {
                "font": {
                 "color": "yellow",
                 "size": 15
                },
                "showarrow": false,
                "text": "I = 20.5",
                "x": 0,
                "xref": "x1",
                "y": 0,
                "yref": "y1"
               },
               {
                "font": {
                 "color": "red",
                 "size": 15
                },
                "showarrow": false,
                "text": "2.0  ",
                "x": 0.5,
                "xref": "x1",
                "y": 5.5,
                "yref": "y1"
               },
               {
                "font": {
                 "color": "red",
                 "size": 15
                },
                "showarrow": false,
                "text": "3.0  ",
                "x": 2,
                "xref": "x1",
                "y": 10.5,
                "yref": "y1"
               },
               {
                "font": {
                 "color": "red",
                 "size": 15
                },
                "showarrow": false,
                "text": "2.0  ",
                "x": 5.5,
                "xref": "x1",
                "y": 2,
                "yref": "y1"
               },
               {
                "font": {
                 "color": "red",
                 "size": 15
                },
                "showarrow": false,
                "text": "3.0  ",
                "x": 10.5,
                "xref": "x1",
                "y": 2,
                "yref": "y1"
               }
              ],
              "title": "WFP Inventory problem        Cost = 420.0          Total Cost = 4280.0"
             }
            ],
            "label": "t = 11 (before lunch)",
            "method": "update"
           },
           {
            "args": [
             {
              "visible": [
               true,
               true,
               false,
               false,
               false,
               false,
               false,
               false,
               false,
               false,
               false,
               false,
               false,
               true,
               true,
               true,
               false,
               false,
               false
              ]
             },
             {
              "annotations": [
               {
                "font": {
                 "color": "black",
                 "size": 15
                },
                "showarrow": false,
                "text": "I = 1.0",
                "x": 0,
                "xref": "x1",
                "y": 10,
                "yref": "y1"
               },
               {
                "font": {
                 "color": "black",
                 "size": 15
                },
                "showarrow": false,
                "text": "I = 3.0",
                "x": 3,
                "xref": "x1",
                "y": 10,
                "yref": "y1"
               },
               {
                "font": {
                 "color": "black",
                 "size": 15
                },
                "showarrow": false,
                "text": "I = 2.0",
                "x": 10,
                "xref": "x1",
                "y": 3,
                "yref": "y1"
               },
               {
                "font": {
                 "color": "black",
                 "size": 15
                },
                "showarrow": false,
                "text": "I = 2.5",
                "x": 10,
                "xref": "x1",
                "y": 0,
                "yref": "y1"
               },
               {
                "font": {
                 "color": "yellow",
                 "size": 15
                },
                "showarrow": false,
                "text": "I = 15.5",
                "x": 0,
                "xref": "x1",
                "y": 0,
                "yref": "y1"
               },
               {
                "font": {
                 "color": "red",
                 "size": 15
                },
                "showarrow": false,
                "text": "3.0  ",
                "x": 2,
                "xref": "x1",
                "y": 5.5,
                "yref": "y1"
               },
               {
                "font": {
                 "color": "red",
                 "size": 15
                },
                "showarrow": false,
                "text": "2.0  ",
                "x": 7,
                "xref": "x1",
                "y": 7,
                "yref": "y1"
               }
              ],
              "title": "WFP Inventory problem        Cost = 340.0          Total Cost = 4620.0"
             }
            ],
            "label": "t = 12 (before lunch)",
            "method": "update"
           },
           {
            "args": [
             {
              "visible": [
               true,
               true,
               false,
               false,
               false,
               false,
               false,
               false,
               false,
               false,
               true,
               true,
               true,
               false,
               false,
               false,
               true,
               true,
               true
              ]
             },
             {
              "annotations": [
               {
                "font": {
                 "color": "black",
                 "size": 15
                },
                "showarrow": false,
                "text": "I = 2.0",
                "x": 0,
                "xref": "x1",
                "y": 10,
                "yref": "y1"
               },
               {
                "font": {
                 "color": "black",
                 "size": 15
                },
                "showarrow": false,
                "text": "I = 3.0",
                "x": 3,
                "xref": "x1",
                "y": 10,
                "yref": "y1"
               },
               {
                "font": {
                 "color": "black",
                 "size": 15
                },
                "showarrow": false,
                "text": "I = 2.0",
                "x": 10,
                "xref": "x1",
                "y": 3,
                "yref": "y1"
               },
               {
                "font": {
                 "color": "black",
                 "size": 15
                },
                "showarrow": false,
                "text": "I = 4.0",
                "x": 10,
                "xref": "x1",
                "y": 0,
                "yref": "y1"
               },
               {
                "font": {
                 "color": "yellow",
                 "size": 15
                },
                "showarrow": false,
                "text": "I = 5.5",
                "x": 0,
                "xref": "x1",
                "y": 0,
                "yref": "y1"
               },
               {
                "font": {
                 "color": "red",
                 "size": 15
                },
                "showarrow": false,
                "text": "2.0  ",
                "x": 0.5,
                "xref": "x1",
                "y": 5.5,
                "yref": "y1"
               },
               {
                "font": {
                 "color": "red",
                 "size": 15
                },
                "showarrow": false,
                "text": "3.0  ",
                "x": 2,
                "xref": "x1",
                "y": 10.5,
                "yref": "y1"
               },
               {
                "font": {
                 "color": "red",
                 "size": 15
                },
                "showarrow": false,
                "text": "2.0  ",
                "x": 5.5,
                "xref": "x1",
                "y": 2,
                "yref": "y1"
               },
               {
                "font": {
                 "color": "red",
                 "size": 15
                },
                "showarrow": false,
                "text": "3.0  ",
                "x": 10.5,
                "xref": "x1",
                "y": 2,
                "yref": "y1"
               }
              ],
              "title": "WFP Inventory problem        Cost = 420.0          Total Cost = 5040.0"
             }
            ],
            "label": "t = 13 (before lunch)",
            "method": "update"
           },
           {
            "args": [
             {
              "visible": [
               true,
               true,
               false,
               false,
               false,
               false,
               false,
               false,
               false,
               false,
               false,
               false,
               false,
               true,
               true,
               true,
               false,
               false,
               false
              ]
             },
             {
              "annotations": [
               {
                "font": {
                 "color": "black",
                 "size": 15
                },
                "showarrow": false,
                "text": "I = 1.0",
                "x": 0,
                "xref": "x1",
                "y": 10,
                "yref": "y1"
               },
               {
                "font": {
                 "color": "black",
                 "size": 15
                },
                "showarrow": false,
                "text": "I = 3.0",
                "x": 3,
                "xref": "x1",
                "y": 10,
                "yref": "y1"
               },
               {
                "font": {
                 "color": "black",
                 "size": 15
                },
                "showarrow": false,
                "text": "I = 2.0",
                "x": 10,
                "xref": "x1",
                "y": 3,
                "yref": "y1"
               },
               {
                "font": {
                 "color": "black",
                 "size": 15
                },
                "showarrow": false,
                "text": "I = 2.5",
                "x": 10,
                "xref": "x1",
                "y": 0,
                "yref": "y1"
               },
               {
                "font": {
                 "color": "yellow",
                 "size": 15
                },
                "showarrow": false,
                "text": "I = 0.5",
                "x": 0,
                "xref": "x1",
                "y": 0,
                "yref": "y1"
               },
               {
                "font": {
                 "color": "red",
                 "size": 15
                },
                "showarrow": false,
                "text": "3.0  ",
                "x": 2,
                "xref": "x1",
                "y": 5.5,
                "yref": "y1"
               },
               {
                "font": {
                 "color": "red",
                 "size": 15
                },
                "showarrow": false,
                "text": "2.0  ",
                "x": 7,
                "xref": "x1",
                "y": 7,
                "yref": "y1"
               }
              ],
              "title": "WFP Inventory problem        Cost = 340.0          Total Cost = 5380.0"
             }
            ],
            "label": "t = 14 (before lunch)",
            "method": "update"
           },
           {
            "args": [
             {
              "visible": [
               true,
               true,
               false,
               false,
               false,
               false,
               false,
               false,
               false,
               false,
               true,
               true,
               true,
               false,
               false,
               false,
               true,
               true,
               true
              ]
             },
             {
              "annotations": [
               {
                "font": {
                 "color": "black",
                 "size": 15
                },
                "showarrow": false,
                "text": "I = 1.0",
                "x": 0,
                "xref": "x1",
                "y": 10,
                "yref": "y1"
               },
               {
                "font": {
                 "color": "black",
                 "size": 15
                },
                "showarrow": false,
                "text": "I = 3.0",
                "x": 3,
                "xref": "x1",
                "y": 10,
                "yref": "y1"
               },
               {
                "font": {
                 "color": "black",
                 "size": 15
                },
                "showarrow": false,
                "text": "I = 2.0",
                "x": 10,
                "xref": "x1",
                "y": 3,
                "yref": "y1"
               },
               {
                "font": {
                 "color": "black",
                 "size": 15
                },
                "showarrow": false,
                "text": "I = 2.5",
                "x": 10,
                "xref": "x1",
                "y": 0,
                "yref": "y1"
               },
               {
                "font": {
                 "color": "yellow",
                 "size": 15
                },
                "showarrow": false,
                "text": "I = -7.0",
                "x": 0,
                "xref": "x1",
                "y": 0,
                "yref": "y1"
               },
               {
                "font": {
                 "color": "red",
                 "size": 15
                },
                "showarrow": false,
                "text": "1.0  ",
                "x": 0.5,
                "xref": "x1",
                "y": 5.5,
                "yref": "y1"
               },
               {
                "font": {
                 "color": "red",
                 "size": 15
                },
                "showarrow": false,
                "text": "3.0  ",
                "x": 2,
                "xref": "x1",
                "y": 10.5,
                "yref": "y1"
               },
               {
                "font": {
                 "color": "red",
                 "size": 15
                },
                "showarrow": false,
                "text": "2.0  ",
                "x": 5.5,
                "xref": "x1",
                "y": 2,
                "yref": "y1"
               },
               {
                "font": {
                 "color": "red",
                 "size": 15
                },
                "showarrow": false,
                "text": "1.5  ",
                "x": 10.5,
                "xref": "x1",
                "y": 2,
                "yref": "y1"
               }
              ],
              "title": "WFP Inventory problem        Cost = 420.0          Total Cost = 5800.0"
             }
            ],
            "label": "t = 15 (before lunch)",
            "method": "update"
           },
           {
            "args": [
             {
              "visible": [
               true,
               true,
               false,
               false,
               false,
               false,
               false,
               false,
               false,
               false,
               true,
               true,
               true,
               false,
               false,
               false,
               true,
               true,
               true
              ]
             },
             {
              "annotations": [
               {
                "font": {
                 "color": "black",
                 "size": 15
                },
                "showarrow": false,
                "text": "I = 2.0",
                "x": 0,
                "xref": "x1",
                "y": 10,
                "yref": "y1"
               },
               {
                "font": {
                 "color": "black",
                 "size": 15
                },
                "showarrow": false,
                "text": "I = 3.0",
                "x": 3,
                "xref": "x1",
                "y": 10,
                "yref": "y1"
               },
               {
                "font": {
                 "color": "black",
                 "size": 15
                },
                "showarrow": false,
                "text": "I = 2.0",
                "x": 10,
                "xref": "x1",
                "y": 3,
                "yref": "y1"
               },
               {
                "font": {
                 "color": "black",
                 "size": 15
                },
                "showarrow": false,
                "text": "I = 4.0",
                "x": 10,
                "xref": "x1",
                "y": 0,
                "yref": "y1"
               },
               {
                "font": {
                 "color": "yellow",
                 "size": 15
                },
                "showarrow": false,
                "text": "I = -17.0",
                "x": 0,
                "xref": "x1",
                "y": 0,
                "yref": "y1"
               },
               {
                "font": {
                 "color": "red",
                 "size": 15
                },
                "showarrow": false,
                "text": "2.0  ",
                "x": 0.5,
                "xref": "x1",
                "y": 5.5,
                "yref": "y1"
               },
               {
                "font": {
                 "color": "red",
                 "size": 15
                },
                "showarrow": false,
                "text": "3.0  ",
                "x": 2,
                "xref": "x1",
                "y": 10.5,
                "yref": "y1"
               },
               {
                "font": {
                 "color": "red",
                 "size": 15
                },
                "showarrow": false,
                "text": "2.0  ",
                "x": 5.5,
                "xref": "x1",
                "y": 2,
                "yref": "y1"
               },
               {
                "font": {
                 "color": "red",
                 "size": 15
                },
                "showarrow": false,
                "text": "3.0  ",
                "x": 10.5,
                "xref": "x1",
                "y": 2,
                "yref": "y1"
               }
              ],
              "title": "WFP Inventory problem        Cost = 420.0          Total Cost = 6220.0"
             }
            ],
            "label": "t = 16 (before lunch)",
            "method": "update"
           },
           {
            "args": [
             {
              "visible": [
               true,
               true,
               false,
               false,
               false,
               false,
               false,
               false,
               false,
               false,
               false,
               false,
               false,
               true,
               true,
               true,
               false,
               false,
               false
              ]
             },
             {
              "annotations": [
               {
                "font": {
                 "color": "black",
                 "size": 15
                },
                "showarrow": false,
                "text": "I = 1.0",
                "x": 0,
                "xref": "x1",
                "y": 10,
                "yref": "y1"
               },
               {
                "font": {
                 "color": "black",
                 "size": 15
                },
                "showarrow": false,
                "text": "I = 3.0",
                "x": 3,
                "xref": "x1",
                "y": 10,
                "yref": "y1"
               },
               {
                "font": {
                 "color": "black",
                 "size": 15
                },
                "showarrow": false,
                "text": "I = 2.0",
                "x": 10,
                "xref": "x1",
                "y": 3,
                "yref": "y1"
               },
               {
                "font": {
                 "color": "black",
                 "size": 15
                },
                "showarrow": false,
                "text": "I = 2.5",
                "x": 10,
                "xref": "x1",
                "y": 0,
                "yref": "y1"
               },
               {
                "font": {
                 "color": "yellow",
                 "size": 15
                },
                "showarrow": false,
                "text": "I = -22.0",
                "x": 0,
                "xref": "x1",
                "y": 0,
                "yref": "y1"
               },
               {
                "font": {
                 "color": "red",
                 "size": 15
                },
                "showarrow": false,
                "text": "3.0  ",
                "x": 2,
                "xref": "x1",
                "y": 5.5,
                "yref": "y1"
               },
               {
                "font": {
                 "color": "red",
                 "size": 15
                },
                "showarrow": false,
                "text": "2.0  ",
                "x": 7,
                "xref": "x1",
                "y": 7,
                "yref": "y1"
               }
              ],
              "title": "WFP Inventory problem        Cost = 340.0          Total Cost = 6560.0"
             }
            ],
            "label": "t = 17 (before lunch)",
            "method": "update"
           },
           {
            "args": [
             {
              "visible": [
               true,
               true,
               false,
               false,
               false,
               false,
               false,
               false,
               false,
               false,
               true,
               true,
               true,
               false,
               false,
               false,
               true,
               true,
               true
              ]
             },
             {
              "annotations": [
               {
                "font": {
                 "color": "black",
                 "size": 15
                },
                "showarrow": false,
                "text": "I = 2.0",
                "x": 0,
                "xref": "x1",
                "y": 10,
                "yref": "y1"
               },
               {
                "font": {
                 "color": "black",
                 "size": 15
                },
                "showarrow": false,
                "text": "I = 3.0",
                "x": 3,
                "xref": "x1",
                "y": 10,
                "yref": "y1"
               },
               {
                "font": {
                 "color": "black",
                 "size": 15
                },
                "showarrow": false,
                "text": "I = 2.0",
                "x": 10,
                "xref": "x1",
                "y": 3,
                "yref": "y1"
               },
               {
                "font": {
                 "color": "black",
                 "size": 15
                },
                "showarrow": false,
                "text": "I = 4.0",
                "x": 10,
                "xref": "x1",
                "y": 0,
                "yref": "y1"
               },
               {
                "font": {
                 "color": "yellow",
                 "size": 15
                },
                "showarrow": false,
                "text": "I = -32.0",
                "x": 0,
                "xref": "x1",
                "y": 0,
                "yref": "y1"
               },
               {
                "font": {
                 "color": "red",
                 "size": 15
                },
                "showarrow": false,
                "text": "2.0  ",
                "x": 0.5,
                "xref": "x1",
                "y": 5.5,
                "yref": "y1"
               },
               {
                "font": {
                 "color": "red",
                 "size": 15
                },
                "showarrow": false,
                "text": "3.0  ",
                "x": 2,
                "xref": "x1",
                "y": 10.5,
                "yref": "y1"
               },
               {
                "font": {
                 "color": "red",
                 "size": 15
                },
                "showarrow": false,
                "text": "2.0  ",
                "x": 5.5,
                "xref": "x1",
                "y": 2,
                "yref": "y1"
               },
               {
                "font": {
                 "color": "red",
                 "size": 15
                },
                "showarrow": false,
                "text": "3.0  ",
                "x": 10.5,
                "xref": "x1",
                "y": 2,
                "yref": "y1"
               }
              ],
              "title": "WFP Inventory problem        Cost = 420.0          Total Cost = 6980.0"
             }
            ],
            "label": "t = 18 (before lunch)",
            "method": "update"
           },
           {
            "args": [
             {
              "visible": [
               true,
               true,
               false,
               false,
               false,
               false,
               false,
               false,
               false,
               false,
               false,
               false,
               false,
               true,
               true,
               true,
               false,
               false,
               false
              ]
             },
             {
              "annotations": [
               {
                "font": {
                 "color": "black",
                 "size": 15
                },
                "showarrow": false,
                "text": "I = 1.0",
                "x": 0,
                "xref": "x1",
                "y": 10,
                "yref": "y1"
               },
               {
                "font": {
                 "color": "black",
                 "size": 15
                },
                "showarrow": false,
                "text": "I = 3.0",
                "x": 3,
                "xref": "x1",
                "y": 10,
                "yref": "y1"
               },
               {
                "font": {
                 "color": "black",
                 "size": 15
                },
                "showarrow": false,
                "text": "I = 2.0",
                "x": 10,
                "xref": "x1",
                "y": 3,
                "yref": "y1"
               },
               {
                "font": {
                 "color": "black",
                 "size": 15
                },
                "showarrow": false,
                "text": "I = 2.5",
                "x": 10,
                "xref": "x1",
                "y": 0,
                "yref": "y1"
               },
               {
                "font": {
                 "color": "yellow",
                 "size": 15
                },
                "showarrow": false,
                "text": "I = -37.0",
                "x": 0,
                "xref": "x1",
                "y": 0,
                "yref": "y1"
               },
               {
                "font": {
                 "color": "red",
                 "size": 15
                },
                "showarrow": false,
                "text": "3.0  ",
                "x": 2,
                "xref": "x1",
                "y": 5.5,
                "yref": "y1"
               },
               {
                "font": {
                 "color": "red",
                 "size": 15
                },
                "showarrow": false,
                "text": "2.0  ",
                "x": 7,
                "xref": "x1",
                "y": 7,
                "yref": "y1"
               }
              ],
              "title": "WFP Inventory problem        Cost = 340.0          Total Cost = 7320.0"
             }
            ],
            "label": "t = 19 (before lunch)",
            "method": "update"
           },
           {
            "args": [
             {
              "visible": [
               true,
               true,
               false,
               false,
               false,
               false,
               false,
               false,
               false,
               false,
               true,
               true,
               true,
               false,
               false,
               false,
               true,
               true,
               true
              ]
             },
             {
              "annotations": [
               {
                "font": {
                 "color": "black",
                 "size": 15
                },
                "showarrow": false,
                "text": "I = 1.0",
                "x": 0,
                "xref": "x1",
                "y": 10,
                "yref": "y1"
               },
               {
                "font": {
                 "color": "black",
                 "size": 15
                },
                "showarrow": false,
                "text": "I = 3.0",
                "x": 3,
                "xref": "x1",
                "y": 10,
                "yref": "y1"
               },
               {
                "font": {
                 "color": "black",
                 "size": 15
                },
                "showarrow": false,
                "text": "I = 2.0",
                "x": 10,
                "xref": "x1",
                "y": 3,
                "yref": "y1"
               },
               {
                "font": {
                 "color": "black",
                 "size": 15
                },
                "showarrow": false,
                "text": "I = 2.5",
                "x": 10,
                "xref": "x1",
                "y": 0,
                "yref": "y1"
               },
               {
                "font": {
                 "color": "yellow",
                 "size": 15
                },
                "showarrow": false,
                "text": "I = -44.5",
                "x": 0,
                "xref": "x1",
                "y": 0,
                "yref": "y1"
               },
               {
                "font": {
                 "color": "red",
                 "size": 15
                },
                "showarrow": false,
                "text": "1.0  ",
                "x": 0.5,
                "xref": "x1",
                "y": 5.5,
                "yref": "y1"
               },
               {
                "font": {
                 "color": "red",
                 "size": 15
                },
                "showarrow": false,
                "text": "3.0  ",
                "x": 2,
                "xref": "x1",
                "y": 10.5,
                "yref": "y1"
               },
               {
                "font": {
                 "color": "red",
                 "size": 15
                },
                "showarrow": false,
                "text": "2.0  ",
                "x": 5.5,
                "xref": "x1",
                "y": 2,
                "yref": "y1"
               },
               {
                "font": {
                 "color": "red",
                 "size": 15
                },
                "showarrow": false,
                "text": "1.5  ",
                "x": 10.5,
                "xref": "x1",
                "y": 2,
                "yref": "y1"
               }
              ],
              "title": "WFP Inventory problem        Cost = 420.0          Total Cost = 7740.0"
             }
            ],
            "label": "t = 20 (before lunch)",
            "method": "update"
           },
           {
            "args": [
             {
              "visible": [
               true,
               true,
               false,
               false,
               false,
               false,
               false,
               false,
               false,
               false,
               true,
               true,
               true,
               false,
               false,
               false,
               true,
               true,
               true
              ]
             },
             {
              "annotations": [
               {
                "font": {
                 "color": "black",
                 "size": 15
                },
                "showarrow": false,
                "text": "I = 2.0",
                "x": 0,
                "xref": "x1",
                "y": 10,
                "yref": "y1"
               },
               {
                "font": {
                 "color": "black",
                 "size": 15
                },
                "showarrow": false,
                "text": "I = 3.0",
                "x": 3,
                "xref": "x1",
                "y": 10,
                "yref": "y1"
               },
               {
                "font": {
                 "color": "black",
                 "size": 15
                },
                "showarrow": false,
                "text": "I = 2.0",
                "x": 10,
                "xref": "x1",
                "y": 3,
                "yref": "y1"
               },
               {
                "font": {
                 "color": "black",
                 "size": 15
                },
                "showarrow": false,
                "text": "I = 4.0",
                "x": 10,
                "xref": "x1",
                "y": 0,
                "yref": "y1"
               },
               {
                "font": {
                 "color": "yellow",
                 "size": 15
                },
                "showarrow": false,
                "text": "I = -54.5",
                "x": 0,
                "xref": "x1",
                "y": 0,
                "yref": "y1"
               },
               {
                "font": {
                 "color": "red",
                 "size": 15
                },
                "showarrow": false,
                "text": "2.0  ",
                "x": 0.5,
                "xref": "x1",
                "y": 5.5,
                "yref": "y1"
               },
               {
                "font": {
                 "color": "red",
                 "size": 15
                },
                "showarrow": false,
                "text": "3.0  ",
                "x": 2,
                "xref": "x1",
                "y": 10.5,
                "yref": "y1"
               },
               {
                "font": {
                 "color": "red",
                 "size": 15
                },
                "showarrow": false,
                "text": "2.0  ",
                "x": 5.5,
                "xref": "x1",
                "y": 2,
                "yref": "y1"
               },
               {
                "font": {
                 "color": "red",
                 "size": 15
                },
                "showarrow": false,
                "text": "3.0  ",
                "x": 10.5,
                "xref": "x1",
                "y": 2,
                "yref": "y1"
               }
              ],
              "title": "WFP Inventory problem        Cost = 420.0          Total Cost = 8160.0"
             }
            ],
            "label": "t = 21 (before lunch)",
            "method": "update"
           },
           {
            "args": [
             {
              "visible": [
               true,
               true,
               false,
               false,
               false,
               false,
               false,
               false,
               false,
               false,
               false,
               false,
               false,
               true,
               true,
               true,
               false,
               false,
               false
              ]
             },
             {
              "annotations": [
               {
                "font": {
                 "color": "black",
                 "size": 15
                },
                "showarrow": false,
                "text": "I = 1.0",
                "x": 0,
                "xref": "x1",
                "y": 10,
                "yref": "y1"
               },
               {
                "font": {
                 "color": "black",
                 "size": 15
                },
                "showarrow": false,
                "text": "I = 3.0",
                "x": 3,
                "xref": "x1",
                "y": 10,
                "yref": "y1"
               },
               {
                "font": {
                 "color": "black",
                 "size": 15
                },
                "showarrow": false,
                "text": "I = 2.0",
                "x": 10,
                "xref": "x1",
                "y": 3,
                "yref": "y1"
               },
               {
                "font": {
                 "color": "black",
                 "size": 15
                },
                "showarrow": false,
                "text": "I = 2.5",
                "x": 10,
                "xref": "x1",
                "y": 0,
                "yref": "y1"
               },
               {
                "font": {
                 "color": "yellow",
                 "size": 15
                },
                "showarrow": false,
                "text": "I = -59.5",
                "x": 0,
                "xref": "x1",
                "y": 0,
                "yref": "y1"
               },
               {
                "font": {
                 "color": "red",
                 "size": 15
                },
                "showarrow": false,
                "text": "3.0  ",
                "x": 2,
                "xref": "x1",
                "y": 5.5,
                "yref": "y1"
               },
               {
                "font": {
                 "color": "red",
                 "size": 15
                },
                "showarrow": false,
                "text": "2.0  ",
                "x": 7,
                "xref": "x1",
                "y": 7,
                "yref": "y1"
               }
              ],
              "title": "WFP Inventory problem        Cost = 340.0          Total Cost = 8500.0"
             }
            ],
            "label": "t = 22 (before lunch)",
            "method": "update"
           },
           {
            "args": [
             {
              "visible": [
               true,
               true,
               false,
               false,
               false,
               false,
               false,
               false,
               false,
               false,
               true,
               true,
               true,
               false,
               false,
               false,
               true,
               true,
               true
              ]
             },
             {
              "annotations": [
               {
                "font": {
                 "color": "black",
                 "size": 15
                },
                "showarrow": false,
                "text": "I = 2.0",
                "x": 0,
                "xref": "x1",
                "y": 10,
                "yref": "y1"
               },
               {
                "font": {
                 "color": "black",
                 "size": 15
                },
                "showarrow": false,
                "text": "I = 3.0",
                "x": 3,
                "xref": "x1",
                "y": 10,
                "yref": "y1"
               },
               {
                "font": {
                 "color": "black",
                 "size": 15
                },
                "showarrow": false,
                "text": "I = 2.0",
                "x": 10,
                "xref": "x1",
                "y": 3,
                "yref": "y1"
               },
               {
                "font": {
                 "color": "black",
                 "size": 15
                },
                "showarrow": false,
                "text": "I = 4.0",
                "x": 10,
                "xref": "x1",
                "y": 0,
                "yref": "y1"
               },
               {
                "font": {
                 "color": "yellow",
                 "size": 15
                },
                "showarrow": false,
                "text": "I = -69.5",
                "x": 0,
                "xref": "x1",
                "y": 0,
                "yref": "y1"
               },
               {
                "font": {
                 "color": "red",
                 "size": 15
                },
                "showarrow": false,
                "text": "2.0  ",
                "x": 0.5,
                "xref": "x1",
                "y": 5.5,
                "yref": "y1"
               },
               {
                "font": {
                 "color": "red",
                 "size": 15
                },
                "showarrow": false,
                "text": "3.0  ",
                "x": 2,
                "xref": "x1",
                "y": 10.5,
                "yref": "y1"
               },
               {
                "font": {
                 "color": "red",
                 "size": 15
                },
                "showarrow": false,
                "text": "2.0  ",
                "x": 5.5,
                "xref": "x1",
                "y": 2,
                "yref": "y1"
               },
               {
                "font": {
                 "color": "red",
                 "size": 15
                },
                "showarrow": false,
                "text": "3.0  ",
                "x": 10.5,
                "xref": "x1",
                "y": 2,
                "yref": "y1"
               }
              ],
              "title": "WFP Inventory problem        Cost = 420.0          Total Cost = 8920.0"
             }
            ],
            "label": "t = 23 (before lunch)",
            "method": "update"
           },
           {
            "args": [
             {
              "visible": [
               true,
               true,
               false,
               false,
               false,
               false,
               false,
               false,
               false,
               false,
               false,
               false,
               false,
               true,
               true,
               true,
               false,
               false,
               false
              ]
             },
             {
              "annotations": [
               {
                "font": {
                 "color": "black",
                 "size": 15
                },
                "showarrow": false,
                "text": "I = 1.0",
                "x": 0,
                "xref": "x1",
                "y": 10,
                "yref": "y1"
               },
               {
                "font": {
                 "color": "black",
                 "size": 15
                },
                "showarrow": false,
                "text": "I = 3.0",
                "x": 3,
                "xref": "x1",
                "y": 10,
                "yref": "y1"
               },
               {
                "font": {
                 "color": "black",
                 "size": 15
                },
                "showarrow": false,
                "text": "I = 2.0",
                "x": 10,
                "xref": "x1",
                "y": 3,
                "yref": "y1"
               },
               {
                "font": {
                 "color": "black",
                 "size": 15
                },
                "showarrow": false,
                "text": "I = 2.5",
                "x": 10,
                "xref": "x1",
                "y": 0,
                "yref": "y1"
               },
               {
                "font": {
                 "color": "yellow",
                 "size": 15
                },
                "showarrow": false,
                "text": "I = -74.5",
                "x": 0,
                "xref": "x1",
                "y": 0,
                "yref": "y1"
               },
               {
                "font": {
                 "color": "red",
                 "size": 15
                },
                "showarrow": false,
                "text": "3.0  ",
                "x": 2,
                "xref": "x1",
                "y": 5.5,
                "yref": "y1"
               },
               {
                "font": {
                 "color": "red",
                 "size": 15
                },
                "showarrow": false,
                "text": "2.0  ",
                "x": 7,
                "xref": "x1",
                "y": 7,
                "yref": "y1"
               }
              ],
              "title": "WFP Inventory problem        Cost = 340.0          Total Cost = 9260.0"
             }
            ],
            "label": "t = 24 (before lunch)",
            "method": "update"
           },
           {
            "args": [
             {
              "visible": [
               true,
               true,
               false,
               false,
               false,
               false,
               false,
               false,
               false,
               false,
               true,
               true,
               true,
               false,
               false,
               false,
               true,
               true,
               true
              ]
             },
             {
              "annotations": [
               {
                "font": {
                 "color": "black",
                 "size": 15
                },
                "showarrow": false,
                "text": "I = 1.0",
                "x": 0,
                "xref": "x1",
                "y": 10,
                "yref": "y1"
               },
               {
                "font": {
                 "color": "black",
                 "size": 15
                },
                "showarrow": false,
                "text": "I = 3.0",
                "x": 3,
                "xref": "x1",
                "y": 10,
                "yref": "y1"
               },
               {
                "font": {
                 "color": "black",
                 "size": 15
                },
                "showarrow": false,
                "text": "I = 2.0",
                "x": 10,
                "xref": "x1",
                "y": 3,
                "yref": "y1"
               },
               {
                "font": {
                 "color": "black",
                 "size": 15
                },
                "showarrow": false,
                "text": "I = 2.5",
                "x": 10,
                "xref": "x1",
                "y": 0,
                "yref": "y1"
               },
               {
                "font": {
                 "color": "yellow",
                 "size": 15
                },
                "showarrow": false,
                "text": "I = -82.0",
                "x": 0,
                "xref": "x1",
                "y": 0,
                "yref": "y1"
               },
               {
                "font": {
                 "color": "red",
                 "size": 15
                },
                "showarrow": false,
                "text": "1.0  ",
                "x": 0.5,
                "xref": "x1",
                "y": 5.5,
                "yref": "y1"
               },
               {
                "font": {
                 "color": "red",
                 "size": 15
                },
                "showarrow": false,
                "text": "3.0  ",
                "x": 2,
                "xref": "x1",
                "y": 10.5,
                "yref": "y1"
               },
               {
                "font": {
                 "color": "red",
                 "size": 15
                },
                "showarrow": false,
                "text": "2.0  ",
                "x": 5.5,
                "xref": "x1",
                "y": 2,
                "yref": "y1"
               },
               {
                "font": {
                 "color": "red",
                 "size": 15
                },
                "showarrow": false,
                "text": "1.5  ",
                "x": 10.5,
                "xref": "x1",
                "y": 2,
                "yref": "y1"
               }
              ],
              "title": "WFP Inventory problem        Cost = 420.0          Total Cost = 9680.0"
             }
            ],
            "label": "t = 25 (before lunch)",
            "method": "update"
           },
           {
            "args": [
             {
              "visible": [
               true,
               true,
               false,
               false,
               false,
               false,
               false,
               false,
               false,
               false,
               true,
               true,
               true,
               false,
               false,
               false,
               true,
               true,
               true
              ]
             },
             {
              "annotations": [
               {
                "font": {
                 "color": "black",
                 "size": 15
                },
                "showarrow": false,
                "text": "I = 2.0",
                "x": 0,
                "xref": "x1",
                "y": 10,
                "yref": "y1"
               },
               {
                "font": {
                 "color": "black",
                 "size": 15
                },
                "showarrow": false,
                "text": "I = 3.0",
                "x": 3,
                "xref": "x1",
                "y": 10,
                "yref": "y1"
               },
               {
                "font": {
                 "color": "black",
                 "size": 15
                },
                "showarrow": false,
                "text": "I = 2.0",
                "x": 10,
                "xref": "x1",
                "y": 3,
                "yref": "y1"
               },
               {
                "font": {
                 "color": "black",
                 "size": 15
                },
                "showarrow": false,
                "text": "I = 4.0",
                "x": 10,
                "xref": "x1",
                "y": 0,
                "yref": "y1"
               },
               {
                "font": {
                 "color": "yellow",
                 "size": 15
                },
                "showarrow": false,
                "text": "I = -92.0",
                "x": 0,
                "xref": "x1",
                "y": 0,
                "yref": "y1"
               },
               {
                "font": {
                 "color": "red",
                 "size": 15
                },
                "showarrow": false,
                "text": "2.0  ",
                "x": 0.5,
                "xref": "x1",
                "y": 5.5,
                "yref": "y1"
               },
               {
                "font": {
                 "color": "red",
                 "size": 15
                },
                "showarrow": false,
                "text": "3.0  ",
                "x": 2,
                "xref": "x1",
                "y": 10.5,
                "yref": "y1"
               },
               {
                "font": {
                 "color": "red",
                 "size": 15
                },
                "showarrow": false,
                "text": "2.0  ",
                "x": 5.5,
                "xref": "x1",
                "y": 2,
                "yref": "y1"
               },
               {
                "font": {
                 "color": "red",
                 "size": 15
                },
                "showarrow": false,
                "text": "3.0  ",
                "x": 10.5,
                "xref": "x1",
                "y": 2,
                "yref": "y1"
               }
              ],
              "title": "WFP Inventory problem        Cost = 420.0          Total Cost = 10100.0"
             }
            ],
            "label": "t = 26 (before lunch)",
            "method": "update"
           },
           {
            "args": [
             {
              "visible": [
               true,
               true,
               false,
               false,
               false,
               false,
               false,
               false,
               false,
               false,
               false,
               false,
               false,
               true,
               true,
               true,
               false,
               false,
               false
              ]
             },
             {
              "annotations": [
               {
                "font": {
                 "color": "black",
                 "size": 15
                },
                "showarrow": false,
                "text": "I = 1.0",
                "x": 0,
                "xref": "x1",
                "y": 10,
                "yref": "y1"
               },
               {
                "font": {
                 "color": "black",
                 "size": 15
                },
                "showarrow": false,
                "text": "I = 3.0",
                "x": 3,
                "xref": "x1",
                "y": 10,
                "yref": "y1"
               },
               {
                "font": {
                 "color": "black",
                 "size": 15
                },
                "showarrow": false,
                "text": "I = 2.0",
                "x": 10,
                "xref": "x1",
                "y": 3,
                "yref": "y1"
               },
               {
                "font": {
                 "color": "black",
                 "size": 15
                },
                "showarrow": false,
                "text": "I = 2.5",
                "x": 10,
                "xref": "x1",
                "y": 0,
                "yref": "y1"
               },
               {
                "font": {
                 "color": "yellow",
                 "size": 15
                },
                "showarrow": false,
                "text": "I = -97.0",
                "x": 0,
                "xref": "x1",
                "y": 0,
                "yref": "y1"
               },
               {
                "font": {
                 "color": "red",
                 "size": 15
                },
                "showarrow": false,
                "text": "3.0  ",
                "x": 2,
                "xref": "x1",
                "y": 5.5,
                "yref": "y1"
               },
               {
                "font": {
                 "color": "red",
                 "size": 15
                },
                "showarrow": false,
                "text": "2.0  ",
                "x": 7,
                "xref": "x1",
                "y": 7,
                "yref": "y1"
               }
              ],
              "title": "WFP Inventory problem        Cost = 340.0          Total Cost = 10440.0"
             }
            ],
            "label": "t = 27 (before lunch)",
            "method": "update"
           },
           {
            "args": [
             {
              "visible": [
               true,
               true,
               false,
               false,
               false,
               false,
               false,
               false,
               false,
               false,
               true,
               true,
               true,
               false,
               false,
               false,
               true,
               true,
               true
              ]
             },
             {
              "annotations": [
               {
                "font": {
                 "color": "black",
                 "size": 15
                },
                "showarrow": false,
                "text": "I = 2.0",
                "x": 0,
                "xref": "x1",
                "y": 10,
                "yref": "y1"
               },
               {
                "font": {
                 "color": "black",
                 "size": 15
                },
                "showarrow": false,
                "text": "I = 3.0",
                "x": 3,
                "xref": "x1",
                "y": 10,
                "yref": "y1"
               },
               {
                "font": {
                 "color": "black",
                 "size": 15
                },
                "showarrow": false,
                "text": "I = 2.0",
                "x": 10,
                "xref": "x1",
                "y": 3,
                "yref": "y1"
               },
               {
                "font": {
                 "color": "black",
                 "size": 15
                },
                "showarrow": false,
                "text": "I = 4.0",
                "x": 10,
                "xref": "x1",
                "y": 0,
                "yref": "y1"
               },
               {
                "font": {
                 "color": "yellow",
                 "size": 15
                },
                "showarrow": false,
                "text": "I = -107.0",
                "x": 0,
                "xref": "x1",
                "y": 0,
                "yref": "y1"
               },
               {
                "font": {
                 "color": "red",
                 "size": 15
                },
                "showarrow": false,
                "text": "2.0  ",
                "x": 0.5,
                "xref": "x1",
                "y": 5.5,
                "yref": "y1"
               },
               {
                "font": {
                 "color": "red",
                 "size": 15
                },
                "showarrow": false,
                "text": "3.0  ",
                "x": 2,
                "xref": "x1",
                "y": 10.5,
                "yref": "y1"
               },
               {
                "font": {
                 "color": "red",
                 "size": 15
                },
                "showarrow": false,
                "text": "2.0  ",
                "x": 5.5,
                "xref": "x1",
                "y": 2,
                "yref": "y1"
               },
               {
                "font": {
                 "color": "red",
                 "size": 15
                },
                "showarrow": false,
                "text": "3.0  ",
                "x": 10.5,
                "xref": "x1",
                "y": 2,
                "yref": "y1"
               }
              ],
              "title": "WFP Inventory problem        Cost = 420.0          Total Cost = 10860.0"
             }
            ],
            "label": "t = 28 (before lunch)",
            "method": "update"
           },
           {
            "args": [
             {
              "visible": [
               true,
               true,
               false,
               false,
               false,
               false,
               false,
               false,
               false,
               false,
               false,
               false,
               false,
               true,
               true,
               true,
               false,
               false,
               false
              ]
             },
             {
              "annotations": [
               {
                "font": {
                 "color": "black",
                 "size": 15
                },
                "showarrow": false,
                "text": "I = 1.0",
                "x": 0,
                "xref": "x1",
                "y": 10,
                "yref": "y1"
               },
               {
                "font": {
                 "color": "black",
                 "size": 15
                },
                "showarrow": false,
                "text": "I = 3.0",
                "x": 3,
                "xref": "x1",
                "y": 10,
                "yref": "y1"
               },
               {
                "font": {
                 "color": "black",
                 "size": 15
                },
                "showarrow": false,
                "text": "I = 2.0",
                "x": 10,
                "xref": "x1",
                "y": 3,
                "yref": "y1"
               },
               {
                "font": {
                 "color": "black",
                 "size": 15
                },
                "showarrow": false,
                "text": "I = 2.5",
                "x": 10,
                "xref": "x1",
                "y": 0,
                "yref": "y1"
               },
               {
                "font": {
                 "color": "yellow",
                 "size": 15
                },
                "showarrow": false,
                "text": "I = -112.0",
                "x": 0,
                "xref": "x1",
                "y": 0,
                "yref": "y1"
               },
               {
                "font": {
                 "color": "red",
                 "size": 15
                },
                "showarrow": false,
                "text": "3.0  ",
                "x": 2,
                "xref": "x1",
                "y": 5.5,
                "yref": "y1"
               },
               {
                "font": {
                 "color": "red",
                 "size": 15
                },
                "showarrow": false,
                "text": "2.0  ",
                "x": 7,
                "xref": "x1",
                "y": 7,
                "yref": "y1"
               }
              ],
              "title": "WFP Inventory problem        Cost = 340.0          Total Cost = 11200.0"
             }
            ],
            "label": "t = 29 (before lunch)",
            "method": "update"
           }
          ],
          "direction": "up",
          "x": 0,
          "y": 0
         },
         {
          "buttons": [
           {
            "args": [
             {
              "visible": [
               true,
               true,
               false,
               false,
               false,
               false,
               false,
               false,
               false,
               false,
               false,
               false,
               false,
               false,
               false,
               false,
               false,
               false,
               false
              ]
             },
             {
              "annotations": [
               {
                "font": {
                 "color": "black",
                 "size": 15
                },
                "showarrow": false,
                "text": "I = 4.0",
                "x": 0,
                "xref": "x1",
                "y": 10,
                "yref": "y1"
               },
               {
                "font": {
                 "color": "black",
                 "size": 15
                },
                "showarrow": false,
                "text": "I = 0.0",
                "x": 3,
                "xref": "x1",
                "y": 10,
                "yref": "y1"
               },
               {
                "font": {
                 "color": "black",
                 "size": 15
                },
                "showarrow": false,
                "text": "I = 0.0",
                "x": 10,
                "xref": "x1",
                "y": 3,
                "yref": "y1"
               },
               {
                "font": {
                 "color": "black",
                 "size": 15
                },
                "showarrow": false,
                "text": "I = 2.5",
                "x": 10,
                "xref": "x1",
                "y": 0,
                "yref": "y1"
               },
               {
                "font": {
                 "color": "yellow",
                 "size": 15
                },
                "showarrow": false,
                "text": "I = 100",
                "x": 0,
                "xref": "x1",
                "y": 0,
                "yref": "y1"
               }
              ],
              "title": "WFP Inventory problem        Cost = 0          Total Cost = 0"
             }
            ],
            "label": "t = 0  (evening)",
            "method": "update"
           },
           {
            "args": [
             {
              "visible": [
               true,
               true,
               false,
               false,
               false,
               false,
               false,
               false,
               false,
               false,
               false,
               false,
               false,
               false,
               false,
               false,
               false,
               false,
               false
              ]
             },
             {
              "annotations": [
               {
                "font": {
                 "color": "black",
                 "size": 15
                },
                "showarrow": false,
                "text": "I = 3.0",
                "x": 0,
                "xref": "x1",
                "y": 10,
                "yref": "y1"
               },
               {
                "font": {
                 "color": "black",
                 "size": 15
                },
                "showarrow": false,
                "text": "I = 0.0",
                "x": 3,
                "xref": "x1",
                "y": 10,
                "yref": "y1"
               },
               {
                "font": {
                 "color": "black",
                 "size": 15
                },
                "showarrow": false,
                "text": "I = 0.0",
                "x": 10,
                "xref": "x1",
                "y": 3,
                "yref": "y1"
               },
               {
                "font": {
                 "color": "black",
                 "size": 15
                },
                "showarrow": false,
                "text": "I = 1.0",
                "x": 10,
                "xref": "x1",
                "y": 0,
                "yref": "y1"
               },
               {
                "font": {
                 "color": "yellow",
                 "size": 15
                },
                "showarrow": false,
                "text": "I = 95.0",
                "x": 0,
                "xref": "x1",
                "y": 0,
                "yref": "y1"
               }
              ],
              "title": "WFP Inventory problem        Cost = 340.0          Total Cost = 340.0"
             }
            ],
            "label": "t = 1  (evening)",
            "method": "update"
           },
           {
            "args": [
             {
              "visible": [
               true,
               true,
               false,
               false,
               false,
               false,
               false,
               false,
               false,
               false,
               false,
               false,
               false,
               false,
               false,
               false,
               false,
               false,
               false
              ]
             },
             {
              "annotations": [
               {
                "font": {
                 "color": "black",
                 "size": 15
                },
                "showarrow": false,
                "text": "I = 2.0",
                "x": 0,
                "xref": "x1",
                "y": 10,
                "yref": "y1"
               },
               {
                "font": {
                 "color": "black",
                 "size": 15
                },
                "showarrow": false,
                "text": "I = 0.0",
                "x": 3,
                "xref": "x1",
                "y": 10,
                "yref": "y1"
               },
               {
                "font": {
                 "color": "black",
                 "size": 15
                },
                "showarrow": false,
                "text": "I = 0.0",
                "x": 10,
                "xref": "x1",
                "y": 3,
                "yref": "y1"
               },
               {
                "font": {
                 "color": "black",
                 "size": 15
                },
                "showarrow": false,
                "text": "I = 1.5",
                "x": 10,
                "xref": "x1",
                "y": 0,
                "yref": "y1"
               },
               {
                "font": {
                 "color": "yellow",
                 "size": 15
                },
                "showarrow": false,
                "text": "I = 88.0",
                "x": 0,
                "xref": "x1",
                "y": 0,
                "yref": "y1"
               }
              ],
              "title": "WFP Inventory problem        Cost = 410.0          Total Cost = 750.0"
             }
            ],
            "label": "t = 2  (evening)",
            "method": "update"
           },
           {
            "args": [
             {
              "visible": [
               true,
               true,
               false,
               false,
               false,
               false,
               false,
               false,
               false,
               false,
               false,
               false,
               false,
               false,
               false,
               false,
               false,
               false,
               false
              ]
             },
             {
              "annotations": [
               {
                "font": {
                 "color": "black",
                 "size": 15
                },
                "showarrow": false,
                "text": "I = 1.0",
                "x": 0,
                "xref": "x1",
                "y": 10,
                "yref": "y1"
               },
               {
                "font": {
                 "color": "black",
                 "size": 15
                },
                "showarrow": false,
                "text": "I = 0.0",
                "x": 3,
                "xref": "x1",
                "y": 10,
                "yref": "y1"
               },
               {
                "font": {
                 "color": "black",
                 "size": 15
                },
                "showarrow": false,
                "text": "I = 0.0",
                "x": 10,
                "xref": "x1",
                "y": 3,
                "yref": "y1"
               },
               {
                "font": {
                 "color": "black",
                 "size": 15
                },
                "showarrow": false,
                "text": "I = 0.0",
                "x": 10,
                "xref": "x1",
                "y": 0,
                "yref": "y1"
               },
               {
                "font": {
                 "color": "yellow",
                 "size": 15
                },
                "showarrow": false,
                "text": "I = 83.0",
                "x": 0,
                "xref": "x1",
                "y": 0,
                "yref": "y1"
               }
              ],
              "title": "WFP Inventory problem        Cost = 340.0          Total Cost = 1090.0"
             }
            ],
            "label": "t = 3  (evening)",
            "method": "update"
           },
           {
            "args": [
             {
              "visible": [
               true,
               true,
               false,
               false,
               false,
               false,
               false,
               false,
               false,
               false,
               false,
               false,
               false,
               false,
               false,
               false,
               false,
               false,
               false
              ]
             },
             {
              "annotations": [
               {
                "font": {
                 "color": "black",
                 "size": 15
                },
                "showarrow": false,
                "text": "I = 0.0",
                "x": 0,
                "xref": "x1",
                "y": 10,
                "yref": "y1"
               },
               {
                "font": {
                 "color": "black",
                 "size": 15
                },
                "showarrow": false,
                "text": "I = 0.0",
                "x": 3,
                "xref": "x1",
                "y": 10,
                "yref": "y1"
               },
               {
                "font": {
                 "color": "black",
                 "size": 15
                },
                "showarrow": false,
                "text": "I = 0.0",
                "x": 10,
                "xref": "x1",
                "y": 3,
                "yref": "y1"
               },
               {
                "font": {
                 "color": "black",
                 "size": 15
                },
                "showarrow": false,
                "text": "I = 0.0",
                "x": 10,
                "xref": "x1",
                "y": 0,
                "yref": "y1"
               },
               {
                "font": {
                 "color": "yellow",
                 "size": 15
                },
                "showarrow": false,
                "text": "I = 76.5",
                "x": 0,
                "xref": "x1",
                "y": 0,
                "yref": "y1"
               }
              ],
              "title": "WFP Inventory problem        Cost = 410.0          Total Cost = 1500.0"
             }
            ],
            "label": "t = 4  (evening)",
            "method": "update"
           },
           {
            "args": [
             {
              "visible": [
               true,
               true,
               false,
               false,
               false,
               false,
               false,
               false,
               false,
               false,
               false,
               false,
               false,
               false,
               false,
               false,
               false,
               false,
               false
              ]
             },
             {
              "annotations": [
               {
                "font": {
                 "color": "black",
                 "size": 15
                },
                "showarrow": false,
                "text": "I = 0.0",
                "x": 0,
                "xref": "x1",
                "y": 10,
                "yref": "y1"
               },
               {
                "font": {
                 "color": "black",
                 "size": 15
                },
                "showarrow": false,
                "text": "I = 0.0",
                "x": 3,
                "xref": "x1",
                "y": 10,
                "yref": "y1"
               },
               {
                "font": {
                 "color": "black",
                 "size": 15
                },
                "showarrow": false,
                "text": "I = 0.0",
                "x": 10,
                "xref": "x1",
                "y": 3,
                "yref": "y1"
               },
               {
                "font": {
                 "color": "black",
                 "size": 15
                },
                "showarrow": false,
                "text": "I = 1.0",
                "x": 10,
                "xref": "x1",
                "y": 0,
                "yref": "y1"
               },
               {
                "font": {
                 "color": "yellow",
                 "size": 15
                },
                "showarrow": false,
                "text": "I = 68.0",
                "x": 0,
                "xref": "x1",
                "y": 0,
                "yref": "y1"
               }
              ],
              "title": "WFP Inventory problem        Cost = 420.0          Total Cost = 1920.0"
             }
            ],
            "label": "t = 5  (evening)",
            "method": "update"
           },
           {
            "args": [
             {
              "visible": [
               true,
               true,
               false,
               false,
               false,
               false,
               false,
               false,
               false,
               false,
               false,
               false,
               false,
               false,
               false,
               false,
               false,
               false,
               false
              ]
             },
             {
              "annotations": [
               {
                "font": {
                 "color": "black",
                 "size": 15
                },
                "showarrow": false,
                "text": "I = 1.0",
                "x": 0,
                "xref": "x1",
                "y": 10,
                "yref": "y1"
               },
               {
                "font": {
                 "color": "black",
                 "size": 15
                },
                "showarrow": false,
                "text": "I = 0.0",
                "x": 3,
                "xref": "x1",
                "y": 10,
                "yref": "y1"
               },
               {
                "font": {
                 "color": "black",
                 "size": 15
                },
                "showarrow": false,
                "text": "I = 0.0",
                "x": 10,
                "xref": "x1",
                "y": 3,
                "yref": "y1"
               },
               {
                "font": {
                 "color": "black",
                 "size": 15
                },
                "showarrow": false,
                "text": "I = 2.5",
                "x": 10,
                "xref": "x1",
                "y": 0,
                "yref": "y1"
               },
               {
                "font": {
                 "color": "yellow",
                 "size": 15
                },
                "showarrow": false,
                "text": "I = 58.0",
                "x": 0,
                "xref": "x1",
                "y": 0,
                "yref": "y1"
               }
              ],
              "title": "WFP Inventory problem        Cost = 420.0          Total Cost = 2340.0"
             }
            ],
            "label": "t = 6  (evening)",
            "method": "update"
           },
           {
            "args": [
             {
              "visible": [
               true,
               true,
               false,
               false,
               false,
               false,
               false,
               false,
               false,
               false,
               false,
               false,
               false,
               false,
               false,
               false,
               false,
               false,
               false
              ]
             },
             {
              "annotations": [
               {
                "font": {
                 "color": "black",
                 "size": 15
                },
                "showarrow": false,
                "text": "I = 0.0",
                "x": 0,
                "xref": "x1",
                "y": 10,
                "yref": "y1"
               },
               {
                "font": {
                 "color": "black",
                 "size": 15
                },
                "showarrow": false,
                "text": "I = 0.0",
                "x": 3,
                "xref": "x1",
                "y": 10,
                "yref": "y1"
               },
               {
                "font": {
                 "color": "black",
                 "size": 15
                },
                "showarrow": false,
                "text": "I = 0.0",
                "x": 10,
                "xref": "x1",
                "y": 3,
                "yref": "y1"
               },
               {
                "font": {
                 "color": "black",
                 "size": 15
                },
                "showarrow": false,
                "text": "I = 1.0",
                "x": 10,
                "xref": "x1",
                "y": 0,
                "yref": "y1"
               },
               {
                "font": {
                 "color": "yellow",
                 "size": 15
                },
                "showarrow": false,
                "text": "I = 53.0",
                "x": 0,
                "xref": "x1",
                "y": 0,
                "yref": "y1"
               }
              ],
              "title": "WFP Inventory problem        Cost = 340.0          Total Cost = 2680.0"
             }
            ],
            "label": "t = 7  (evening)",
            "method": "update"
           },
           {
            "args": [
             {
              "visible": [
               true,
               true,
               false,
               false,
               false,
               false,
               false,
               false,
               false,
               false,
               false,
               false,
               false,
               false,
               false,
               false,
               false,
               false,
               false
              ]
             },
             {
              "annotations": [
               {
                "font": {
                 "color": "black",
                 "size": 15
                },
                "showarrow": false,
                "text": "I = 1.0",
                "x": 0,
                "xref": "x1",
                "y": 10,
                "yref": "y1"
               },
               {
                "font": {
                 "color": "black",
                 "size": 15
                },
                "showarrow": false,
                "text": "I = 0.0",
                "x": 3,
                "xref": "x1",
                "y": 10,
                "yref": "y1"
               },
               {
                "font": {
                 "color": "black",
                 "size": 15
                },
                "showarrow": false,
                "text": "I = 0.0",
                "x": 10,
                "xref": "x1",
                "y": 3,
                "yref": "y1"
               },
               {
                "font": {
                 "color": "black",
                 "size": 15
                },
                "showarrow": false,
                "text": "I = 2.5",
                "x": 10,
                "xref": "x1",
                "y": 0,
                "yref": "y1"
               },
               {
                "font": {
                 "color": "yellow",
                 "size": 15
                },
                "showarrow": false,
                "text": "I = 43.0",
                "x": 0,
                "xref": "x1",
                "y": 0,
                "yref": "y1"
               }
              ],
              "title": "WFP Inventory problem        Cost = 420.0          Total Cost = 3100.0"
             }
            ],
            "label": "t = 8  (evening)",
            "method": "update"
           },
           {
            "args": [
             {
              "visible": [
               true,
               true,
               false,
               false,
               false,
               false,
               false,
               false,
               false,
               false,
               false,
               false,
               false,
               false,
               false,
               false,
               false,
               false,
               false
              ]
             },
             {
              "annotations": [
               {
                "font": {
                 "color": "black",
                 "size": 15
                },
                "showarrow": false,
                "text": "I = 0.0",
                "x": 0,
                "xref": "x1",
                "y": 10,
                "yref": "y1"
               },
               {
                "font": {
                 "color": "black",
                 "size": 15
                },
                "showarrow": false,
                "text": "I = 0.0",
                "x": 3,
                "xref": "x1",
                "y": 10,
                "yref": "y1"
               },
               {
                "font": {
                 "color": "black",
                 "size": 15
                },
                "showarrow": false,
                "text": "I = 0.0",
                "x": 10,
                "xref": "x1",
                "y": 3,
                "yref": "y1"
               },
               {
                "font": {
                 "color": "black",
                 "size": 15
                },
                "showarrow": false,
                "text": "I = 1.0",
                "x": 10,
                "xref": "x1",
                "y": 0,
                "yref": "y1"
               },
               {
                "font": {
                 "color": "yellow",
                 "size": 15
                },
                "showarrow": false,
                "text": "I = 38.0",
                "x": 0,
                "xref": "x1",
                "y": 0,
                "yref": "y1"
               }
              ],
              "title": "WFP Inventory problem        Cost = 340.0          Total Cost = 3440.0"
             }
            ],
            "label": "t = 9  (evening)",
            "method": "update"
           },
           {
            "args": [
             {
              "visible": [
               true,
               true,
               false,
               false,
               false,
               false,
               false,
               false,
               false,
               false,
               false,
               false,
               false,
               false,
               false,
               false,
               false,
               false,
               false
              ]
             },
             {
              "annotations": [
               {
                "font": {
                 "color": "black",
                 "size": 15
                },
                "showarrow": false,
                "text": "I = 0.0",
                "x": 0,
                "xref": "x1",
                "y": 10,
                "yref": "y1"
               },
               {
                "font": {
                 "color": "black",
                 "size": 15
                },
                "showarrow": false,
                "text": "I = 0.0",
                "x": 3,
                "xref": "x1",
                "y": 10,
                "yref": "y1"
               },
               {
                "font": {
                 "color": "black",
                 "size": 15
                },
                "showarrow": false,
                "text": "I = 0.0",
                "x": 10,
                "xref": "x1",
                "y": 3,
                "yref": "y1"
               },
               {
                "font": {
                 "color": "black",
                 "size": 15
                },
                "showarrow": false,
                "text": "I = 1.0",
                "x": 10,
                "xref": "x1",
                "y": 0,
                "yref": "y1"
               },
               {
                "font": {
                 "color": "yellow",
                 "size": 15
                },
                "showarrow": false,
                "text": "I = 30.5",
                "x": 0,
                "xref": "x1",
                "y": 0,
                "yref": "y1"
               }
              ],
              "title": "WFP Inventory problem        Cost = 420.0          Total Cost = 3860.0"
             }
            ],
            "label": "t = 10  (evening)",
            "method": "update"
           },
           {
            "args": [
             {
              "visible": [
               true,
               true,
               false,
               false,
               false,
               false,
               false,
               false,
               false,
               false,
               false,
               false,
               false,
               false,
               false,
               false,
               false,
               false,
               false
              ]
             },
             {
              "annotations": [
               {
                "font": {
                 "color": "black",
                 "size": 15
                },
                "showarrow": false,
                "text": "I = 1.0",
                "x": 0,
                "xref": "x1",
                "y": 10,
                "yref": "y1"
               },
               {
                "font": {
                 "color": "black",
                 "size": 15
                },
                "showarrow": false,
                "text": "I = 0.0",
                "x": 3,
                "xref": "x1",
                "y": 10,
                "yref": "y1"
               },
               {
                "font": {
                 "color": "black",
                 "size": 15
                },
                "showarrow": false,
                "text": "I = 0.0",
                "x": 10,
                "xref": "x1",
                "y": 3,
                "yref": "y1"
               },
               {
                "font": {
                 "color": "black",
                 "size": 15
                },
                "showarrow": false,
                "text": "I = 2.5",
                "x": 10,
                "xref": "x1",
                "y": 0,
                "yref": "y1"
               },
               {
                "font": {
                 "color": "yellow",
                 "size": 15
                },
                "showarrow": false,
                "text": "I = 20.5",
                "x": 0,
                "xref": "x1",
                "y": 0,
                "yref": "y1"
               }
              ],
              "title": "WFP Inventory problem        Cost = 420.0          Total Cost = 4280.0"
             }
            ],
            "label": "t = 11  (evening)",
            "method": "update"
           },
           {
            "args": [
             {
              "visible": [
               true,
               true,
               false,
               false,
               false,
               false,
               false,
               false,
               false,
               false,
               false,
               false,
               false,
               false,
               false,
               false,
               false,
               false,
               false
              ]
             },
             {
              "annotations": [
               {
                "font": {
                 "color": "black",
                 "size": 15
                },
                "showarrow": false,
                "text": "I = 0.0",
                "x": 0,
                "xref": "x1",
                "y": 10,
                "yref": "y1"
               },
               {
                "font": {
                 "color": "black",
                 "size": 15
                },
                "showarrow": false,
                "text": "I = 0.0",
                "x": 3,
                "xref": "x1",
                "y": 10,
                "yref": "y1"
               },
               {
                "font": {
                 "color": "black",
                 "size": 15
                },
                "showarrow": false,
                "text": "I = 0.0",
                "x": 10,
                "xref": "x1",
                "y": 3,
                "yref": "y1"
               },
               {
                "font": {
                 "color": "black",
                 "size": 15
                },
                "showarrow": false,
                "text": "I = 1.0",
                "x": 10,
                "xref": "x1",
                "y": 0,
                "yref": "y1"
               },
               {
                "font": {
                 "color": "yellow",
                 "size": 15
                },
                "showarrow": false,
                "text": "I = 15.5",
                "x": 0,
                "xref": "x1",
                "y": 0,
                "yref": "y1"
               }
              ],
              "title": "WFP Inventory problem        Cost = 340.0          Total Cost = 4620.0"
             }
            ],
            "label": "t = 12  (evening)",
            "method": "update"
           },
           {
            "args": [
             {
              "visible": [
               true,
               true,
               false,
               false,
               false,
               false,
               false,
               false,
               false,
               false,
               false,
               false,
               false,
               false,
               false,
               false,
               false,
               false,
               false
              ]
             },
             {
              "annotations": [
               {
                "font": {
                 "color": "black",
                 "size": 15
                },
                "showarrow": false,
                "text": "I = 1.0",
                "x": 0,
                "xref": "x1",
                "y": 10,
                "yref": "y1"
               },
               {
                "font": {
                 "color": "black",
                 "size": 15
                },
                "showarrow": false,
                "text": "I = 0.0",
                "x": 3,
                "xref": "x1",
                "y": 10,
                "yref": "y1"
               },
               {
                "font": {
                 "color": "black",
                 "size": 15
                },
                "showarrow": false,
                "text": "I = 0.0",
                "x": 10,
                "xref": "x1",
                "y": 3,
                "yref": "y1"
               },
               {
                "font": {
                 "color": "black",
                 "size": 15
                },
                "showarrow": false,
                "text": "I = 2.5",
                "x": 10,
                "xref": "x1",
                "y": 0,
                "yref": "y1"
               },
               {
                "font": {
                 "color": "yellow",
                 "size": 15
                },
                "showarrow": false,
                "text": "I = 5.5",
                "x": 0,
                "xref": "x1",
                "y": 0,
                "yref": "y1"
               }
              ],
              "title": "WFP Inventory problem        Cost = 420.0          Total Cost = 5040.0"
             }
            ],
            "label": "t = 13  (evening)",
            "method": "update"
           },
           {
            "args": [
             {
              "visible": [
               true,
               true,
               false,
               false,
               false,
               false,
               false,
               false,
               false,
               false,
               false,
               false,
               false,
               false,
               false,
               false,
               false,
               false,
               false
              ]
             },
             {
              "annotations": [
               {
                "font": {
                 "color": "black",
                 "size": 15
                },
                "showarrow": false,
                "text": "I = 0.0",
                "x": 0,
                "xref": "x1",
                "y": 10,
                "yref": "y1"
               },
               {
                "font": {
                 "color": "black",
                 "size": 15
                },
                "showarrow": false,
                "text": "I = 0.0",
                "x": 3,
                "xref": "x1",
                "y": 10,
                "yref": "y1"
               },
               {
                "font": {
                 "color": "black",
                 "size": 15
                },
                "showarrow": false,
                "text": "I = 0.0",
                "x": 10,
                "xref": "x1",
                "y": 3,
                "yref": "y1"
               },
               {
                "font": {
                 "color": "black",
                 "size": 15
                },
                "showarrow": false,
                "text": "I = 1.0",
                "x": 10,
                "xref": "x1",
                "y": 0,
                "yref": "y1"
               },
               {
                "font": {
                 "color": "yellow",
                 "size": 15
                },
                "showarrow": false,
                "text": "I = 0.5",
                "x": 0,
                "xref": "x1",
                "y": 0,
                "yref": "y1"
               }
              ],
              "title": "WFP Inventory problem        Cost = 340.0          Total Cost = 5380.0"
             }
            ],
            "label": "t = 14  (evening)",
            "method": "update"
           },
           {
            "args": [
             {
              "visible": [
               true,
               true,
               false,
               false,
               false,
               false,
               false,
               false,
               false,
               false,
               false,
               false,
               false,
               false,
               false,
               false,
               false,
               false,
               false
              ]
             },
             {
              "annotations": [
               {
                "font": {
                 "color": "black",
                 "size": 15
                },
                "showarrow": false,
                "text": "I = 0.0",
                "x": 0,
                "xref": "x1",
                "y": 10,
                "yref": "y1"
               },
               {
                "font": {
                 "color": "black",
                 "size": 15
                },
                "showarrow": false,
                "text": "I = 0.0",
                "x": 3,
                "xref": "x1",
                "y": 10,
                "yref": "y1"
               },
               {
                "font": {
                 "color": "black",
                 "size": 15
                },
                "showarrow": false,
                "text": "I = 0.0",
                "x": 10,
                "xref": "x1",
                "y": 3,
                "yref": "y1"
               },
               {
                "font": {
                 "color": "black",
                 "size": 15
                },
                "showarrow": false,
                "text": "I = 1.0",
                "x": 10,
                "xref": "x1",
                "y": 0,
                "yref": "y1"
               },
               {
                "font": {
                 "color": "yellow",
                 "size": 15
                },
                "showarrow": false,
                "text": "I = -7.0",
                "x": 0,
                "xref": "x1",
                "y": 0,
                "yref": "y1"
               }
              ],
              "title": "WFP Inventory problem        Cost = 420.0          Total Cost = 5800.0"
             }
            ],
            "label": "t = 15  (evening)",
            "method": "update"
           },
           {
            "args": [
             {
              "visible": [
               true,
               true,
               false,
               false,
               false,
               false,
               false,
               false,
               false,
               false,
               false,
               false,
               false,
               false,
               false,
               false,
               false,
               false,
               false
              ]
             },
             {
              "annotations": [
               {
                "font": {
                 "color": "black",
                 "size": 15
                },
                "showarrow": false,
                "text": "I = 1.0",
                "x": 0,
                "xref": "x1",
                "y": 10,
                "yref": "y1"
               },
               {
                "font": {
                 "color": "black",
                 "size": 15
                },
                "showarrow": false,
                "text": "I = 0.0",
                "x": 3,
                "xref": "x1",
                "y": 10,
                "yref": "y1"
               },
               {
                "font": {
                 "color": "black",
                 "size": 15
                },
                "showarrow": false,
                "text": "I = 0.0",
                "x": 10,
                "xref": "x1",
                "y": 3,
                "yref": "y1"
               },
               {
                "font": {
                 "color": "black",
                 "size": 15
                },
                "showarrow": false,
                "text": "I = 2.5",
                "x": 10,
                "xref": "x1",
                "y": 0,
                "yref": "y1"
               },
               {
                "font": {
                 "color": "yellow",
                 "size": 15
                },
                "showarrow": false,
                "text": "I = -17.0",
                "x": 0,
                "xref": "x1",
                "y": 0,
                "yref": "y1"
               }
              ],
              "title": "WFP Inventory problem        Cost = 420.0          Total Cost = 6220.0"
             }
            ],
            "label": "t = 16  (evening)",
            "method": "update"
           },
           {
            "args": [
             {
              "visible": [
               true,
               true,
               false,
               false,
               false,
               false,
               false,
               false,
               false,
               false,
               false,
               false,
               false,
               false,
               false,
               false,
               false,
               false,
               false
              ]
             },
             {
              "annotations": [
               {
                "font": {
                 "color": "black",
                 "size": 15
                },
                "showarrow": false,
                "text": "I = 0.0",
                "x": 0,
                "xref": "x1",
                "y": 10,
                "yref": "y1"
               },
               {
                "font": {
                 "color": "black",
                 "size": 15
                },
                "showarrow": false,
                "text": "I = 0.0",
                "x": 3,
                "xref": "x1",
                "y": 10,
                "yref": "y1"
               },
               {
                "font": {
                 "color": "black",
                 "size": 15
                },
                "showarrow": false,
                "text": "I = 0.0",
                "x": 10,
                "xref": "x1",
                "y": 3,
                "yref": "y1"
               },
               {
                "font": {
                 "color": "black",
                 "size": 15
                },
                "showarrow": false,
                "text": "I = 1.0",
                "x": 10,
                "xref": "x1",
                "y": 0,
                "yref": "y1"
               },
               {
                "font": {
                 "color": "yellow",
                 "size": 15
                },
                "showarrow": false,
                "text": "I = -22.0",
                "x": 0,
                "xref": "x1",
                "y": 0,
                "yref": "y1"
               }
              ],
              "title": "WFP Inventory problem        Cost = 340.0          Total Cost = 6560.0"
             }
            ],
            "label": "t = 17  (evening)",
            "method": "update"
           },
           {
            "args": [
             {
              "visible": [
               true,
               true,
               false,
               false,
               false,
               false,
               false,
               false,
               false,
               false,
               false,
               false,
               false,
               false,
               false,
               false,
               false,
               false,
               false
              ]
             },
             {
              "annotations": [
               {
                "font": {
                 "color": "black",
                 "size": 15
                },
                "showarrow": false,
                "text": "I = 1.0",
                "x": 0,
                "xref": "x1",
                "y": 10,
                "yref": "y1"
               },
               {
                "font": {
                 "color": "black",
                 "size": 15
                },
                "showarrow": false,
                "text": "I = 0.0",
                "x": 3,
                "xref": "x1",
                "y": 10,
                "yref": "y1"
               },
               {
                "font": {
                 "color": "black",
                 "size": 15
                },
                "showarrow": false,
                "text": "I = 0.0",
                "x": 10,
                "xref": "x1",
                "y": 3,
                "yref": "y1"
               },
               {
                "font": {
                 "color": "black",
                 "size": 15
                },
                "showarrow": false,
                "text": "I = 2.5",
                "x": 10,
                "xref": "x1",
                "y": 0,
                "yref": "y1"
               },
               {
                "font": {
                 "color": "yellow",
                 "size": 15
                },
                "showarrow": false,
                "text": "I = -32.0",
                "x": 0,
                "xref": "x1",
                "y": 0,
                "yref": "y1"
               }
              ],
              "title": "WFP Inventory problem        Cost = 420.0          Total Cost = 6980.0"
             }
            ],
            "label": "t = 18  (evening)",
            "method": "update"
           },
           {
            "args": [
             {
              "visible": [
               true,
               true,
               false,
               false,
               false,
               false,
               false,
               false,
               false,
               false,
               false,
               false,
               false,
               false,
               false,
               false,
               false,
               false,
               false
              ]
             },
             {
              "annotations": [
               {
                "font": {
                 "color": "black",
                 "size": 15
                },
                "showarrow": false,
                "text": "I = 0.0",
                "x": 0,
                "xref": "x1",
                "y": 10,
                "yref": "y1"
               },
               {
                "font": {
                 "color": "black",
                 "size": 15
                },
                "showarrow": false,
                "text": "I = 0.0",
                "x": 3,
                "xref": "x1",
                "y": 10,
                "yref": "y1"
               },
               {
                "font": {
                 "color": "black",
                 "size": 15
                },
                "showarrow": false,
                "text": "I = 0.0",
                "x": 10,
                "xref": "x1",
                "y": 3,
                "yref": "y1"
               },
               {
                "font": {
                 "color": "black",
                 "size": 15
                },
                "showarrow": false,
                "text": "I = 1.0",
                "x": 10,
                "xref": "x1",
                "y": 0,
                "yref": "y1"
               },
               {
                "font": {
                 "color": "yellow",
                 "size": 15
                },
                "showarrow": false,
                "text": "I = -37.0",
                "x": 0,
                "xref": "x1",
                "y": 0,
                "yref": "y1"
               }
              ],
              "title": "WFP Inventory problem        Cost = 340.0          Total Cost = 7320.0"
             }
            ],
            "label": "t = 19  (evening)",
            "method": "update"
           },
           {
            "args": [
             {
              "visible": [
               true,
               true,
               false,
               false,
               false,
               false,
               false,
               false,
               false,
               false,
               false,
               false,
               false,
               false,
               false,
               false,
               false,
               false,
               false
              ]
             },
             {
              "annotations": [
               {
                "font": {
                 "color": "black",
                 "size": 15
                },
                "showarrow": false,
                "text": "I = 0.0",
                "x": 0,
                "xref": "x1",
                "y": 10,
                "yref": "y1"
               },
               {
                "font": {
                 "color": "black",
                 "size": 15
                },
                "showarrow": false,
                "text": "I = 0.0",
                "x": 3,
                "xref": "x1",
                "y": 10,
                "yref": "y1"
               },
               {
                "font": {
                 "color": "black",
                 "size": 15
                },
                "showarrow": false,
                "text": "I = 0.0",
                "x": 10,
                "xref": "x1",
                "y": 3,
                "yref": "y1"
               },
               {
                "font": {
                 "color": "black",
                 "size": 15
                },
                "showarrow": false,
                "text": "I = 1.0",
                "x": 10,
                "xref": "x1",
                "y": 0,
                "yref": "y1"
               },
               {
                "font": {
                 "color": "yellow",
                 "size": 15
                },
                "showarrow": false,
                "text": "I = -44.5",
                "x": 0,
                "xref": "x1",
                "y": 0,
                "yref": "y1"
               }
              ],
              "title": "WFP Inventory problem        Cost = 420.0          Total Cost = 7740.0"
             }
            ],
            "label": "t = 20  (evening)",
            "method": "update"
           },
           {
            "args": [
             {
              "visible": [
               true,
               true,
               false,
               false,
               false,
               false,
               false,
               false,
               false,
               false,
               false,
               false,
               false,
               false,
               false,
               false,
               false,
               false,
               false
              ]
             },
             {
              "annotations": [
               {
                "font": {
                 "color": "black",
                 "size": 15
                },
                "showarrow": false,
                "text": "I = 1.0",
                "x": 0,
                "xref": "x1",
                "y": 10,
                "yref": "y1"
               },
               {
                "font": {
                 "color": "black",
                 "size": 15
                },
                "showarrow": false,
                "text": "I = 0.0",
                "x": 3,
                "xref": "x1",
                "y": 10,
                "yref": "y1"
               },
               {
                "font": {
                 "color": "black",
                 "size": 15
                },
                "showarrow": false,
                "text": "I = 0.0",
                "x": 10,
                "xref": "x1",
                "y": 3,
                "yref": "y1"
               },
               {
                "font": {
                 "color": "black",
                 "size": 15
                },
                "showarrow": false,
                "text": "I = 2.5",
                "x": 10,
                "xref": "x1",
                "y": 0,
                "yref": "y1"
               },
               {
                "font": {
                 "color": "yellow",
                 "size": 15
                },
                "showarrow": false,
                "text": "I = -54.5",
                "x": 0,
                "xref": "x1",
                "y": 0,
                "yref": "y1"
               }
              ],
              "title": "WFP Inventory problem        Cost = 420.0          Total Cost = 8160.0"
             }
            ],
            "label": "t = 21  (evening)",
            "method": "update"
           },
           {
            "args": [
             {
              "visible": [
               true,
               true,
               false,
               false,
               false,
               false,
               false,
               false,
               false,
               false,
               false,
               false,
               false,
               false,
               false,
               false,
               false,
               false,
               false
              ]
             },
             {
              "annotations": [
               {
                "font": {
                 "color": "black",
                 "size": 15
                },
                "showarrow": false,
                "text": "I = 0.0",
                "x": 0,
                "xref": "x1",
                "y": 10,
                "yref": "y1"
               },
               {
                "font": {
                 "color": "black",
                 "size": 15
                },
                "showarrow": false,
                "text": "I = 0.0",
                "x": 3,
                "xref": "x1",
                "y": 10,
                "yref": "y1"
               },
               {
                "font": {
                 "color": "black",
                 "size": 15
                },
                "showarrow": false,
                "text": "I = 0.0",
                "x": 10,
                "xref": "x1",
                "y": 3,
                "yref": "y1"
               },
               {
                "font": {
                 "color": "black",
                 "size": 15
                },
                "showarrow": false,
                "text": "I = 1.0",
                "x": 10,
                "xref": "x1",
                "y": 0,
                "yref": "y1"
               },
               {
                "font": {
                 "color": "yellow",
                 "size": 15
                },
                "showarrow": false,
                "text": "I = -59.5",
                "x": 0,
                "xref": "x1",
                "y": 0,
                "yref": "y1"
               }
              ],
              "title": "WFP Inventory problem        Cost = 340.0          Total Cost = 8500.0"
             }
            ],
            "label": "t = 22  (evening)",
            "method": "update"
           },
           {
            "args": [
             {
              "visible": [
               true,
               true,
               false,
               false,
               false,
               false,
               false,
               false,
               false,
               false,
               false,
               false,
               false,
               false,
               false,
               false,
               false,
               false,
               false
              ]
             },
             {
              "annotations": [
               {
                "font": {
                 "color": "black",
                 "size": 15
                },
                "showarrow": false,
                "text": "I = 1.0",
                "x": 0,
                "xref": "x1",
                "y": 10,
                "yref": "y1"
               },
               {
                "font": {
                 "color": "black",
                 "size": 15
                },
                "showarrow": false,
                "text": "I = 0.0",
                "x": 3,
                "xref": "x1",
                "y": 10,
                "yref": "y1"
               },
               {
                "font": {
                 "color": "black",
                 "size": 15
                },
                "showarrow": false,
                "text": "I = 0.0",
                "x": 10,
                "xref": "x1",
                "y": 3,
                "yref": "y1"
               },
               {
                "font": {
                 "color": "black",
                 "size": 15
                },
                "showarrow": false,
                "text": "I = 2.5",
                "x": 10,
                "xref": "x1",
                "y": 0,
                "yref": "y1"
               },
               {
                "font": {
                 "color": "yellow",
                 "size": 15
                },
                "showarrow": false,
                "text": "I = -69.5",
                "x": 0,
                "xref": "x1",
                "y": 0,
                "yref": "y1"
               }
              ],
              "title": "WFP Inventory problem        Cost = 420.0          Total Cost = 8920.0"
             }
            ],
            "label": "t = 23  (evening)",
            "method": "update"
           },
           {
            "args": [
             {
              "visible": [
               true,
               true,
               false,
               false,
               false,
               false,
               false,
               false,
               false,
               false,
               false,
               false,
               false,
               false,
               false,
               false,
               false,
               false,
               false
              ]
             },
             {
              "annotations": [
               {
                "font": {
                 "color": "black",
                 "size": 15
                },
                "showarrow": false,
                "text": "I = 0.0",
                "x": 0,
                "xref": "x1",
                "y": 10,
                "yref": "y1"
               },
               {
                "font": {
                 "color": "black",
                 "size": 15
                },
                "showarrow": false,
                "text": "I = 0.0",
                "x": 3,
                "xref": "x1",
                "y": 10,
                "yref": "y1"
               },
               {
                "font": {
                 "color": "black",
                 "size": 15
                },
                "showarrow": false,
                "text": "I = 0.0",
                "x": 10,
                "xref": "x1",
                "y": 3,
                "yref": "y1"
               },
               {
                "font": {
                 "color": "black",
                 "size": 15
                },
                "showarrow": false,
                "text": "I = 1.0",
                "x": 10,
                "xref": "x1",
                "y": 0,
                "yref": "y1"
               },
               {
                "font": {
                 "color": "yellow",
                 "size": 15
                },
                "showarrow": false,
                "text": "I = -74.5",
                "x": 0,
                "xref": "x1",
                "y": 0,
                "yref": "y1"
               }
              ],
              "title": "WFP Inventory problem        Cost = 340.0          Total Cost = 9260.0"
             }
            ],
            "label": "t = 24  (evening)",
            "method": "update"
           },
           {
            "args": [
             {
              "visible": [
               true,
               true,
               false,
               false,
               false,
               false,
               false,
               false,
               false,
               false,
               false,
               false,
               false,
               false,
               false,
               false,
               false,
               false,
               false
              ]
             },
             {
              "annotations": [
               {
                "font": {
                 "color": "black",
                 "size": 15
                },
                "showarrow": false,
                "text": "I = 0.0",
                "x": 0,
                "xref": "x1",
                "y": 10,
                "yref": "y1"
               },
               {
                "font": {
                 "color": "black",
                 "size": 15
                },
                "showarrow": false,
                "text": "I = 0.0",
                "x": 3,
                "xref": "x1",
                "y": 10,
                "yref": "y1"
               },
               {
                "font": {
                 "color": "black",
                 "size": 15
                },
                "showarrow": false,
                "text": "I = 0.0",
                "x": 10,
                "xref": "x1",
                "y": 3,
                "yref": "y1"
               },
               {
                "font": {
                 "color": "black",
                 "size": 15
                },
                "showarrow": false,
                "text": "I = 1.0",
                "x": 10,
                "xref": "x1",
                "y": 0,
                "yref": "y1"
               },
               {
                "font": {
                 "color": "yellow",
                 "size": 15
                },
                "showarrow": false,
                "text": "I = -82.0",
                "x": 0,
                "xref": "x1",
                "y": 0,
                "yref": "y1"
               }
              ],
              "title": "WFP Inventory problem        Cost = 420.0          Total Cost = 9680.0"
             }
            ],
            "label": "t = 25  (evening)",
            "method": "update"
           },
           {
            "args": [
             {
              "visible": [
               true,
               true,
               false,
               false,
               false,
               false,
               false,
               false,
               false,
               false,
               false,
               false,
               false,
               false,
               false,
               false,
               false,
               false,
               false
              ]
             },
             {
              "annotations": [
               {
                "font": {
                 "color": "black",
                 "size": 15
                },
                "showarrow": false,
                "text": "I = 1.0",
                "x": 0,
                "xref": "x1",
                "y": 10,
                "yref": "y1"
               },
               {
                "font": {
                 "color": "black",
                 "size": 15
                },
                "showarrow": false,
                "text": "I = 0.0",
                "x": 3,
                "xref": "x1",
                "y": 10,
                "yref": "y1"
               },
               {
                "font": {
                 "color": "black",
                 "size": 15
                },
                "showarrow": false,
                "text": "I = 0.0",
                "x": 10,
                "xref": "x1",
                "y": 3,
                "yref": "y1"
               },
               {
                "font": {
                 "color": "black",
                 "size": 15
                },
                "showarrow": false,
                "text": "I = 2.5",
                "x": 10,
                "xref": "x1",
                "y": 0,
                "yref": "y1"
               },
               {
                "font": {
                 "color": "yellow",
                 "size": 15
                },
                "showarrow": false,
                "text": "I = -92.0",
                "x": 0,
                "xref": "x1",
                "y": 0,
                "yref": "y1"
               }
              ],
              "title": "WFP Inventory problem        Cost = 420.0          Total Cost = 10100.0"
             }
            ],
            "label": "t = 26  (evening)",
            "method": "update"
           },
           {
            "args": [
             {
              "visible": [
               true,
               true,
               false,
               false,
               false,
               false,
               false,
               false,
               false,
               false,
               false,
               false,
               false,
               false,
               false,
               false,
               false,
               false,
               false
              ]
             },
             {
              "annotations": [
               {
                "font": {
                 "color": "black",
                 "size": 15
                },
                "showarrow": false,
                "text": "I = 0.0",
                "x": 0,
                "xref": "x1",
                "y": 10,
                "yref": "y1"
               },
               {
                "font": {
                 "color": "black",
                 "size": 15
                },
                "showarrow": false,
                "text": "I = 0.0",
                "x": 3,
                "xref": "x1",
                "y": 10,
                "yref": "y1"
               },
               {
                "font": {
                 "color": "black",
                 "size": 15
                },
                "showarrow": false,
                "text": "I = 0.0",
                "x": 10,
                "xref": "x1",
                "y": 3,
                "yref": "y1"
               },
               {
                "font": {
                 "color": "black",
                 "size": 15
                },
                "showarrow": false,
                "text": "I = 1.0",
                "x": 10,
                "xref": "x1",
                "y": 0,
                "yref": "y1"
               },
               {
                "font": {
                 "color": "yellow",
                 "size": 15
                },
                "showarrow": false,
                "text": "I = -97.0",
                "x": 0,
                "xref": "x1",
                "y": 0,
                "yref": "y1"
               }
              ],
              "title": "WFP Inventory problem        Cost = 340.0          Total Cost = 10440.0"
             }
            ],
            "label": "t = 27  (evening)",
            "method": "update"
           },
           {
            "args": [
             {
              "visible": [
               true,
               true,
               false,
               false,
               false,
               false,
               false,
               false,
               false,
               false,
               false,
               false,
               false,
               false,
               false,
               false,
               false,
               false,
               false
              ]
             },
             {
              "annotations": [
               {
                "font": {
                 "color": "black",
                 "size": 15
                },
                "showarrow": false,
                "text": "I = 1.0",
                "x": 0,
                "xref": "x1",
                "y": 10,
                "yref": "y1"
               },
               {
                "font": {
                 "color": "black",
                 "size": 15
                },
                "showarrow": false,
                "text": "I = 0.0",
                "x": 3,
                "xref": "x1",
                "y": 10,
                "yref": "y1"
               },
               {
                "font": {
                 "color": "black",
                 "size": 15
                },
                "showarrow": false,
                "text": "I = 0.0",
                "x": 10,
                "xref": "x1",
                "y": 3,
                "yref": "y1"
               },
               {
                "font": {
                 "color": "black",
                 "size": 15
                },
                "showarrow": false,
                "text": "I = 2.5",
                "x": 10,
                "xref": "x1",
                "y": 0,
                "yref": "y1"
               },
               {
                "font": {
                 "color": "yellow",
                 "size": 15
                },
                "showarrow": false,
                "text": "I = -107.0",
                "x": 0,
                "xref": "x1",
                "y": 0,
                "yref": "y1"
               }
              ],
              "title": "WFP Inventory problem        Cost = 420.0          Total Cost = 10860.0"
             }
            ],
            "label": "t = 28  (evening)",
            "method": "update"
           },
           {
            "args": [
             {
              "visible": [
               true,
               true,
               false,
               false,
               false,
               false,
               false,
               false,
               false,
               false,
               false,
               false,
               false,
               false,
               false,
               false,
               false,
               false,
               false
              ]
             },
             {
              "annotations": [
               {
                "font": {
                 "color": "black",
                 "size": 15
                },
                "showarrow": false,
                "text": "I = 0.0",
                "x": 0,
                "xref": "x1",
                "y": 10,
                "yref": "y1"
               },
               {
                "font": {
                 "color": "black",
                 "size": 15
                },
                "showarrow": false,
                "text": "I = 0.0",
                "x": 3,
                "xref": "x1",
                "y": 10,
                "yref": "y1"
               },
               {
                "font": {
                 "color": "black",
                 "size": 15
                },
                "showarrow": false,
                "text": "I = 0.0",
                "x": 10,
                "xref": "x1",
                "y": 3,
                "yref": "y1"
               },
               {
                "font": {
                 "color": "black",
                 "size": 15
                },
                "showarrow": false,
                "text": "I = 1.0",
                "x": 10,
                "xref": "x1",
                "y": 0,
                "yref": "y1"
               },
               {
                "font": {
                 "color": "yellow",
                 "size": 15
                },
                "showarrow": false,
                "text": "I = -112.0",
                "x": 0,
                "xref": "x1",
                "y": 0,
                "yref": "y1"
               }
              ],
              "title": "WFP Inventory problem        Cost = 340.0          Total Cost = 11200.0"
             }
            ],
            "label": "t = 29  (evening)",
            "method": "update"
           }
          ],
          "direction": "up",
          "x": 0.3,
          "y": 0
         }
        ],
        "xaxis": {
         "showgrid": true,
         "showline": false,
         "showticklabels": true,
         "zeroline": true
        },
        "yaxis": {
         "showgrid": true,
         "showline": false,
         "showticklabels": true,
         "zeroline": true
        }
       }
      },
      "text/html": [
       "<div>\n",
       "        \n",
       "        \n",
       "            <div id=\"c39b9c89-5abb-4e5c-9447-bdaf6f5b360a\" class=\"plotly-graph-div\" style=\"height:525px; width:100%;\"></div>\n",
       "            <script type=\"text/javascript\">\n",
       "                require([\"plotly\"], function(Plotly) {\n",
       "                    window.PLOTLYENV=window.PLOTLYENV || {};\n",
       "                    \n",
       "                if (document.getElementById(\"c39b9c89-5abb-4e5c-9447-bdaf6f5b360a\")) {\n",
       "                    Plotly.newPlot(\n",
       "                        'c39b9c89-5abb-4e5c-9447-bdaf6f5b360a',\n",
       "                        [{\"hoverinfo\": \"text\", \"marker\": {\"color\": \"green\", \"size\": 50, \"symbol\": \"circle-dot\"}, \"mode\": \"markers\", \"name\": \"schools\", \"opacity\": 0.8, \"text\": [\"s0 C = 5.0  ;   q = 1.0\", \"s1 C = 3.0  ;   q = 3.0\", \"s2 C = 2.0  ;   q = 2.0\", \"s3 C = 4.0  ;   q = 1.5\"], \"type\": \"scatter\", \"x\": [0.0, 3.0, 10.0, 10.0], \"y\": [10.0, 10.0, 3.0, 0.0]}, {\"hoverinfo\": \"text\", \"marker\": {\"color\": \"blue\", \"size\": 70, \"symbol\": \"circle-dot\"}, \"mode\": \"markers\", \"name\": \"warehouses\", \"opacity\": 0.8, \"text\": [\"w1 C = 100\"], \"type\": \"scatter\", \"x\": [0.0], \"y\": [0.0]}, {\"hoverinfo\": \"text\", \"line\": {\"color\": \"red\"}, \"text\": [\"cost = 100\", \"cost = 100\"], \"type\": \"scatter\", \"visible\": false, \"x\": [0.0, 0.0], \"y\": [1.25, 8.75]}, {\"hoverinfo\": \"text\", \"line\": {\"color\": \"red\"}, \"text\": [\"cost = 100\", \"cost = 100\"], \"type\": \"scatter\", \"visible\": false, \"x\": [0.0, 0.0], \"y\": [8.75, 1.25]}, {\"hoverinfo\": \"text\", \"line\": {\"color\": \"red\"}, \"text\": [\"cost = 100\", \"cost = 100\"], \"type\": \"scatter\", \"visible\": false, \"x\": [0.375, 2.625], \"y\": [1.25, 8.75]}, {\"hoverinfo\": \"text\", \"line\": {\"color\": \"red\"}, \"text\": [\"cost = 100\", \"cost = 100\"], \"type\": \"scatter\", \"visible\": false, \"x\": [2.625, 0.375], \"y\": [8.75, 1.25]}, {\"hoverinfo\": \"text\", \"line\": {\"color\": \"red\"}, \"text\": [\"cost = 100\", \"cost = 100\"], \"type\": \"scatter\", \"visible\": false, \"x\": [1.25, 8.75], \"y\": [0.375, 2.625]}, {\"hoverinfo\": \"text\", \"line\": {\"color\": \"red\"}, \"text\": [\"cost = 100\", \"cost = 100\"], \"type\": \"scatter\", \"visible\": false, \"x\": [8.75, 1.25], \"y\": [2.625, 0.375]}, {\"hoverinfo\": \"text\", \"line\": {\"color\": \"red\"}, \"text\": [\"cost = 100\", \"cost = 100\"], \"type\": \"scatter\", \"visible\": false, \"x\": [1.25, 8.75], \"y\": [0.0, 0.0]}, {\"hoverinfo\": \"text\", \"line\": {\"color\": \"red\"}, \"text\": [\"cost = 100\", \"cost = 100\"], \"type\": \"scatter\", \"visible\": false, \"x\": [8.75, 1.25], \"y\": [0.0, 0.0]}, {\"hoverinfo\": \"text\", \"line\": {\"color\": \"red\"}, \"text\": [\"cost = 100\", \"cost = 100\"], \"type\": \"scatter\", \"visible\": false, \"x\": [0.0, 0.0], \"y\": [1.25, 8.75]}, {\"hoverinfo\": \"text\", \"line\": {\"color\": \"red\"}, \"text\": [\"cost = 10\", \"cost = 10\"], \"type\": \"scatter\", \"visible\": false, \"x\": [0.375, 2.625], \"y\": [10.0, 10.0]}, {\"hoverinfo\": \"text\", \"line\": {\"color\": \"red\"}, \"text\": [\"cost = 100\", \"cost = 100\"], \"type\": \"scatter\", \"visible\": false, \"x\": [2.625, 0.375], \"y\": [8.75, 1.25]}, {\"hoverinfo\": \"text\", \"line\": {\"color\": \"red\"}, \"text\": [\"cost = 100\", \"cost = 100\"], \"type\": \"scatter\", \"visible\": false, \"x\": [0.375, 2.625], \"y\": [1.25, 8.75]}, {\"hoverinfo\": \"text\", \"line\": {\"color\": \"red\"}, \"text\": [\"cost = 140\", \"cost = 140\"], \"type\": \"scatter\", \"visible\": false, \"x\": [3.875, 9.125], \"y\": [9.125, 3.875]}, {\"hoverinfo\": \"text\", \"line\": {\"color\": \"red\"}, \"text\": [\"cost = 100\", \"cost = 100\"], \"type\": \"scatter\", \"visible\": false, \"x\": [8.75, 1.25], \"y\": [2.625, 0.375]}, {\"hoverinfo\": \"text\", \"line\": {\"color\": \"red\"}, \"text\": [\"cost = 100\", \"cost = 100\"], \"type\": \"scatter\", \"visible\": false, \"x\": [1.25, 8.75], \"y\": [0.375, 2.625]}, {\"hoverinfo\": \"text\", \"line\": {\"color\": \"red\"}, \"text\": [\"cost = 10\", \"cost = 10\"], \"type\": \"scatter\", \"visible\": false, \"x\": [10.0, 10.0], \"y\": [2.625, 0.375]}, {\"hoverinfo\": \"text\", \"line\": {\"color\": \"red\"}, \"text\": [\"cost = 100\", \"cost = 100\"], \"type\": \"scatter\", \"visible\": false, \"x\": [8.75, 1.25], \"y\": [0.0, 0.0]}],\n",
       "                        {\"annotations\": [{\"font\": {\"color\": \"black\", \"size\": 15}, \"showarrow\": false, \"text\": \"I = 5.0\", \"x\": 0.0, \"xref\": \"x\", \"y\": 10.0, \"yref\": \"y\"}, {\"font\": {\"color\": \"black\", \"size\": 15}, \"showarrow\": false, \"text\": \"I = 3.0\", \"x\": 3.0, \"xref\": \"x\", \"y\": 10.0, \"yref\": \"y\"}, {\"font\": {\"color\": \"black\", \"size\": 15}, \"showarrow\": false, \"text\": \"I = 2.0\", \"x\": 10.0, \"xref\": \"x\", \"y\": 3.0, \"yref\": \"y\"}, {\"font\": {\"color\": \"black\", \"size\": 15}, \"showarrow\": false, \"text\": \"I = 4.0\", \"x\": 10.0, \"xref\": \"x\", \"y\": 0.0, \"yref\": \"y\"}, {\"font\": {\"color\": \"yellow\", \"size\": 15}, \"showarrow\": false, \"text\": \"I = 100\", \"x\": 0.0, \"xref\": \"x\", \"y\": 0.0, \"yref\": \"y\"}], \"font\": {\"size\": 12}, \"hovermode\": \"closest\", \"margin\": {\"b\": 85, \"l\": 40, \"r\": 40, \"t\": 100}, \"plot_bgcolor\": \"rgb(248,248,248)\", \"showlegend\": false, \"template\": {\"data\": {\"bar\": [{\"error_x\": {\"color\": \"#2a3f5f\"}, \"error_y\": {\"color\": \"#2a3f5f\"}, \"marker\": {\"line\": {\"color\": \"#E5ECF6\", \"width\": 0.5}}, \"type\": \"bar\"}], \"barpolar\": [{\"marker\": {\"line\": {\"color\": \"#E5ECF6\", \"width\": 0.5}}, \"type\": \"barpolar\"}], \"carpet\": [{\"aaxis\": {\"endlinecolor\": \"#2a3f5f\", \"gridcolor\": \"white\", \"linecolor\": \"white\", \"minorgridcolor\": \"white\", \"startlinecolor\": \"#2a3f5f\"}, \"baxis\": {\"endlinecolor\": \"#2a3f5f\", \"gridcolor\": \"white\", \"linecolor\": \"white\", \"minorgridcolor\": \"white\", \"startlinecolor\": \"#2a3f5f\"}, \"type\": \"carpet\"}], \"choropleth\": [{\"colorbar\": {\"outlinewidth\": 0, \"ticks\": \"\"}, \"type\": \"choropleth\"}], \"contour\": [{\"colorbar\": {\"outlinewidth\": 0, \"ticks\": \"\"}, \"colorscale\": [[0.0, \"#0d0887\"], [0.1111111111111111, \"#46039f\"], [0.2222222222222222, \"#7201a8\"], [0.3333333333333333, \"#9c179e\"], [0.4444444444444444, \"#bd3786\"], [0.5555555555555556, \"#d8576b\"], [0.6666666666666666, \"#ed7953\"], [0.7777777777777778, \"#fb9f3a\"], [0.8888888888888888, \"#fdca26\"], [1.0, \"#f0f921\"]], \"type\": \"contour\"}], \"contourcarpet\": [{\"colorbar\": {\"outlinewidth\": 0, \"ticks\": \"\"}, \"type\": \"contourcarpet\"}], \"heatmap\": [{\"colorbar\": {\"outlinewidth\": 0, \"ticks\": \"\"}, \"colorscale\": [[0.0, \"#0d0887\"], [0.1111111111111111, \"#46039f\"], [0.2222222222222222, \"#7201a8\"], [0.3333333333333333, \"#9c179e\"], [0.4444444444444444, \"#bd3786\"], [0.5555555555555556, \"#d8576b\"], [0.6666666666666666, \"#ed7953\"], [0.7777777777777778, \"#fb9f3a\"], [0.8888888888888888, \"#fdca26\"], [1.0, \"#f0f921\"]], \"type\": \"heatmap\"}], \"heatmapgl\": [{\"colorbar\": {\"outlinewidth\": 0, \"ticks\": \"\"}, \"colorscale\": [[0.0, \"#0d0887\"], [0.1111111111111111, \"#46039f\"], [0.2222222222222222, \"#7201a8\"], [0.3333333333333333, \"#9c179e\"], [0.4444444444444444, \"#bd3786\"], [0.5555555555555556, \"#d8576b\"], [0.6666666666666666, \"#ed7953\"], [0.7777777777777778, \"#fb9f3a\"], [0.8888888888888888, \"#fdca26\"], [1.0, \"#f0f921\"]], \"type\": \"heatmapgl\"}], \"histogram\": [{\"marker\": {\"colorbar\": {\"outlinewidth\": 0, \"ticks\": \"\"}}, \"type\": \"histogram\"}], \"histogram2d\": [{\"colorbar\": {\"outlinewidth\": 0, \"ticks\": \"\"}, \"colorscale\": [[0.0, \"#0d0887\"], [0.1111111111111111, \"#46039f\"], [0.2222222222222222, \"#7201a8\"], [0.3333333333333333, \"#9c179e\"], [0.4444444444444444, \"#bd3786\"], [0.5555555555555556, \"#d8576b\"], [0.6666666666666666, \"#ed7953\"], [0.7777777777777778, \"#fb9f3a\"], [0.8888888888888888, \"#fdca26\"], [1.0, \"#f0f921\"]], \"type\": \"histogram2d\"}], \"histogram2dcontour\": [{\"colorbar\": {\"outlinewidth\": 0, \"ticks\": \"\"}, \"colorscale\": [[0.0, \"#0d0887\"], [0.1111111111111111, \"#46039f\"], [0.2222222222222222, \"#7201a8\"], [0.3333333333333333, \"#9c179e\"], [0.4444444444444444, \"#bd3786\"], [0.5555555555555556, \"#d8576b\"], [0.6666666666666666, \"#ed7953\"], [0.7777777777777778, \"#fb9f3a\"], [0.8888888888888888, \"#fdca26\"], [1.0, \"#f0f921\"]], \"type\": \"histogram2dcontour\"}], \"mesh3d\": [{\"colorbar\": {\"outlinewidth\": 0, \"ticks\": \"\"}, \"type\": \"mesh3d\"}], \"parcoords\": [{\"line\": {\"colorbar\": {\"outlinewidth\": 0, \"ticks\": \"\"}}, \"type\": \"parcoords\"}], \"pie\": [{\"automargin\": true, \"type\": \"pie\"}], \"scatter\": [{\"marker\": {\"colorbar\": {\"outlinewidth\": 0, \"ticks\": \"\"}}, \"type\": \"scatter\"}], \"scatter3d\": [{\"line\": {\"colorbar\": {\"outlinewidth\": 0, \"ticks\": \"\"}}, \"marker\": {\"colorbar\": {\"outlinewidth\": 0, \"ticks\": \"\"}}, \"type\": \"scatter3d\"}], \"scattercarpet\": [{\"marker\": {\"colorbar\": {\"outlinewidth\": 0, \"ticks\": \"\"}}, \"type\": \"scattercarpet\"}], \"scattergeo\": [{\"marker\": {\"colorbar\": {\"outlinewidth\": 0, \"ticks\": \"\"}}, \"type\": \"scattergeo\"}], \"scattergl\": [{\"marker\": {\"colorbar\": {\"outlinewidth\": 0, \"ticks\": \"\"}}, \"type\": \"scattergl\"}], \"scattermapbox\": [{\"marker\": {\"colorbar\": {\"outlinewidth\": 0, \"ticks\": \"\"}}, \"type\": \"scattermapbox\"}], \"scatterpolar\": [{\"marker\": {\"colorbar\": {\"outlinewidth\": 0, \"ticks\": \"\"}}, \"type\": \"scatterpolar\"}], \"scatterpolargl\": [{\"marker\": {\"colorbar\": {\"outlinewidth\": 0, \"ticks\": \"\"}}, \"type\": \"scatterpolargl\"}], \"scatterternary\": [{\"marker\": {\"colorbar\": {\"outlinewidth\": 0, \"ticks\": \"\"}}, \"type\": \"scatterternary\"}], \"surface\": [{\"colorbar\": {\"outlinewidth\": 0, \"ticks\": \"\"}, \"colorscale\": [[0.0, \"#0d0887\"], [0.1111111111111111, \"#46039f\"], [0.2222222222222222, \"#7201a8\"], [0.3333333333333333, \"#9c179e\"], [0.4444444444444444, \"#bd3786\"], [0.5555555555555556, \"#d8576b\"], [0.6666666666666666, \"#ed7953\"], [0.7777777777777778, \"#fb9f3a\"], [0.8888888888888888, \"#fdca26\"], [1.0, \"#f0f921\"]], \"type\": \"surface\"}], \"table\": [{\"cells\": {\"fill\": {\"color\": \"#EBF0F8\"}, \"line\": {\"color\": \"white\"}}, \"header\": {\"fill\": {\"color\": \"#C8D4E3\"}, \"line\": {\"color\": \"white\"}}, \"type\": \"table\"}]}, \"layout\": {\"annotationdefaults\": {\"arrowcolor\": \"#2a3f5f\", \"arrowhead\": 0, \"arrowwidth\": 1}, \"coloraxis\": {\"colorbar\": {\"outlinewidth\": 0, \"ticks\": \"\"}}, \"colorscale\": {\"diverging\": [[0, \"#8e0152\"], [0.1, \"#c51b7d\"], [0.2, \"#de77ae\"], [0.3, \"#f1b6da\"], [0.4, \"#fde0ef\"], [0.5, \"#f7f7f7\"], [0.6, \"#e6f5d0\"], [0.7, \"#b8e186\"], [0.8, \"#7fbc41\"], [0.9, \"#4d9221\"], [1, \"#276419\"]], \"sequential\": [[0.0, \"#0d0887\"], [0.1111111111111111, \"#46039f\"], [0.2222222222222222, \"#7201a8\"], [0.3333333333333333, \"#9c179e\"], [0.4444444444444444, \"#bd3786\"], [0.5555555555555556, \"#d8576b\"], [0.6666666666666666, \"#ed7953\"], [0.7777777777777778, \"#fb9f3a\"], [0.8888888888888888, \"#fdca26\"], [1.0, \"#f0f921\"]], \"sequentialminus\": [[0.0, \"#0d0887\"], [0.1111111111111111, \"#46039f\"], [0.2222222222222222, \"#7201a8\"], [0.3333333333333333, \"#9c179e\"], [0.4444444444444444, \"#bd3786\"], [0.5555555555555556, \"#d8576b\"], [0.6666666666666666, \"#ed7953\"], [0.7777777777777778, \"#fb9f3a\"], [0.8888888888888888, \"#fdca26\"], [1.0, \"#f0f921\"]]}, \"colorway\": [\"#636efa\", \"#EF553B\", \"#00cc96\", \"#ab63fa\", \"#FFA15A\", \"#19d3f3\", \"#FF6692\", \"#B6E880\", \"#FF97FF\", \"#FECB52\"], \"font\": {\"color\": \"#2a3f5f\"}, \"geo\": {\"bgcolor\": \"white\", \"lakecolor\": \"white\", \"landcolor\": \"#E5ECF6\", \"showlakes\": true, \"showland\": true, \"subunitcolor\": \"white\"}, \"hoverlabel\": {\"align\": \"left\"}, \"hovermode\": \"closest\", \"mapbox\": {\"style\": \"light\"}, \"paper_bgcolor\": \"white\", \"plot_bgcolor\": \"#E5ECF6\", \"polar\": {\"angularaxis\": {\"gridcolor\": \"white\", \"linecolor\": \"white\", \"ticks\": \"\"}, \"bgcolor\": \"#E5ECF6\", \"radialaxis\": {\"gridcolor\": \"white\", \"linecolor\": \"white\", \"ticks\": \"\"}}, \"scene\": {\"xaxis\": {\"backgroundcolor\": \"#E5ECF6\", \"gridcolor\": \"white\", \"gridwidth\": 2, \"linecolor\": \"white\", \"showbackground\": true, \"ticks\": \"\", \"zerolinecolor\": \"white\"}, \"yaxis\": {\"backgroundcolor\": \"#E5ECF6\", \"gridcolor\": \"white\", \"gridwidth\": 2, \"linecolor\": \"white\", \"showbackground\": true, \"ticks\": \"\", \"zerolinecolor\": \"white\"}, \"zaxis\": {\"backgroundcolor\": \"#E5ECF6\", \"gridcolor\": \"white\", \"gridwidth\": 2, \"linecolor\": \"white\", \"showbackground\": true, \"ticks\": \"\", \"zerolinecolor\": \"white\"}}, \"shapedefaults\": {\"line\": {\"color\": \"#2a3f5f\"}}, \"ternary\": {\"aaxis\": {\"gridcolor\": \"white\", \"linecolor\": \"white\", \"ticks\": \"\"}, \"baxis\": {\"gridcolor\": \"white\", \"linecolor\": \"white\", \"ticks\": \"\"}, \"bgcolor\": \"#E5ECF6\", \"caxis\": {\"gridcolor\": \"white\", \"linecolor\": \"white\", \"ticks\": \"\"}}, \"title\": {\"x\": 0.05}, \"xaxis\": {\"automargin\": true, \"gridcolor\": \"white\", \"linecolor\": \"white\", \"ticks\": \"\", \"title\": {\"standoff\": 15}, \"zerolinecolor\": \"white\", \"zerolinewidth\": 2}, \"yaxis\": {\"automargin\": true, \"gridcolor\": \"white\", \"linecolor\": \"white\", \"ticks\": \"\", \"title\": {\"standoff\": 15}, \"zerolinecolor\": \"white\", \"zerolinewidth\": 2}}}, \"title\": {\"text\": \"WFP Inventory problem        Cost = 0          Total Cost = 0\"}, \"updatemenus\": [{\"buttons\": [{\"args\": [{\"visible\": [true, true, false, false, false, false, false, false, false, false, false, false, false, false, false, false, false, false, false]}, {\"annotations\": [{\"font\": {\"color\": \"black\", \"size\": 15}, \"showarrow\": false, \"text\": \"I = 5.0\", \"x\": 0.0, \"xref\": \"x1\", \"y\": 10.0, \"yref\": \"y1\"}, {\"font\": {\"color\": \"black\", \"size\": 15}, \"showarrow\": false, \"text\": \"I = 3.0\", \"x\": 3.0, \"xref\": \"x1\", \"y\": 10.0, \"yref\": \"y1\"}, {\"font\": {\"color\": \"black\", \"size\": 15}, \"showarrow\": false, \"text\": \"I = 2.0\", \"x\": 10.0, \"xref\": \"x1\", \"y\": 3.0, \"yref\": \"y1\"}, {\"font\": {\"color\": \"black\", \"size\": 15}, \"showarrow\": false, \"text\": \"I = 4.0\", \"x\": 10.0, \"xref\": \"x1\", \"y\": 0.0, \"yref\": \"y1\"}, {\"font\": {\"color\": \"yellow\", \"size\": 15}, \"showarrow\": false, \"text\": \"I = 100\", \"x\": 0.0, \"xref\": \"x1\", \"y\": 0.0, \"yref\": \"y1\"}], \"title\": \"WFP Inventory problem        Cost = 0          Total Cost = 0\"}], \"label\": \"t = 0 (before lunch)\", \"method\": \"update\"}, {\"args\": [{\"visible\": [true, true, false, false, false, false, false, false, false, false, false, false, false, true, true, true, false, false, false]}, {\"annotations\": [{\"font\": {\"color\": \"black\", \"size\": 15}, \"showarrow\": false, \"text\": \"I = 4.0\", \"x\": 0.0, \"xref\": \"x1\", \"y\": 10.0, \"yref\": \"y1\"}, {\"font\": {\"color\": \"black\", \"size\": 15}, \"showarrow\": false, \"text\": \"I = 3.0\", \"x\": 3.0, \"xref\": \"x1\", \"y\": 10.0, \"yref\": \"y1\"}, {\"font\": {\"color\": \"black\", \"size\": 15}, \"showarrow\": false, \"text\": \"I = 2.0\", \"x\": 10.0, \"xref\": \"x1\", \"y\": 3.0, \"yref\": \"y1\"}, {\"font\": {\"color\": \"black\", \"size\": 15}, \"showarrow\": false, \"text\": \"I = 2.5\", \"x\": 10.0, \"xref\": \"x1\", \"y\": 0.0, \"yref\": \"y1\"}, {\"font\": {\"color\": \"yellow\", \"size\": 15}, \"showarrow\": false, \"text\": \"I = 95.0\", \"x\": 0.0, \"xref\": \"x1\", \"y\": 0.0, \"yref\": \"y1\"}, {\"font\": {\"color\": \"red\", \"size\": 15}, \"showarrow\": false, \"text\": \"3.0  \", \"x\": 2.0, \"xref\": \"x1\", \"y\": 5.5, \"yref\": \"y1\"}, {\"font\": {\"color\": \"red\", \"size\": 15}, \"showarrow\": false, \"text\": \"2.0  \", \"x\": 7.0, \"xref\": \"x1\", \"y\": 7.0, \"yref\": \"y1\"}], \"title\": \"WFP Inventory problem        Cost = 340.0          Total Cost = 340.0\"}], \"label\": \"t = 1 (before lunch)\", \"method\": \"update\"}, {\"args\": [{\"visible\": [true, true, false, false, true, true, false, false, false, false, false, false, false, false, false, false, true, true, true]}, {\"annotations\": [{\"font\": {\"color\": \"black\", \"size\": 15}, \"showarrow\": false, \"text\": \"I = 3.0\", \"x\": 0.0, \"xref\": \"x1\", \"y\": 10.0, \"yref\": \"y1\"}, {\"font\": {\"color\": \"black\", \"size\": 15}, \"showarrow\": false, \"text\": \"I = 3.0\", \"x\": 3.0, \"xref\": \"x1\", \"y\": 10.0, \"yref\": \"y1\"}, {\"font\": {\"color\": \"black\", \"size\": 15}, \"showarrow\": false, \"text\": \"I = 2.0\", \"x\": 10.0, \"xref\": \"x1\", \"y\": 3.0, \"yref\": \"y1\"}, {\"font\": {\"color\": \"black\", \"size\": 15}, \"showarrow\": false, \"text\": \"I = 3.0\", \"x\": 10.0, \"xref\": \"x1\", \"y\": 0.0, \"yref\": \"y1\"}, {\"font\": {\"color\": \"yellow\", \"size\": 15}, \"showarrow\": false, \"text\": \"I = 88.0\", \"x\": 0.0, \"xref\": \"x1\", \"y\": 0.0, \"yref\": \"y1\"}, {\"font\": {\"color\": \"red\", \"size\": 15}, \"showarrow\": false, \"text\": \"3.0  \", \"x\": 2.0, \"xref\": \"x1\", \"y\": 5.5, \"yref\": \"y1\"}, {\"font\": {\"color\": \"red\", \"size\": 15}, \"showarrow\": false, \"text\": \"2.0  \", \"x\": 5.5, \"xref\": \"x1\", \"y\": 2.0, \"yref\": \"y1\"}, {\"font\": {\"color\": \"red\", \"size\": 15}, \"showarrow\": false, \"text\": \"2.0  \", \"x\": 10.5, \"xref\": \"x1\", \"y\": 2.0, \"yref\": \"y1\"}], \"title\": \"WFP Inventory problem        Cost = 410.0          Total Cost = 750.0\"}], \"label\": \"t = 2 (before lunch)\", \"method\": \"update\"}, {\"args\": [{\"visible\": [true, true, false, false, false, false, false, false, false, false, false, false, false, true, true, true, false, false, false]}, {\"annotations\": [{\"font\": {\"color\": \"black\", \"size\": 15}, \"showarrow\": false, \"text\": \"I = 2.0\", \"x\": 0.0, \"xref\": \"x1\", \"y\": 10.0, \"yref\": \"y1\"}, {\"font\": {\"color\": \"black\", \"size\": 15}, \"showarrow\": false, \"text\": \"I = 3.0\", \"x\": 3.0, \"xref\": \"x1\", \"y\": 10.0, \"yref\": \"y1\"}, {\"font\": {\"color\": \"black\", \"size\": 15}, \"showarrow\": false, \"text\": \"I = 2.0\", \"x\": 10.0, \"xref\": \"x1\", \"y\": 3.0, \"yref\": \"y1\"}, {\"font\": {\"color\": \"black\", \"size\": 15}, \"showarrow\": false, \"text\": \"I = 1.5\", \"x\": 10.0, \"xref\": \"x1\", \"y\": 0.0, \"yref\": \"y1\"}, {\"font\": {\"color\": \"yellow\", \"size\": 15}, \"showarrow\": false, \"text\": \"I = 83.0\", \"x\": 0.0, \"xref\": \"x1\", \"y\": 0.0, \"yref\": \"y1\"}, {\"font\": {\"color\": \"red\", \"size\": 15}, \"showarrow\": false, \"text\": \"3.0  \", \"x\": 2.0, \"xref\": \"x1\", \"y\": 5.5, \"yref\": \"y1\"}, {\"font\": {\"color\": \"red\", \"size\": 15}, \"showarrow\": false, \"text\": \"2.0  \", \"x\": 7.0, \"xref\": \"x1\", \"y\": 7.0, \"yref\": \"y1\"}], \"title\": \"WFP Inventory problem        Cost = 340.0          Total Cost = 1090.0\"}], \"label\": \"t = 3 (before lunch)\", \"method\": \"update\"}, {\"args\": [{\"visible\": [true, true, false, false, true, true, false, false, false, false, false, false, false, false, false, false, true, true, true]}, {\"annotations\": [{\"font\": {\"color\": \"black\", \"size\": 15}, \"showarrow\": false, \"text\": \"I = 1.0\", \"x\": 0.0, \"xref\": \"x1\", \"y\": 10.0, \"yref\": \"y1\"}, {\"font\": {\"color\": \"black\", \"size\": 15}, \"showarrow\": false, \"text\": \"I = 3.0\", \"x\": 3.0, \"xref\": \"x1\", \"y\": 10.0, \"yref\": \"y1\"}, {\"font\": {\"color\": \"black\", \"size\": 15}, \"showarrow\": false, \"text\": \"I = 2.0\", \"x\": 10.0, \"xref\": \"x1\", \"y\": 3.0, \"yref\": \"y1\"}, {\"font\": {\"color\": \"black\", \"size\": 15}, \"showarrow\": false, \"text\": \"I = 1.5\", \"x\": 10.0, \"xref\": \"x1\", \"y\": 0.0, \"yref\": \"y1\"}, {\"font\": {\"color\": \"yellow\", \"size\": 15}, \"showarrow\": false, \"text\": \"I = 76.5\", \"x\": 0.0, \"xref\": \"x1\", \"y\": 0.0, \"yref\": \"y1\"}, {\"font\": {\"color\": \"red\", \"size\": 15}, \"showarrow\": false, \"text\": \"3.0  \", \"x\": 2.0, \"xref\": \"x1\", \"y\": 5.5, \"yref\": \"y1\"}, {\"font\": {\"color\": \"red\", \"size\": 15}, \"showarrow\": false, \"text\": \"2.0  \", \"x\": 5.5, \"xref\": \"x1\", \"y\": 2.0, \"yref\": \"y1\"}, {\"font\": {\"color\": \"red\", \"size\": 15}, \"showarrow\": false, \"text\": \"1.5  \", \"x\": 10.5, \"xref\": \"x1\", \"y\": 2.0, \"yref\": \"y1\"}], \"title\": \"WFP Inventory problem        Cost = 410.0          Total Cost = 1500.0\"}], \"label\": \"t = 4 (before lunch)\", \"method\": \"update\"}, {\"args\": [{\"visible\": [true, true, false, false, false, false, false, false, false, false, true, true, true, false, false, false, true, true, true]}, {\"annotations\": [{\"font\": {\"color\": \"black\", \"size\": 15}, \"showarrow\": false, \"text\": \"I = 1.0\", \"x\": 0.0, \"xref\": \"x1\", \"y\": 10.0, \"yref\": \"y1\"}, {\"font\": {\"color\": \"black\", \"size\": 15}, \"showarrow\": false, \"text\": \"I = 3.0\", \"x\": 3.0, \"xref\": \"x1\", \"y\": 10.0, \"yref\": \"y1\"}, {\"font\": {\"color\": \"black\", \"size\": 15}, \"showarrow\": false, \"text\": \"I = 2.0\", \"x\": 10.0, \"xref\": \"x1\", \"y\": 3.0, \"yref\": \"y1\"}, {\"font\": {\"color\": \"black\", \"size\": 15}, \"showarrow\": false, \"text\": \"I = 2.5\", \"x\": 10.0, \"xref\": \"x1\", \"y\": 0.0, \"yref\": \"y1\"}, {\"font\": {\"color\": \"yellow\", \"size\": 15}, \"showarrow\": false, \"text\": \"I = 68.0\", \"x\": 0.0, \"xref\": \"x1\", \"y\": 0.0, \"yref\": \"y1\"}, {\"font\": {\"color\": \"red\", \"size\": 15}, \"showarrow\": false, \"text\": \"1.0  \", \"x\": 0.5, \"xref\": \"x1\", \"y\": 5.5, \"yref\": \"y1\"}, {\"font\": {\"color\": \"red\", \"size\": 15}, \"showarrow\": false, \"text\": \"3.0  \", \"x\": 2.0, \"xref\": \"x1\", \"y\": 10.5, \"yref\": \"y1\"}, {\"font\": {\"color\": \"red\", \"size\": 15}, \"showarrow\": false, \"text\": \"2.0  \", \"x\": 5.5, \"xref\": \"x1\", \"y\": 2.0, \"yref\": \"y1\"}, {\"font\": {\"color\": \"red\", \"size\": 15}, \"showarrow\": false, \"text\": \"2.5  \", \"x\": 10.5, \"xref\": \"x1\", \"y\": 2.0, \"yref\": \"y1\"}], \"title\": \"WFP Inventory problem        Cost = 420.0          Total Cost = 1920.0\"}], \"label\": \"t = 5 (before lunch)\", \"method\": \"update\"}, {\"args\": [{\"visible\": [true, true, false, false, false, false, false, false, false, false, true, true, true, false, false, false, true, true, true]}, {\"annotations\": [{\"font\": {\"color\": \"black\", \"size\": 15}, \"showarrow\": false, \"text\": \"I = 2.0\", \"x\": 0.0, \"xref\": \"x1\", \"y\": 10.0, \"yref\": \"y1\"}, {\"font\": {\"color\": \"black\", \"size\": 15}, \"showarrow\": false, \"text\": \"I = 3.0\", \"x\": 3.0, \"xref\": \"x1\", \"y\": 10.0, \"yref\": \"y1\"}, {\"font\": {\"color\": \"black\", \"size\": 15}, \"showarrow\": false, \"text\": \"I = 2.0\", \"x\": 10.0, \"xref\": \"x1\", \"y\": 3.0, \"yref\": \"y1\"}, {\"font\": {\"color\": \"black\", \"size\": 15}, \"showarrow\": false, \"text\": \"I = 4.0\", \"x\": 10.0, \"xref\": \"x1\", \"y\": 0.0, \"yref\": \"y1\"}, {\"font\": {\"color\": \"yellow\", \"size\": 15}, \"showarrow\": false, \"text\": \"I = 58.0\", \"x\": 0.0, \"xref\": \"x1\", \"y\": 0.0, \"yref\": \"y1\"}, {\"font\": {\"color\": \"red\", \"size\": 15}, \"showarrow\": false, \"text\": \"2.0  \", \"x\": 0.5, \"xref\": \"x1\", \"y\": 5.5, \"yref\": \"y1\"}, {\"font\": {\"color\": \"red\", \"size\": 15}, \"showarrow\": false, \"text\": \"3.0  \", \"x\": 2.0, \"xref\": \"x1\", \"y\": 10.5, \"yref\": \"y1\"}, {\"font\": {\"color\": \"red\", \"size\": 15}, \"showarrow\": false, \"text\": \"2.0  \", \"x\": 5.5, \"xref\": \"x1\", \"y\": 2.0, \"yref\": \"y1\"}, {\"font\": {\"color\": \"red\", \"size\": 15}, \"showarrow\": false, \"text\": \"3.0  \", \"x\": 10.5, \"xref\": \"x1\", \"y\": 2.0, \"yref\": \"y1\"}], \"title\": \"WFP Inventory problem        Cost = 420.0          Total Cost = 2340.0\"}], \"label\": \"t = 6 (before lunch)\", \"method\": \"update\"}, {\"args\": [{\"visible\": [true, true, false, false, false, false, false, false, false, false, false, false, false, true, true, true, false, false, false]}, {\"annotations\": [{\"font\": {\"color\": \"black\", \"size\": 15}, \"showarrow\": false, \"text\": \"I = 1.0\", \"x\": 0.0, \"xref\": \"x1\", \"y\": 10.0, \"yref\": \"y1\"}, {\"font\": {\"color\": \"black\", \"size\": 15}, \"showarrow\": false, \"text\": \"I = 3.0\", \"x\": 3.0, \"xref\": \"x1\", \"y\": 10.0, \"yref\": \"y1\"}, {\"font\": {\"color\": \"black\", \"size\": 15}, \"showarrow\": false, \"text\": \"I = 2.0\", \"x\": 10.0, \"xref\": \"x1\", \"y\": 3.0, \"yref\": \"y1\"}, {\"font\": {\"color\": \"black\", \"size\": 15}, \"showarrow\": false, \"text\": \"I = 2.5\", \"x\": 10.0, \"xref\": \"x1\", \"y\": 0.0, \"yref\": \"y1\"}, {\"font\": {\"color\": \"yellow\", \"size\": 15}, \"showarrow\": false, \"text\": \"I = 53.0\", \"x\": 0.0, \"xref\": \"x1\", \"y\": 0.0, \"yref\": \"y1\"}, {\"font\": {\"color\": \"red\", \"size\": 15}, \"showarrow\": false, \"text\": \"3.0  \", \"x\": 2.0, \"xref\": \"x1\", \"y\": 5.5, \"yref\": \"y1\"}, {\"font\": {\"color\": \"red\", \"size\": 15}, \"showarrow\": false, \"text\": \"2.0  \", \"x\": 7.0, \"xref\": \"x1\", \"y\": 7.0, \"yref\": \"y1\"}], \"title\": \"WFP Inventory problem        Cost = 340.0          Total Cost = 2680.0\"}], \"label\": \"t = 7 (before lunch)\", \"method\": \"update\"}, {\"args\": [{\"visible\": [true, true, false, false, false, false, false, false, false, false, true, true, true, false, false, false, true, true, true]}, {\"annotations\": [{\"font\": {\"color\": \"black\", \"size\": 15}, \"showarrow\": false, \"text\": \"I = 2.0\", \"x\": 0.0, \"xref\": \"x1\", \"y\": 10.0, \"yref\": \"y1\"}, {\"font\": {\"color\": \"black\", \"size\": 15}, \"showarrow\": false, \"text\": \"I = 3.0\", \"x\": 3.0, \"xref\": \"x1\", \"y\": 10.0, \"yref\": \"y1\"}, {\"font\": {\"color\": \"black\", \"size\": 15}, \"showarrow\": false, \"text\": \"I = 2.0\", \"x\": 10.0, \"xref\": \"x1\", \"y\": 3.0, \"yref\": \"y1\"}, {\"font\": {\"color\": \"black\", \"size\": 15}, \"showarrow\": false, \"text\": \"I = 4.0\", \"x\": 10.0, \"xref\": \"x1\", \"y\": 0.0, \"yref\": \"y1\"}, {\"font\": {\"color\": \"yellow\", \"size\": 15}, \"showarrow\": false, \"text\": \"I = 43.0\", \"x\": 0.0, \"xref\": \"x1\", \"y\": 0.0, \"yref\": \"y1\"}, {\"font\": {\"color\": \"red\", \"size\": 15}, \"showarrow\": false, \"text\": \"2.0  \", \"x\": 0.5, \"xref\": \"x1\", \"y\": 5.5, \"yref\": \"y1\"}, {\"font\": {\"color\": \"red\", \"size\": 15}, \"showarrow\": false, \"text\": \"3.0  \", \"x\": 2.0, \"xref\": \"x1\", \"y\": 10.5, \"yref\": \"y1\"}, {\"font\": {\"color\": \"red\", \"size\": 15}, \"showarrow\": false, \"text\": \"2.0  \", \"x\": 5.5, \"xref\": \"x1\", \"y\": 2.0, \"yref\": \"y1\"}, {\"font\": {\"color\": \"red\", \"size\": 15}, \"showarrow\": false, \"text\": \"3.0  \", \"x\": 10.5, \"xref\": \"x1\", \"y\": 2.0, \"yref\": \"y1\"}], \"title\": \"WFP Inventory problem        Cost = 420.0          Total Cost = 3100.0\"}], \"label\": \"t = 8 (before lunch)\", \"method\": \"update\"}, {\"args\": [{\"visible\": [true, true, false, false, false, false, false, false, false, false, false, false, false, true, true, true, false, false, false]}, {\"annotations\": [{\"font\": {\"color\": \"black\", \"size\": 15}, \"showarrow\": false, \"text\": \"I = 1.0\", \"x\": 0.0, \"xref\": \"x1\", \"y\": 10.0, \"yref\": \"y1\"}, {\"font\": {\"color\": \"black\", \"size\": 15}, \"showarrow\": false, \"text\": \"I = 3.0\", \"x\": 3.0, \"xref\": \"x1\", \"y\": 10.0, \"yref\": \"y1\"}, {\"font\": {\"color\": \"black\", \"size\": 15}, \"showarrow\": false, \"text\": \"I = 2.0\", \"x\": 10.0, \"xref\": \"x1\", \"y\": 3.0, \"yref\": \"y1\"}, {\"font\": {\"color\": \"black\", \"size\": 15}, \"showarrow\": false, \"text\": \"I = 2.5\", \"x\": 10.0, \"xref\": \"x1\", \"y\": 0.0, \"yref\": \"y1\"}, {\"font\": {\"color\": \"yellow\", \"size\": 15}, \"showarrow\": false, \"text\": \"I = 38.0\", \"x\": 0.0, \"xref\": \"x1\", \"y\": 0.0, \"yref\": \"y1\"}, {\"font\": {\"color\": \"red\", \"size\": 15}, \"showarrow\": false, \"text\": \"3.0  \", \"x\": 2.0, \"xref\": \"x1\", \"y\": 5.5, \"yref\": \"y1\"}, {\"font\": {\"color\": \"red\", \"size\": 15}, \"showarrow\": false, \"text\": \"2.0  \", \"x\": 7.0, \"xref\": \"x1\", \"y\": 7.0, \"yref\": \"y1\"}], \"title\": \"WFP Inventory problem        Cost = 340.0          Total Cost = 3440.0\"}], \"label\": \"t = 9 (before lunch)\", \"method\": \"update\"}, {\"args\": [{\"visible\": [true, true, false, false, false, false, false, false, false, false, true, true, true, false, false, false, true, true, true]}, {\"annotations\": [{\"font\": {\"color\": \"black\", \"size\": 15}, \"showarrow\": false, \"text\": \"I = 1.0\", \"x\": 0.0, \"xref\": \"x1\", \"y\": 10.0, \"yref\": \"y1\"}, {\"font\": {\"color\": \"black\", \"size\": 15}, \"showarrow\": false, \"text\": \"I = 3.0\", \"x\": 3.0, \"xref\": \"x1\", \"y\": 10.0, \"yref\": \"y1\"}, {\"font\": {\"color\": \"black\", \"size\": 15}, \"showarrow\": false, \"text\": \"I = 2.0\", \"x\": 10.0, \"xref\": \"x1\", \"y\": 3.0, \"yref\": \"y1\"}, {\"font\": {\"color\": \"black\", \"size\": 15}, \"showarrow\": false, \"text\": \"I = 2.5\", \"x\": 10.0, \"xref\": \"x1\", \"y\": 0.0, \"yref\": \"y1\"}, {\"font\": {\"color\": \"yellow\", \"size\": 15}, \"showarrow\": false, \"text\": \"I = 30.5\", \"x\": 0.0, \"xref\": \"x1\", \"y\": 0.0, \"yref\": \"y1\"}, {\"font\": {\"color\": \"red\", \"size\": 15}, \"showarrow\": false, \"text\": \"1.0  \", \"x\": 0.5, \"xref\": \"x1\", \"y\": 5.5, \"yref\": \"y1\"}, {\"font\": {\"color\": \"red\", \"size\": 15}, \"showarrow\": false, \"text\": \"3.0  \", \"x\": 2.0, \"xref\": \"x1\", \"y\": 10.5, \"yref\": \"y1\"}, {\"font\": {\"color\": \"red\", \"size\": 15}, \"showarrow\": false, \"text\": \"2.0  \", \"x\": 5.5, \"xref\": \"x1\", \"y\": 2.0, \"yref\": \"y1\"}, {\"font\": {\"color\": \"red\", \"size\": 15}, \"showarrow\": false, \"text\": \"1.5  \", \"x\": 10.5, \"xref\": \"x1\", \"y\": 2.0, \"yref\": \"y1\"}], \"title\": \"WFP Inventory problem        Cost = 420.0          Total Cost = 3860.0\"}], \"label\": \"t = 10 (before lunch)\", \"method\": \"update\"}, {\"args\": [{\"visible\": [true, true, false, false, false, false, false, false, false, false, true, true, true, false, false, false, true, true, true]}, {\"annotations\": [{\"font\": {\"color\": \"black\", \"size\": 15}, \"showarrow\": false, \"text\": \"I = 2.0\", \"x\": 0.0, \"xref\": \"x1\", \"y\": 10.0, \"yref\": \"y1\"}, {\"font\": {\"color\": \"black\", \"size\": 15}, \"showarrow\": false, \"text\": \"I = 3.0\", \"x\": 3.0, \"xref\": \"x1\", \"y\": 10.0, \"yref\": \"y1\"}, {\"font\": {\"color\": \"black\", \"size\": 15}, \"showarrow\": false, \"text\": \"I = 2.0\", \"x\": 10.0, \"xref\": \"x1\", \"y\": 3.0, \"yref\": \"y1\"}, {\"font\": {\"color\": \"black\", \"size\": 15}, \"showarrow\": false, \"text\": \"I = 4.0\", \"x\": 10.0, \"xref\": \"x1\", \"y\": 0.0, \"yref\": \"y1\"}, {\"font\": {\"color\": \"yellow\", \"size\": 15}, \"showarrow\": false, \"text\": \"I = 20.5\", \"x\": 0.0, \"xref\": \"x1\", \"y\": 0.0, \"yref\": \"y1\"}, {\"font\": {\"color\": \"red\", \"size\": 15}, \"showarrow\": false, \"text\": \"2.0  \", \"x\": 0.5, \"xref\": \"x1\", \"y\": 5.5, \"yref\": \"y1\"}, {\"font\": {\"color\": \"red\", \"size\": 15}, \"showarrow\": false, \"text\": \"3.0  \", \"x\": 2.0, \"xref\": \"x1\", \"y\": 10.5, \"yref\": \"y1\"}, {\"font\": {\"color\": \"red\", \"size\": 15}, \"showarrow\": false, \"text\": \"2.0  \", \"x\": 5.5, \"xref\": \"x1\", \"y\": 2.0, \"yref\": \"y1\"}, {\"font\": {\"color\": \"red\", \"size\": 15}, \"showarrow\": false, \"text\": \"3.0  \", \"x\": 10.5, \"xref\": \"x1\", \"y\": 2.0, \"yref\": \"y1\"}], \"title\": \"WFP Inventory problem        Cost = 420.0          Total Cost = 4280.0\"}], \"label\": \"t = 11 (before lunch)\", \"method\": \"update\"}, {\"args\": [{\"visible\": [true, true, false, false, false, false, false, false, false, false, false, false, false, true, true, true, false, false, false]}, {\"annotations\": [{\"font\": {\"color\": \"black\", \"size\": 15}, \"showarrow\": false, \"text\": \"I = 1.0\", \"x\": 0.0, \"xref\": \"x1\", \"y\": 10.0, \"yref\": \"y1\"}, {\"font\": {\"color\": \"black\", \"size\": 15}, \"showarrow\": false, \"text\": \"I = 3.0\", \"x\": 3.0, \"xref\": \"x1\", \"y\": 10.0, \"yref\": \"y1\"}, {\"font\": {\"color\": \"black\", \"size\": 15}, \"showarrow\": false, \"text\": \"I = 2.0\", \"x\": 10.0, \"xref\": \"x1\", \"y\": 3.0, \"yref\": \"y1\"}, {\"font\": {\"color\": \"black\", \"size\": 15}, \"showarrow\": false, \"text\": \"I = 2.5\", \"x\": 10.0, \"xref\": \"x1\", \"y\": 0.0, \"yref\": \"y1\"}, {\"font\": {\"color\": \"yellow\", \"size\": 15}, \"showarrow\": false, \"text\": \"I = 15.5\", \"x\": 0.0, \"xref\": \"x1\", \"y\": 0.0, \"yref\": \"y1\"}, {\"font\": {\"color\": \"red\", \"size\": 15}, \"showarrow\": false, \"text\": \"3.0  \", \"x\": 2.0, \"xref\": \"x1\", \"y\": 5.5, \"yref\": \"y1\"}, {\"font\": {\"color\": \"red\", \"size\": 15}, \"showarrow\": false, \"text\": \"2.0  \", \"x\": 7.0, \"xref\": \"x1\", \"y\": 7.0, \"yref\": \"y1\"}], \"title\": \"WFP Inventory problem        Cost = 340.0          Total Cost = 4620.0\"}], \"label\": \"t = 12 (before lunch)\", \"method\": \"update\"}, {\"args\": [{\"visible\": [true, true, false, false, false, false, false, false, false, false, true, true, true, false, false, false, true, true, true]}, {\"annotations\": [{\"font\": {\"color\": \"black\", \"size\": 15}, \"showarrow\": false, \"text\": \"I = 2.0\", \"x\": 0.0, \"xref\": \"x1\", \"y\": 10.0, \"yref\": \"y1\"}, {\"font\": {\"color\": \"black\", \"size\": 15}, \"showarrow\": false, \"text\": \"I = 3.0\", \"x\": 3.0, \"xref\": \"x1\", \"y\": 10.0, \"yref\": \"y1\"}, {\"font\": {\"color\": \"black\", \"size\": 15}, \"showarrow\": false, \"text\": \"I = 2.0\", \"x\": 10.0, \"xref\": \"x1\", \"y\": 3.0, \"yref\": \"y1\"}, {\"font\": {\"color\": \"black\", \"size\": 15}, \"showarrow\": false, \"text\": \"I = 4.0\", \"x\": 10.0, \"xref\": \"x1\", \"y\": 0.0, \"yref\": \"y1\"}, {\"font\": {\"color\": \"yellow\", \"size\": 15}, \"showarrow\": false, \"text\": \"I = 5.5\", \"x\": 0.0, \"xref\": \"x1\", \"y\": 0.0, \"yref\": \"y1\"}, {\"font\": {\"color\": \"red\", \"size\": 15}, \"showarrow\": false, \"text\": \"2.0  \", \"x\": 0.5, \"xref\": \"x1\", \"y\": 5.5, \"yref\": \"y1\"}, {\"font\": {\"color\": \"red\", \"size\": 15}, \"showarrow\": false, \"text\": \"3.0  \", \"x\": 2.0, \"xref\": \"x1\", \"y\": 10.5, \"yref\": \"y1\"}, {\"font\": {\"color\": \"red\", \"size\": 15}, \"showarrow\": false, \"text\": \"2.0  \", \"x\": 5.5, \"xref\": \"x1\", \"y\": 2.0, \"yref\": \"y1\"}, {\"font\": {\"color\": \"red\", \"size\": 15}, \"showarrow\": false, \"text\": \"3.0  \", \"x\": 10.5, \"xref\": \"x1\", \"y\": 2.0, \"yref\": \"y1\"}], \"title\": \"WFP Inventory problem        Cost = 420.0          Total Cost = 5040.0\"}], \"label\": \"t = 13 (before lunch)\", \"method\": \"update\"}, {\"args\": [{\"visible\": [true, true, false, false, false, false, false, false, false, false, false, false, false, true, true, true, false, false, false]}, {\"annotations\": [{\"font\": {\"color\": \"black\", \"size\": 15}, \"showarrow\": false, \"text\": \"I = 1.0\", \"x\": 0.0, \"xref\": \"x1\", \"y\": 10.0, \"yref\": \"y1\"}, {\"font\": {\"color\": \"black\", \"size\": 15}, \"showarrow\": false, \"text\": \"I = 3.0\", \"x\": 3.0, \"xref\": \"x1\", \"y\": 10.0, \"yref\": \"y1\"}, {\"font\": {\"color\": \"black\", \"size\": 15}, \"showarrow\": false, \"text\": \"I = 2.0\", \"x\": 10.0, \"xref\": \"x1\", \"y\": 3.0, \"yref\": \"y1\"}, {\"font\": {\"color\": \"black\", \"size\": 15}, \"showarrow\": false, \"text\": \"I = 2.5\", \"x\": 10.0, \"xref\": \"x1\", \"y\": 0.0, \"yref\": \"y1\"}, {\"font\": {\"color\": \"yellow\", \"size\": 15}, \"showarrow\": false, \"text\": \"I = 0.5\", \"x\": 0.0, \"xref\": \"x1\", \"y\": 0.0, \"yref\": \"y1\"}, {\"font\": {\"color\": \"red\", \"size\": 15}, \"showarrow\": false, \"text\": \"3.0  \", \"x\": 2.0, \"xref\": \"x1\", \"y\": 5.5, \"yref\": \"y1\"}, {\"font\": {\"color\": \"red\", \"size\": 15}, \"showarrow\": false, \"text\": \"2.0  \", \"x\": 7.0, \"xref\": \"x1\", \"y\": 7.0, \"yref\": \"y1\"}], \"title\": \"WFP Inventory problem        Cost = 340.0          Total Cost = 5380.0\"}], \"label\": \"t = 14 (before lunch)\", \"method\": \"update\"}, {\"args\": [{\"visible\": [true, true, false, false, false, false, false, false, false, false, true, true, true, false, false, false, true, true, true]}, {\"annotations\": [{\"font\": {\"color\": \"black\", \"size\": 15}, \"showarrow\": false, \"text\": \"I = 1.0\", \"x\": 0.0, \"xref\": \"x1\", \"y\": 10.0, \"yref\": \"y1\"}, {\"font\": {\"color\": \"black\", \"size\": 15}, \"showarrow\": false, \"text\": \"I = 3.0\", \"x\": 3.0, \"xref\": \"x1\", \"y\": 10.0, \"yref\": \"y1\"}, {\"font\": {\"color\": \"black\", \"size\": 15}, \"showarrow\": false, \"text\": \"I = 2.0\", \"x\": 10.0, \"xref\": \"x1\", \"y\": 3.0, \"yref\": \"y1\"}, {\"font\": {\"color\": \"black\", \"size\": 15}, \"showarrow\": false, \"text\": \"I = 2.5\", \"x\": 10.0, \"xref\": \"x1\", \"y\": 0.0, \"yref\": \"y1\"}, {\"font\": {\"color\": \"yellow\", \"size\": 15}, \"showarrow\": false, \"text\": \"I = -7.0\", \"x\": 0.0, \"xref\": \"x1\", \"y\": 0.0, \"yref\": \"y1\"}, {\"font\": {\"color\": \"red\", \"size\": 15}, \"showarrow\": false, \"text\": \"1.0  \", \"x\": 0.5, \"xref\": \"x1\", \"y\": 5.5, \"yref\": \"y1\"}, {\"font\": {\"color\": \"red\", \"size\": 15}, \"showarrow\": false, \"text\": \"3.0  \", \"x\": 2.0, \"xref\": \"x1\", \"y\": 10.5, \"yref\": \"y1\"}, {\"font\": {\"color\": \"red\", \"size\": 15}, \"showarrow\": false, \"text\": \"2.0  \", \"x\": 5.5, \"xref\": \"x1\", \"y\": 2.0, \"yref\": \"y1\"}, {\"font\": {\"color\": \"red\", \"size\": 15}, \"showarrow\": false, \"text\": \"1.5  \", \"x\": 10.5, \"xref\": \"x1\", \"y\": 2.0, \"yref\": \"y1\"}], \"title\": \"WFP Inventory problem        Cost = 420.0          Total Cost = 5800.0\"}], \"label\": \"t = 15 (before lunch)\", \"method\": \"update\"}, {\"args\": [{\"visible\": [true, true, false, false, false, false, false, false, false, false, true, true, true, false, false, false, true, true, true]}, {\"annotations\": [{\"font\": {\"color\": \"black\", \"size\": 15}, \"showarrow\": false, \"text\": \"I = 2.0\", \"x\": 0.0, \"xref\": \"x1\", \"y\": 10.0, \"yref\": \"y1\"}, {\"font\": {\"color\": \"black\", \"size\": 15}, \"showarrow\": false, \"text\": \"I = 3.0\", \"x\": 3.0, \"xref\": \"x1\", \"y\": 10.0, \"yref\": \"y1\"}, {\"font\": {\"color\": \"black\", \"size\": 15}, \"showarrow\": false, \"text\": \"I = 2.0\", \"x\": 10.0, \"xref\": \"x1\", \"y\": 3.0, \"yref\": \"y1\"}, {\"font\": {\"color\": \"black\", \"size\": 15}, \"showarrow\": false, \"text\": \"I = 4.0\", \"x\": 10.0, \"xref\": \"x1\", \"y\": 0.0, \"yref\": \"y1\"}, {\"font\": {\"color\": \"yellow\", \"size\": 15}, \"showarrow\": false, \"text\": \"I = -17.0\", \"x\": 0.0, \"xref\": \"x1\", \"y\": 0.0, \"yref\": \"y1\"}, {\"font\": {\"color\": \"red\", \"size\": 15}, \"showarrow\": false, \"text\": \"2.0  \", \"x\": 0.5, \"xref\": \"x1\", \"y\": 5.5, \"yref\": \"y1\"}, {\"font\": {\"color\": \"red\", \"size\": 15}, \"showarrow\": false, \"text\": \"3.0  \", \"x\": 2.0, \"xref\": \"x1\", \"y\": 10.5, \"yref\": \"y1\"}, {\"font\": {\"color\": \"red\", \"size\": 15}, \"showarrow\": false, \"text\": \"2.0  \", \"x\": 5.5, \"xref\": \"x1\", \"y\": 2.0, \"yref\": \"y1\"}, {\"font\": {\"color\": \"red\", \"size\": 15}, \"showarrow\": false, \"text\": \"3.0  \", \"x\": 10.5, \"xref\": \"x1\", \"y\": 2.0, \"yref\": \"y1\"}], \"title\": \"WFP Inventory problem        Cost = 420.0          Total Cost = 6220.0\"}], \"label\": \"t = 16 (before lunch)\", \"method\": \"update\"}, {\"args\": [{\"visible\": [true, true, false, false, false, false, false, false, false, false, false, false, false, true, true, true, false, false, false]}, {\"annotations\": [{\"font\": {\"color\": \"black\", \"size\": 15}, \"showarrow\": false, \"text\": \"I = 1.0\", \"x\": 0.0, \"xref\": \"x1\", \"y\": 10.0, \"yref\": \"y1\"}, {\"font\": {\"color\": \"black\", \"size\": 15}, \"showarrow\": false, \"text\": \"I = 3.0\", \"x\": 3.0, \"xref\": \"x1\", \"y\": 10.0, \"yref\": \"y1\"}, {\"font\": {\"color\": \"black\", \"size\": 15}, \"showarrow\": false, \"text\": \"I = 2.0\", \"x\": 10.0, \"xref\": \"x1\", \"y\": 3.0, \"yref\": \"y1\"}, {\"font\": {\"color\": \"black\", \"size\": 15}, \"showarrow\": false, \"text\": \"I = 2.5\", \"x\": 10.0, \"xref\": \"x1\", \"y\": 0.0, \"yref\": \"y1\"}, {\"font\": {\"color\": \"yellow\", \"size\": 15}, \"showarrow\": false, \"text\": \"I = -22.0\", \"x\": 0.0, \"xref\": \"x1\", \"y\": 0.0, \"yref\": \"y1\"}, {\"font\": {\"color\": \"red\", \"size\": 15}, \"showarrow\": false, \"text\": \"3.0  \", \"x\": 2.0, \"xref\": \"x1\", \"y\": 5.5, \"yref\": \"y1\"}, {\"font\": {\"color\": \"red\", \"size\": 15}, \"showarrow\": false, \"text\": \"2.0  \", \"x\": 7.0, \"xref\": \"x1\", \"y\": 7.0, \"yref\": \"y1\"}], \"title\": \"WFP Inventory problem        Cost = 340.0          Total Cost = 6560.0\"}], \"label\": \"t = 17 (before lunch)\", \"method\": \"update\"}, {\"args\": [{\"visible\": [true, true, false, false, false, false, false, false, false, false, true, true, true, false, false, false, true, true, true]}, {\"annotations\": [{\"font\": {\"color\": \"black\", \"size\": 15}, \"showarrow\": false, \"text\": \"I = 2.0\", \"x\": 0.0, \"xref\": \"x1\", \"y\": 10.0, \"yref\": \"y1\"}, {\"font\": {\"color\": \"black\", \"size\": 15}, \"showarrow\": false, \"text\": \"I = 3.0\", \"x\": 3.0, \"xref\": \"x1\", \"y\": 10.0, \"yref\": \"y1\"}, {\"font\": {\"color\": \"black\", \"size\": 15}, \"showarrow\": false, \"text\": \"I = 2.0\", \"x\": 10.0, \"xref\": \"x1\", \"y\": 3.0, \"yref\": \"y1\"}, {\"font\": {\"color\": \"black\", \"size\": 15}, \"showarrow\": false, \"text\": \"I = 4.0\", \"x\": 10.0, \"xref\": \"x1\", \"y\": 0.0, \"yref\": \"y1\"}, {\"font\": {\"color\": \"yellow\", \"size\": 15}, \"showarrow\": false, \"text\": \"I = -32.0\", \"x\": 0.0, \"xref\": \"x1\", \"y\": 0.0, \"yref\": \"y1\"}, {\"font\": {\"color\": \"red\", \"size\": 15}, \"showarrow\": false, \"text\": \"2.0  \", \"x\": 0.5, \"xref\": \"x1\", \"y\": 5.5, \"yref\": \"y1\"}, {\"font\": {\"color\": \"red\", \"size\": 15}, \"showarrow\": false, \"text\": \"3.0  \", \"x\": 2.0, \"xref\": \"x1\", \"y\": 10.5, \"yref\": \"y1\"}, {\"font\": {\"color\": \"red\", \"size\": 15}, \"showarrow\": false, \"text\": \"2.0  \", \"x\": 5.5, \"xref\": \"x1\", \"y\": 2.0, \"yref\": \"y1\"}, {\"font\": {\"color\": \"red\", \"size\": 15}, \"showarrow\": false, \"text\": \"3.0  \", \"x\": 10.5, \"xref\": \"x1\", \"y\": 2.0, \"yref\": \"y1\"}], \"title\": \"WFP Inventory problem        Cost = 420.0          Total Cost = 6980.0\"}], \"label\": \"t = 18 (before lunch)\", \"method\": \"update\"}, {\"args\": [{\"visible\": [true, true, false, false, false, false, false, false, false, false, false, false, false, true, true, true, false, false, false]}, {\"annotations\": [{\"font\": {\"color\": \"black\", \"size\": 15}, \"showarrow\": false, \"text\": \"I = 1.0\", \"x\": 0.0, \"xref\": \"x1\", \"y\": 10.0, \"yref\": \"y1\"}, {\"font\": {\"color\": \"black\", \"size\": 15}, \"showarrow\": false, \"text\": \"I = 3.0\", \"x\": 3.0, \"xref\": \"x1\", \"y\": 10.0, \"yref\": \"y1\"}, {\"font\": {\"color\": \"black\", \"size\": 15}, \"showarrow\": false, \"text\": \"I = 2.0\", \"x\": 10.0, \"xref\": \"x1\", \"y\": 3.0, \"yref\": \"y1\"}, {\"font\": {\"color\": \"black\", \"size\": 15}, \"showarrow\": false, \"text\": \"I = 2.5\", \"x\": 10.0, \"xref\": \"x1\", \"y\": 0.0, \"yref\": \"y1\"}, {\"font\": {\"color\": \"yellow\", \"size\": 15}, \"showarrow\": false, \"text\": \"I = -37.0\", \"x\": 0.0, \"xref\": \"x1\", \"y\": 0.0, \"yref\": \"y1\"}, {\"font\": {\"color\": \"red\", \"size\": 15}, \"showarrow\": false, \"text\": \"3.0  \", \"x\": 2.0, \"xref\": \"x1\", \"y\": 5.5, \"yref\": \"y1\"}, {\"font\": {\"color\": \"red\", \"size\": 15}, \"showarrow\": false, \"text\": \"2.0  \", \"x\": 7.0, \"xref\": \"x1\", \"y\": 7.0, \"yref\": \"y1\"}], \"title\": \"WFP Inventory problem        Cost = 340.0          Total Cost = 7320.0\"}], \"label\": \"t = 19 (before lunch)\", \"method\": \"update\"}, {\"args\": [{\"visible\": [true, true, false, false, false, false, false, false, false, false, true, true, true, false, false, false, true, true, true]}, {\"annotations\": [{\"font\": {\"color\": \"black\", \"size\": 15}, \"showarrow\": false, \"text\": \"I = 1.0\", \"x\": 0.0, \"xref\": \"x1\", \"y\": 10.0, \"yref\": \"y1\"}, {\"font\": {\"color\": \"black\", \"size\": 15}, \"showarrow\": false, \"text\": \"I = 3.0\", \"x\": 3.0, \"xref\": \"x1\", \"y\": 10.0, \"yref\": \"y1\"}, {\"font\": {\"color\": \"black\", \"size\": 15}, \"showarrow\": false, \"text\": \"I = 2.0\", \"x\": 10.0, \"xref\": \"x1\", \"y\": 3.0, \"yref\": \"y1\"}, {\"font\": {\"color\": \"black\", \"size\": 15}, \"showarrow\": false, \"text\": \"I = 2.5\", \"x\": 10.0, \"xref\": \"x1\", \"y\": 0.0, \"yref\": \"y1\"}, {\"font\": {\"color\": \"yellow\", \"size\": 15}, \"showarrow\": false, \"text\": \"I = -44.5\", \"x\": 0.0, \"xref\": \"x1\", \"y\": 0.0, \"yref\": \"y1\"}, {\"font\": {\"color\": \"red\", \"size\": 15}, \"showarrow\": false, \"text\": \"1.0  \", \"x\": 0.5, \"xref\": \"x1\", \"y\": 5.5, \"yref\": \"y1\"}, {\"font\": {\"color\": \"red\", \"size\": 15}, \"showarrow\": false, \"text\": \"3.0  \", \"x\": 2.0, \"xref\": \"x1\", \"y\": 10.5, \"yref\": \"y1\"}, {\"font\": {\"color\": \"red\", \"size\": 15}, \"showarrow\": false, \"text\": \"2.0  \", \"x\": 5.5, \"xref\": \"x1\", \"y\": 2.0, \"yref\": \"y1\"}, {\"font\": {\"color\": \"red\", \"size\": 15}, \"showarrow\": false, \"text\": \"1.5  \", \"x\": 10.5, \"xref\": \"x1\", \"y\": 2.0, \"yref\": \"y1\"}], \"title\": \"WFP Inventory problem        Cost = 420.0          Total Cost = 7740.0\"}], \"label\": \"t = 20 (before lunch)\", \"method\": \"update\"}, {\"args\": [{\"visible\": [true, true, false, false, false, false, false, false, false, false, true, true, true, false, false, false, true, true, true]}, {\"annotations\": [{\"font\": {\"color\": \"black\", \"size\": 15}, \"showarrow\": false, \"text\": \"I = 2.0\", \"x\": 0.0, \"xref\": \"x1\", \"y\": 10.0, \"yref\": \"y1\"}, {\"font\": {\"color\": \"black\", \"size\": 15}, \"showarrow\": false, \"text\": \"I = 3.0\", \"x\": 3.0, \"xref\": \"x1\", \"y\": 10.0, \"yref\": \"y1\"}, {\"font\": {\"color\": \"black\", \"size\": 15}, \"showarrow\": false, \"text\": \"I = 2.0\", \"x\": 10.0, \"xref\": \"x1\", \"y\": 3.0, \"yref\": \"y1\"}, {\"font\": {\"color\": \"black\", \"size\": 15}, \"showarrow\": false, \"text\": \"I = 4.0\", \"x\": 10.0, \"xref\": \"x1\", \"y\": 0.0, \"yref\": \"y1\"}, {\"font\": {\"color\": \"yellow\", \"size\": 15}, \"showarrow\": false, \"text\": \"I = -54.5\", \"x\": 0.0, \"xref\": \"x1\", \"y\": 0.0, \"yref\": \"y1\"}, {\"font\": {\"color\": \"red\", \"size\": 15}, \"showarrow\": false, \"text\": \"2.0  \", \"x\": 0.5, \"xref\": \"x1\", \"y\": 5.5, \"yref\": \"y1\"}, {\"font\": {\"color\": \"red\", \"size\": 15}, \"showarrow\": false, \"text\": \"3.0  \", \"x\": 2.0, \"xref\": \"x1\", \"y\": 10.5, \"yref\": \"y1\"}, {\"font\": {\"color\": \"red\", \"size\": 15}, \"showarrow\": false, \"text\": \"2.0  \", \"x\": 5.5, \"xref\": \"x1\", \"y\": 2.0, \"yref\": \"y1\"}, {\"font\": {\"color\": \"red\", \"size\": 15}, \"showarrow\": false, \"text\": \"3.0  \", \"x\": 10.5, \"xref\": \"x1\", \"y\": 2.0, \"yref\": \"y1\"}], \"title\": \"WFP Inventory problem        Cost = 420.0          Total Cost = 8160.0\"}], \"label\": \"t = 21 (before lunch)\", \"method\": \"update\"}, {\"args\": [{\"visible\": [true, true, false, false, false, false, false, false, false, false, false, false, false, true, true, true, false, false, false]}, {\"annotations\": [{\"font\": {\"color\": \"black\", \"size\": 15}, \"showarrow\": false, \"text\": \"I = 1.0\", \"x\": 0.0, \"xref\": \"x1\", \"y\": 10.0, \"yref\": \"y1\"}, {\"font\": {\"color\": \"black\", \"size\": 15}, \"showarrow\": false, \"text\": \"I = 3.0\", \"x\": 3.0, \"xref\": \"x1\", \"y\": 10.0, \"yref\": \"y1\"}, {\"font\": {\"color\": \"black\", \"size\": 15}, \"showarrow\": false, \"text\": \"I = 2.0\", \"x\": 10.0, \"xref\": \"x1\", \"y\": 3.0, \"yref\": \"y1\"}, {\"font\": {\"color\": \"black\", \"size\": 15}, \"showarrow\": false, \"text\": \"I = 2.5\", \"x\": 10.0, \"xref\": \"x1\", \"y\": 0.0, \"yref\": \"y1\"}, {\"font\": {\"color\": \"yellow\", \"size\": 15}, \"showarrow\": false, \"text\": \"I = -59.5\", \"x\": 0.0, \"xref\": \"x1\", \"y\": 0.0, \"yref\": \"y1\"}, {\"font\": {\"color\": \"red\", \"size\": 15}, \"showarrow\": false, \"text\": \"3.0  \", \"x\": 2.0, \"xref\": \"x1\", \"y\": 5.5, \"yref\": \"y1\"}, {\"font\": {\"color\": \"red\", \"size\": 15}, \"showarrow\": false, \"text\": \"2.0  \", \"x\": 7.0, \"xref\": \"x1\", \"y\": 7.0, \"yref\": \"y1\"}], \"title\": \"WFP Inventory problem        Cost = 340.0          Total Cost = 8500.0\"}], \"label\": \"t = 22 (before lunch)\", \"method\": \"update\"}, {\"args\": [{\"visible\": [true, true, false, false, false, false, false, false, false, false, true, true, true, false, false, false, true, true, true]}, {\"annotations\": [{\"font\": {\"color\": \"black\", \"size\": 15}, \"showarrow\": false, \"text\": \"I = 2.0\", \"x\": 0.0, \"xref\": \"x1\", \"y\": 10.0, \"yref\": \"y1\"}, {\"font\": {\"color\": \"black\", \"size\": 15}, \"showarrow\": false, \"text\": \"I = 3.0\", \"x\": 3.0, \"xref\": \"x1\", \"y\": 10.0, \"yref\": \"y1\"}, {\"font\": {\"color\": \"black\", \"size\": 15}, \"showarrow\": false, \"text\": \"I = 2.0\", \"x\": 10.0, \"xref\": \"x1\", \"y\": 3.0, \"yref\": \"y1\"}, {\"font\": {\"color\": \"black\", \"size\": 15}, \"showarrow\": false, \"text\": \"I = 4.0\", \"x\": 10.0, \"xref\": \"x1\", \"y\": 0.0, \"yref\": \"y1\"}, {\"font\": {\"color\": \"yellow\", \"size\": 15}, \"showarrow\": false, \"text\": \"I = -69.5\", \"x\": 0.0, \"xref\": \"x1\", \"y\": 0.0, \"yref\": \"y1\"}, {\"font\": {\"color\": \"red\", \"size\": 15}, \"showarrow\": false, \"text\": \"2.0  \", \"x\": 0.5, \"xref\": \"x1\", \"y\": 5.5, \"yref\": \"y1\"}, {\"font\": {\"color\": \"red\", \"size\": 15}, \"showarrow\": false, \"text\": \"3.0  \", \"x\": 2.0, \"xref\": \"x1\", \"y\": 10.5, \"yref\": \"y1\"}, {\"font\": {\"color\": \"red\", \"size\": 15}, \"showarrow\": false, \"text\": \"2.0  \", \"x\": 5.5, \"xref\": \"x1\", \"y\": 2.0, \"yref\": \"y1\"}, {\"font\": {\"color\": \"red\", \"size\": 15}, \"showarrow\": false, \"text\": \"3.0  \", \"x\": 10.5, \"xref\": \"x1\", \"y\": 2.0, \"yref\": \"y1\"}], \"title\": \"WFP Inventory problem        Cost = 420.0          Total Cost = 8920.0\"}], \"label\": \"t = 23 (before lunch)\", \"method\": \"update\"}, {\"args\": [{\"visible\": [true, true, false, false, false, false, false, false, false, false, false, false, false, true, true, true, false, false, false]}, {\"annotations\": [{\"font\": {\"color\": \"black\", \"size\": 15}, \"showarrow\": false, \"text\": \"I = 1.0\", \"x\": 0.0, \"xref\": \"x1\", \"y\": 10.0, \"yref\": \"y1\"}, {\"font\": {\"color\": \"black\", \"size\": 15}, \"showarrow\": false, \"text\": \"I = 3.0\", \"x\": 3.0, \"xref\": \"x1\", \"y\": 10.0, \"yref\": \"y1\"}, {\"font\": {\"color\": \"black\", \"size\": 15}, \"showarrow\": false, \"text\": \"I = 2.0\", \"x\": 10.0, \"xref\": \"x1\", \"y\": 3.0, \"yref\": \"y1\"}, {\"font\": {\"color\": \"black\", \"size\": 15}, \"showarrow\": false, \"text\": \"I = 2.5\", \"x\": 10.0, \"xref\": \"x1\", \"y\": 0.0, \"yref\": \"y1\"}, {\"font\": {\"color\": \"yellow\", \"size\": 15}, \"showarrow\": false, \"text\": \"I = -74.5\", \"x\": 0.0, \"xref\": \"x1\", \"y\": 0.0, \"yref\": \"y1\"}, {\"font\": {\"color\": \"red\", \"size\": 15}, \"showarrow\": false, \"text\": \"3.0  \", \"x\": 2.0, \"xref\": \"x1\", \"y\": 5.5, \"yref\": \"y1\"}, {\"font\": {\"color\": \"red\", \"size\": 15}, \"showarrow\": false, \"text\": \"2.0  \", \"x\": 7.0, \"xref\": \"x1\", \"y\": 7.0, \"yref\": \"y1\"}], \"title\": \"WFP Inventory problem        Cost = 340.0          Total Cost = 9260.0\"}], \"label\": \"t = 24 (before lunch)\", \"method\": \"update\"}, {\"args\": [{\"visible\": [true, true, false, false, false, false, false, false, false, false, true, true, true, false, false, false, true, true, true]}, {\"annotations\": [{\"font\": {\"color\": \"black\", \"size\": 15}, \"showarrow\": false, \"text\": \"I = 1.0\", \"x\": 0.0, \"xref\": \"x1\", \"y\": 10.0, \"yref\": \"y1\"}, {\"font\": {\"color\": \"black\", \"size\": 15}, \"showarrow\": false, \"text\": \"I = 3.0\", \"x\": 3.0, \"xref\": \"x1\", \"y\": 10.0, \"yref\": \"y1\"}, {\"font\": {\"color\": \"black\", \"size\": 15}, \"showarrow\": false, \"text\": \"I = 2.0\", \"x\": 10.0, \"xref\": \"x1\", \"y\": 3.0, \"yref\": \"y1\"}, {\"font\": {\"color\": \"black\", \"size\": 15}, \"showarrow\": false, \"text\": \"I = 2.5\", \"x\": 10.0, \"xref\": \"x1\", \"y\": 0.0, \"yref\": \"y1\"}, {\"font\": {\"color\": \"yellow\", \"size\": 15}, \"showarrow\": false, \"text\": \"I = -82.0\", \"x\": 0.0, \"xref\": \"x1\", \"y\": 0.0, \"yref\": \"y1\"}, {\"font\": {\"color\": \"red\", \"size\": 15}, \"showarrow\": false, \"text\": \"1.0  \", \"x\": 0.5, \"xref\": \"x1\", \"y\": 5.5, \"yref\": \"y1\"}, {\"font\": {\"color\": \"red\", \"size\": 15}, \"showarrow\": false, \"text\": \"3.0  \", \"x\": 2.0, \"xref\": \"x1\", \"y\": 10.5, \"yref\": \"y1\"}, {\"font\": {\"color\": \"red\", \"size\": 15}, \"showarrow\": false, \"text\": \"2.0  \", \"x\": 5.5, \"xref\": \"x1\", \"y\": 2.0, \"yref\": \"y1\"}, {\"font\": {\"color\": \"red\", \"size\": 15}, \"showarrow\": false, \"text\": \"1.5  \", \"x\": 10.5, \"xref\": \"x1\", \"y\": 2.0, \"yref\": \"y1\"}], \"title\": \"WFP Inventory problem        Cost = 420.0          Total Cost = 9680.0\"}], \"label\": \"t = 25 (before lunch)\", \"method\": \"update\"}, {\"args\": [{\"visible\": [true, true, false, false, false, false, false, false, false, false, true, true, true, false, false, false, true, true, true]}, {\"annotations\": [{\"font\": {\"color\": \"black\", \"size\": 15}, \"showarrow\": false, \"text\": \"I = 2.0\", \"x\": 0.0, \"xref\": \"x1\", \"y\": 10.0, \"yref\": \"y1\"}, {\"font\": {\"color\": \"black\", \"size\": 15}, \"showarrow\": false, \"text\": \"I = 3.0\", \"x\": 3.0, \"xref\": \"x1\", \"y\": 10.0, \"yref\": \"y1\"}, {\"font\": {\"color\": \"black\", \"size\": 15}, \"showarrow\": false, \"text\": \"I = 2.0\", \"x\": 10.0, \"xref\": \"x1\", \"y\": 3.0, \"yref\": \"y1\"}, {\"font\": {\"color\": \"black\", \"size\": 15}, \"showarrow\": false, \"text\": \"I = 4.0\", \"x\": 10.0, \"xref\": \"x1\", \"y\": 0.0, \"yref\": \"y1\"}, {\"font\": {\"color\": \"yellow\", \"size\": 15}, \"showarrow\": false, \"text\": \"I = -92.0\", \"x\": 0.0, \"xref\": \"x1\", \"y\": 0.0, \"yref\": \"y1\"}, {\"font\": {\"color\": \"red\", \"size\": 15}, \"showarrow\": false, \"text\": \"2.0  \", \"x\": 0.5, \"xref\": \"x1\", \"y\": 5.5, \"yref\": \"y1\"}, {\"font\": {\"color\": \"red\", \"size\": 15}, \"showarrow\": false, \"text\": \"3.0  \", \"x\": 2.0, \"xref\": \"x1\", \"y\": 10.5, \"yref\": \"y1\"}, {\"font\": {\"color\": \"red\", \"size\": 15}, \"showarrow\": false, \"text\": \"2.0  \", \"x\": 5.5, \"xref\": \"x1\", \"y\": 2.0, \"yref\": \"y1\"}, {\"font\": {\"color\": \"red\", \"size\": 15}, \"showarrow\": false, \"text\": \"3.0  \", \"x\": 10.5, \"xref\": \"x1\", \"y\": 2.0, \"yref\": \"y1\"}], \"title\": \"WFP Inventory problem        Cost = 420.0          Total Cost = 10100.0\"}], \"label\": \"t = 26 (before lunch)\", \"method\": \"update\"}, {\"args\": [{\"visible\": [true, true, false, false, false, false, false, false, false, false, false, false, false, true, true, true, false, false, false]}, {\"annotations\": [{\"font\": {\"color\": \"black\", \"size\": 15}, \"showarrow\": false, \"text\": \"I = 1.0\", \"x\": 0.0, \"xref\": \"x1\", \"y\": 10.0, \"yref\": \"y1\"}, {\"font\": {\"color\": \"black\", \"size\": 15}, \"showarrow\": false, \"text\": \"I = 3.0\", \"x\": 3.0, \"xref\": \"x1\", \"y\": 10.0, \"yref\": \"y1\"}, {\"font\": {\"color\": \"black\", \"size\": 15}, \"showarrow\": false, \"text\": \"I = 2.0\", \"x\": 10.0, \"xref\": \"x1\", \"y\": 3.0, \"yref\": \"y1\"}, {\"font\": {\"color\": \"black\", \"size\": 15}, \"showarrow\": false, \"text\": \"I = 2.5\", \"x\": 10.0, \"xref\": \"x1\", \"y\": 0.0, \"yref\": \"y1\"}, {\"font\": {\"color\": \"yellow\", \"size\": 15}, \"showarrow\": false, \"text\": \"I = -97.0\", \"x\": 0.0, \"xref\": \"x1\", \"y\": 0.0, \"yref\": \"y1\"}, {\"font\": {\"color\": \"red\", \"size\": 15}, \"showarrow\": false, \"text\": \"3.0  \", \"x\": 2.0, \"xref\": \"x1\", \"y\": 5.5, \"yref\": \"y1\"}, {\"font\": {\"color\": \"red\", \"size\": 15}, \"showarrow\": false, \"text\": \"2.0  \", \"x\": 7.0, \"xref\": \"x1\", \"y\": 7.0, \"yref\": \"y1\"}], \"title\": \"WFP Inventory problem        Cost = 340.0          Total Cost = 10440.0\"}], \"label\": \"t = 27 (before lunch)\", \"method\": \"update\"}, {\"args\": [{\"visible\": [true, true, false, false, false, false, false, false, false, false, true, true, true, false, false, false, true, true, true]}, {\"annotations\": [{\"font\": {\"color\": \"black\", \"size\": 15}, \"showarrow\": false, \"text\": \"I = 2.0\", \"x\": 0.0, \"xref\": \"x1\", \"y\": 10.0, \"yref\": \"y1\"}, {\"font\": {\"color\": \"black\", \"size\": 15}, \"showarrow\": false, \"text\": \"I = 3.0\", \"x\": 3.0, \"xref\": \"x1\", \"y\": 10.0, \"yref\": \"y1\"}, {\"font\": {\"color\": \"black\", \"size\": 15}, \"showarrow\": false, \"text\": \"I = 2.0\", \"x\": 10.0, \"xref\": \"x1\", \"y\": 3.0, \"yref\": \"y1\"}, {\"font\": {\"color\": \"black\", \"size\": 15}, \"showarrow\": false, \"text\": \"I = 4.0\", \"x\": 10.0, \"xref\": \"x1\", \"y\": 0.0, \"yref\": \"y1\"}, {\"font\": {\"color\": \"yellow\", \"size\": 15}, \"showarrow\": false, \"text\": \"I = -107.0\", \"x\": 0.0, \"xref\": \"x1\", \"y\": 0.0, \"yref\": \"y1\"}, {\"font\": {\"color\": \"red\", \"size\": 15}, \"showarrow\": false, \"text\": \"2.0  \", \"x\": 0.5, \"xref\": \"x1\", \"y\": 5.5, \"yref\": \"y1\"}, {\"font\": {\"color\": \"red\", \"size\": 15}, \"showarrow\": false, \"text\": \"3.0  \", \"x\": 2.0, \"xref\": \"x1\", \"y\": 10.5, \"yref\": \"y1\"}, {\"font\": {\"color\": \"red\", \"size\": 15}, \"showarrow\": false, \"text\": \"2.0  \", \"x\": 5.5, \"xref\": \"x1\", \"y\": 2.0, \"yref\": \"y1\"}, {\"font\": {\"color\": \"red\", \"size\": 15}, \"showarrow\": false, \"text\": \"3.0  \", \"x\": 10.5, \"xref\": \"x1\", \"y\": 2.0, \"yref\": \"y1\"}], \"title\": \"WFP Inventory problem        Cost = 420.0          Total Cost = 10860.0\"}], \"label\": \"t = 28 (before lunch)\", \"method\": \"update\"}, {\"args\": [{\"visible\": [true, true, false, false, false, false, false, false, false, false, false, false, false, true, true, true, false, false, false]}, {\"annotations\": [{\"font\": {\"color\": \"black\", \"size\": 15}, \"showarrow\": false, \"text\": \"I = 1.0\", \"x\": 0.0, \"xref\": \"x1\", \"y\": 10.0, \"yref\": \"y1\"}, {\"font\": {\"color\": \"black\", \"size\": 15}, \"showarrow\": false, \"text\": \"I = 3.0\", \"x\": 3.0, \"xref\": \"x1\", \"y\": 10.0, \"yref\": \"y1\"}, {\"font\": {\"color\": \"black\", \"size\": 15}, \"showarrow\": false, \"text\": \"I = 2.0\", \"x\": 10.0, \"xref\": \"x1\", \"y\": 3.0, \"yref\": \"y1\"}, {\"font\": {\"color\": \"black\", \"size\": 15}, \"showarrow\": false, \"text\": \"I = 2.5\", \"x\": 10.0, \"xref\": \"x1\", \"y\": 0.0, \"yref\": \"y1\"}, {\"font\": {\"color\": \"yellow\", \"size\": 15}, \"showarrow\": false, \"text\": \"I = -112.0\", \"x\": 0.0, \"xref\": \"x1\", \"y\": 0.0, \"yref\": \"y1\"}, {\"font\": {\"color\": \"red\", \"size\": 15}, \"showarrow\": false, \"text\": \"3.0  \", \"x\": 2.0, \"xref\": \"x1\", \"y\": 5.5, \"yref\": \"y1\"}, {\"font\": {\"color\": \"red\", \"size\": 15}, \"showarrow\": false, \"text\": \"2.0  \", \"x\": 7.0, \"xref\": \"x1\", \"y\": 7.0, \"yref\": \"y1\"}], \"title\": \"WFP Inventory problem        Cost = 340.0          Total Cost = 11200.0\"}], \"label\": \"t = 29 (before lunch)\", \"method\": \"update\"}], \"direction\": \"up\", \"x\": 0.0, \"y\": 0.0}, {\"buttons\": [{\"args\": [{\"visible\": [true, true, false, false, false, false, false, false, false, false, false, false, false, false, false, false, false, false, false]}, {\"annotations\": [{\"font\": {\"color\": \"black\", \"size\": 15}, \"showarrow\": false, \"text\": \"I = 4.0\", \"x\": 0.0, \"xref\": \"x1\", \"y\": 10.0, \"yref\": \"y1\"}, {\"font\": {\"color\": \"black\", \"size\": 15}, \"showarrow\": false, \"text\": \"I = 0.0\", \"x\": 3.0, \"xref\": \"x1\", \"y\": 10.0, \"yref\": \"y1\"}, {\"font\": {\"color\": \"black\", \"size\": 15}, \"showarrow\": false, \"text\": \"I = 0.0\", \"x\": 10.0, \"xref\": \"x1\", \"y\": 3.0, \"yref\": \"y1\"}, {\"font\": {\"color\": \"black\", \"size\": 15}, \"showarrow\": false, \"text\": \"I = 2.5\", \"x\": 10.0, \"xref\": \"x1\", \"y\": 0.0, \"yref\": \"y1\"}, {\"font\": {\"color\": \"yellow\", \"size\": 15}, \"showarrow\": false, \"text\": \"I = 100\", \"x\": 0.0, \"xref\": \"x1\", \"y\": 0.0, \"yref\": \"y1\"}], \"title\": \"WFP Inventory problem        Cost = 0          Total Cost = 0\"}], \"label\": \"t = 0  (evening)\", \"method\": \"update\"}, {\"args\": [{\"visible\": [true, true, false, false, false, false, false, false, false, false, false, false, false, false, false, false, false, false, false]}, {\"annotations\": [{\"font\": {\"color\": \"black\", \"size\": 15}, \"showarrow\": false, \"text\": \"I = 3.0\", \"x\": 0.0, \"xref\": \"x1\", \"y\": 10.0, \"yref\": \"y1\"}, {\"font\": {\"color\": \"black\", \"size\": 15}, \"showarrow\": false, \"text\": \"I = 0.0\", \"x\": 3.0, \"xref\": \"x1\", \"y\": 10.0, \"yref\": \"y1\"}, {\"font\": {\"color\": \"black\", \"size\": 15}, \"showarrow\": false, \"text\": \"I = 0.0\", \"x\": 10.0, \"xref\": \"x1\", \"y\": 3.0, \"yref\": \"y1\"}, {\"font\": {\"color\": \"black\", \"size\": 15}, \"showarrow\": false, \"text\": \"I = 1.0\", \"x\": 10.0, \"xref\": \"x1\", \"y\": 0.0, \"yref\": \"y1\"}, {\"font\": {\"color\": \"yellow\", \"size\": 15}, \"showarrow\": false, \"text\": \"I = 95.0\", \"x\": 0.0, \"xref\": \"x1\", \"y\": 0.0, \"yref\": \"y1\"}], \"title\": \"WFP Inventory problem        Cost = 340.0          Total Cost = 340.0\"}], \"label\": \"t = 1  (evening)\", \"method\": \"update\"}, {\"args\": [{\"visible\": [true, true, false, false, false, false, false, false, false, false, false, false, false, false, false, false, false, false, false]}, {\"annotations\": [{\"font\": {\"color\": \"black\", \"size\": 15}, \"showarrow\": false, \"text\": \"I = 2.0\", \"x\": 0.0, \"xref\": \"x1\", \"y\": 10.0, \"yref\": \"y1\"}, {\"font\": {\"color\": \"black\", \"size\": 15}, \"showarrow\": false, \"text\": \"I = 0.0\", \"x\": 3.0, \"xref\": \"x1\", \"y\": 10.0, \"yref\": \"y1\"}, {\"font\": {\"color\": \"black\", \"size\": 15}, \"showarrow\": false, \"text\": \"I = 0.0\", \"x\": 10.0, \"xref\": \"x1\", \"y\": 3.0, \"yref\": \"y1\"}, {\"font\": {\"color\": \"black\", \"size\": 15}, \"showarrow\": false, \"text\": \"I = 1.5\", \"x\": 10.0, \"xref\": \"x1\", \"y\": 0.0, \"yref\": \"y1\"}, {\"font\": {\"color\": \"yellow\", \"size\": 15}, \"showarrow\": false, \"text\": \"I = 88.0\", \"x\": 0.0, \"xref\": \"x1\", \"y\": 0.0, \"yref\": \"y1\"}], \"title\": \"WFP Inventory problem        Cost = 410.0          Total Cost = 750.0\"}], \"label\": \"t = 2  (evening)\", \"method\": \"update\"}, {\"args\": [{\"visible\": [true, true, false, false, false, false, false, false, false, false, false, false, false, false, false, false, false, false, false]}, {\"annotations\": [{\"font\": {\"color\": \"black\", \"size\": 15}, \"showarrow\": false, \"text\": \"I = 1.0\", \"x\": 0.0, \"xref\": \"x1\", \"y\": 10.0, \"yref\": \"y1\"}, {\"font\": {\"color\": \"black\", \"size\": 15}, \"showarrow\": false, \"text\": \"I = 0.0\", \"x\": 3.0, \"xref\": \"x1\", \"y\": 10.0, \"yref\": \"y1\"}, {\"font\": {\"color\": \"black\", \"size\": 15}, \"showarrow\": false, \"text\": \"I = 0.0\", \"x\": 10.0, \"xref\": \"x1\", \"y\": 3.0, \"yref\": \"y1\"}, {\"font\": {\"color\": \"black\", \"size\": 15}, \"showarrow\": false, \"text\": \"I = 0.0\", \"x\": 10.0, \"xref\": \"x1\", \"y\": 0.0, \"yref\": \"y1\"}, {\"font\": {\"color\": \"yellow\", \"size\": 15}, \"showarrow\": false, \"text\": \"I = 83.0\", \"x\": 0.0, \"xref\": \"x1\", \"y\": 0.0, \"yref\": \"y1\"}], \"title\": \"WFP Inventory problem        Cost = 340.0          Total Cost = 1090.0\"}], \"label\": \"t = 3  (evening)\", \"method\": \"update\"}, {\"args\": [{\"visible\": [true, true, false, false, false, false, false, false, false, false, false, false, false, false, false, false, false, false, false]}, {\"annotations\": [{\"font\": {\"color\": \"black\", \"size\": 15}, \"showarrow\": false, \"text\": \"I = 0.0\", \"x\": 0.0, \"xref\": \"x1\", \"y\": 10.0, \"yref\": \"y1\"}, {\"font\": {\"color\": \"black\", \"size\": 15}, \"showarrow\": false, \"text\": \"I = 0.0\", \"x\": 3.0, \"xref\": \"x1\", \"y\": 10.0, \"yref\": \"y1\"}, {\"font\": {\"color\": \"black\", \"size\": 15}, \"showarrow\": false, \"text\": \"I = 0.0\", \"x\": 10.0, \"xref\": \"x1\", \"y\": 3.0, \"yref\": \"y1\"}, {\"font\": {\"color\": \"black\", \"size\": 15}, \"showarrow\": false, \"text\": \"I = 0.0\", \"x\": 10.0, \"xref\": \"x1\", \"y\": 0.0, \"yref\": \"y1\"}, {\"font\": {\"color\": \"yellow\", \"size\": 15}, \"showarrow\": false, \"text\": \"I = 76.5\", \"x\": 0.0, \"xref\": \"x1\", \"y\": 0.0, \"yref\": \"y1\"}], \"title\": \"WFP Inventory problem        Cost = 410.0          Total Cost = 1500.0\"}], \"label\": \"t = 4  (evening)\", \"method\": \"update\"}, {\"args\": [{\"visible\": [true, true, false, false, false, false, false, false, false, false, false, false, false, false, false, false, false, false, false]}, {\"annotations\": [{\"font\": {\"color\": \"black\", \"size\": 15}, \"showarrow\": false, \"text\": \"I = 0.0\", \"x\": 0.0, \"xref\": \"x1\", \"y\": 10.0, \"yref\": \"y1\"}, {\"font\": {\"color\": \"black\", \"size\": 15}, \"showarrow\": false, \"text\": \"I = 0.0\", \"x\": 3.0, \"xref\": \"x1\", \"y\": 10.0, \"yref\": \"y1\"}, {\"font\": {\"color\": \"black\", \"size\": 15}, \"showarrow\": false, \"text\": \"I = 0.0\", \"x\": 10.0, \"xref\": \"x1\", \"y\": 3.0, \"yref\": \"y1\"}, {\"font\": {\"color\": \"black\", \"size\": 15}, \"showarrow\": false, \"text\": \"I = 1.0\", \"x\": 10.0, \"xref\": \"x1\", \"y\": 0.0, \"yref\": \"y1\"}, {\"font\": {\"color\": \"yellow\", \"size\": 15}, \"showarrow\": false, \"text\": \"I = 68.0\", \"x\": 0.0, \"xref\": \"x1\", \"y\": 0.0, \"yref\": \"y1\"}], \"title\": \"WFP Inventory problem        Cost = 420.0          Total Cost = 1920.0\"}], \"label\": \"t = 5  (evening)\", \"method\": \"update\"}, {\"args\": [{\"visible\": [true, true, false, false, false, false, false, false, false, false, false, false, false, false, false, false, false, false, false]}, {\"annotations\": [{\"font\": {\"color\": \"black\", \"size\": 15}, \"showarrow\": false, \"text\": \"I = 1.0\", \"x\": 0.0, \"xref\": \"x1\", \"y\": 10.0, \"yref\": \"y1\"}, {\"font\": {\"color\": \"black\", \"size\": 15}, \"showarrow\": false, \"text\": \"I = 0.0\", \"x\": 3.0, \"xref\": \"x1\", \"y\": 10.0, \"yref\": \"y1\"}, {\"font\": {\"color\": \"black\", \"size\": 15}, \"showarrow\": false, \"text\": \"I = 0.0\", \"x\": 10.0, \"xref\": \"x1\", \"y\": 3.0, \"yref\": \"y1\"}, {\"font\": {\"color\": \"black\", \"size\": 15}, \"showarrow\": false, \"text\": \"I = 2.5\", \"x\": 10.0, \"xref\": \"x1\", \"y\": 0.0, \"yref\": \"y1\"}, {\"font\": {\"color\": \"yellow\", \"size\": 15}, \"showarrow\": false, \"text\": \"I = 58.0\", \"x\": 0.0, \"xref\": \"x1\", \"y\": 0.0, \"yref\": \"y1\"}], \"title\": \"WFP Inventory problem        Cost = 420.0          Total Cost = 2340.0\"}], \"label\": \"t = 6  (evening)\", \"method\": \"update\"}, {\"args\": [{\"visible\": [true, true, false, false, false, false, false, false, false, false, false, false, false, false, false, false, false, false, false]}, {\"annotations\": [{\"font\": {\"color\": \"black\", \"size\": 15}, \"showarrow\": false, \"text\": \"I = 0.0\", \"x\": 0.0, \"xref\": \"x1\", \"y\": 10.0, \"yref\": \"y1\"}, {\"font\": {\"color\": \"black\", \"size\": 15}, \"showarrow\": false, \"text\": \"I = 0.0\", \"x\": 3.0, \"xref\": \"x1\", \"y\": 10.0, \"yref\": \"y1\"}, {\"font\": {\"color\": \"black\", \"size\": 15}, \"showarrow\": false, \"text\": \"I = 0.0\", \"x\": 10.0, \"xref\": \"x1\", \"y\": 3.0, \"yref\": \"y1\"}, {\"font\": {\"color\": \"black\", \"size\": 15}, \"showarrow\": false, \"text\": \"I = 1.0\", \"x\": 10.0, \"xref\": \"x1\", \"y\": 0.0, \"yref\": \"y1\"}, {\"font\": {\"color\": \"yellow\", \"size\": 15}, \"showarrow\": false, \"text\": \"I = 53.0\", \"x\": 0.0, \"xref\": \"x1\", \"y\": 0.0, \"yref\": \"y1\"}], \"title\": \"WFP Inventory problem        Cost = 340.0          Total Cost = 2680.0\"}], \"label\": \"t = 7  (evening)\", \"method\": \"update\"}, {\"args\": [{\"visible\": [true, true, false, false, false, false, false, false, false, false, false, false, false, false, false, false, false, false, false]}, {\"annotations\": [{\"font\": {\"color\": \"black\", \"size\": 15}, \"showarrow\": false, \"text\": \"I = 1.0\", \"x\": 0.0, \"xref\": \"x1\", \"y\": 10.0, \"yref\": \"y1\"}, {\"font\": {\"color\": \"black\", \"size\": 15}, \"showarrow\": false, \"text\": \"I = 0.0\", \"x\": 3.0, \"xref\": \"x1\", \"y\": 10.0, \"yref\": \"y1\"}, {\"font\": {\"color\": \"black\", \"size\": 15}, \"showarrow\": false, \"text\": \"I = 0.0\", \"x\": 10.0, \"xref\": \"x1\", \"y\": 3.0, \"yref\": \"y1\"}, {\"font\": {\"color\": \"black\", \"size\": 15}, \"showarrow\": false, \"text\": \"I = 2.5\", \"x\": 10.0, \"xref\": \"x1\", \"y\": 0.0, \"yref\": \"y1\"}, {\"font\": {\"color\": \"yellow\", \"size\": 15}, \"showarrow\": false, \"text\": \"I = 43.0\", \"x\": 0.0, \"xref\": \"x1\", \"y\": 0.0, \"yref\": \"y1\"}], \"title\": \"WFP Inventory problem        Cost = 420.0          Total Cost = 3100.0\"}], \"label\": \"t = 8  (evening)\", \"method\": \"update\"}, {\"args\": [{\"visible\": [true, true, false, false, false, false, false, false, false, false, false, false, false, false, false, false, false, false, false]}, {\"annotations\": [{\"font\": {\"color\": \"black\", \"size\": 15}, \"showarrow\": false, \"text\": \"I = 0.0\", \"x\": 0.0, \"xref\": \"x1\", \"y\": 10.0, \"yref\": \"y1\"}, {\"font\": {\"color\": \"black\", \"size\": 15}, \"showarrow\": false, \"text\": \"I = 0.0\", \"x\": 3.0, \"xref\": \"x1\", \"y\": 10.0, \"yref\": \"y1\"}, {\"font\": {\"color\": \"black\", \"size\": 15}, \"showarrow\": false, \"text\": \"I = 0.0\", \"x\": 10.0, \"xref\": \"x1\", \"y\": 3.0, \"yref\": \"y1\"}, {\"font\": {\"color\": \"black\", \"size\": 15}, \"showarrow\": false, \"text\": \"I = 1.0\", \"x\": 10.0, \"xref\": \"x1\", \"y\": 0.0, \"yref\": \"y1\"}, {\"font\": {\"color\": \"yellow\", \"size\": 15}, \"showarrow\": false, \"text\": \"I = 38.0\", \"x\": 0.0, \"xref\": \"x1\", \"y\": 0.0, \"yref\": \"y1\"}], \"title\": \"WFP Inventory problem        Cost = 340.0          Total Cost = 3440.0\"}], \"label\": \"t = 9  (evening)\", \"method\": \"update\"}, {\"args\": [{\"visible\": [true, true, false, false, false, false, false, false, false, false, false, false, false, false, false, false, false, false, false]}, {\"annotations\": [{\"font\": {\"color\": \"black\", \"size\": 15}, \"showarrow\": false, \"text\": \"I = 0.0\", \"x\": 0.0, \"xref\": \"x1\", \"y\": 10.0, \"yref\": \"y1\"}, {\"font\": {\"color\": \"black\", \"size\": 15}, \"showarrow\": false, \"text\": \"I = 0.0\", \"x\": 3.0, \"xref\": \"x1\", \"y\": 10.0, \"yref\": \"y1\"}, {\"font\": {\"color\": \"black\", \"size\": 15}, \"showarrow\": false, \"text\": \"I = 0.0\", \"x\": 10.0, \"xref\": \"x1\", \"y\": 3.0, \"yref\": \"y1\"}, {\"font\": {\"color\": \"black\", \"size\": 15}, \"showarrow\": false, \"text\": \"I = 1.0\", \"x\": 10.0, \"xref\": \"x1\", \"y\": 0.0, \"yref\": \"y1\"}, {\"font\": {\"color\": \"yellow\", \"size\": 15}, \"showarrow\": false, \"text\": \"I = 30.5\", \"x\": 0.0, \"xref\": \"x1\", \"y\": 0.0, \"yref\": \"y1\"}], \"title\": \"WFP Inventory problem        Cost = 420.0          Total Cost = 3860.0\"}], \"label\": \"t = 10  (evening)\", \"method\": \"update\"}, {\"args\": [{\"visible\": [true, true, false, false, false, false, false, false, false, false, false, false, false, false, false, false, false, false, false]}, {\"annotations\": [{\"font\": {\"color\": \"black\", \"size\": 15}, \"showarrow\": false, \"text\": \"I = 1.0\", \"x\": 0.0, \"xref\": \"x1\", \"y\": 10.0, \"yref\": \"y1\"}, {\"font\": {\"color\": \"black\", \"size\": 15}, \"showarrow\": false, \"text\": \"I = 0.0\", \"x\": 3.0, \"xref\": \"x1\", \"y\": 10.0, \"yref\": \"y1\"}, {\"font\": {\"color\": \"black\", \"size\": 15}, \"showarrow\": false, \"text\": \"I = 0.0\", \"x\": 10.0, \"xref\": \"x1\", \"y\": 3.0, \"yref\": \"y1\"}, {\"font\": {\"color\": \"black\", \"size\": 15}, \"showarrow\": false, \"text\": \"I = 2.5\", \"x\": 10.0, \"xref\": \"x1\", \"y\": 0.0, \"yref\": \"y1\"}, {\"font\": {\"color\": \"yellow\", \"size\": 15}, \"showarrow\": false, \"text\": \"I = 20.5\", \"x\": 0.0, \"xref\": \"x1\", \"y\": 0.0, \"yref\": \"y1\"}], \"title\": \"WFP Inventory problem        Cost = 420.0          Total Cost = 4280.0\"}], \"label\": \"t = 11  (evening)\", \"method\": \"update\"}, {\"args\": [{\"visible\": [true, true, false, false, false, false, false, false, false, false, false, false, false, false, false, false, false, false, false]}, {\"annotations\": [{\"font\": {\"color\": \"black\", \"size\": 15}, \"showarrow\": false, \"text\": \"I = 0.0\", \"x\": 0.0, \"xref\": \"x1\", \"y\": 10.0, \"yref\": \"y1\"}, {\"font\": {\"color\": \"black\", \"size\": 15}, \"showarrow\": false, \"text\": \"I = 0.0\", \"x\": 3.0, \"xref\": \"x1\", \"y\": 10.0, \"yref\": \"y1\"}, {\"font\": {\"color\": \"black\", \"size\": 15}, \"showarrow\": false, \"text\": \"I = 0.0\", \"x\": 10.0, \"xref\": \"x1\", \"y\": 3.0, \"yref\": \"y1\"}, {\"font\": {\"color\": \"black\", \"size\": 15}, \"showarrow\": false, \"text\": \"I = 1.0\", \"x\": 10.0, \"xref\": \"x1\", \"y\": 0.0, \"yref\": \"y1\"}, {\"font\": {\"color\": \"yellow\", \"size\": 15}, \"showarrow\": false, \"text\": \"I = 15.5\", \"x\": 0.0, \"xref\": \"x1\", \"y\": 0.0, \"yref\": \"y1\"}], \"title\": \"WFP Inventory problem        Cost = 340.0          Total Cost = 4620.0\"}], \"label\": \"t = 12  (evening)\", \"method\": \"update\"}, {\"args\": [{\"visible\": [true, true, false, false, false, false, false, false, false, false, false, false, false, false, false, false, false, false, false]}, {\"annotations\": [{\"font\": {\"color\": \"black\", \"size\": 15}, \"showarrow\": false, \"text\": \"I = 1.0\", \"x\": 0.0, \"xref\": \"x1\", \"y\": 10.0, \"yref\": \"y1\"}, {\"font\": {\"color\": \"black\", \"size\": 15}, \"showarrow\": false, \"text\": \"I = 0.0\", \"x\": 3.0, \"xref\": \"x1\", \"y\": 10.0, \"yref\": \"y1\"}, {\"font\": {\"color\": \"black\", \"size\": 15}, \"showarrow\": false, \"text\": \"I = 0.0\", \"x\": 10.0, \"xref\": \"x1\", \"y\": 3.0, \"yref\": \"y1\"}, {\"font\": {\"color\": \"black\", \"size\": 15}, \"showarrow\": false, \"text\": \"I = 2.5\", \"x\": 10.0, \"xref\": \"x1\", \"y\": 0.0, \"yref\": \"y1\"}, {\"font\": {\"color\": \"yellow\", \"size\": 15}, \"showarrow\": false, \"text\": \"I = 5.5\", \"x\": 0.0, \"xref\": \"x1\", \"y\": 0.0, \"yref\": \"y1\"}], \"title\": \"WFP Inventory problem        Cost = 420.0          Total Cost = 5040.0\"}], \"label\": \"t = 13  (evening)\", \"method\": \"update\"}, {\"args\": [{\"visible\": [true, true, false, false, false, false, false, false, false, false, false, false, false, false, false, false, false, false, false]}, {\"annotations\": [{\"font\": {\"color\": \"black\", \"size\": 15}, \"showarrow\": false, \"text\": \"I = 0.0\", \"x\": 0.0, \"xref\": \"x1\", \"y\": 10.0, \"yref\": \"y1\"}, {\"font\": {\"color\": \"black\", \"size\": 15}, \"showarrow\": false, \"text\": \"I = 0.0\", \"x\": 3.0, \"xref\": \"x1\", \"y\": 10.0, \"yref\": \"y1\"}, {\"font\": {\"color\": \"black\", \"size\": 15}, \"showarrow\": false, \"text\": \"I = 0.0\", \"x\": 10.0, \"xref\": \"x1\", \"y\": 3.0, \"yref\": \"y1\"}, {\"font\": {\"color\": \"black\", \"size\": 15}, \"showarrow\": false, \"text\": \"I = 1.0\", \"x\": 10.0, \"xref\": \"x1\", \"y\": 0.0, \"yref\": \"y1\"}, {\"font\": {\"color\": \"yellow\", \"size\": 15}, \"showarrow\": false, \"text\": \"I = 0.5\", \"x\": 0.0, \"xref\": \"x1\", \"y\": 0.0, \"yref\": \"y1\"}], \"title\": \"WFP Inventory problem        Cost = 340.0          Total Cost = 5380.0\"}], \"label\": \"t = 14  (evening)\", \"method\": \"update\"}, {\"args\": [{\"visible\": [true, true, false, false, false, false, false, false, false, false, false, false, false, false, false, false, false, false, false]}, {\"annotations\": [{\"font\": {\"color\": \"black\", \"size\": 15}, \"showarrow\": false, \"text\": \"I = 0.0\", \"x\": 0.0, \"xref\": \"x1\", \"y\": 10.0, \"yref\": \"y1\"}, {\"font\": {\"color\": \"black\", \"size\": 15}, \"showarrow\": false, \"text\": \"I = 0.0\", \"x\": 3.0, \"xref\": \"x1\", \"y\": 10.0, \"yref\": \"y1\"}, {\"font\": {\"color\": \"black\", \"size\": 15}, \"showarrow\": false, \"text\": \"I = 0.0\", \"x\": 10.0, \"xref\": \"x1\", \"y\": 3.0, \"yref\": \"y1\"}, {\"font\": {\"color\": \"black\", \"size\": 15}, \"showarrow\": false, \"text\": \"I = 1.0\", \"x\": 10.0, \"xref\": \"x1\", \"y\": 0.0, \"yref\": \"y1\"}, {\"font\": {\"color\": \"yellow\", \"size\": 15}, \"showarrow\": false, \"text\": \"I = -7.0\", \"x\": 0.0, \"xref\": \"x1\", \"y\": 0.0, \"yref\": \"y1\"}], \"title\": \"WFP Inventory problem        Cost = 420.0          Total Cost = 5800.0\"}], \"label\": \"t = 15  (evening)\", \"method\": \"update\"}, {\"args\": [{\"visible\": [true, true, false, false, false, false, false, false, false, false, false, false, false, false, false, false, false, false, false]}, {\"annotations\": [{\"font\": {\"color\": \"black\", \"size\": 15}, \"showarrow\": false, \"text\": \"I = 1.0\", \"x\": 0.0, \"xref\": \"x1\", \"y\": 10.0, \"yref\": \"y1\"}, {\"font\": {\"color\": \"black\", \"size\": 15}, \"showarrow\": false, \"text\": \"I = 0.0\", \"x\": 3.0, \"xref\": \"x1\", \"y\": 10.0, \"yref\": \"y1\"}, {\"font\": {\"color\": \"black\", \"size\": 15}, \"showarrow\": false, \"text\": \"I = 0.0\", \"x\": 10.0, \"xref\": \"x1\", \"y\": 3.0, \"yref\": \"y1\"}, {\"font\": {\"color\": \"black\", \"size\": 15}, \"showarrow\": false, \"text\": \"I = 2.5\", \"x\": 10.0, \"xref\": \"x1\", \"y\": 0.0, \"yref\": \"y1\"}, {\"font\": {\"color\": \"yellow\", \"size\": 15}, \"showarrow\": false, \"text\": \"I = -17.0\", \"x\": 0.0, \"xref\": \"x1\", \"y\": 0.0, \"yref\": \"y1\"}], \"title\": \"WFP Inventory problem        Cost = 420.0          Total Cost = 6220.0\"}], \"label\": \"t = 16  (evening)\", \"method\": \"update\"}, {\"args\": [{\"visible\": [true, true, false, false, false, false, false, false, false, false, false, false, false, false, false, false, false, false, false]}, {\"annotations\": [{\"font\": {\"color\": \"black\", \"size\": 15}, \"showarrow\": false, \"text\": \"I = 0.0\", \"x\": 0.0, \"xref\": \"x1\", \"y\": 10.0, \"yref\": \"y1\"}, {\"font\": {\"color\": \"black\", \"size\": 15}, \"showarrow\": false, \"text\": \"I = 0.0\", \"x\": 3.0, \"xref\": \"x1\", \"y\": 10.0, \"yref\": \"y1\"}, {\"font\": {\"color\": \"black\", \"size\": 15}, \"showarrow\": false, \"text\": \"I = 0.0\", \"x\": 10.0, \"xref\": \"x1\", \"y\": 3.0, \"yref\": \"y1\"}, {\"font\": {\"color\": \"black\", \"size\": 15}, \"showarrow\": false, \"text\": \"I = 1.0\", \"x\": 10.0, \"xref\": \"x1\", \"y\": 0.0, \"yref\": \"y1\"}, {\"font\": {\"color\": \"yellow\", \"size\": 15}, \"showarrow\": false, \"text\": \"I = -22.0\", \"x\": 0.0, \"xref\": \"x1\", \"y\": 0.0, \"yref\": \"y1\"}], \"title\": \"WFP Inventory problem        Cost = 340.0          Total Cost = 6560.0\"}], \"label\": \"t = 17  (evening)\", \"method\": \"update\"}, {\"args\": [{\"visible\": [true, true, false, false, false, false, false, false, false, false, false, false, false, false, false, false, false, false, false]}, {\"annotations\": [{\"font\": {\"color\": \"black\", \"size\": 15}, \"showarrow\": false, \"text\": \"I = 1.0\", \"x\": 0.0, \"xref\": \"x1\", \"y\": 10.0, \"yref\": \"y1\"}, {\"font\": {\"color\": \"black\", \"size\": 15}, \"showarrow\": false, \"text\": \"I = 0.0\", \"x\": 3.0, \"xref\": \"x1\", \"y\": 10.0, \"yref\": \"y1\"}, {\"font\": {\"color\": \"black\", \"size\": 15}, \"showarrow\": false, \"text\": \"I = 0.0\", \"x\": 10.0, \"xref\": \"x1\", \"y\": 3.0, \"yref\": \"y1\"}, {\"font\": {\"color\": \"black\", \"size\": 15}, \"showarrow\": false, \"text\": \"I = 2.5\", \"x\": 10.0, \"xref\": \"x1\", \"y\": 0.0, \"yref\": \"y1\"}, {\"font\": {\"color\": \"yellow\", \"size\": 15}, \"showarrow\": false, \"text\": \"I = -32.0\", \"x\": 0.0, \"xref\": \"x1\", \"y\": 0.0, \"yref\": \"y1\"}], \"title\": \"WFP Inventory problem        Cost = 420.0          Total Cost = 6980.0\"}], \"label\": \"t = 18  (evening)\", \"method\": \"update\"}, {\"args\": [{\"visible\": [true, true, false, false, false, false, false, false, false, false, false, false, false, false, false, false, false, false, false]}, {\"annotations\": [{\"font\": {\"color\": \"black\", \"size\": 15}, \"showarrow\": false, \"text\": \"I = 0.0\", \"x\": 0.0, \"xref\": \"x1\", \"y\": 10.0, \"yref\": \"y1\"}, {\"font\": {\"color\": \"black\", \"size\": 15}, \"showarrow\": false, \"text\": \"I = 0.0\", \"x\": 3.0, \"xref\": \"x1\", \"y\": 10.0, \"yref\": \"y1\"}, {\"font\": {\"color\": \"black\", \"size\": 15}, \"showarrow\": false, \"text\": \"I = 0.0\", \"x\": 10.0, \"xref\": \"x1\", \"y\": 3.0, \"yref\": \"y1\"}, {\"font\": {\"color\": \"black\", \"size\": 15}, \"showarrow\": false, \"text\": \"I = 1.0\", \"x\": 10.0, \"xref\": \"x1\", \"y\": 0.0, \"yref\": \"y1\"}, {\"font\": {\"color\": \"yellow\", \"size\": 15}, \"showarrow\": false, \"text\": \"I = -37.0\", \"x\": 0.0, \"xref\": \"x1\", \"y\": 0.0, \"yref\": \"y1\"}], \"title\": \"WFP Inventory problem        Cost = 340.0          Total Cost = 7320.0\"}], \"label\": \"t = 19  (evening)\", \"method\": \"update\"}, {\"args\": [{\"visible\": [true, true, false, false, false, false, false, false, false, false, false, false, false, false, false, false, false, false, false]}, {\"annotations\": [{\"font\": {\"color\": \"black\", \"size\": 15}, \"showarrow\": false, \"text\": \"I = 0.0\", \"x\": 0.0, \"xref\": \"x1\", \"y\": 10.0, \"yref\": \"y1\"}, {\"font\": {\"color\": \"black\", \"size\": 15}, \"showarrow\": false, \"text\": \"I = 0.0\", \"x\": 3.0, \"xref\": \"x1\", \"y\": 10.0, \"yref\": \"y1\"}, {\"font\": {\"color\": \"black\", \"size\": 15}, \"showarrow\": false, \"text\": \"I = 0.0\", \"x\": 10.0, \"xref\": \"x1\", \"y\": 3.0, \"yref\": \"y1\"}, {\"font\": {\"color\": \"black\", \"size\": 15}, \"showarrow\": false, \"text\": \"I = 1.0\", \"x\": 10.0, \"xref\": \"x1\", \"y\": 0.0, \"yref\": \"y1\"}, {\"font\": {\"color\": \"yellow\", \"size\": 15}, \"showarrow\": false, \"text\": \"I = -44.5\", \"x\": 0.0, \"xref\": \"x1\", \"y\": 0.0, \"yref\": \"y1\"}], \"title\": \"WFP Inventory problem        Cost = 420.0          Total Cost = 7740.0\"}], \"label\": \"t = 20  (evening)\", \"method\": \"update\"}, {\"args\": [{\"visible\": [true, true, false, false, false, false, false, false, false, false, false, false, false, false, false, false, false, false, false]}, {\"annotations\": [{\"font\": {\"color\": \"black\", \"size\": 15}, \"showarrow\": false, \"text\": \"I = 1.0\", \"x\": 0.0, \"xref\": \"x1\", \"y\": 10.0, \"yref\": \"y1\"}, {\"font\": {\"color\": \"black\", \"size\": 15}, \"showarrow\": false, \"text\": \"I = 0.0\", \"x\": 3.0, \"xref\": \"x1\", \"y\": 10.0, \"yref\": \"y1\"}, {\"font\": {\"color\": \"black\", \"size\": 15}, \"showarrow\": false, \"text\": \"I = 0.0\", \"x\": 10.0, \"xref\": \"x1\", \"y\": 3.0, \"yref\": \"y1\"}, {\"font\": {\"color\": \"black\", \"size\": 15}, \"showarrow\": false, \"text\": \"I = 2.5\", \"x\": 10.0, \"xref\": \"x1\", \"y\": 0.0, \"yref\": \"y1\"}, {\"font\": {\"color\": \"yellow\", \"size\": 15}, \"showarrow\": false, \"text\": \"I = -54.5\", \"x\": 0.0, \"xref\": \"x1\", \"y\": 0.0, \"yref\": \"y1\"}], \"title\": \"WFP Inventory problem        Cost = 420.0          Total Cost = 8160.0\"}], \"label\": \"t = 21  (evening)\", \"method\": \"update\"}, {\"args\": [{\"visible\": [true, true, false, false, false, false, false, false, false, false, false, false, false, false, false, false, false, false, false]}, {\"annotations\": [{\"font\": {\"color\": \"black\", \"size\": 15}, \"showarrow\": false, \"text\": \"I = 0.0\", \"x\": 0.0, \"xref\": \"x1\", \"y\": 10.0, \"yref\": \"y1\"}, {\"font\": {\"color\": \"black\", \"size\": 15}, \"showarrow\": false, \"text\": \"I = 0.0\", \"x\": 3.0, \"xref\": \"x1\", \"y\": 10.0, \"yref\": \"y1\"}, {\"font\": {\"color\": \"black\", \"size\": 15}, \"showarrow\": false, \"text\": \"I = 0.0\", \"x\": 10.0, \"xref\": \"x1\", \"y\": 3.0, \"yref\": \"y1\"}, {\"font\": {\"color\": \"black\", \"size\": 15}, \"showarrow\": false, \"text\": \"I = 1.0\", \"x\": 10.0, \"xref\": \"x1\", \"y\": 0.0, \"yref\": \"y1\"}, {\"font\": {\"color\": \"yellow\", \"size\": 15}, \"showarrow\": false, \"text\": \"I = -59.5\", \"x\": 0.0, \"xref\": \"x1\", \"y\": 0.0, \"yref\": \"y1\"}], \"title\": \"WFP Inventory problem        Cost = 340.0          Total Cost = 8500.0\"}], \"label\": \"t = 22  (evening)\", \"method\": \"update\"}, {\"args\": [{\"visible\": [true, true, false, false, false, false, false, false, false, false, false, false, false, false, false, false, false, false, false]}, {\"annotations\": [{\"font\": {\"color\": \"black\", \"size\": 15}, \"showarrow\": false, \"text\": \"I = 1.0\", \"x\": 0.0, \"xref\": \"x1\", \"y\": 10.0, \"yref\": \"y1\"}, {\"font\": {\"color\": \"black\", \"size\": 15}, \"showarrow\": false, \"text\": \"I = 0.0\", \"x\": 3.0, \"xref\": \"x1\", \"y\": 10.0, \"yref\": \"y1\"}, {\"font\": {\"color\": \"black\", \"size\": 15}, \"showarrow\": false, \"text\": \"I = 0.0\", \"x\": 10.0, \"xref\": \"x1\", \"y\": 3.0, \"yref\": \"y1\"}, {\"font\": {\"color\": \"black\", \"size\": 15}, \"showarrow\": false, \"text\": \"I = 2.5\", \"x\": 10.0, \"xref\": \"x1\", \"y\": 0.0, \"yref\": \"y1\"}, {\"font\": {\"color\": \"yellow\", \"size\": 15}, \"showarrow\": false, \"text\": \"I = -69.5\", \"x\": 0.0, \"xref\": \"x1\", \"y\": 0.0, \"yref\": \"y1\"}], \"title\": \"WFP Inventory problem        Cost = 420.0          Total Cost = 8920.0\"}], \"label\": \"t = 23  (evening)\", \"method\": \"update\"}, {\"args\": [{\"visible\": [true, true, false, false, false, false, false, false, false, false, false, false, false, false, false, false, false, false, false]}, {\"annotations\": [{\"font\": {\"color\": \"black\", \"size\": 15}, \"showarrow\": false, \"text\": \"I = 0.0\", \"x\": 0.0, \"xref\": \"x1\", \"y\": 10.0, \"yref\": \"y1\"}, {\"font\": {\"color\": \"black\", \"size\": 15}, \"showarrow\": false, \"text\": \"I = 0.0\", \"x\": 3.0, \"xref\": \"x1\", \"y\": 10.0, \"yref\": \"y1\"}, {\"font\": {\"color\": \"black\", \"size\": 15}, \"showarrow\": false, \"text\": \"I = 0.0\", \"x\": 10.0, \"xref\": \"x1\", \"y\": 3.0, \"yref\": \"y1\"}, {\"font\": {\"color\": \"black\", \"size\": 15}, \"showarrow\": false, \"text\": \"I = 1.0\", \"x\": 10.0, \"xref\": \"x1\", \"y\": 0.0, \"yref\": \"y1\"}, {\"font\": {\"color\": \"yellow\", \"size\": 15}, \"showarrow\": false, \"text\": \"I = -74.5\", \"x\": 0.0, \"xref\": \"x1\", \"y\": 0.0, \"yref\": \"y1\"}], \"title\": \"WFP Inventory problem        Cost = 340.0          Total Cost = 9260.0\"}], \"label\": \"t = 24  (evening)\", \"method\": \"update\"}, {\"args\": [{\"visible\": [true, true, false, false, false, false, false, false, false, false, false, false, false, false, false, false, false, false, false]}, {\"annotations\": [{\"font\": {\"color\": \"black\", \"size\": 15}, \"showarrow\": false, \"text\": \"I = 0.0\", \"x\": 0.0, \"xref\": \"x1\", \"y\": 10.0, \"yref\": \"y1\"}, {\"font\": {\"color\": \"black\", \"size\": 15}, \"showarrow\": false, \"text\": \"I = 0.0\", \"x\": 3.0, \"xref\": \"x1\", \"y\": 10.0, \"yref\": \"y1\"}, {\"font\": {\"color\": \"black\", \"size\": 15}, \"showarrow\": false, \"text\": \"I = 0.0\", \"x\": 10.0, \"xref\": \"x1\", \"y\": 3.0, \"yref\": \"y1\"}, {\"font\": {\"color\": \"black\", \"size\": 15}, \"showarrow\": false, \"text\": \"I = 1.0\", \"x\": 10.0, \"xref\": \"x1\", \"y\": 0.0, \"yref\": \"y1\"}, {\"font\": {\"color\": \"yellow\", \"size\": 15}, \"showarrow\": false, \"text\": \"I = -82.0\", \"x\": 0.0, \"xref\": \"x1\", \"y\": 0.0, \"yref\": \"y1\"}], \"title\": \"WFP Inventory problem        Cost = 420.0          Total Cost = 9680.0\"}], \"label\": \"t = 25  (evening)\", \"method\": \"update\"}, {\"args\": [{\"visible\": [true, true, false, false, false, false, false, false, false, false, false, false, false, false, false, false, false, false, false]}, {\"annotations\": [{\"font\": {\"color\": \"black\", \"size\": 15}, \"showarrow\": false, \"text\": \"I = 1.0\", \"x\": 0.0, \"xref\": \"x1\", \"y\": 10.0, \"yref\": \"y1\"}, {\"font\": {\"color\": \"black\", \"size\": 15}, \"showarrow\": false, \"text\": \"I = 0.0\", \"x\": 3.0, \"xref\": \"x1\", \"y\": 10.0, \"yref\": \"y1\"}, {\"font\": {\"color\": \"black\", \"size\": 15}, \"showarrow\": false, \"text\": \"I = 0.0\", \"x\": 10.0, \"xref\": \"x1\", \"y\": 3.0, \"yref\": \"y1\"}, {\"font\": {\"color\": \"black\", \"size\": 15}, \"showarrow\": false, \"text\": \"I = 2.5\", \"x\": 10.0, \"xref\": \"x1\", \"y\": 0.0, \"yref\": \"y1\"}, {\"font\": {\"color\": \"yellow\", \"size\": 15}, \"showarrow\": false, \"text\": \"I = -92.0\", \"x\": 0.0, \"xref\": \"x1\", \"y\": 0.0, \"yref\": \"y1\"}], \"title\": \"WFP Inventory problem        Cost = 420.0          Total Cost = 10100.0\"}], \"label\": \"t = 26  (evening)\", \"method\": \"update\"}, {\"args\": [{\"visible\": [true, true, false, false, false, false, false, false, false, false, false, false, false, false, false, false, false, false, false]}, {\"annotations\": [{\"font\": {\"color\": \"black\", \"size\": 15}, \"showarrow\": false, \"text\": \"I = 0.0\", \"x\": 0.0, \"xref\": \"x1\", \"y\": 10.0, \"yref\": \"y1\"}, {\"font\": {\"color\": \"black\", \"size\": 15}, \"showarrow\": false, \"text\": \"I = 0.0\", \"x\": 3.0, \"xref\": \"x1\", \"y\": 10.0, \"yref\": \"y1\"}, {\"font\": {\"color\": \"black\", \"size\": 15}, \"showarrow\": false, \"text\": \"I = 0.0\", \"x\": 10.0, \"xref\": \"x1\", \"y\": 3.0, \"yref\": \"y1\"}, {\"font\": {\"color\": \"black\", \"size\": 15}, \"showarrow\": false, \"text\": \"I = 1.0\", \"x\": 10.0, \"xref\": \"x1\", \"y\": 0.0, \"yref\": \"y1\"}, {\"font\": {\"color\": \"yellow\", \"size\": 15}, \"showarrow\": false, \"text\": \"I = -97.0\", \"x\": 0.0, \"xref\": \"x1\", \"y\": 0.0, \"yref\": \"y1\"}], \"title\": \"WFP Inventory problem        Cost = 340.0          Total Cost = 10440.0\"}], \"label\": \"t = 27  (evening)\", \"method\": \"update\"}, {\"args\": [{\"visible\": [true, true, false, false, false, false, false, false, false, false, false, false, false, false, false, false, false, false, false]}, {\"annotations\": [{\"font\": {\"color\": \"black\", \"size\": 15}, \"showarrow\": false, \"text\": \"I = 1.0\", \"x\": 0.0, \"xref\": \"x1\", \"y\": 10.0, \"yref\": \"y1\"}, {\"font\": {\"color\": \"black\", \"size\": 15}, \"showarrow\": false, \"text\": \"I = 0.0\", \"x\": 3.0, \"xref\": \"x1\", \"y\": 10.0, \"yref\": \"y1\"}, {\"font\": {\"color\": \"black\", \"size\": 15}, \"showarrow\": false, \"text\": \"I = 0.0\", \"x\": 10.0, \"xref\": \"x1\", \"y\": 3.0, \"yref\": \"y1\"}, {\"font\": {\"color\": \"black\", \"size\": 15}, \"showarrow\": false, \"text\": \"I = 2.5\", \"x\": 10.0, \"xref\": \"x1\", \"y\": 0.0, \"yref\": \"y1\"}, {\"font\": {\"color\": \"yellow\", \"size\": 15}, \"showarrow\": false, \"text\": \"I = -107.0\", \"x\": 0.0, \"xref\": \"x1\", \"y\": 0.0, \"yref\": \"y1\"}], \"title\": \"WFP Inventory problem        Cost = 420.0          Total Cost = 10860.0\"}], \"label\": \"t = 28  (evening)\", \"method\": \"update\"}, {\"args\": [{\"visible\": [true, true, false, false, false, false, false, false, false, false, false, false, false, false, false, false, false, false, false]}, {\"annotations\": [{\"font\": {\"color\": \"black\", \"size\": 15}, \"showarrow\": false, \"text\": \"I = 0.0\", \"x\": 0.0, \"xref\": \"x1\", \"y\": 10.0, \"yref\": \"y1\"}, {\"font\": {\"color\": \"black\", \"size\": 15}, \"showarrow\": false, \"text\": \"I = 0.0\", \"x\": 3.0, \"xref\": \"x1\", \"y\": 10.0, \"yref\": \"y1\"}, {\"font\": {\"color\": \"black\", \"size\": 15}, \"showarrow\": false, \"text\": \"I = 0.0\", \"x\": 10.0, \"xref\": \"x1\", \"y\": 3.0, \"yref\": \"y1\"}, {\"font\": {\"color\": \"black\", \"size\": 15}, \"showarrow\": false, \"text\": \"I = 1.0\", \"x\": 10.0, \"xref\": \"x1\", \"y\": 0.0, \"yref\": \"y1\"}, {\"font\": {\"color\": \"yellow\", \"size\": 15}, \"showarrow\": false, \"text\": \"I = -112.0\", \"x\": 0.0, \"xref\": \"x1\", \"y\": 0.0, \"yref\": \"y1\"}], \"title\": \"WFP Inventory problem        Cost = 340.0          Total Cost = 11200.0\"}], \"label\": \"t = 29  (evening)\", \"method\": \"update\"}], \"direction\": \"up\", \"x\": 0.3, \"y\": 0.0}], \"xaxis\": {\"showgrid\": true, \"showline\": false, \"showticklabels\": true, \"zeroline\": true}, \"yaxis\": {\"showgrid\": true, \"showline\": false, \"showticklabels\": true, \"zeroline\": true}},\n",
       "                        {\"responsive\": true}\n",
       "                    ).then(function(){\n",
       "                            \n",
       "var gd = document.getElementById('c39b9c89-5abb-4e5c-9447-bdaf6f5b360a');\n",
       "var x = new MutationObserver(function (mutations, observer) {{\n",
       "        var display = window.getComputedStyle(gd).display;\n",
       "        if (!display || display === 'none') {{\n",
       "            console.log([gd, 'removed!']);\n",
       "            Plotly.purge(gd);\n",
       "            observer.disconnect();\n",
       "        }}\n",
       "}});\n",
       "\n",
       "// Listen for the removal of the full notebook cells\n",
       "var notebookContainer = gd.closest('#notebook-container');\n",
       "if (notebookContainer) {{\n",
       "    x.observe(notebookContainer, {childList: true});\n",
       "}}\n",
       "\n",
       "// Listen for the clearing of the current output cell\n",
       "var outputEl = gd.closest('.output');\n",
       "if (outputEl) {{\n",
       "    x.observe(outputEl, {childList: true});\n",
       "}}\n",
       "\n",
       "                        })\n",
       "                };\n",
       "                });\n",
       "            </script>\n",
       "        </div>"
      ]
     },
     "metadata": {},
     "output_type": "display_data"
    }
   ],
   "source": [
    "MAP1.run(D,solver2,T=30,H=5)\n",
    "go.Figure(MAP1.fig).show()"
   ]
  },
  {
   "cell_type": "code",
   "execution_count": null,
   "metadata": {},
   "outputs": [],
   "source": []
  }
 ],
 "metadata": {
  "kernelspec": {
   "display_name": "Python 3",
   "language": "python",
   "name": "python3"
  },
  "language_info": {
   "codemirror_mode": {
    "name": "ipython",
    "version": 3
   },
   "file_extension": ".py",
   "mimetype": "text/x-python",
   "name": "python",
   "nbconvert_exporter": "python",
   "pygments_lexer": "ipython3",
   "version": "3.6.8"
  }
 },
 "nbformat": 4,
 "nbformat_minor": 2
}
