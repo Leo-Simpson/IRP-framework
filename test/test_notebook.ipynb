{
 "cells": [
  {
   "cell_type": "code",
   "execution_count": 5,
   "metadata": {},
   "outputs": [],
   "source": [
    "import sys\n",
    "sys.path.append('../')\n",
    "from ISI import Problem, Solution, excel_to_pb, Meta_param\n",
    "import numpy as np"
   ]
  },
  {
   "cell_type": "code",
   "execution_count": 6,
   "metadata": {},
   "outputs": [],
   "source": [
    "%load_ext autoreload\n",
    "%autoreload 2"
   ]
  },
  {
   "cell_type": "markdown",
   "metadata": {},
   "source": [
    "## Data"
   ]
  },
  {
   "cell_type": "code",
   "execution_count": 7,
   "metadata": {},
   "outputs": [],
   "source": [
    "path = '../Data/Burundi final v2.xlsx'"
   ]
  },
  {
   "cell_type": "markdown",
   "metadata": {},
   "source": [
    "# Initial values of tuning parameters"
   ]
  },
  {
   "cell_type": "code",
   "execution_count": 8,
   "metadata": {},
   "outputs": [],
   "source": [
    "#Leo to do\n",
    "\n",
    "nbr_tours_init = 2\n",
    "t_virt_init = 1\n",
    "H_init = 2   #time splitting\n",
    "time_step_init = 0.5    #time fusing\n",
    "cooling_fac_init = 0.1\n",
    "rho_percent_init = 0.3"
   ]
  },
  {
   "cell_type": "code",
   "execution_count": 9,
   "metadata": {},
   "outputs": [],
   "source": [
    "nbr_tours = nbr_tours_init\n",
    "t_virt = t_virt_init\n",
    "H = H_init \n",
    "time_step = time_step_init\n",
    "cooling_fac = cooling_fac_init\n",
    "rho_percent = rho_percent_init"
   ]
  },
  {
   "cell_type": "markdown",
   "metadata": {},
   "source": [
    "## Fixed parameters"
   ]
  },
  {
   "cell_type": "code",
   "execution_count": 10,
   "metadata": {},
   "outputs": [],
   "source": [
    "T = 2 #not sure yet\n",
    "Q2 = 20\n",
    "v = 40\n",
    "t_load = 0.5\n",
    "c_per_km = 0.1\n",
    "Tmax = 10"
   ]
  },
  {
   "cell_type": "code",
   "execution_count": 11,
   "metadata": {},
   "outputs": [],
   "source": [
    "def print_stats(test_result):\n",
    "    print('Test statistics for the parameter of {}'.format(test_result['parameter']))\n",
    "    for i in range(len(test_result['stats'][0]['clusters'])):\n",
    "        print('Cluster {}:'.format(test_result['stats'][0]['clusters'][i]))\n",
    "        print('Value', '\\t', 'Solution Cost','\\t'*2, 'Running Time')\n",
    "        for j in range(len(test_result['stats'])):\n",
    "            print(test_result['stats'][j]['value'],'\\t', test_result['stats'][j]['costs'][i], '\\t',test_result['stats'][j]['running_times'][i])         "
   ]
  },
  {
   "cell_type": "markdown",
   "metadata": {},
   "source": [
    "## Number of tours of a vehicle per time step"
   ]
  },
  {
   "cell_type": "code",
   "execution_count": 12,
   "metadata": {
    "scrolled": true,
    "tags": []
   },
   "outputs": [
    {
     "name": "stdout",
     "output_type": "stream",
     "text": [
      "Computing solution for number of tours of a vehicle per time step = 1\n"
     ]
    },
    {
     "ename": "ImportError",
     "evalue": "Missing optional dependency 'xlrd'. Install xlrd >= 1.0.0 for Excel support Use pip or conda to install xlrd.",
     "output_type": "error",
     "traceback": [
      "\u001b[0;31m---------------------------------------------------------------------------\u001b[0m",
      "\u001b[0;31mImportError\u001b[0m                               Traceback (most recent call last)",
      "\u001b[0;32m<ipython-input-12-aef0e23dafd6>\u001b[0m in \u001b[0;36m<module>\u001b[0;34m\u001b[0m\n\u001b[1;32m      8\u001b[0m     \u001b[0mdictionary\u001b[0m \u001b[0;34m=\u001b[0m \u001b[0;34m{\u001b[0m\u001b[0;34m'value'\u001b[0m\u001b[0;34m:\u001b[0m \u001b[0mval\u001b[0m\u001b[0;34m}\u001b[0m\u001b[0;34m\u001b[0m\u001b[0;34m\u001b[0m\u001b[0m\n\u001b[1;32m      9\u001b[0m     \u001b[0mprint\u001b[0m\u001b[0;34m(\u001b[0m\u001b[0;34m'Computing solution for {} = {}'\u001b[0m\u001b[0;34m.\u001b[0m\u001b[0mformat\u001b[0m\u001b[0;34m(\u001b[0m\u001b[0mtest_result\u001b[0m\u001b[0;34m[\u001b[0m\u001b[0;34m'parameter'\u001b[0m\u001b[0;34m]\u001b[0m\u001b[0;34m,\u001b[0m \u001b[0mdictionary\u001b[0m\u001b[0;34m[\u001b[0m\u001b[0;34m'value'\u001b[0m\u001b[0;34m]\u001b[0m\u001b[0;34m)\u001b[0m\u001b[0;34m)\u001b[0m\u001b[0;34m\u001b[0m\u001b[0;34m\u001b[0m\u001b[0m\n\u001b[0;32m---> 10\u001b[0;31m     \u001b[0mschools\u001b[0m\u001b[0;34m,\u001b[0m \u001b[0mwarehouses\u001b[0m\u001b[0;34m,\u001b[0m \u001b[0mQ1\u001b[0m\u001b[0;34m,\u001b[0m \u001b[0mV_number\u001b[0m\u001b[0;34m,\u001b[0m \u001b[0mmakes\u001b[0m \u001b[0;34m=\u001b[0m \u001b[0mexcel_to_pb\u001b[0m\u001b[0;34m(\u001b[0m\u001b[0mpath\u001b[0m\u001b[0;34m,\u001b[0m \u001b[0mnbr_tours\u001b[0m \u001b[0;34m=\u001b[0m \u001b[0mnbr_tours\u001b[0m\u001b[0;34m)\u001b[0m\u001b[0;34m\u001b[0m\u001b[0;34m\u001b[0m\u001b[0m\n\u001b[0m\u001b[1;32m     11\u001b[0m     \u001b[0mproblem\u001b[0m \u001b[0;34m=\u001b[0m \u001b[0mProblem\u001b[0m\u001b[0;34m(\u001b[0m\u001b[0mwarehouses\u001b[0m\u001b[0;34m,\u001b[0m \u001b[0mschools\u001b[0m\u001b[0;34m,\u001b[0m \u001b[0mT\u001b[0m\u001b[0;34m,\u001b[0m \u001b[0mQ1\u001b[0m\u001b[0;34m,\u001b[0m \u001b[0mQ2\u001b[0m\u001b[0;34m,\u001b[0m \u001b[0mv\u001b[0m\u001b[0;34m,\u001b[0m \u001b[0mt_load\u001b[0m\u001b[0;34m,\u001b[0m \u001b[0mc_per_km\u001b[0m\u001b[0;34m,\u001b[0m \u001b[0mTmax\u001b[0m\u001b[0;34m,\u001b[0m\u001b[0mV_number\u001b[0m \u001b[0;34m=\u001b[0m \u001b[0mV_number\u001b[0m\u001b[0;34m,\u001b[0m \u001b[0mmakes\u001b[0m \u001b[0;34m=\u001b[0m \u001b[0mmakes\u001b[0m\u001b[0;34m,\u001b[0m \u001b[0mt_virt\u001b[0m \u001b[0;34m=\u001b[0m \u001b[0mt_virt\u001b[0m\u001b[0;34m,\u001b[0m \u001b[0mH\u001b[0m\u001b[0;34m=\u001b[0m\u001b[0mH\u001b[0m\u001b[0;34m)\u001b[0m\u001b[0;34m\u001b[0m\u001b[0;34m\u001b[0m\u001b[0m\n\u001b[1;32m     12\u001b[0m     \u001b[0mmeta_params\u001b[0m \u001b[0;34m=\u001b[0m \u001b[0mMeta_param\u001b[0m\u001b[0;34m(\u001b[0m\u001b[0;34m)\u001b[0m\u001b[0;34m\u001b[0m\u001b[0;34m\u001b[0m\u001b[0m\n",
      "\u001b[0;32m~/Desktop/GitHub/IRP-framework/ISI.py\u001b[0m in \u001b[0;36mexcel_to_pb\u001b[0;34m(path, nbr_tours)\u001b[0m\n\u001b[1;32m   1120\u001b[0m \u001b[0;34m\u001b[0m\u001b[0m\n\u001b[1;32m   1121\u001b[0m \u001b[0;32mdef\u001b[0m \u001b[0mexcel_to_pb\u001b[0m\u001b[0;34m(\u001b[0m\u001b[0mpath\u001b[0m\u001b[0;34m,\u001b[0m\u001b[0mnbr_tours\u001b[0m\u001b[0;34m=\u001b[0m\u001b[0;36m1\u001b[0m\u001b[0;34m)\u001b[0m\u001b[0;34m:\u001b[0m\u001b[0;34m\u001b[0m\u001b[0;34m\u001b[0m\u001b[0m\n\u001b[0;32m-> 1122\u001b[0;31m         \u001b[0mdf_w\u001b[0m \u001b[0;34m=\u001b[0m \u001b[0mpd\u001b[0m\u001b[0;34m.\u001b[0m\u001b[0mread_excel\u001b[0m\u001b[0;34m(\u001b[0m\u001b[0mio\u001b[0m\u001b[0;34m=\u001b[0m\u001b[0mpath\u001b[0m\u001b[0;34m,\u001b[0m \u001b[0msheet_name\u001b[0m\u001b[0;34m=\u001b[0m\u001b[0;34m'Warehouses'\u001b[0m\u001b[0;34m)\u001b[0m         \u001b[0;31m#reads the excel table Warehouses\u001b[0m\u001b[0;34m\u001b[0m\u001b[0;34m\u001b[0m\u001b[0m\n\u001b[0m\u001b[1;32m   1123\u001b[0m         \u001b[0mwarehouses\u001b[0m \u001b[0;34m=\u001b[0m \u001b[0mdf_w\u001b[0m\u001b[0;34m.\u001b[0m\u001b[0mto_dict\u001b[0m\u001b[0;34m(\u001b[0m\u001b[0;34m'records'\u001b[0m\u001b[0;34m)\u001b[0m                   \u001b[0;31m#and transforms it into a Panda dataframe\u001b[0m\u001b[0;34m\u001b[0m\u001b[0;34m\u001b[0m\u001b[0m\n\u001b[1;32m   1124\u001b[0m         \u001b[0;32mfor\u001b[0m \u001b[0mw\u001b[0m \u001b[0;32min\u001b[0m \u001b[0mwarehouses\u001b[0m\u001b[0;34m:\u001b[0m                                   \u001b[0;31m#puts longitude and latitude together in a numpy array 'location'\u001b[0m\u001b[0;34m\u001b[0m\u001b[0;34m\u001b[0m\u001b[0m\n",
      "\u001b[0;32m~/anaconda3/envs/classo_project/lib/python3.7/site-packages/pandas/io/excel/_base.py\u001b[0m in \u001b[0;36mread_excel\u001b[0;34m(io, sheet_name, header, names, index_col, usecols, squeeze, dtype, engine, converters, true_values, false_values, skiprows, nrows, na_values, keep_default_na, verbose, parse_dates, date_parser, thousands, comment, skipfooter, convert_float, mangle_dupe_cols, **kwds)\u001b[0m\n\u001b[1;32m    302\u001b[0m \u001b[0;34m\u001b[0m\u001b[0m\n\u001b[1;32m    303\u001b[0m     \u001b[0;32mif\u001b[0m \u001b[0;32mnot\u001b[0m \u001b[0misinstance\u001b[0m\u001b[0;34m(\u001b[0m\u001b[0mio\u001b[0m\u001b[0;34m,\u001b[0m \u001b[0mExcelFile\u001b[0m\u001b[0;34m)\u001b[0m\u001b[0;34m:\u001b[0m\u001b[0;34m\u001b[0m\u001b[0;34m\u001b[0m\u001b[0m\n\u001b[0;32m--> 304\u001b[0;31m         \u001b[0mio\u001b[0m \u001b[0;34m=\u001b[0m \u001b[0mExcelFile\u001b[0m\u001b[0;34m(\u001b[0m\u001b[0mio\u001b[0m\u001b[0;34m,\u001b[0m \u001b[0mengine\u001b[0m\u001b[0;34m=\u001b[0m\u001b[0mengine\u001b[0m\u001b[0;34m)\u001b[0m\u001b[0;34m\u001b[0m\u001b[0;34m\u001b[0m\u001b[0m\n\u001b[0m\u001b[1;32m    305\u001b[0m     \u001b[0;32melif\u001b[0m \u001b[0mengine\u001b[0m \u001b[0;32mand\u001b[0m \u001b[0mengine\u001b[0m \u001b[0;34m!=\u001b[0m \u001b[0mio\u001b[0m\u001b[0;34m.\u001b[0m\u001b[0mengine\u001b[0m\u001b[0;34m:\u001b[0m\u001b[0;34m\u001b[0m\u001b[0;34m\u001b[0m\u001b[0m\n\u001b[1;32m    306\u001b[0m         raise ValueError(\n",
      "\u001b[0;32m~/anaconda3/envs/classo_project/lib/python3.7/site-packages/pandas/io/excel/_base.py\u001b[0m in \u001b[0;36m__init__\u001b[0;34m(self, io, engine)\u001b[0m\n\u001b[1;32m    822\u001b[0m         \u001b[0mself\u001b[0m\u001b[0;34m.\u001b[0m\u001b[0m_io\u001b[0m \u001b[0;34m=\u001b[0m \u001b[0mstringify_path\u001b[0m\u001b[0;34m(\u001b[0m\u001b[0mio\u001b[0m\u001b[0;34m)\u001b[0m\u001b[0;34m\u001b[0m\u001b[0;34m\u001b[0m\u001b[0m\n\u001b[1;32m    823\u001b[0m \u001b[0;34m\u001b[0m\u001b[0m\n\u001b[0;32m--> 824\u001b[0;31m         \u001b[0mself\u001b[0m\u001b[0;34m.\u001b[0m\u001b[0m_reader\u001b[0m \u001b[0;34m=\u001b[0m \u001b[0mself\u001b[0m\u001b[0;34m.\u001b[0m\u001b[0m_engines\u001b[0m\u001b[0;34m[\u001b[0m\u001b[0mengine\u001b[0m\u001b[0;34m]\u001b[0m\u001b[0;34m(\u001b[0m\u001b[0mself\u001b[0m\u001b[0;34m.\u001b[0m\u001b[0m_io\u001b[0m\u001b[0;34m)\u001b[0m\u001b[0;34m\u001b[0m\u001b[0;34m\u001b[0m\u001b[0m\n\u001b[0m\u001b[1;32m    825\u001b[0m \u001b[0;34m\u001b[0m\u001b[0m\n\u001b[1;32m    826\u001b[0m     \u001b[0;32mdef\u001b[0m \u001b[0m__fspath__\u001b[0m\u001b[0;34m(\u001b[0m\u001b[0mself\u001b[0m\u001b[0;34m)\u001b[0m\u001b[0;34m:\u001b[0m\u001b[0;34m\u001b[0m\u001b[0;34m\u001b[0m\u001b[0m\n",
      "\u001b[0;32m~/anaconda3/envs/classo_project/lib/python3.7/site-packages/pandas/io/excel/_xlrd.py\u001b[0m in \u001b[0;36m__init__\u001b[0;34m(self, filepath_or_buffer)\u001b[0m\n\u001b[1;32m     18\u001b[0m         \"\"\"\n\u001b[1;32m     19\u001b[0m         \u001b[0merr_msg\u001b[0m \u001b[0;34m=\u001b[0m \u001b[0;34m\"Install xlrd >= 1.0.0 for Excel support\"\u001b[0m\u001b[0;34m\u001b[0m\u001b[0;34m\u001b[0m\u001b[0m\n\u001b[0;32m---> 20\u001b[0;31m         \u001b[0mimport_optional_dependency\u001b[0m\u001b[0;34m(\u001b[0m\u001b[0;34m\"xlrd\"\u001b[0m\u001b[0;34m,\u001b[0m \u001b[0mextra\u001b[0m\u001b[0;34m=\u001b[0m\u001b[0merr_msg\u001b[0m\u001b[0;34m)\u001b[0m\u001b[0;34m\u001b[0m\u001b[0;34m\u001b[0m\u001b[0m\n\u001b[0m\u001b[1;32m     21\u001b[0m         \u001b[0msuper\u001b[0m\u001b[0;34m(\u001b[0m\u001b[0;34m)\u001b[0m\u001b[0;34m.\u001b[0m\u001b[0m__init__\u001b[0m\u001b[0;34m(\u001b[0m\u001b[0mfilepath_or_buffer\u001b[0m\u001b[0;34m)\u001b[0m\u001b[0;34m\u001b[0m\u001b[0;34m\u001b[0m\u001b[0m\n\u001b[1;32m     22\u001b[0m \u001b[0;34m\u001b[0m\u001b[0m\n",
      "\u001b[0;32m~/anaconda3/envs/classo_project/lib/python3.7/site-packages/pandas/compat/_optional.py\u001b[0m in \u001b[0;36mimport_optional_dependency\u001b[0;34m(name, extra, raise_on_missing, on_version)\u001b[0m\n\u001b[1;32m     90\u001b[0m     \u001b[0;32mexcept\u001b[0m \u001b[0mImportError\u001b[0m\u001b[0;34m:\u001b[0m\u001b[0;34m\u001b[0m\u001b[0;34m\u001b[0m\u001b[0m\n\u001b[1;32m     91\u001b[0m         \u001b[0;32mif\u001b[0m \u001b[0mraise_on_missing\u001b[0m\u001b[0;34m:\u001b[0m\u001b[0;34m\u001b[0m\u001b[0;34m\u001b[0m\u001b[0m\n\u001b[0;32m---> 92\u001b[0;31m             \u001b[0;32mraise\u001b[0m \u001b[0mImportError\u001b[0m\u001b[0;34m(\u001b[0m\u001b[0mmsg\u001b[0m\u001b[0;34m)\u001b[0m \u001b[0;32mfrom\u001b[0m \u001b[0;32mNone\u001b[0m\u001b[0;34m\u001b[0m\u001b[0;34m\u001b[0m\u001b[0m\n\u001b[0m\u001b[1;32m     93\u001b[0m         \u001b[0;32melse\u001b[0m\u001b[0;34m:\u001b[0m\u001b[0;34m\u001b[0m\u001b[0;34m\u001b[0m\u001b[0m\n\u001b[1;32m     94\u001b[0m             \u001b[0;32mreturn\u001b[0m \u001b[0;32mNone\u001b[0m\u001b[0;34m\u001b[0m\u001b[0;34m\u001b[0m\u001b[0m\n",
      "\u001b[0;31mImportError\u001b[0m: Missing optional dependency 'xlrd'. Install xlrd >= 1.0.0 for Excel support Use pip or conda to install xlrd."
     ]
    }
   ],
   "source": [
    "nbr_tours_val = [i for i in range(max(1, nbr_tours_init-2), nbr_tours_init+3)]   # initial value +-2\n",
    "name_parameter = 'number of tours of a vehicle per time step'\n",
    "\n",
    "stats = []\n",
    "test_result = {'parameter': name_parameter, 'stats': stats}\n",
    "for val in nbr_tours_val:\n",
    "    nbr_tours = val\n",
    "    dictionary = {'value': val}\n",
    "    print('Computing solution for {} = {}'.format(test_result['parameter'], dictionary['value']))\n",
    "    schools, warehouses, Q1, V_number, makes = excel_to_pb(path, nbr_tours = nbr_tours)\n",
    "    problem = Problem(warehouses, schools, T, Q1, Q2, v, t_load, c_per_km, Tmax,V_number = V_number, makes = makes, t_virt = t_virt, H=H)\n",
    "    meta_params = Meta_param()\n",
    "    meta_params.rho_percent = rho_percent\n",
    "    meta_params.cooling = cooling_fac\n",
    "    solutions = problem.final_solver(meta_params, time_step=time_step , plot_cluster = False, info = False, comp_small_cl = True, return_var = True)\n",
    "    running_times, costs, names = [],[],[]\n",
    "    for i in range(len(solutions)):\n",
    "        running_times.append(solutions[i].running_time['Define problem'] + solutions[i].running_time['Solve problem '] + solutions[i].running_time['Compute TSPs'])\n",
    "        costs.append(solutions[i].solution_best.cost)\n",
    "        names.append(solutions[i].solution.problem.Warehouses[-1]['name'])\n",
    "    dictionary['running_times'], dictionary['costs'], dictionary['clusters'] = running_times, costs, names\n",
    "    stats.append(dictionary)\n",
    "print_stats(test_result)\n",
    "nbr_tours = nbr_tours_init"
   ]
  },
  {
   "cell_type": "markdown",
   "metadata": {},
   "source": [
    "## Virtual timestep"
   ]
  },
  {
   "cell_type": "code",
   "execution_count": null,
   "metadata": {},
   "outputs": [],
   "source": [
    "t_virt_val = [i for i in range(max(0, t_virt_init-2), t_virt_init+3)]    # initial value +-2\n",
    "name_parameter = 'Virtual timestep'\n",
    "\n",
    "stats = []\n",
    "test_result = {'parameter': name_parameter, 'stats': stats}\n",
    "for val in t_virt_val:\n",
    "    t_virt = val\n",
    "    dictionary = {'value': val}\n",
    "    print('Computing solution for {} = {}'.format(test_result['parameter'], dictionary['value']))\n",
    "    schools, warehouses, Q1, V_number, makes = excel_to_pb(path, nbr_tours = nbr_tours)\n",
    "    problem = Problem(warehouses, schools, T, Q1, Q2, v, t_load, c_per_km, Tmax,V_number = V_number, makes = makes, t_virt = t_virt, H=H)\n",
    "    meta_params = Meta_param()\n",
    "    meta_params.rho_percent = rho_percent\n",
    "    meta_params.cooling = cooling_fac\n",
    "    solutions = problem.final_solver(meta_params, time_step=time_step , plot_cluster = False, info = False, comp_small_cl = True, return_var = True)\n",
    "    running_times, costs, names = [],[],[]\n",
    "    for i in range(len(solutions)):\n",
    "        running_times.append(solutions[i].running_time['Define problem'] + solutions[i].running_time['Solve problem '] + solutions[i].running_time['Compute TSPs'])\n",
    "        costs.append(solutions[i].solution_best.cost)\n",
    "        names.append(solutions[i].solution.problem.Warehouses[-1]['name'])\n",
    "    dictionary['running_times'], dictionary['costs'], dictionary['clusters'] = running_times, costs, names\n",
    "    stats.append(dictionary)\n",
    "print_stats(test_result)\n",
    "t_virt = t_virt_init"
   ]
  },
  {
   "cell_type": "markdown",
   "metadata": {},
   "source": [
    "## Time splitting (time slice in weeks over which the algorithm runs the ISI)"
   ]
  },
  {
   "cell_type": "code",
   "execution_count": null,
   "metadata": {},
   "outputs": [],
   "source": [
    "H_val = [i for i in range(max(1, H_init-2), H_init+3)]            # initial value +-2\n",
    "name_parameter = 'Time splitting (time slice in weeks)'\n",
    "\n",
    "stats = []\n",
    "test_result = {'parameter': name_parameter, 'stats': stats}\n",
    "for val in H_val:\n",
    "    H = val\n",
    "    dictionary = {'value': val}\n",
    "    print('Computing solution for {} = {}'.format(test_result['parameter'], dictionary['value']))\n",
    "    schools, warehouses, Q1, V_number, makes = excel_to_pb(path, nbr_tours = nbr_tours)\n",
    "    problem = Problem(warehouses, schools, T, Q1, Q2, v, t_load, c_per_km, Tmax,V_number = V_number, makes = makes, t_virt = t_virt, H=H)\n",
    "    meta_params = Meta_param()\n",
    "    meta_params.rho_percent = rho_percent\n",
    "    meta_params.cooling = cooling_fac\n",
    "    solutions = problem.final_solver(meta_params, time_step=time_step , plot_cluster = False, info = False, comp_small_cl = True, return_var = True)\n",
    "    running_times, costs, names = [],[],[]\n",
    "    for i in range(len(solutions)):\n",
    "        running_times.append(solutions[i].running_time['Define problem'] + solutions[i].running_time['Solve problem '] + solutions[i].running_time['Compute TSPs'])\n",
    "        costs.append(solutions[i].solution_best.cost)\n",
    "        names.append(solutions[i].solution.problem.Warehouses[-1]['name'])\n",
    "    dictionary['running_times'], dictionary['costs'], dictionary['clusters'] = running_times, costs, names\n",
    "    stats.append(dictionary)\n",
    "print_stats(test_result)\n",
    "H = H_init"
   ]
  },
  {
   "cell_type": "markdown",
   "metadata": {},
   "source": [
    "## Time fusing (time slice in weeks that gets fused to one time step)"
   ]
  },
  {
   "cell_type": "code",
   "execution_count": null,
   "metadata": {},
   "outputs": [],
   "source": [
    "time_step_val = [i for i in np.arange(max(0.5, time_step_init-1.5), time_step_init+2, 0.5)]            # initial value +-1.5\n",
    "name_parameter = 'Time fusing (time slice in weeks)'\n",
    "\n",
    "stats = []\n",
    "test_result = {'parameter': name_parameter, 'stats': stats}\n",
    "for val in time_step_val:\n",
    "    time_step = val\n",
    "    dictionary = {'value': val}\n",
    "    print('Computing solution for {} = {}'.format(test_result['parameter'], dictionary['value']))\n",
    "    schools, warehouses, Q1, V_number, makes = excel_to_pb(path, nbr_tours = nbr_tours)\n",
    "    problem = Problem(warehouses, schools, T, Q1, Q2, v, t_load, c_per_km, Tmax,V_number = V_number, makes = makes, t_virt = t_virt, H=H)\n",
    "    meta_params = Meta_param()\n",
    "    meta_params.rho_percent = rho_percent\n",
    "    meta_params.cooling = cooling_fac\n",
    "    solutions = problem.final_solver(meta_params, time_step=time_step , plot_cluster = False, info = False, comp_small_cl = True, return_var = True)\n",
    "    running_times, costs, names = [],[],[]\n",
    "    for i in range(len(solutions)):\n",
    "        running_times.append(solutions[i].running_time['Define problem'] + solutions[i].running_time['Solve problem '] + solutions[i].running_time['Compute TSPs'])\n",
    "        costs.append(solutions[i].solution_best.cost)\n",
    "        names.append(solutions[i].solution.problem.Warehouses[-1]['name'])\n",
    "    dictionary['running_times'], dictionary['costs'], dictionary['clusters'] = running_times, costs, names\n",
    "    stats.append(dictionary)\n",
    "print_stats(test_result)\n",
    "time_step = time_step_init"
   ]
  },
  {
   "cell_type": "markdown",
   "metadata": {},
   "source": [
    "## Cooling factor"
   ]
  },
  {
   "cell_type": "code",
   "execution_count": null,
   "metadata": {},
   "outputs": [],
   "source": [
    "cooling_fac_val = [i for i in np.arange(max(0.01, cooling_fac_init-0.15), cooling_fac_init+0.2, 0.05)]            # initial value +- 0.15\n",
    "name_parameter = 'Cooling factor'\n",
    "\n",
    "stats = []\n",
    "test_result = {'parameter': name_parameter, 'stats': stats}\n",
    "for val in cooling_fac_val:\n",
    "    cooling_fac = val\n",
    "    dictionary = {'value': val}\n",
    "    print('Computing solution for {} = {}'.format(test_result['parameter'], dictionary['value']))\n",
    "    schools, warehouses, Q1, V_number, makes = excel_to_pb(path, nbr_tours = nbr_tours)\n",
    "    problem = Problem(warehouses, schools, T, Q1, Q2, v, t_load, c_per_km, Tmax,V_number = V_number, makes = makes, t_virt = t_virt, H=H)\n",
    "    meta_params = Meta_param()\n",
    "    meta_params.rho_percent = rho_percent\n",
    "    meta_params.cooling = cooling_fac\n",
    "    solutions = problem.final_solver(meta_params, time_step=time_step , plot_cluster = False, info = False, comp_small_cl = True, return_var = True)\n",
    "    running_times, costs, names = [],[],[]\n",
    "    for i in range(len(solutions)):\n",
    "        running_times.append(solutions[i].running_time['Define problem'] + solutions[i].running_time['Solve problem '] + solutions[i].running_time['Compute TSPs'])\n",
    "        costs.append(solutions[i].solution_best.cost)\n",
    "        names.append(solutions[i].solution.problem.Warehouses[-1]['name'])\n",
    "    dictionary['running_times'], dictionary['costs'], dictionary['clusters'] = running_times, costs, names\n",
    "    stats.append(dictionary)\n",
    "print_stats(test_result)\n",
    "cooling_fac = cooling_fac_init"
   ]
  },
  {
   "cell_type": "markdown",
   "metadata": {},
   "source": [
    "## Rho (in percent of numbers of schools)"
   ]
  },
  {
   "cell_type": "code",
   "execution_count": null,
   "metadata": {},
   "outputs": [],
   "source": [
    "rho_percent_val = [i for i in np.arange(max(0.05, time_step_init-0.2), time_step_init+0.3, 0.1)]            # initial value +- 0.2\n",
    "name_parameter = 'Rho (in percent of numbers of schools)'\n",
    "\n",
    "stats = []\n",
    "test_result = {'parameter': name_parameter, 'stats': stats}\n",
    "for val in rho_percent_val:\n",
    "    rho_percent = val\n",
    "    dictionary = {'value': val}\n",
    "    print('Computing solution for {} = {}'.format(test_result['parameter'], dictionary['value']))\n",
    "    schools, warehouses, Q1, V_number, makes = excel_to_pb(path, nbr_tours = nbr_tours)\n",
    "    problem = Problem(warehouses, schools, T, Q1, Q2, v, t_load, c_per_km, Tmax,V_number = V_number, makes = makes, t_virt = t_virt, H=H)\n",
    "    meta_params = Meta_param()\n",
    "    meta_params.rho_percent = rho_percent\n",
    "    meta_params.cooling = cooling_fac\n",
    "    solutions = problem.final_solver(meta_params, time_step=time_step , plot_cluster = False, info = False, comp_small_cl = True, return_var = True)\n",
    "    running_times, costs, names = [],[],[]\n",
    "    for i in range(len(solutions)):\n",
    "        running_times.append(solutions[i].running_time['Define problem'] + solutions[i].running_time['Solve problem '] + solutions[i].running_time['Compute TSPs'])\n",
    "        costs.append(solutions[i].solution_best.cost)\n",
    "        names.append(solutions[i].solution.problem.Warehouses[-1]['name'])\n",
    "    dictionary['running_times'], dictionary['costs'], dictionary['clusters'] = running_times, costs, names\n",
    "    stats.append(dictionary)\n",
    "print_stats(test_result)\n",
    "rho_percent = rho_percent_init"
   ]
  },
  {
   "cell_type": "code",
   "execution_count": null,
   "metadata": {},
   "outputs": [],
   "source": []
  }
 ],
 "metadata": {
  "kernelspec": {
   "display_name": "Python 3",
   "language": "python",
   "name": "python3"
  },
  "language_info": {
   "codemirror_mode": {
    "name": "ipython",
    "version": 3
   },
   "file_extension": ".py",
   "mimetype": "text/x-python",
   "name": "python",
   "nbconvert_exporter": "python",
   "pygments_lexer": "ipython3",
   "version": "3.6.8"
  },
  "toc": {
   "base_numbering": 1,
   "nav_menu": {},
   "number_sections": true,
   "sideBar": true,
   "skip_h1_title": false,
   "title_cell": "Table of Contents",
   "title_sidebar": "Contents",
   "toc_cell": false,
   "toc_position": {},
   "toc_section_display": true,
   "toc_window_display": false
  }
 },
 "nbformat": 4,
 "nbformat_minor": 2
}
