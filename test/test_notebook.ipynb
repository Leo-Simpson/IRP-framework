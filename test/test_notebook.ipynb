{
 "cells": [
  {
   "cell_type": "code",
   "execution_count": null,
   "metadata": {},
   "outputs": [],
   "source": [
    "import sys\n",
    "sys.path.append('../')\n",
    "from ISI import Problem, Solution, excel_to_pb, Meta_param\n",
    "import numpy as np"
   ]
  },
  {
   "cell_type": "code",
   "execution_count": null,
   "metadata": {},
   "outputs": [],
   "source": [
    "%load_ext autoreload\n",
    "%autoreload 2"
   ]
  },
  {
   "cell_type": "markdown",
   "metadata": {},
   "source": [
    "# Initial values of tuning parameters"
   ]
  },
  {
   "cell_type": "code",
   "execution_count": null,
   "metadata": {},
   "outputs": [],
   "source": [
    "nbr_tours = 2\n",
    "t_virt = 1\n",
    "H = 2   #time splitting\n",
    "time_step = 0.5    #time fusing\n",
    "cooling_fac = 0.1\n",
    "rho_percent = 0.5"
   ]
  },
  {
   "cell_type": "markdown",
   "metadata": {},
   "source": [
    "## Fixed parameters"
   ]
  },
  {
   "cell_type": "code",
   "execution_count": null,
   "metadata": {},
   "outputs": [],
   "source": [
    "T = 2 #not sure yet\n",
    "Q2 = 20\n",
    "v = 40\n",
    "t_load = 0.5\n",
    "c_per_km = 0.1\n",
    "Tmax = 10"
   ]
  },
  {
   "cell_type": "code",
   "execution_count": null,
   "metadata": {},
   "outputs": [],
   "source": [
    "def print_stats(test_result):\n",
    "    print('Test statistics for the parameter of {}'.format(test_result['parameter']))\n",
    "    for i in range(len(test_result['stats'][0]['clusters'])):\n",
    "        print('Cluster {}:'.format(test_result['stats'][0]['clusters'][i]))\n",
    "        print('Value', '\\t', 'Solution Cost','\\t'*2, 'Running Time')\n",
    "        for j in range(len(test_result['stats'])):\n",
    "            print(test_result['stats'][j]['value'],'\\t', test_result['stats'][j]['costs'][i], '\\t',test_result['stats'][j]['running_times'][i])         "
   ]
  },
  {
   "cell_type": "markdown",
   "metadata": {},
   "source": [
    "## Number of tours of a vehicle per time step"
   ]
  },
  {
   "cell_type": "code",
   "execution_count": null,
   "metadata": {
    "scrolled": true
   },
   "outputs": [],
   "source": [
    "nbr_tours_val = [i for i in range(max(1, nbr_tours-2), nbr_tours+3)]   # initial value +-2\n",
    "name_parameter = 'number of tours of a vehicle per time step'\n",
    "\n",
    "stats = []\n",
    "test_result = {'parameter': name_parameter, 'stats': stats}\n",
    "for val in nbr_tours_val:\n",
    "    nbr_tours = val\n",
    "    dictionary = {'value': val}\n",
    "    print('Computing solution for {} = {}'.format(test_result['parameter'], dictionary['value']))\n",
    "    schools, warehouses, Q1, V_number, makes = excel_to_pb('../Data/Burundi final v2.xlsx', nbr_tours = nbr_tours)\n",
    "    problem = Problem(warehouses, schools, T, Q1, Q2, v, t_load, c_per_km, Tmax,V_number = V_number, makes = makes, t_virt = t_virt, H=H)\n",
    "    meta_params = Meta_param()\n",
    "    meta_params.rho_percent = rho_percent\n",
    "    meta_params.cooling = cooling_fac\n",
    "    solutions = problem.final_solver(meta_params, time_step=time_step , plot_cluster = False, info = False, comp_small_cl = True, return_var = True)\n",
    "    running_times, costs, names = [],[],[]\n",
    "    for i in range(len(solutions)):\n",
    "        running_times.append(solutions[i].running_time['Define problem'] + solutions[i].running_time['Solve problem '] + solutions[i].running_time['Compute TSPs'])\n",
    "        costs.append(solutions[i].solution_best.cost)\n",
    "        names.append(solutions[i].solution.problem.Warehouses[-1]['name'])\n",
    "    dictionary['running_times'], dictionary['costs'], dictionary['clusters'] = running_times, costs, names\n",
    "    stats.append(dictionary)\n",
    "print_stats(test_result)"
   ]
  },
  {
   "cell_type": "markdown",
   "metadata": {},
   "source": [
    "## Virtual timestep"
   ]
  },
  {
   "cell_type": "code",
   "execution_count": null,
   "metadata": {},
   "outputs": [],
   "source": [
    "t_virt_val = [i for i in range(max(0, t_virt-2), t_virt+3)]    # initial value +-2\n",
    "name_parameter = 'Virtual timestep'\n",
    "\n",
    "stats = []\n",
    "test_result = {'parameter': name_parameter, 'stats': stats}\n",
    "for val in t_virt_val:\n",
    "    t_virt = val\n",
    "    dictionary = {'value': val}\n",
    "    print('Computing solution for {} = {}'.format(test_result['parameter'], dictionary['value']))\n",
    "    schools, warehouses, Q1, V_number, makes = excel_to_pb('../Data/Burundi final v2.xlsx', nbr_tours = nbr_tours)\n",
    "    problem = Problem(warehouses, schools, T, Q1, Q2, v, t_load, c_per_km, Tmax,V_number = V_number, makes = makes, t_virt = t_virt, H=H)\n",
    "    meta_params = Meta_param()\n",
    "    meta_params.rho_percent = rho_percent\n",
    "    meta_params.cooling = cooling_fac\n",
    "    solutions = problem.final_solver(meta_params, time_step=time_step , plot_cluster = False, info = False, comp_small_cl = True, return_var = True)\n",
    "    running_times, costs, names = [],[],[]\n",
    "    for i in range(len(solutions)):\n",
    "        running_times.append(solutions[i].running_time['Define problem'] + solutions[i].running_time['Solve problem '] + solutions[i].running_time['Compute TSPs'])\n",
    "        costs.append(solutions[i].solution_best.cost)\n",
    "        names.append(solutions[i].solution.problem.Warehouses[-1]['name'])\n",
    "    dictionary['running_times'], dictionary['costs'], dictionary['clusters'] = running_times, costs, names\n",
    "    stats.append(dictionary)\n",
    "print_stats(test_result)"
   ]
  },
  {
   "cell_type": "markdown",
   "metadata": {},
   "source": [
    "## Time splitting"
   ]
  },
  {
   "cell_type": "code",
   "execution_count": null,
   "metadata": {},
   "outputs": [],
   "source": [
    "H_val = [i for i in range(max(1, H-2), H+3)]            # initial value +-2\n",
    "name_parameter = 'Time splitting'\n",
    "\n",
    "stats = []\n",
    "test_result = {'parameter': name_parameter, 'stats': stats}\n",
    "for val in H_val:\n",
    "    H = val\n",
    "    dictionary = {'value': val}\n",
    "    print('Computing solution for {} = {}'.format(test_result['parameter'], dictionary['value']))\n",
    "    schools, warehouses, Q1, V_number, makes = excel_to_pb('../Data/Burundi final v2.xlsx', nbr_tours = nbr_tours)\n",
    "    problem = Problem(warehouses, schools, T, Q1, Q2, v, t_load, c_per_km, Tmax,V_number = V_number, makes = makes, t_virt = t_virt, H=H)\n",
    "    meta_params = Meta_param()\n",
    "    meta_params.rho_percent = rho_percent\n",
    "    meta_params.cooling = cooling_fac\n",
    "    solutions = problem.final_solver(meta_params, time_step=time_step , plot_cluster = False, info = False, comp_small_cl = True, return_var = True)\n",
    "    running_times, costs, names = [],[],[]\n",
    "    for i in range(len(solutions)):\n",
    "        running_times.append(solutions[i].running_time['Define problem'] + solutions[i].running_time['Solve problem '] + solutions[i].running_time['Compute TSPs'])\n",
    "        costs.append(solutions[i].solution_best.cost)\n",
    "        names.append(solutions[i].solution.problem.Warehouses[-1]['name'])\n",
    "    dictionary['running_times'], dictionary['costs'], dictionary['clusters'] = running_times, costs, names\n",
    "    stats.append(dictionary)\n",
    "print_stats(test_result)"
   ]
  },
  {
   "cell_type": "markdown",
   "metadata": {},
   "source": [
    "## Time fusing"
   ]
  },
  {
   "cell_type": "code",
   "execution_count": null,
   "metadata": {},
   "outputs": [],
   "source": [
    "time_step_val = [i for i in np.arange(max(0.5, time_step-1.5), time_step+2, 0.5)]            # initial value +-1.5\n",
    "name_parameter = 'Time fusing'\n",
    "\n",
    "stats = []\n",
    "test_result = {'parameter': name_parameter, 'stats': stats}\n",
    "for val in time_step_val:\n",
    "    time_step = val\n",
    "    dictionary = {'value': val}\n",
    "    print('Computing solution for {} = {}'.format(test_result['parameter'], dictionary['value']))\n",
    "    schools, warehouses, Q1, V_number, makes = excel_to_pb('../Data/Burundi final v2.xlsx', nbr_tours = nbr_tours)\n",
    "    problem = Problem(warehouses, schools, T, Q1, Q2, v, t_load, c_per_km, Tmax,V_number = V_number, makes = makes, t_virt = t_virt, H=H)\n",
    "    meta_params = Meta_param()\n",
    "    meta_params.rho_percent = rho_percent\n",
    "    meta_params.cooling = cooling_fac\n",
    "    solutions = problem.final_solver(meta_params, time_step=time_step , plot_cluster = False, info = False, comp_small_cl = True, return_var = True)\n",
    "    running_times, costs, names = [],[],[]\n",
    "    for i in range(len(solutions)):\n",
    "        running_times.append(solutions[i].running_time['Define problem'] + solutions[i].running_time['Solve problem '] + solutions[i].running_time['Compute TSPs'])\n",
    "        costs.append(solutions[i].solution_best.cost)\n",
    "        names.append(solutions[i].solution.problem.Warehouses[-1]['name'])\n",
    "    dictionary['running_times'], dictionary['costs'], dictionary['clusters'] = running_times, costs, names\n",
    "    stats.append(dictionary)\n",
    "print_stats(test_result)"
   ]
  },
  {
   "cell_type": "markdown",
   "metadata": {},
   "source": [
    "## Cooling factor"
   ]
  },
  {
   "cell_type": "code",
   "execution_count": null,
   "metadata": {},
   "outputs": [],
   "source": [
    "cooling_fac_val = [i for i in np.arange(max(0.01, cooling_fac-0.15), cooling_fac+0.2, 0.05)]            # initial value +- 0.15\n",
    "name_parameter = 'Cooling factor'\n",
    "\n",
    "stats = []\n",
    "test_result = {'parameter': name_parameter, 'stats': stats}\n",
    "for val in cooling_fac_val:\n",
    "    cooling_fac = val\n",
    "    dictionary = {'value': val}\n",
    "    print('Computing solution for {} = {}'.format(test_result['parameter'], dictionary['value']))\n",
    "    schools, warehouses, Q1, V_number, makes = excel_to_pb('../Data/Burundi final v2.xlsx', nbr_tours = nbr_tours)\n",
    "    problem = Problem(warehouses, schools, T, Q1, Q2, v, t_load, c_per_km, Tmax,V_number = V_number, makes = makes, t_virt = t_virt, H=H)\n",
    "    meta_params = Meta_param()\n",
    "    meta_params.rho_percent = rho_percent\n",
    "    meta_params.cooling = cooling_fac\n",
    "    solutions = problem.final_solver(meta_params, time_step=time_step , plot_cluster = False, info = False, comp_small_cl = True, return_var = True)\n",
    "    running_times, costs, names = [],[],[]\n",
    "    for i in range(len(solutions)):\n",
    "        running_times.append(solutions[i].running_time['Define problem'] + solutions[i].running_time['Solve problem '] + solutions[i].running_time['Compute TSPs'])\n",
    "        costs.append(solutions[i].solution_best.cost)\n",
    "        names.append(solutions[i].solution.problem.Warehouses[-1]['name'])\n",
    "    dictionary['running_times'], dictionary['costs'], dictionary['clusters'] = running_times, costs, names\n",
    "    stats.append(dictionary)\n",
    "print_stats(test_result)"
   ]
  },
  {
   "cell_type": "markdown",
   "metadata": {},
   "source": [
    "## Rho"
   ]
  },
  {
   "cell_type": "code",
   "execution_count": null,
   "metadata": {},
   "outputs": [],
   "source": [
    "rho_percent_val = [i for i in np.arange(max(0.05, time_step-0.2), time_step+0.3, 0.1)]            # initial value +- 0.2\n",
    "name_parameter = 'Rho'\n",
    "\n",
    "stats = []\n",
    "test_result = {'parameter': name_parameter, 'stats': stats}\n",
    "for val in rho_percent_val:\n",
    "    rho_percent = val\n",
    "    dictionary = {'value': val}\n",
    "    print('Computing solution for {} = {}'.format(test_result['parameter'], dictionary['value']))\n",
    "    schools, warehouses, Q1, V_number, makes = excel_to_pb('../Data/Burundi final v2.xlsx', nbr_tours = nbr_tours)\n",
    "    problem = Problem(warehouses, schools, T, Q1, Q2, v, t_load, c_per_km, Tmax,V_number = V_number, makes = makes, t_virt = t_virt, H=H)\n",
    "    meta_params = Meta_param()\n",
    "    meta_params.rho_percent = rho_percent\n",
    "    meta_params.cooling = cooling_fac\n",
    "    solutions = problem.final_solver(meta_params, time_step=time_step , plot_cluster = False, info = False, comp_small_cl = True, return_var = True)\n",
    "    running_times, costs, names = [],[],[]\n",
    "    for i in range(len(solutions)):\n",
    "        running_times.append(solutions[i].running_time['Define problem'] + solutions[i].running_time['Solve problem '] + solutions[i].running_time['Compute TSPs'])\n",
    "        costs.append(solutions[i].solution_best.cost)\n",
    "        names.append(solutions[i].solution.problem.Warehouses[-1]['name'])\n",
    "    dictionary['running_times'], dictionary['costs'], dictionary['clusters'] = running_times, costs, names\n",
    "    stats.append(dictionary)\n",
    "print_stats(test_result)"
   ]
  }
 ],
 "metadata": {
  "kernelspec": {
   "display_name": "Python 3",
   "language": "python",
   "name": "python3"
  },
  "language_info": {
   "codemirror_mode": {
    "name": "ipython",
    "version": 3
   },
   "file_extension": ".py",
   "mimetype": "text/x-python",
   "name": "python",
   "nbconvert_exporter": "python",
   "pygments_lexer": "ipython3",
   "version": "3.7.4"
  }
 },
 "nbformat": 4,
 "nbformat_minor": 2
}
