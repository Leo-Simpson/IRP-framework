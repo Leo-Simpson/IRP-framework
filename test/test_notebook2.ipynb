{
 "cells": [
  {
   "cell_type": "code",
   "execution_count": null,
   "metadata": {
    "ExecuteTime": {
     "start_time": "2020-07-17T11:03:06.165Z"
    },
    "tags": []
   },
   "outputs": [],
   "source": [
    "import sys\n",
    "#!{sys.executable} -m pip install \n",
    "#!conda install --yes --prefix {sys.prefix} \n",
    "sys.path.append('../')\n",
    "from ISI import Problem, Solution, excel_to_pb, Meta_param, Matheuristic\n",
    "import numpy as np\n",
    "from copy import deepcopy"
   ]
  },
  {
   "cell_type": "markdown",
   "metadata": {},
   "source": [
    "# Building problems"
   ]
  },
  {
   "cell_type": "code",
   "execution_count": null,
   "metadata": {
    "ExecuteTime": {
     "start_time": "2020-07-17T11:03:06.168Z"
    }
   },
   "outputs": [],
   "source": [
    "path = '../Data/Burundi final v2.xlsx'\n",
    "schools, warehouses, Q1, V_number, makes = excel_to_pb(path)\n",
    "problem_global = Problem(warehouses, schools, Q1, V_number=V_number, makes=makes, T=2, H=1, time_step=0.5)\n",
    "problem_global.time_fuse()"
   ]
  },
  {
   "cell_type": "code",
   "execution_count": null,
   "metadata": {
    "ExecuteTime": {
     "start_time": "2020-07-17T11:03:06.172Z"
    }
   },
   "outputs": [],
   "source": [
    "problems = problem_global.clustering()"
   ]
  },
  {
   "cell_type": "code",
   "execution_count": null,
   "metadata": {
    "ExecuteTime": {
     "start_time": "2020-07-17T11:03:06.176Z"
    }
   },
   "outputs": [],
   "source": [
    "problemBUJUMBURA,problemNGOZI,problemGITEGA = problems[0], problems[1], problems[2]"
   ]
  },
  {
   "cell_type": "code",
   "execution_count": null,
   "metadata": {
    "ExecuteTime": {
     "start_time": "2020-07-17T11:03:06.180Z"
    }
   },
   "outputs": [],
   "source": [
    "param = Meta_param(seed = 1)"
   ]
  },
  {
   "cell_type": "markdown",
   "metadata": {},
   "source": [
    "# Cluster of NGOZI"
   ]
  },
  {
   "cell_type": "code",
   "execution_count": null,
   "metadata": {
    "ExecuteTime": {
     "start_time": "2020-07-17T11:03:06.184Z"
    },
    "scrolled": true
   },
   "outputs": [],
   "source": [
    "problem = problemNGOZI"
   ]
  },
  {
   "cell_type": "markdown",
   "metadata": {},
   "source": [
    "## Default parameters"
   ]
  },
  {
   "cell_type": "code",
   "execution_count": null,
   "metadata": {
    "ExecuteTime": {
     "start_time": "2020-07-17T11:03:06.188Z"
    }
   },
   "outputs": [],
   "source": [
    "problem1 = problem.copy()\n",
    "problem1"
   ]
  },
  {
   "cell_type": "code",
   "execution_count": null,
   "metadata": {
    "ExecuteTime": {
     "start_time": "2020-07-17T11:03:06.191Z"
    }
   },
   "outputs": [],
   "source": [
    "param"
   ]
  },
  {
   "cell_type": "code",
   "execution_count": null,
   "metadata": {
    "ExecuteTime": {
     "start_time": "2020-07-17T11:03:06.196Z"
    },
    "scrolled": true
   },
   "outputs": [],
   "source": [
    "heuristic1 = Matheuristic(problem1,param)\n",
    "heuristic1.algo2()"
   ]
  },
  {
   "cell_type": "code",
   "execution_count": null,
   "metadata": {
    "ExecuteTime": {
     "start_time": "2020-07-17T11:03:06.200Z"
    },
    "scrolled": false
   },
   "outputs": [],
   "source": [
    "heuristic1.plot_steps()"
   ]
  },
  {
   "cell_type": "code",
   "execution_count": null,
   "metadata": {
    "ExecuteTime": {
     "start_time": "2020-07-17T11:03:06.204Z"
    }
   },
   "outputs": [],
   "source": [
    "heuristic1.solution_best"
   ]
  },
  {
   "cell_type": "markdown",
   "metadata": {},
   "source": [
    "## With double number of vehicules"
   ]
  },
  {
   "cell_type": "code",
   "execution_count": null,
   "metadata": {
    "ExecuteTime": {
     "start_time": "2020-07-17T11:03:06.207Z"
    }
   },
   "outputs": [],
   "source": [
    "problem2 = problem.copy()\n",
    "problem2.augment_v(2)\n",
    "problem2"
   ]
  },
  {
   "cell_type": "code",
   "execution_count": null,
   "metadata": {
    "ExecuteTime": {
     "start_time": "2020-07-17T11:03:06.211Z"
    }
   },
   "outputs": [],
   "source": [
    "param"
   ]
  },
  {
   "cell_type": "code",
   "execution_count": null,
   "metadata": {
    "ExecuteTime": {
     "start_time": "2020-07-17T11:03:06.214Z"
    },
    "scrolled": true
   },
   "outputs": [],
   "source": [
    "heuristic2 = Matheuristic(problem2,param)\n",
    "heuristic2.algo2()"
   ]
  },
  {
   "cell_type": "code",
   "execution_count": null,
   "metadata": {
    "ExecuteTime": {
     "start_time": "2020-07-17T11:03:06.218Z"
    },
    "code_folding": [],
    "scrolled": true
   },
   "outputs": [],
   "source": [
    "heuristic2.plot_steps()"
   ]
  },
  {
   "cell_type": "code",
   "execution_count": null,
   "metadata": {
    "ExecuteTime": {
     "start_time": "2020-07-17T11:03:06.221Z"
    }
   },
   "outputs": [],
   "source": [
    "heuristic2.solution_best"
   ]
  },
  {
   "cell_type": "markdown",
   "metadata": {},
   "source": [
    "## Without time splitting"
   ]
  },
  {
   "cell_type": "code",
   "execution_count": null,
   "metadata": {
    "ExecuteTime": {
     "start_time": "2020-07-17T11:03:06.225Z"
    }
   },
   "outputs": [],
   "source": [
    "problem3 = problem.copy()\n",
    "problem3.H = 2\n",
    "problem3"
   ]
  },
  {
   "cell_type": "code",
   "execution_count": null,
   "metadata": {
    "ExecuteTime": {
     "start_time": "2020-07-17T11:03:06.228Z"
    }
   },
   "outputs": [],
   "source": [
    "param"
   ]
  },
  {
   "cell_type": "code",
   "execution_count": null,
   "metadata": {
    "ExecuteTime": {
     "start_time": "2020-07-17T11:03:06.230Z"
    },
    "scrolled": true
   },
   "outputs": [],
   "source": [
    "heuristic3 = Matheuristic(problem3,param)\n",
    "heuristic3.algo2()"
   ]
  },
  {
   "cell_type": "code",
   "execution_count": null,
   "metadata": {
    "ExecuteTime": {
     "start_time": "2020-07-17T11:03:06.233Z"
    },
    "scrolled": true
   },
   "outputs": [],
   "source": [
    "heuristic3.plot_steps()"
   ]
  },
  {
   "cell_type": "code",
   "execution_count": null,
   "metadata": {
    "ExecuteTime": {
     "start_time": "2020-07-17T11:03:06.236Z"
    }
   },
   "outputs": [],
   "source": [
    "heuristic3.solution_best"
   ]
  },
  {
   "cell_type": "markdown",
   "metadata": {},
   "source": [
    "## Without virtual time step "
   ]
  },
  {
   "cell_type": "code",
   "execution_count": null,
   "metadata": {
    "ExecuteTime": {
     "start_time": "2020-07-17T11:03:06.239Z"
    }
   },
   "outputs": [],
   "source": [
    "problem4 = problem.copy()\n",
    "problem4.t_virt = 0\n",
    "problem4.time_fuse(1/problem.t_virt)\n",
    "problem4"
   ]
  },
  {
   "cell_type": "code",
   "execution_count": null,
   "metadata": {
    "ExecuteTime": {
     "start_time": "2020-07-17T11:03:06.242Z"
    }
   },
   "outputs": [],
   "source": [
    "param"
   ]
  },
  {
   "cell_type": "code",
   "execution_count": null,
   "metadata": {
    "ExecuteTime": {
     "start_time": "2020-07-17T11:03:06.245Z"
    },
    "scrolled": true
   },
   "outputs": [],
   "source": [
    "heuristic4 = Matheuristic(problem4,param)\n",
    "heuristic4.algo2()"
   ]
  },
  {
   "cell_type": "code",
   "execution_count": null,
   "metadata": {
    "ExecuteTime": {
     "start_time": "2020-07-17T11:03:06.248Z"
    },
    "scrolled": true
   },
   "outputs": [],
   "source": [
    "heuristic4.plot_steps()"
   ]
  },
  {
   "cell_type": "code",
   "execution_count": null,
   "metadata": {
    "ExecuteTime": {
     "start_time": "2020-07-17T11:03:06.251Z"
    }
   },
   "outputs": [],
   "source": [
    "heuristic4.solution_best"
   ]
  },
  {
   "cell_type": "markdown",
   "metadata": {},
   "source": [
    "## With higher rho"
   ]
  },
  {
   "cell_type": "code",
   "execution_count": null,
   "metadata": {
    "ExecuteTime": {
     "start_time": "2020-07-17T11:03:06.254Z"
    }
   },
   "outputs": [],
   "source": [
    "problem5 = problem.copy()\n",
    "problem5"
   ]
  },
  {
   "cell_type": "code",
   "execution_count": null,
   "metadata": {
    "ExecuteTime": {
     "start_time": "2020-07-17T11:03:06.256Z"
    }
   },
   "outputs": [],
   "source": [
    "param5 = deepcopy(param)\n",
    "param5.rho_percent = 0.6"
   ]
  },
  {
   "cell_type": "code",
   "execution_count": null,
   "metadata": {
    "ExecuteTime": {
     "start_time": "2020-07-17T11:03:06.259Z"
    },
    "scrolled": true
   },
   "outputs": [],
   "source": [
    "heuristic5 = Matheuristic(problem5,param5)\n",
    "heuristic5.algo2()"
   ]
  },
  {
   "cell_type": "code",
   "execution_count": null,
   "metadata": {
    "ExecuteTime": {
     "start_time": "2020-07-17T11:03:06.263Z"
    },
    "scrolled": true
   },
   "outputs": [],
   "source": [
    "heuristic5.plot_steps()"
   ]
  },
  {
   "cell_type": "code",
   "execution_count": null,
   "metadata": {
    "ExecuteTime": {
     "start_time": "2020-07-17T11:03:06.266Z"
    }
   },
   "outputs": [],
   "source": [
    "heuristic5.solution_best"
   ]
  },
  {
   "cell_type": "markdown",
   "metadata": {},
   "source": [
    "## With lower rho"
   ]
  },
  {
   "cell_type": "code",
   "execution_count": null,
   "metadata": {
    "ExecuteTime": {
     "start_time": "2020-07-17T11:03:06.269Z"
    }
   },
   "outputs": [],
   "source": [
    "problem6 = problem.copy()\n",
    "problem6"
   ]
  },
  {
   "cell_type": "code",
   "execution_count": null,
   "metadata": {
    "ExecuteTime": {
     "start_time": "2020-07-17T11:03:06.273Z"
    }
   },
   "outputs": [],
   "source": [
    "param6 = deepcopy(param)\n",
    "param6.rho_percent = 0.1"
   ]
  },
  {
   "cell_type": "code",
   "execution_count": null,
   "metadata": {
    "ExecuteTime": {
     "start_time": "2020-07-17T11:03:06.276Z"
    },
    "scrolled": true
   },
   "outputs": [],
   "source": [
    "heuristic6 = Matheuristic(problem6,param6)\n",
    "heuristic6.algo2()"
   ]
  },
  {
   "cell_type": "code",
   "execution_count": null,
   "metadata": {
    "ExecuteTime": {
     "start_time": "2020-07-17T11:03:06.279Z"
    },
    "scrolled": true
   },
   "outputs": [],
   "source": [
    "heuristic6.plot_steps()"
   ]
  },
  {
   "cell_type": "code",
   "execution_count": null,
   "metadata": {
    "ExecuteTime": {
     "start_time": "2020-07-17T11:03:06.282Z"
    }
   },
   "outputs": [],
   "source": [
    "heuristic6.solution_best"
   ]
  },
  {
   "cell_type": "code",
   "execution_count": null,
   "metadata": {},
   "outputs": [],
   "source": []
  }
 ],
 "metadata": {
  "kernelspec": {
   "display_name": "Python 3",
   "language": "python",
   "name": "python3"
  },
  "language_info": {
   "codemirror_mode": {
    "name": "ipython",
    "version": 3
   },
   "file_extension": ".py",
   "mimetype": "text/x-python",
   "name": "python",
   "nbconvert_exporter": "python",
   "pygments_lexer": "ipython3",
   "version": "3.6.8"
  },
  "toc": {
   "base_numbering": 1,
   "nav_menu": {},
   "number_sections": false,
   "sideBar": true,
   "skip_h1_title": false,
   "title_cell": "Table of Contents",
   "title_sidebar": "Contents",
   "toc_cell": false,
   "toc_position": {},
   "toc_section_display": true,
   "toc_window_display": true
  }
 },
 "nbformat": 4,
 "nbformat_minor": 2
}
